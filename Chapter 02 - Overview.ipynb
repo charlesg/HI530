{
 "cells": [
  {
   "cell_type": "markdown",
   "metadata": {
    "cell_id": "00000-d4d91271-f5e7-4dde-88f8-41b8afb4c7d4",
    "deepnote_cell_type": "markdown"
   },
   "source": [
    "# Chapter 2: Overview of the Data Mining Process\n",
    "\n",
    "> (c) 2019 Galit Shmueli, Peter C. Bruce, Peter Gedeck \n",
    ">\n",
    "> Code included in\n",
    ">\n",
    "> Data Mining for Business Analytics: Concepts, Techniques, and Applications in Python_ (First Edition)\n",
    "> Galit Shmueli, Peter C. Bruce, Peter Gedeck, and Nitin R. Patel. 2019.\n",
    "\n",
    "## Import required packages\n",
    "We use the pandas, the Python data anlysis library, for handling data. The API of this library is very similar to R data frames. See https://pandas.pydata.org/ for details."
   ]
  },
  {
   "cell_type": "code",
   "execution_count": 1,
   "metadata": {
    "cell_id": "00001-05676880-2806-45ec-8f73-82e3bc5907e7",
    "deepnote_cell_type": "code",
    "deepnote_to_be_reexecuted": false,
    "execution_millis": 874,
    "execution_start": 1609784960368,
    "source_hash": "69334a4f"
   },
   "outputs": [],
   "source": [
    "%matplotlib inline\n",
    "from pathlib import Path\n",
    "import numpy as np\n",
    "import pandas as pd\n",
    "from sklearn.model_selection import train_test_split\n",
    "from sklearn.metrics import r2_score\n",
    "from sklearn.linear_model import LinearRegression\n",
    "\n",
    "import matplotlib.pylab as plt"
   ]
  },
  {
   "cell_type": "markdown",
   "metadata": {
    "cell_id": "00002-64dc23f6-42cf-4a2e-a538-f9dc653f5edd",
    "deepnote_cell_type": "markdown"
   },
   "source": [
    "Note that we import some of the packages using an alias notation, to make the code more readable.\n",
    "```\n",
    "import <package> as <alias>\n",
    "```\n",
    "The aliases `np`, `pd`, and `plt` are commonly used in the data science community.\n",
    "\n",
    "The following statement defines the location of the data files in your file system. Here we assume that the data folder is located in the parent folder of this ipython notebook."
   ]
  },
  {
   "cell_type": "code",
   "execution_count": 1,
   "metadata": {
    "cell_id": "00003-258a3aee-c646-4404-b005-8cfa67a9ce68",
    "deepnote_cell_type": "code",
    "deepnote_to_be_reexecuted": false,
    "execution_millis": 4,
    "execution_start": 1609784961244,
    "source_hash": "b623e53d"
   },
   "outputs": [],
   "source": []
  },
  {
   "cell_type": "markdown",
   "metadata": {
    "cell_id": "00004-34453c0c-337c-4b81-8460-3d26d98f617f",
    "deepnote_cell_type": "markdown"
   },
   "source": [
    "## Table 2.3 \n",
    "Load the West Roxbury data set"
   ]
  },
  {
   "cell_type": "code",
   "execution_count": 2,
   "metadata": {
    "cell_id": "00005-eb8b182f-7ab4-4560-89f7-7c6cbfd2db72",
    "deepnote_cell_type": "code",
    "deepnote_to_be_reexecuted": false,
    "execution_millis": 12,
    "execution_start": 1609784961250,
    "source_hash": "a61d37f3"
   },
   "outputs": [],
   "source": [
    "housing_df = pd.read_csv('dmba/WestRoxbury.csv')"
   ]
  },
  {
   "cell_type": "markdown",
   "metadata": {
    "cell_id": "00006-92b4b30a-38d2-40a5-a057-167b0b95049f",
    "deepnote_cell_type": "markdown"
   },
   "source": [
    "Determine the shape of the data frame. It has 5802 rows and 14 columns"
   ]
  },
  {
   "cell_type": "code",
   "execution_count": 3,
   "metadata": {
    "cell_id": "00007-18dba7c9-1ba5-4af4-a479-a6bd0abe76f1",
    "deepnote_cell_type": "code",
    "deepnote_to_be_reexecuted": false,
    "execution_millis": 2,
    "execution_start": 1609784961267,
    "source_hash": "d8ef941b"
   },
   "outputs": [
    {
     "data": {
      "text/plain": [
       "(5802, 14)"
      ]
     },
     "execution_count": 3,
     "metadata": {},
     "output_type": "execute_result"
    }
   ],
   "source": [
    "housing_df.shape"
   ]
  },
  {
   "cell_type": "markdown",
   "metadata": {
    "cell_id": "00008-2f513c49-804a-412b-ad3c-d447925a1f9e",
    "deepnote_cell_type": "markdown"
   },
   "source": [
    "Show the top rows of the dataframe"
   ]
  },
  {
   "cell_type": "code",
   "execution_count": 4,
   "metadata": {
    "cell_id": "00009-a3fbab4c-b621-43ae-aea6-18c41f0be4aa",
    "deepnote_cell_type": "code",
    "deepnote_to_be_reexecuted": false,
    "execution_millis": 31,
    "execution_start": 1609784961275,
    "source_hash": "ce1005c4"
   },
   "outputs": [
    {
     "data": {
      "application/vnd.deepnote.dataframe.v2+json": {
       "column_count": 14,
       "columns": [
        {
         "dtype": "float64",
         "name": "TOTAL VALUE ",
         "stats": {
          "histogram": [
           {
            "bin_end": 346.95000000000005,
            "bin_start": 330.1,
            "count": 3
           },
           {
            "bin_end": 363.8,
            "bin_start": 346.95000000000005,
            "count": 0
           },
           {
            "bin_end": 380.65000000000003,
            "bin_start": 363.8,
            "count": 0
           },
           {
            "bin_end": 397.5,
            "bin_start": 380.65000000000003,
            "count": 0
           },
           {
            "bin_end": 414.35,
            "bin_start": 397.5,
            "count": 1
           },
           {
            "bin_end": 431.20000000000005,
            "bin_start": 414.35,
            "count": 0
           },
           {
            "bin_end": 448.05000000000007,
            "bin_start": 431.20000000000005,
            "count": 0
           },
           {
            "bin_end": 464.90000000000003,
            "bin_start": 448.05000000000007,
            "count": 0
           },
           {
            "bin_end": 481.75,
            "bin_start": 464.90000000000003,
            "count": 0
           },
           {
            "bin_end": 498.6,
            "bin_start": 481.75,
            "count": 1
           }
          ],
          "max": 498.6,
          "min": 330.1,
          "nan_count": 0,
          "unique_count": 5
         }
        },
        {
         "dtype": "int64",
         "name": "TAX",
         "stats": {
          "histogram": [
           {
            "bin_end": 4364,
            "bin_start": 4152,
            "count": 3
           },
           {
            "bin_end": 4576,
            "bin_start": 4364,
            "count": 0
           },
           {
            "bin_end": 4788,
            "bin_start": 4576,
            "count": 0
           },
           {
            "bin_end": 5000,
            "bin_start": 4788,
            "count": 0
           },
           {
            "bin_end": 5212,
            "bin_start": 5000,
            "count": 1
           },
           {
            "bin_end": 5424,
            "bin_start": 5212,
            "count": 0
           },
           {
            "bin_end": 5636,
            "bin_start": 5424,
            "count": 0
           },
           {
            "bin_end": 5848,
            "bin_start": 5636,
            "count": 0
           },
           {
            "bin_end": 6060,
            "bin_start": 5848,
            "count": 0
           },
           {
            "bin_end": 6272,
            "bin_start": 6060,
            "count": 1
           }
          ],
          "max": 6272,
          "min": 4152,
          "nan_count": 0,
          "unique_count": 5
         }
        },
        {
         "dtype": "int64",
         "name": "LOT SQFT ",
         "stats": {
          "histogram": [
           {
            "bin_end": 5877.3,
            "bin_start": 5000,
            "count": 1
           },
           {
            "bin_end": 6754.6,
            "bin_start": 5877.3,
            "count": 1
           },
           {
            "bin_end": 7631.9,
            "bin_start": 6754.6,
            "count": 1
           },
           {
            "bin_end": 8509.2,
            "bin_start": 7631.9,
            "count": 0
           },
           {
            "bin_end": 9386.5,
            "bin_start": 8509.2,
            "count": 0
           },
           {
            "bin_end": 10263.8,
            "bin_start": 9386.5,
            "count": 1
           },
           {
            "bin_end": 11141.099999999999,
            "bin_start": 10263.8,
            "count": 0
           },
           {
            "bin_end": 12018.4,
            "bin_start": 11141.099999999999,
            "count": 0
           },
           {
            "bin_end": 12895.7,
            "bin_start": 12018.4,
            "count": 0
           },
           {
            "bin_end": 13773,
            "bin_start": 12895.7,
            "count": 1
           }
          ],
          "max": 13773,
          "min": 5000,
          "nan_count": 0,
          "unique_count": 5
         }
        },
        {
         "dtype": "int64",
         "name": "YR BUILT",
         "stats": {
          "histogram": [
           {
            "bin_end": 1887.7,
            "bin_start": 1880,
            "count": 1
           },
           {
            "bin_end": 1895.4,
            "bin_start": 1887.7,
            "count": 1
           },
           {
            "bin_end": 1903.1,
            "bin_start": 1895.4,
            "count": 0
           },
           {
            "bin_end": 1910.8,
            "bin_start": 1903.1,
            "count": 1
           },
           {
            "bin_end": 1918.5,
            "bin_start": 1910.8,
            "count": 0
           },
           {
            "bin_end": 1926.2,
            "bin_start": 1918.5,
            "count": 0
           },
           {
            "bin_end": 1933.9,
            "bin_start": 1926.2,
            "count": 0
           },
           {
            "bin_end": 1941.6,
            "bin_start": 1933.9,
            "count": 0
           },
           {
            "bin_end": 1949.3,
            "bin_start": 1941.6,
            "count": 1
           },
           {
            "bin_end": 1957,
            "bin_start": 1949.3,
            "count": 1
           }
          ],
          "max": 1957,
          "min": 1880,
          "nan_count": 0,
          "unique_count": 5
         }
        },
        {
         "dtype": "int64",
         "name": "GROSS AREA ",
         "stats": {
          "histogram": [
           {
            "bin_end": 2567.8,
            "bin_start": 2294,
            "count": 3
           },
           {
            "bin_end": 2841.6,
            "bin_start": 2567.8,
            "count": 0
           },
           {
            "bin_end": 3115.4,
            "bin_start": 2841.6,
            "count": 1
           },
           {
            "bin_end": 3389.2,
            "bin_start": 3115.4,
            "count": 0
           },
           {
            "bin_end": 3663,
            "bin_start": 3389.2,
            "count": 0
           },
           {
            "bin_end": 3936.8,
            "bin_start": 3663,
            "count": 0
           },
           {
            "bin_end": 4210.6,
            "bin_start": 3936.8,
            "count": 0
           },
           {
            "bin_end": 4484.4,
            "bin_start": 4210.6,
            "count": 0
           },
           {
            "bin_end": 4758.200000000001,
            "bin_start": 4484.4,
            "count": 0
           },
           {
            "bin_end": 5032,
            "bin_start": 4758.200000000001,
            "count": 1
           }
          ],
          "max": 5032,
          "min": 2294,
          "nan_count": 0,
          "unique_count": 5
         }
        },
        {
         "dtype": "int64",
         "name": "LIVING AREA",
         "stats": {
          "histogram": [
           {
            "bin_end": 1477.6,
            "bin_start": 1352,
            "count": 3
           },
           {
            "bin_end": 1603.2,
            "bin_start": 1477.6,
            "count": 0
           },
           {
            "bin_end": 1728.8,
            "bin_start": 1603.2,
            "count": 0
           },
           {
            "bin_end": 1854.4,
            "bin_start": 1728.8,
            "count": 0
           },
           {
            "bin_end": 1980,
            "bin_start": 1854.4,
            "count": 1
           },
           {
            "bin_end": 2105.6,
            "bin_start": 1980,
            "count": 0
           },
           {
            "bin_end": 2231.2,
            "bin_start": 2105.6,
            "count": 0
           },
           {
            "bin_end": 2356.8,
            "bin_start": 2231.2,
            "count": 0
           },
           {
            "bin_end": 2482.3999999999996,
            "bin_start": 2356.8,
            "count": 0
           },
           {
            "bin_end": 2608,
            "bin_start": 2482.3999999999996,
            "count": 1
           }
          ],
          "max": 2608,
          "min": 1352,
          "nan_count": 0,
          "unique_count": 5
         }
        },
        {
         "dtype": "float64",
         "name": "FLOORS ",
         "stats": {
          "histogram": [
           {
            "bin_end": 1.1,
            "bin_start": 1,
            "count": 1
           },
           {
            "bin_end": 1.2,
            "bin_start": 1.1,
            "count": 0
           },
           {
            "bin_end": 1.3,
            "bin_start": 1.2,
            "count": 0
           },
           {
            "bin_end": 1.4,
            "bin_start": 1.3,
            "count": 0
           },
           {
            "bin_end": 1.5,
            "bin_start": 1.4,
            "count": 0
           },
           {
            "bin_end": 1.6,
            "bin_start": 1.5,
            "count": 0
           },
           {
            "bin_end": 1.7000000000000002,
            "bin_start": 1.6,
            "count": 0
           },
           {
            "bin_end": 1.8,
            "bin_start": 1.7000000000000002,
            "count": 0
           },
           {
            "bin_end": 1.9,
            "bin_start": 1.8,
            "count": 0
           },
           {
            "bin_end": 2,
            "bin_start": 1.9,
            "count": 4
           }
          ],
          "max": 2,
          "min": 1,
          "nan_count": 0,
          "unique_count": 2
         }
        },
        {
         "dtype": "int64",
         "name": "ROOMS",
         "stats": {
          "histogram": [
           {
            "bin_end": 6.4,
            "bin_start": 6,
            "count": 1
           },
           {
            "bin_end": 6.8,
            "bin_start": 6.4,
            "count": 0
           },
           {
            "bin_end": 7.2,
            "bin_start": 6.8,
            "count": 1
           },
           {
            "bin_end": 7.6,
            "bin_start": 7.2,
            "count": 0
           },
           {
            "bin_end": 8,
            "bin_start": 7.6,
            "count": 0
           },
           {
            "bin_end": 8.4,
            "bin_start": 8,
            "count": 1
           },
           {
            "bin_end": 8.8,
            "bin_start": 8.4,
            "count": 0
           },
           {
            "bin_end": 9.2,
            "bin_start": 8.8,
            "count": 1
           },
           {
            "bin_end": 9.6,
            "bin_start": 9.2,
            "count": 0
           },
           {
            "bin_end": 10,
            "bin_start": 9.6,
            "count": 1
           }
          ],
          "max": 10,
          "min": 6,
          "nan_count": 0,
          "unique_count": 5
         }
        },
        {
         "dtype": "int64",
         "name": "BEDROOMS ",
         "stats": {
          "histogram": [
           {
            "bin_end": 3.2,
            "bin_start": 3,
            "count": 2
           },
           {
            "bin_end": 3.4,
            "bin_start": 3.2,
            "count": 0
           },
           {
            "bin_end": 3.6,
            "bin_start": 3.4,
            "count": 0
           },
           {
            "bin_end": 3.8,
            "bin_start": 3.6,
            "count": 0
           },
           {
            "bin_end": 4,
            "bin_start": 3.8,
            "count": 0
           },
           {
            "bin_end": 4.2,
            "bin_start": 4,
            "count": 2
           },
           {
            "bin_end": 4.4,
            "bin_start": 4.2,
            "count": 0
           },
           {
            "bin_end": 4.6,
            "bin_start": 4.4,
            "count": 0
           },
           {
            "bin_end": 4.8,
            "bin_start": 4.6,
            "count": 0
           },
           {
            "bin_end": 5,
            "bin_start": 4.8,
            "count": 1
           }
          ],
          "max": 5,
          "min": 3,
          "nan_count": 0,
          "unique_count": 3
         }
        },
        {
         "dtype": "int64",
         "name": "FULL BATH",
         "stats": {
          "histogram": [
           {
            "bin_end": 1.1,
            "bin_start": 1,
            "count": 3
           },
           {
            "bin_end": 1.2,
            "bin_start": 1.1,
            "count": 0
           },
           {
            "bin_end": 1.3,
            "bin_start": 1.2,
            "count": 0
           },
           {
            "bin_end": 1.4,
            "bin_start": 1.3,
            "count": 0
           },
           {
            "bin_end": 1.5,
            "bin_start": 1.4,
            "count": 0
           },
           {
            "bin_end": 1.6,
            "bin_start": 1.5,
            "count": 0
           },
           {
            "bin_end": 1.7000000000000002,
            "bin_start": 1.6,
            "count": 0
           },
           {
            "bin_end": 1.8,
            "bin_start": 1.7000000000000002,
            "count": 0
           },
           {
            "bin_end": 1.9,
            "bin_start": 1.8,
            "count": 0
           },
           {
            "bin_end": 2,
            "bin_start": 1.9,
            "count": 2
           }
          ],
          "max": 2,
          "min": 1,
          "nan_count": 0,
          "unique_count": 2
         }
        },
        {
         "dtype": "int64",
         "name": "HALF BATH",
         "stats": {
          "histogram": [
           {
            "bin_end": 0.1,
            "bin_start": 0,
            "count": 1
           },
           {
            "bin_end": 0.2,
            "bin_start": 0.1,
            "count": 0
           },
           {
            "bin_end": 0.30000000000000004,
            "bin_start": 0.2,
            "count": 0
           },
           {
            "bin_end": 0.4,
            "bin_start": 0.30000000000000004,
            "count": 0
           },
           {
            "bin_end": 0.5,
            "bin_start": 0.4,
            "count": 0
           },
           {
            "bin_end": 0.6000000000000001,
            "bin_start": 0.5,
            "count": 0
           },
           {
            "bin_end": 0.7000000000000001,
            "bin_start": 0.6000000000000001,
            "count": 0
           },
           {
            "bin_end": 0.8,
            "bin_start": 0.7000000000000001,
            "count": 0
           },
           {
            "bin_end": 0.9,
            "bin_start": 0.8,
            "count": 0
           },
           {
            "bin_end": 1,
            "bin_start": 0.9,
            "count": 4
           }
          ],
          "max": 1,
          "min": 0,
          "nan_count": 0,
          "unique_count": 2
         }
        },
        {
         "dtype": "int64",
         "name": "KITCHEN",
         "stats": {
          "histogram": [
           {
            "bin_end": 0.6,
            "bin_start": 0.5,
            "count": 0
           },
           {
            "bin_end": 0.7,
            "bin_start": 0.6,
            "count": 0
           },
           {
            "bin_end": 0.8,
            "bin_start": 0.7,
            "count": 0
           },
           {
            "bin_end": 0.9,
            "bin_start": 0.8,
            "count": 0
           },
           {
            "bin_end": 1,
            "bin_start": 0.9,
            "count": 0
           },
           {
            "bin_end": 1.1,
            "bin_start": 1,
            "count": 5
           },
           {
            "bin_end": 1.2000000000000002,
            "bin_start": 1.1,
            "count": 0
           },
           {
            "bin_end": 1.3,
            "bin_start": 1.2000000000000002,
            "count": 0
           },
           {
            "bin_end": 1.4,
            "bin_start": 1.3,
            "count": 0
           },
           {
            "bin_end": 1.5,
            "bin_start": 1.4,
            "count": 0
           }
          ],
          "max": 1,
          "min": 1,
          "nan_count": 0,
          "unique_count": 1
         }
        },
        {
         "dtype": "int64",
         "name": "FIREPLACE",
         "stats": {
          "histogram": [
           {
            "bin_end": 0.1,
            "bin_start": 0,
            "count": 4
           },
           {
            "bin_end": 0.2,
            "bin_start": 0.1,
            "count": 0
           },
           {
            "bin_end": 0.30000000000000004,
            "bin_start": 0.2,
            "count": 0
           },
           {
            "bin_end": 0.4,
            "bin_start": 0.30000000000000004,
            "count": 0
           },
           {
            "bin_end": 0.5,
            "bin_start": 0.4,
            "count": 0
           },
           {
            "bin_end": 0.6000000000000001,
            "bin_start": 0.5,
            "count": 0
           },
           {
            "bin_end": 0.7000000000000001,
            "bin_start": 0.6000000000000001,
            "count": 0
           },
           {
            "bin_end": 0.8,
            "bin_start": 0.7000000000000001,
            "count": 0
           },
           {
            "bin_end": 0.9,
            "bin_start": 0.8,
            "count": 0
           },
           {
            "bin_end": 1,
            "bin_start": 0.9,
            "count": 1
           }
          ],
          "max": 1,
          "min": 0,
          "nan_count": 0,
          "unique_count": 2
         }
        },
        {
         "dtype": "object",
         "name": "REMODEL",
         "stats": {
          "categories": [
           {
            "count": 4,
            "name": "None"
           },
           {
            "count": 1,
            "name": "Recent"
           }
          ],
          "nan_count": 0,
          "unique_count": 2
         }
        },
        {
         "dtype": "int64",
         "name": "_deepnote_index_column"
        }
       ],
       "row_count": 5,
       "rows_bottom": null,
       "rows_top": [
        {
         "BEDROOMS ": 3,
         "FIREPLACE": 0,
         "FLOORS ": 2,
         "FULL BATH": 1,
         "GROSS AREA ": 2436,
         "HALF BATH": 1,
         "KITCHEN": 1,
         "LIVING AREA": 1352,
         "LOT SQFT ": 9965,
         "REMODEL": "None",
         "ROOMS": 6,
         "TAX": 4330,
         "TOTAL VALUE ": 344.2,
         "YR BUILT": 1880,
         "_deepnote_index_column": 0
        },
        {
         "BEDROOMS ": 4,
         "FIREPLACE": 0,
         "FLOORS ": 2,
         "FULL BATH": 2,
         "GROSS AREA ": 3108,
         "HALF BATH": 1,
         "KITCHEN": 1,
         "LIVING AREA": 1976,
         "LOT SQFT ": 6590,
         "REMODEL": "Recent",
         "ROOMS": 10,
         "TAX": 5190,
         "TOTAL VALUE ": 412.6,
         "YR BUILT": 1945,
         "_deepnote_index_column": 1
        },
        {
         "BEDROOMS ": 4,
         "FIREPLACE": 0,
         "FLOORS ": 2,
         "FULL BATH": 1,
         "GROSS AREA ": 2294,
         "HALF BATH": 1,
         "KITCHEN": 1,
         "LIVING AREA": 1371,
         "LOT SQFT ": 7500,
         "REMODEL": "None",
         "ROOMS": 8,
         "TAX": 4152,
         "TOTAL VALUE ": 330.1,
         "YR BUILT": 1890,
         "_deepnote_index_column": 2
        },
        {
         "BEDROOMS ": 5,
         "FIREPLACE": 1,
         "FLOORS ": 1,
         "FULL BATH": 1,
         "GROSS AREA ": 5032,
         "HALF BATH": 1,
         "KITCHEN": 1,
         "LIVING AREA": 2608,
         "LOT SQFT ": 13773,
         "REMODEL": "None",
         "ROOMS": 9,
         "TAX": 6272,
         "TOTAL VALUE ": 498.6,
         "YR BUILT": 1957,
         "_deepnote_index_column": 3
        },
        {
         "BEDROOMS ": 3,
         "FIREPLACE": 0,
         "FLOORS ": 2,
         "FULL BATH": 2,
         "GROSS AREA ": 2370,
         "HALF BATH": 0,
         "KITCHEN": 1,
         "LIVING AREA": 1438,
         "LOT SQFT ": 5000,
         "REMODEL": "None",
         "ROOMS": 7,
         "TAX": 4170,
         "TOTAL VALUE ": 331.5,
         "YR BUILT": 1910,
         "_deepnote_index_column": 4
        }
       ]
      },
      "text/html": [
       "<div>\n",
       "<style scoped>\n",
       "    .dataframe tbody tr th:only-of-type {\n",
       "        vertical-align: middle;\n",
       "    }\n",
       "\n",
       "    .dataframe tbody tr th {\n",
       "        vertical-align: top;\n",
       "    }\n",
       "\n",
       "    .dataframe thead th {\n",
       "        text-align: right;\n",
       "    }\n",
       "</style>\n",
       "<table border=\"1\" class=\"dataframe\">\n",
       "  <thead>\n",
       "    <tr style=\"text-align: right;\">\n",
       "      <th></th>\n",
       "      <th>TOTAL VALUE</th>\n",
       "      <th>TAX</th>\n",
       "      <th>LOT SQFT</th>\n",
       "      <th>YR BUILT</th>\n",
       "      <th>GROSS AREA</th>\n",
       "      <th>LIVING AREA</th>\n",
       "      <th>FLOORS</th>\n",
       "      <th>ROOMS</th>\n",
       "      <th>BEDROOMS</th>\n",
       "      <th>FULL BATH</th>\n",
       "      <th>HALF BATH</th>\n",
       "      <th>KITCHEN</th>\n",
       "      <th>FIREPLACE</th>\n",
       "      <th>REMODEL</th>\n",
       "    </tr>\n",
       "  </thead>\n",
       "  <tbody>\n",
       "    <tr>\n",
       "      <th>0</th>\n",
       "      <td>344.2</td>\n",
       "      <td>4330</td>\n",
       "      <td>9965</td>\n",
       "      <td>1880</td>\n",
       "      <td>2436</td>\n",
       "      <td>1352</td>\n",
       "      <td>2.0</td>\n",
       "      <td>6</td>\n",
       "      <td>3</td>\n",
       "      <td>1</td>\n",
       "      <td>1</td>\n",
       "      <td>1</td>\n",
       "      <td>0</td>\n",
       "      <td>None</td>\n",
       "    </tr>\n",
       "    <tr>\n",
       "      <th>1</th>\n",
       "      <td>412.6</td>\n",
       "      <td>5190</td>\n",
       "      <td>6590</td>\n",
       "      <td>1945</td>\n",
       "      <td>3108</td>\n",
       "      <td>1976</td>\n",
       "      <td>2.0</td>\n",
       "      <td>10</td>\n",
       "      <td>4</td>\n",
       "      <td>2</td>\n",
       "      <td>1</td>\n",
       "      <td>1</td>\n",
       "      <td>0</td>\n",
       "      <td>Recent</td>\n",
       "    </tr>\n",
       "    <tr>\n",
       "      <th>2</th>\n",
       "      <td>330.1</td>\n",
       "      <td>4152</td>\n",
       "      <td>7500</td>\n",
       "      <td>1890</td>\n",
       "      <td>2294</td>\n",
       "      <td>1371</td>\n",
       "      <td>2.0</td>\n",
       "      <td>8</td>\n",
       "      <td>4</td>\n",
       "      <td>1</td>\n",
       "      <td>1</td>\n",
       "      <td>1</td>\n",
       "      <td>0</td>\n",
       "      <td>None</td>\n",
       "    </tr>\n",
       "    <tr>\n",
       "      <th>3</th>\n",
       "      <td>498.6</td>\n",
       "      <td>6272</td>\n",
       "      <td>13773</td>\n",
       "      <td>1957</td>\n",
       "      <td>5032</td>\n",
       "      <td>2608</td>\n",
       "      <td>1.0</td>\n",
       "      <td>9</td>\n",
       "      <td>5</td>\n",
       "      <td>1</td>\n",
       "      <td>1</td>\n",
       "      <td>1</td>\n",
       "      <td>1</td>\n",
       "      <td>None</td>\n",
       "    </tr>\n",
       "    <tr>\n",
       "      <th>4</th>\n",
       "      <td>331.5</td>\n",
       "      <td>4170</td>\n",
       "      <td>5000</td>\n",
       "      <td>1910</td>\n",
       "      <td>2370</td>\n",
       "      <td>1438</td>\n",
       "      <td>2.0</td>\n",
       "      <td>7</td>\n",
       "      <td>3</td>\n",
       "      <td>2</td>\n",
       "      <td>0</td>\n",
       "      <td>1</td>\n",
       "      <td>0</td>\n",
       "      <td>None</td>\n",
       "    </tr>\n",
       "  </tbody>\n",
       "</table>\n",
       "</div>"
      ],
      "text/plain": [
       "   TOTAL VALUE    TAX  LOT SQFT   YR BUILT  GROSS AREA   LIVING AREA  FLOORS   \\\n",
       "0         344.2  4330       9965      1880         2436         1352      2.0   \n",
       "1         412.6  5190       6590      1945         3108         1976      2.0   \n",
       "2         330.1  4152       7500      1890         2294         1371      2.0   \n",
       "3         498.6  6272      13773      1957         5032         2608      1.0   \n",
       "4         331.5  4170       5000      1910         2370         1438      2.0   \n",
       "\n",
       "   ROOMS  BEDROOMS   FULL BATH  HALF BATH  KITCHEN  FIREPLACE REMODEL  \n",
       "0      6          3          1          1        1          0    None  \n",
       "1     10          4          2          1        1          0  Recent  \n",
       "2      8          4          1          1        1          0    None  \n",
       "3      9          5          1          1        1          1    None  \n",
       "4      7          3          2          0        1          0    None  "
      ]
     },
     "execution_count": 4,
     "metadata": {},
     "output_type": "execute_result"
    }
   ],
   "source": [
    "housing_df.head()"
   ]
  },
  {
   "cell_type": "markdown",
   "metadata": {
    "cell_id": "00010-9a64dd08-490d-4a2e-968b-940f1d0cd985",
    "deepnote_cell_type": "markdown"
   },
   "source": [
    "## Cleanup\n",
    "Preprocessing and cleaning up data is an important aspect of data analysis. \n",
    "\n",
    "Show the column names."
   ]
  },
  {
   "cell_type": "code",
   "execution_count": 5,
   "metadata": {
    "cell_id": "00011-aa1e6136-6f39-4504-8622-1b1f9202ab42",
    "deepnote_cell_type": "code",
    "deepnote_to_be_reexecuted": false,
    "execution_millis": 4,
    "execution_start": 1609784961308,
    "source_hash": "10699db6"
   },
   "outputs": [
    {
     "data": {
      "text/plain": [
       "Index(['TOTAL VALUE ', 'TAX', 'LOT SQFT ', 'YR BUILT', 'GROSS AREA ',\n",
       "       'LIVING AREA', 'FLOORS ', 'ROOMS', 'BEDROOMS ', 'FULL BATH',\n",
       "       'HALF BATH', 'KITCHEN', 'FIREPLACE', 'REMODEL'],\n",
       "      dtype='object')"
      ]
     },
     "execution_count": 5,
     "metadata": {},
     "output_type": "execute_result"
    }
   ],
   "source": [
    "housing_df.columns"
   ]
  },
  {
   "cell_type": "markdown",
   "metadata": {
    "cell_id": "00012-7119a28c-1de1-435f-8b97-fc797030aec3",
    "deepnote_cell_type": "markdown"
   },
   "source": [
    "Note that some column titles end with spaces and some consist of two space separated words. For further analysis it's more convenient to have column names which are single words. \n",
    "\n",
    "In the rename command you can specify individual columns by name and provide their new name using a dictionary. Note that we use the `inplace` argument here. This means that the data frame is modified directly. By default, the modification is done on a copy and the copy returned by the method."
   ]
  },
  {
   "cell_type": "code",
   "execution_count": 6,
   "metadata": {
    "cell_id": "00013-659c3dea-fd5d-4ee6-9d6d-4802abc6b912",
    "deepnote_cell_type": "code",
    "deepnote_to_be_reexecuted": false,
    "execution_millis": 1,
    "execution_start": 1609784961321,
    "source_hash": "28d963d2"
   },
   "outputs": [
    {
     "data": {
      "text/plain": [
       "Index(['TOTAL_VALUE', 'TAX', 'LOT SQFT ', 'YR BUILT', 'GROSS AREA ',\n",
       "       'LIVING AREA', 'FLOORS ', 'ROOMS', 'BEDROOMS ', 'FULL BATH',\n",
       "       'HALF BATH', 'KITCHEN', 'FIREPLACE', 'REMODEL'],\n",
       "      dtype='object')"
      ]
     },
     "execution_count": 6,
     "metadata": {},
     "output_type": "execute_result"
    }
   ],
   "source": [
    "housing_df = housing_df.rename(columns={'TOTAL VALUE ': 'TOTAL_VALUE'})\n",
    "housing_df.columns"
   ]
  },
  {
   "cell_type": "markdown",
   "metadata": {
    "cell_id": "00014-f7853042-7ff1-48e6-8993-d5710bf9a36f",
    "deepnote_cell_type": "markdown"
   },
   "source": [
    "We therefore strip trailing spaces and replace the remaining spaces with an underscore _. Instead of using the `rename` method, we create a modified copy of `columns` and assign to the `columns` field of the dataframe."
   ]
  },
  {
   "cell_type": "code",
   "execution_count": 7,
   "metadata": {
    "cell_id": "00015-d6e759bf-dafe-4c0b-8fca-99a153787da4",
    "deepnote_cell_type": "code",
    "deepnote_to_be_reexecuted": false,
    "execution_millis": 1,
    "execution_start": 1609784961323,
    "source_hash": "a50e26a2"
   },
   "outputs": [
    {
     "data": {
      "text/plain": [
       "Index(['TOTAL_VALUE', 'TAX', 'LOT_SQFT', 'YR_BUILT', 'GROSS_AREA',\n",
       "       'LIVING_AREA', 'FLOORS', 'ROOMS', 'BEDROOMS', 'FULL_BATH', 'HALF_BATH',\n",
       "       'KITCHEN', 'FIREPLACE', 'REMODEL'],\n",
       "      dtype='object')"
      ]
     },
     "execution_count": 7,
     "metadata": {},
     "output_type": "execute_result"
    }
   ],
   "source": [
    "housing_df.columns = [s.strip().replace(' ', '_') for s in housing_df.columns]\n",
    "housing_df.columns"
   ]
  },
  {
   "cell_type": "markdown",
   "metadata": {
    "cell_id": "00016-e1872688-ea6b-4fab-9cdd-15a367f272c7",
    "deepnote_cell_type": "markdown"
   },
   "source": [
    "## Accessing subsets of the data\n",
    "Pandas uses two methods to access rows in a data frame; `loc` and `iloc`. The `loc` method is more general and allows accessing rows using labels. The `iloc` method on the other hand only allows using integer numbers. To specify a range of rows use the slice notation, e.g. `0:9`.\n",
    "\n",
    "<div class='alert alert-info'>Note that in contrast to R, Python uses 0-indexing, which means that indices start at 0 and not at 1.</div>\n",
    "\n",
    "To show the first four rows of the data frame, you can use the following commands."
   ]
  },
  {
   "cell_type": "code",
   "execution_count": 8,
   "metadata": {
    "cell_id": "00017-222bdc09-3d83-42e8-9f25-fb827f0e9474",
    "deepnote_cell_type": "code",
    "deepnote_to_be_reexecuted": false,
    "execution_millis": 2,
    "execution_start": 1609784961359,
    "source_hash": "34de78a2"
   },
   "outputs": [
    {
     "data": {
      "application/vnd.deepnote.dataframe.v2+json": {
       "column_count": 14,
       "columns": [
        {
         "dtype": "float64",
         "name": "TOTAL_VALUE",
         "stats": {
          "histogram": [
           {
            "bin_end": 346.95000000000005,
            "bin_start": 330.1,
            "count": 2
           },
           {
            "bin_end": 363.8,
            "bin_start": 346.95000000000005,
            "count": 0
           },
           {
            "bin_end": 380.65000000000003,
            "bin_start": 363.8,
            "count": 0
           },
           {
            "bin_end": 397.5,
            "bin_start": 380.65000000000003,
            "count": 0
           },
           {
            "bin_end": 414.35,
            "bin_start": 397.5,
            "count": 1
           },
           {
            "bin_end": 431.20000000000005,
            "bin_start": 414.35,
            "count": 0
           },
           {
            "bin_end": 448.05000000000007,
            "bin_start": 431.20000000000005,
            "count": 0
           },
           {
            "bin_end": 464.90000000000003,
            "bin_start": 448.05000000000007,
            "count": 0
           },
           {
            "bin_end": 481.75,
            "bin_start": 464.90000000000003,
            "count": 0
           },
           {
            "bin_end": 498.6,
            "bin_start": 481.75,
            "count": 1
           }
          ],
          "max": 498.6,
          "min": 330.1,
          "nan_count": 0,
          "unique_count": 4
         }
        },
        {
         "dtype": "int64",
         "name": "TAX",
         "stats": {
          "histogram": [
           {
            "bin_end": 4364,
            "bin_start": 4152,
            "count": 2
           },
           {
            "bin_end": 4576,
            "bin_start": 4364,
            "count": 0
           },
           {
            "bin_end": 4788,
            "bin_start": 4576,
            "count": 0
           },
           {
            "bin_end": 5000,
            "bin_start": 4788,
            "count": 0
           },
           {
            "bin_end": 5212,
            "bin_start": 5000,
            "count": 1
           },
           {
            "bin_end": 5424,
            "bin_start": 5212,
            "count": 0
           },
           {
            "bin_end": 5636,
            "bin_start": 5424,
            "count": 0
           },
           {
            "bin_end": 5848,
            "bin_start": 5636,
            "count": 0
           },
           {
            "bin_end": 6060,
            "bin_start": 5848,
            "count": 0
           },
           {
            "bin_end": 6272,
            "bin_start": 6060,
            "count": 1
           }
          ],
          "max": 6272,
          "min": 4152,
          "nan_count": 0,
          "unique_count": 4
         }
        },
        {
         "dtype": "int64",
         "name": "LOT_SQFT",
         "stats": {
          "histogram": [
           {
            "bin_end": 7308.3,
            "bin_start": 6590,
            "count": 1
           },
           {
            "bin_end": 8026.6,
            "bin_start": 7308.3,
            "count": 1
           },
           {
            "bin_end": 8744.9,
            "bin_start": 8026.6,
            "count": 0
           },
           {
            "bin_end": 9463.2,
            "bin_start": 8744.9,
            "count": 0
           },
           {
            "bin_end": 10181.5,
            "bin_start": 9463.2,
            "count": 1
           },
           {
            "bin_end": 10899.8,
            "bin_start": 10181.5,
            "count": 0
           },
           {
            "bin_end": 11618.099999999999,
            "bin_start": 10899.8,
            "count": 0
           },
           {
            "bin_end": 12336.4,
            "bin_start": 11618.099999999999,
            "count": 0
           },
           {
            "bin_end": 13054.7,
            "bin_start": 12336.4,
            "count": 0
           },
           {
            "bin_end": 13773,
            "bin_start": 13054.7,
            "count": 1
           }
          ],
          "max": 13773,
          "min": 6590,
          "nan_count": 0,
          "unique_count": 4
         }
        },
        {
         "dtype": "int64",
         "name": "YR_BUILT",
         "stats": {
          "histogram": [
           {
            "bin_end": 1887.7,
            "bin_start": 1880,
            "count": 1
           },
           {
            "bin_end": 1895.4,
            "bin_start": 1887.7,
            "count": 1
           },
           {
            "bin_end": 1903.1,
            "bin_start": 1895.4,
            "count": 0
           },
           {
            "bin_end": 1910.8,
            "bin_start": 1903.1,
            "count": 0
           },
           {
            "bin_end": 1918.5,
            "bin_start": 1910.8,
            "count": 0
           },
           {
            "bin_end": 1926.2,
            "bin_start": 1918.5,
            "count": 0
           },
           {
            "bin_end": 1933.9,
            "bin_start": 1926.2,
            "count": 0
           },
           {
            "bin_end": 1941.6,
            "bin_start": 1933.9,
            "count": 0
           },
           {
            "bin_end": 1949.3,
            "bin_start": 1941.6,
            "count": 1
           },
           {
            "bin_end": 1957,
            "bin_start": 1949.3,
            "count": 1
           }
          ],
          "max": 1957,
          "min": 1880,
          "nan_count": 0,
          "unique_count": 4
         }
        },
        {
         "dtype": "int64",
         "name": "GROSS_AREA",
         "stats": {
          "histogram": [
           {
            "bin_end": 2567.8,
            "bin_start": 2294,
            "count": 2
           },
           {
            "bin_end": 2841.6,
            "bin_start": 2567.8,
            "count": 0
           },
           {
            "bin_end": 3115.4,
            "bin_start": 2841.6,
            "count": 1
           },
           {
            "bin_end": 3389.2,
            "bin_start": 3115.4,
            "count": 0
           },
           {
            "bin_end": 3663,
            "bin_start": 3389.2,
            "count": 0
           },
           {
            "bin_end": 3936.8,
            "bin_start": 3663,
            "count": 0
           },
           {
            "bin_end": 4210.6,
            "bin_start": 3936.8,
            "count": 0
           },
           {
            "bin_end": 4484.4,
            "bin_start": 4210.6,
            "count": 0
           },
           {
            "bin_end": 4758.200000000001,
            "bin_start": 4484.4,
            "count": 0
           },
           {
            "bin_end": 5032,
            "bin_start": 4758.200000000001,
            "count": 1
           }
          ],
          "max": 5032,
          "min": 2294,
          "nan_count": 0,
          "unique_count": 4
         }
        },
        {
         "dtype": "int64",
         "name": "LIVING_AREA",
         "stats": {
          "histogram": [
           {
            "bin_end": 1477.6,
            "bin_start": 1352,
            "count": 2
           },
           {
            "bin_end": 1603.2,
            "bin_start": 1477.6,
            "count": 0
           },
           {
            "bin_end": 1728.8,
            "bin_start": 1603.2,
            "count": 0
           },
           {
            "bin_end": 1854.4,
            "bin_start": 1728.8,
            "count": 0
           },
           {
            "bin_end": 1980,
            "bin_start": 1854.4,
            "count": 1
           },
           {
            "bin_end": 2105.6,
            "bin_start": 1980,
            "count": 0
           },
           {
            "bin_end": 2231.2,
            "bin_start": 2105.6,
            "count": 0
           },
           {
            "bin_end": 2356.8,
            "bin_start": 2231.2,
            "count": 0
           },
           {
            "bin_end": 2482.3999999999996,
            "bin_start": 2356.8,
            "count": 0
           },
           {
            "bin_end": 2608,
            "bin_start": 2482.3999999999996,
            "count": 1
           }
          ],
          "max": 2608,
          "min": 1352,
          "nan_count": 0,
          "unique_count": 4
         }
        },
        {
         "dtype": "float64",
         "name": "FLOORS",
         "stats": {
          "histogram": [
           {
            "bin_end": 1.1,
            "bin_start": 1,
            "count": 1
           },
           {
            "bin_end": 1.2,
            "bin_start": 1.1,
            "count": 0
           },
           {
            "bin_end": 1.3,
            "bin_start": 1.2,
            "count": 0
           },
           {
            "bin_end": 1.4,
            "bin_start": 1.3,
            "count": 0
           },
           {
            "bin_end": 1.5,
            "bin_start": 1.4,
            "count": 0
           },
           {
            "bin_end": 1.6,
            "bin_start": 1.5,
            "count": 0
           },
           {
            "bin_end": 1.7000000000000002,
            "bin_start": 1.6,
            "count": 0
           },
           {
            "bin_end": 1.8,
            "bin_start": 1.7000000000000002,
            "count": 0
           },
           {
            "bin_end": 1.9,
            "bin_start": 1.8,
            "count": 0
           },
           {
            "bin_end": 2,
            "bin_start": 1.9,
            "count": 3
           }
          ],
          "max": 2,
          "min": 1,
          "nan_count": 0,
          "unique_count": 2
         }
        },
        {
         "dtype": "int64",
         "name": "ROOMS",
         "stats": {
          "histogram": [
           {
            "bin_end": 6.4,
            "bin_start": 6,
            "count": 1
           },
           {
            "bin_end": 6.8,
            "bin_start": 6.4,
            "count": 0
           },
           {
            "bin_end": 7.2,
            "bin_start": 6.8,
            "count": 0
           },
           {
            "bin_end": 7.6,
            "bin_start": 7.2,
            "count": 0
           },
           {
            "bin_end": 8,
            "bin_start": 7.6,
            "count": 0
           },
           {
            "bin_end": 8.4,
            "bin_start": 8,
            "count": 1
           },
           {
            "bin_end": 8.8,
            "bin_start": 8.4,
            "count": 0
           },
           {
            "bin_end": 9.2,
            "bin_start": 8.8,
            "count": 1
           },
           {
            "bin_end": 9.6,
            "bin_start": 9.2,
            "count": 0
           },
           {
            "bin_end": 10,
            "bin_start": 9.6,
            "count": 1
           }
          ],
          "max": 10,
          "min": 6,
          "nan_count": 0,
          "unique_count": 4
         }
        },
        {
         "dtype": "int64",
         "name": "BEDROOMS",
         "stats": {
          "histogram": [
           {
            "bin_end": 3.2,
            "bin_start": 3,
            "count": 1
           },
           {
            "bin_end": 3.4,
            "bin_start": 3.2,
            "count": 0
           },
           {
            "bin_end": 3.6,
            "bin_start": 3.4,
            "count": 0
           },
           {
            "bin_end": 3.8,
            "bin_start": 3.6,
            "count": 0
           },
           {
            "bin_end": 4,
            "bin_start": 3.8,
            "count": 0
           },
           {
            "bin_end": 4.2,
            "bin_start": 4,
            "count": 2
           },
           {
            "bin_end": 4.4,
            "bin_start": 4.2,
            "count": 0
           },
           {
            "bin_end": 4.6,
            "bin_start": 4.4,
            "count": 0
           },
           {
            "bin_end": 4.8,
            "bin_start": 4.6,
            "count": 0
           },
           {
            "bin_end": 5,
            "bin_start": 4.8,
            "count": 1
           }
          ],
          "max": 5,
          "min": 3,
          "nan_count": 0,
          "unique_count": 3
         }
        },
        {
         "dtype": "int64",
         "name": "FULL_BATH",
         "stats": {
          "histogram": [
           {
            "bin_end": 1.1,
            "bin_start": 1,
            "count": 3
           },
           {
            "bin_end": 1.2,
            "bin_start": 1.1,
            "count": 0
           },
           {
            "bin_end": 1.3,
            "bin_start": 1.2,
            "count": 0
           },
           {
            "bin_end": 1.4,
            "bin_start": 1.3,
            "count": 0
           },
           {
            "bin_end": 1.5,
            "bin_start": 1.4,
            "count": 0
           },
           {
            "bin_end": 1.6,
            "bin_start": 1.5,
            "count": 0
           },
           {
            "bin_end": 1.7000000000000002,
            "bin_start": 1.6,
            "count": 0
           },
           {
            "bin_end": 1.8,
            "bin_start": 1.7000000000000002,
            "count": 0
           },
           {
            "bin_end": 1.9,
            "bin_start": 1.8,
            "count": 0
           },
           {
            "bin_end": 2,
            "bin_start": 1.9,
            "count": 1
           }
          ],
          "max": 2,
          "min": 1,
          "nan_count": 0,
          "unique_count": 2
         }
        },
        {
         "dtype": "int64",
         "name": "HALF_BATH",
         "stats": {
          "histogram": [
           {
            "bin_end": 0.6,
            "bin_start": 0.5,
            "count": 0
           },
           {
            "bin_end": 0.7,
            "bin_start": 0.6,
            "count": 0
           },
           {
            "bin_end": 0.8,
            "bin_start": 0.7,
            "count": 0
           },
           {
            "bin_end": 0.9,
            "bin_start": 0.8,
            "count": 0
           },
           {
            "bin_end": 1,
            "bin_start": 0.9,
            "count": 0
           },
           {
            "bin_end": 1.1,
            "bin_start": 1,
            "count": 4
           },
           {
            "bin_end": 1.2000000000000002,
            "bin_start": 1.1,
            "count": 0
           },
           {
            "bin_end": 1.3,
            "bin_start": 1.2000000000000002,
            "count": 0
           },
           {
            "bin_end": 1.4,
            "bin_start": 1.3,
            "count": 0
           },
           {
            "bin_end": 1.5,
            "bin_start": 1.4,
            "count": 0
           }
          ],
          "max": 1,
          "min": 1,
          "nan_count": 0,
          "unique_count": 1
         }
        },
        {
         "dtype": "int64",
         "name": "KITCHEN",
         "stats": {
          "histogram": [
           {
            "bin_end": 0.6,
            "bin_start": 0.5,
            "count": 0
           },
           {
            "bin_end": 0.7,
            "bin_start": 0.6,
            "count": 0
           },
           {
            "bin_end": 0.8,
            "bin_start": 0.7,
            "count": 0
           },
           {
            "bin_end": 0.9,
            "bin_start": 0.8,
            "count": 0
           },
           {
            "bin_end": 1,
            "bin_start": 0.9,
            "count": 0
           },
           {
            "bin_end": 1.1,
            "bin_start": 1,
            "count": 4
           },
           {
            "bin_end": 1.2000000000000002,
            "bin_start": 1.1,
            "count": 0
           },
           {
            "bin_end": 1.3,
            "bin_start": 1.2000000000000002,
            "count": 0
           },
           {
            "bin_end": 1.4,
            "bin_start": 1.3,
            "count": 0
           },
           {
            "bin_end": 1.5,
            "bin_start": 1.4,
            "count": 0
           }
          ],
          "max": 1,
          "min": 1,
          "nan_count": 0,
          "unique_count": 1
         }
        },
        {
         "dtype": "int64",
         "name": "FIREPLACE",
         "stats": {
          "histogram": [
           {
            "bin_end": 0.1,
            "bin_start": 0,
            "count": 3
           },
           {
            "bin_end": 0.2,
            "bin_start": 0.1,
            "count": 0
           },
           {
            "bin_end": 0.30000000000000004,
            "bin_start": 0.2,
            "count": 0
           },
           {
            "bin_end": 0.4,
            "bin_start": 0.30000000000000004,
            "count": 0
           },
           {
            "bin_end": 0.5,
            "bin_start": 0.4,
            "count": 0
           },
           {
            "bin_end": 0.6000000000000001,
            "bin_start": 0.5,
            "count": 0
           },
           {
            "bin_end": 0.7000000000000001,
            "bin_start": 0.6000000000000001,
            "count": 0
           },
           {
            "bin_end": 0.8,
            "bin_start": 0.7000000000000001,
            "count": 0
           },
           {
            "bin_end": 0.9,
            "bin_start": 0.8,
            "count": 0
           },
           {
            "bin_end": 1,
            "bin_start": 0.9,
            "count": 1
           }
          ],
          "max": 1,
          "min": 0,
          "nan_count": 0,
          "unique_count": 2
         }
        },
        {
         "dtype": "object",
         "name": "REMODEL",
         "stats": {
          "categories": [
           {
            "count": 3,
            "name": "None"
           },
           {
            "count": 1,
            "name": "Recent"
           }
          ],
          "nan_count": 0,
          "unique_count": 2
         }
        },
        {
         "dtype": "int64",
         "name": "_deepnote_index_column"
        }
       ],
       "row_count": 4,
       "rows_bottom": null,
       "rows_top": [
        {
         "BEDROOMS": 3,
         "FIREPLACE": 0,
         "FLOORS": 2,
         "FULL_BATH": 1,
         "GROSS_AREA": 2436,
         "HALF_BATH": 1,
         "KITCHEN": 1,
         "LIVING_AREA": 1352,
         "LOT_SQFT": 9965,
         "REMODEL": "None",
         "ROOMS": 6,
         "TAX": 4330,
         "TOTAL_VALUE": 344.2,
         "YR_BUILT": 1880,
         "_deepnote_index_column": 0
        },
        {
         "BEDROOMS": 4,
         "FIREPLACE": 0,
         "FLOORS": 2,
         "FULL_BATH": 2,
         "GROSS_AREA": 3108,
         "HALF_BATH": 1,
         "KITCHEN": 1,
         "LIVING_AREA": 1976,
         "LOT_SQFT": 6590,
         "REMODEL": "Recent",
         "ROOMS": 10,
         "TAX": 5190,
         "TOTAL_VALUE": 412.6,
         "YR_BUILT": 1945,
         "_deepnote_index_column": 1
        },
        {
         "BEDROOMS": 4,
         "FIREPLACE": 0,
         "FLOORS": 2,
         "FULL_BATH": 1,
         "GROSS_AREA": 2294,
         "HALF_BATH": 1,
         "KITCHEN": 1,
         "LIVING_AREA": 1371,
         "LOT_SQFT": 7500,
         "REMODEL": "None",
         "ROOMS": 8,
         "TAX": 4152,
         "TOTAL_VALUE": 330.1,
         "YR_BUILT": 1890,
         "_deepnote_index_column": 2
        },
        {
         "BEDROOMS": 5,
         "FIREPLACE": 1,
         "FLOORS": 1,
         "FULL_BATH": 1,
         "GROSS_AREA": 5032,
         "HALF_BATH": 1,
         "KITCHEN": 1,
         "LIVING_AREA": 2608,
         "LOT_SQFT": 13773,
         "REMODEL": "None",
         "ROOMS": 9,
         "TAX": 6272,
         "TOTAL_VALUE": 498.6,
         "YR_BUILT": 1957,
         "_deepnote_index_column": 3
        }
       ]
      },
      "text/html": [
       "<div>\n",
       "<style scoped>\n",
       "    .dataframe tbody tr th:only-of-type {\n",
       "        vertical-align: middle;\n",
       "    }\n",
       "\n",
       "    .dataframe tbody tr th {\n",
       "        vertical-align: top;\n",
       "    }\n",
       "\n",
       "    .dataframe thead th {\n",
       "        text-align: right;\n",
       "    }\n",
       "</style>\n",
       "<table border=\"1\" class=\"dataframe\">\n",
       "  <thead>\n",
       "    <tr style=\"text-align: right;\">\n",
       "      <th></th>\n",
       "      <th>TOTAL_VALUE</th>\n",
       "      <th>TAX</th>\n",
       "      <th>LOT_SQFT</th>\n",
       "      <th>YR_BUILT</th>\n",
       "      <th>GROSS_AREA</th>\n",
       "      <th>LIVING_AREA</th>\n",
       "      <th>FLOORS</th>\n",
       "      <th>ROOMS</th>\n",
       "      <th>BEDROOMS</th>\n",
       "      <th>FULL_BATH</th>\n",
       "      <th>HALF_BATH</th>\n",
       "      <th>KITCHEN</th>\n",
       "      <th>FIREPLACE</th>\n",
       "      <th>REMODEL</th>\n",
       "    </tr>\n",
       "  </thead>\n",
       "  <tbody>\n",
       "    <tr>\n",
       "      <th>0</th>\n",
       "      <td>344.2</td>\n",
       "      <td>4330</td>\n",
       "      <td>9965</td>\n",
       "      <td>1880</td>\n",
       "      <td>2436</td>\n",
       "      <td>1352</td>\n",
       "      <td>2.0</td>\n",
       "      <td>6</td>\n",
       "      <td>3</td>\n",
       "      <td>1</td>\n",
       "      <td>1</td>\n",
       "      <td>1</td>\n",
       "      <td>0</td>\n",
       "      <td>None</td>\n",
       "    </tr>\n",
       "    <tr>\n",
       "      <th>1</th>\n",
       "      <td>412.6</td>\n",
       "      <td>5190</td>\n",
       "      <td>6590</td>\n",
       "      <td>1945</td>\n",
       "      <td>3108</td>\n",
       "      <td>1976</td>\n",
       "      <td>2.0</td>\n",
       "      <td>10</td>\n",
       "      <td>4</td>\n",
       "      <td>2</td>\n",
       "      <td>1</td>\n",
       "      <td>1</td>\n",
       "      <td>0</td>\n",
       "      <td>Recent</td>\n",
       "    </tr>\n",
       "    <tr>\n",
       "      <th>2</th>\n",
       "      <td>330.1</td>\n",
       "      <td>4152</td>\n",
       "      <td>7500</td>\n",
       "      <td>1890</td>\n",
       "      <td>2294</td>\n",
       "      <td>1371</td>\n",
       "      <td>2.0</td>\n",
       "      <td>8</td>\n",
       "      <td>4</td>\n",
       "      <td>1</td>\n",
       "      <td>1</td>\n",
       "      <td>1</td>\n",
       "      <td>0</td>\n",
       "      <td>None</td>\n",
       "    </tr>\n",
       "    <tr>\n",
       "      <th>3</th>\n",
       "      <td>498.6</td>\n",
       "      <td>6272</td>\n",
       "      <td>13773</td>\n",
       "      <td>1957</td>\n",
       "      <td>5032</td>\n",
       "      <td>2608</td>\n",
       "      <td>1.0</td>\n",
       "      <td>9</td>\n",
       "      <td>5</td>\n",
       "      <td>1</td>\n",
       "      <td>1</td>\n",
       "      <td>1</td>\n",
       "      <td>1</td>\n",
       "      <td>None</td>\n",
       "    </tr>\n",
       "  </tbody>\n",
       "</table>\n",
       "</div>"
      ],
      "text/plain": [
       "   TOTAL_VALUE   TAX  LOT_SQFT  YR_BUILT  GROSS_AREA  LIVING_AREA  FLOORS  \\\n",
       "0        344.2  4330      9965      1880        2436         1352     2.0   \n",
       "1        412.6  5190      6590      1945        3108         1976     2.0   \n",
       "2        330.1  4152      7500      1890        2294         1371     2.0   \n",
       "3        498.6  6272     13773      1957        5032         2608     1.0   \n",
       "\n",
       "   ROOMS  BEDROOMS  FULL_BATH  HALF_BATH  KITCHEN  FIREPLACE REMODEL  \n",
       "0      6         3          1          1        1          0    None  \n",
       "1     10         4          2          1        1          0  Recent  \n",
       "2      8         4          1          1        1          0    None  \n",
       "3      9         5          1          1        1          1    None  "
      ]
     },
     "execution_count": 8,
     "metadata": {},
     "output_type": "execute_result"
    }
   ],
   "source": [
    "housing_df.loc[0:3]  # for loc, the second index in the slice is inclusive"
   ]
  },
  {
   "cell_type": "code",
   "execution_count": 9,
   "metadata": {
    "cell_id": "00018-3aa20c15-818d-4ffc-8029-3232755dc924",
    "deepnote_cell_type": "code",
    "deepnote_to_be_reexecuted": false,
    "execution_millis": 3,
    "execution_start": 1609784961392,
    "source_hash": "7e35dea6"
   },
   "outputs": [
    {
     "data": {
      "application/vnd.deepnote.dataframe.v2+json": {
       "column_count": 14,
       "columns": [
        {
         "dtype": "float64",
         "name": "TOTAL_VALUE",
         "stats": {
          "histogram": [
           {
            "bin_end": 346.95000000000005,
            "bin_start": 330.1,
            "count": 2
           },
           {
            "bin_end": 363.8,
            "bin_start": 346.95000000000005,
            "count": 0
           },
           {
            "bin_end": 380.65000000000003,
            "bin_start": 363.8,
            "count": 0
           },
           {
            "bin_end": 397.5,
            "bin_start": 380.65000000000003,
            "count": 0
           },
           {
            "bin_end": 414.35,
            "bin_start": 397.5,
            "count": 1
           },
           {
            "bin_end": 431.20000000000005,
            "bin_start": 414.35,
            "count": 0
           },
           {
            "bin_end": 448.05000000000007,
            "bin_start": 431.20000000000005,
            "count": 0
           },
           {
            "bin_end": 464.90000000000003,
            "bin_start": 448.05000000000007,
            "count": 0
           },
           {
            "bin_end": 481.75,
            "bin_start": 464.90000000000003,
            "count": 0
           },
           {
            "bin_end": 498.6,
            "bin_start": 481.75,
            "count": 1
           }
          ],
          "max": 498.6,
          "min": 330.1,
          "nan_count": 0,
          "unique_count": 4
         }
        },
        {
         "dtype": "int64",
         "name": "TAX",
         "stats": {
          "histogram": [
           {
            "bin_end": 4364,
            "bin_start": 4152,
            "count": 2
           },
           {
            "bin_end": 4576,
            "bin_start": 4364,
            "count": 0
           },
           {
            "bin_end": 4788,
            "bin_start": 4576,
            "count": 0
           },
           {
            "bin_end": 5000,
            "bin_start": 4788,
            "count": 0
           },
           {
            "bin_end": 5212,
            "bin_start": 5000,
            "count": 1
           },
           {
            "bin_end": 5424,
            "bin_start": 5212,
            "count": 0
           },
           {
            "bin_end": 5636,
            "bin_start": 5424,
            "count": 0
           },
           {
            "bin_end": 5848,
            "bin_start": 5636,
            "count": 0
           },
           {
            "bin_end": 6060,
            "bin_start": 5848,
            "count": 0
           },
           {
            "bin_end": 6272,
            "bin_start": 6060,
            "count": 1
           }
          ],
          "max": 6272,
          "min": 4152,
          "nan_count": 0,
          "unique_count": 4
         }
        },
        {
         "dtype": "int64",
         "name": "LOT_SQFT",
         "stats": {
          "histogram": [
           {
            "bin_end": 7308.3,
            "bin_start": 6590,
            "count": 1
           },
           {
            "bin_end": 8026.6,
            "bin_start": 7308.3,
            "count": 1
           },
           {
            "bin_end": 8744.9,
            "bin_start": 8026.6,
            "count": 0
           },
           {
            "bin_end": 9463.2,
            "bin_start": 8744.9,
            "count": 0
           },
           {
            "bin_end": 10181.5,
            "bin_start": 9463.2,
            "count": 1
           },
           {
            "bin_end": 10899.8,
            "bin_start": 10181.5,
            "count": 0
           },
           {
            "bin_end": 11618.099999999999,
            "bin_start": 10899.8,
            "count": 0
           },
           {
            "bin_end": 12336.4,
            "bin_start": 11618.099999999999,
            "count": 0
           },
           {
            "bin_end": 13054.7,
            "bin_start": 12336.4,
            "count": 0
           },
           {
            "bin_end": 13773,
            "bin_start": 13054.7,
            "count": 1
           }
          ],
          "max": 13773,
          "min": 6590,
          "nan_count": 0,
          "unique_count": 4
         }
        },
        {
         "dtype": "int64",
         "name": "YR_BUILT",
         "stats": {
          "histogram": [
           {
            "bin_end": 1887.7,
            "bin_start": 1880,
            "count": 1
           },
           {
            "bin_end": 1895.4,
            "bin_start": 1887.7,
            "count": 1
           },
           {
            "bin_end": 1903.1,
            "bin_start": 1895.4,
            "count": 0
           },
           {
            "bin_end": 1910.8,
            "bin_start": 1903.1,
            "count": 0
           },
           {
            "bin_end": 1918.5,
            "bin_start": 1910.8,
            "count": 0
           },
           {
            "bin_end": 1926.2,
            "bin_start": 1918.5,
            "count": 0
           },
           {
            "bin_end": 1933.9,
            "bin_start": 1926.2,
            "count": 0
           },
           {
            "bin_end": 1941.6,
            "bin_start": 1933.9,
            "count": 0
           },
           {
            "bin_end": 1949.3,
            "bin_start": 1941.6,
            "count": 1
           },
           {
            "bin_end": 1957,
            "bin_start": 1949.3,
            "count": 1
           }
          ],
          "max": 1957,
          "min": 1880,
          "nan_count": 0,
          "unique_count": 4
         }
        },
        {
         "dtype": "int64",
         "name": "GROSS_AREA",
         "stats": {
          "histogram": [
           {
            "bin_end": 2567.8,
            "bin_start": 2294,
            "count": 2
           },
           {
            "bin_end": 2841.6,
            "bin_start": 2567.8,
            "count": 0
           },
           {
            "bin_end": 3115.4,
            "bin_start": 2841.6,
            "count": 1
           },
           {
            "bin_end": 3389.2,
            "bin_start": 3115.4,
            "count": 0
           },
           {
            "bin_end": 3663,
            "bin_start": 3389.2,
            "count": 0
           },
           {
            "bin_end": 3936.8,
            "bin_start": 3663,
            "count": 0
           },
           {
            "bin_end": 4210.6,
            "bin_start": 3936.8,
            "count": 0
           },
           {
            "bin_end": 4484.4,
            "bin_start": 4210.6,
            "count": 0
           },
           {
            "bin_end": 4758.200000000001,
            "bin_start": 4484.4,
            "count": 0
           },
           {
            "bin_end": 5032,
            "bin_start": 4758.200000000001,
            "count": 1
           }
          ],
          "max": 5032,
          "min": 2294,
          "nan_count": 0,
          "unique_count": 4
         }
        },
        {
         "dtype": "int64",
         "name": "LIVING_AREA",
         "stats": {
          "histogram": [
           {
            "bin_end": 1477.6,
            "bin_start": 1352,
            "count": 2
           },
           {
            "bin_end": 1603.2,
            "bin_start": 1477.6,
            "count": 0
           },
           {
            "bin_end": 1728.8,
            "bin_start": 1603.2,
            "count": 0
           },
           {
            "bin_end": 1854.4,
            "bin_start": 1728.8,
            "count": 0
           },
           {
            "bin_end": 1980,
            "bin_start": 1854.4,
            "count": 1
           },
           {
            "bin_end": 2105.6,
            "bin_start": 1980,
            "count": 0
           },
           {
            "bin_end": 2231.2,
            "bin_start": 2105.6,
            "count": 0
           },
           {
            "bin_end": 2356.8,
            "bin_start": 2231.2,
            "count": 0
           },
           {
            "bin_end": 2482.3999999999996,
            "bin_start": 2356.8,
            "count": 0
           },
           {
            "bin_end": 2608,
            "bin_start": 2482.3999999999996,
            "count": 1
           }
          ],
          "max": 2608,
          "min": 1352,
          "nan_count": 0,
          "unique_count": 4
         }
        },
        {
         "dtype": "float64",
         "name": "FLOORS",
         "stats": {
          "histogram": [
           {
            "bin_end": 1.1,
            "bin_start": 1,
            "count": 1
           },
           {
            "bin_end": 1.2,
            "bin_start": 1.1,
            "count": 0
           },
           {
            "bin_end": 1.3,
            "bin_start": 1.2,
            "count": 0
           },
           {
            "bin_end": 1.4,
            "bin_start": 1.3,
            "count": 0
           },
           {
            "bin_end": 1.5,
            "bin_start": 1.4,
            "count": 0
           },
           {
            "bin_end": 1.6,
            "bin_start": 1.5,
            "count": 0
           },
           {
            "bin_end": 1.7000000000000002,
            "bin_start": 1.6,
            "count": 0
           },
           {
            "bin_end": 1.8,
            "bin_start": 1.7000000000000002,
            "count": 0
           },
           {
            "bin_end": 1.9,
            "bin_start": 1.8,
            "count": 0
           },
           {
            "bin_end": 2,
            "bin_start": 1.9,
            "count": 3
           }
          ],
          "max": 2,
          "min": 1,
          "nan_count": 0,
          "unique_count": 2
         }
        },
        {
         "dtype": "int64",
         "name": "ROOMS",
         "stats": {
          "histogram": [
           {
            "bin_end": 6.4,
            "bin_start": 6,
            "count": 1
           },
           {
            "bin_end": 6.8,
            "bin_start": 6.4,
            "count": 0
           },
           {
            "bin_end": 7.2,
            "bin_start": 6.8,
            "count": 0
           },
           {
            "bin_end": 7.6,
            "bin_start": 7.2,
            "count": 0
           },
           {
            "bin_end": 8,
            "bin_start": 7.6,
            "count": 0
           },
           {
            "bin_end": 8.4,
            "bin_start": 8,
            "count": 1
           },
           {
            "bin_end": 8.8,
            "bin_start": 8.4,
            "count": 0
           },
           {
            "bin_end": 9.2,
            "bin_start": 8.8,
            "count": 1
           },
           {
            "bin_end": 9.6,
            "bin_start": 9.2,
            "count": 0
           },
           {
            "bin_end": 10,
            "bin_start": 9.6,
            "count": 1
           }
          ],
          "max": 10,
          "min": 6,
          "nan_count": 0,
          "unique_count": 4
         }
        },
        {
         "dtype": "int64",
         "name": "BEDROOMS",
         "stats": {
          "histogram": [
           {
            "bin_end": 3.2,
            "bin_start": 3,
            "count": 1
           },
           {
            "bin_end": 3.4,
            "bin_start": 3.2,
            "count": 0
           },
           {
            "bin_end": 3.6,
            "bin_start": 3.4,
            "count": 0
           },
           {
            "bin_end": 3.8,
            "bin_start": 3.6,
            "count": 0
           },
           {
            "bin_end": 4,
            "bin_start": 3.8,
            "count": 0
           },
           {
            "bin_end": 4.2,
            "bin_start": 4,
            "count": 2
           },
           {
            "bin_end": 4.4,
            "bin_start": 4.2,
            "count": 0
           },
           {
            "bin_end": 4.6,
            "bin_start": 4.4,
            "count": 0
           },
           {
            "bin_end": 4.8,
            "bin_start": 4.6,
            "count": 0
           },
           {
            "bin_end": 5,
            "bin_start": 4.8,
            "count": 1
           }
          ],
          "max": 5,
          "min": 3,
          "nan_count": 0,
          "unique_count": 3
         }
        },
        {
         "dtype": "int64",
         "name": "FULL_BATH",
         "stats": {
          "histogram": [
           {
            "bin_end": 1.1,
            "bin_start": 1,
            "count": 3
           },
           {
            "bin_end": 1.2,
            "bin_start": 1.1,
            "count": 0
           },
           {
            "bin_end": 1.3,
            "bin_start": 1.2,
            "count": 0
           },
           {
            "bin_end": 1.4,
            "bin_start": 1.3,
            "count": 0
           },
           {
            "bin_end": 1.5,
            "bin_start": 1.4,
            "count": 0
           },
           {
            "bin_end": 1.6,
            "bin_start": 1.5,
            "count": 0
           },
           {
            "bin_end": 1.7000000000000002,
            "bin_start": 1.6,
            "count": 0
           },
           {
            "bin_end": 1.8,
            "bin_start": 1.7000000000000002,
            "count": 0
           },
           {
            "bin_end": 1.9,
            "bin_start": 1.8,
            "count": 0
           },
           {
            "bin_end": 2,
            "bin_start": 1.9,
            "count": 1
           }
          ],
          "max": 2,
          "min": 1,
          "nan_count": 0,
          "unique_count": 2
         }
        },
        {
         "dtype": "int64",
         "name": "HALF_BATH",
         "stats": {
          "histogram": [
           {
            "bin_end": 0.6,
            "bin_start": 0.5,
            "count": 0
           },
           {
            "bin_end": 0.7,
            "bin_start": 0.6,
            "count": 0
           },
           {
            "bin_end": 0.8,
            "bin_start": 0.7,
            "count": 0
           },
           {
            "bin_end": 0.9,
            "bin_start": 0.8,
            "count": 0
           },
           {
            "bin_end": 1,
            "bin_start": 0.9,
            "count": 0
           },
           {
            "bin_end": 1.1,
            "bin_start": 1,
            "count": 4
           },
           {
            "bin_end": 1.2000000000000002,
            "bin_start": 1.1,
            "count": 0
           },
           {
            "bin_end": 1.3,
            "bin_start": 1.2000000000000002,
            "count": 0
           },
           {
            "bin_end": 1.4,
            "bin_start": 1.3,
            "count": 0
           },
           {
            "bin_end": 1.5,
            "bin_start": 1.4,
            "count": 0
           }
          ],
          "max": 1,
          "min": 1,
          "nan_count": 0,
          "unique_count": 1
         }
        },
        {
         "dtype": "int64",
         "name": "KITCHEN",
         "stats": {
          "histogram": [
           {
            "bin_end": 0.6,
            "bin_start": 0.5,
            "count": 0
           },
           {
            "bin_end": 0.7,
            "bin_start": 0.6,
            "count": 0
           },
           {
            "bin_end": 0.8,
            "bin_start": 0.7,
            "count": 0
           },
           {
            "bin_end": 0.9,
            "bin_start": 0.8,
            "count": 0
           },
           {
            "bin_end": 1,
            "bin_start": 0.9,
            "count": 0
           },
           {
            "bin_end": 1.1,
            "bin_start": 1,
            "count": 4
           },
           {
            "bin_end": 1.2000000000000002,
            "bin_start": 1.1,
            "count": 0
           },
           {
            "bin_end": 1.3,
            "bin_start": 1.2000000000000002,
            "count": 0
           },
           {
            "bin_end": 1.4,
            "bin_start": 1.3,
            "count": 0
           },
           {
            "bin_end": 1.5,
            "bin_start": 1.4,
            "count": 0
           }
          ],
          "max": 1,
          "min": 1,
          "nan_count": 0,
          "unique_count": 1
         }
        },
        {
         "dtype": "int64",
         "name": "FIREPLACE",
         "stats": {
          "histogram": [
           {
            "bin_end": 0.1,
            "bin_start": 0,
            "count": 3
           },
           {
            "bin_end": 0.2,
            "bin_start": 0.1,
            "count": 0
           },
           {
            "bin_end": 0.30000000000000004,
            "bin_start": 0.2,
            "count": 0
           },
           {
            "bin_end": 0.4,
            "bin_start": 0.30000000000000004,
            "count": 0
           },
           {
            "bin_end": 0.5,
            "bin_start": 0.4,
            "count": 0
           },
           {
            "bin_end": 0.6000000000000001,
            "bin_start": 0.5,
            "count": 0
           },
           {
            "bin_end": 0.7000000000000001,
            "bin_start": 0.6000000000000001,
            "count": 0
           },
           {
            "bin_end": 0.8,
            "bin_start": 0.7000000000000001,
            "count": 0
           },
           {
            "bin_end": 0.9,
            "bin_start": 0.8,
            "count": 0
           },
           {
            "bin_end": 1,
            "bin_start": 0.9,
            "count": 1
           }
          ],
          "max": 1,
          "min": 0,
          "nan_count": 0,
          "unique_count": 2
         }
        },
        {
         "dtype": "object",
         "name": "REMODEL",
         "stats": {
          "categories": [
           {
            "count": 3,
            "name": "None"
           },
           {
            "count": 1,
            "name": "Recent"
           }
          ],
          "nan_count": 0,
          "unique_count": 2
         }
        },
        {
         "dtype": "int64",
         "name": "_deepnote_index_column"
        }
       ],
       "row_count": 4,
       "rows_bottom": null,
       "rows_top": [
        {
         "BEDROOMS": 3,
         "FIREPLACE": 0,
         "FLOORS": 2,
         "FULL_BATH": 1,
         "GROSS_AREA": 2436,
         "HALF_BATH": 1,
         "KITCHEN": 1,
         "LIVING_AREA": 1352,
         "LOT_SQFT": 9965,
         "REMODEL": "None",
         "ROOMS": 6,
         "TAX": 4330,
         "TOTAL_VALUE": 344.2,
         "YR_BUILT": 1880,
         "_deepnote_index_column": 0
        },
        {
         "BEDROOMS": 4,
         "FIREPLACE": 0,
         "FLOORS": 2,
         "FULL_BATH": 2,
         "GROSS_AREA": 3108,
         "HALF_BATH": 1,
         "KITCHEN": 1,
         "LIVING_AREA": 1976,
         "LOT_SQFT": 6590,
         "REMODEL": "Recent",
         "ROOMS": 10,
         "TAX": 5190,
         "TOTAL_VALUE": 412.6,
         "YR_BUILT": 1945,
         "_deepnote_index_column": 1
        },
        {
         "BEDROOMS": 4,
         "FIREPLACE": 0,
         "FLOORS": 2,
         "FULL_BATH": 1,
         "GROSS_AREA": 2294,
         "HALF_BATH": 1,
         "KITCHEN": 1,
         "LIVING_AREA": 1371,
         "LOT_SQFT": 7500,
         "REMODEL": "None",
         "ROOMS": 8,
         "TAX": 4152,
         "TOTAL_VALUE": 330.1,
         "YR_BUILT": 1890,
         "_deepnote_index_column": 2
        },
        {
         "BEDROOMS": 5,
         "FIREPLACE": 1,
         "FLOORS": 1,
         "FULL_BATH": 1,
         "GROSS_AREA": 5032,
         "HALF_BATH": 1,
         "KITCHEN": 1,
         "LIVING_AREA": 2608,
         "LOT_SQFT": 13773,
         "REMODEL": "None",
         "ROOMS": 9,
         "TAX": 6272,
         "TOTAL_VALUE": 498.6,
         "YR_BUILT": 1957,
         "_deepnote_index_column": 3
        }
       ]
      },
      "text/html": [
       "<div>\n",
       "<style scoped>\n",
       "    .dataframe tbody tr th:only-of-type {\n",
       "        vertical-align: middle;\n",
       "    }\n",
       "\n",
       "    .dataframe tbody tr th {\n",
       "        vertical-align: top;\n",
       "    }\n",
       "\n",
       "    .dataframe thead th {\n",
       "        text-align: right;\n",
       "    }\n",
       "</style>\n",
       "<table border=\"1\" class=\"dataframe\">\n",
       "  <thead>\n",
       "    <tr style=\"text-align: right;\">\n",
       "      <th></th>\n",
       "      <th>TOTAL_VALUE</th>\n",
       "      <th>TAX</th>\n",
       "      <th>LOT_SQFT</th>\n",
       "      <th>YR_BUILT</th>\n",
       "      <th>GROSS_AREA</th>\n",
       "      <th>LIVING_AREA</th>\n",
       "      <th>FLOORS</th>\n",
       "      <th>ROOMS</th>\n",
       "      <th>BEDROOMS</th>\n",
       "      <th>FULL_BATH</th>\n",
       "      <th>HALF_BATH</th>\n",
       "      <th>KITCHEN</th>\n",
       "      <th>FIREPLACE</th>\n",
       "      <th>REMODEL</th>\n",
       "    </tr>\n",
       "  </thead>\n",
       "  <tbody>\n",
       "    <tr>\n",
       "      <th>0</th>\n",
       "      <td>344.2</td>\n",
       "      <td>4330</td>\n",
       "      <td>9965</td>\n",
       "      <td>1880</td>\n",
       "      <td>2436</td>\n",
       "      <td>1352</td>\n",
       "      <td>2.0</td>\n",
       "      <td>6</td>\n",
       "      <td>3</td>\n",
       "      <td>1</td>\n",
       "      <td>1</td>\n",
       "      <td>1</td>\n",
       "      <td>0</td>\n",
       "      <td>None</td>\n",
       "    </tr>\n",
       "    <tr>\n",
       "      <th>1</th>\n",
       "      <td>412.6</td>\n",
       "      <td>5190</td>\n",
       "      <td>6590</td>\n",
       "      <td>1945</td>\n",
       "      <td>3108</td>\n",
       "      <td>1976</td>\n",
       "      <td>2.0</td>\n",
       "      <td>10</td>\n",
       "      <td>4</td>\n",
       "      <td>2</td>\n",
       "      <td>1</td>\n",
       "      <td>1</td>\n",
       "      <td>0</td>\n",
       "      <td>Recent</td>\n",
       "    </tr>\n",
       "    <tr>\n",
       "      <th>2</th>\n",
       "      <td>330.1</td>\n",
       "      <td>4152</td>\n",
       "      <td>7500</td>\n",
       "      <td>1890</td>\n",
       "      <td>2294</td>\n",
       "      <td>1371</td>\n",
       "      <td>2.0</td>\n",
       "      <td>8</td>\n",
       "      <td>4</td>\n",
       "      <td>1</td>\n",
       "      <td>1</td>\n",
       "      <td>1</td>\n",
       "      <td>0</td>\n",
       "      <td>None</td>\n",
       "    </tr>\n",
       "    <tr>\n",
       "      <th>3</th>\n",
       "      <td>498.6</td>\n",
       "      <td>6272</td>\n",
       "      <td>13773</td>\n",
       "      <td>1957</td>\n",
       "      <td>5032</td>\n",
       "      <td>2608</td>\n",
       "      <td>1.0</td>\n",
       "      <td>9</td>\n",
       "      <td>5</td>\n",
       "      <td>1</td>\n",
       "      <td>1</td>\n",
       "      <td>1</td>\n",
       "      <td>1</td>\n",
       "      <td>None</td>\n",
       "    </tr>\n",
       "  </tbody>\n",
       "</table>\n",
       "</div>"
      ],
      "text/plain": [
       "   TOTAL_VALUE   TAX  LOT_SQFT  YR_BUILT  GROSS_AREA  LIVING_AREA  FLOORS  \\\n",
       "0        344.2  4330      9965      1880        2436         1352     2.0   \n",
       "1        412.6  5190      6590      1945        3108         1976     2.0   \n",
       "2        330.1  4152      7500      1890        2294         1371     2.0   \n",
       "3        498.6  6272     13773      1957        5032         2608     1.0   \n",
       "\n",
       "   ROOMS  BEDROOMS  FULL_BATH  HALF_BATH  KITCHEN  FIREPLACE REMODEL  \n",
       "0      6         3          1          1        1          0    None  \n",
       "1     10         4          2          1        1          0  Recent  \n",
       "2      8         4          1          1        1          0    None  \n",
       "3      9         5          1          1        1          1    None  "
      ]
     },
     "execution_count": 9,
     "metadata": {},
     "output_type": "execute_result"
    }
   ],
   "source": [
    "housing_df.iloc[0:4]  # for loc, the second index in the slice is exclusive"
   ]
  },
  {
   "cell_type": "markdown",
   "metadata": {
    "cell_id": "00019-d97ad386-2bbc-4c2e-b5e1-6d56f483cde9",
    "deepnote_cell_type": "markdown"
   },
   "source": [
    "Note the difference in the two methods with respect to the slice notation! For consistency with how slices are defined in Python, we will use the `iloc` method mostly from here on.\n",
    "\n",
    "Next, show the first ten rows of the first column"
   ]
  },
  {
   "cell_type": "code",
   "execution_count": 10,
   "metadata": {
    "cell_id": "00020-00c510e6-e844-4c5c-b479-361ed5cd7a55",
    "deepnote_cell_type": "code",
    "deepnote_to_be_reexecuted": false,
    "execution_millis": 1,
    "execution_start": 1609784961435,
    "source_hash": "5cb77d28"
   },
   "outputs": [
    {
     "data": {
      "text/plain": [
       "0    344.2\n",
       "1    412.6\n",
       "2    330.1\n",
       "3    498.6\n",
       "4    331.5\n",
       "5    337.4\n",
       "6    359.4\n",
       "7    320.4\n",
       "8    333.5\n",
       "9    409.4\n",
       "Name: TOTAL_VALUE, dtype: float64"
      ]
     },
     "execution_count": 10,
     "metadata": {},
     "output_type": "execute_result"
    }
   ],
   "source": [
    "housing_df['TOTAL_VALUE'].iloc[0:10]\n",
    "housing_df.iloc[0:10]['TOTAL_VALUE']  # the order is not important\n",
    "housing_df.iloc[0:10].TOTAL_VALUE"
   ]
  },
  {
   "cell_type": "markdown",
   "metadata": {
    "cell_id": "00021-688b3294-058f-4243-858c-3144ac6c3b01",
    "deepnote_cell_type": "markdown"
   },
   "source": [
    "Show the fifth row of the first 10 columns. The `iloc` methods allows specifying the rows and columns within one set of brackets. `dataframe.iloc[rows, columns]`"
   ]
  },
  {
   "cell_type": "code",
   "execution_count": 11,
   "metadata": {
    "cell_id": "00022-e628973b-a1ab-4b86-b304-542d14ff402b",
    "deepnote_cell_type": "code",
    "deepnote_to_be_reexecuted": false,
    "execution_millis": 1,
    "execution_start": 1609784961436,
    "source_hash": "4df40170"
   },
   "outputs": [
    {
     "data": {
      "text/plain": [
       "TOTAL_VALUE    331.5\n",
       "TAX             4170\n",
       "LOT_SQFT        5000\n",
       "YR_BUILT        1910\n",
       "GROSS_AREA      2370\n",
       "LIVING_AREA     1438\n",
       "FLOORS             2\n",
       "ROOMS              7\n",
       "BEDROOMS           3\n",
       "FULL_BATH          2\n",
       "Name: 4, dtype: object"
      ]
     },
     "execution_count": 11,
     "metadata": {},
     "output_type": "execute_result"
    }
   ],
   "source": [
    "housing_df.iloc[4][0:10]\n",
    "housing_df.iloc[4, 0:10]  # this is equivalent"
   ]
  },
  {
   "cell_type": "markdown",
   "metadata": {
    "cell_id": "00023-ef0c0ab8-6fbb-4e39-aee6-d9ad97ea9a76",
    "deepnote_cell_type": "markdown"
   },
   "source": [
    "If you prefer to preserve the data frame format, use a slice for the rows as well."
   ]
  },
  {
   "cell_type": "code",
   "execution_count": 12,
   "metadata": {
    "cell_id": "00024-234d9648-b7f9-4395-a431-43d463bf3e4f",
    "deepnote_cell_type": "code",
    "deepnote_to_be_reexecuted": false,
    "execution_millis": 1,
    "execution_start": 1609784961437,
    "source_hash": "c405b92b"
   },
   "outputs": [
    {
     "data": {
      "application/vnd.deepnote.dataframe.v2+json": {
       "column_count": 10,
       "columns": [
        {
         "dtype": "float64",
         "name": "TOTAL_VALUE",
         "stats": {
          "histogram": [
           {
            "bin_end": 331.1,
            "bin_start": 331,
            "count": 0
           },
           {
            "bin_end": 331.2,
            "bin_start": 331.1,
            "count": 0
           },
           {
            "bin_end": 331.3,
            "bin_start": 331.2,
            "count": 0
           },
           {
            "bin_end": 331.4,
            "bin_start": 331.3,
            "count": 0
           },
           {
            "bin_end": 331.5,
            "bin_start": 331.4,
            "count": 0
           },
           {
            "bin_end": 331.6,
            "bin_start": 331.5,
            "count": 1
           },
           {
            "bin_end": 331.7,
            "bin_start": 331.6,
            "count": 0
           },
           {
            "bin_end": 331.8,
            "bin_start": 331.7,
            "count": 0
           },
           {
            "bin_end": 331.9,
            "bin_start": 331.8,
            "count": 0
           },
           {
            "bin_end": 332,
            "bin_start": 331.9,
            "count": 0
           }
          ],
          "max": 331.5,
          "min": 331.5,
          "nan_count": 0,
          "unique_count": 1
         }
        },
        {
         "dtype": "int64",
         "name": "TAX",
         "stats": {
          "histogram": [
           {
            "bin_end": 4169.6,
            "bin_start": 4169.5,
            "count": 0
           },
           {
            "bin_end": 4169.7,
            "bin_start": 4169.6,
            "count": 0
           },
           {
            "bin_end": 4169.8,
            "bin_start": 4169.7,
            "count": 0
           },
           {
            "bin_end": 4169.9,
            "bin_start": 4169.8,
            "count": 0
           },
           {
            "bin_end": 4170,
            "bin_start": 4169.9,
            "count": 0
           },
           {
            "bin_end": 4170.1,
            "bin_start": 4170,
            "count": 1
           },
           {
            "bin_end": 4170.2,
            "bin_start": 4170.1,
            "count": 0
           },
           {
            "bin_end": 4170.3,
            "bin_start": 4170.2,
            "count": 0
           },
           {
            "bin_end": 4170.4,
            "bin_start": 4170.3,
            "count": 0
           },
           {
            "bin_end": 4170.5,
            "bin_start": 4170.4,
            "count": 0
           }
          ],
          "max": 4170,
          "min": 4170,
          "nan_count": 0,
          "unique_count": 1
         }
        },
        {
         "dtype": "int64",
         "name": "LOT_SQFT",
         "stats": {
          "histogram": [
           {
            "bin_end": 4999.6,
            "bin_start": 4999.5,
            "count": 0
           },
           {
            "bin_end": 4999.7,
            "bin_start": 4999.6,
            "count": 0
           },
           {
            "bin_end": 4999.8,
            "bin_start": 4999.7,
            "count": 0
           },
           {
            "bin_end": 4999.9,
            "bin_start": 4999.8,
            "count": 0
           },
           {
            "bin_end": 5000,
            "bin_start": 4999.9,
            "count": 0
           },
           {
            "bin_end": 5000.1,
            "bin_start": 5000,
            "count": 1
           },
           {
            "bin_end": 5000.2,
            "bin_start": 5000.1,
            "count": 0
           },
           {
            "bin_end": 5000.3,
            "bin_start": 5000.2,
            "count": 0
           },
           {
            "bin_end": 5000.4,
            "bin_start": 5000.3,
            "count": 0
           },
           {
            "bin_end": 5000.5,
            "bin_start": 5000.4,
            "count": 0
           }
          ],
          "max": 5000,
          "min": 5000,
          "nan_count": 0,
          "unique_count": 1
         }
        },
        {
         "dtype": "int64",
         "name": "YR_BUILT",
         "stats": {
          "histogram": [
           {
            "bin_end": 1909.6,
            "bin_start": 1909.5,
            "count": 0
           },
           {
            "bin_end": 1909.7,
            "bin_start": 1909.6,
            "count": 0
           },
           {
            "bin_end": 1909.8,
            "bin_start": 1909.7,
            "count": 0
           },
           {
            "bin_end": 1909.9,
            "bin_start": 1909.8,
            "count": 0
           },
           {
            "bin_end": 1910,
            "bin_start": 1909.9,
            "count": 0
           },
           {
            "bin_end": 1910.1,
            "bin_start": 1910,
            "count": 1
           },
           {
            "bin_end": 1910.2,
            "bin_start": 1910.1,
            "count": 0
           },
           {
            "bin_end": 1910.3,
            "bin_start": 1910.2,
            "count": 0
           },
           {
            "bin_end": 1910.4,
            "bin_start": 1910.3,
            "count": 0
           },
           {
            "bin_end": 1910.5,
            "bin_start": 1910.4,
            "count": 0
           }
          ],
          "max": 1910,
          "min": 1910,
          "nan_count": 0,
          "unique_count": 1
         }
        },
        {
         "dtype": "int64",
         "name": "GROSS_AREA",
         "stats": {
          "histogram": [
           {
            "bin_end": 2369.6,
            "bin_start": 2369.5,
            "count": 0
           },
           {
            "bin_end": 2369.7,
            "bin_start": 2369.6,
            "count": 0
           },
           {
            "bin_end": 2369.8,
            "bin_start": 2369.7,
            "count": 0
           },
           {
            "bin_end": 2369.9,
            "bin_start": 2369.8,
            "count": 0
           },
           {
            "bin_end": 2370,
            "bin_start": 2369.9,
            "count": 0
           },
           {
            "bin_end": 2370.1,
            "bin_start": 2370,
            "count": 1
           },
           {
            "bin_end": 2370.2,
            "bin_start": 2370.1,
            "count": 0
           },
           {
            "bin_end": 2370.3,
            "bin_start": 2370.2,
            "count": 0
           },
           {
            "bin_end": 2370.4,
            "bin_start": 2370.3,
            "count": 0
           },
           {
            "bin_end": 2370.5,
            "bin_start": 2370.4,
            "count": 0
           }
          ],
          "max": 2370,
          "min": 2370,
          "nan_count": 0,
          "unique_count": 1
         }
        },
        {
         "dtype": "int64",
         "name": "LIVING_AREA",
         "stats": {
          "histogram": [
           {
            "bin_end": 1437.6,
            "bin_start": 1437.5,
            "count": 0
           },
           {
            "bin_end": 1437.7,
            "bin_start": 1437.6,
            "count": 0
           },
           {
            "bin_end": 1437.8,
            "bin_start": 1437.7,
            "count": 0
           },
           {
            "bin_end": 1437.9,
            "bin_start": 1437.8,
            "count": 0
           },
           {
            "bin_end": 1438,
            "bin_start": 1437.9,
            "count": 0
           },
           {
            "bin_end": 1438.1,
            "bin_start": 1438,
            "count": 1
           },
           {
            "bin_end": 1438.2,
            "bin_start": 1438.1,
            "count": 0
           },
           {
            "bin_end": 1438.3,
            "bin_start": 1438.2,
            "count": 0
           },
           {
            "bin_end": 1438.4,
            "bin_start": 1438.3,
            "count": 0
           },
           {
            "bin_end": 1438.5,
            "bin_start": 1438.4,
            "count": 0
           }
          ],
          "max": 1438,
          "min": 1438,
          "nan_count": 0,
          "unique_count": 1
         }
        },
        {
         "dtype": "float64",
         "name": "FLOORS",
         "stats": {
          "histogram": [
           {
            "bin_end": 1.6,
            "bin_start": 1.5,
            "count": 0
           },
           {
            "bin_end": 1.7,
            "bin_start": 1.6,
            "count": 0
           },
           {
            "bin_end": 1.8,
            "bin_start": 1.7,
            "count": 0
           },
           {
            "bin_end": 1.9,
            "bin_start": 1.8,
            "count": 0
           },
           {
            "bin_end": 2,
            "bin_start": 1.9,
            "count": 0
           },
           {
            "bin_end": 2.1,
            "bin_start": 2,
            "count": 1
           },
           {
            "bin_end": 2.2,
            "bin_start": 2.1,
            "count": 0
           },
           {
            "bin_end": 2.3,
            "bin_start": 2.2,
            "count": 0
           },
           {
            "bin_end": 2.4,
            "bin_start": 2.3,
            "count": 0
           },
           {
            "bin_end": 2.5,
            "bin_start": 2.4,
            "count": 0
           }
          ],
          "max": 2,
          "min": 2,
          "nan_count": 0,
          "unique_count": 1
         }
        },
        {
         "dtype": "int64",
         "name": "ROOMS",
         "stats": {
          "histogram": [
           {
            "bin_end": 6.6,
            "bin_start": 6.5,
            "count": 0
           },
           {
            "bin_end": 6.7,
            "bin_start": 6.6,
            "count": 0
           },
           {
            "bin_end": 6.8,
            "bin_start": 6.7,
            "count": 0
           },
           {
            "bin_end": 6.9,
            "bin_start": 6.8,
            "count": 0
           },
           {
            "bin_end": 7,
            "bin_start": 6.9,
            "count": 0
           },
           {
            "bin_end": 7.1,
            "bin_start": 7,
            "count": 1
           },
           {
            "bin_end": 7.2,
            "bin_start": 7.1,
            "count": 0
           },
           {
            "bin_end": 7.3,
            "bin_start": 7.2,
            "count": 0
           },
           {
            "bin_end": 7.4,
            "bin_start": 7.3,
            "count": 0
           },
           {
            "bin_end": 7.5,
            "bin_start": 7.4,
            "count": 0
           }
          ],
          "max": 7,
          "min": 7,
          "nan_count": 0,
          "unique_count": 1
         }
        },
        {
         "dtype": "int64",
         "name": "BEDROOMS",
         "stats": {
          "histogram": [
           {
            "bin_end": 2.6,
            "bin_start": 2.5,
            "count": 0
           },
           {
            "bin_end": 2.7,
            "bin_start": 2.6,
            "count": 0
           },
           {
            "bin_end": 2.8,
            "bin_start": 2.7,
            "count": 0
           },
           {
            "bin_end": 2.9,
            "bin_start": 2.8,
            "count": 0
           },
           {
            "bin_end": 3,
            "bin_start": 2.9,
            "count": 0
           },
           {
            "bin_end": 3.1,
            "bin_start": 3,
            "count": 1
           },
           {
            "bin_end": 3.2,
            "bin_start": 3.1,
            "count": 0
           },
           {
            "bin_end": 3.3,
            "bin_start": 3.2,
            "count": 0
           },
           {
            "bin_end": 3.4,
            "bin_start": 3.3,
            "count": 0
           },
           {
            "bin_end": 3.5,
            "bin_start": 3.4,
            "count": 0
           }
          ],
          "max": 3,
          "min": 3,
          "nan_count": 0,
          "unique_count": 1
         }
        },
        {
         "dtype": "int64",
         "name": "FULL_BATH",
         "stats": {
          "histogram": [
           {
            "bin_end": 1.6,
            "bin_start": 1.5,
            "count": 0
           },
           {
            "bin_end": 1.7,
            "bin_start": 1.6,
            "count": 0
           },
           {
            "bin_end": 1.8,
            "bin_start": 1.7,
            "count": 0
           },
           {
            "bin_end": 1.9,
            "bin_start": 1.8,
            "count": 0
           },
           {
            "bin_end": 2,
            "bin_start": 1.9,
            "count": 0
           },
           {
            "bin_end": 2.1,
            "bin_start": 2,
            "count": 1
           },
           {
            "bin_end": 2.2,
            "bin_start": 2.1,
            "count": 0
           },
           {
            "bin_end": 2.3,
            "bin_start": 2.2,
            "count": 0
           },
           {
            "bin_end": 2.4,
            "bin_start": 2.3,
            "count": 0
           },
           {
            "bin_end": 2.5,
            "bin_start": 2.4,
            "count": 0
           }
          ],
          "max": 2,
          "min": 2,
          "nan_count": 0,
          "unique_count": 1
         }
        },
        {
         "dtype": "int64",
         "name": "_deepnote_index_column"
        }
       ],
       "row_count": 1,
       "rows_bottom": null,
       "rows_top": [
        {
         "BEDROOMS": 3,
         "FLOORS": 2,
         "FULL_BATH": 2,
         "GROSS_AREA": 2370,
         "LIVING_AREA": 1438,
         "LOT_SQFT": 5000,
         "ROOMS": 7,
         "TAX": 4170,
         "TOTAL_VALUE": 331.5,
         "YR_BUILT": 1910,
         "_deepnote_index_column": 4
        }
       ]
      },
      "text/html": [
       "<div>\n",
       "<style scoped>\n",
       "    .dataframe tbody tr th:only-of-type {\n",
       "        vertical-align: middle;\n",
       "    }\n",
       "\n",
       "    .dataframe tbody tr th {\n",
       "        vertical-align: top;\n",
       "    }\n",
       "\n",
       "    .dataframe thead th {\n",
       "        text-align: right;\n",
       "    }\n",
       "</style>\n",
       "<table border=\"1\" class=\"dataframe\">\n",
       "  <thead>\n",
       "    <tr style=\"text-align: right;\">\n",
       "      <th></th>\n",
       "      <th>TOTAL_VALUE</th>\n",
       "      <th>TAX</th>\n",
       "      <th>LOT_SQFT</th>\n",
       "      <th>YR_BUILT</th>\n",
       "      <th>GROSS_AREA</th>\n",
       "      <th>LIVING_AREA</th>\n",
       "      <th>FLOORS</th>\n",
       "      <th>ROOMS</th>\n",
       "      <th>BEDROOMS</th>\n",
       "      <th>FULL_BATH</th>\n",
       "    </tr>\n",
       "  </thead>\n",
       "  <tbody>\n",
       "    <tr>\n",
       "      <th>4</th>\n",
       "      <td>331.5</td>\n",
       "      <td>4170</td>\n",
       "      <td>5000</td>\n",
       "      <td>1910</td>\n",
       "      <td>2370</td>\n",
       "      <td>1438</td>\n",
       "      <td>2.0</td>\n",
       "      <td>7</td>\n",
       "      <td>3</td>\n",
       "      <td>2</td>\n",
       "    </tr>\n",
       "  </tbody>\n",
       "</table>\n",
       "</div>"
      ],
      "text/plain": [
       "   TOTAL_VALUE   TAX  LOT_SQFT  YR_BUILT  GROSS_AREA  LIVING_AREA  FLOORS  \\\n",
       "4        331.5  4170      5000      1910        2370         1438     2.0   \n",
       "\n",
       "   ROOMS  BEDROOMS  FULL_BATH  \n",
       "4      7         3          2  "
      ]
     },
     "execution_count": 12,
     "metadata": {},
     "output_type": "execute_result"
    }
   ],
   "source": [
    "housing_df.iloc[4:5, 0:10]"
   ]
  },
  {
   "cell_type": "markdown",
   "metadata": {
    "cell_id": "00025-7c9a380b-bb03-4510-ad0b-5245ae9194b7",
    "deepnote_cell_type": "markdown"
   },
   "source": [
    "Use the `pd.concat` method if you want to combine non-consecutive columns into a new data frame. The `axis` argument specifies the dimension along which the concatenation happens, 0=rows, 1=columns."
   ]
  },
  {
   "cell_type": "code",
   "execution_count": 13,
   "metadata": {
    "cell_id": "00026-70c3f741-9101-4029-9581-eb757d013861",
    "deepnote_cell_type": "code",
    "deepnote_to_be_reexecuted": false,
    "execution_millis": 7,
    "execution_start": 1609784961452,
    "source_hash": "a748e0b3"
   },
   "outputs": [
    {
     "data": {
      "application/vnd.deepnote.dataframe.v2+json": {
       "column_count": 4,
       "columns": [
        {
         "dtype": "float64",
         "name": "TOTAL_VALUE",
         "stats": {
          "histogram": [
           {
            "bin_end": 332.09,
            "bin_start": 331.5,
            "count": 1
           },
           {
            "bin_end": 332.68,
            "bin_start": 332.09,
            "count": 0
           },
           {
            "bin_end": 333.27,
            "bin_start": 332.68,
            "count": 0
           },
           {
            "bin_end": 333.86,
            "bin_start": 333.27,
            "count": 0
           },
           {
            "bin_end": 334.45,
            "bin_start": 333.86,
            "count": 0
           },
           {
            "bin_end": 335.03999999999996,
            "bin_start": 334.45,
            "count": 0
           },
           {
            "bin_end": 335.63,
            "bin_start": 335.03999999999996,
            "count": 0
           },
           {
            "bin_end": 336.21999999999997,
            "bin_start": 335.63,
            "count": 0
           },
           {
            "bin_end": 336.81,
            "bin_start": 336.21999999999997,
            "count": 0
           },
           {
            "bin_end": 337.4,
            "bin_start": 336.81,
            "count": 1
           }
          ],
          "max": 337.4,
          "min": 331.5,
          "nan_count": 0,
          "unique_count": 2
         }
        },
        {
         "dtype": "int64",
         "name": "TAX",
         "stats": {
          "histogram": [
           {
            "bin_end": 4177.4,
            "bin_start": 4170,
            "count": 1
           },
           {
            "bin_end": 4184.8,
            "bin_start": 4177.4,
            "count": 0
           },
           {
            "bin_end": 4192.2,
            "bin_start": 4184.8,
            "count": 0
           },
           {
            "bin_end": 4199.6,
            "bin_start": 4192.2,
            "count": 0
           },
           {
            "bin_end": 4207,
            "bin_start": 4199.6,
            "count": 0
           },
           {
            "bin_end": 4214.4,
            "bin_start": 4207,
            "count": 0
           },
           {
            "bin_end": 4221.8,
            "bin_start": 4214.4,
            "count": 0
           },
           {
            "bin_end": 4229.2,
            "bin_start": 4221.8,
            "count": 0
           },
           {
            "bin_end": 4236.6,
            "bin_start": 4229.2,
            "count": 0
           },
           {
            "bin_end": 4244,
            "bin_start": 4236.6,
            "count": 1
           }
          ],
          "max": 4244,
          "min": 4170,
          "nan_count": 0,
          "unique_count": 2
         }
        },
        {
         "dtype": "int64",
         "name": "GROSS_AREA",
         "stats": {
          "histogram": [
           {
            "bin_end": 2148.6,
            "bin_start": 2124,
            "count": 1
           },
           {
            "bin_end": 2173.2,
            "bin_start": 2148.6,
            "count": 0
           },
           {
            "bin_end": 2197.8,
            "bin_start": 2173.2,
            "count": 0
           },
           {
            "bin_end": 2222.4,
            "bin_start": 2197.8,
            "count": 0
           },
           {
            "bin_end": 2247,
            "bin_start": 2222.4,
            "count": 0
           },
           {
            "bin_end": 2271.6,
            "bin_start": 2247,
            "count": 0
           },
           {
            "bin_end": 2296.2,
            "bin_start": 2271.6,
            "count": 0
           },
           {
            "bin_end": 2320.8,
            "bin_start": 2296.2,
            "count": 0
           },
           {
            "bin_end": 2345.4,
            "bin_start": 2320.8,
            "count": 0
           },
           {
            "bin_end": 2370,
            "bin_start": 2345.4,
            "count": 1
           }
          ],
          "max": 2370,
          "min": 2124,
          "nan_count": 0,
          "unique_count": 2
         }
        },
        {
         "dtype": "int64",
         "name": "LIVING_AREA",
         "stats": {
          "histogram": [
           {
            "bin_end": 1097.8,
            "bin_start": 1060,
            "count": 1
           },
           {
            "bin_end": 1135.6,
            "bin_start": 1097.8,
            "count": 0
           },
           {
            "bin_end": 1173.4,
            "bin_start": 1135.6,
            "count": 0
           },
           {
            "bin_end": 1211.2,
            "bin_start": 1173.4,
            "count": 0
           },
           {
            "bin_end": 1249,
            "bin_start": 1211.2,
            "count": 0
           },
           {
            "bin_end": 1286.8,
            "bin_start": 1249,
            "count": 0
           },
           {
            "bin_end": 1324.6,
            "bin_start": 1286.8,
            "count": 0
           },
           {
            "bin_end": 1362.4,
            "bin_start": 1324.6,
            "count": 0
           },
           {
            "bin_end": 1400.2,
            "bin_start": 1362.4,
            "count": 0
           },
           {
            "bin_end": 1438,
            "bin_start": 1400.2,
            "count": 1
           }
          ],
          "max": 1438,
          "min": 1060,
          "nan_count": 0,
          "unique_count": 2
         }
        },
        {
         "dtype": "int64",
         "name": "_deepnote_index_column"
        }
       ],
       "row_count": 2,
       "rows_bottom": null,
       "rows_top": [
        {
         "GROSS_AREA": 2370,
         "LIVING_AREA": 1438,
         "TAX": 4170,
         "TOTAL_VALUE": 331.5,
         "_deepnote_index_column": 4
        },
        {
         "GROSS_AREA": 2124,
         "LIVING_AREA": 1060,
         "TAX": 4244,
         "TOTAL_VALUE": 337.4,
         "_deepnote_index_column": 5
        }
       ]
      },
      "text/html": [
       "<div>\n",
       "<style scoped>\n",
       "    .dataframe tbody tr th:only-of-type {\n",
       "        vertical-align: middle;\n",
       "    }\n",
       "\n",
       "    .dataframe tbody tr th {\n",
       "        vertical-align: top;\n",
       "    }\n",
       "\n",
       "    .dataframe thead th {\n",
       "        text-align: right;\n",
       "    }\n",
       "</style>\n",
       "<table border=\"1\" class=\"dataframe\">\n",
       "  <thead>\n",
       "    <tr style=\"text-align: right;\">\n",
       "      <th></th>\n",
       "      <th>TOTAL_VALUE</th>\n",
       "      <th>TAX</th>\n",
       "      <th>GROSS_AREA</th>\n",
       "      <th>LIVING_AREA</th>\n",
       "    </tr>\n",
       "  </thead>\n",
       "  <tbody>\n",
       "    <tr>\n",
       "      <th>4</th>\n",
       "      <td>331.5</td>\n",
       "      <td>4170</td>\n",
       "      <td>2370</td>\n",
       "      <td>1438</td>\n",
       "    </tr>\n",
       "    <tr>\n",
       "      <th>5</th>\n",
       "      <td>337.4</td>\n",
       "      <td>4244</td>\n",
       "      <td>2124</td>\n",
       "      <td>1060</td>\n",
       "    </tr>\n",
       "  </tbody>\n",
       "</table>\n",
       "</div>"
      ],
      "text/plain": [
       "   TOTAL_VALUE   TAX  GROSS_AREA  LIVING_AREA\n",
       "4        331.5  4170        2370         1438\n",
       "5        337.4  4244        2124         1060"
      ]
     },
     "execution_count": 13,
     "metadata": {},
     "output_type": "execute_result"
    }
   ],
   "source": [
    "pd.concat([housing_df.iloc[4:6,0:2], housing_df.iloc[4:6,4:6]], axis=1)"
   ]
  },
  {
   "cell_type": "markdown",
   "metadata": {
    "cell_id": "00027-5336bf3a-7e53-46c9-a5d6-c69238f077d7",
    "deepnote_cell_type": "markdown"
   },
   "source": [
    "To specify a full column, use the `:` on its own.\n",
    "```\n",
    "housing.iloc[:,0:1]\n",
    "```\n",
    "A often more practical way is to use the column name as follows"
   ]
  },
  {
   "cell_type": "code",
   "execution_count": 14,
   "metadata": {
    "cell_id": "00028-2285a197-0f05-4193-b7e3-dc8ae8190e2c",
    "deepnote_cell_type": "code",
    "deepnote_to_be_reexecuted": false,
    "execution_millis": 2,
    "execution_start": 1609784961462,
    "scrolled": false,
    "source_hash": "e20930bd"
   },
   "outputs": [
    {
     "data": {
      "text/plain": [
       "0       344.2\n",
       "1       412.6\n",
       "2       330.1\n",
       "3       498.6\n",
       "4       331.5\n",
       "        ...  \n",
       "5797    404.8\n",
       "5798    407.9\n",
       "5799    406.5\n",
       "5800    308.7\n",
       "5801    447.6\n",
       "Name: TOTAL_VALUE, Length: 5802, dtype: float64"
      ]
     },
     "execution_count": 14,
     "metadata": {},
     "output_type": "execute_result"
    }
   ],
   "source": [
    "housing_df['TOTAL_VALUE']"
   ]
  },
  {
   "cell_type": "markdown",
   "metadata": {
    "cell_id": "00029-504e2df3-216a-4aac-808b-20919a8db04e",
    "deepnote_cell_type": "markdown"
   },
   "source": [
    "We can subset the column using a slice"
   ]
  },
  {
   "cell_type": "code",
   "execution_count": 15,
   "metadata": {
    "cell_id": "00030-d299f8f9-b657-4ca2-b1f3-e2eca8974bc9",
    "deepnote_cell_type": "code",
    "deepnote_to_be_reexecuted": false,
    "execution_millis": 4,
    "execution_start": 1609784961467,
    "source_hash": "1d4be328"
   },
   "outputs": [
    {
     "data": {
      "text/plain": [
       "0    344.2\n",
       "1    412.6\n",
       "2    330.1\n",
       "3    498.6\n",
       "4    331.5\n",
       "5    337.4\n",
       "6    359.4\n",
       "7    320.4\n",
       "8    333.5\n",
       "9    409.4\n",
       "Name: TOTAL_VALUE, dtype: float64"
      ]
     },
     "execution_count": 15,
     "metadata": {},
     "output_type": "execute_result"
    }
   ],
   "source": [
    "housing_df['TOTAL_VALUE'][0:10]"
   ]
  },
  {
   "cell_type": "markdown",
   "metadata": {
    "cell_id": "00031-697c3009-8ad7-422d-b3f1-c8b4b953dbf6",
    "deepnote_cell_type": "markdown"
   },
   "source": [
    "Pandas provides a number of ways to access statistics of the columns."
   ]
  },
  {
   "cell_type": "code",
   "execution_count": 16,
   "metadata": {
    "cell_id": "00032-6748e6c9-74b1-40c9-a42b-eea98f0e332f",
    "deepnote_cell_type": "code",
    "deepnote_to_be_reexecuted": false,
    "execution_millis": 3,
    "execution_start": 1609784961473,
    "source_hash": "b28d4ea0"
   },
   "outputs": [
    {
     "name": "stdout",
     "output_type": "stream",
     "text": [
      "Number of rows  5802\n",
      "Mean of TOTAL_VALUE  392.6857149258877\n"
     ]
    }
   ],
   "source": [
    "print('Number of rows ', len(housing_df['TOTAL_VALUE']))\n",
    "print('Mean of TOTAL_VALUE ', housing_df['TOTAL_VALUE'].mean())"
   ]
  },
  {
   "cell_type": "markdown",
   "metadata": {
    "cell_id": "00033-7342a639-4672-4434-ad25-c835c9d8effd",
    "deepnote_cell_type": "markdown"
   },
   "source": [
    "A data frame also has the method `describe` that prints a number of common statistics "
   ]
  },
  {
   "cell_type": "code",
   "execution_count": 17,
   "metadata": {
    "cell_id": "00034-f65d6454-3d8b-4022-8b87-4ce30ed2b800",
    "deepnote_cell_type": "code",
    "deepnote_to_be_reexecuted": false,
    "execution_millis": 1,
    "execution_start": 1609784961521,
    "source_hash": "1b1ea93d"
   },
   "outputs": [
    {
     "data": {
      "text/plain": [
       "count    5802.000000\n",
       "mean      392.685715\n",
       "std        99.177414\n",
       "min       105.000000\n",
       "25%       325.125000\n",
       "50%       375.900000\n",
       "75%       438.775000\n",
       "max      1217.800000\n",
       "Name: TOTAL_VALUE, dtype: float64"
      ]
     },
     "execution_count": 17,
     "metadata": {},
     "output_type": "execute_result"
    }
   ],
   "source": [
    "housing_df['TOTAL_VALUE'].describe()"
   ]
  },
  {
   "cell_type": "code",
   "execution_count": 18,
   "metadata": {
    "cell_id": "00035-d246bd72-321b-4ba8-92f2-fa2727c549ff",
    "deepnote_cell_type": "code",
    "deepnote_to_be_reexecuted": false,
    "execution_millis": 35,
    "execution_start": 1609784961522,
    "source_hash": "6ff7cdc8"
   },
   "outputs": [
    {
     "data": {
      "application/vnd.deepnote.dataframe.v2+json": {
       "column_count": 13,
       "columns": [
        {
         "dtype": "float64",
         "name": "TOTAL_VALUE",
         "stats": {
          "histogram": [
           {
            "bin_end": 669.4596727815507,
            "bin_start": 99.17741420172301,
            "count": 6
           },
           {
            "bin_end": 1239.7419313613784,
            "bin_start": 669.4596727815507,
            "count": 1
           },
           {
            "bin_end": 1810.0241899412063,
            "bin_start": 1239.7419313613784,
            "count": 0
           },
           {
            "bin_end": 2380.306448521034,
            "bin_start": 1810.0241899412063,
            "count": 0
           },
           {
            "bin_end": 2950.5887071008615,
            "bin_start": 2380.306448521034,
            "count": 0
           },
           {
            "bin_end": 3520.8709656806896,
            "bin_start": 2950.5887071008615,
            "count": 0
           },
           {
            "bin_end": 4091.153224260517,
            "bin_start": 3520.8709656806896,
            "count": 0
           },
           {
            "bin_end": 4661.435482840345,
            "bin_start": 4091.153224260517,
            "count": 0
           },
           {
            "bin_end": 5231.717741420172,
            "bin_start": 4661.435482840345,
            "count": 0
           },
           {
            "bin_end": 5802,
            "bin_start": 5231.717741420172,
            "count": 1
           }
          ],
          "max": 5802,
          "min": 99.17741420172301,
          "nan_count": 0,
          "unique_count": 8
         }
        },
        {
         "dtype": "float64",
         "name": "TAX",
         "stats": {
          "histogram": [
           {
            "bin_end": 2654.784206167147,
            "bin_start": 1247.649117963497,
            "count": 2
           },
           {
            "bin_end": 4061.9192943707976,
            "bin_start": 2654.784206167147,
            "count": 0
           },
           {
            "bin_end": 5469.054382574447,
            "bin_start": 4061.9192943707976,
            "count": 3
           },
           {
            "bin_end": 6876.1894707780975,
            "bin_start": 5469.054382574447,
            "count": 2
           },
           {
            "bin_end": 8283.324558981749,
            "bin_start": 6876.1894707780975,
            "count": 0
           },
           {
            "bin_end": 9690.459647185398,
            "bin_start": 8283.324558981749,
            "count": 0
           },
           {
            "bin_end": 11097.59473538905,
            "bin_start": 9690.459647185398,
            "count": 0
           },
           {
            "bin_end": 12504.7298235927,
            "bin_start": 11097.59473538905,
            "count": 0
           },
           {
            "bin_end": 13911.864911796349,
            "bin_start": 12504.7298235927,
            "count": 0
           },
           {
            "bin_end": 15319,
            "bin_start": 13911.864911796349,
            "count": 1
           }
          ],
          "max": 15319,
          "min": 1247.649117963497,
          "nan_count": 0,
          "unique_count": 8
         }
        },
        {
         "dtype": "float64",
         "name": "LOT_SQFT",
         "stats": {
          "histogram": [
           {
            "bin_end": 5538.4,
            "bin_start": 997,
            "count": 3
           },
           {
            "bin_end": 10079.8,
            "bin_start": 5538.4,
            "count": 4
           },
           {
            "bin_end": 14621.199999999999,
            "bin_start": 10079.8,
            "count": 0
           },
           {
            "bin_end": 19162.6,
            "bin_start": 14621.199999999999,
            "count": 0
           },
           {
            "bin_end": 23704,
            "bin_start": 19162.6,
            "count": 0
           },
           {
            "bin_end": 28245.399999999998,
            "bin_start": 23704,
            "count": 0
           },
           {
            "bin_end": 32786.799999999996,
            "bin_start": 28245.399999999998,
            "count": 0
           },
           {
            "bin_end": 37328.2,
            "bin_start": 32786.799999999996,
            "count": 0
           },
           {
            "bin_end": 41869.6,
            "bin_start": 37328.2,
            "count": 0
           },
           {
            "bin_end": 46411,
            "bin_start": 41869.6,
            "count": 1
           }
          ],
          "max": 46411,
          "min": 997,
          "nan_count": 0,
          "unique_count": 8
         }
        },
        {
         "dtype": "float64",
         "name": "YR_BUILT",
         "stats": {
          "histogram": [
           {
            "bin_end": 580.2,
            "bin_start": 0,
            "count": 2
           },
           {
            "bin_end": 1160.4,
            "bin_start": 580.2,
            "count": 0
           },
           {
            "bin_end": 1740.6000000000001,
            "bin_start": 1160.4,
            "count": 0
           },
           {
            "bin_end": 2320.8,
            "bin_start": 1740.6000000000001,
            "count": 5
           },
           {
            "bin_end": 2901,
            "bin_start": 2320.8,
            "count": 0
           },
           {
            "bin_end": 3481.2000000000003,
            "bin_start": 2901,
            "count": 0
           },
           {
            "bin_end": 4061.4000000000005,
            "bin_start": 3481.2000000000003,
            "count": 0
           },
           {
            "bin_end": 4641.6,
            "bin_start": 4061.4000000000005,
            "count": 0
           },
           {
            "bin_end": 5221.8,
            "bin_start": 4641.6,
            "count": 0
           },
           {
            "bin_end": 5802,
            "bin_start": 5221.8,
            "count": 1
           }
          ],
          "max": 5802,
          "min": 0,
          "nan_count": 0,
          "unique_count": 8
         }
        },
        {
         "dtype": "float64",
         "name": "GROSS_AREA",
         "stats": {
          "histogram": [
           {
            "bin_end": 1554.3,
            "bin_start": 821,
            "count": 2
           },
           {
            "bin_end": 2287.6,
            "bin_start": 1554.3,
            "count": 0
           },
           {
            "bin_end": 3020.8999999999996,
            "bin_start": 2287.6,
            "count": 3
           },
           {
            "bin_end": 3754.2,
            "bin_start": 3020.8999999999996,
            "count": 1
           },
           {
            "bin_end": 4487.5,
            "bin_start": 3754.2,
            "count": 0
           },
           {
            "bin_end": 5220.799999999999,
            "bin_start": 4487.5,
            "count": 0
           },
           {
            "bin_end": 5954.099999999999,
            "bin_start": 5220.799999999999,
            "count": 1
           },
           {
            "bin_end": 6687.4,
            "bin_start": 5954.099999999999,
            "count": 0
           },
           {
            "bin_end": 7420.7,
            "bin_start": 6687.4,
            "count": 0
           },
           {
            "bin_end": 8154,
            "bin_start": 7420.7,
            "count": 1
           }
          ],
          "max": 8154,
          "min": 821,
          "nan_count": 0,
          "unique_count": 8
         }
        },
        {
         "dtype": "float64",
         "name": "LIVING_AREA",
         "stats": {
          "histogram": [
           {
            "bin_end": 1033.8,
            "bin_start": 504,
            "count": 2
           },
           {
            "bin_end": 1563.6,
            "bin_start": 1033.8,
            "count": 2
           },
           {
            "bin_end": 2093.3999999999996,
            "bin_start": 1563.6,
            "count": 2
           },
           {
            "bin_end": 2623.2,
            "bin_start": 2093.3999999999996,
            "count": 0
           },
           {
            "bin_end": 3153,
            "bin_start": 2623.2,
            "count": 0
           },
           {
            "bin_end": 3682.7999999999997,
            "bin_start": 3153,
            "count": 0
           },
           {
            "bin_end": 4212.599999999999,
            "bin_start": 3682.7999999999997,
            "count": 0
           },
           {
            "bin_end": 4742.4,
            "bin_start": 4212.599999999999,
            "count": 0
           },
           {
            "bin_end": 5272.2,
            "bin_start": 4742.4,
            "count": 0
           },
           {
            "bin_end": 5802,
            "bin_start": 5272.2,
            "count": 2
           }
          ],
          "max": 5802,
          "min": 504,
          "nan_count": 0,
          "unique_count": 8
         }
        },
        {
         "dtype": "float64",
         "name": "FLOORS",
         "stats": {
          "histogram": [
           {
            "bin_end": 580.6003955791506,
            "bin_start": 0.44488397683390424,
            "count": 7
           },
           {
            "bin_end": 1160.7559071814671,
            "bin_start": 580.6003955791506,
            "count": 0
           },
           {
            "bin_end": 1740.9114187837838,
            "bin_start": 1160.7559071814671,
            "count": 0
           },
           {
            "bin_end": 2321.0669303861005,
            "bin_start": 1740.9114187837838,
            "count": 0
           },
           {
            "bin_end": 2901.222441988417,
            "bin_start": 2321.0669303861005,
            "count": 0
           },
           {
            "bin_end": 3481.377953590734,
            "bin_start": 2901.222441988417,
            "count": 0
           },
           {
            "bin_end": 4061.5334651930507,
            "bin_start": 3481.377953590734,
            "count": 0
           },
           {
            "bin_end": 4641.688976795367,
            "bin_start": 4061.5334651930507,
            "count": 0
           },
           {
            "bin_end": 5221.844488397684,
            "bin_start": 4641.688976795367,
            "count": 0
           },
           {
            "bin_end": 5802,
            "bin_start": 5221.844488397684,
            "count": 1
           }
          ],
          "max": 5802,
          "min": 0.44488397683390424,
          "nan_count": 0,
          "unique_count": 6
         }
        },
        {
         "dtype": "float64",
         "name": "ROOMS",
         "stats": {
          "histogram": [
           {
            "bin_end": 581.4938914972406,
            "bin_start": 1.4376572191563473,
            "count": 7
           },
           {
            "bin_end": 1161.550125775325,
            "bin_start": 581.4938914972406,
            "count": 0
           },
           {
            "bin_end": 1741.6063600534092,
            "bin_start": 1161.550125775325,
            "count": 0
           },
           {
            "bin_end": 2321.6625943314934,
            "bin_start": 1741.6063600534092,
            "count": 0
           },
           {
            "bin_end": 2901.7188286095775,
            "bin_start": 2321.6625943314934,
            "count": 0
           },
           {
            "bin_end": 3481.775062887662,
            "bin_start": 2901.7188286095775,
            "count": 0
           },
           {
            "bin_end": 4061.8312971657465,
            "bin_start": 3481.775062887662,
            "count": 0
           },
           {
            "bin_end": 4641.887531443831,
            "bin_start": 4061.8312971657465,
            "count": 0
           },
           {
            "bin_end": 5221.943765721915,
            "bin_start": 4641.887531443831,
            "count": 0
           },
           {
            "bin_end": 5802,
            "bin_start": 5221.943765721915,
            "count": 1
           }
          ],
          "max": 5802,
          "min": 1.4376572191563473,
          "nan_count": 0,
          "unique_count": 8
         }
        },
        {
         "dtype": "float64",
         "name": "BEDROOMS",
         "stats": {
          "histogram": [
           {
            "bin_end": 580.961946044736,
            "bin_start": 0.846606716373366,
            "count": 7
           },
           {
            "bin_end": 1161.0772853730987,
            "bin_start": 580.961946044736,
            "count": 0
           },
           {
            "bin_end": 1741.1926247014615,
            "bin_start": 1161.0772853730987,
            "count": 0
           },
           {
            "bin_end": 2321.3079640298242,
            "bin_start": 1741.1926247014615,
            "count": 0
           },
           {
            "bin_end": 2901.423303358187,
            "bin_start": 2321.3079640298242,
            "count": 0
           },
           {
            "bin_end": 3481.53864268655,
            "bin_start": 2901.423303358187,
            "count": 0
           },
           {
            "bin_end": 4061.6539820149123,
            "bin_start": 3481.53864268655,
            "count": 0
           },
           {
            "bin_end": 4641.769321343275,
            "bin_start": 4061.6539820149123,
            "count": 0
           },
           {
            "bin_end": 5221.884660671638,
            "bin_start": 4641.769321343275,
            "count": 0
           },
           {
            "bin_end": 5802,
            "bin_start": 5221.884660671638,
            "count": 1
           }
          ],
          "max": 5802,
          "min": 0.846606716373366,
          "nan_count": 0,
          "unique_count": 7
         }
        },
        {
         "dtype": "float64",
         "name": "FULL_BATH",
         "stats": {
          "histogram": [
           {
            "bin_end": 580.6698357665925,
            "bin_start": 0.5220397406583658,
            "count": 7
           },
           {
            "bin_end": 1160.8176317925268,
            "bin_start": 580.6698357665925,
            "count": 0
           },
           {
            "bin_end": 1740.965427818461,
            "bin_start": 1160.8176317925268,
            "count": 0
           },
           {
            "bin_end": 2321.113223844395,
            "bin_start": 1740.965427818461,
            "count": 0
           },
           {
            "bin_end": 2901.2610198703296,
            "bin_start": 2321.113223844395,
            "count": 0
           },
           {
            "bin_end": 3481.4088158962636,
            "bin_start": 2901.2610198703296,
            "count": 0
           },
           {
            "bin_end": 4061.5566119221976,
            "bin_start": 3481.4088158962636,
            "count": 0
           },
           {
            "bin_end": 4641.704407948132,
            "bin_start": 4061.5566119221976,
            "count": 0
           },
           {
            "bin_end": 5221.8522039740665,
            "bin_start": 4641.704407948132,
            "count": 0
           },
           {
            "bin_end": 5802,
            "bin_start": 5221.8522039740665,
            "count": 1
           }
          ],
          "max": 5802,
          "min": 0.5220397406583658,
          "nan_count": 0,
          "unique_count": 6
         }
        },
        {
         "dtype": "float64",
         "name": "HALF_BATH",
         "stats": {
          "histogram": [
           {
            "bin_end": 580.2,
            "bin_start": 0,
            "count": 7
           },
           {
            "bin_end": 1160.4,
            "bin_start": 580.2,
            "count": 0
           },
           {
            "bin_end": 1740.6000000000001,
            "bin_start": 1160.4,
            "count": 0
           },
           {
            "bin_end": 2320.8,
            "bin_start": 1740.6000000000001,
            "count": 0
           },
           {
            "bin_end": 2901,
            "bin_start": 2320.8,
            "count": 0
           },
           {
            "bin_end": 3481.2000000000003,
            "bin_start": 2901,
            "count": 0
           },
           {
            "bin_end": 4061.4000000000005,
            "bin_start": 3481.2000000000003,
            "count": 0
           },
           {
            "bin_end": 4641.6,
            "bin_start": 4061.4000000000005,
            "count": 0
           },
           {
            "bin_end": 5221.8,
            "bin_start": 4641.6,
            "count": 0
           },
           {
            "bin_end": 5802,
            "bin_start": 5221.8,
            "count": 1
           }
          ],
          "max": 5802,
          "min": 0,
          "nan_count": 0,
          "unique_count": 6
         }
        },
        {
         "dtype": "float64",
         "name": "KITCHEN",
         "stats": {
          "histogram": [
           {
            "bin_end": 580.3106188985523,
            "bin_start": 0.12290988728050037,
            "count": 7
           },
           {
            "bin_end": 1160.4983279098242,
            "bin_start": 580.3106188985523,
            "count": 0
           },
           {
            "bin_end": 1740.686036921096,
            "bin_start": 1160.4983279098242,
            "count": 0
           },
           {
            "bin_end": 2320.873745932368,
            "bin_start": 1740.686036921096,
            "count": 0
           },
           {
            "bin_end": 2901.06145494364,
            "bin_start": 2320.873745932368,
            "count": 0
           },
           {
            "bin_end": 3481.2491639549116,
            "bin_start": 2901.06145494364,
            "count": 0
           },
           {
            "bin_end": 4061.4368729661833,
            "bin_start": 3481.2491639549116,
            "count": 0
           },
           {
            "bin_end": 4641.624581977456,
            "bin_start": 4061.4368729661833,
            "count": 0
           },
           {
            "bin_end": 5221.812290988728,
            "bin_start": 4641.624581977456,
            "count": 0
           },
           {
            "bin_end": 5802,
            "bin_start": 5221.812290988728,
            "count": 1
           }
          ],
          "max": 5802,
          "min": 0.12290988728050037,
          "nan_count": 0,
          "unique_count": 5
         }
        },
        {
         "dtype": "float64",
         "name": "FIREPLACE",
         "stats": {
          "histogram": [
           {
            "bin_end": 580.2,
            "bin_start": 0,
            "count": 7
           },
           {
            "bin_end": 1160.4,
            "bin_start": 580.2,
            "count": 0
           },
           {
            "bin_end": 1740.6000000000001,
            "bin_start": 1160.4,
            "count": 0
           },
           {
            "bin_end": 2320.8,
            "bin_start": 1740.6000000000001,
            "count": 0
           },
           {
            "bin_end": 2901,
            "bin_start": 2320.8,
            "count": 0
           },
           {
            "bin_end": 3481.2000000000003,
            "bin_start": 2901,
            "count": 0
           },
           {
            "bin_end": 4061.4000000000005,
            "bin_start": 3481.2000000000003,
            "count": 0
           },
           {
            "bin_end": 4641.6,
            "bin_start": 4061.4000000000005,
            "count": 0
           },
           {
            "bin_end": 5221.8,
            "bin_start": 4641.6,
            "count": 0
           },
           {
            "bin_end": 5802,
            "bin_start": 5221.8,
            "count": 1
           }
          ],
          "max": 5802,
          "min": 0,
          "nan_count": 0,
          "unique_count": 6
         }
        },
        {
         "dtype": "object",
         "name": "_deepnote_index_column"
        }
       ],
       "row_count": 8,
       "rows_bottom": null,
       "rows_top": [
        {
         "BEDROOMS": 5802,
         "FIREPLACE": 5802,
         "FLOORS": 5802,
         "FULL_BATH": 5802,
         "GROSS_AREA": 5802,
         "HALF_BATH": 5802,
         "KITCHEN": 5802,
         "LIVING_AREA": 5802,
         "LOT_SQFT": 5802,
         "ROOMS": 5802,
         "TAX": 5802,
         "TOTAL_VALUE": 5802,
         "YR_BUILT": 5802,
         "_deepnote_index_column": "count"
        },
        {
         "BEDROOMS": 3.2300930713547054,
         "FIREPLACE": 0.7399172699069286,
         "FLOORS": 1.6837297483626337,
         "FULL_BATH": 1.296794208893485,
         "GROSS_AREA": 2924.8421234057223,
         "HALF_BATH": 0.613926232333678,
         "KITCHEN": 1.0153395380903136,
         "LIVING_AREA": 1657.0653223026543,
         "LOT_SQFT": 6278.083764219235,
         "ROOMS": 6.994829369183041,
         "TAX": 4939.485866942434,
         "TOTAL_VALUE": 392.6857149258877,
         "YR_BUILT": 1936.7449155463632,
         "_deepnote_index_column": "mean"
        },
        {
         "BEDROOMS": 0.846606716373366,
         "FIREPLACE": 0.5651084443891607,
         "FLOORS": 0.44488397683390424,
         "FULL_BATH": 0.5220397406583658,
         "GROSS_AREA": 883.9847256823055,
         "HALF_BATH": 0.5338393430003566,
         "KITCHEN": 0.12290988728050037,
         "LIVING_AREA": 540.4567255588883,
         "LOT_SQFT": 2669.707973847513,
         "ROOMS": 1.4376572191563473,
         "TAX": 1247.649117963497,
         "TOTAL_VALUE": 99.17741420172301,
         "YR_BUILT": 35.98991046676451,
         "_deepnote_index_column": "std"
        },
        {
         "BEDROOMS": 1,
         "FIREPLACE": 0,
         "FLOORS": 1,
         "FULL_BATH": 1,
         "GROSS_AREA": 821,
         "HALF_BATH": 0,
         "KITCHEN": 1,
         "LIVING_AREA": 504,
         "LOT_SQFT": 997,
         "ROOMS": 3,
         "TAX": 1320,
         "TOTAL_VALUE": 105,
         "YR_BUILT": 0,
         "_deepnote_index_column": "min"
        },
        {
         "BEDROOMS": 3,
         "FIREPLACE": 0,
         "FLOORS": 1,
         "FULL_BATH": 1,
         "GROSS_AREA": 2347,
         "HALF_BATH": 0,
         "KITCHEN": 1,
         "LIVING_AREA": 1308,
         "LOT_SQFT": 4772,
         "ROOMS": 6,
         "TAX": 4089.5,
         "TOTAL_VALUE": 325.125,
         "YR_BUILT": 1920,
         "_deepnote_index_column": "25%"
        },
        {
         "BEDROOMS": 3,
         "FIREPLACE": 1,
         "FLOORS": 2,
         "FULL_BATH": 1,
         "GROSS_AREA": 2700,
         "HALF_BATH": 1,
         "KITCHEN": 1,
         "LIVING_AREA": 1548.5,
         "LOT_SQFT": 5683,
         "ROOMS": 7,
         "TAX": 4728,
         "TOTAL_VALUE": 375.9,
         "YR_BUILT": 1935,
         "_deepnote_index_column": "50%"
        },
        {
         "BEDROOMS": 4,
         "FIREPLACE": 1,
         "FLOORS": 2,
         "FULL_BATH": 2,
         "GROSS_AREA": 3239,
         "HALF_BATH": 1,
         "KITCHEN": 1,
         "LIVING_AREA": 1873.75,
         "LOT_SQFT": 7022.25,
         "ROOMS": 8,
         "TAX": 5519.5,
         "TOTAL_VALUE": 438.77500000000003,
         "YR_BUILT": 1955,
         "_deepnote_index_column": "75%"
        },
        {
         "BEDROOMS": 9,
         "FIREPLACE": 4,
         "FLOORS": 3,
         "FULL_BATH": 5,
         "GROSS_AREA": 8154,
         "HALF_BATH": 3,
         "KITCHEN": 2,
         "LIVING_AREA": 5289,
         "LOT_SQFT": 46411,
         "ROOMS": 14,
         "TAX": 15319,
         "TOTAL_VALUE": 1217.8,
         "YR_BUILT": 2011,
         "_deepnote_index_column": "max"
        }
       ]
      },
      "text/html": [
       "<div>\n",
       "<style scoped>\n",
       "    .dataframe tbody tr th:only-of-type {\n",
       "        vertical-align: middle;\n",
       "    }\n",
       "\n",
       "    .dataframe tbody tr th {\n",
       "        vertical-align: top;\n",
       "    }\n",
       "\n",
       "    .dataframe thead th {\n",
       "        text-align: right;\n",
       "    }\n",
       "</style>\n",
       "<table border=\"1\" class=\"dataframe\">\n",
       "  <thead>\n",
       "    <tr style=\"text-align: right;\">\n",
       "      <th></th>\n",
       "      <th>TOTAL_VALUE</th>\n",
       "      <th>TAX</th>\n",
       "      <th>LOT_SQFT</th>\n",
       "      <th>YR_BUILT</th>\n",
       "      <th>GROSS_AREA</th>\n",
       "      <th>LIVING_AREA</th>\n",
       "      <th>FLOORS</th>\n",
       "      <th>ROOMS</th>\n",
       "      <th>BEDROOMS</th>\n",
       "      <th>FULL_BATH</th>\n",
       "      <th>HALF_BATH</th>\n",
       "      <th>KITCHEN</th>\n",
       "      <th>FIREPLACE</th>\n",
       "    </tr>\n",
       "  </thead>\n",
       "  <tbody>\n",
       "    <tr>\n",
       "      <th>count</th>\n",
       "      <td>5802.000000</td>\n",
       "      <td>5802.000000</td>\n",
       "      <td>5802.000000</td>\n",
       "      <td>5802.000000</td>\n",
       "      <td>5802.000000</td>\n",
       "      <td>5802.000000</td>\n",
       "      <td>5802.000000</td>\n",
       "      <td>5802.000000</td>\n",
       "      <td>5802.000000</td>\n",
       "      <td>5802.000000</td>\n",
       "      <td>5802.000000</td>\n",
       "      <td>5802.00000</td>\n",
       "      <td>5802.000000</td>\n",
       "    </tr>\n",
       "    <tr>\n",
       "      <th>mean</th>\n",
       "      <td>392.685715</td>\n",
       "      <td>4939.485867</td>\n",
       "      <td>6278.083764</td>\n",
       "      <td>1936.744916</td>\n",
       "      <td>2924.842123</td>\n",
       "      <td>1657.065322</td>\n",
       "      <td>1.683730</td>\n",
       "      <td>6.994829</td>\n",
       "      <td>3.230093</td>\n",
       "      <td>1.296794</td>\n",
       "      <td>0.613926</td>\n",
       "      <td>1.01534</td>\n",
       "      <td>0.739917</td>\n",
       "    </tr>\n",
       "    <tr>\n",
       "      <th>std</th>\n",
       "      <td>99.177414</td>\n",
       "      <td>1247.649118</td>\n",
       "      <td>2669.707974</td>\n",
       "      <td>35.989910</td>\n",
       "      <td>883.984726</td>\n",
       "      <td>540.456726</td>\n",
       "      <td>0.444884</td>\n",
       "      <td>1.437657</td>\n",
       "      <td>0.846607</td>\n",
       "      <td>0.522040</td>\n",
       "      <td>0.533839</td>\n",
       "      <td>0.12291</td>\n",
       "      <td>0.565108</td>\n",
       "    </tr>\n",
       "    <tr>\n",
       "      <th>min</th>\n",
       "      <td>105.000000</td>\n",
       "      <td>1320.000000</td>\n",
       "      <td>997.000000</td>\n",
       "      <td>0.000000</td>\n",
       "      <td>821.000000</td>\n",
       "      <td>504.000000</td>\n",
       "      <td>1.000000</td>\n",
       "      <td>3.000000</td>\n",
       "      <td>1.000000</td>\n",
       "      <td>1.000000</td>\n",
       "      <td>0.000000</td>\n",
       "      <td>1.00000</td>\n",
       "      <td>0.000000</td>\n",
       "    </tr>\n",
       "    <tr>\n",
       "      <th>25%</th>\n",
       "      <td>325.125000</td>\n",
       "      <td>4089.500000</td>\n",
       "      <td>4772.000000</td>\n",
       "      <td>1920.000000</td>\n",
       "      <td>2347.000000</td>\n",
       "      <td>1308.000000</td>\n",
       "      <td>1.000000</td>\n",
       "      <td>6.000000</td>\n",
       "      <td>3.000000</td>\n",
       "      <td>1.000000</td>\n",
       "      <td>0.000000</td>\n",
       "      <td>1.00000</td>\n",
       "      <td>0.000000</td>\n",
       "    </tr>\n",
       "    <tr>\n",
       "      <th>50%</th>\n",
       "      <td>375.900000</td>\n",
       "      <td>4728.000000</td>\n",
       "      <td>5683.000000</td>\n",
       "      <td>1935.000000</td>\n",
       "      <td>2700.000000</td>\n",
       "      <td>1548.500000</td>\n",
       "      <td>2.000000</td>\n",
       "      <td>7.000000</td>\n",
       "      <td>3.000000</td>\n",
       "      <td>1.000000</td>\n",
       "      <td>1.000000</td>\n",
       "      <td>1.00000</td>\n",
       "      <td>1.000000</td>\n",
       "    </tr>\n",
       "    <tr>\n",
       "      <th>75%</th>\n",
       "      <td>438.775000</td>\n",
       "      <td>5519.500000</td>\n",
       "      <td>7022.250000</td>\n",
       "      <td>1955.000000</td>\n",
       "      <td>3239.000000</td>\n",
       "      <td>1873.750000</td>\n",
       "      <td>2.000000</td>\n",
       "      <td>8.000000</td>\n",
       "      <td>4.000000</td>\n",
       "      <td>2.000000</td>\n",
       "      <td>1.000000</td>\n",
       "      <td>1.00000</td>\n",
       "      <td>1.000000</td>\n",
       "    </tr>\n",
       "    <tr>\n",
       "      <th>max</th>\n",
       "      <td>1217.800000</td>\n",
       "      <td>15319.000000</td>\n",
       "      <td>46411.000000</td>\n",
       "      <td>2011.000000</td>\n",
       "      <td>8154.000000</td>\n",
       "      <td>5289.000000</td>\n",
       "      <td>3.000000</td>\n",
       "      <td>14.000000</td>\n",
       "      <td>9.000000</td>\n",
       "      <td>5.000000</td>\n",
       "      <td>3.000000</td>\n",
       "      <td>2.00000</td>\n",
       "      <td>4.000000</td>\n",
       "    </tr>\n",
       "  </tbody>\n",
       "</table>\n",
       "</div>"
      ],
      "text/plain": [
       "       TOTAL_VALUE           TAX      LOT_SQFT     YR_BUILT   GROSS_AREA  \\\n",
       "count  5802.000000   5802.000000   5802.000000  5802.000000  5802.000000   \n",
       "mean    392.685715   4939.485867   6278.083764  1936.744916  2924.842123   \n",
       "std      99.177414   1247.649118   2669.707974    35.989910   883.984726   \n",
       "min     105.000000   1320.000000    997.000000     0.000000   821.000000   \n",
       "25%     325.125000   4089.500000   4772.000000  1920.000000  2347.000000   \n",
       "50%     375.900000   4728.000000   5683.000000  1935.000000  2700.000000   \n",
       "75%     438.775000   5519.500000   7022.250000  1955.000000  3239.000000   \n",
       "max    1217.800000  15319.000000  46411.000000  2011.000000  8154.000000   \n",
       "\n",
       "       LIVING_AREA       FLOORS        ROOMS     BEDROOMS    FULL_BATH  \\\n",
       "count  5802.000000  5802.000000  5802.000000  5802.000000  5802.000000   \n",
       "mean   1657.065322     1.683730     6.994829     3.230093     1.296794   \n",
       "std     540.456726     0.444884     1.437657     0.846607     0.522040   \n",
       "min     504.000000     1.000000     3.000000     1.000000     1.000000   \n",
       "25%    1308.000000     1.000000     6.000000     3.000000     1.000000   \n",
       "50%    1548.500000     2.000000     7.000000     3.000000     1.000000   \n",
       "75%    1873.750000     2.000000     8.000000     4.000000     2.000000   \n",
       "max    5289.000000     3.000000    14.000000     9.000000     5.000000   \n",
       "\n",
       "         HALF_BATH     KITCHEN    FIREPLACE  \n",
       "count  5802.000000  5802.00000  5802.000000  \n",
       "mean      0.613926     1.01534     0.739917  \n",
       "std       0.533839     0.12291     0.565108  \n",
       "min       0.000000     1.00000     0.000000  \n",
       "25%       0.000000     1.00000     0.000000  \n",
       "50%       1.000000     1.00000     1.000000  \n",
       "75%       1.000000     1.00000     1.000000  \n",
       "max       3.000000     2.00000     4.000000  "
      ]
     },
     "execution_count": 18,
     "metadata": {},
     "output_type": "execute_result"
    }
   ],
   "source": [
    "housing_df.describe()"
   ]
  },
  {
   "cell_type": "markdown",
   "metadata": {
    "cell_id": "00036-492ce9cb-16a5-4857-8320-d7765a6cbb2e",
    "deepnote_cell_type": "markdown"
   },
   "source": [
    "## Table 2.4\n",
    "Use the `sample` method to retrieve a random sample of observations. Here we sample 5 observations without replacement."
   ]
  },
  {
   "cell_type": "code",
   "execution_count": 19,
   "metadata": {
    "cell_id": "00037-fc71d839-13ac-4b10-ab6d-80fb7029a865",
    "deepnote_cell_type": "code",
    "deepnote_to_be_reexecuted": false,
    "execution_millis": 28,
    "execution_start": 1609784961563,
    "source_hash": "4608cc85"
   },
   "outputs": [
    {
     "data": {
      "application/vnd.deepnote.dataframe.v2+json": {
       "column_count": 14,
       "columns": [
        {
         "dtype": "float64",
         "name": "TOTAL_VALUE",
         "stats": {
          "histogram": [
           {
            "bin_end": 219.11,
            "bin_start": 198.4,
            "count": 1
           },
           {
            "bin_end": 239.82,
            "bin_start": 219.11,
            "count": 0
           },
           {
            "bin_end": 260.53000000000003,
            "bin_start": 239.82,
            "count": 1
           },
           {
            "bin_end": 281.24,
            "bin_start": 260.53000000000003,
            "count": 0
           },
           {
            "bin_end": 301.95000000000005,
            "bin_start": 281.24,
            "count": 0
           },
           {
            "bin_end": 322.66,
            "bin_start": 301.95000000000005,
            "count": 1
           },
           {
            "bin_end": 343.37,
            "bin_start": 322.66,
            "count": 0
           },
           {
            "bin_end": 364.08000000000004,
            "bin_start": 343.37,
            "count": 1
           },
           {
            "bin_end": 384.79,
            "bin_start": 364.08000000000004,
            "count": 0
           },
           {
            "bin_end": 405.5,
            "bin_start": 384.79,
            "count": 1
           }
          ],
          "max": 405.5,
          "min": 198.4,
          "nan_count": 0,
          "unique_count": 5
         }
        },
        {
         "dtype": "int64",
         "name": "TAX",
         "stats": {
          "histogram": [
           {
            "bin_end": 2755.6,
            "bin_start": 2495,
            "count": 1
           },
           {
            "bin_end": 3016.2,
            "bin_start": 2755.6,
            "count": 0
           },
           {
            "bin_end": 3276.8,
            "bin_start": 3016.2,
            "count": 1
           },
           {
            "bin_end": 3537.4,
            "bin_start": 3276.8,
            "count": 0
           },
           {
            "bin_end": 3798,
            "bin_start": 3537.4,
            "count": 0
           },
           {
            "bin_end": 4058.6000000000004,
            "bin_start": 3798,
            "count": 1
           },
           {
            "bin_end": 4319.200000000001,
            "bin_start": 4058.6000000000004,
            "count": 0
           },
           {
            "bin_end": 4579.8,
            "bin_start": 4319.200000000001,
            "count": 1
           },
           {
            "bin_end": 4840.4,
            "bin_start": 4579.8,
            "count": 0
           },
           {
            "bin_end": 5101,
            "bin_start": 4840.4,
            "count": 1
           }
          ],
          "max": 5101,
          "min": 2495,
          "nan_count": 0,
          "unique_count": 5
         }
        },
        {
         "dtype": "int64",
         "name": "LOT_SQFT",
         "stats": {
          "histogram": [
           {
            "bin_end": 3891.3,
            "bin_start": 3228,
            "count": 1
           },
           {
            "bin_end": 4554.6,
            "bin_start": 3891.3,
            "count": 1
           },
           {
            "bin_end": 5217.9,
            "bin_start": 4554.6,
            "count": 1
           },
           {
            "bin_end": 5881.2,
            "bin_start": 5217.9,
            "count": 1
           },
           {
            "bin_end": 6544.5,
            "bin_start": 5881.2,
            "count": 0
           },
           {
            "bin_end": 7207.799999999999,
            "bin_start": 6544.5,
            "count": 0
           },
           {
            "bin_end": 7871.099999999999,
            "bin_start": 7207.799999999999,
            "count": 0
           },
           {
            "bin_end": 8534.4,
            "bin_start": 7871.099999999999,
            "count": 0
           },
           {
            "bin_end": 9197.7,
            "bin_start": 8534.4,
            "count": 0
           },
           {
            "bin_end": 9861,
            "bin_start": 9197.7,
            "count": 1
           }
          ],
          "max": 9861,
          "min": 3228,
          "nan_count": 0,
          "unique_count": 5
         }
        },
        {
         "dtype": "int64",
         "name": "YR_BUILT",
         "stats": {
          "histogram": [
           {
            "bin_end": 1907.6,
            "bin_start": 1901,
            "count": 1
           },
           {
            "bin_end": 1914.2,
            "bin_start": 1907.6,
            "count": 0
           },
           {
            "bin_end": 1920.8,
            "bin_start": 1914.2,
            "count": 1
           },
           {
            "bin_end": 1927.4,
            "bin_start": 1920.8,
            "count": 0
           },
           {
            "bin_end": 1934,
            "bin_start": 1927.4,
            "count": 1
           },
           {
            "bin_end": 1940.6,
            "bin_start": 1934,
            "count": 0
           },
           {
            "bin_end": 1947.2,
            "bin_start": 1940.6,
            "count": 0
           },
           {
            "bin_end": 1953.8,
            "bin_start": 1947.2,
            "count": 0
           },
           {
            "bin_end": 1960.4,
            "bin_start": 1953.8,
            "count": 1
           },
           {
            "bin_end": 1967,
            "bin_start": 1960.4,
            "count": 1
           }
          ],
          "max": 1967,
          "min": 1901,
          "nan_count": 0,
          "unique_count": 5
         }
        },
        {
         "dtype": "int64",
         "name": "GROSS_AREA",
         "stats": {
          "histogram": [
           {
            "bin_end": 1920.3,
            "bin_start": 1755,
            "count": 1
           },
           {
            "bin_end": 2085.6,
            "bin_start": 1920.3,
            "count": 1
           },
           {
            "bin_end": 2250.9,
            "bin_start": 2085.6,
            "count": 0
           },
           {
            "bin_end": 2416.2,
            "bin_start": 2250.9,
            "count": 0
           },
           {
            "bin_end": 2581.5,
            "bin_start": 2416.2,
            "count": 1
           },
           {
            "bin_end": 2746.8,
            "bin_start": 2581.5,
            "count": 0
           },
           {
            "bin_end": 2912.1000000000004,
            "bin_start": 2746.8,
            "count": 0
           },
           {
            "bin_end": 3077.4,
            "bin_start": 2912.1000000000004,
            "count": 0
           },
           {
            "bin_end": 3242.7,
            "bin_start": 3077.4,
            "count": 0
           },
           {
            "bin_end": 3408,
            "bin_start": 3242.7,
            "count": 2
           }
          ],
          "max": 3408,
          "min": 1755,
          "nan_count": 0,
          "unique_count": 5
         }
        },
        {
         "dtype": "int64",
         "name": "LIVING_AREA",
         "stats": {
          "histogram": [
           {
            "bin_end": 1084.4,
            "bin_start": 1006,
            "count": 1
           },
           {
            "bin_end": 1162.8,
            "bin_start": 1084.4,
            "count": 1
           },
           {
            "bin_end": 1241.2,
            "bin_start": 1162.8,
            "count": 0
           },
           {
            "bin_end": 1319.6,
            "bin_start": 1241.2,
            "count": 0
           },
           {
            "bin_end": 1398,
            "bin_start": 1319.6,
            "count": 1
           },
           {
            "bin_end": 1476.4,
            "bin_start": 1398,
            "count": 1
           },
           {
            "bin_end": 1554.8000000000002,
            "bin_start": 1476.4,
            "count": 0
           },
           {
            "bin_end": 1633.2,
            "bin_start": 1554.8000000000002,
            "count": 0
           },
           {
            "bin_end": 1711.6,
            "bin_start": 1633.2,
            "count": 0
           },
           {
            "bin_end": 1790,
            "bin_start": 1711.6,
            "count": 1
           }
          ],
          "max": 1790,
          "min": 1006,
          "nan_count": 0,
          "unique_count": 5
         }
        },
        {
         "dtype": "float64",
         "name": "FLOORS",
         "stats": {
          "histogram": [
           {
            "bin_end": 1.1,
            "bin_start": 1,
            "count": 3
           },
           {
            "bin_end": 1.2,
            "bin_start": 1.1,
            "count": 0
           },
           {
            "bin_end": 1.3,
            "bin_start": 1.2,
            "count": 0
           },
           {
            "bin_end": 1.4,
            "bin_start": 1.3,
            "count": 0
           },
           {
            "bin_end": 1.5,
            "bin_start": 1.4,
            "count": 0
           },
           {
            "bin_end": 1.6,
            "bin_start": 1.5,
            "count": 1
           },
           {
            "bin_end": 1.7000000000000002,
            "bin_start": 1.6,
            "count": 0
           },
           {
            "bin_end": 1.8,
            "bin_start": 1.7000000000000002,
            "count": 0
           },
           {
            "bin_end": 1.9,
            "bin_start": 1.8,
            "count": 0
           },
           {
            "bin_end": 2,
            "bin_start": 1.9,
            "count": 1
           }
          ],
          "max": 2,
          "min": 1,
          "nan_count": 0,
          "unique_count": 3
         }
        },
        {
         "dtype": "int64",
         "name": "ROOMS",
         "stats": {
          "histogram": [
           {
            "bin_end": 5.5,
            "bin_start": 5,
            "count": 1
           },
           {
            "bin_end": 6,
            "bin_start": 5.5,
            "count": 0
           },
           {
            "bin_end": 6.5,
            "bin_start": 6,
            "count": 3
           },
           {
            "bin_end": 7,
            "bin_start": 6.5,
            "count": 0
           },
           {
            "bin_end": 7.5,
            "bin_start": 7,
            "count": 0
           },
           {
            "bin_end": 8,
            "bin_start": 7.5,
            "count": 0
           },
           {
            "bin_end": 8.5,
            "bin_start": 8,
            "count": 0
           },
           {
            "bin_end": 9,
            "bin_start": 8.5,
            "count": 0
           },
           {
            "bin_end": 9.5,
            "bin_start": 9,
            "count": 0
           },
           {
            "bin_end": 10,
            "bin_start": 9.5,
            "count": 1
           }
          ],
          "max": 10,
          "min": 5,
          "nan_count": 0,
          "unique_count": 3
         }
        },
        {
         "dtype": "int64",
         "name": "BEDROOMS",
         "stats": {
          "histogram": [
           {
            "bin_end": 2.2,
            "bin_start": 2,
            "count": 2
           },
           {
            "bin_end": 2.4,
            "bin_start": 2.2,
            "count": 0
           },
           {
            "bin_end": 2.6,
            "bin_start": 2.4,
            "count": 0
           },
           {
            "bin_end": 2.8,
            "bin_start": 2.6,
            "count": 0
           },
           {
            "bin_end": 3,
            "bin_start": 2.8,
            "count": 0
           },
           {
            "bin_end": 3.2,
            "bin_start": 3,
            "count": 2
           },
           {
            "bin_end": 3.4000000000000004,
            "bin_start": 3.2,
            "count": 0
           },
           {
            "bin_end": 3.6,
            "bin_start": 3.4000000000000004,
            "count": 0
           },
           {
            "bin_end": 3.8,
            "bin_start": 3.6,
            "count": 0
           },
           {
            "bin_end": 4,
            "bin_start": 3.8,
            "count": 1
           }
          ],
          "max": 4,
          "min": 2,
          "nan_count": 0,
          "unique_count": 3
         }
        },
        {
         "dtype": "int64",
         "name": "FULL_BATH",
         "stats": {
          "histogram": [
           {
            "bin_end": 0.6,
            "bin_start": 0.5,
            "count": 0
           },
           {
            "bin_end": 0.7,
            "bin_start": 0.6,
            "count": 0
           },
           {
            "bin_end": 0.8,
            "bin_start": 0.7,
            "count": 0
           },
           {
            "bin_end": 0.9,
            "bin_start": 0.8,
            "count": 0
           },
           {
            "bin_end": 1,
            "bin_start": 0.9,
            "count": 0
           },
           {
            "bin_end": 1.1,
            "bin_start": 1,
            "count": 5
           },
           {
            "bin_end": 1.2000000000000002,
            "bin_start": 1.1,
            "count": 0
           },
           {
            "bin_end": 1.3,
            "bin_start": 1.2000000000000002,
            "count": 0
           },
           {
            "bin_end": 1.4,
            "bin_start": 1.3,
            "count": 0
           },
           {
            "bin_end": 1.5,
            "bin_start": 1.4,
            "count": 0
           }
          ],
          "max": 1,
          "min": 1,
          "nan_count": 0,
          "unique_count": 1
         }
        },
        {
         "dtype": "int64",
         "name": "HALF_BATH",
         "stats": {
          "histogram": [
           {
            "bin_end": 0.1,
            "bin_start": 0,
            "count": 3
           },
           {
            "bin_end": 0.2,
            "bin_start": 0.1,
            "count": 0
           },
           {
            "bin_end": 0.30000000000000004,
            "bin_start": 0.2,
            "count": 0
           },
           {
            "bin_end": 0.4,
            "bin_start": 0.30000000000000004,
            "count": 0
           },
           {
            "bin_end": 0.5,
            "bin_start": 0.4,
            "count": 0
           },
           {
            "bin_end": 0.6000000000000001,
            "bin_start": 0.5,
            "count": 0
           },
           {
            "bin_end": 0.7000000000000001,
            "bin_start": 0.6000000000000001,
            "count": 0
           },
           {
            "bin_end": 0.8,
            "bin_start": 0.7000000000000001,
            "count": 0
           },
           {
            "bin_end": 0.9,
            "bin_start": 0.8,
            "count": 0
           },
           {
            "bin_end": 1,
            "bin_start": 0.9,
            "count": 2
           }
          ],
          "max": 1,
          "min": 0,
          "nan_count": 0,
          "unique_count": 2
         }
        },
        {
         "dtype": "int64",
         "name": "KITCHEN",
         "stats": {
          "histogram": [
           {
            "bin_end": 0.6,
            "bin_start": 0.5,
            "count": 0
           },
           {
            "bin_end": 0.7,
            "bin_start": 0.6,
            "count": 0
           },
           {
            "bin_end": 0.8,
            "bin_start": 0.7,
            "count": 0
           },
           {
            "bin_end": 0.9,
            "bin_start": 0.8,
            "count": 0
           },
           {
            "bin_end": 1,
            "bin_start": 0.9,
            "count": 0
           },
           {
            "bin_end": 1.1,
            "bin_start": 1,
            "count": 5
           },
           {
            "bin_end": 1.2000000000000002,
            "bin_start": 1.1,
            "count": 0
           },
           {
            "bin_end": 1.3,
            "bin_start": 1.2000000000000002,
            "count": 0
           },
           {
            "bin_end": 1.4,
            "bin_start": 1.3,
            "count": 0
           },
           {
            "bin_end": 1.5,
            "bin_start": 1.4,
            "count": 0
           }
          ],
          "max": 1,
          "min": 1,
          "nan_count": 0,
          "unique_count": 1
         }
        },
        {
         "dtype": "int64",
         "name": "FIREPLACE",
         "stats": {
          "histogram": [
           {
            "bin_end": 0.1,
            "bin_start": 0,
            "count": 2
           },
           {
            "bin_end": 0.2,
            "bin_start": 0.1,
            "count": 0
           },
           {
            "bin_end": 0.30000000000000004,
            "bin_start": 0.2,
            "count": 0
           },
           {
            "bin_end": 0.4,
            "bin_start": 0.30000000000000004,
            "count": 0
           },
           {
            "bin_end": 0.5,
            "bin_start": 0.4,
            "count": 0
           },
           {
            "bin_end": 0.6000000000000001,
            "bin_start": 0.5,
            "count": 0
           },
           {
            "bin_end": 0.7000000000000001,
            "bin_start": 0.6000000000000001,
            "count": 0
           },
           {
            "bin_end": 0.8,
            "bin_start": 0.7000000000000001,
            "count": 0
           },
           {
            "bin_end": 0.9,
            "bin_start": 0.8,
            "count": 0
           },
           {
            "bin_end": 1,
            "bin_start": 0.9,
            "count": 3
           }
          ],
          "max": 1,
          "min": 0,
          "nan_count": 0,
          "unique_count": 2
         }
        },
        {
         "dtype": "object",
         "name": "REMODEL",
         "stats": {
          "categories": [
           {
            "count": 5,
            "name": "None"
           }
          ],
          "nan_count": 0,
          "unique_count": 1
         }
        },
        {
         "dtype": "int64",
         "name": "_deepnote_index_column"
        }
       ],
       "row_count": 5,
       "rows_bottom": null,
       "rows_top": [
        {
         "BEDROOMS": 2,
         "FIREPLACE": 1,
         "FLOORS": 1,
         "FULL_BATH": 1,
         "GROSS_AREA": 3300,
         "HALF_BATH": 0,
         "KITCHEN": 1,
         "LIVING_AREA": 1415,
         "LOT_SQFT": 5248,
         "REMODEL": "None",
         "ROOMS": 5,
         "TAX": 4449,
         "TOTAL_VALUE": 353.7,
         "YR_BUILT": 1930,
         "_deepnote_index_column": 4837
        },
        {
         "BEDROOMS": 2,
         "FIREPLACE": 0,
         "FLOORS": 1,
         "FULL_BATH": 1,
         "GROSS_AREA": 2048,
         "HALF_BATH": 1,
         "KITCHEN": 1,
         "LIVING_AREA": 1350,
         "LOT_SQFT": 9861,
         "REMODEL": "None",
         "ROOMS": 6,
         "TAX": 3898,
         "TOTAL_VALUE": 309.9,
         "YR_BUILT": 1967,
         "_deepnote_index_column": 589
        },
        {
         "BEDROOMS": 3,
         "FIREPLACE": 1,
         "FLOORS": 1,
         "FULL_BATH": 1,
         "GROSS_AREA": 2451,
         "HALF_BATH": 0,
         "KITCHEN": 1,
         "LIVING_AREA": 1123,
         "LOT_SQFT": 4252,
         "REMODEL": "None",
         "ROOMS": 6,
         "TAX": 3241,
         "TOTAL_VALUE": 257.7,
         "YR_BUILT": 1960,
         "_deepnote_index_column": 584
        },
        {
         "BEDROOMS": 3,
         "FIREPLACE": 0,
         "FLOORS": 1.5,
         "FULL_BATH": 1,
         "GROSS_AREA": 1755,
         "HALF_BATH": 0,
         "KITCHEN": 1,
         "LIVING_AREA": 1006,
         "LOT_SQFT": 3228,
         "REMODEL": "None",
         "ROOMS": 6,
         "TAX": 2495,
         "TOTAL_VALUE": 198.4,
         "YR_BUILT": 1920,
         "_deepnote_index_column": 458
        },
        {
         "BEDROOMS": 4,
         "FIREPLACE": 1,
         "FLOORS": 2,
         "FULL_BATH": 1,
         "GROSS_AREA": 3408,
         "HALF_BATH": 1,
         "KITCHEN": 1,
         "LIVING_AREA": 1790,
         "LOT_SQFT": 4750,
         "REMODEL": "None",
         "ROOMS": 10,
         "TAX": 5101,
         "TOTAL_VALUE": 405.5,
         "YR_BUILT": 1901,
         "_deepnote_index_column": 4464
        }
       ]
      },
      "text/html": [
       "<div>\n",
       "<style scoped>\n",
       "    .dataframe tbody tr th:only-of-type {\n",
       "        vertical-align: middle;\n",
       "    }\n",
       "\n",
       "    .dataframe tbody tr th {\n",
       "        vertical-align: top;\n",
       "    }\n",
       "\n",
       "    .dataframe thead th {\n",
       "        text-align: right;\n",
       "    }\n",
       "</style>\n",
       "<table border=\"1\" class=\"dataframe\">\n",
       "  <thead>\n",
       "    <tr style=\"text-align: right;\">\n",
       "      <th></th>\n",
       "      <th>TOTAL_VALUE</th>\n",
       "      <th>TAX</th>\n",
       "      <th>LOT_SQFT</th>\n",
       "      <th>YR_BUILT</th>\n",
       "      <th>GROSS_AREA</th>\n",
       "      <th>LIVING_AREA</th>\n",
       "      <th>FLOORS</th>\n",
       "      <th>ROOMS</th>\n",
       "      <th>BEDROOMS</th>\n",
       "      <th>FULL_BATH</th>\n",
       "      <th>HALF_BATH</th>\n",
       "      <th>KITCHEN</th>\n",
       "      <th>FIREPLACE</th>\n",
       "      <th>REMODEL</th>\n",
       "    </tr>\n",
       "  </thead>\n",
       "  <tbody>\n",
       "    <tr>\n",
       "      <th>4837</th>\n",
       "      <td>353.7</td>\n",
       "      <td>4449</td>\n",
       "      <td>5248</td>\n",
       "      <td>1930</td>\n",
       "      <td>3300</td>\n",
       "      <td>1415</td>\n",
       "      <td>1.0</td>\n",
       "      <td>5</td>\n",
       "      <td>2</td>\n",
       "      <td>1</td>\n",
       "      <td>0</td>\n",
       "      <td>1</td>\n",
       "      <td>1</td>\n",
       "      <td>None</td>\n",
       "    </tr>\n",
       "    <tr>\n",
       "      <th>589</th>\n",
       "      <td>309.9</td>\n",
       "      <td>3898</td>\n",
       "      <td>9861</td>\n",
       "      <td>1967</td>\n",
       "      <td>2048</td>\n",
       "      <td>1350</td>\n",
       "      <td>1.0</td>\n",
       "      <td>6</td>\n",
       "      <td>2</td>\n",
       "      <td>1</td>\n",
       "      <td>1</td>\n",
       "      <td>1</td>\n",
       "      <td>0</td>\n",
       "      <td>None</td>\n",
       "    </tr>\n",
       "    <tr>\n",
       "      <th>584</th>\n",
       "      <td>257.7</td>\n",
       "      <td>3241</td>\n",
       "      <td>4252</td>\n",
       "      <td>1960</td>\n",
       "      <td>2451</td>\n",
       "      <td>1123</td>\n",
       "      <td>1.0</td>\n",
       "      <td>6</td>\n",
       "      <td>3</td>\n",
       "      <td>1</td>\n",
       "      <td>0</td>\n",
       "      <td>1</td>\n",
       "      <td>1</td>\n",
       "      <td>None</td>\n",
       "    </tr>\n",
       "    <tr>\n",
       "      <th>458</th>\n",
       "      <td>198.4</td>\n",
       "      <td>2495</td>\n",
       "      <td>3228</td>\n",
       "      <td>1920</td>\n",
       "      <td>1755</td>\n",
       "      <td>1006</td>\n",
       "      <td>1.5</td>\n",
       "      <td>6</td>\n",
       "      <td>3</td>\n",
       "      <td>1</td>\n",
       "      <td>0</td>\n",
       "      <td>1</td>\n",
       "      <td>0</td>\n",
       "      <td>None</td>\n",
       "    </tr>\n",
       "    <tr>\n",
       "      <th>4464</th>\n",
       "      <td>405.5</td>\n",
       "      <td>5101</td>\n",
       "      <td>4750</td>\n",
       "      <td>1901</td>\n",
       "      <td>3408</td>\n",
       "      <td>1790</td>\n",
       "      <td>2.0</td>\n",
       "      <td>10</td>\n",
       "      <td>4</td>\n",
       "      <td>1</td>\n",
       "      <td>1</td>\n",
       "      <td>1</td>\n",
       "      <td>1</td>\n",
       "      <td>None</td>\n",
       "    </tr>\n",
       "  </tbody>\n",
       "</table>\n",
       "</div>"
      ],
      "text/plain": [
       "      TOTAL_VALUE   TAX  LOT_SQFT  YR_BUILT  GROSS_AREA  LIVING_AREA  FLOORS  \\\n",
       "4837        353.7  4449      5248      1930        3300         1415     1.0   \n",
       "589         309.9  3898      9861      1967        2048         1350     1.0   \n",
       "584         257.7  3241      4252      1960        2451         1123     1.0   \n",
       "458         198.4  2495      3228      1920        1755         1006     1.5   \n",
       "4464        405.5  5101      4750      1901        3408         1790     2.0   \n",
       "\n",
       "      ROOMS  BEDROOMS  FULL_BATH  HALF_BATH  KITCHEN  FIREPLACE REMODEL  \n",
       "4837      5         2          1          0        1          1    None  \n",
       "589       6         2          1          1        1          0    None  \n",
       "584       6         3          1          0        1          1    None  \n",
       "458       6         3          1          0        1          0    None  \n",
       "4464     10         4          1          1        1          1    None  "
      ]
     },
     "execution_count": 19,
     "metadata": {},
     "output_type": "execute_result"
    }
   ],
   "source": [
    "housing_df.sample(5)"
   ]
  },
  {
   "cell_type": "markdown",
   "metadata": {
    "cell_id": "00038-ef2b521a-4fbc-4148-8bfa-8cbcdd151d7d",
    "deepnote_cell_type": "markdown"
   },
   "source": [
    "The sample method allows to specify weights for the individual rows. We use this here to oversample houses with over 10 rooms."
   ]
  },
  {
   "cell_type": "code",
   "execution_count": 20,
   "metadata": {
    "cell_id": "00039-f2240608-fbb6-4ebf-81c5-072f11519c0e",
    "deepnote_cell_type": "code",
    "deepnote_to_be_reexecuted": false,
    "execution_millis": 32,
    "execution_start": 1609784961595,
    "source_hash": "cea058"
   },
   "outputs": [
    {
     "data": {
      "application/vnd.deepnote.dataframe.v2+json": {
       "column_count": 14,
       "columns": [
        {
         "dtype": "float64",
         "name": "TOTAL_VALUE",
         "stats": {
          "histogram": [
           {
            "bin_end": 350.25,
            "bin_start": 310,
            "count": 1
           },
           {
            "bin_end": 390.5,
            "bin_start": 350.25,
            "count": 0
           },
           {
            "bin_end": 430.75,
            "bin_start": 390.5,
            "count": 0
           },
           {
            "bin_end": 471,
            "bin_start": 430.75,
            "count": 1
           },
           {
            "bin_end": 511.25,
            "bin_start": 471,
            "count": 0
           },
           {
            "bin_end": 551.5,
            "bin_start": 511.25,
            "count": 0
           },
           {
            "bin_end": 591.75,
            "bin_start": 551.5,
            "count": 1
           },
           {
            "bin_end": 632,
            "bin_start": 591.75,
            "count": 0
           },
           {
            "bin_end": 672.25,
            "bin_start": 632,
            "count": 1
           },
           {
            "bin_end": 712.5,
            "bin_start": 672.25,
            "count": 1
           }
          ],
          "max": 712.5,
          "min": 310,
          "nan_count": 0,
          "unique_count": 5
         }
        },
        {
         "dtype": "int64",
         "name": "TAX",
         "stats": {
          "histogram": [
           {
            "bin_end": 4405.4,
            "bin_start": 3899,
            "count": 1
           },
           {
            "bin_end": 4911.8,
            "bin_start": 4405.4,
            "count": 0
           },
           {
            "bin_end": 5418.2,
            "bin_start": 4911.8,
            "count": 0
           },
           {
            "bin_end": 5924.6,
            "bin_start": 5418.2,
            "count": 1
           },
           {
            "bin_end": 6431,
            "bin_start": 5924.6,
            "count": 0
           },
           {
            "bin_end": 6937.4,
            "bin_start": 6431,
            "count": 0
           },
           {
            "bin_end": 7443.799999999999,
            "bin_start": 6937.4,
            "count": 1
           },
           {
            "bin_end": 7950.2,
            "bin_start": 7443.799999999999,
            "count": 0
           },
           {
            "bin_end": 8456.599999999999,
            "bin_start": 7950.2,
            "count": 1
           },
           {
            "bin_end": 8963,
            "bin_start": 8456.599999999999,
            "count": 1
           }
          ],
          "max": 8963,
          "min": 3899,
          "nan_count": 0,
          "unique_count": 5
         }
        },
        {
         "dtype": "int64",
         "name": "LOT_SQFT",
         "stats": {
          "histogram": [
           {
            "bin_end": 5834,
            "bin_start": 5000,
            "count": 1
           },
           {
            "bin_end": 6668,
            "bin_start": 5834,
            "count": 1
           },
           {
            "bin_end": 7502,
            "bin_start": 6668,
            "count": 1
           },
           {
            "bin_end": 8336,
            "bin_start": 7502,
            "count": 0
           },
           {
            "bin_end": 9170,
            "bin_start": 8336,
            "count": 1
           },
           {
            "bin_end": 10004,
            "bin_start": 9170,
            "count": 0
           },
           {
            "bin_end": 10838,
            "bin_start": 10004,
            "count": 0
           },
           {
            "bin_end": 11672,
            "bin_start": 10838,
            "count": 0
           },
           {
            "bin_end": 12506,
            "bin_start": 11672,
            "count": 0
           },
           {
            "bin_end": 13340,
            "bin_start": 12506,
            "count": 1
           }
          ],
          "max": 13340,
          "min": 5000,
          "nan_count": 0,
          "unique_count": 5
         }
        },
        {
         "dtype": "int64",
         "name": "YR_BUILT",
         "stats": {
          "histogram": [
           {
            "bin_end": 1919.5,
            "bin_start": 1915,
            "count": 1
           },
           {
            "bin_end": 1924,
            "bin_start": 1919.5,
            "count": 2
           },
           {
            "bin_end": 1928.5,
            "bin_start": 1924,
            "count": 0
           },
           {
            "bin_end": 1933,
            "bin_start": 1928.5,
            "count": 0
           },
           {
            "bin_end": 1937.5,
            "bin_start": 1933,
            "count": 0
           },
           {
            "bin_end": 1942,
            "bin_start": 1937.5,
            "count": 0
           },
           {
            "bin_end": 1946.5,
            "bin_start": 1942,
            "count": 0
           },
           {
            "bin_end": 1951,
            "bin_start": 1946.5,
            "count": 1
           },
           {
            "bin_end": 1955.5,
            "bin_start": 1951,
            "count": 0
           },
           {
            "bin_end": 1960,
            "bin_start": 1955.5,
            "count": 1
           }
          ],
          "max": 1960,
          "min": 1915,
          "nan_count": 0,
          "unique_count": 4
         }
        },
        {
         "dtype": "int64",
         "name": "GROSS_AREA",
         "stats": {
          "histogram": [
           {
            "bin_end": 2559.9,
            "bin_start": 2088,
            "count": 1
           },
           {
            "bin_end": 3031.8,
            "bin_start": 2559.9,
            "count": 0
           },
           {
            "bin_end": 3503.7,
            "bin_start": 3031.8,
            "count": 1
           },
           {
            "bin_end": 3975.6,
            "bin_start": 3503.7,
            "count": 0
           },
           {
            "bin_end": 4447.5,
            "bin_start": 3975.6,
            "count": 2
           },
           {
            "bin_end": 4919.4,
            "bin_start": 4447.5,
            "count": 0
           },
           {
            "bin_end": 5391.299999999999,
            "bin_start": 4919.4,
            "count": 0
           },
           {
            "bin_end": 5863.2,
            "bin_start": 5391.299999999999,
            "count": 0
           },
           {
            "bin_end": 6335.099999999999,
            "bin_start": 5863.2,
            "count": 0
           },
           {
            "bin_end": 6807,
            "bin_start": 6335.099999999999,
            "count": 1
           }
          ],
          "max": 6807,
          "min": 2088,
          "nan_count": 0,
          "unique_count": 5
         }
        },
        {
         "dtype": "int64",
         "name": "LIVING_AREA",
         "stats": {
          "histogram": [
           {
            "bin_end": 1746,
            "bin_start": 1521,
            "count": 2
           },
           {
            "bin_end": 1971,
            "bin_start": 1746,
            "count": 0
           },
           {
            "bin_end": 2196,
            "bin_start": 1971,
            "count": 0
           },
           {
            "bin_end": 2421,
            "bin_start": 2196,
            "count": 0
           },
           {
            "bin_end": 2646,
            "bin_start": 2421,
            "count": 2
           },
           {
            "bin_end": 2871,
            "bin_start": 2646,
            "count": 0
           },
           {
            "bin_end": 3096,
            "bin_start": 2871,
            "count": 0
           },
           {
            "bin_end": 3321,
            "bin_start": 3096,
            "count": 0
           },
           {
            "bin_end": 3546,
            "bin_start": 3321,
            "count": 0
           },
           {
            "bin_end": 3771,
            "bin_start": 3546,
            "count": 1
           }
          ],
          "max": 3771,
          "min": 1521,
          "nan_count": 0,
          "unique_count": 5
         }
        },
        {
         "dtype": "float64",
         "name": "FLOORS",
         "stats": {
          "histogram": [
           {
            "bin_end": 1.1,
            "bin_start": 1,
            "count": 3
           },
           {
            "bin_end": 1.2,
            "bin_start": 1.1,
            "count": 0
           },
           {
            "bin_end": 1.3,
            "bin_start": 1.2,
            "count": 0
           },
           {
            "bin_end": 1.4,
            "bin_start": 1.3,
            "count": 0
           },
           {
            "bin_end": 1.5,
            "bin_start": 1.4,
            "count": 0
           },
           {
            "bin_end": 1.6,
            "bin_start": 1.5,
            "count": 0
           },
           {
            "bin_end": 1.7000000000000002,
            "bin_start": 1.6,
            "count": 0
           },
           {
            "bin_end": 1.8,
            "bin_start": 1.7000000000000002,
            "count": 0
           },
           {
            "bin_end": 1.9,
            "bin_start": 1.8,
            "count": 0
           },
           {
            "bin_end": 2,
            "bin_start": 1.9,
            "count": 2
           }
          ],
          "max": 2,
          "min": 1,
          "nan_count": 0,
          "unique_count": 2
         }
        },
        {
         "dtype": "int64",
         "name": "ROOMS",
         "stats": {
          "histogram": [
           {
            "bin_end": 7.6,
            "bin_start": 7,
            "count": 1
           },
           {
            "bin_end": 8.2,
            "bin_start": 7.6,
            "count": 0
           },
           {
            "bin_end": 8.8,
            "bin_start": 8.2,
            "count": 0
           },
           {
            "bin_end": 9.4,
            "bin_start": 8.8,
            "count": 0
           },
           {
            "bin_end": 10,
            "bin_start": 9.4,
            "count": 0
           },
           {
            "bin_end": 10.6,
            "bin_start": 10,
            "count": 0
           },
           {
            "bin_end": 11.2,
            "bin_start": 10.6,
            "count": 1
           },
           {
            "bin_end": 11.8,
            "bin_start": 11.2,
            "count": 0
           },
           {
            "bin_end": 12.399999999999999,
            "bin_start": 11.8,
            "count": 2
           },
           {
            "bin_end": 13,
            "bin_start": 12.399999999999999,
            "count": 1
           }
          ],
          "max": 13,
          "min": 7,
          "nan_count": 0,
          "unique_count": 4
         }
        },
        {
         "dtype": "int64",
         "name": "BEDROOMS",
         "stats": {
          "histogram": [
           {
            "bin_end": 3.3,
            "bin_start": 3,
            "count": 1
           },
           {
            "bin_end": 3.6,
            "bin_start": 3.3,
            "count": 0
           },
           {
            "bin_end": 3.9,
            "bin_start": 3.6,
            "count": 0
           },
           {
            "bin_end": 4.2,
            "bin_start": 3.9,
            "count": 2
           },
           {
            "bin_end": 4.5,
            "bin_start": 4.2,
            "count": 0
           },
           {
            "bin_end": 4.8,
            "bin_start": 4.5,
            "count": 0
           },
           {
            "bin_end": 5.1,
            "bin_start": 4.8,
            "count": 0
           },
           {
            "bin_end": 5.4,
            "bin_start": 5.1,
            "count": 0
           },
           {
            "bin_end": 5.699999999999999,
            "bin_start": 5.4,
            "count": 0
           },
           {
            "bin_end": 6,
            "bin_start": 5.699999999999999,
            "count": 2
           }
          ],
          "max": 6,
          "min": 3,
          "nan_count": 0,
          "unique_count": 3
         }
        },
        {
         "dtype": "int64",
         "name": "FULL_BATH",
         "stats": {
          "histogram": [
           {
            "bin_end": 1.1,
            "bin_start": 1,
            "count": 1
           },
           {
            "bin_end": 1.2,
            "bin_start": 1.1,
            "count": 0
           },
           {
            "bin_end": 1.3,
            "bin_start": 1.2,
            "count": 0
           },
           {
            "bin_end": 1.4,
            "bin_start": 1.3,
            "count": 0
           },
           {
            "bin_end": 1.5,
            "bin_start": 1.4,
            "count": 0
           },
           {
            "bin_end": 1.6,
            "bin_start": 1.5,
            "count": 0
           },
           {
            "bin_end": 1.7000000000000002,
            "bin_start": 1.6,
            "count": 0
           },
           {
            "bin_end": 1.8,
            "bin_start": 1.7000000000000002,
            "count": 0
           },
           {
            "bin_end": 1.9,
            "bin_start": 1.8,
            "count": 0
           },
           {
            "bin_end": 2,
            "bin_start": 1.9,
            "count": 4
           }
          ],
          "max": 2,
          "min": 1,
          "nan_count": 0,
          "unique_count": 2
         }
        },
        {
         "dtype": "int64",
         "name": "HALF_BATH",
         "stats": {
          "histogram": [
           {
            "bin_end": 0.1,
            "bin_start": 0,
            "count": 1
           },
           {
            "bin_end": 0.2,
            "bin_start": 0.1,
            "count": 0
           },
           {
            "bin_end": 0.30000000000000004,
            "bin_start": 0.2,
            "count": 0
           },
           {
            "bin_end": 0.4,
            "bin_start": 0.30000000000000004,
            "count": 0
           },
           {
            "bin_end": 0.5,
            "bin_start": 0.4,
            "count": 0
           },
           {
            "bin_end": 0.6000000000000001,
            "bin_start": 0.5,
            "count": 0
           },
           {
            "bin_end": 0.7000000000000001,
            "bin_start": 0.6000000000000001,
            "count": 0
           },
           {
            "bin_end": 0.8,
            "bin_start": 0.7000000000000001,
            "count": 0
           },
           {
            "bin_end": 0.9,
            "bin_start": 0.8,
            "count": 0
           },
           {
            "bin_end": 1,
            "bin_start": 0.9,
            "count": 4
           }
          ],
          "max": 1,
          "min": 0,
          "nan_count": 0,
          "unique_count": 2
         }
        },
        {
         "dtype": "int64",
         "name": "KITCHEN",
         "stats": {
          "histogram": [
           {
            "bin_end": 1.1,
            "bin_start": 1,
            "count": 4
           },
           {
            "bin_end": 1.2,
            "bin_start": 1.1,
            "count": 0
           },
           {
            "bin_end": 1.3,
            "bin_start": 1.2,
            "count": 0
           },
           {
            "bin_end": 1.4,
            "bin_start": 1.3,
            "count": 0
           },
           {
            "bin_end": 1.5,
            "bin_start": 1.4,
            "count": 0
           },
           {
            "bin_end": 1.6,
            "bin_start": 1.5,
            "count": 0
           },
           {
            "bin_end": 1.7000000000000002,
            "bin_start": 1.6,
            "count": 0
           },
           {
            "bin_end": 1.8,
            "bin_start": 1.7000000000000002,
            "count": 0
           },
           {
            "bin_end": 1.9,
            "bin_start": 1.8,
            "count": 0
           },
           {
            "bin_end": 2,
            "bin_start": 1.9,
            "count": 1
           }
          ],
          "max": 2,
          "min": 1,
          "nan_count": 0,
          "unique_count": 2
         }
        },
        {
         "dtype": "int64",
         "name": "FIREPLACE",
         "stats": {
          "histogram": [
           {
            "bin_end": 0.1,
            "bin_start": 0,
            "count": 1
           },
           {
            "bin_end": 0.2,
            "bin_start": 0.1,
            "count": 0
           },
           {
            "bin_end": 0.30000000000000004,
            "bin_start": 0.2,
            "count": 0
           },
           {
            "bin_end": 0.4,
            "bin_start": 0.30000000000000004,
            "count": 0
           },
           {
            "bin_end": 0.5,
            "bin_start": 0.4,
            "count": 0
           },
           {
            "bin_end": 0.6000000000000001,
            "bin_start": 0.5,
            "count": 0
           },
           {
            "bin_end": 0.7000000000000001,
            "bin_start": 0.6000000000000001,
            "count": 0
           },
           {
            "bin_end": 0.8,
            "bin_start": 0.7000000000000001,
            "count": 0
           },
           {
            "bin_end": 0.9,
            "bin_start": 0.8,
            "count": 0
           },
           {
            "bin_end": 1,
            "bin_start": 0.9,
            "count": 4
           }
          ],
          "max": 1,
          "min": 0,
          "nan_count": 0,
          "unique_count": 2
         }
        },
        {
         "dtype": "object",
         "name": "REMODEL",
         "stats": {
          "categories": [
           {
            "count": 3,
            "name": "None"
           },
           {
            "count": 2,
            "name": "Recent"
           }
          ],
          "nan_count": 0,
          "unique_count": 2
         }
        },
        {
         "dtype": "int64",
         "name": "_deepnote_index_column"
        }
       ],
       "row_count": 5,
       "rows_bottom": null,
       "rows_top": [
        {
         "BEDROOMS": 6,
         "FIREPLACE": 1,
         "FLOORS": 2,
         "FULL_BATH": 2,
         "GROSS_AREA": 6807,
         "HALF_BATH": 0,
         "KITCHEN": 1,
         "LIVING_AREA": 3771,
         "LOT_SQFT": 13340,
         "REMODEL": "None",
         "ROOMS": 12,
         "TAX": 8963,
         "TOTAL_VALUE": 712.5,
         "YR_BUILT": 1920,
         "_deepnote_index_column": 4486
        },
        {
         "BEDROOMS": 4,
         "FIREPLACE": 1,
         "FLOORS": 1,
         "FULL_BATH": 2,
         "GROSS_AREA": 4221,
         "HALF_BATH": 1,
         "KITCHEN": 2,
         "LIVING_AREA": 2484,
         "LOT_SQFT": 7235,
         "REMODEL": "Recent",
         "ROOMS": 13,
         "TAX": 6991,
         "TOTAL_VALUE": 555.8,
         "YR_BUILT": 1949,
         "_deepnote_index_column": 5656
        },
        {
         "BEDROOMS": 4,
         "FIREPLACE": 1,
         "FLOORS": 1,
         "FULL_BATH": 2,
         "GROSS_AREA": 3384,
         "HALF_BATH": 1,
         "KITCHEN": 1,
         "LIVING_AREA": 1573,
         "LOT_SQFT": 5000,
         "REMODEL": "None",
         "ROOMS": 11,
         "TAX": 5452,
         "TOTAL_VALUE": 433.4,
         "YR_BUILT": 1920,
         "_deepnote_index_column": 5277
        },
        {
         "BEDROOMS": 3,
         "FIREPLACE": 0,
         "FLOORS": 1,
         "FULL_BATH": 1,
         "GROSS_AREA": 2088,
         "HALF_BATH": 1,
         "KITCHEN": 1,
         "LIVING_AREA": 1521,
         "LOT_SQFT": 6000,
         "REMODEL": "None",
         "ROOMS": 7,
         "TAX": 3899,
         "TOTAL_VALUE": 310,
         "YR_BUILT": 1960,
         "_deepnote_index_column": 575
        },
        {
         "BEDROOMS": 6,
         "FIREPLACE": 1,
         "FLOORS": 2,
         "FULL_BATH": 2,
         "GROSS_AREA": 4373,
         "HALF_BATH": 1,
         "KITCHEN": 1,
         "LIVING_AREA": 2469,
         "LOT_SQFT": 8520,
         "REMODEL": "Recent",
         "ROOMS": 12,
         "TAX": 7958,
         "TOTAL_VALUE": 632.6,
         "YR_BUILT": 1915,
         "_deepnote_index_column": 4490
        }
       ]
      },
      "text/html": [
       "<div>\n",
       "<style scoped>\n",
       "    .dataframe tbody tr th:only-of-type {\n",
       "        vertical-align: middle;\n",
       "    }\n",
       "\n",
       "    .dataframe tbody tr th {\n",
       "        vertical-align: top;\n",
       "    }\n",
       "\n",
       "    .dataframe thead th {\n",
       "        text-align: right;\n",
       "    }\n",
       "</style>\n",
       "<table border=\"1\" class=\"dataframe\">\n",
       "  <thead>\n",
       "    <tr style=\"text-align: right;\">\n",
       "      <th></th>\n",
       "      <th>TOTAL_VALUE</th>\n",
       "      <th>TAX</th>\n",
       "      <th>LOT_SQFT</th>\n",
       "      <th>YR_BUILT</th>\n",
       "      <th>GROSS_AREA</th>\n",
       "      <th>LIVING_AREA</th>\n",
       "      <th>FLOORS</th>\n",
       "      <th>ROOMS</th>\n",
       "      <th>BEDROOMS</th>\n",
       "      <th>FULL_BATH</th>\n",
       "      <th>HALF_BATH</th>\n",
       "      <th>KITCHEN</th>\n",
       "      <th>FIREPLACE</th>\n",
       "      <th>REMODEL</th>\n",
       "    </tr>\n",
       "  </thead>\n",
       "  <tbody>\n",
       "    <tr>\n",
       "      <th>4486</th>\n",
       "      <td>712.5</td>\n",
       "      <td>8963</td>\n",
       "      <td>13340</td>\n",
       "      <td>1920</td>\n",
       "      <td>6807</td>\n",
       "      <td>3771</td>\n",
       "      <td>2.0</td>\n",
       "      <td>12</td>\n",
       "      <td>6</td>\n",
       "      <td>2</td>\n",
       "      <td>0</td>\n",
       "      <td>1</td>\n",
       "      <td>1</td>\n",
       "      <td>None</td>\n",
       "    </tr>\n",
       "    <tr>\n",
       "      <th>5656</th>\n",
       "      <td>555.8</td>\n",
       "      <td>6991</td>\n",
       "      <td>7235</td>\n",
       "      <td>1949</td>\n",
       "      <td>4221</td>\n",
       "      <td>2484</td>\n",
       "      <td>1.0</td>\n",
       "      <td>13</td>\n",
       "      <td>4</td>\n",
       "      <td>2</td>\n",
       "      <td>1</td>\n",
       "      <td>2</td>\n",
       "      <td>1</td>\n",
       "      <td>Recent</td>\n",
       "    </tr>\n",
       "    <tr>\n",
       "      <th>5277</th>\n",
       "      <td>433.4</td>\n",
       "      <td>5452</td>\n",
       "      <td>5000</td>\n",
       "      <td>1920</td>\n",
       "      <td>3384</td>\n",
       "      <td>1573</td>\n",
       "      <td>1.0</td>\n",
       "      <td>11</td>\n",
       "      <td>4</td>\n",
       "      <td>2</td>\n",
       "      <td>1</td>\n",
       "      <td>1</td>\n",
       "      <td>1</td>\n",
       "      <td>None</td>\n",
       "    </tr>\n",
       "    <tr>\n",
       "      <th>575</th>\n",
       "      <td>310.0</td>\n",
       "      <td>3899</td>\n",
       "      <td>6000</td>\n",
       "      <td>1960</td>\n",
       "      <td>2088</td>\n",
       "      <td>1521</td>\n",
       "      <td>1.0</td>\n",
       "      <td>7</td>\n",
       "      <td>3</td>\n",
       "      <td>1</td>\n",
       "      <td>1</td>\n",
       "      <td>1</td>\n",
       "      <td>0</td>\n",
       "      <td>None</td>\n",
       "    </tr>\n",
       "    <tr>\n",
       "      <th>4490</th>\n",
       "      <td>632.6</td>\n",
       "      <td>7958</td>\n",
       "      <td>8520</td>\n",
       "      <td>1915</td>\n",
       "      <td>4373</td>\n",
       "      <td>2469</td>\n",
       "      <td>2.0</td>\n",
       "      <td>12</td>\n",
       "      <td>6</td>\n",
       "      <td>2</td>\n",
       "      <td>1</td>\n",
       "      <td>1</td>\n",
       "      <td>1</td>\n",
       "      <td>Recent</td>\n",
       "    </tr>\n",
       "  </tbody>\n",
       "</table>\n",
       "</div>"
      ],
      "text/plain": [
       "      TOTAL_VALUE   TAX  LOT_SQFT  YR_BUILT  GROSS_AREA  LIVING_AREA  FLOORS  \\\n",
       "4486        712.5  8963     13340      1920        6807         3771     2.0   \n",
       "5656        555.8  6991      7235      1949        4221         2484     1.0   \n",
       "5277        433.4  5452      5000      1920        3384         1573     1.0   \n",
       "575         310.0  3899      6000      1960        2088         1521     1.0   \n",
       "4490        632.6  7958      8520      1915        4373         2469     2.0   \n",
       "\n",
       "      ROOMS  BEDROOMS  FULL_BATH  HALF_BATH  KITCHEN  FIREPLACE REMODEL  \n",
       "4486     12         6          2          0        1          1    None  \n",
       "5656     13         4          2          1        2          1  Recent  \n",
       "5277     11         4          2          1        1          1    None  \n",
       "575       7         3          1          1        1          0    None  \n",
       "4490     12         6          2          1        1          1  Recent  "
      ]
     },
     "execution_count": 20,
     "metadata": {},
     "output_type": "execute_result"
    }
   ],
   "source": [
    "weights = [0.9 if rooms > 10 else 0.01 for rooms in housing_df.ROOMS]\n",
    "housing_df.sample(5, weights=weights)"
   ]
  },
  {
   "cell_type": "markdown",
   "metadata": {
    "cell_id": "00040-3e8e79e7-a668-4efd-a70b-cb1d76f41a17",
    "deepnote_cell_type": "markdown"
   },
   "source": [
    "## Table 2.5"
   ]
  },
  {
   "cell_type": "code",
   "execution_count": 21,
   "metadata": {
    "cell_id": "00041-d886367c-0048-45f7-b88a-8fa2f738ad0c",
    "deepnote_cell_type": "code",
    "deepnote_to_be_reexecuted": false,
    "execution_millis": 0,
    "execution_start": 1609784961645,
    "source_hash": "10699db6"
   },
   "outputs": [
    {
     "data": {
      "text/plain": [
       "Index(['TOTAL_VALUE', 'TAX', 'LOT_SQFT', 'YR_BUILT', 'GROSS_AREA',\n",
       "       'LIVING_AREA', 'FLOORS', 'ROOMS', 'BEDROOMS', 'FULL_BATH', 'HALF_BATH',\n",
       "       'KITCHEN', 'FIREPLACE', 'REMODEL'],\n",
       "      dtype='object')"
      ]
     },
     "execution_count": 21,
     "metadata": {},
     "output_type": "execute_result"
    }
   ],
   "source": [
    "housing_df.columns"
   ]
  },
  {
   "cell_type": "markdown",
   "metadata": {
    "cell_id": "00042-a98ef27f-5d7a-4c9e-a52c-e1cbd301eefd",
    "deepnote_cell_type": "markdown"
   },
   "source": [
    "The REMODEL column is a factor, so we need to change it's type."
   ]
  },
  {
   "cell_type": "code",
   "execution_count": 22,
   "metadata": {
    "cell_id": "00043-cc7a7c54-df00-4116-97d5-f12dc712d0e6",
    "deepnote_cell_type": "code",
    "deepnote_to_be_reexecuted": false,
    "execution_millis": 0,
    "execution_start": 1609784961646,
    "source_hash": "30703319"
   },
   "outputs": [
    {
     "name": "stdout",
     "output_type": "stream",
     "text": [
      "object\n",
      "Index(['None', 'Old', 'Recent'], dtype='object')\n",
      "category\n"
     ]
    }
   ],
   "source": [
    "print(housing_df.REMODEL.dtype)\n",
    "housing_df.REMODEL = housing_df.REMODEL.astype('category')\n",
    "print(housing_df.REMODEL.cat.categories)  # It can take one of three levels\n",
    "print(housing_df.REMODEL.dtype)  # Type is now 'category'"
   ]
  },
  {
   "cell_type": "markdown",
   "metadata": {
    "cell_id": "00044-dc7cc9f3-b599-47ca-ba47-d9703d85789a",
    "deepnote_cell_type": "markdown"
   },
   "source": [
    "Other columns also have types."
   ]
  },
  {
   "cell_type": "code",
   "execution_count": 23,
   "metadata": {
    "cell_id": "00045-81b882ae-114c-449c-968f-970abe9b1744",
    "deepnote_cell_type": "code",
    "deepnote_to_be_reexecuted": false,
    "execution_millis": 1,
    "execution_start": 1609784961647,
    "source_hash": "dfae53b4"
   },
   "outputs": [
    {
     "name": "stdout",
     "output_type": "stream",
     "text": [
      "int64\n",
      "float64\n"
     ]
    }
   ],
   "source": [
    "print(housing_df.BEDROOMS.dtype)  # BEDROOMS is an integer variable\n",
    "print(housing_df.TOTAL_VALUE.dtype)  # Total_Value is a numeric variable"
   ]
  },
  {
   "cell_type": "markdown",
   "metadata": {
    "cell_id": "00046-e42c0f8a-6d2e-4502-917f-815e91ab7ee9",
    "deepnote_cell_type": "markdown"
   },
   "source": [
    "It's also possible to the all columns data types "
   ]
  },
  {
   "cell_type": "code",
   "execution_count": 24,
   "metadata": {
    "cell_id": "00047-ce881a4f-50d3-443f-8f4b-89a36b01950b",
    "deepnote_cell_type": "code",
    "deepnote_to_be_reexecuted": false,
    "execution_millis": 2,
    "execution_start": 1609784961650,
    "source_hash": "8e27106c"
   },
   "outputs": [
    {
     "data": {
      "text/plain": [
       "TOTAL_VALUE     float64\n",
       "TAX               int64\n",
       "LOT_SQFT          int64\n",
       "YR_BUILT          int64\n",
       "GROSS_AREA        int64\n",
       "LIVING_AREA       int64\n",
       "FLOORS          float64\n",
       "ROOMS             int64\n",
       "BEDROOMS          int64\n",
       "FULL_BATH         int64\n",
       "HALF_BATH         int64\n",
       "KITCHEN           int64\n",
       "FIREPLACE         int64\n",
       "REMODEL        category\n",
       "dtype: object"
      ]
     },
     "execution_count": 24,
     "metadata": {},
     "output_type": "execute_result"
    }
   ],
   "source": [
    "housing_df.dtypes"
   ]
  },
  {
   "cell_type": "markdown",
   "metadata": {
    "cell_id": "00048-9aed51fe-a96e-40e9-ad76-c350700e2d4c",
    "deepnote_cell_type": "markdown"
   },
   "source": [
    "## Table 2.6\n",
    "Pandas provides a method to convert factors into dummy variables."
   ]
  },
  {
   "cell_type": "code",
   "execution_count": 25,
   "metadata": {
    "cell_id": "00049-4be35d44-f1a2-4314-9122-11b4f478b059",
    "deepnote_cell_type": "code",
    "deepnote_to_be_reexecuted": false,
    "execution_millis": 4,
    "execution_start": 1609784961658,
    "source_hash": "c00dc8e5"
   },
   "outputs": [
    {
     "data": {
      "text/plain": [
       "Index(['TOTAL_VALUE', 'TAX', 'LOT_SQFT', 'YR_BUILT', 'GROSS_AREA',\n",
       "       'LIVING_AREA', 'FLOORS', 'ROOMS', 'BEDROOMS', 'FULL_BATH', 'HALF_BATH',\n",
       "       'KITCHEN', 'FIREPLACE', 'REMODEL_Old', 'REMODEL_Recent'],\n",
       "      dtype='object')"
      ]
     },
     "execution_count": 25,
     "metadata": {},
     "output_type": "execute_result"
    }
   ],
   "source": [
    "housing_df = pd.get_dummies(housing_df, prefix_sep='_', drop_first=True)\n",
    "housing_df.columns"
   ]
  },
  {
   "cell_type": "code",
   "execution_count": 26,
   "metadata": {
    "cell_id": "00050-408581bd-40aa-40ee-b0a4-bdd421b69209",
    "deepnote_cell_type": "code",
    "deepnote_to_be_reexecuted": false,
    "execution_millis": 0,
    "execution_start": 1609784961689,
    "source_hash": "1ef8738e"
   },
   "outputs": [
    {
     "name": "stdout",
     "output_type": "stream",
     "text": [
      "   REMODEL_Old  REMODEL_Recent\n",
      "0            0               0\n",
      "1            0               1\n",
      "2            0               0\n",
      "3            0               0\n",
      "4            0               0\n"
     ]
    }
   ],
   "source": [
    "print(housing_df.loc[:, 'REMODEL_Old':'REMODEL_Recent'].head(5))"
   ]
  },
  {
   "cell_type": "markdown",
   "metadata": {
    "cell_id": "00051-b24fff77-e03a-4b32-b286-89c3c3f24f58",
    "deepnote_cell_type": "markdown"
   },
   "source": [
    "## Table 2.7\n",
    "To illustrate missing data procedures, we first convert a few entries for bedrooms to NA's. Then we impute these missing values using the median of the remaining values."
   ]
  },
  {
   "cell_type": "code",
   "execution_count": 27,
   "metadata": {
    "cell_id": "00052-b4e4d10f-b19e-47f9-a1ae-3bccdfb1a689",
    "deepnote_cell_type": "code",
    "deepnote_to_be_reexecuted": false,
    "execution_millis": 0,
    "execution_start": 1609784961690,
    "source_hash": "38649937"
   },
   "outputs": [
    {
     "name": "stdout",
     "output_type": "stream",
     "text": [
      "Number of rows with valid BEDROOMS values before:  5802\n",
      "Number of rows with valid BEDROOMS values after setting to NAN:  5792\n"
     ]
    },
    {
     "data": {
      "text/plain": [
       "5792"
      ]
     },
     "execution_count": 27,
     "metadata": {},
     "output_type": "execute_result"
    }
   ],
   "source": [
    "print('Number of rows with valid BEDROOMS values before: ', \n",
    "      housing_df['BEDROOMS'].count()) \n",
    "missingRows = housing_df.sample(10).index\n",
    "housing_df.loc[missingRows, 'BEDROOMS'] = np.nan\n",
    "print('Number of rows with valid BEDROOMS values after setting to NAN: ', \n",
    "      housing_df['BEDROOMS'].count()) \n",
    "housing_df['BEDROOMS'].count()"
   ]
  },
  {
   "cell_type": "code",
   "execution_count": 28,
   "metadata": {
    "cell_id": "00053-de8b83b1-d296-43ec-b27c-a6d8659625ce",
    "deepnote_cell_type": "code",
    "deepnote_to_be_reexecuted": false,
    "execution_millis": 2,
    "execution_start": 1609784961690,
    "source_hash": "b9e45f8a"
   },
   "outputs": [
    {
     "name": "stdout",
     "output_type": "stream",
     "text": [
      "Number of rows after removing rows with missing values:  5792\n"
     ]
    }
   ],
   "source": [
    "# remove rows with missing values \n",
    "reduced_df = housing_df.dropna()\n",
    "print('Number of rows after removing rows with missing values: ', len(reduced_df))"
   ]
  },
  {
   "cell_type": "markdown",
   "metadata": {
    "cell_id": "00054-c2c03135-5a96-4642-8cab-b22e37c63c8d",
    "deepnote_cell_type": "markdown"
   },
   "source": [
    "Replace the missing values using the median of the remaining values.\n",
    "\n",
    "By default, the `median` method of a pandas dataframe ignores NA values. This is in contrast to R where this must be specified explicitly."
   ]
  },
  {
   "cell_type": "code",
   "execution_count": 29,
   "metadata": {
    "cell_id": "00055-eab90092-4f46-4dd8-b09d-a24c6f8f799d",
    "deepnote_cell_type": "code",
    "deepnote_to_be_reexecuted": false,
    "execution_millis": 2,
    "execution_start": 1609784961697,
    "source_hash": "4e216d49"
   },
   "outputs": [
    {
     "name": "stdout",
     "output_type": "stream",
     "text": [
      "Number of rows with valid BEDROOMS values after filling NA values:  5802\n"
     ]
    }
   ],
   "source": [
    "medianBedrooms = housing_df['BEDROOMS'].median()\n",
    "housing_df.BEDROOMS = housing_df.BEDROOMS.fillna(value=medianBedrooms)\n",
    "print('Number of rows with valid BEDROOMS values after filling NA values: ',\n",
    "      housing_df['BEDROOMS'].count())"
   ]
  },
  {
   "cell_type": "markdown",
   "metadata": {
    "cell_id": "00056-09dea095-3b49-41df-91f6-2451bc292c78",
    "deepnote_cell_type": "markdown"
   },
   "source": [
    "## Table - scaling data"
   ]
  },
  {
   "cell_type": "code",
   "execution_count": 30,
   "metadata": {
    "cell_id": "00057-b7d9766f-81eb-4f58-b702-7c6275bd6cc2",
    "deepnote_cell_type": "code",
    "deepnote_to_be_reexecuted": false,
    "execution_millis": 34,
    "execution_start": 1609784961703,
    "source_hash": "5903424d"
   },
   "outputs": [],
   "source": [
    "from sklearn.preprocessing import MinMaxScaler, StandardScaler\n",
    "df = housing_df.copy()\n",
    "\n",
    "# Normalizing a data frame\n",
    "\n",
    "# pandas:\n",
    "norm_df = (housing_df - housing_df.mean()) / housing_df.std()\n",
    "\n",
    "# scikit-learn: \n",
    "scaler = StandardScaler()\n",
    "norm_df = pd.DataFrame(scaler.fit_transform(housing_df), \n",
    "                       index=housing_df.index, columns=housing_df.columns)\n",
    "# the result of the transformation is a numpy array, we convert it into a dataframe\n",
    "\n",
    "# Rescaling a data frame\n",
    "# pandas:\n",
    "rescaled_df = (housing_df - housing_df.min()) / (housing_df.max() - housing_df.min())\n",
    "\n",
    "# scikit-learn:\n",
    "scaler = MinMaxScaler()\n",
    "rescaled_df = pd.DataFrame(scaler.fit_transform(housing_df), \n",
    "                       index=housing_df.index, columns=housing_df.columns)"
   ]
  },
  {
   "cell_type": "markdown",
   "metadata": {
    "cell_id": "00058-7b28c7da-62df-4cea-9490-383f751edfa0",
    "deepnote_cell_type": "markdown"
   },
   "source": [
    "The standardization of the dataset may give a <code>DataConversionWarning</code>. This informs you that the integer columns in the dataframe are automatically converted to real numbers (<code>float64</code>). This is expected and you can therefore ignore this warning. If you want to suppress the warning, you can explicitly convert the integer columns to real numbers</p>\n",
    "<pre>\n",
    "# Option 1: Identify all integer columns, remove personal loan, \n",
    "# and change their type\n",
    "intColumns = [c for c in housing_df.columns if housing_df[c].dtype == 'int']\n",
    "housing_df[intColumns] = housing_df[intColumns].astype('float64')\n",
    "</pre>\n",
    "Alternatively, you can suppress the warning as follows:\n",
    "<pre>\n",
    "# Option 2: use the warnings package to suppress the display of the warning\n",
    "import warnings\n",
    "with warnings.catch_warnings():\n",
    "    warnings.simplefilter('ignore')\n",
    "    norm_df = pd.DataFrame(scaler.fit_transform(housing_df), \n",
    "                       index=housing_df.index, columns=housing_df.columns)    \n",
    "</pre>"
   ]
  },
  {
   "cell_type": "markdown",
   "metadata": {
    "cell_id": "00059-e0825141-7e1c-4007-8974-983ae0290c6b",
    "deepnote_cell_type": "markdown"
   },
   "source": [
    "## Table 2.9\n",
    "Split the dataset into training (60%) and validation (40%) sets. Randomly sample 60% of the dataset into a new data frame `trainData`. The remaining 40% serve as validation."
   ]
  },
  {
   "cell_type": "code",
   "execution_count": 31,
   "metadata": {
    "cell_id": "00060-b135b973-3aad-4562-adf5-786a3eb87fd3",
    "deepnote_cell_type": "code",
    "deepnote_to_be_reexecuted": false,
    "execution_millis": 9,
    "execution_start": 1609784961743,
    "source_hash": "471728df"
   },
   "outputs": [
    {
     "name": "stdout",
     "output_type": "stream",
     "text": [
      "Training   :  (3481, 15)\n",
      "Validation :  (2321, 15)\n",
      "\n",
      "Training   :  (3481, 15)\n",
      "Validation :  (2321, 15)\n"
     ]
    }
   ],
   "source": [
    "# random_state is set to a defined value to get the same partitions when re-running the code\n",
    "trainData= housing_df.sample(frac=0.6, random_state=1)\n",
    "# assign rows that are not already in the training set, into validation \n",
    "validData = housing_df.drop(trainData.index)\n",
    "\n",
    "print('Training   : ', trainData.shape)\n",
    "print('Validation : ', validData.shape)\n",
    "print()\n",
    "\n",
    "# alternative way using scikit-learn\n",
    "trainData, validData = train_test_split(housing_df, test_size=0.40, random_state=1)\n",
    "print('Training   : ', trainData.shape)\n",
    "print('Validation : ', validData.shape)"
   ]
  },
  {
   "cell_type": "markdown",
   "metadata": {
    "cell_id": "00061-f0c9d9c5-f039-45b6-9fc3-113de52b4328",
    "deepnote_cell_type": "markdown"
   },
   "source": [
    "Partition the dataset into training (50%), validation (30%), and test sets (20%). "
   ]
  },
  {
   "cell_type": "code",
   "execution_count": 32,
   "metadata": {
    "cell_id": "00062-b590911a-8280-4bc5-bcdd-a9a633d3761e",
    "deepnote_cell_type": "code",
    "deepnote_to_be_reexecuted": false,
    "execution_millis": 12,
    "execution_start": 1609784961753,
    "source_hash": "c730ceef"
   },
   "outputs": [
    {
     "name": "stdout",
     "output_type": "stream",
     "text": [
      "Training   :  (2901, 15)\n",
      "Validation :  (1741, 15)\n",
      "Test       :  (1160, 15)\n",
      "\n",
      "Training   :  (2901, 15)\n",
      "Validation :  (1740, 15)\n",
      "Test       :  (1161, 15)\n"
     ]
    }
   ],
   "source": [
    "# randomly sample 50% of the row IDs for training\n",
    "trainData = housing_df.sample(frac=0.5, random_state=1)\n",
    "# sample 30% of the row IDs into the validation set, drawing only from records\n",
    "# not already in the training set; 60% of 50% is 30%\n",
    "validData = housing_df.drop(trainData.index).sample(frac=0.6, random_state=1)  \n",
    "# the remaining 20% rows serve as test\n",
    "testData = housing_df.drop(trainData.index).drop(validData.index)\n",
    "\n",
    "print('Training   : ', trainData.shape)\n",
    "print('Validation : ', validData.shape)\n",
    "print('Test       : ', testData.shape)\n",
    "print()\n",
    "\n",
    "# alternative way using scikit-learn\n",
    "trainData, temp = train_test_split(housing_df, test_size=0.5, random_state=1)\n",
    "validData, testData = train_test_split(temp, test_size=0.4, random_state=1)\n",
    "print('Training   : ', trainData.shape)\n",
    "print('Validation : ', validData.shape)\n",
    "print('Test       : ', testData.shape)"
   ]
  },
  {
   "cell_type": "markdown",
   "metadata": {
    "cell_id": "00063-21ce5de5-791d-4e52-b454-58fc6b4ddf5a",
    "deepnote_cell_type": "markdown"
   },
   "source": [
    "## Table 2.11\n",
    "The statsmodels package allows to define linear regression models using a formula definition similar to R. In contrast to R, all variables need to be specified explicitly. We construct a formula excluding the dependent variable and the `TAX` column"
   ]
  },
  {
   "cell_type": "code",
   "execution_count": 33,
   "metadata": {
    "cell_id": "00064-1ad8f4e2-51b6-4b3f-bb12-5956b0d9cefd",
    "deepnote_cell_type": "code",
    "deepnote_to_be_reexecuted": false,
    "execution_millis": 33,
    "execution_start": 1609784961771,
    "scrolled": false,
    "source_hash": "752f84d7"
   },
   "outputs": [
    {
     "name": "stdout",
     "output_type": "stream",
     "text": [
      "      TOTAL_VALUE   predicted   residual\n",
      "2024        392.0  387.726258   4.273742\n",
      "5140        476.3  430.785540  45.514460\n",
      "5259        367.4  384.042952 -16.642952\n",
      "421         350.3  369.005551 -18.705551\n",
      "1401        348.1  314.725722  33.374278\n"
     ]
    }
   ],
   "source": [
    "# Data loading and preprocessing\n",
    "housing_df = pd.read_csv('dmba/WestRoxbury.csv')\n",
    "housing_df.columns = [s.strip().replace(' ', '_') for s in housing_df.columns]\n",
    "housing_df = pd.get_dummies(housing_df, prefix_sep='_', drop_first=True)\n",
    "\n",
    "excludeColumns = ('TOTAL_VALUE', 'TAX')\n",
    "predictors = [s for s in housing_df.columns if s not in excludeColumns]\n",
    "outcome = 'TOTAL_VALUE'\n",
    "\n",
    "# partition data\n",
    "X = housing_df[predictors]\n",
    "y = housing_df[outcome]\n",
    "train_X, valid_X, train_y, valid_y = train_test_split(X, y, test_size=0.4, random_state=1)\n",
    "\n",
    "model = LinearRegression()\n",
    "model.fit(train_X, train_y)\n",
    "\n",
    "train_pred = model.predict(train_X)\n",
    "train_results = pd.DataFrame({\n",
    "    'TOTAL_VALUE': train_y, \n",
    "    'predicted': train_pred, \n",
    "    'residual': train_y - train_pred\n",
    "})\n",
    "print(train_results.head())"
   ]
  },
  {
   "cell_type": "code",
   "execution_count": 34,
   "metadata": {
    "cell_id": "00065-5b415e51-b89c-4df3-8428-566d602bb76b",
    "deepnote_cell_type": "code",
    "deepnote_to_be_reexecuted": false,
    "execution_millis": 195,
    "execution_start": 1609784961861,
    "source_hash": "4acc39"
   },
   "outputs": [
    {
     "data": {
      "image/png": "[encoded data removed]",
      "text/plain": [
       "<Figure size 432x288 with 1 Axes>"
      ]
     },
     "metadata": {
      "needs_background": "light"
     },
     "output_type": "display_data"
    }
   ],
   "source": [
    "plt.plot(train_results.TOTAL_VALUE, train_results.predicted, '.')\n",
    "plt.xlabel('actual')  # set x-axis label\n",
    "plt.ylabel('predicted')  # set y-axis label\n",
    "axes = plt.gca()\n",
    "plt.plot(axes.get_xlim(), axes.get_xlim(), '--')\n",
    "plt.show()"
   ]
  },
  {
   "cell_type": "markdown",
   "metadata": {
    "cell_id": "00066-b5ad2162-55c8-46c7-ba83-7b01d22daf4b",
    "deepnote_cell_type": "markdown"
   },
   "source": [
    "Predict the validation data"
   ]
  },
  {
   "cell_type": "code",
   "execution_count": 35,
   "metadata": {
    "cell_id": "00067-5888872d-e42c-4d16-84b9-2727262418b4",
    "deepnote_cell_type": "code",
    "deepnote_to_be_reexecuted": false,
    "execution_millis": 12,
    "execution_start": 1609784962060,
    "source_hash": "f84622cd"
   },
   "outputs": [
    {
     "name": "stdout",
     "output_type": "stream",
     "text": [
      "      TOTAL_VALUE   predicted   residual\n",
      "1822        462.0  406.946377  55.053623\n",
      "1998        370.4  362.888928   7.511072\n",
      "5126        407.4  390.287208  17.112792\n",
      "808         316.1  382.470203 -66.370203\n",
      "4034        393.2  434.334998 -41.134998\n"
     ]
    }
   ],
   "source": [
    "valid_pred = model.predict(valid_X)\n",
    "valid_results = pd.DataFrame({\n",
    "    'TOTAL_VALUE': valid_y, \n",
    "    'predicted': valid_pred, \n",
    "    'residual': valid_y - valid_pred\n",
    "})\n",
    "print(valid_results.head())"
   ]
  },
  {
   "cell_type": "code",
   "execution_count": 36,
   "metadata": {
    "cell_id": "00068-6ca59ae1-2afd-403e-9ba7-b0ce0995fc22",
    "deepnote_cell_type": "code",
    "deepnote_to_be_reexecuted": false,
    "execution_millis": 189,
    "execution_start": 1609784962086,
    "source_hash": "7ee5a1f8"
   },
   "outputs": [
    {
     "data": {
      "image/png": "[encoded data removed]",
      "text/plain": [
       "<Figure size 432x288 with 1 Axes>"
      ]
     },
     "metadata": {
      "needs_background": "light"
     },
     "output_type": "display_data"
    }
   ],
   "source": [
    "plt.plot(valid_results.TOTAL_VALUE, valid_results.predicted, '.')\n",
    "plt.xlabel('actual')  # set x-axis label\n",
    "plt.ylabel('predicted')  # set y-axis label\n",
    "axes = plt.gca()\n",
    "plt.plot(axes.get_xlim(), axes.get_xlim(), '--')\n",
    "plt.show()"
   ]
  },
  {
   "cell_type": "markdown",
   "metadata": {
    "cell_id": "00069-6a1be846-c298-4fe8-b552-6b774a34ac3b",
    "deepnote_cell_type": "markdown"
   },
   "source": [
    "## Table 2.13\n",
    "We can use the metrics that scikit-learn provides."
   ]
  },
  {
   "cell_type": "code",
   "execution_count": 37,
   "metadata": {
    "cell_id": "00070-9713d2fa-c40f-46eb-b7a7-2e59c9935427",
    "deepnote_cell_type": "code",
    "deepnote_to_be_reexecuted": false,
    "execution_millis": 3,
    "execution_start": 1609784962279,
    "source_hash": "7c69af88"
   },
   "outputs": [
    {
     "name": "stdout",
     "output_type": "stream",
     "text": [
      "Training set r2:  0.8097361461091853\n",
      "Validation set r2:  0.8171327286147876\n"
     ]
    }
   ],
   "source": [
    "print('Training set r2: ', r2_score(train_results.TOTAL_VALUE, train_results.predicted))\n",
    "print('Validation set r2: ', r2_score(valid_results.TOTAL_VALUE, valid_results.predicted))"
   ]
  },
  {
   "cell_type": "code",
   "execution_count": 38,
   "metadata": {
    "cell_id": "00071-129a41b7-a26b-4d31-aa50-73a12b7250e8",
    "deepnote_cell_type": "code",
    "deepnote_to_be_reexecuted": false,
    "execution_millis": 81,
    "execution_start": 1609784962286,
    "source_hash": "1f6f15d2"
   },
   "outputs": [
    {
     "name": "stdout",
     "output_type": "stream",
     "text": [
      "no display found. Using non-interactive Agg backend\n",
      "\n",
      "Regression statistics\n",
      "\n",
      "                      Mean Error (ME) : -0.0000\n",
      "       Root Mean Squared Error (RMSE) : 43.0306\n",
      "            Mean Absolute Error (MAE) : 32.6042\n",
      "          Mean Percentage Error (MPE) : -1.1116\n",
      "Mean Absolute Percentage Error (MAPE) : 8.4886\n",
      "\n",
      "Regression statistics\n",
      "\n",
      "                      Mean Error (ME) : -0.1463\n",
      "       Root Mean Squared Error (RMSE) : 42.7292\n",
      "            Mean Absolute Error (MAE) : 31.9663\n",
      "          Mean Percentage Error (MPE) : -1.0884\n",
      "Mean Absolute Percentage Error (MAPE) : 8.3283\n"
     ]
    }
   ],
   "source": [
    "# import the utility function regressionSummary\n",
    "from dmba import regressionSummary\n",
    "\n",
    "# training set\n",
    "regressionSummary(train_results.TOTAL_VALUE, train_results.predicted)\n",
    "\n",
    "# validation set\n",
    "regressionSummary(valid_results.TOTAL_VALUE, valid_results.predicted)"
   ]
  },
  {
   "cell_type": "markdown",
   "metadata": {
    "cell_id": "00072-c842db03-990f-4863-870e-2efef4a303c3",
    "deepnote_cell_type": "markdown"
   },
   "source": [
    "## Table 2.14"
   ]
  },
  {
   "cell_type": "code",
   "execution_count": 39,
   "metadata": {
    "cell_id": "00073-332bf93d-5ac9-4eb7-92f7-cd1c8bba47cf",
    "deepnote_cell_type": "code",
    "deepnote_to_be_reexecuted": false,
    "execution_millis": 1,
    "execution_start": 1609784962396,
    "source_hash": "13614d6a"
   },
   "outputs": [
    {
     "name": "stdout",
     "output_type": "stream",
     "text": [
      "   LOT_SQFT  YR_BUILT  GROSS_AREA  LIVING_AREA  FLOORS  ROOMS  BEDROOMS  \\\n",
      "0      4200      1960        2670         1710     2.0     10         4   \n",
      "1      6444      1940        2886         1474     1.5      6         3   \n",
      "2      5035      1925        3264         1523     1.9      6         2   \n",
      "\n",
      "   FULL_BATH  HALF_BATH  KITCHEN  FIREPLACE  REMODEL_Old  REMODEL_Recent  \n",
      "0          1          1        1          1            0               0  \n",
      "1          1          1        1          1            0               0  \n",
      "2          1          0        1          0            0               1  \n",
      "Predictions:  [384.47210285 378.06696706 386.01773842]\n"
     ]
    }
   ],
   "source": [
    "new_data = pd.DataFrame({\n",
    "    'LOT_SQFT': [4200, 6444, 5035],\n",
    "    'YR_BUILT': [1960, 1940, 1925],\n",
    "    'GROSS_AREA': [2670, 2886, 3264],\n",
    "    'LIVING_AREA': [1710, 1474, 1523],\n",
    "    'FLOORS': [2.0, 1.5, 1.9],\n",
    "    'ROOMS': [10, 6, 6],\n",
    "    'BEDROOMS': [4, 3, 2],\n",
    "    'FULL_BATH': [1, 1, 1],\n",
    "    'HALF_BATH': [1, 1, 0],\n",
    "    'KITCHEN': [1, 1, 1],\n",
    "    'FIREPLACE': [1, 1, 0],\n",
    "    'REMODEL_Old': [0, 0, 0],\n",
    "    'REMODEL_Recent': [0, 0, 1],\n",
    "})\n",
    "print(new_data)\n",
    "\n",
    "print('Predictions: ', model.predict(new_data))"
   ]
  },
  {
   "cell_type": "code",
   "execution_count": 39,
   "metadata": {
    "cell_id": "00074-0b4fad35-69fd-49f4-96c9-ddc5d9562a28",
    "deepnote_cell_type": "code",
    "deepnote_to_be_reexecuted": false,
    "execution_millis": 1,
    "execution_start": 1609784962397,
    "source_hash": "b623e53d"
   },
   "outputs": [],
   "source": []
  },
  {
   "cell_type": "markdown",
   "metadata": {
    "cell_id": "00075-b3c83630-10a5-4097-a095-718bab0cc9e3",
    "deepnote_cell_type": "markdown"
   },
   "source": [
    "## Figure 2.2 and 2.3"
   ]
  },
  {
   "cell_type": "code",
   "execution_count": 40,
   "metadata": {
    "cell_id": "00076-d5799b8e-7923-4598-915b-ff26a1fc1bf5",
    "deepnote_cell_type": "code",
    "deepnote_to_be_reexecuted": false,
    "execution_millis": 1,
    "execution_start": 1609784962398,
    "source_hash": "93a37685"
   },
   "outputs": [
    {
     "data": {
      "application/vnd.deepnote.dataframe.v2+json": {
       "column_count": 2,
       "columns": [
        {
         "dtype": "int64",
         "name": "Expenditure",
         "stats": {
          "histogram": [
           {
            "bin_end": 306.2,
            "bin_start": 239,
            "count": 1
           },
           {
            "bin_end": 373.4,
            "bin_start": 306.2,
            "count": 1
           },
           {
            "bin_end": 440.6,
            "bin_start": 373.4,
            "count": 0
           },
           {
            "bin_end": 507.8,
            "bin_start": 440.6,
            "count": 0
           },
           {
            "bin_end": 575,
            "bin_start": 507.8,
            "count": 0
           },
           {
            "bin_end": 642.2,
            "bin_start": 575,
            "count": 1
           },
           {
            "bin_end": 709.4000000000001,
            "bin_start": 642.2,
            "count": 1
           },
           {
            "bin_end": 776.6,
            "bin_start": 709.4000000000001,
            "count": 1
           },
           {
            "bin_end": 843.8000000000001,
            "bin_start": 776.6,
            "count": 1
           },
           {
            "bin_end": 911,
            "bin_start": 843.8000000000001,
            "count": 1
           }
          ],
          "max": 911,
          "min": 239,
          "nan_count": 0,
          "unique_count": 7
         }
        },
        {
         "dtype": "int64",
         "name": "Revenue",
         "stats": {
          "histogram": [
           {
            "bin_end": 606.6,
            "bin_start": 514,
            "count": 2
           },
           {
            "bin_end": 699.2,
            "bin_start": 606.6,
            "count": 0
           },
           {
            "bin_end": 791.8,
            "bin_start": 699.2,
            "count": 1
           },
           {
            "bin_end": 884.4,
            "bin_start": 791.8,
            "count": 0
           },
           {
            "bin_end": 977,
            "bin_start": 884.4,
            "count": 0
           },
           {
            "bin_end": 1069.6,
            "bin_start": 977,
            "count": 0
           },
           {
            "bin_end": 1162.1999999999998,
            "bin_start": 1069.6,
            "count": 0
           },
           {
            "bin_end": 1254.8,
            "bin_start": 1162.1999999999998,
            "count": 0
           },
           {
            "bin_end": 1347.4,
            "bin_start": 1254.8,
            "count": 0
           },
           {
            "bin_end": 1440,
            "bin_start": 1347.4,
            "count": 4
           }
          ],
          "max": 1440,
          "min": 514,
          "nan_count": 0,
          "unique_count": 7
         }
        },
        {
         "dtype": "int64",
         "name": "_deepnote_index_column"
        }
       ],
       "row_count": 7,
       "rows_bottom": null,
       "rows_top": [
        {
         "Expenditure": 239,
         "Revenue": 514,
         "_deepnote_index_column": 0
        },
        {
         "Expenditure": 364,
         "Revenue": 789,
         "_deepnote_index_column": 1
        },
        {
         "Expenditure": 602,
         "Revenue": 550,
         "_deepnote_index_column": 2
        },
        {
         "Expenditure": 644,
         "Revenue": 1386,
         "_deepnote_index_column": 3
        },
        {
         "Expenditure": 770,
         "Revenue": 1394,
         "_deepnote_index_column": 4
        },
        {
         "Expenditure": 789,
         "Revenue": 1440,
         "_deepnote_index_column": 5
        },
        {
         "Expenditure": 911,
         "Revenue": 1354,
         "_deepnote_index_column": 6
        }
       ]
      },
      "text/html": [
       "<div>\n",
       "<style scoped>\n",
       "    .dataframe tbody tr th:only-of-type {\n",
       "        vertical-align: middle;\n",
       "    }\n",
       "\n",
       "    .dataframe tbody tr th {\n",
       "        vertical-align: top;\n",
       "    }\n",
       "\n",
       "    .dataframe thead th {\n",
       "        text-align: right;\n",
       "    }\n",
       "</style>\n",
       "<table border=\"1\" class=\"dataframe\">\n",
       "  <thead>\n",
       "    <tr style=\"text-align: right;\">\n",
       "      <th></th>\n",
       "      <th>Expenditure</th>\n",
       "      <th>Revenue</th>\n",
       "    </tr>\n",
       "  </thead>\n",
       "  <tbody>\n",
       "    <tr>\n",
       "      <th>0</th>\n",
       "      <td>239</td>\n",
       "      <td>514</td>\n",
       "    </tr>\n",
       "    <tr>\n",
       "      <th>1</th>\n",
       "      <td>364</td>\n",
       "      <td>789</td>\n",
       "    </tr>\n",
       "    <tr>\n",
       "      <th>2</th>\n",
       "      <td>602</td>\n",
       "      <td>550</td>\n",
       "    </tr>\n",
       "    <tr>\n",
       "      <th>3</th>\n",
       "      <td>644</td>\n",
       "      <td>1386</td>\n",
       "    </tr>\n",
       "    <tr>\n",
       "      <th>4</th>\n",
       "      <td>770</td>\n",
       "      <td>1394</td>\n",
       "    </tr>\n",
       "    <tr>\n",
       "      <th>5</th>\n",
       "      <td>789</td>\n",
       "      <td>1440</td>\n",
       "    </tr>\n",
       "    <tr>\n",
       "      <th>6</th>\n",
       "      <td>911</td>\n",
       "      <td>1354</td>\n",
       "    </tr>\n",
       "  </tbody>\n",
       "</table>\n",
       "</div>"
      ],
      "text/plain": [
       "   Expenditure  Revenue\n",
       "0          239      514\n",
       "1          364      789\n",
       "2          602      550\n",
       "3          644     1386\n",
       "4          770     1394\n",
       "5          789     1440\n",
       "6          911     1354"
      ]
     },
     "execution_count": 40,
     "metadata": {},
     "output_type": "execute_result"
    }
   ],
   "source": [
    "df = pd.DataFrame({'Expenditure': [239, 364,602, 644, 770, 789, 911], \n",
    "                   'Revenue': [514, 789, 550, 1386, 1394, 1440, 1354]})\n",
    "df"
   ]
  },
  {
   "cell_type": "code",
   "execution_count": 41,
   "metadata": {
    "cell_id": "00077-afae9693-5389-4988-b92f-4da67a6c31f8",
    "deepnote_cell_type": "code",
    "deepnote_to_be_reexecuted": false,
    "execution_millis": 196,
    "execution_start": 1609784962401,
    "source_hash": "8e09a8d2"
   },
   "outputs": [
    {
     "data": {
      "image/png": "[encoded data removed]",
      "text/plain": [
       "<Figure size 360x252 with 1 Axes>"
      ]
     },
     "metadata": {
      "needs_background": "light"
     },
     "output_type": "display_data"
    }
   ],
   "source": [
    "df.plot.scatter(x='Expenditure', y='Revenue', xlim=(0, 1000), ylim=(0, 1600), figsize=(5, 3.5))\n",
    "plt.tight_layout()  # Increase the separation between the plots\n",
    "plt.show()"
   ]
  },
  {
   "cell_type": "code",
   "execution_count": 42,
   "metadata": {
    "cell_id": "00078-ef3168f6-395a-4ce9-82d2-d7f668804bad",
    "deepnote_cell_type": "code",
    "deepnote_to_be_reexecuted": false,
    "execution_millis": 2,
    "execution_start": 1609784962601,
    "source_hash": "574df88f"
   },
   "outputs": [],
   "source": [
    "x = list(df.Expenditure)\n",
    "y = list(df.Revenue)\n",
    "\n",
    "from scipy import interpolate\n",
    "f = interpolate.PchipInterpolator(x, y)\n",
    "\n",
    "x_new = np.linspace(x[0], x[-1], 100)\n",
    "y_new = [f(xi) for xi in x_new]"
   ]
  },
  {
   "cell_type": "code",
   "execution_count": 43,
   "metadata": {
    "cell_id": "00079-1cea23b4-696f-4ff4-a729-c83dc9559026",
    "deepnote_cell_type": "code",
    "deepnote_to_be_reexecuted": false,
    "execution_millis": 202,
    "execution_start": 1609784962620,
    "pycharm": {
     "name": "#%%\n"
    },
    "scrolled": true,
    "source_hash": "932a352e"
   },
   "outputs": [
    {
     "data": {
      "image/png": "[encoded data removed]",
      "text/plain": [
       "<Figure size 360x252 with 1 Axes>"
      ]
     },
     "metadata": {
      "needs_background": "light"
     },
     "output_type": "display_data"
    }
   ],
   "source": [
    "df.plot.scatter(x='Expenditure', y='Revenue', xlim=(0, 1000), ylim=(0, 1600), figsize=(5, 3.5))\n",
    "plt.plot(x_new, y_new)\n",
    "plt.tight_layout()  # Increase the separation between the plots\n",
    "plt.show()\n"
   ]
  }
 ],
 "metadata": {
  "deepnote_execution_queue": [],
  "deepnote_notebook_id": "752e156f-f755-4fe5-8865-6d90c4c0566c",
  "kernelspec": {
   "display_name": "Python 3",
   "language": "python",
   "name": "python3"
  },
  "language_info": {
   "codemirror_mode": {
    "name": "ipython",
    "version": 3
   },
   "file_extension": ".py",
   "mimetype": "text/x-python",
   "name": "python",
   "nbconvert_exporter": "python",
   "pygments_lexer": "ipython3",
   "version": "3.8.6"
  }
 },
 "nbformat": 4,
 "nbformat_minor": 2
}
