{
  "cells": [
    {
      "cell_type": "markdown",
      "source": "This homework is based on the data about cardiac Single Proton Emission Computed Tomography. This data was obtained from https://archive.ics.uci.edu/ml/datasets/spect+heart. Your goal is to predict the diagnosis of the patient. There are no missing variables.\n\n1. Import and merge the SPECT.train and SPECT.test data sets (e.g., use read_csv() to import the data and concat() to merge the data). Create a single dataframe with appropriate column names (see link above) where the 'OVERALL_DIAGNOSIS' column is the outcome variable. Print the top 10 records of your dataframe.\n\n2.  Partition the data into training (60%) and validation (40%) sets\n\n3. Run the Naïve Bayes algorithm, print your classification summary, and plot the related gains and lift charts.\n\n4. Run a decision tree classifier algorithm on the data and print your tree.  Re-run your analysis with a smaller tree where max_depth=30, min_samples_split=20, and min_impurity_decrease=0.01. Print the summaries of your classification.\n\n5. Re-rerun your analysis using random forests and boosted tree algorithms. Print your classification summary and feature importance scores.\n\n6. Run logistic regression on the data, print your classification summary, and plot the related gains and lift charts. \n\n7. Discuss your results. How do your results compare to the results from the CLIP3 algorithm mentioned in the link above? Discuss ways to improve your predictive accuracy. What are the advantages and disadvantages of each of the algorithms that you employed?",
      "metadata": {
        "tags": [],
        "cell_id": "00000-92b1bb9b-7555-4d3d-9f1d-37b193b65a5c",
        "deepnote_cell_type": "markdown"
      }
    },
    {
      "cell_type": "code",
      "metadata": {
        "tags": [],
        "cell_id": "00000-749ee8a0-48ea-4e94-8b5e-24384d5eb8fe",
        "deepnote_to_be_reexecuted": false,
        "source_hash": "82ca9f8f",
        "execution_millis": 1996,
        "execution_start": 1616625964899,
        "deepnote_cell_type": "code"
      },
      "source": "# import numpy as np\nimport networkx as nx\nimport pandas as pd\nimport numpy as np\nimport matplotlib.pylab as plt\nimport seaborn as sns\n#\nfrom sklearn.model_selection import train_test_split\nfrom sklearn.naive_bayes import MultinomialNB\nfrom sklearn.linear_model import LogisticRegression, LogisticRegressionCV\n\nfrom dmba import classificationSummary, gainsChart, liftChart\nfrom dmba.metric import AIC_score \n\n",
      "outputs": [
        {
          "name": "stdout",
          "text": "no display found. Using non-interactive Agg backend\n",
          "output_type": "stream"
        }
      ],
      "execution_count": null
    },
    {
      "cell_type": "code",
      "metadata": {
        "tags": [],
        "cell_id": "00002-3ee8f620-87d2-4e66-96c1-819fcc50fd8a",
        "deepnote_to_be_reexecuted": false,
        "source_hash": "e396ae5e",
        "execution_millis": 64,
        "execution_start": 1616625969229,
        "deepnote_cell_type": "code"
      },
      "source": "# 1.\n# Import and merge the SPECT.train and SPECT.test data sets (e.g., use read_csv() to import the data and concat() to merge the data).\n# Create a single dataframe with appropriate column names (see link above) where the 'OVERALL_DIAGNOSIS' column is the outcome variable.\n# Print the top 10 records of your dataframe.\n\nspect_test = pd.read_csv('SPECT.test',header=None)\nspect_train = pd.read_csv('SPECT.train',header=None)\nspect_frames = [spect_test, spect_train]\nspect = pd.concat(spect_frames)\n\ncolumn_indices = [0,1,2,3,4,5,6,7,8,9,10,11,12,13,14,15,16,17,18,19,20,21,22]\nnew_names = ['OVERALL_DIAGNOSIS','F1','F2','F3','F4','F5','F6','F7','F8','F9','F10','F11','F12','F13','F14','F15','F16','F17','F18','F19','F20','F21','F22']\nold_names = spect.columns[column_indices]\nspect.rename(columns=dict(zip(old_names, new_names)), inplace=True)\n\nspect.head(10)\n",
      "outputs": [
        {
          "output_type": "execute_result",
          "execution_count": 2,
          "data": {
            "application/vnd.deepnote.dataframe.v2+json": {
              "row_count": 10,
              "column_count": 23,
              "columns": [
                {
                  "name": "OVERALL_DIAGNOSIS",
                  "dtype": "int64",
                  "stats": {
                    "unique_count": 1,
                    "nan_count": 0,
                    "min": 1,
                    "max": 1,
                    "histogram": [
                      {
                        "bin_start": 0.5,
                        "bin_end": 0.6,
                        "count": 0
                      },
                      {
                        "bin_start": 0.6,
                        "bin_end": 0.7,
                        "count": 0
                      },
                      {
                        "bin_start": 0.7,
                        "bin_end": 0.8,
                        "count": 0
                      },
                      {
                        "bin_start": 0.8,
                        "bin_end": 0.9,
                        "count": 0
                      },
                      {
                        "bin_start": 0.9,
                        "bin_end": 1,
                        "count": 0
                      },
                      {
                        "bin_start": 1,
                        "bin_end": 1.1,
                        "count": 10
                      },
                      {
                        "bin_start": 1.1,
                        "bin_end": 1.2000000000000002,
                        "count": 0
                      },
                      {
                        "bin_start": 1.2000000000000002,
                        "bin_end": 1.3,
                        "count": 0
                      },
                      {
                        "bin_start": 1.3,
                        "bin_end": 1.4,
                        "count": 0
                      },
                      {
                        "bin_start": 1.4,
                        "bin_end": 1.5,
                        "count": 0
                      }
                    ]
                  }
                },
                {
                  "name": "F1",
                  "dtype": "int64",
                  "stats": {
                    "unique_count": 2,
                    "nan_count": 0,
                    "min": 0,
                    "max": 1,
                    "histogram": [
                      {
                        "bin_start": 0,
                        "bin_end": 0.1,
                        "count": 5
                      },
                      {
                        "bin_start": 0.1,
                        "bin_end": 0.2,
                        "count": 0
                      },
                      {
                        "bin_start": 0.2,
                        "bin_end": 0.30000000000000004,
                        "count": 0
                      },
                      {
                        "bin_start": 0.30000000000000004,
                        "bin_end": 0.4,
                        "count": 0
                      },
                      {
                        "bin_start": 0.4,
                        "bin_end": 0.5,
                        "count": 0
                      },
                      {
                        "bin_start": 0.5,
                        "bin_end": 0.6000000000000001,
                        "count": 0
                      },
                      {
                        "bin_start": 0.6000000000000001,
                        "bin_end": 0.7000000000000001,
                        "count": 0
                      },
                      {
                        "bin_start": 0.7000000000000001,
                        "bin_end": 0.8,
                        "count": 0
                      },
                      {
                        "bin_start": 0.8,
                        "bin_end": 0.9,
                        "count": 0
                      },
                      {
                        "bin_start": 0.9,
                        "bin_end": 1,
                        "count": 5
                      }
                    ]
                  }
                },
                {
                  "name": "F2",
                  "dtype": "int64",
                  "stats": {
                    "unique_count": 2,
                    "nan_count": 0,
                    "min": 0,
                    "max": 1,
                    "histogram": [
                      {
                        "bin_start": 0,
                        "bin_end": 0.1,
                        "count": 9
                      },
                      {
                        "bin_start": 0.1,
                        "bin_end": 0.2,
                        "count": 0
                      },
                      {
                        "bin_start": 0.2,
                        "bin_end": 0.30000000000000004,
                        "count": 0
                      },
                      {
                        "bin_start": 0.30000000000000004,
                        "bin_end": 0.4,
                        "count": 0
                      },
                      {
                        "bin_start": 0.4,
                        "bin_end": 0.5,
                        "count": 0
                      },
                      {
                        "bin_start": 0.5,
                        "bin_end": 0.6000000000000001,
                        "count": 0
                      },
                      {
                        "bin_start": 0.6000000000000001,
                        "bin_end": 0.7000000000000001,
                        "count": 0
                      },
                      {
                        "bin_start": 0.7000000000000001,
                        "bin_end": 0.8,
                        "count": 0
                      },
                      {
                        "bin_start": 0.8,
                        "bin_end": 0.9,
                        "count": 0
                      },
                      {
                        "bin_start": 0.9,
                        "bin_end": 1,
                        "count": 1
                      }
                    ]
                  }
                },
                {
                  "name": "F3",
                  "dtype": "int64",
                  "stats": {
                    "unique_count": 2,
                    "nan_count": 0,
                    "min": 0,
                    "max": 1,
                    "histogram": [
                      {
                        "bin_start": 0,
                        "bin_end": 0.1,
                        "count": 7
                      },
                      {
                        "bin_start": 0.1,
                        "bin_end": 0.2,
                        "count": 0
                      },
                      {
                        "bin_start": 0.2,
                        "bin_end": 0.30000000000000004,
                        "count": 0
                      },
                      {
                        "bin_start": 0.30000000000000004,
                        "bin_end": 0.4,
                        "count": 0
                      },
                      {
                        "bin_start": 0.4,
                        "bin_end": 0.5,
                        "count": 0
                      },
                      {
                        "bin_start": 0.5,
                        "bin_end": 0.6000000000000001,
                        "count": 0
                      },
                      {
                        "bin_start": 0.6000000000000001,
                        "bin_end": 0.7000000000000001,
                        "count": 0
                      },
                      {
                        "bin_start": 0.7000000000000001,
                        "bin_end": 0.8,
                        "count": 0
                      },
                      {
                        "bin_start": 0.8,
                        "bin_end": 0.9,
                        "count": 0
                      },
                      {
                        "bin_start": 0.9,
                        "bin_end": 1,
                        "count": 3
                      }
                    ]
                  }
                },
                {
                  "name": "F4",
                  "dtype": "int64",
                  "stats": {
                    "unique_count": 2,
                    "nan_count": 0,
                    "min": 0,
                    "max": 1,
                    "histogram": [
                      {
                        "bin_start": 0,
                        "bin_end": 0.1,
                        "count": 2
                      },
                      {
                        "bin_start": 0.1,
                        "bin_end": 0.2,
                        "count": 0
                      },
                      {
                        "bin_start": 0.2,
                        "bin_end": 0.30000000000000004,
                        "count": 0
                      },
                      {
                        "bin_start": 0.30000000000000004,
                        "bin_end": 0.4,
                        "count": 0
                      },
                      {
                        "bin_start": 0.4,
                        "bin_end": 0.5,
                        "count": 0
                      },
                      {
                        "bin_start": 0.5,
                        "bin_end": 0.6000000000000001,
                        "count": 0
                      },
                      {
                        "bin_start": 0.6000000000000001,
                        "bin_end": 0.7000000000000001,
                        "count": 0
                      },
                      {
                        "bin_start": 0.7000000000000001,
                        "bin_end": 0.8,
                        "count": 0
                      },
                      {
                        "bin_start": 0.8,
                        "bin_end": 0.9,
                        "count": 0
                      },
                      {
                        "bin_start": 0.9,
                        "bin_end": 1,
                        "count": 8
                      }
                    ]
                  }
                },
                {
                  "name": "F5",
                  "dtype": "int64",
                  "stats": {
                    "unique_count": 2,
                    "nan_count": 0,
                    "min": 0,
                    "max": 1,
                    "histogram": [
                      {
                        "bin_start": 0,
                        "bin_end": 0.1,
                        "count": 7
                      },
                      {
                        "bin_start": 0.1,
                        "bin_end": 0.2,
                        "count": 0
                      },
                      {
                        "bin_start": 0.2,
                        "bin_end": 0.30000000000000004,
                        "count": 0
                      },
                      {
                        "bin_start": 0.30000000000000004,
                        "bin_end": 0.4,
                        "count": 0
                      },
                      {
                        "bin_start": 0.4,
                        "bin_end": 0.5,
                        "count": 0
                      },
                      {
                        "bin_start": 0.5,
                        "bin_end": 0.6000000000000001,
                        "count": 0
                      },
                      {
                        "bin_start": 0.6000000000000001,
                        "bin_end": 0.7000000000000001,
                        "count": 0
                      },
                      {
                        "bin_start": 0.7000000000000001,
                        "bin_end": 0.8,
                        "count": 0
                      },
                      {
                        "bin_start": 0.8,
                        "bin_end": 0.9,
                        "count": 0
                      },
                      {
                        "bin_start": 0.9,
                        "bin_end": 1,
                        "count": 3
                      }
                    ]
                  }
                },
                {
                  "name": "F6",
                  "dtype": "int64",
                  "stats": {
                    "unique_count": 2,
                    "nan_count": 0,
                    "min": 0,
                    "max": 1,
                    "histogram": [
                      {
                        "bin_start": 0,
                        "bin_end": 0.1,
                        "count": 7
                      },
                      {
                        "bin_start": 0.1,
                        "bin_end": 0.2,
                        "count": 0
                      },
                      {
                        "bin_start": 0.2,
                        "bin_end": 0.30000000000000004,
                        "count": 0
                      },
                      {
                        "bin_start": 0.30000000000000004,
                        "bin_end": 0.4,
                        "count": 0
                      },
                      {
                        "bin_start": 0.4,
                        "bin_end": 0.5,
                        "count": 0
                      },
                      {
                        "bin_start": 0.5,
                        "bin_end": 0.6000000000000001,
                        "count": 0
                      },
                      {
                        "bin_start": 0.6000000000000001,
                        "bin_end": 0.7000000000000001,
                        "count": 0
                      },
                      {
                        "bin_start": 0.7000000000000001,
                        "bin_end": 0.8,
                        "count": 0
                      },
                      {
                        "bin_start": 0.8,
                        "bin_end": 0.9,
                        "count": 0
                      },
                      {
                        "bin_start": 0.9,
                        "bin_end": 1,
                        "count": 3
                      }
                    ]
                  }
                },
                {
                  "name": "F7",
                  "dtype": "int64",
                  "stats": {
                    "unique_count": 2,
                    "nan_count": 0,
                    "min": 0,
                    "max": 1,
                    "histogram": [
                      {
                        "bin_start": 0,
                        "bin_end": 0.1,
                        "count": 8
                      },
                      {
                        "bin_start": 0.1,
                        "bin_end": 0.2,
                        "count": 0
                      },
                      {
                        "bin_start": 0.2,
                        "bin_end": 0.30000000000000004,
                        "count": 0
                      },
                      {
                        "bin_start": 0.30000000000000004,
                        "bin_end": 0.4,
                        "count": 0
                      },
                      {
                        "bin_start": 0.4,
                        "bin_end": 0.5,
                        "count": 0
                      },
                      {
                        "bin_start": 0.5,
                        "bin_end": 0.6000000000000001,
                        "count": 0
                      },
                      {
                        "bin_start": 0.6000000000000001,
                        "bin_end": 0.7000000000000001,
                        "count": 0
                      },
                      {
                        "bin_start": 0.7000000000000001,
                        "bin_end": 0.8,
                        "count": 0
                      },
                      {
                        "bin_start": 0.8,
                        "bin_end": 0.9,
                        "count": 0
                      },
                      {
                        "bin_start": 0.9,
                        "bin_end": 1,
                        "count": 2
                      }
                    ]
                  }
                },
                {
                  "name": "F8",
                  "dtype": "int64",
                  "stats": {
                    "unique_count": 2,
                    "nan_count": 0,
                    "min": 0,
                    "max": 1,
                    "histogram": [
                      {
                        "bin_start": 0,
                        "bin_end": 0.1,
                        "count": 7
                      },
                      {
                        "bin_start": 0.1,
                        "bin_end": 0.2,
                        "count": 0
                      },
                      {
                        "bin_start": 0.2,
                        "bin_end": 0.30000000000000004,
                        "count": 0
                      },
                      {
                        "bin_start": 0.30000000000000004,
                        "bin_end": 0.4,
                        "count": 0
                      },
                      {
                        "bin_start": 0.4,
                        "bin_end": 0.5,
                        "count": 0
                      },
                      {
                        "bin_start": 0.5,
                        "bin_end": 0.6000000000000001,
                        "count": 0
                      },
                      {
                        "bin_start": 0.6000000000000001,
                        "bin_end": 0.7000000000000001,
                        "count": 0
                      },
                      {
                        "bin_start": 0.7000000000000001,
                        "bin_end": 0.8,
                        "count": 0
                      },
                      {
                        "bin_start": 0.8,
                        "bin_end": 0.9,
                        "count": 0
                      },
                      {
                        "bin_start": 0.9,
                        "bin_end": 1,
                        "count": 3
                      }
                    ]
                  }
                },
                {
                  "name": "F9",
                  "dtype": "int64",
                  "stats": {
                    "unique_count": 2,
                    "nan_count": 0,
                    "min": 0,
                    "max": 1,
                    "histogram": [
                      {
                        "bin_start": 0,
                        "bin_end": 0.1,
                        "count": 3
                      },
                      {
                        "bin_start": 0.1,
                        "bin_end": 0.2,
                        "count": 0
                      },
                      {
                        "bin_start": 0.2,
                        "bin_end": 0.30000000000000004,
                        "count": 0
                      },
                      {
                        "bin_start": 0.30000000000000004,
                        "bin_end": 0.4,
                        "count": 0
                      },
                      {
                        "bin_start": 0.4,
                        "bin_end": 0.5,
                        "count": 0
                      },
                      {
                        "bin_start": 0.5,
                        "bin_end": 0.6000000000000001,
                        "count": 0
                      },
                      {
                        "bin_start": 0.6000000000000001,
                        "bin_end": 0.7000000000000001,
                        "count": 0
                      },
                      {
                        "bin_start": 0.7000000000000001,
                        "bin_end": 0.8,
                        "count": 0
                      },
                      {
                        "bin_start": 0.8,
                        "bin_end": 0.9,
                        "count": 0
                      },
                      {
                        "bin_start": 0.9,
                        "bin_end": 1,
                        "count": 7
                      }
                    ]
                  }
                },
                {
                  "name": "F10",
                  "dtype": "int64",
                  "stats": {
                    "unique_count": 2,
                    "nan_count": 0,
                    "min": 0,
                    "max": 1,
                    "histogram": [
                      {
                        "bin_start": 0,
                        "bin_end": 0.1,
                        "count": 5
                      },
                      {
                        "bin_start": 0.1,
                        "bin_end": 0.2,
                        "count": 0
                      },
                      {
                        "bin_start": 0.2,
                        "bin_end": 0.30000000000000004,
                        "count": 0
                      },
                      {
                        "bin_start": 0.30000000000000004,
                        "bin_end": 0.4,
                        "count": 0
                      },
                      {
                        "bin_start": 0.4,
                        "bin_end": 0.5,
                        "count": 0
                      },
                      {
                        "bin_start": 0.5,
                        "bin_end": 0.6000000000000001,
                        "count": 0
                      },
                      {
                        "bin_start": 0.6000000000000001,
                        "bin_end": 0.7000000000000001,
                        "count": 0
                      },
                      {
                        "bin_start": 0.7000000000000001,
                        "bin_end": 0.8,
                        "count": 0
                      },
                      {
                        "bin_start": 0.8,
                        "bin_end": 0.9,
                        "count": 0
                      },
                      {
                        "bin_start": 0.9,
                        "bin_end": 1,
                        "count": 5
                      }
                    ]
                  }
                },
                {
                  "name": "F11",
                  "dtype": "int64",
                  "stats": {
                    "unique_count": 2,
                    "nan_count": 0,
                    "min": 0,
                    "max": 1,
                    "histogram": [
                      {
                        "bin_start": 0,
                        "bin_end": 0.1,
                        "count": 6
                      },
                      {
                        "bin_start": 0.1,
                        "bin_end": 0.2,
                        "count": 0
                      },
                      {
                        "bin_start": 0.2,
                        "bin_end": 0.30000000000000004,
                        "count": 0
                      },
                      {
                        "bin_start": 0.30000000000000004,
                        "bin_end": 0.4,
                        "count": 0
                      },
                      {
                        "bin_start": 0.4,
                        "bin_end": 0.5,
                        "count": 0
                      },
                      {
                        "bin_start": 0.5,
                        "bin_end": 0.6000000000000001,
                        "count": 0
                      },
                      {
                        "bin_start": 0.6000000000000001,
                        "bin_end": 0.7000000000000001,
                        "count": 0
                      },
                      {
                        "bin_start": 0.7000000000000001,
                        "bin_end": 0.8,
                        "count": 0
                      },
                      {
                        "bin_start": 0.8,
                        "bin_end": 0.9,
                        "count": 0
                      },
                      {
                        "bin_start": 0.9,
                        "bin_end": 1,
                        "count": 4
                      }
                    ]
                  }
                },
                {
                  "name": "F12",
                  "dtype": "int64",
                  "stats": {
                    "unique_count": 2,
                    "nan_count": 0,
                    "min": 0,
                    "max": 1,
                    "histogram": [
                      {
                        "bin_start": 0,
                        "bin_end": 0.1,
                        "count": 8
                      },
                      {
                        "bin_start": 0.1,
                        "bin_end": 0.2,
                        "count": 0
                      },
                      {
                        "bin_start": 0.2,
                        "bin_end": 0.30000000000000004,
                        "count": 0
                      },
                      {
                        "bin_start": 0.30000000000000004,
                        "bin_end": 0.4,
                        "count": 0
                      },
                      {
                        "bin_start": 0.4,
                        "bin_end": 0.5,
                        "count": 0
                      },
                      {
                        "bin_start": 0.5,
                        "bin_end": 0.6000000000000001,
                        "count": 0
                      },
                      {
                        "bin_start": 0.6000000000000001,
                        "bin_end": 0.7000000000000001,
                        "count": 0
                      },
                      {
                        "bin_start": 0.7000000000000001,
                        "bin_end": 0.8,
                        "count": 0
                      },
                      {
                        "bin_start": 0.8,
                        "bin_end": 0.9,
                        "count": 0
                      },
                      {
                        "bin_start": 0.9,
                        "bin_end": 1,
                        "count": 2
                      }
                    ]
                  }
                },
                {
                  "name": "F13",
                  "dtype": "int64",
                  "stats": {
                    "unique_count": 2,
                    "nan_count": 0,
                    "min": 0,
                    "max": 1,
                    "histogram": [
                      {
                        "bin_start": 0,
                        "bin_end": 0.1,
                        "count": 4
                      },
                      {
                        "bin_start": 0.1,
                        "bin_end": 0.2,
                        "count": 0
                      },
                      {
                        "bin_start": 0.2,
                        "bin_end": 0.30000000000000004,
                        "count": 0
                      },
                      {
                        "bin_start": 0.30000000000000004,
                        "bin_end": 0.4,
                        "count": 0
                      },
                      {
                        "bin_start": 0.4,
                        "bin_end": 0.5,
                        "count": 0
                      },
                      {
                        "bin_start": 0.5,
                        "bin_end": 0.6000000000000001,
                        "count": 0
                      },
                      {
                        "bin_start": 0.6000000000000001,
                        "bin_end": 0.7000000000000001,
                        "count": 0
                      },
                      {
                        "bin_start": 0.7000000000000001,
                        "bin_end": 0.8,
                        "count": 0
                      },
                      {
                        "bin_start": 0.8,
                        "bin_end": 0.9,
                        "count": 0
                      },
                      {
                        "bin_start": 0.9,
                        "bin_end": 1,
                        "count": 6
                      }
                    ]
                  }
                },
                {
                  "name": "F14",
                  "dtype": "int64",
                  "stats": {
                    "unique_count": 2,
                    "nan_count": 0,
                    "min": 0,
                    "max": 1,
                    "histogram": [
                      {
                        "bin_start": 0,
                        "bin_end": 0.1,
                        "count": 3
                      },
                      {
                        "bin_start": 0.1,
                        "bin_end": 0.2,
                        "count": 0
                      },
                      {
                        "bin_start": 0.2,
                        "bin_end": 0.30000000000000004,
                        "count": 0
                      },
                      {
                        "bin_start": 0.30000000000000004,
                        "bin_end": 0.4,
                        "count": 0
                      },
                      {
                        "bin_start": 0.4,
                        "bin_end": 0.5,
                        "count": 0
                      },
                      {
                        "bin_start": 0.5,
                        "bin_end": 0.6000000000000001,
                        "count": 0
                      },
                      {
                        "bin_start": 0.6000000000000001,
                        "bin_end": 0.7000000000000001,
                        "count": 0
                      },
                      {
                        "bin_start": 0.7000000000000001,
                        "bin_end": 0.8,
                        "count": 0
                      },
                      {
                        "bin_start": 0.8,
                        "bin_end": 0.9,
                        "count": 0
                      },
                      {
                        "bin_start": 0.9,
                        "bin_end": 1,
                        "count": 7
                      }
                    ]
                  }
                },
                {
                  "name": "F15",
                  "dtype": "int64",
                  "stats": {
                    "unique_count": 2,
                    "nan_count": 0,
                    "min": 0,
                    "max": 1,
                    "histogram": [
                      {
                        "bin_start": 0,
                        "bin_end": 0.1,
                        "count": 7
                      },
                      {
                        "bin_start": 0.1,
                        "bin_end": 0.2,
                        "count": 0
                      },
                      {
                        "bin_start": 0.2,
                        "bin_end": 0.30000000000000004,
                        "count": 0
                      },
                      {
                        "bin_start": 0.30000000000000004,
                        "bin_end": 0.4,
                        "count": 0
                      },
                      {
                        "bin_start": 0.4,
                        "bin_end": 0.5,
                        "count": 0
                      },
                      {
                        "bin_start": 0.5,
                        "bin_end": 0.6000000000000001,
                        "count": 0
                      },
                      {
                        "bin_start": 0.6000000000000001,
                        "bin_end": 0.7000000000000001,
                        "count": 0
                      },
                      {
                        "bin_start": 0.7000000000000001,
                        "bin_end": 0.8,
                        "count": 0
                      },
                      {
                        "bin_start": 0.8,
                        "bin_end": 0.9,
                        "count": 0
                      },
                      {
                        "bin_start": 0.9,
                        "bin_end": 1,
                        "count": 3
                      }
                    ]
                  }
                },
                {
                  "name": "F16",
                  "dtype": "int64",
                  "stats": {
                    "unique_count": 2,
                    "nan_count": 0,
                    "min": 0,
                    "max": 1,
                    "histogram": [
                      {
                        "bin_start": 0,
                        "bin_end": 0.1,
                        "count": 4
                      },
                      {
                        "bin_start": 0.1,
                        "bin_end": 0.2,
                        "count": 0
                      },
                      {
                        "bin_start": 0.2,
                        "bin_end": 0.30000000000000004,
                        "count": 0
                      },
                      {
                        "bin_start": 0.30000000000000004,
                        "bin_end": 0.4,
                        "count": 0
                      },
                      {
                        "bin_start": 0.4,
                        "bin_end": 0.5,
                        "count": 0
                      },
                      {
                        "bin_start": 0.5,
                        "bin_end": 0.6000000000000001,
                        "count": 0
                      },
                      {
                        "bin_start": 0.6000000000000001,
                        "bin_end": 0.7000000000000001,
                        "count": 0
                      },
                      {
                        "bin_start": 0.7000000000000001,
                        "bin_end": 0.8,
                        "count": 0
                      },
                      {
                        "bin_start": 0.8,
                        "bin_end": 0.9,
                        "count": 0
                      },
                      {
                        "bin_start": 0.9,
                        "bin_end": 1,
                        "count": 6
                      }
                    ]
                  }
                },
                {
                  "name": "F17",
                  "dtype": "int64",
                  "stats": {
                    "unique_count": 2,
                    "nan_count": 0,
                    "min": 0,
                    "max": 1,
                    "histogram": [
                      {
                        "bin_start": 0,
                        "bin_end": 0.1,
                        "count": 9
                      },
                      {
                        "bin_start": 0.1,
                        "bin_end": 0.2,
                        "count": 0
                      },
                      {
                        "bin_start": 0.2,
                        "bin_end": 0.30000000000000004,
                        "count": 0
                      },
                      {
                        "bin_start": 0.30000000000000004,
                        "bin_end": 0.4,
                        "count": 0
                      },
                      {
                        "bin_start": 0.4,
                        "bin_end": 0.5,
                        "count": 0
                      },
                      {
                        "bin_start": 0.5,
                        "bin_end": 0.6000000000000001,
                        "count": 0
                      },
                      {
                        "bin_start": 0.6000000000000001,
                        "bin_end": 0.7000000000000001,
                        "count": 0
                      },
                      {
                        "bin_start": 0.7000000000000001,
                        "bin_end": 0.8,
                        "count": 0
                      },
                      {
                        "bin_start": 0.8,
                        "bin_end": 0.9,
                        "count": 0
                      },
                      {
                        "bin_start": 0.9,
                        "bin_end": 1,
                        "count": 1
                      }
                    ]
                  }
                },
                {
                  "name": "F18",
                  "dtype": "int64",
                  "stats": {
                    "unique_count": 1,
                    "nan_count": 0,
                    "min": 0,
                    "max": 0,
                    "histogram": [
                      {
                        "bin_start": -0.5,
                        "bin_end": -0.4,
                        "count": 0
                      },
                      {
                        "bin_start": -0.4,
                        "bin_end": -0.3,
                        "count": 0
                      },
                      {
                        "bin_start": -0.3,
                        "bin_end": -0.19999999999999996,
                        "count": 0
                      },
                      {
                        "bin_start": -0.19999999999999996,
                        "bin_end": -0.09999999999999998,
                        "count": 0
                      },
                      {
                        "bin_start": -0.09999999999999998,
                        "bin_end": 0,
                        "count": 0
                      },
                      {
                        "bin_start": 0,
                        "bin_end": 0.10000000000000009,
                        "count": 10
                      },
                      {
                        "bin_start": 0.10000000000000009,
                        "bin_end": 0.20000000000000007,
                        "count": 0
                      },
                      {
                        "bin_start": 0.20000000000000007,
                        "bin_end": 0.30000000000000004,
                        "count": 0
                      },
                      {
                        "bin_start": 0.30000000000000004,
                        "bin_end": 0.4,
                        "count": 0
                      },
                      {
                        "bin_start": 0.4,
                        "bin_end": 0.5,
                        "count": 0
                      }
                    ]
                  }
                },
                {
                  "name": "F19",
                  "dtype": "int64",
                  "stats": {
                    "unique_count": 2,
                    "nan_count": 0,
                    "min": 0,
                    "max": 1,
                    "histogram": [
                      {
                        "bin_start": 0,
                        "bin_end": 0.1,
                        "count": 8
                      },
                      {
                        "bin_start": 0.1,
                        "bin_end": 0.2,
                        "count": 0
                      },
                      {
                        "bin_start": 0.2,
                        "bin_end": 0.30000000000000004,
                        "count": 0
                      },
                      {
                        "bin_start": 0.30000000000000004,
                        "bin_end": 0.4,
                        "count": 0
                      },
                      {
                        "bin_start": 0.4,
                        "bin_end": 0.5,
                        "count": 0
                      },
                      {
                        "bin_start": 0.5,
                        "bin_end": 0.6000000000000001,
                        "count": 0
                      },
                      {
                        "bin_start": 0.6000000000000001,
                        "bin_end": 0.7000000000000001,
                        "count": 0
                      },
                      {
                        "bin_start": 0.7000000000000001,
                        "bin_end": 0.8,
                        "count": 0
                      },
                      {
                        "bin_start": 0.8,
                        "bin_end": 0.9,
                        "count": 0
                      },
                      {
                        "bin_start": 0.9,
                        "bin_end": 1,
                        "count": 2
                      }
                    ]
                  }
                },
                {
                  "name": "F20",
                  "dtype": "int64",
                  "stats": {
                    "unique_count": 2,
                    "nan_count": 0,
                    "min": 0,
                    "max": 1,
                    "histogram": [
                      {
                        "bin_start": 0,
                        "bin_end": 0.1,
                        "count": 8
                      },
                      {
                        "bin_start": 0.1,
                        "bin_end": 0.2,
                        "count": 0
                      },
                      {
                        "bin_start": 0.2,
                        "bin_end": 0.30000000000000004,
                        "count": 0
                      },
                      {
                        "bin_start": 0.30000000000000004,
                        "bin_end": 0.4,
                        "count": 0
                      },
                      {
                        "bin_start": 0.4,
                        "bin_end": 0.5,
                        "count": 0
                      },
                      {
                        "bin_start": 0.5,
                        "bin_end": 0.6000000000000001,
                        "count": 0
                      },
                      {
                        "bin_start": 0.6000000000000001,
                        "bin_end": 0.7000000000000001,
                        "count": 0
                      },
                      {
                        "bin_start": 0.7000000000000001,
                        "bin_end": 0.8,
                        "count": 0
                      },
                      {
                        "bin_start": 0.8,
                        "bin_end": 0.9,
                        "count": 0
                      },
                      {
                        "bin_start": 0.9,
                        "bin_end": 1,
                        "count": 2
                      }
                    ]
                  }
                },
                {
                  "name": "F21",
                  "dtype": "int64",
                  "stats": {
                    "unique_count": 2,
                    "nan_count": 0,
                    "min": 0,
                    "max": 1,
                    "histogram": [
                      {
                        "bin_start": 0,
                        "bin_end": 0.1,
                        "count": 8
                      },
                      {
                        "bin_start": 0.1,
                        "bin_end": 0.2,
                        "count": 0
                      },
                      {
                        "bin_start": 0.2,
                        "bin_end": 0.30000000000000004,
                        "count": 0
                      },
                      {
                        "bin_start": 0.30000000000000004,
                        "bin_end": 0.4,
                        "count": 0
                      },
                      {
                        "bin_start": 0.4,
                        "bin_end": 0.5,
                        "count": 0
                      },
                      {
                        "bin_start": 0.5,
                        "bin_end": 0.6000000000000001,
                        "count": 0
                      },
                      {
                        "bin_start": 0.6000000000000001,
                        "bin_end": 0.7000000000000001,
                        "count": 0
                      },
                      {
                        "bin_start": 0.7000000000000001,
                        "bin_end": 0.8,
                        "count": 0
                      },
                      {
                        "bin_start": 0.8,
                        "bin_end": 0.9,
                        "count": 0
                      },
                      {
                        "bin_start": 0.9,
                        "bin_end": 1,
                        "count": 2
                      }
                    ]
                  }
                },
                {
                  "name": "F22",
                  "dtype": "int64",
                  "stats": {
                    "unique_count": 2,
                    "nan_count": 0,
                    "min": 0,
                    "max": 1,
                    "histogram": [
                      {
                        "bin_start": 0,
                        "bin_end": 0.1,
                        "count": 6
                      },
                      {
                        "bin_start": 0.1,
                        "bin_end": 0.2,
                        "count": 0
                      },
                      {
                        "bin_start": 0.2,
                        "bin_end": 0.30000000000000004,
                        "count": 0
                      },
                      {
                        "bin_start": 0.30000000000000004,
                        "bin_end": 0.4,
                        "count": 0
                      },
                      {
                        "bin_start": 0.4,
                        "bin_end": 0.5,
                        "count": 0
                      },
                      {
                        "bin_start": 0.5,
                        "bin_end": 0.6000000000000001,
                        "count": 0
                      },
                      {
                        "bin_start": 0.6000000000000001,
                        "bin_end": 0.7000000000000001,
                        "count": 0
                      },
                      {
                        "bin_start": 0.7000000000000001,
                        "bin_end": 0.8,
                        "count": 0
                      },
                      {
                        "bin_start": 0.8,
                        "bin_end": 0.9,
                        "count": 0
                      },
                      {
                        "bin_start": 0.9,
                        "bin_end": 1,
                        "count": 4
                      }
                    ]
                  }
                },
                {
                  "name": "_deepnote_index_column",
                  "dtype": "int64"
                }
              ],
              "rows_top": [
                {
                  "OVERALL_DIAGNOSIS": 1,
                  "F1": 1,
                  "F2": 0,
                  "F3": 0,
                  "F4": 1,
                  "F5": 1,
                  "F6": 0,
                  "F7": 0,
                  "F8": 0,
                  "F9": 1,
                  "F10": 1,
                  "F11": 0,
                  "F12": 0,
                  "F13": 0,
                  "F14": 1,
                  "F15": 1,
                  "F16": 1,
                  "F17": 0,
                  "F18": 0,
                  "F19": 1,
                  "F20": 1,
                  "F21": 0,
                  "F22": 0,
                  "_deepnote_index_column": 0
                },
                {
                  "OVERALL_DIAGNOSIS": 1,
                  "F1": 1,
                  "F2": 0,
                  "F3": 0,
                  "F4": 1,
                  "F5": 1,
                  "F6": 0,
                  "F7": 0,
                  "F8": 0,
                  "F9": 0,
                  "F10": 1,
                  "F11": 0,
                  "F12": 0,
                  "F13": 1,
                  "F14": 0,
                  "F15": 0,
                  "F16": 0,
                  "F17": 0,
                  "F18": 0,
                  "F19": 0,
                  "F20": 0,
                  "F21": 0,
                  "F22": 0,
                  "_deepnote_index_column": 1
                },
                {
                  "OVERALL_DIAGNOSIS": 1,
                  "F1": 0,
                  "F2": 0,
                  "F3": 0,
                  "F4": 1,
                  "F5": 0,
                  "F6": 1,
                  "F7": 0,
                  "F8": 0,
                  "F9": 1,
                  "F10": 0,
                  "F11": 1,
                  "F12": 0,
                  "F13": 0,
                  "F14": 1,
                  "F15": 1,
                  "F16": 0,
                  "F17": 0,
                  "F18": 0,
                  "F19": 0,
                  "F20": 0,
                  "F21": 0,
                  "F22": 1,
                  "_deepnote_index_column": 2
                },
                {
                  "OVERALL_DIAGNOSIS": 1,
                  "F1": 0,
                  "F2": 1,
                  "F3": 1,
                  "F4": 1,
                  "F5": 0,
                  "F6": 0,
                  "F7": 1,
                  "F8": 0,
                  "F9": 1,
                  "F10": 0,
                  "F11": 0,
                  "F12": 1,
                  "F13": 1,
                  "F14": 1,
                  "F15": 0,
                  "F16": 1,
                  "F17": 0,
                  "F18": 0,
                  "F19": 0,
                  "F20": 0,
                  "F21": 1,
                  "F22": 0,
                  "_deepnote_index_column": 3
                },
                {
                  "OVERALL_DIAGNOSIS": 1,
                  "F1": 0,
                  "F2": 0,
                  "F3": 1,
                  "F4": 0,
                  "F5": 0,
                  "F6": 0,
                  "F7": 0,
                  "F8": 1,
                  "F9": 0,
                  "F10": 0,
                  "F11": 1,
                  "F12": 0,
                  "F13": 1,
                  "F14": 1,
                  "F15": 0,
                  "F16": 1,
                  "F17": 0,
                  "F18": 0,
                  "F19": 0,
                  "F20": 0,
                  "F21": 0,
                  "F22": 1,
                  "_deepnote_index_column": 4
                },
                {
                  "OVERALL_DIAGNOSIS": 1,
                  "F1": 0,
                  "F2": 0,
                  "F3": 1,
                  "F4": 1,
                  "F5": 0,
                  "F6": 1,
                  "F7": 0,
                  "F8": 0,
                  "F9": 1,
                  "F10": 0,
                  "F11": 1,
                  "F12": 0,
                  "F13": 1,
                  "F14": 0,
                  "F15": 0,
                  "F16": 1,
                  "F17": 0,
                  "F18": 0,
                  "F19": 0,
                  "F20": 0,
                  "F21": 1,
                  "F22": 1,
                  "_deepnote_index_column": 5
                },
                {
                  "OVERALL_DIAGNOSIS": 1,
                  "F1": 1,
                  "F2": 0,
                  "F3": 0,
                  "F4": 1,
                  "F5": 0,
                  "F6": 0,
                  "F7": 1,
                  "F8": 1,
                  "F9": 1,
                  "F10": 1,
                  "F11": 0,
                  "F12": 1,
                  "F13": 1,
                  "F14": 1,
                  "F15": 0,
                  "F16": 1,
                  "F17": 0,
                  "F18": 0,
                  "F19": 0,
                  "F20": 1,
                  "F21": 0,
                  "F22": 1,
                  "_deepnote_index_column": 6
                },
                {
                  "OVERALL_DIAGNOSIS": 1,
                  "F1": 1,
                  "F2": 0,
                  "F3": 0,
                  "F4": 1,
                  "F5": 0,
                  "F6": 0,
                  "F7": 0,
                  "F8": 0,
                  "F9": 1,
                  "F10": 1,
                  "F11": 0,
                  "F12": 0,
                  "F13": 0,
                  "F14": 1,
                  "F15": 1,
                  "F16": 0,
                  "F17": 0,
                  "F18": 0,
                  "F19": 0,
                  "F20": 0,
                  "F21": 0,
                  "F22": 0,
                  "_deepnote_index_column": 7
                },
                {
                  "OVERALL_DIAGNOSIS": 1,
                  "F1": 0,
                  "F2": 0,
                  "F3": 0,
                  "F4": 0,
                  "F5": 0,
                  "F6": 0,
                  "F7": 0,
                  "F8": 1,
                  "F9": 0,
                  "F10": 0,
                  "F11": 0,
                  "F12": 0,
                  "F13": 1,
                  "F14": 0,
                  "F15": 0,
                  "F16": 0,
                  "F17": 0,
                  "F18": 0,
                  "F19": 0,
                  "F20": 0,
                  "F21": 0,
                  "F22": 0,
                  "_deepnote_index_column": 8
                },
                {
                  "OVERALL_DIAGNOSIS": 1,
                  "F1": 1,
                  "F2": 0,
                  "F3": 0,
                  "F4": 1,
                  "F5": 1,
                  "F6": 1,
                  "F7": 0,
                  "F8": 0,
                  "F9": 1,
                  "F10": 1,
                  "F11": 1,
                  "F12": 0,
                  "F13": 0,
                  "F14": 1,
                  "F15": 0,
                  "F16": 1,
                  "F17": 1,
                  "F18": 0,
                  "F19": 1,
                  "F20": 0,
                  "F21": 0,
                  "F22": 0,
                  "_deepnote_index_column": 9
                }
              ],
              "rows_bottom": null
            },
            "text/plain": "   OVERALL_DIAGNOSIS  F1  F2  F3  F4  F5  F6  F7  F8  F9  ...  F13  F14  F15  \\\n0                  1   1   0   0   1   1   0   0   0   1  ...    0    1    1   \n1                  1   1   0   0   1   1   0   0   0   0  ...    1    0    0   \n2                  1   0   0   0   1   0   1   0   0   1  ...    0    1    1   \n3                  1   0   1   1   1   0   0   1   0   1  ...    1    1    0   \n4                  1   0   0   1   0   0   0   0   1   0  ...    1    1    0   \n5                  1   0   0   1   1   0   1   0   0   1  ...    1    0    0   \n6                  1   1   0   0   1   0   0   1   1   1  ...    1    1    0   \n7                  1   1   0   0   1   0   0   0   0   1  ...    0    1    1   \n8                  1   0   0   0   0   0   0   0   1   0  ...    1    0    0   \n9                  1   1   0   0   1   1   1   0   0   1  ...    0    1    0   \n\n   F16  F17  F18  F19  F20  F21  F22  \n0    1    0    0    1    1    0    0  \n1    0    0    0    0    0    0    0  \n2    0    0    0    0    0    0    1  \n3    1    0    0    0    0    1    0  \n4    1    0    0    0    0    0    1  \n5    1    0    0    0    0    1    1  \n6    1    0    0    0    1    0    1  \n7    0    0    0    0    0    0    0  \n8    0    0    0    0    0    0    0  \n9    1    1    0    1    0    0    0  \n\n[10 rows x 23 columns]",
            "text/html": "<div>\n<style scoped>\n    .dataframe tbody tr th:only-of-type {\n        vertical-align: middle;\n    }\n\n    .dataframe tbody tr th {\n        vertical-align: top;\n    }\n\n    .dataframe thead th {\n        text-align: right;\n    }\n</style>\n<table border=\"1\" class=\"dataframe\">\n  <thead>\n    <tr style=\"text-align: right;\">\n      <th></th>\n      <th>OVERALL_DIAGNOSIS</th>\n      <th>F1</th>\n      <th>F2</th>\n      <th>F3</th>\n      <th>F4</th>\n      <th>F5</th>\n      <th>F6</th>\n      <th>F7</th>\n      <th>F8</th>\n      <th>F9</th>\n      <th>...</th>\n      <th>F13</th>\n      <th>F14</th>\n      <th>F15</th>\n      <th>F16</th>\n      <th>F17</th>\n      <th>F18</th>\n      <th>F19</th>\n      <th>F20</th>\n      <th>F21</th>\n      <th>F22</th>\n    </tr>\n  </thead>\n  <tbody>\n    <tr>\n      <th>0</th>\n      <td>1</td>\n      <td>1</td>\n      <td>0</td>\n      <td>0</td>\n      <td>1</td>\n      <td>1</td>\n      <td>0</td>\n      <td>0</td>\n      <td>0</td>\n      <td>1</td>\n      <td>...</td>\n      <td>0</td>\n      <td>1</td>\n      <td>1</td>\n      <td>1</td>\n      <td>0</td>\n      <td>0</td>\n      <td>1</td>\n      <td>1</td>\n      <td>0</td>\n      <td>0</td>\n    </tr>\n    <tr>\n      <th>1</th>\n      <td>1</td>\n      <td>1</td>\n      <td>0</td>\n      <td>0</td>\n      <td>1</td>\n      <td>1</td>\n      <td>0</td>\n      <td>0</td>\n      <td>0</td>\n      <td>0</td>\n      <td>...</td>\n      <td>1</td>\n      <td>0</td>\n      <td>0</td>\n      <td>0</td>\n      <td>0</td>\n      <td>0</td>\n      <td>0</td>\n      <td>0</td>\n      <td>0</td>\n      <td>0</td>\n    </tr>\n    <tr>\n      <th>2</th>\n      <td>1</td>\n      <td>0</td>\n      <td>0</td>\n      <td>0</td>\n      <td>1</td>\n      <td>0</td>\n      <td>1</td>\n      <td>0</td>\n      <td>0</td>\n      <td>1</td>\n      <td>...</td>\n      <td>0</td>\n      <td>1</td>\n      <td>1</td>\n      <td>0</td>\n      <td>0</td>\n      <td>0</td>\n      <td>0</td>\n      <td>0</td>\n      <td>0</td>\n      <td>1</td>\n    </tr>\n    <tr>\n      <th>3</th>\n      <td>1</td>\n      <td>0</td>\n      <td>1</td>\n      <td>1</td>\n      <td>1</td>\n      <td>0</td>\n      <td>0</td>\n      <td>1</td>\n      <td>0</td>\n      <td>1</td>\n      <td>...</td>\n      <td>1</td>\n      <td>1</td>\n      <td>0</td>\n      <td>1</td>\n      <td>0</td>\n      <td>0</td>\n      <td>0</td>\n      <td>0</td>\n      <td>1</td>\n      <td>0</td>\n    </tr>\n    <tr>\n      <th>4</th>\n      <td>1</td>\n      <td>0</td>\n      <td>0</td>\n      <td>1</td>\n      <td>0</td>\n      <td>0</td>\n      <td>0</td>\n      <td>0</td>\n      <td>1</td>\n      <td>0</td>\n      <td>...</td>\n      <td>1</td>\n      <td>1</td>\n      <td>0</td>\n      <td>1</td>\n      <td>0</td>\n      <td>0</td>\n      <td>0</td>\n      <td>0</td>\n      <td>0</td>\n      <td>1</td>\n    </tr>\n    <tr>\n      <th>5</th>\n      <td>1</td>\n      <td>0</td>\n      <td>0</td>\n      <td>1</td>\n      <td>1</td>\n      <td>0</td>\n      <td>1</td>\n      <td>0</td>\n      <td>0</td>\n      <td>1</td>\n      <td>...</td>\n      <td>1</td>\n      <td>0</td>\n      <td>0</td>\n      <td>1</td>\n      <td>0</td>\n      <td>0</td>\n      <td>0</td>\n      <td>0</td>\n      <td>1</td>\n      <td>1</td>\n    </tr>\n    <tr>\n      <th>6</th>\n      <td>1</td>\n      <td>1</td>\n      <td>0</td>\n      <td>0</td>\n      <td>1</td>\n      <td>0</td>\n      <td>0</td>\n      <td>1</td>\n      <td>1</td>\n      <td>1</td>\n      <td>...</td>\n      <td>1</td>\n      <td>1</td>\n      <td>0</td>\n      <td>1</td>\n      <td>0</td>\n      <td>0</td>\n      <td>0</td>\n      <td>1</td>\n      <td>0</td>\n      <td>1</td>\n    </tr>\n    <tr>\n      <th>7</th>\n      <td>1</td>\n      <td>1</td>\n      <td>0</td>\n      <td>0</td>\n      <td>1</td>\n      <td>0</td>\n      <td>0</td>\n      <td>0</td>\n      <td>0</td>\n      <td>1</td>\n      <td>...</td>\n      <td>0</td>\n      <td>1</td>\n      <td>1</td>\n      <td>0</td>\n      <td>0</td>\n      <td>0</td>\n      <td>0</td>\n      <td>0</td>\n      <td>0</td>\n      <td>0</td>\n    </tr>\n    <tr>\n      <th>8</th>\n      <td>1</td>\n      <td>0</td>\n      <td>0</td>\n      <td>0</td>\n      <td>0</td>\n      <td>0</td>\n      <td>0</td>\n      <td>0</td>\n      <td>1</td>\n      <td>0</td>\n      <td>...</td>\n      <td>1</td>\n      <td>0</td>\n      <td>0</td>\n      <td>0</td>\n      <td>0</td>\n      <td>0</td>\n      <td>0</td>\n      <td>0</td>\n      <td>0</td>\n      <td>0</td>\n    </tr>\n    <tr>\n      <th>9</th>\n      <td>1</td>\n      <td>1</td>\n      <td>0</td>\n      <td>0</td>\n      <td>1</td>\n      <td>1</td>\n      <td>1</td>\n      <td>0</td>\n      <td>0</td>\n      <td>1</td>\n      <td>...</td>\n      <td>0</td>\n      <td>1</td>\n      <td>0</td>\n      <td>1</td>\n      <td>1</td>\n      <td>0</td>\n      <td>1</td>\n      <td>0</td>\n      <td>0</td>\n      <td>0</td>\n    </tr>\n  </tbody>\n</table>\n<p>10 rows × 23 columns</p>\n</div>"
          },
          "metadata": {}
        }
      ],
      "execution_count": null
    },
    {
      "cell_type": "code",
      "metadata": {
        "tags": [],
        "cell_id": "00003-d1c55b1e-b285-446b-bc76-714da7944786",
        "deepnote_to_be_reexecuted": false,
        "source_hash": "3662ae84",
        "execution_millis": 0,
        "execution_start": 1616625973507,
        "deepnote_cell_type": "code"
      },
      "source": "# 2.\n# Partition the data into training (60%) and validation (40%) sets\n\n# create a list of predictor variables by remvoing output variables and text columns\nexcludeColumns = ('OVERALL_DIAGNOSIS')\npredictors = [s for s in spect.columns if s not in excludeColumns]\noutcome = 'OVERALL_DIAGNOSIS'\n\n# partition data\nX = spect[predictors]\ny = spect[outcome]\n\nclasses = ['normal','abnormal']\n\n# training (60%) and validation (40%)\ntrain_X, valid_X, train_y, valid_y = train_test_split(X, y, test_size=0.4, random_state=1)\n",
      "outputs": [],
      "execution_count": null
    },
    {
      "cell_type": "code",
      "metadata": {
        "tags": [],
        "cell_id": "00004-4b236a9c-5fd5-4564-bf40-4f010db29d60",
        "deepnote_to_be_reexecuted": false,
        "source_hash": "2dd34312",
        "execution_millis": 43,
        "execution_start": 1616625977063,
        "deepnote_cell_type": "code"
      },
      "source": "# 3. \n# Run the Naïve Bayes algorithm, print your classification summary, and plot the related gains and lift charts.\n\n# run naive Bayes\nspect_nb = MultinomialNB(alpha=0.01)\nspect_nb.fit(train_X, train_y)\n# predict probabilities\npredProb_train = spect_nb.predict_proba(train_X)\npredProb_valid = spect_nb.predict_proba(valid_X)\n\n# training\n# predict class membership\ny_train_pred = spect_nb.predict(train_X)\nclassificationSummary(train_y, y_train_pred, class_names=classes)\nprint(\"\\n\\n\")\n# validation\ny_valid_pred = spect_nb.predict(valid_X)\nclassificationSummary(valid_y, y_valid_pred, class_names=classes) \n",
      "outputs": [
        {
          "name": "stdout",
          "text": "Confusion Matrix (Accuracy 0.8125)\n\n         Prediction\n  Actual   normal abnormal\n  normal        1       30\nabnormal        0      129\n\n\n\nConfusion Matrix (Accuracy 0.7757)\n\n         Prediction\n  Actual   normal abnormal\n  normal        0       24\nabnormal        0       83\n",
          "output_type": "stream"
        }
      ],
      "execution_count": null
    },
    {
      "cell_type": "code",
      "source": "# Plot the related gains and lift charts. \n\nspect_nb_pred = spect_nb.predict(valid_X)\nspect_nb_proba = spect_nb.predict_proba(valid_X)\nspect_nb_result = pd.DataFrame({'actual': valid_y, 'p(0)': [p[0] for p in spect_nb_proba],'p(1)': [p[1] for p in spect_nb_proba],'predicted': spect_nb_pred })\n\ndf = spect_nb_result.sort_values(by=['p(1)'], ascending=False)\nfig, axes = plt.subplots(nrows=1, ncols=2, figsize=(10, 4))\ngainsChart(df.actual, ax=axes[0])\nliftChart(df['p(1)'], title=False, ax=axes[1])\nplt.show()",
      "metadata": {
        "tags": [],
        "cell_id": "00005-b6d33523-44cd-4191-b922-1d2f33c8aad1",
        "deepnote_to_be_reexecuted": false,
        "source_hash": "1785ce31",
        "execution_start": 1616625981303,
        "execution_millis": 236,
        "deepnote_cell_type": "code"
      },
      "outputs": [],
      "execution_count": null
    },
    {
      "cell_type": "code",
      "metadata": {
        "tags": [],
        "cell_id": "00005-18df7f53-369a-4749-a16a-41b6a18325cc",
        "deepnote_to_be_reexecuted": false,
        "source_hash": "215be08d",
        "execution_millis": 46,
        "execution_start": 1616625995194,
        "deepnote_cell_type": "code"
      },
      "source": "# 4.\n# Run a decision tree classifier algorithm on the data and print your tree. \n\nfrom sklearn import tree\nfrom sklearn.tree import DecisionTreeClassifier\nfrom sklearn.ensemble import AdaBoostClassifier\nfrom sklearn.ensemble import BaggingClassifier\nfrom sklearn.ensemble import RandomForestClassifier\nfrom dmba import classificationSummary \n\n# single tree\nclf = DecisionTreeClassifier(random_state=1)\nclf.fit(train_X, train_y)\nclasses = clf.classes_\nclassificationSummary(valid_y, clf.predict(valid_X), class_names=classes)\n\nprint()\nprint()\n\ntext_representation = tree.export_text(clf)\nprint(text_representation)",
      "outputs": [
        {
          "name": "stdout",
          "text": "Confusion Matrix (Accuracy 0.8411)\n\n       Prediction\nActual  0  1\n     0 14 10\n     1  7 76\n\n\n|--- feature_12 <= 0.50\n|   |--- feature_15 <= 0.50\n|   |   |--- feature_10 <= 0.50\n|   |   |   |--- feature_16 <= 0.50\n|   |   |   |   |--- feature_9 <= 0.50\n|   |   |   |   |   |--- feature_21 <= 0.50\n|   |   |   |   |   |   |--- feature_19 <= 0.50\n|   |   |   |   |   |   |   |--- feature_8 <= 0.50\n|   |   |   |   |   |   |   |   |--- feature_7 <= 0.50\n|   |   |   |   |   |   |   |   |   |--- feature_20 <= 0.50\n|   |   |   |   |   |   |   |   |   |   |--- feature_0 <= 0.50\n|   |   |   |   |   |   |   |   |   |   |   |--- truncated branch of depth 2\n|   |   |   |   |   |   |   |   |   |   |--- feature_0 >  0.50\n|   |   |   |   |   |   |   |   |   |   |   |--- class: 0\n|   |   |   |   |   |   |   |   |   |--- feature_20 >  0.50\n|   |   |   |   |   |   |   |   |   |   |--- class: 0\n|   |   |   |   |   |   |   |   |--- feature_7 >  0.50\n|   |   |   |   |   |   |   |   |   |--- class: 0\n|   |   |   |   |   |   |   |--- feature_8 >  0.50\n|   |   |   |   |   |   |   |   |--- feature_3 <= 0.50\n|   |   |   |   |   |   |   |   |   |--- class: 0\n|   |   |   |   |   |   |   |   |--- feature_3 >  0.50\n|   |   |   |   |   |   |   |   |   |--- class: 1\n|   |   |   |   |   |   |--- feature_19 >  0.50\n|   |   |   |   |   |   |   |--- feature_18 <= 0.50\n|   |   |   |   |   |   |   |   |--- class: 1\n|   |   |   |   |   |   |   |--- feature_18 >  0.50\n|   |   |   |   |   |   |   |   |--- class: 0\n|   |   |   |   |   |--- feature_21 >  0.50\n|   |   |   |   |   |   |--- feature_13 <= 0.50\n|   |   |   |   |   |   |   |--- feature_20 <= 0.50\n|   |   |   |   |   |   |   |   |--- feature_7 <= 0.50\n|   |   |   |   |   |   |   |   |   |--- feature_19 <= 0.50\n|   |   |   |   |   |   |   |   |   |   |--- class: 1\n|   |   |   |   |   |   |   |   |   |--- feature_19 >  0.50\n|   |   |   |   |   |   |   |   |   |   |--- class: 0\n|   |   |   |   |   |   |   |   |--- feature_7 >  0.50\n|   |   |   |   |   |   |   |   |   |--- class: 1\n|   |   |   |   |   |   |   |--- feature_20 >  0.50\n|   |   |   |   |   |   |   |   |--- class: 1\n|   |   |   |   |   |   |--- feature_13 >  0.50\n|   |   |   |   |   |   |   |--- class: 0\n|   |   |   |   |--- feature_9 >  0.50\n|   |   |   |   |   |--- feature_11 <= 0.50\n|   |   |   |   |   |   |--- feature_5 <= 0.50\n|   |   |   |   |   |   |   |--- class: 1\n|   |   |   |   |   |   |--- feature_5 >  0.50\n|   |   |   |   |   |   |   |--- class: 0\n|   |   |   |   |   |--- feature_11 >  0.50\n|   |   |   |   |   |   |--- class: 0\n|   |   |   |--- feature_16 >  0.50\n|   |   |   |   |--- class: 1\n|   |   |--- feature_10 >  0.50\n|   |   |   |--- feature_9 <= 0.50\n|   |   |   |   |--- feature_18 <= 0.50\n|   |   |   |   |   |--- feature_0 <= 0.50\n|   |   |   |   |   |   |--- feature_6 <= 0.50\n|   |   |   |   |   |   |   |--- feature_21 <= 0.50\n|   |   |   |   |   |   |   |   |--- class: 0\n|   |   |   |   |   |   |   |--- feature_21 >  0.50\n|   |   |   |   |   |   |   |   |--- class: 1\n|   |   |   |   |   |   |--- feature_6 >  0.50\n|   |   |   |   |   |   |   |--- class: 1\n|   |   |   |   |   |--- feature_0 >  0.50\n|   |   |   |   |   |   |--- class: 0\n|   |   |   |   |--- feature_18 >  0.50\n|   |   |   |   |   |--- class: 1\n|   |   |   |--- feature_9 >  0.50\n|   |   |   |   |--- class: 1\n|   |--- feature_15 >  0.50\n|   |   |--- feature_10 <= 0.50\n|   |   |   |--- class: 1\n|   |   |--- feature_10 >  0.50\n|   |   |   |--- feature_9 <= 0.50\n|   |   |   |   |--- class: 1\n|   |   |   |--- feature_9 >  0.50\n|   |   |   |   |--- feature_11 <= 0.50\n|   |   |   |   |   |--- class: 1\n|   |   |   |   |--- feature_11 >  0.50\n|   |   |   |   |   |--- class: 0\n|--- feature_12 >  0.50\n|   |--- feature_21 <= 0.50\n|   |   |--- feature_8 <= 0.50\n|   |   |   |--- feature_6 <= 0.50\n|   |   |   |   |--- feature_16 <= 0.50\n|   |   |   |   |   |--- feature_17 <= 0.50\n|   |   |   |   |   |   |--- feature_2 <= 0.50\n|   |   |   |   |   |   |   |--- feature_11 <= 0.50\n|   |   |   |   |   |   |   |   |--- feature_7 <= 0.50\n|   |   |   |   |   |   |   |   |   |--- feature_4 <= 0.50\n|   |   |   |   |   |   |   |   |   |   |--- class: 0\n|   |   |   |   |   |   |   |   |   |--- feature_4 >  0.50\n|   |   |   |   |   |   |   |   |   |   |--- class: 1\n|   |   |   |   |   |   |   |   |--- feature_7 >  0.50\n|   |   |   |   |   |   |   |   |   |--- class: 1\n|   |   |   |   |   |   |   |--- feature_11 >  0.50\n|   |   |   |   |   |   |   |   |--- class: 0\n|   |   |   |   |   |   |--- feature_2 >  0.50\n|   |   |   |   |   |   |   |--- feature_11 <= 0.50\n|   |   |   |   |   |   |   |   |--- feature_15 <= 0.50\n|   |   |   |   |   |   |   |   |   |--- feature_20 <= 0.50\n|   |   |   |   |   |   |   |   |   |   |--- feature_0 <= 0.50\n|   |   |   |   |   |   |   |   |   |   |   |--- truncated branch of depth 2\n|   |   |   |   |   |   |   |   |   |   |--- feature_0 >  0.50\n|   |   |   |   |   |   |   |   |   |   |   |--- class: 1\n|   |   |   |   |   |   |   |   |   |--- feature_20 >  0.50\n|   |   |   |   |   |   |   |   |   |   |--- class: 0\n|   |   |   |   |   |   |   |   |--- feature_15 >  0.50\n|   |   |   |   |   |   |   |   |   |--- class: 0\n|   |   |   |   |   |   |   |--- feature_11 >  0.50\n|   |   |   |   |   |   |   |   |--- class: 1\n|   |   |   |   |   |--- feature_17 >  0.50\n|   |   |   |   |   |   |--- class: 1\n|   |   |   |   |--- feature_16 >  0.50\n|   |   |   |   |   |--- class: 1\n|   |   |   |--- feature_6 >  0.50\n|   |   |   |   |--- class: 1\n|   |   |--- feature_8 >  0.50\n|   |   |   |--- class: 1\n|   |--- feature_21 >  0.50\n|   |   |--- class: 1\n\n",
          "output_type": "stream"
        }
      ],
      "execution_count": null
    },
    {
      "cell_type": "code",
      "metadata": {
        "tags": [],
        "cell_id": "00006-d165a4a0-dffa-457c-a9b6-c7b494267a17",
        "deepnote_to_be_reexecuted": false,
        "source_hash": "4d543174",
        "execution_millis": 17,
        "execution_start": 1616625999341,
        "deepnote_cell_type": "code"
      },
      "source": "# Re-run your analysis with a smaller tree where max_depth=30, min_samples_split=20, and min_impurity_decrease=0.01.\n# Print the summaries of your classification.\n\n# single tree\nclfRerun = DecisionTreeClassifier(max_depth=30, min_samples_split=20, min_impurity_decrease=0.01, random_state=1)\nclfRerun.fit(train_X, train_y)\nclasses = clfRerun.classes_\nclassificationSummary(valid_y, clfRerun.predict(valid_X), class_names=classes)\n\nprint()\nprint()\n\ntext_representation = tree.export_text(clf)\nprint(text_representation)\n",
      "outputs": [
        {
          "name": "stdout",
          "text": "Confusion Matrix (Accuracy 0.7757)\n\n       Prediction\nActual  0  1\n     0  0 24\n     1  0 83\n\n\n|--- feature_12 <= 0.50\n|   |--- feature_15 <= 0.50\n|   |   |--- feature_10 <= 0.50\n|   |   |   |--- feature_16 <= 0.50\n|   |   |   |   |--- feature_9 <= 0.50\n|   |   |   |   |   |--- feature_21 <= 0.50\n|   |   |   |   |   |   |--- feature_19 <= 0.50\n|   |   |   |   |   |   |   |--- feature_8 <= 0.50\n|   |   |   |   |   |   |   |   |--- feature_7 <= 0.50\n|   |   |   |   |   |   |   |   |   |--- feature_20 <= 0.50\n|   |   |   |   |   |   |   |   |   |   |--- feature_0 <= 0.50\n|   |   |   |   |   |   |   |   |   |   |   |--- truncated branch of depth 2\n|   |   |   |   |   |   |   |   |   |   |--- feature_0 >  0.50\n|   |   |   |   |   |   |   |   |   |   |   |--- class: 0\n|   |   |   |   |   |   |   |   |   |--- feature_20 >  0.50\n|   |   |   |   |   |   |   |   |   |   |--- class: 0\n|   |   |   |   |   |   |   |   |--- feature_7 >  0.50\n|   |   |   |   |   |   |   |   |   |--- class: 0\n|   |   |   |   |   |   |   |--- feature_8 >  0.50\n|   |   |   |   |   |   |   |   |--- feature_3 <= 0.50\n|   |   |   |   |   |   |   |   |   |--- class: 0\n|   |   |   |   |   |   |   |   |--- feature_3 >  0.50\n|   |   |   |   |   |   |   |   |   |--- class: 1\n|   |   |   |   |   |   |--- feature_19 >  0.50\n|   |   |   |   |   |   |   |--- feature_18 <= 0.50\n|   |   |   |   |   |   |   |   |--- class: 1\n|   |   |   |   |   |   |   |--- feature_18 >  0.50\n|   |   |   |   |   |   |   |   |--- class: 0\n|   |   |   |   |   |--- feature_21 >  0.50\n|   |   |   |   |   |   |--- feature_13 <= 0.50\n|   |   |   |   |   |   |   |--- feature_20 <= 0.50\n|   |   |   |   |   |   |   |   |--- feature_7 <= 0.50\n|   |   |   |   |   |   |   |   |   |--- feature_19 <= 0.50\n|   |   |   |   |   |   |   |   |   |   |--- class: 1\n|   |   |   |   |   |   |   |   |   |--- feature_19 >  0.50\n|   |   |   |   |   |   |   |   |   |   |--- class: 0\n|   |   |   |   |   |   |   |   |--- feature_7 >  0.50\n|   |   |   |   |   |   |   |   |   |--- class: 1\n|   |   |   |   |   |   |   |--- feature_20 >  0.50\n|   |   |   |   |   |   |   |   |--- class: 1\n|   |   |   |   |   |   |--- feature_13 >  0.50\n|   |   |   |   |   |   |   |--- class: 0\n|   |   |   |   |--- feature_9 >  0.50\n|   |   |   |   |   |--- feature_11 <= 0.50\n|   |   |   |   |   |   |--- feature_5 <= 0.50\n|   |   |   |   |   |   |   |--- class: 1\n|   |   |   |   |   |   |--- feature_5 >  0.50\n|   |   |   |   |   |   |   |--- class: 0\n|   |   |   |   |   |--- feature_11 >  0.50\n|   |   |   |   |   |   |--- class: 0\n|   |   |   |--- feature_16 >  0.50\n|   |   |   |   |--- class: 1\n|   |   |--- feature_10 >  0.50\n|   |   |   |--- feature_9 <= 0.50\n|   |   |   |   |--- feature_18 <= 0.50\n|   |   |   |   |   |--- feature_0 <= 0.50\n|   |   |   |   |   |   |--- feature_6 <= 0.50\n|   |   |   |   |   |   |   |--- feature_21 <= 0.50\n|   |   |   |   |   |   |   |   |--- class: 0\n|   |   |   |   |   |   |   |--- feature_21 >  0.50\n|   |   |   |   |   |   |   |   |--- class: 1\n|   |   |   |   |   |   |--- feature_6 >  0.50\n|   |   |   |   |   |   |   |--- class: 1\n|   |   |   |   |   |--- feature_0 >  0.50\n|   |   |   |   |   |   |--- class: 0\n|   |   |   |   |--- feature_18 >  0.50\n|   |   |   |   |   |--- class: 1\n|   |   |   |--- feature_9 >  0.50\n|   |   |   |   |--- class: 1\n|   |--- feature_15 >  0.50\n|   |   |--- feature_10 <= 0.50\n|   |   |   |--- class: 1\n|   |   |--- feature_10 >  0.50\n|   |   |   |--- feature_9 <= 0.50\n|   |   |   |   |--- class: 1\n|   |   |   |--- feature_9 >  0.50\n|   |   |   |   |--- feature_11 <= 0.50\n|   |   |   |   |   |--- class: 1\n|   |   |   |   |--- feature_11 >  0.50\n|   |   |   |   |   |--- class: 0\n|--- feature_12 >  0.50\n|   |--- feature_21 <= 0.50\n|   |   |--- feature_8 <= 0.50\n|   |   |   |--- feature_6 <= 0.50\n|   |   |   |   |--- feature_16 <= 0.50\n|   |   |   |   |   |--- feature_17 <= 0.50\n|   |   |   |   |   |   |--- feature_2 <= 0.50\n|   |   |   |   |   |   |   |--- feature_11 <= 0.50\n|   |   |   |   |   |   |   |   |--- feature_7 <= 0.50\n|   |   |   |   |   |   |   |   |   |--- feature_4 <= 0.50\n|   |   |   |   |   |   |   |   |   |   |--- class: 0\n|   |   |   |   |   |   |   |   |   |--- feature_4 >  0.50\n|   |   |   |   |   |   |   |   |   |   |--- class: 1\n|   |   |   |   |   |   |   |   |--- feature_7 >  0.50\n|   |   |   |   |   |   |   |   |   |--- class: 1\n|   |   |   |   |   |   |   |--- feature_11 >  0.50\n|   |   |   |   |   |   |   |   |--- class: 0\n|   |   |   |   |   |   |--- feature_2 >  0.50\n|   |   |   |   |   |   |   |--- feature_11 <= 0.50\n|   |   |   |   |   |   |   |   |--- feature_15 <= 0.50\n|   |   |   |   |   |   |   |   |   |--- feature_20 <= 0.50\n|   |   |   |   |   |   |   |   |   |   |--- feature_0 <= 0.50\n|   |   |   |   |   |   |   |   |   |   |   |--- truncated branch of depth 2\n|   |   |   |   |   |   |   |   |   |   |--- feature_0 >  0.50\n|   |   |   |   |   |   |   |   |   |   |   |--- class: 1\n|   |   |   |   |   |   |   |   |   |--- feature_20 >  0.50\n|   |   |   |   |   |   |   |   |   |   |--- class: 0\n|   |   |   |   |   |   |   |   |--- feature_15 >  0.50\n|   |   |   |   |   |   |   |   |   |--- class: 0\n|   |   |   |   |   |   |   |--- feature_11 >  0.50\n|   |   |   |   |   |   |   |   |--- class: 1\n|   |   |   |   |   |--- feature_17 >  0.50\n|   |   |   |   |   |   |--- class: 1\n|   |   |   |   |--- feature_16 >  0.50\n|   |   |   |   |   |--- class: 1\n|   |   |   |--- feature_6 >  0.50\n|   |   |   |   |--- class: 1\n|   |   |--- feature_8 >  0.50\n|   |   |   |--- class: 1\n|   |--- feature_21 >  0.50\n|   |   |--- class: 1\n\n",
          "output_type": "stream"
        }
      ],
      "execution_count": null
    },
    {
      "cell_type": "markdown",
      "source": "With the changed parameters, the accuracy is reduced, from .84 to .78.",
      "metadata": {
        "tags": [],
        "cell_id": "00007-bd32a312-5b55-4c6e-a6fd-5df9d406c822",
        "deepnote_cell_type": "markdown"
      }
    },
    {
      "cell_type": "code",
      "metadata": {
        "tags": [],
        "cell_id": "00008-2f25e14d-4288-41a5-a8e9-e1235b002c69",
        "deepnote_to_be_reexecuted": false,
        "source_hash": "919c0f70",
        "execution_millis": 226,
        "execution_start": 1616626003160,
        "deepnote_cell_type": "code"
      },
      "source": "# Re-rerun your analysis using random forests and boosted tree algorithms. Print your classification summary and feature importance scores.\n\nrf = RandomForestClassifier(n_estimators=100, random_state=1)\nrf.fit(train_X, train_y)\n\n# variable (feature) importance plot\nimportances = rf.feature_importances_\nstd = np.std([tree.feature_importances_ for tree in rf.estimators_], axis=0)\ndf = pd.DataFrame({'feature': train_X.columns, 'importance': importances, 'std': std})\ndf = df.sort_values('importance')\nprint(df)\nax = df.plot(kind='barh', xerr='std', x='feature', legend=False)\nax.set_ylabel('')\nplt.show()\n\n# confusion matrix for validation set\nclassificationSummary(valid_y, rf.predict(valid_X))",
      "outputs": [
        {
          "name": "stdout",
          "text": "   feature  importance       std\n14     F15    0.015437  0.020554\n17     F18    0.016888  0.023686\n13     F14    0.025242  0.024071\n5       F6    0.026512  0.027107\n1       F2    0.030959  0.035738\n10     F11    0.031769  0.037966\n18     F19    0.032505  0.029225\n8       F9    0.033034  0.032424\n2       F3    0.036577  0.035888\n11     F12    0.036829  0.038578\n3       F4    0.038591  0.032457\n0       F1    0.041152  0.040053\n4       F5    0.045557  0.047774\n6       F7    0.047205  0.051153\n15     F16    0.048116  0.041363\n20     F21    0.050660  0.047352\n16     F17    0.050804  0.033114\n9      F10    0.069010  0.049726\n19     F20    0.072626  0.044307\n21     F22    0.076522  0.044740\n7       F8    0.078669  0.049413\n12     F13    0.095336  0.059553\nConfusion Matrix (Accuracy 0.8505)\n\n       Prediction\nActual  0  1\n     0 13 11\n     1  5 78\n",
          "output_type": "stream"
        }
      ],
      "execution_count": null
    },
    {
      "cell_type": "code",
      "metadata": {
        "tags": [],
        "cell_id": "00009-6f04bbab-7f61-411b-a2fa-a64474536db7",
        "deepnote_to_be_reexecuted": false,
        "source_hash": "11677228",
        "execution_millis": 307,
        "execution_start": 1616626007024,
        "deepnote_cell_type": "code"
      },
      "source": "# Boosting\n\nboost = AdaBoostClassifier(DecisionTreeClassifier(random_state=1), n_estimators=100, random_state=1)\nboost.fit(train_X, train_y)\n\n# variable (feature) importance plot\nimportances = boost.feature_importances_\nstd = np.std([tree.feature_importances_ for tree in boost.estimators_], axis=0)\ndf = pd.DataFrame({'feature': train_X.columns, 'importance': importances, 'std': std})\ndf = df.sort_values('importance')\nprint(df)\nax = df.plot(kind='barh', xerr='std', x='feature', legend=False)\nax.set_ylabel('')\nplt.show()\n\n# confusion matrix for validation set\nclassificationSummary(valid_y, boost.predict(valid_X), class_names=classes)",
      "outputs": [
        {
          "name": "stdout",
          "text": "   feature    importance           std\n21     F22 -2.486974e-01  1.748535e+00\n17     F18  1.516639e-73  1.509037e-72\n13     F14  7.352943e-05  7.316086e-04\n5       F6  8.226536e-04  5.933842e-03\n4       F5  9.112281e-04  7.858750e-03\n10     F11  9.597970e-04  8.841180e-03\n6       F7  1.095557e-03  7.712017e-03\n18     F19  1.244943e-03  7.811063e-03\n3       F4  1.248774e-03  3.830681e-01\n16     F17  1.259672e-03  8.829256e-03\n15     F16  1.559577e-03  1.094566e-02\n11     F12  1.567622e-03  9.631093e-03\n0       F1  1.645434e-03  1.603205e-02\n2       F3  1.669240e-03  1.447525e-02\n9      F10  4.040754e-03  2.608830e-02\n1       F2  6.160116e-03  5.741640e-02\n20     F21  1.230039e-02  1.204324e-01\n8       F9  2.095366e-02  1.664672e-01\n19     F20  2.885541e-02  1.128784e+00\n14     F15  2.124945e-01  2.089333e+00\n7       F8           NaN           NaN\n12     F13           NaN           NaN\nConfusion Matrix (Accuracy 0.8411)\n\n       Prediction\nActual  0  1\n     0 14 10\n     1  7 76\n/shared-libs/python3.7/py/lib/python3.7/site-packages/sklearn/tree/_classes.py:600: RuntimeWarning: invalid value encountered in true_divide\n  return self.tree_.compute_feature_importances()\n",
          "output_type": "stream"
        }
      ],
      "execution_count": null
    },
    {
      "cell_type": "code",
      "source": "# 6.\n# Run logistic regression on the data, print your classification summary, and plot the related gains and lift charts. \n\n# fit a logistic regression (set penalty=l2 and C=1e42 to avoid regularization)\nlogit_reg = LogisticRegression(penalty=\"l2\", C=1e42, solver='liblinear')\nlogit_reg.fit(train_X, train_y)\nprint('intercept ', logit_reg.intercept_[0])\nprint(pd.DataFrame({'coeff': logit_reg.coef_[0]}, index=X.columns).transpose())\n\n# confusion matrix for validation set\nclassificationSummary(valid_y, logit_reg.predict(valid_X), class_names=classes)\n",
      "metadata": {
        "tags": [],
        "cell_id": "00010-2d1439c9-de53-4dab-be2c-e9e9b97e6302",
        "deepnote_to_be_reexecuted": false,
        "source_hash": "f5e144b7",
        "execution_millis": 19,
        "execution_start": 1616626010925,
        "deepnote_cell_type": "code"
      },
      "outputs": [
        {
          "name": "stdout",
          "text": "intercept  -1.1602456742067286\n             F1       F2        F3        F4        F5        F6        F7  \\\ncoeff -2.828296  1.31123 -0.917436  1.723884  1.654959 -0.541409  2.243088   \n\n             F8        F9      F10  ...       F13      F14      F15       F16  \\\ncoeff  1.202728 -0.578587  2.93806  ...  2.018925  1.38206 -1.61907  2.338341   \n\n             F17       F18      F19       F20       F21      F22  \ncoeff  10.942839  8.234496 -1.13396  1.803012  0.771582  1.37968  \n\n[1 rows x 22 columns]\nConfusion Matrix (Accuracy 0.8411)\n\n       Prediction\nActual  0  1\n     0 15  9\n     1  8 75\n",
          "output_type": "stream"
        }
      ],
      "execution_count": null
    },
    {
      "cell_type": "code",
      "source": "# Plot the related gains and lift charts. \n\nlogit_reg_pred = logit_reg.predict(valid_X)\nlogit_reg_proba = logit_reg.predict_proba(valid_X)\nlogit_result = pd.DataFrame({'actual': valid_y, 'p(0)': [p[0] for p in logit_reg_proba],'p(1)': [p[1] for p in logit_reg_proba],'predicted': logit_reg_pred })\n\ndf = logit_result.sort_values(by=['p(1)'], ascending=False)\nfig, axes = plt.subplots(nrows=1, ncols=2, figsize=(10, 4))\ngainsChart(df.actual, ax=axes[0])\nliftChart(df['p(1)'], title=False, ax=axes[1])\nplt.show()",
      "metadata": {
        "tags": [],
        "cell_id": "00011-b72a8d79-69e1-4c56-8a63-b905fe761cef",
        "deepnote_to_be_reexecuted": false,
        "source_hash": "f7b42ea0",
        "execution_millis": 200,
        "execution_start": 1616626015965,
        "deepnote_cell_type": "code"
      },
      "outputs": [],
      "execution_count": null
    },
    {
      "cell_type": "code",
      "source": "# AIC Scores Comparisons\n\nprint('Logistic Regression AIC: ', AIC_score(valid_y, logit_reg.predict(valid_X), df = len(train_X.columns) + 1)) \nprint('Naive Bayes AIC:', AIC_score(valid_y, spect_nb.predict(valid_X), df = len(train_X.columns) + 1)) \nprint('Single Tree AIC:', AIC_score(valid_y, boost.predict(valid_X), df = len(train_X.columns) + 1)) \nprint('Random Forest AIC:', AIC_score(valid_y, rf.predict(valid_X), df = len(train_X.columns) + 1)) \nprint('Boost AIC:', AIC_score(valid_y, boost.predict(valid_X), df = len(train_X.columns) + 1)) \n",
      "metadata": {
        "tags": [],
        "cell_id": "00011-56106806-022e-4e50-bdf5-d18e88513003",
        "deepnote_to_be_reexecuted": false,
        "source_hash": "3325d292",
        "execution_millis": 45,
        "execution_start": 1616626018684,
        "deepnote_cell_type": "code"
      },
      "outputs": [
        {
          "name": "stdout",
          "text": "Logistic Regression AIC:  154.8139886323911\nNaive Bayes AIC: 191.71192066560616\nSingle Tree AIC: 154.8139886323911\nRandom Forest AIC: 148.32715409803257\nBoost AIC: 154.8139886323911\n",
          "output_type": "stream"
        }
      ],
      "execution_count": null
    },
    {
      "cell_type": "markdown",
      "source": "# 7.\n\n**Q: Discuss your results. How do your results compare to the results from the CLIP3 algorithm mentioned in the link above? Discuss ways to improve your predictive accuracy. What are the advantages and disadvantages of each of the algorithms that you employed?**\n\nIn general our results were comparative. Some of the simpler algorithms, like single tree classifier only reached 77-78% accuracy but some of our other models, like random forests and boosted tree algorithms, reached over 84%, comparing with CLIP3. The CLIP3 algorithm generated rules that were 84.0% accurate (as compared with cardilogists' diagnoses).\n",
      "metadata": {
        "tags": [],
        "cell_id": "00013-e41e9721-19df-4a82-ac1e-3316faf2f243",
        "deepnote_cell_type": "markdown"
      }
    },
    {
      "cell_type": "markdown",
      "source": "<a style='text-decoration:none;line-height:16px;display:flex;color:#5B5B62;padding:10px;justify-content:end;' href='https://deepnote.com?utm_source=created-in-deepnote-cell&projectId=52e9ae2e-8d42-48c9-9988-588f5a262306' target=\"_blank\">\n<img style='display:inline;max-height:16px;margin:0px;margin-right:7.5px;' src='data:image/svg+xml;base64,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' > </img>\nCreated in <span style='font-weight:600;margin-left:4px;'>Deepnote</span></a>",
      "metadata": {
        "tags": [],
        "created_in_deepnote_cell": true,
        "deepnote_cell_type": "markdown"
      }
    }
  ],
  "nbformat": 4,
  "nbformat_minor": 2,
  "metadata": {
    "orig_nbformat": 2,
    "deepnote_notebook_id": "963723cb-2365-471e-9bf5-2dafa22d7ec1",
    "deepnote": {},
    "deepnote_execution_queue": []
  }
}