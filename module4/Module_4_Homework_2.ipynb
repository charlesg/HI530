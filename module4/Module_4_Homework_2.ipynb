{
  "cells": [
    {
      "cell_type": "markdown",
      "source": "An equities analyst is studying the pharmaceutical industry and would like your help in exploring and understanding her firm's financial data. Her main objective is to understand the structure of the pharmaceutical industry using some basic financial measures. Financial data gathered on 21 firms in the pharmaceutical industry are available in the attached file _Pharmaceuticals.csv. For each firm, the following variables are recorded:\n\n1. Market capitalization (in billions of dollars)\n2. Beta\n3. Price/earnings ratio\n4. Return on equity\n5. Return on assets\n6. Asset turnover\n7. Leverage\n8. Estimated revenue growth\n9. Net profit margin\n10. Median recommendation (across major brokerages)\n11. Location of firm's headquarters\n12. Stock exchange on which the firm is listed\n\nUse cluster analysis to explore and analyze the given dataset as follows:\n\n1. Load the Pharmaceuticals.csv data set, make Symbol the index, drop non-numerical variables, and normalize your data. Print the head of your dataframe.\n2. Run the average linkage algorithm on your dataframe, generate a related dendrogram (color_threshold=3.9), and print your cluster membership (4 clusters).\n3. Print a clustermap by setting labels as cluster membership and company name.\n4. Run k-means clustering algorithm (use the elbow chart to determine the best number of clusters) and determine and plot the centroids. Also, print the cluster membership, the within-cluster sum of squared distances( including the cluster count), and Euclidian distance between cluster centroids.\n5. To check the clusters' stability, remove a random 5% of the data (by taking a random sample of 95% of the records), and repeat the analysis. Does the same picture emerge?  Briefly discuss the results from your clustering analysis. What can you conclude?\n\n",
      "metadata": {
        "tags": [],
        "cell_id": "00000-3dece0d4-464a-4df6-8e1a-6fb74e2cfb98",
        "deepnote_cell_type": "markdown"
      }
    },
    {
      "cell_type": "code",
      "source": "import numpy as np\nimport pandas as pd\nfrom sklearn import preprocessing\nfrom sklearn.metrics import pairwise\nfrom scipy.cluster.hierarchy import dendrogram, linkage, fcluster\nfrom sklearn.cluster import KMeans\nimport matplotlib.pylab as plt\nimport seaborn as sns\nfrom pandas.plotting import parallel_coordinates \n",
      "metadata": {
        "tags": [],
        "cell_id": "00001-298a3158-6364-4abb-bd10-c734f69f8646",
        "deepnote_to_be_reexecuted": false,
        "source_hash": "6db3cee",
        "execution_millis": 9,
        "execution_start": 1616538777159,
        "deepnote_cell_type": "code"
      },
      "outputs": [],
      "execution_count": null
    },
    {
      "cell_type": "code",
      "metadata": {
        "tags": [],
        "cell_id": "00000-28d46286-d146-44b3-b8c6-306411ddcdd7",
        "deepnote_to_be_reexecuted": false,
        "source_hash": "4eb4ce31",
        "execution_millis": 60,
        "execution_start": 1616537718117,
        "deepnote_cell_type": "code"
      },
      "source": "# 1. Load the data\npharma_df = pd.read_csv('Pharmaceuticals.csv')\npharma_df.set_index('Symbol', inplace=True)\nperfValues = ['Market_Cap', 'Beta', 'PE_Ratio', 'ROE', 'ROA', 'Asset_Turnover', 'Leverage', 'Rev_Growth', 'Net_Profit_Margin']\npharma_df.head(10)",
      "outputs": [
        {
          "output_type": "execute_result",
          "execution_count": 37,
          "data": {
            "application/vnd.deepnote.dataframe.v2+json": {
              "row_count": 10,
              "column_count": 13,
              "columns": [
                {
                  "name": "Name",
                  "dtype": "object",
                  "stats": {
                    "unique_count": 10,
                    "nan_count": 0,
                    "categories": [
                      {
                        "name": "Abbott Laboratories",
                        "count": 1
                      },
                      {
                        "name": "Allergan, Inc.",
                        "count": 1
                      },
                      {
                        "name": "8 others",
                        "count": 8
                      }
                    ]
                  }
                },
                {
                  "name": "Market_Cap",
                  "dtype": "float64",
                  "stats": {
                    "unique_count": 10,
                    "nan_count": 0,
                    "min": 0.41,
                    "max": 73.84,
                    "histogram": [
                      {
                        "bin_start": 0.41,
                        "bin_end": 7.753000000000001,
                        "count": 4
                      },
                      {
                        "bin_start": 7.753000000000001,
                        "bin_end": 15.096000000000002,
                        "count": 0
                      },
                      {
                        "bin_start": 15.096000000000002,
                        "bin_end": 22.439000000000004,
                        "count": 1
                      },
                      {
                        "bin_start": 22.439000000000004,
                        "bin_end": 29.782000000000004,
                        "count": 0
                      },
                      {
                        "bin_start": 29.782000000000004,
                        "bin_end": 37.125,
                        "count": 0
                      },
                      {
                        "bin_start": 37.125,
                        "bin_end": 44.468,
                        "count": 0
                      },
                      {
                        "bin_start": 44.468,
                        "bin_end": 51.811,
                        "count": 2
                      },
                      {
                        "bin_start": 51.811,
                        "bin_end": 59.154,
                        "count": 0
                      },
                      {
                        "bin_start": 59.154,
                        "bin_end": 66.497,
                        "count": 0
                      },
                      {
                        "bin_start": 66.497,
                        "bin_end": 73.84,
                        "count": 3
                      }
                    ]
                  }
                },
                {
                  "name": "Beta",
                  "dtype": "float64",
                  "stats": {
                    "unique_count": 9,
                    "nan_count": 0,
                    "min": 0.18,
                    "max": 1.11,
                    "histogram": [
                      {
                        "bin_start": 0.18,
                        "bin_end": 0.273,
                        "count": 1
                      },
                      {
                        "bin_start": 0.273,
                        "bin_end": 0.366,
                        "count": 2
                      },
                      {
                        "bin_start": 0.366,
                        "bin_end": 0.459,
                        "count": 1
                      },
                      {
                        "bin_start": 0.459,
                        "bin_end": 0.552,
                        "count": 3
                      },
                      {
                        "bin_start": 0.552,
                        "bin_end": 0.645,
                        "count": 0
                      },
                      {
                        "bin_start": 0.645,
                        "bin_end": 0.738,
                        "count": 0
                      },
                      {
                        "bin_start": 0.738,
                        "bin_end": 0.8310000000000002,
                        "count": 0
                      },
                      {
                        "bin_start": 0.8310000000000002,
                        "bin_end": 0.9240000000000002,
                        "count": 1
                      },
                      {
                        "bin_start": 0.9240000000000002,
                        "bin_end": 1.0170000000000001,
                        "count": 0
                      },
                      {
                        "bin_start": 1.0170000000000001,
                        "bin_end": 1.11,
                        "count": 2
                      }
                    ]
                  }
                },
                {
                  "name": "PE_Ratio",
                  "dtype": "float64",
                  "stats": {
                    "unique_count": 9,
                    "nan_count": 0,
                    "min": 3.6,
                    "max": 82.5,
                    "histogram": [
                      {
                        "bin_start": 3.6,
                        "bin_end": 11.49,
                        "count": 1
                      },
                      {
                        "bin_start": 11.49,
                        "bin_end": 19.380000000000003,
                        "count": 1
                      },
                      {
                        "bin_start": 19.380000000000003,
                        "bin_end": 27.270000000000003,
                        "count": 5
                      },
                      {
                        "bin_start": 27.270000000000003,
                        "bin_end": 35.160000000000004,
                        "count": 2
                      },
                      {
                        "bin_start": 35.160000000000004,
                        "bin_end": 43.050000000000004,
                        "count": 0
                      },
                      {
                        "bin_start": 43.050000000000004,
                        "bin_end": 50.940000000000005,
                        "count": 0
                      },
                      {
                        "bin_start": 50.940000000000005,
                        "bin_end": 58.830000000000005,
                        "count": 0
                      },
                      {
                        "bin_start": 58.830000000000005,
                        "bin_end": 66.72,
                        "count": 0
                      },
                      {
                        "bin_start": 66.72,
                        "bin_end": 74.61,
                        "count": 0
                      },
                      {
                        "bin_start": 74.61,
                        "bin_end": 82.5,
                        "count": 1
                      }
                    ]
                  }
                },
                {
                  "name": "ROE",
                  "dtype": "float64",
                  "stats": {
                    "unique_count": 10,
                    "nan_count": 0,
                    "min": 3.9,
                    "max": 34.8,
                    "histogram": [
                      {
                        "bin_start": 3.9,
                        "bin_end": 6.99,
                        "count": 1
                      },
                      {
                        "bin_start": 6.99,
                        "bin_end": 10.08,
                        "count": 0
                      },
                      {
                        "bin_start": 10.08,
                        "bin_end": 13.17,
                        "count": 1
                      },
                      {
                        "bin_start": 13.17,
                        "bin_end": 16.259999999999998,
                        "count": 2
                      },
                      {
                        "bin_start": 16.259999999999998,
                        "bin_end": 19.349999999999998,
                        "count": 0
                      },
                      {
                        "bin_start": 19.349999999999998,
                        "bin_end": 22.439999999999998,
                        "count": 1
                      },
                      {
                        "bin_start": 22.439999999999998,
                        "bin_end": 25.529999999999998,
                        "count": 1
                      },
                      {
                        "bin_start": 25.529999999999998,
                        "bin_end": 28.619999999999997,
                        "count": 2
                      },
                      {
                        "bin_start": 28.619999999999997,
                        "bin_end": 31.709999999999997,
                        "count": 1
                      },
                      {
                        "bin_start": 31.709999999999997,
                        "bin_end": 34.8,
                        "count": 1
                      }
                    ]
                  }
                },
                {
                  "name": "ROA",
                  "dtype": "float64",
                  "stats": {
                    "unique_count": 10,
                    "nan_count": 0,
                    "min": 1.4,
                    "max": 15.4,
                    "histogram": [
                      {
                        "bin_start": 1.4,
                        "bin_end": 2.8,
                        "count": 1
                      },
                      {
                        "bin_start": 2.8,
                        "bin_end": 4.199999999999999,
                        "count": 0
                      },
                      {
                        "bin_start": 4.199999999999999,
                        "bin_end": 5.6,
                        "count": 3
                      },
                      {
                        "bin_start": 5.6,
                        "bin_end": 7,
                        "count": 0
                      },
                      {
                        "bin_start": 7,
                        "bin_end": 8.4,
                        "count": 2
                      },
                      {
                        "bin_start": 8.4,
                        "bin_end": 9.799999999999999,
                        "count": 0
                      },
                      {
                        "bin_start": 9.799999999999999,
                        "bin_end": 11.2,
                        "count": 0
                      },
                      {
                        "bin_start": 11.2,
                        "bin_end": 12.6,
                        "count": 1
                      },
                      {
                        "bin_start": 12.6,
                        "bin_end": 14,
                        "count": 1
                      },
                      {
                        "bin_start": 14,
                        "bin_end": 15.4,
                        "count": 2
                      }
                    ]
                  }
                },
                {
                  "name": "Asset_Turnover",
                  "dtype": "float64",
                  "stats": {
                    "unique_count": 4,
                    "nan_count": 0,
                    "min": 0.3,
                    "max": 0.9,
                    "histogram": [
                      {
                        "bin_start": 0.3,
                        "bin_end": 0.36,
                        "count": 1
                      },
                      {
                        "bin_start": 0.36,
                        "bin_end": 0.42000000000000004,
                        "count": 0
                      },
                      {
                        "bin_start": 0.42000000000000004,
                        "bin_end": 0.48000000000000004,
                        "count": 0
                      },
                      {
                        "bin_start": 0.48000000000000004,
                        "bin_end": 0.54,
                        "count": 0
                      },
                      {
                        "bin_start": 0.54,
                        "bin_end": 0.6000000000000001,
                        "count": 4
                      },
                      {
                        "bin_start": 0.6000000000000001,
                        "bin_end": 0.6600000000000001,
                        "count": 0
                      },
                      {
                        "bin_start": 0.6600000000000001,
                        "bin_end": 0.7200000000000001,
                        "count": 1
                      },
                      {
                        "bin_start": 0.7200000000000001,
                        "bin_end": 0.78,
                        "count": 0
                      },
                      {
                        "bin_start": 0.78,
                        "bin_end": 0.8400000000000001,
                        "count": 0
                      },
                      {
                        "bin_start": 0.8400000000000001,
                        "bin_end": 0.9,
                        "count": 4
                      }
                    ]
                  }
                },
                {
                  "name": "Leverage",
                  "dtype": "float64",
                  "stats": {
                    "unique_count": 9,
                    "nan_count": 0,
                    "min": 0,
                    "max": 3.51,
                    "histogram": [
                      {
                        "bin_start": 0,
                        "bin_end": 0.351,
                        "count": 4
                      },
                      {
                        "bin_start": 0.351,
                        "bin_end": 0.702,
                        "count": 4
                      },
                      {
                        "bin_start": 0.702,
                        "bin_end": 1.053,
                        "count": 0
                      },
                      {
                        "bin_start": 1.053,
                        "bin_end": 1.404,
                        "count": 1
                      },
                      {
                        "bin_start": 1.404,
                        "bin_end": 1.755,
                        "count": 0
                      },
                      {
                        "bin_start": 1.755,
                        "bin_end": 2.106,
                        "count": 0
                      },
                      {
                        "bin_start": 2.106,
                        "bin_end": 2.457,
                        "count": 0
                      },
                      {
                        "bin_start": 2.457,
                        "bin_end": 2.808,
                        "count": 0
                      },
                      {
                        "bin_start": 2.808,
                        "bin_end": 3.159,
                        "count": 0
                      },
                      {
                        "bin_start": 3.159,
                        "bin_end": 3.51,
                        "count": 1
                      }
                    ]
                  }
                },
                {
                  "name": "Rev_Growth",
                  "dtype": "float64",
                  "stats": {
                    "unique_count": 10,
                    "nan_count": 0,
                    "min": -3.17,
                    "max": 34.21,
                    "histogram": [
                      {
                        "bin_start": -3.17,
                        "bin_end": 0.5680000000000005,
                        "count": 1
                      },
                      {
                        "bin_start": 0.5680000000000005,
                        "bin_end": 4.306000000000001,
                        "count": 1
                      },
                      {
                        "bin_start": 4.306000000000001,
                        "bin_end": 8.044000000000002,
                        "count": 4
                      },
                      {
                        "bin_start": 8.044000000000002,
                        "bin_end": 11.782000000000002,
                        "count": 1
                      },
                      {
                        "bin_start": 11.782000000000002,
                        "bin_end": 15.520000000000001,
                        "count": 1
                      },
                      {
                        "bin_start": 15.520000000000001,
                        "bin_end": 19.258000000000003,
                        "count": 0
                      },
                      {
                        "bin_start": 19.258000000000003,
                        "bin_end": 22.996000000000002,
                        "count": 0
                      },
                      {
                        "bin_start": 22.996000000000002,
                        "bin_end": 26.734,
                        "count": 0
                      },
                      {
                        "bin_start": 26.734,
                        "bin_end": 30.472,
                        "count": 1
                      },
                      {
                        "bin_start": 30.472,
                        "bin_end": 34.21,
                        "count": 1
                      }
                    ]
                  }
                },
                {
                  "name": "Net_Profit_Margin",
                  "dtype": "float64",
                  "stats": {
                    "unique_count": 10,
                    "nan_count": 0,
                    "min": 2.6,
                    "max": 23.4,
                    "histogram": [
                      {
                        "bin_start": 2.6,
                        "bin_end": 4.68,
                        "count": 1
                      },
                      {
                        "bin_start": 4.68,
                        "bin_end": 6.76,
                        "count": 1
                      },
                      {
                        "bin_start": 6.76,
                        "bin_end": 8.839999999999998,
                        "count": 1
                      },
                      {
                        "bin_start": 8.839999999999998,
                        "bin_end": 10.919999999999998,
                        "count": 0
                      },
                      {
                        "bin_start": 10.919999999999998,
                        "bin_end": 12.999999999999998,
                        "count": 2
                      },
                      {
                        "bin_start": 12.999999999999998,
                        "bin_end": 15.079999999999997,
                        "count": 1
                      },
                      {
                        "bin_start": 15.079999999999997,
                        "bin_end": 17.159999999999997,
                        "count": 1
                      },
                      {
                        "bin_start": 17.159999999999997,
                        "bin_end": 19.24,
                        "count": 1
                      },
                      {
                        "bin_start": 19.24,
                        "bin_end": 21.319999999999997,
                        "count": 1
                      },
                      {
                        "bin_start": 21.319999999999997,
                        "bin_end": 23.4,
                        "count": 1
                      }
                    ]
                  }
                },
                {
                  "name": "Median_Recommendation",
                  "dtype": "object",
                  "stats": {
                    "unique_count": 4,
                    "nan_count": 0,
                    "categories": [
                      {
                        "name": "Moderate Buy",
                        "count": 4
                      },
                      {
                        "name": "Moderate Sell",
                        "count": 3
                      },
                      {
                        "name": "2 others",
                        "count": 3
                      }
                    ]
                  }
                },
                {
                  "name": "Location",
                  "dtype": "object",
                  "stats": {
                    "unique_count": 6,
                    "nan_count": 0,
                    "categories": [
                      {
                        "name": "US",
                        "count": 4
                      },
                      {
                        "name": "UK",
                        "count": 2
                      },
                      {
                        "name": "4 others",
                        "count": 4
                      }
                    ]
                  }
                },
                {
                  "name": "Exchange",
                  "dtype": "object",
                  "stats": {
                    "unique_count": 2,
                    "nan_count": 0,
                    "categories": [
                      {
                        "name": "NYSE",
                        "count": 9
                      },
                      {
                        "name": "NASDAQ",
                        "count": 1
                      }
                    ]
                  }
                },
                {
                  "name": "_deepnote_index_column",
                  "dtype": "object"
                }
              ],
              "rows_top": [
                {
                  "Name": "Abbott Laboratories",
                  "Market_Cap": 68.44,
                  "Beta": 0.32,
                  "PE_Ratio": 24.7,
                  "ROE": 26.4,
                  "ROA": 11.8,
                  "Asset_Turnover": 0.7,
                  "Leverage": 0.42,
                  "Rev_Growth": 7.54,
                  "Net_Profit_Margin": 16.1,
                  "Median_Recommendation": "Moderate Buy",
                  "Location": "US",
                  "Exchange": "NYSE",
                  "_deepnote_index_column": "ABT"
                },
                {
                  "Name": "Allergan, Inc.",
                  "Market_Cap": 7.58,
                  "Beta": 0.41,
                  "PE_Ratio": 82.5,
                  "ROE": 12.9,
                  "ROA": 5.5,
                  "Asset_Turnover": 0.9,
                  "Leverage": 0.6,
                  "Rev_Growth": 9.16,
                  "Net_Profit_Margin": 5.5,
                  "Median_Recommendation": "Moderate Buy",
                  "Location": "CANADA",
                  "Exchange": "NYSE",
                  "_deepnote_index_column": "AGN"
                },
                {
                  "Name": "Amersham plc",
                  "Market_Cap": 6.3,
                  "Beta": 0.46,
                  "PE_Ratio": 20.7,
                  "ROE": 14.9,
                  "ROA": 7.8,
                  "Asset_Turnover": 0.9,
                  "Leverage": 0.27,
                  "Rev_Growth": 7.05,
                  "Net_Profit_Margin": 11.2,
                  "Median_Recommendation": "Strong Buy",
                  "Location": "UK",
                  "Exchange": "NYSE",
                  "_deepnote_index_column": "AHM"
                },
                {
                  "Name": "AstraZeneca PLC",
                  "Market_Cap": 67.63,
                  "Beta": 0.52,
                  "PE_Ratio": 21.5,
                  "ROE": 27.4,
                  "ROA": 15.4,
                  "Asset_Turnover": 0.9,
                  "Leverage": 0,
                  "Rev_Growth": 15,
                  "Net_Profit_Margin": 18,
                  "Median_Recommendation": "Moderate Sell",
                  "Location": "UK",
                  "Exchange": "NYSE",
                  "_deepnote_index_column": "AZN"
                },
                {
                  "Name": "Aventis",
                  "Market_Cap": 47.16,
                  "Beta": 0.32,
                  "PE_Ratio": 20.1,
                  "ROE": 21.8,
                  "ROA": 7.5,
                  "Asset_Turnover": 0.6,
                  "Leverage": 0.34,
                  "Rev_Growth": 26.81,
                  "Net_Profit_Margin": 12.9,
                  "Median_Recommendation": "Moderate Buy",
                  "Location": "FRANCE",
                  "Exchange": "NYSE",
                  "_deepnote_index_column": "AVE"
                },
                {
                  "Name": "Bayer AG",
                  "Market_Cap": 16.9,
                  "Beta": 1.11,
                  "PE_Ratio": 27.9,
                  "ROE": 3.9,
                  "ROA": 1.4,
                  "Asset_Turnover": 0.6,
                  "Leverage": 0,
                  "Rev_Growth": -3.17,
                  "Net_Profit_Margin": 2.6,
                  "Median_Recommendation": "Hold",
                  "Location": "GERMANY",
                  "Exchange": "NYSE",
                  "_deepnote_index_column": "BAY"
                },
                {
                  "Name": "Bristol-Myers Squibb Company",
                  "Market_Cap": 51.33,
                  "Beta": 0.5,
                  "PE_Ratio": 13.9,
                  "ROE": 34.8,
                  "ROA": 15.1,
                  "Asset_Turnover": 0.9,
                  "Leverage": 0.57,
                  "Rev_Growth": 2.7,
                  "Net_Profit_Margin": 20.6,
                  "Median_Recommendation": "Moderate Sell",
                  "Location": "US",
                  "Exchange": "NYSE",
                  "_deepnote_index_column": "BMY"
                },
                {
                  "Name": "Chattem, Inc",
                  "Market_Cap": 0.41,
                  "Beta": 0.85,
                  "PE_Ratio": 26,
                  "ROE": 24.1,
                  "ROA": 4.3,
                  "Asset_Turnover": 0.6,
                  "Leverage": 3.51,
                  "Rev_Growth": 6.38,
                  "Net_Profit_Margin": 7.5,
                  "Median_Recommendation": "Moderate Buy",
                  "Location": "US",
                  "Exchange": "NASDAQ",
                  "_deepnote_index_column": "CHTT"
                },
                {
                  "Name": "Elan Corporation, plc",
                  "Market_Cap": 0.78,
                  "Beta": 1.08,
                  "PE_Ratio": 3.6,
                  "ROE": 15.1,
                  "ROA": 5.1,
                  "Asset_Turnover": 0.3,
                  "Leverage": 1.07,
                  "Rev_Growth": 34.21,
                  "Net_Profit_Margin": 13.3,
                  "Median_Recommendation": "Moderate Sell",
                  "Location": "IRELAND",
                  "Exchange": "NYSE",
                  "_deepnote_index_column": "ELN"
                },
                {
                  "Name": "Eli Lilly and Company",
                  "Market_Cap": 73.84,
                  "Beta": 0.18,
                  "PE_Ratio": 27.9,
                  "ROE": 31,
                  "ROA": 13.5,
                  "Asset_Turnover": 0.6,
                  "Leverage": 0.53,
                  "Rev_Growth": 6.21,
                  "Net_Profit_Margin": 23.4,
                  "Median_Recommendation": "Hold",
                  "Location": "US",
                  "Exchange": "NYSE",
                  "_deepnote_index_column": "LLY"
                }
              ],
              "rows_bottom": null
            },
            "text/plain": "                                Name  Market_Cap  Beta  PE_Ratio   ROE   ROA  \\\nSymbol                                                                         \nABT              Abbott Laboratories       68.44  0.32      24.7  26.4  11.8   \nAGN                   Allergan, Inc.        7.58  0.41      82.5  12.9   5.5   \nAHM                     Amersham plc        6.30  0.46      20.7  14.9   7.8   \nAZN                  AstraZeneca PLC       67.63  0.52      21.5  27.4  15.4   \nAVE                          Aventis       47.16  0.32      20.1  21.8   7.5   \nBAY                         Bayer AG       16.90  1.11      27.9   3.9   1.4   \nBMY     Bristol-Myers Squibb Company       51.33  0.50      13.9  34.8  15.1   \nCHTT                    Chattem, Inc        0.41  0.85      26.0  24.1   4.3   \nELN            Elan Corporation, plc        0.78  1.08       3.6  15.1   5.1   \nLLY            Eli Lilly and Company       73.84  0.18      27.9  31.0  13.5   \n\n        Asset_Turnover  Leverage  Rev_Growth  Net_Profit_Margin  \\\nSymbol                                                            \nABT                0.7      0.42        7.54               16.1   \nAGN                0.9      0.60        9.16                5.5   \nAHM                0.9      0.27        7.05               11.2   \nAZN                0.9      0.00       15.00               18.0   \nAVE                0.6      0.34       26.81               12.9   \nBAY                0.6      0.00       -3.17                2.6   \nBMY                0.9      0.57        2.70               20.6   \nCHTT               0.6      3.51        6.38                7.5   \nELN                0.3      1.07       34.21               13.3   \nLLY                0.6      0.53        6.21               23.4   \n\n       Median_Recommendation Location Exchange  \nSymbol                                          \nABT             Moderate Buy       US     NYSE  \nAGN             Moderate Buy   CANADA     NYSE  \nAHM               Strong Buy       UK     NYSE  \nAZN            Moderate Sell       UK     NYSE  \nAVE             Moderate Buy   FRANCE     NYSE  \nBAY                     Hold  GERMANY     NYSE  \nBMY            Moderate Sell       US     NYSE  \nCHTT            Moderate Buy       US   NASDAQ  \nELN            Moderate Sell  IRELAND     NYSE  \nLLY                     Hold       US     NYSE  ",
            "text/html": "<div>\n<style scoped>\n    .dataframe tbody tr th:only-of-type {\n        vertical-align: middle;\n    }\n\n    .dataframe tbody tr th {\n        vertical-align: top;\n    }\n\n    .dataframe thead th {\n        text-align: right;\n    }\n</style>\n<table border=\"1\" class=\"dataframe\">\n  <thead>\n    <tr style=\"text-align: right;\">\n      <th></th>\n      <th>Name</th>\n      <th>Market_Cap</th>\n      <th>Beta</th>\n      <th>PE_Ratio</th>\n      <th>ROE</th>\n      <th>ROA</th>\n      <th>Asset_Turnover</th>\n      <th>Leverage</th>\n      <th>Rev_Growth</th>\n      <th>Net_Profit_Margin</th>\n      <th>Median_Recommendation</th>\n      <th>Location</th>\n      <th>Exchange</th>\n    </tr>\n    <tr>\n      <th>Symbol</th>\n      <th></th>\n      <th></th>\n      <th></th>\n      <th></th>\n      <th></th>\n      <th></th>\n      <th></th>\n      <th></th>\n      <th></th>\n      <th></th>\n      <th></th>\n      <th></th>\n      <th></th>\n    </tr>\n  </thead>\n  <tbody>\n    <tr>\n      <th>ABT</th>\n      <td>Abbott Laboratories</td>\n      <td>68.44</td>\n      <td>0.32</td>\n      <td>24.7</td>\n      <td>26.4</td>\n      <td>11.8</td>\n      <td>0.7</td>\n      <td>0.42</td>\n      <td>7.54</td>\n      <td>16.1</td>\n      <td>Moderate Buy</td>\n      <td>US</td>\n      <td>NYSE</td>\n    </tr>\n    <tr>\n      <th>AGN</th>\n      <td>Allergan, Inc.</td>\n      <td>7.58</td>\n      <td>0.41</td>\n      <td>82.5</td>\n      <td>12.9</td>\n      <td>5.5</td>\n      <td>0.9</td>\n      <td>0.60</td>\n      <td>9.16</td>\n      <td>5.5</td>\n      <td>Moderate Buy</td>\n      <td>CANADA</td>\n      <td>NYSE</td>\n    </tr>\n    <tr>\n      <th>AHM</th>\n      <td>Amersham plc</td>\n      <td>6.30</td>\n      <td>0.46</td>\n      <td>20.7</td>\n      <td>14.9</td>\n      <td>7.8</td>\n      <td>0.9</td>\n      <td>0.27</td>\n      <td>7.05</td>\n      <td>11.2</td>\n      <td>Strong Buy</td>\n      <td>UK</td>\n      <td>NYSE</td>\n    </tr>\n    <tr>\n      <th>AZN</th>\n      <td>AstraZeneca PLC</td>\n      <td>67.63</td>\n      <td>0.52</td>\n      <td>21.5</td>\n      <td>27.4</td>\n      <td>15.4</td>\n      <td>0.9</td>\n      <td>0.00</td>\n      <td>15.00</td>\n      <td>18.0</td>\n      <td>Moderate Sell</td>\n      <td>UK</td>\n      <td>NYSE</td>\n    </tr>\n    <tr>\n      <th>AVE</th>\n      <td>Aventis</td>\n      <td>47.16</td>\n      <td>0.32</td>\n      <td>20.1</td>\n      <td>21.8</td>\n      <td>7.5</td>\n      <td>0.6</td>\n      <td>0.34</td>\n      <td>26.81</td>\n      <td>12.9</td>\n      <td>Moderate Buy</td>\n      <td>FRANCE</td>\n      <td>NYSE</td>\n    </tr>\n    <tr>\n      <th>BAY</th>\n      <td>Bayer AG</td>\n      <td>16.90</td>\n      <td>1.11</td>\n      <td>27.9</td>\n      <td>3.9</td>\n      <td>1.4</td>\n      <td>0.6</td>\n      <td>0.00</td>\n      <td>-3.17</td>\n      <td>2.6</td>\n      <td>Hold</td>\n      <td>GERMANY</td>\n      <td>NYSE</td>\n    </tr>\n    <tr>\n      <th>BMY</th>\n      <td>Bristol-Myers Squibb Company</td>\n      <td>51.33</td>\n      <td>0.50</td>\n      <td>13.9</td>\n      <td>34.8</td>\n      <td>15.1</td>\n      <td>0.9</td>\n      <td>0.57</td>\n      <td>2.70</td>\n      <td>20.6</td>\n      <td>Moderate Sell</td>\n      <td>US</td>\n      <td>NYSE</td>\n    </tr>\n    <tr>\n      <th>CHTT</th>\n      <td>Chattem, Inc</td>\n      <td>0.41</td>\n      <td>0.85</td>\n      <td>26.0</td>\n      <td>24.1</td>\n      <td>4.3</td>\n      <td>0.6</td>\n      <td>3.51</td>\n      <td>6.38</td>\n      <td>7.5</td>\n      <td>Moderate Buy</td>\n      <td>US</td>\n      <td>NASDAQ</td>\n    </tr>\n    <tr>\n      <th>ELN</th>\n      <td>Elan Corporation, plc</td>\n      <td>0.78</td>\n      <td>1.08</td>\n      <td>3.6</td>\n      <td>15.1</td>\n      <td>5.1</td>\n      <td>0.3</td>\n      <td>1.07</td>\n      <td>34.21</td>\n      <td>13.3</td>\n      <td>Moderate Sell</td>\n      <td>IRELAND</td>\n      <td>NYSE</td>\n    </tr>\n    <tr>\n      <th>LLY</th>\n      <td>Eli Lilly and Company</td>\n      <td>73.84</td>\n      <td>0.18</td>\n      <td>27.9</td>\n      <td>31.0</td>\n      <td>13.5</td>\n      <td>0.6</td>\n      <td>0.53</td>\n      <td>6.21</td>\n      <td>23.4</td>\n      <td>Hold</td>\n      <td>US</td>\n      <td>NYSE</td>\n    </tr>\n  </tbody>\n</table>\n</div>"
          },
          "metadata": {}
        }
      ],
      "execution_count": null
    },
    {
      "cell_type": "code",
      "source": "# 2. Run the average linkage algorithm on your dataframe, generate a related dendrogram (color_threshold=3.9), and print your cluster membership (4 clusters).\n\nZ = linkage(pharma_df[perfValues], method='average')\ndendrogram(Z, labels=pharma_df[perfValues].index, color_threshold=3.9) \n",
      "metadata": {
        "tags": [],
        "cell_id": "00003-5cab986f-295d-4893-8728-812407dbed62",
        "deepnote_to_be_reexecuted": false,
        "source_hash": "5bd973a7",
        "execution_millis": 322,
        "execution_start": 1616537720913,
        "deepnote_cell_type": "code"
      },
      "outputs": [
        {
          "output_type": "execute_result",
          "execution_count": 38,
          "data": {
            "text/plain": "{'icoord': [[5.0, 5.0, 15.0, 15.0],\n  [25.0, 25.0, 35.0, 35.0],\n  [10.0, 10.0, 30.0, 30.0],\n  [65.0, 65.0, 75.0, 75.0],\n  [95.0, 95.0, 105.0, 105.0],\n  [85.0, 85.0, 100.0, 100.0],\n  [115.0, 115.0, 125.0, 125.0],\n  [92.5, 92.5, 120.0, 120.0],\n  [70.0, 70.0, 106.25, 106.25],\n  [55.0, 55.0, 88.125, 88.125],\n  [45.0, 45.0, 71.5625, 71.5625],\n  [155.0, 155.0, 165.0, 165.0],\n  [145.0, 145.0, 160.0, 160.0],\n  [195.0, 195.0, 205.0, 205.0],\n  [185.0, 185.0, 200.0, 200.0],\n  [175.0, 175.0, 192.5, 192.5],\n  [152.5, 152.5, 183.75, 183.75],\n  [135.0, 135.0, 168.125, 168.125],\n  [58.28125, 58.28125, 151.5625, 151.5625],\n  [20.0, 20.0, 104.921875, 104.921875]],\n 'dcoord': [[0.0, 26.548984914681764, 26.548984914681764, 0.0],\n  [0.0, 35.88244974914617, 35.88244974914617, 0.0],\n  [26.548984914681764,\n   64.47611592320897,\n   64.47611592320897,\n   35.88244974914617],\n  [0.0, 23.69868772738271, 23.69868772738271, 0.0],\n  [0.0, 9.185537545511423, 9.185537545511423, 0.0],\n  [0.0, 12.568033100473574, 12.568033100473574, 9.185537545511423],\n  [0.0, 21.149340415246996, 21.149340415246996, 0.0],\n  [12.568033100473574,\n   31.544445653670145,\n   31.544445653670145,\n   21.149340415246996],\n  [23.69868772738271, 34.1431525655437, 34.1431525655437, 31.544445653670145],\n  [0.0, 46.88886366146187, 46.88886366146187, 34.1431525655437],\n  [0.0, 48.616924844122366, 48.616924844122366, 46.88886366146187],\n  [0.0, 12.32609832834381, 12.32609832834381, 0.0],\n  [0.0, 21.80877463487797, 21.80877463487797, 12.32609832834381],\n  [0.0, 10.358672694896773, 10.358672694896773, 0.0],\n  [0.0, 12.493169261667187, 12.493169261667187, 10.358672694896773],\n  [0.0, 27.422886180504808, 27.422886180504808, 12.493169261667187],\n  [21.80877463487797, 31.8874573724769, 31.8874573724769, 27.422886180504808],\n  [0.0, 64.83189496310933, 64.83189496310933, 31.8874573724769],\n  [48.616924844122366,\n   67.44426021245624,\n   67.44426021245624,\n   64.83189496310933],\n  [64.47611592320897,\n   129.54527361518853,\n   129.54527361518853,\n   67.44426021245624]],\n 'ivl': ['GSK',\n  'MRK',\n  'JNJ',\n  'PFE',\n  'NVS',\n  'PHA',\n  'AVE',\n  'SGP',\n  'LLY',\n  'ABT',\n  'AZN',\n  'BMY',\n  'WYE',\n  'AGN',\n  'ELN',\n  'MRX',\n  'WPI',\n  'BAY',\n  'CHTT',\n  'AHM',\n  'IVX'],\n 'leaves': [10,\n  14,\n  12,\n  16,\n  15,\n  17,\n  4,\n  18,\n  9,\n  0,\n  3,\n  6,\n  20,\n  1,\n  8,\n  13,\n  19,\n  5,\n  7,\n  2,\n  11],\n 'color_list': ['C0',\n  'C0',\n  'C0',\n  'C0',\n  'C0',\n  'C0',\n  'C0',\n  'C0',\n  'C0',\n  'C0',\n  'C0',\n  'C0',\n  'C0',\n  'C0',\n  'C0',\n  'C0',\n  'C0',\n  'C0',\n  'C0',\n  'C0'],\n 'leaves_color_list': ['C0',\n  'C0',\n  'C0',\n  'C0',\n  'C0',\n  'C0',\n  'C0',\n  'C0',\n  'C0',\n  'C0',\n  'C0',\n  'C0',\n  'C0',\n  'C0',\n  'C0',\n  'C0',\n  'C0',\n  'C0',\n  'C0',\n  'C0',\n  'C0']}"
          },
          "metadata": {}
        },
        {
          "data": {
            "text/plain": "<Figure size 432x288 with 1 Axes>",
            "image/png": "[encoded data removed]"
          },
          "metadata": {
            "needs_background": "light"
          },
          "output_type": "display_data"
        }
      ],
      "execution_count": null
    },
    {
      "cell_type": "code",
      "source": "memb = fcluster(linkage(pharma_df[perfValues], method='average'), 4, criterion='maxclust')\nmemb = pd.Series(memb, index=pharma_df[perfValues].index)\n\nfor key, item in memb.groupby(memb):\n    print(key, ': ', ', '.join(item.index))\n",
      "metadata": {
        "tags": [],
        "cell_id": "00004-856c9056-1bf0-48e6-b194-dc7c88563924",
        "deepnote_to_be_reexecuted": false,
        "source_hash": "c86a52b9",
        "execution_millis": 0,
        "execution_start": 1616537725984,
        "deepnote_cell_type": "code"
      },
      "outputs": [
        {
          "name": "stdout",
          "text": "1 :  GSK, JNJ, MRK, PFE\n2 :  ABT, AZN, AVE, BMY, LLY, NVS, PHA, SGP, WYE\n3 :  AHM, BAY, CHTT, ELN, IVX, MRX, WPI\n4 :  AGN\n",
          "output_type": "stream"
        }
      ],
      "execution_count": null
    },
    {
      "cell_type": "code",
      "source": "# 3. Print a clustermap by setting labels as cluster membership and company name\n# \npharma_df[perfValues].index = ['{}: {}'.format(cluster, company) for cluster, company in zip(memb, pharma_df[perfValues].index)]\nsns.clustermap(pharma_df[perfValues], method='average', col_cluster=False, cmap='mako_r') ",
      "metadata": {
        "tags": [],
        "cell_id": "00005-1e804a56-a67d-49a7-b9e9-3700dd01a9bf",
        "deepnote_to_be_reexecuted": false,
        "source_hash": "11a1bdaa",
        "execution_millis": 805,
        "execution_start": 1616537774528,
        "deepnote_cell_type": "code"
      },
      "outputs": [
        {
          "output_type": "execute_result",
          "execution_count": 43,
          "data": {
            "text/plain": "<seaborn.matrix.ClusterGrid at 0x7f4024228ad0>"
          },
          "metadata": {}
        },
        {
          "data": {
            "text/plain": "<Figure size 720x720 with 4 Axes>",
            "image/png": "[encoded data removed]"
          },
          "metadata": {
            "needs_background": "light"
          },
          "output_type": "display_data"
        }
      ],
      "execution_count": null
    },
    {
      "cell_type": "code",
      "source": "# 4.\n# Run k-means clustering algorithm (use the elbow chart to determine the best number of clusters) and determine and plot the centroids. \n# Also, print the cluster membership, the within-cluster sum of squared distances (including the cluster count), and Euclidian distance\n# between cluster centroids.\n\n# Load and preprocess data\npharma_df = pd.read_csv('Pharmaceuticals.csv')\npharma_df.set_index('Symbol', inplace=True)\nperfValues = ['Market_Cap', 'Beta', 'PE_Ratio', 'ROE', 'ROA', 'Asset_Turnover', 'Leverage', 'Rev_Growth', 'Net_Profit_Margin']\npharma_df[perfValues] = pharma_df[perfValues].apply(lambda x: x.astype('float64'))\n\n# Normalize distances\npharma_df_norm = pharma_df[perfValues].apply(preprocessing.scale, axis=0)\n\ninertia = []\nfor n_clusters in range(1, 10):\n    kmeans = KMeans(n_clusters=n_clusters, random_state=0).fit(pharma_df_norm)\n    inertia.append(kmeans.inertia_ / n_clusters)\n\ninertias = pd.DataFrame({'n_clusters': range(1, 10), 'inertia': inertia})\nax = inertias.plot(x='n_clusters', y='inertia')\nplt.xlabel('Number of clusters (k)')\nplt.ylabel('Average Within-Cluster Squared Distances')\nplt.ylim((0, 1.1 * inertias.inertia.max()))\nax.legend().set_visible(False)\nplt.show() \n",
      "metadata": {
        "tags": [],
        "cell_id": "00006-080edd17-06fe-4012-b19d-fe41613c7df5",
        "deepnote_to_be_reexecuted": false,
        "source_hash": "64f23a3e",
        "execution_millis": 560,
        "execution_start": 1616538783635,
        "deepnote_cell_type": "code"
      },
      "outputs": [
        {
          "data": {
            "text/plain": "<Figure size 432x288 with 1 Axes>",
            "image/png": "[encoded data removed]"
          },
          "metadata": {
            "needs_background": "light"
          },
          "output_type": "display_data"
        }
      ],
      "execution_count": null
    },
    {
      "cell_type": "code",
      "source": "# Based on the elbow chart above, we'll stay at 4 clusters, since adding beyond brings less improvments to homogeneity\nkmeans = KMeans(n_clusters=4, random_state=0).fit(pharma_df_norm)\n\n# Cluster membership\nmemb = pd.Series(kmeans.labels_, index=pharma_df_norm.index)\nfor key, item in memb.groupby(memb):\n    print(key, ': ', ', '.join(item.index)) \n",
      "metadata": {
        "tags": [],
        "cell_id": "00007-fefff7d4-5ce4-407e-9d8e-d526266415ce",
        "deepnote_to_be_reexecuted": false,
        "source_hash": "bc9a25b1",
        "execution_millis": 5,
        "execution_start": 1616539148132,
        "deepnote_cell_type": "code"
      },
      "outputs": [
        {
          "name": "stdout",
          "text": "0 :  ABT, BMY, LLY, NVS, SGP, WYE\n1 :  AGN, AHM, BAY, PHA\n2 :  AZN, GSK, JNJ, MRK, PFE\n3 :  AVE, CHTT, ELN, IVX, MRX, WPI\n",
          "output_type": "stream"
        }
      ],
      "execution_count": null
    },
    {
      "cell_type": "code",
      "source": "# centroids\ncentroids = pd.DataFrame(kmeans.cluster_centers_, columns=pharma_df_norm.columns)\npd.set_option('precision', 3)\ncentroids\n",
      "metadata": {
        "tags": [],
        "cell_id": "00008-02728b98-b981-416d-8b19-abb37a4a18e9",
        "deepnote_to_be_reexecuted": false,
        "source_hash": "6ae0f82e",
        "execution_millis": 10,
        "execution_start": 1616539150694,
        "deepnote_cell_type": "code"
      },
      "outputs": [
        {
          "output_type": "execute_result",
          "execution_count": 69,
          "data": {
            "application/vnd.deepnote.dataframe.v2+json": {
              "row_count": 4,
              "column_count": 9,
              "columns": [
                {
                  "name": "Market_Cap",
                  "dtype": "float64",
                  "stats": {
                    "unique_count": 4,
                    "nan_count": 0,
                    "min": -0.846579701805973,
                    "max": 1.424858721225568,
                    "histogram": [
                      {
                        "bin_start": -0.846579701805973,
                        "bin_end": -0.6194358595028189,
                        "count": 2
                      },
                      {
                        "bin_start": -0.6194358595028189,
                        "bin_end": -0.39229201719966483,
                        "count": 0
                      },
                      {
                        "bin_start": -0.39229201719966483,
                        "bin_end": -0.1651481748965108,
                        "count": 0
                      },
                      {
                        "bin_start": -0.1651481748965108,
                        "bin_end": 0.06199566740664331,
                        "count": 0
                      },
                      {
                        "bin_start": 0.06199566740664331,
                        "bin_end": 0.2891395097097974,
                        "count": 1
                      },
                      {
                        "bin_start": 0.2891395097097974,
                        "bin_end": 0.5162833520129514,
                        "count": 0
                      },
                      {
                        "bin_start": 0.5162833520129514,
                        "bin_end": 0.7434271943161056,
                        "count": 0
                      },
                      {
                        "bin_start": 0.7434271943161056,
                        "bin_end": 0.9705710366192596,
                        "count": 0
                      },
                      {
                        "bin_start": 0.9705710366192596,
                        "bin_end": 1.1977148789224135,
                        "count": 0
                      },
                      {
                        "bin_start": 1.1977148789224135,
                        "bin_end": 1.424858721225568,
                        "count": 1
                      }
                    ]
                  }
                },
                {
                  "name": "Beta",
                  "dtype": "float64",
                  "stats": {
                    "unique_count": 4,
                    "nan_count": 0,
                    "min": -0.5483106621127175,
                    "max": 0.48939339859280634,
                    "histogram": [
                      {
                        "bin_start": -0.5483106621127175,
                        "bin_end": -0.4445402560421651,
                        "count": 1
                      },
                      {
                        "bin_start": -0.4445402560421651,
                        "bin_end": -0.34076984997161275,
                        "count": 0
                      },
                      {
                        "bin_start": -0.34076984997161275,
                        "bin_end": -0.2369994439010603,
                        "count": 0
                      },
                      {
                        "bin_start": -0.2369994439010603,
                        "bin_end": -0.13322903783050793,
                        "count": 1
                      },
                      {
                        "bin_start": -0.13322903783050793,
                        "bin_end": -0.029458631759955556,
                        "count": 0
                      },
                      {
                        "bin_start": -0.029458631759955556,
                        "bin_end": 0.07431177431059688,
                        "count": 0
                      },
                      {
                        "bin_start": 0.07431177431059688,
                        "bin_end": 0.1780821803811492,
                        "count": 0
                      },
                      {
                        "bin_start": 0.1780821803811492,
                        "bin_end": 0.28185258645170164,
                        "count": 1
                      },
                      {
                        "bin_start": 0.28185258645170164,
                        "bin_end": 0.38562299252225407,
                        "count": 0
                      },
                      {
                        "bin_start": 0.38562299252225407,
                        "bin_end": 0.48939339859280634,
                        "count": 1
                      }
                    ]
                  }
                },
                {
                  "name": "PE_Ratio",
                  "dtype": "float64",
                  "stats": {
                    "unique_count": 4,
                    "nan_count": 0,
                    "min": -0.3787461807341165,
                    "max": 1.3468525321208462,
                    "histogram": [
                      {
                        "bin_start": -0.3787461807341165,
                        "bin_end": -0.2061863094486202,
                        "count": 3
                      },
                      {
                        "bin_start": -0.2061863094486202,
                        "bin_end": -0.03362643816312394,
                        "count": 0
                      },
                      {
                        "bin_start": -0.03362643816312394,
                        "bin_end": 0.13893343312237227,
                        "count": 0
                      },
                      {
                        "bin_start": 0.13893343312237227,
                        "bin_end": 0.3114933044078686,
                        "count": 0
                      },
                      {
                        "bin_start": 0.3114933044078686,
                        "bin_end": 0.4840531756933649,
                        "count": 0
                      },
                      {
                        "bin_start": 0.4840531756933649,
                        "bin_end": 0.656613046978861,
                        "count": 0
                      },
                      {
                        "bin_start": 0.656613046978861,
                        "bin_end": 0.8291729182643574,
                        "count": 0
                      },
                      {
                        "bin_start": 0.8291729182643574,
                        "bin_end": 1.0017327895498536,
                        "count": 0
                      },
                      {
                        "bin_start": 1.0017327895498536,
                        "bin_end": 1.1742926608353499,
                        "count": 0
                      },
                      {
                        "bin_start": 1.1742926608353499,
                        "bin_end": 1.3468525321208462,
                        "count": 1
                      }
                    ]
                  }
                },
                {
                  "name": "ROE",
                  "dtype": "float64",
                  "stats": {
                    "unique_count": 4,
                    "nan_count": 0,
                    "min": -0.9846353031901018,
                    "max": 1.034190535926213,
                    "histogram": [
                      {
                        "bin_start": -0.9846353031901018,
                        "bin_end": -0.7827527192784703,
                        "count": 1
                      },
                      {
                        "bin_start": -0.7827527192784703,
                        "bin_end": -0.5808701353668388,
                        "count": 0
                      },
                      {
                        "bin_start": -0.5808701353668388,
                        "bin_end": -0.37898755145520746,
                        "count": 1
                      },
                      {
                        "bin_start": -0.37898755145520746,
                        "bin_end": -0.17710496754357596,
                        "count": 0
                      },
                      {
                        "bin_start": -0.17710496754357596,
                        "bin_end": 0.024777616368055533,
                        "count": 0
                      },
                      {
                        "bin_start": 0.024777616368055533,
                        "bin_end": 0.22666020027968692,
                        "count": 0
                      },
                      {
                        "bin_start": 0.22666020027968692,
                        "bin_end": 0.4285427841913185,
                        "count": 1
                      },
                      {
                        "bin_start": 0.4285427841913185,
                        "bin_end": 0.6304253681029499,
                        "count": 0
                      },
                      {
                        "bin_start": 0.6304253681029499,
                        "bin_end": 0.8323079520145813,
                        "count": 0
                      },
                      {
                        "bin_start": 0.8323079520145813,
                        "bin_end": 1.034190535926213,
                        "count": 1
                      }
                    ]
                  }
                },
                {
                  "name": "ROA",
                  "dtype": "float64",
                  "stats": {
                    "unique_count": 4,
                    "nan_count": 0,
                    "min": -1.042581485007223,
                    "max": 1.2951117760986826,
                    "histogram": [
                      {
                        "bin_start": -1.042581485007223,
                        "bin_end": -0.8088121588966325,
                        "count": 2
                      },
                      {
                        "bin_start": -0.8088121588966325,
                        "bin_end": -0.575042832786042,
                        "count": 0
                      },
                      {
                        "bin_start": -0.575042832786042,
                        "bin_end": -0.3412735066754513,
                        "count": 0
                      },
                      {
                        "bin_start": -0.3412735066754513,
                        "bin_end": -0.10750418056486077,
                        "count": 0
                      },
                      {
                        "bin_start": -0.10750418056486077,
                        "bin_end": 0.12626514554572976,
                        "count": 0
                      },
                      {
                        "bin_start": 0.12626514554572976,
                        "bin_end": 0.3600344716563204,
                        "count": 0
                      },
                      {
                        "bin_start": 0.3600344716563204,
                        "bin_end": 0.5938037977669108,
                        "count": 1
                      },
                      {
                        "bin_start": 0.5938037977669108,
                        "bin_end": 0.8275731238775015,
                        "count": 0
                      },
                      {
                        "bin_start": 0.8275731238775015,
                        "bin_end": 1.061342449988092,
                        "count": 0
                      },
                      {
                        "bin_start": 1.061342449988092,
                        "bin_end": 1.2951117760986826,
                        "count": 1
                      }
                    ]
                  }
                },
                {
                  "name": "Asset_Turnover",
                  "dtype": "float64",
                  "stats": {
                    "unique_count": 4,
                    "nan_count": 0,
                    "min": -1.0240892857794321,
                    "max": 1.134375824247986,
                    "histogram": [
                      {
                        "bin_start": -1.0240892857794321,
                        "bin_end": -0.8082427747766904,
                        "count": 1
                      },
                      {
                        "bin_start": -0.8082427747766904,
                        "bin_end": -0.5923962637739486,
                        "count": 0
                      },
                      {
                        "bin_start": -0.5923962637739486,
                        "bin_end": -0.3765497527712067,
                        "count": 0
                      },
                      {
                        "bin_start": -0.3765497527712067,
                        "bin_end": -0.16070324176846496,
                        "count": 0
                      },
                      {
                        "bin_start": -0.16070324176846496,
                        "bin_end": 0.055143269234276815,
                        "count": 1
                      },
                      {
                        "bin_start": 0.055143269234276815,
                        "bin_end": 0.2709897802370187,
                        "count": 1
                      },
                      {
                        "bin_start": 0.2709897802370187,
                        "bin_end": 0.48683629123976035,
                        "count": 0
                      },
                      {
                        "bin_start": 0.48683629123976035,
                        "bin_end": 0.7026828022425022,
                        "count": 0
                      },
                      {
                        "bin_start": 0.7026828022425022,
                        "bin_end": 0.9185293132452441,
                        "count": 0
                      },
                      {
                        "bin_start": 0.9185293132452441,
                        "bin_end": 1.134375824247986,
                        "count": 1
                      }
                    ]
                  }
                },
                {
                  "name": "Leverage",
                  "dtype": "float64",
                  "stats": {
                    "unique_count": 4,
                    "nan_count": 0,
                    "min": -0.5373437873019933,
                    "max": 0.8712163915461192,
                    "histogram": [
                      {
                        "bin_start": -0.5373437873019933,
                        "bin_end": -0.39648776941718206,
                        "count": 1
                      },
                      {
                        "bin_start": -0.39648776941718206,
                        "bin_end": -0.25563175153237083,
                        "count": 1
                      },
                      {
                        "bin_start": -0.25563175153237083,
                        "bin_end": -0.11477573364755961,
                        "count": 1
                      },
                      {
                        "bin_start": -0.11477573364755961,
                        "bin_end": 0.026080284237251616,
                        "count": 0
                      },
                      {
                        "bin_start": 0.026080284237251616,
                        "bin_end": 0.1669363021220629,
                        "count": 0
                      },
                      {
                        "bin_start": 0.1669363021220629,
                        "bin_end": 0.30779232000687407,
                        "count": 0
                      },
                      {
                        "bin_start": 0.30779232000687407,
                        "bin_end": 0.44864833789168523,
                        "count": 0
                      },
                      {
                        "bin_start": 0.44864833789168523,
                        "bin_end": 0.5895043557764965,
                        "count": 0
                      },
                      {
                        "bin_start": 0.5895043557764965,
                        "bin_end": 0.7303603736613078,
                        "count": 0
                      },
                      {
                        "bin_start": 0.7303603736613078,
                        "bin_end": 0.8712163915461192,
                        "count": 1
                      }
                    ]
                  }
                },
                {
                  "name": "Rev_Growth",
                  "dtype": "float64",
                  "stats": {
                    "unique_count": 4,
                    "nan_count": 0,
                    "min": -0.8895278404303818,
                    "max": 0.9385068571146222,
                    "histogram": [
                      {
                        "bin_start": -0.8895278404303818,
                        "bin_end": -0.7067243706758815,
                        "count": 1
                      },
                      {
                        "bin_start": -0.7067243706758815,
                        "bin_end": -0.523920900921381,
                        "count": 1
                      },
                      {
                        "bin_start": -0.523920900921381,
                        "bin_end": -0.34111743116688065,
                        "count": 0
                      },
                      {
                        "bin_start": -0.34111743116688065,
                        "bin_end": -0.1583139614123802,
                        "count": 0
                      },
                      {
                        "bin_start": -0.1583139614123802,
                        "bin_end": 0.02448950834212027,
                        "count": 0
                      },
                      {
                        "bin_start": 0.02448950834212027,
                        "bin_end": 0.2072929780966205,
                        "count": 0
                      },
                      {
                        "bin_start": 0.2072929780966205,
                        "bin_end": 0.39009644785112096,
                        "count": 0
                      },
                      {
                        "bin_start": 0.39009644785112096,
                        "bin_end": 0.5728999176056214,
                        "count": 1
                      },
                      {
                        "bin_start": 0.5728999176056214,
                        "bin_end": 0.7557033873601219,
                        "count": 0
                      },
                      {
                        "bin_start": 0.7557033873601219,
                        "bin_end": 0.9385068571146222,
                        "count": 1
                      }
                    ]
                  }
                },
                {
                  "name": "Net_Profit_Margin",
                  "dtype": "float64",
                  "stats": {
                    "unique_count": 4,
                    "nan_count": 0,
                    "min": -1.4124570107022574,
                    "max": 0.8179535202803278,
                    "histogram": [
                      {
                        "bin_start": -1.4124570107022574,
                        "bin_end": -1.1894159576039989,
                        "count": 1
                      },
                      {
                        "bin_start": -1.1894159576039989,
                        "bin_end": -0.9663749045057404,
                        "count": 0
                      },
                      {
                        "bin_start": -0.9663749045057404,
                        "bin_end": -0.7433338514074819,
                        "count": 0
                      },
                      {
                        "bin_start": -0.7433338514074819,
                        "bin_end": -0.5202927983092234,
                        "count": 0
                      },
                      {
                        "bin_start": -0.5202927983092234,
                        "bin_end": -0.29725174521096487,
                        "count": 1
                      },
                      {
                        "bin_start": -0.29725174521096487,
                        "bin_end": -0.07421069211270637,
                        "count": 0
                      },
                      {
                        "bin_start": -0.07421069211270637,
                        "bin_end": 0.14883036098555213,
                        "count": 0
                      },
                      {
                        "bin_start": 0.14883036098555213,
                        "bin_end": 0.37187141408381064,
                        "count": 0
                      },
                      {
                        "bin_start": 0.37187141408381064,
                        "bin_end": 0.5949124671820691,
                        "count": 1
                      },
                      {
                        "bin_start": 0.5949124671820691,
                        "bin_end": 0.8179535202803278,
                        "count": 1
                      }
                    ]
                  }
                },
                {
                  "name": "_deepnote_index_column",
                  "dtype": "int64"
                }
              ],
              "rows_top": [
                {
                  "Market_Cap": 0.07763925497041853,
                  "Beta": -0.5483106621127175,
                  "PE_Ratio": -0.3420981498179007,
                  "ROE": 0.3716642455208364,
                  "ROA": 0.48828024693610056,
                  "Asset_Turnover": -0.07877609890611045,
                  "Leverage": -0.1779904455846908,
                  "Rev_Growth": -0.8895278404303818,
                  "Net_Profit_Margin": 0.8179535202803278,
                  "_deepnote_index_column": 0
                },
                {
                  "Market_Cap": -0.627662731278627,
                  "Beta": 0.27653102716603223,
                  "PE_Ratio": 1.3468525321208462,
                  "ROE": -0.9846353031901018,
                  "ROA": -1.042581485007223,
                  "Asset_Turnover": 0.23632829671833017,
                  "Leverage": -0.36815918481465015,
                  "Rev_Growth": -0.5899564516393944,
                  "Net_Profit_Margin": -1.4124570107022574,
                  "_deepnote_index_column": 1
                },
                {
                  "Market_Cap": 1.424858721225568,
                  "Beta": -0.15052410550893341,
                  "PE_Ratio": -0.21246882903425723,
                  "ROE": 1.034190535926213,
                  "ROA": 1.2951117760986826,
                  "Asset_Turnover": 1.134375824247986,
                  "Leverage": -0.5373437873019933,
                  "Rev_Growth": 0.4131903412904264,
                  "Net_Profit_Margin": 0.5566545502562302,
                  "_deepnote_index_column": 2
                },
                {
                  "Market_Cap": -0.846579701805973,
                  "Beta": 0.48939339859280634,
                  "PE_Ratio": -0.3787461807341165,
                  "ROE": -0.5770661566659467,
                  "ROA": -0.8724857370135203,
                  "Asset_Turnover": -1.0240892857794321,
                  "Leverage": 0.8712163915461192,
                  "Rev_Growth": 0.9385068571146222,
                  "Net_Profit_Margin": -0.3401943050256819,
                  "_deepnote_index_column": 3
                }
              ],
              "rows_bottom": null
            },
            "text/plain": "   Market_Cap   Beta  PE_Ratio    ROE    ROA  Asset_Turnover  Leverage  \\\n0       0.078 -0.548    -0.342  0.372  0.488          -0.079    -0.178   \n1      -0.628  0.277     1.347 -0.985 -1.043           0.236    -0.368   \n2       1.425 -0.151    -0.212  1.034  1.295           1.134    -0.537   \n3      -0.847  0.489    -0.379 -0.577 -0.872          -1.024     0.871   \n\n   Rev_Growth  Net_Profit_Margin  \n0      -0.890              0.818  \n1      -0.590             -1.412  \n2       0.413              0.557  \n3       0.939             -0.340  ",
            "text/html": "<div>\n<style scoped>\n    .dataframe tbody tr th:only-of-type {\n        vertical-align: middle;\n    }\n\n    .dataframe tbody tr th {\n        vertical-align: top;\n    }\n\n    .dataframe thead th {\n        text-align: right;\n    }\n</style>\n<table border=\"1\" class=\"dataframe\">\n  <thead>\n    <tr style=\"text-align: right;\">\n      <th></th>\n      <th>Market_Cap</th>\n      <th>Beta</th>\n      <th>PE_Ratio</th>\n      <th>ROE</th>\n      <th>ROA</th>\n      <th>Asset_Turnover</th>\n      <th>Leverage</th>\n      <th>Rev_Growth</th>\n      <th>Net_Profit_Margin</th>\n    </tr>\n  </thead>\n  <tbody>\n    <tr>\n      <th>0</th>\n      <td>0.078</td>\n      <td>-0.548</td>\n      <td>-0.342</td>\n      <td>0.372</td>\n      <td>0.488</td>\n      <td>-0.079</td>\n      <td>-0.178</td>\n      <td>-0.890</td>\n      <td>0.818</td>\n    </tr>\n    <tr>\n      <th>1</th>\n      <td>-0.628</td>\n      <td>0.277</td>\n      <td>1.347</td>\n      <td>-0.985</td>\n      <td>-1.043</td>\n      <td>0.236</td>\n      <td>-0.368</td>\n      <td>-0.590</td>\n      <td>-1.412</td>\n    </tr>\n    <tr>\n      <th>2</th>\n      <td>1.425</td>\n      <td>-0.151</td>\n      <td>-0.212</td>\n      <td>1.034</td>\n      <td>1.295</td>\n      <td>1.134</td>\n      <td>-0.537</td>\n      <td>0.413</td>\n      <td>0.557</td>\n    </tr>\n    <tr>\n      <th>3</th>\n      <td>-0.847</td>\n      <td>0.489</td>\n      <td>-0.379</td>\n      <td>-0.577</td>\n      <td>-0.872</td>\n      <td>-1.024</td>\n      <td>0.871</td>\n      <td>0.939</td>\n      <td>-0.340</td>\n    </tr>\n  </tbody>\n</table>\n</div>"
          },
          "metadata": {}
        }
      ],
      "execution_count": null
    },
    {
      "cell_type": "code",
      "source": "# calculate the distances of each data point to the cluster centers\ndistances = kmeans.transform(pharma_df_norm)\n# find closest cluster for each data point\nminSquaredDistances = distances.min(axis=1) ** 2\n# combine with cluster labels into a data frame\ndf = pd.DataFrame({'squaredDistance': minSquaredDistances, 'cluster': kmeans.labels_},index=pharma_df_norm.index)\n# group by cluster and print information\nfor cluster, data in df.groupby('cluster'):\n    count = len(data)\n    withinClustSS = data.squaredDistance.sum()\n    print(f'Cluster {cluster} ({count} members): {withinClustSS:.2f} within cluster ') \n",
      "metadata": {
        "tags": [],
        "cell_id": "00009-7e9d0c26-a7f8-4910-97ad-7671a6ea1a7c",
        "deepnote_to_be_reexecuted": false,
        "source_hash": "43ed2431",
        "execution_millis": 7,
        "execution_start": 1616539152907,
        "deepnote_cell_type": "code"
      },
      "outputs": [
        {
          "name": "stdout",
          "text": "Cluster 0 (6 members): 14.70 within cluster \nCluster 1 (4 members): 21.57 within cluster \nCluster 2 (5 members): 13.20 within cluster \nCluster 3 (6 members): 33.75 within cluster \n",
          "output_type": "stream"
        }
      ],
      "execution_count": null
    },
    {
      "cell_type": "code",
      "source": "pd.DataFrame(pairwise.pairwise_distances(kmeans.cluster_centers_, metric='euclidean'))",
      "metadata": {
        "tags": [],
        "cell_id": "00010-ddb22d8d-33c6-4f65-aecd-f1e119e3a541",
        "deepnote_to_be_reexecuted": false,
        "source_hash": "cda65c11",
        "execution_start": 1616539202146,
        "execution_millis": 8,
        "deepnote_cell_type": "code"
      },
      "outputs": [
        {
          "output_type": "execute_result",
          "execution_count": 71,
          "data": {
            "application/vnd.deepnote.dataframe.v2+json": {
              "row_count": 4,
              "column_count": 4,
              "columns": [
                {
                  "name": 0,
                  "dtype": "float64",
                  "stats": {
                    "unique_count": 4,
                    "nan_count": 0,
                    "min": 0,
                    "max": 3.662428743550483,
                    "histogram": [
                      {
                        "bin_start": 0,
                        "bin_end": 0.3662428743550483,
                        "count": 1
                      },
                      {
                        "bin_start": 0.3662428743550483,
                        "bin_end": 0.7324857487100966,
                        "count": 0
                      },
                      {
                        "bin_start": 0.7324857487100966,
                        "bin_end": 1.098728623065145,
                        "count": 0
                      },
                      {
                        "bin_start": 1.098728623065145,
                        "bin_end": 1.4649714974201933,
                        "count": 0
                      },
                      {
                        "bin_start": 1.4649714974201933,
                        "bin_end": 1.8312143717752416,
                        "count": 0
                      },
                      {
                        "bin_start": 1.8312143717752416,
                        "bin_end": 2.19745724613029,
                        "count": 0
                      },
                      {
                        "bin_start": 2.19745724613029,
                        "bin_end": 2.563700120485338,
                        "count": 1
                      },
                      {
                        "bin_start": 2.563700120485338,
                        "bin_end": 2.9299429948403866,
                        "count": 0
                      },
                      {
                        "bin_start": 2.9299429948403866,
                        "bin_end": 3.296185869195435,
                        "count": 0
                      },
                      {
                        "bin_start": 3.296185869195435,
                        "bin_end": 3.662428743550483,
                        "count": 2
                      }
                    ]
                  }
                },
                {
                  "name": 1,
                  "dtype": "float64",
                  "stats": {
                    "unique_count": 4,
                    "nan_count": 0,
                    "min": 0,
                    "max": 4.699573137794422,
                    "histogram": [
                      {
                        "bin_start": 0,
                        "bin_end": 0.4699573137794422,
                        "count": 1
                      },
                      {
                        "bin_start": 0.4699573137794422,
                        "bin_end": 0.9399146275588844,
                        "count": 0
                      },
                      {
                        "bin_start": 0.9399146275588844,
                        "bin_end": 1.4098719413383267,
                        "count": 0
                      },
                      {
                        "bin_start": 1.4098719413383267,
                        "bin_end": 1.8798292551177689,
                        "count": 0
                      },
                      {
                        "bin_start": 1.8798292551177689,
                        "bin_end": 2.349786568897211,
                        "count": 0
                      },
                      {
                        "bin_start": 2.349786568897211,
                        "bin_end": 2.8197438826766534,
                        "count": 0
                      },
                      {
                        "bin_start": 2.8197438826766534,
                        "bin_end": 3.2897011964560954,
                        "count": 1
                      },
                      {
                        "bin_start": 3.2897011964560954,
                        "bin_end": 3.7596585102355378,
                        "count": 1
                      },
                      {
                        "bin_start": 3.7596585102355378,
                        "bin_end": 4.22961582401498,
                        "count": 0
                      },
                      {
                        "bin_start": 4.22961582401498,
                        "bin_end": 4.699573137794422,
                        "count": 1
                      }
                    ]
                  }
                },
                {
                  "name": 2,
                  "dtype": "float64",
                  "stats": {
                    "unique_count": 4,
                    "nan_count": 0,
                    "min": 0,
                    "max": 4.699573137794422,
                    "histogram": [
                      {
                        "bin_start": 0,
                        "bin_end": 0.4699573137794422,
                        "count": 1
                      },
                      {
                        "bin_start": 0.4699573137794422,
                        "bin_end": 0.9399146275588844,
                        "count": 0
                      },
                      {
                        "bin_start": 0.9399146275588844,
                        "bin_end": 1.4098719413383267,
                        "count": 0
                      },
                      {
                        "bin_start": 1.4098719413383267,
                        "bin_end": 1.8798292551177689,
                        "count": 0
                      },
                      {
                        "bin_start": 1.8798292551177689,
                        "bin_end": 2.349786568897211,
                        "count": 0
                      },
                      {
                        "bin_start": 2.349786568897211,
                        "bin_end": 2.8197438826766534,
                        "count": 1
                      },
                      {
                        "bin_start": 2.8197438826766534,
                        "bin_end": 3.2897011964560954,
                        "count": 0
                      },
                      {
                        "bin_start": 3.2897011964560954,
                        "bin_end": 3.7596585102355378,
                        "count": 0
                      },
                      {
                        "bin_start": 3.7596585102355378,
                        "bin_end": 4.22961582401498,
                        "count": 0
                      },
                      {
                        "bin_start": 4.22961582401498,
                        "bin_end": 4.699573137794422,
                        "count": 2
                      }
                    ]
                  }
                },
                {
                  "name": 3,
                  "dtype": "float64",
                  "stats": {
                    "unique_count": 4,
                    "nan_count": 0,
                    "min": 0,
                    "max": 4.5403205731866345,
                    "histogram": [
                      {
                        "bin_start": 0,
                        "bin_end": 0.4540320573186635,
                        "count": 1
                      },
                      {
                        "bin_start": 0.4540320573186635,
                        "bin_end": 0.908064114637327,
                        "count": 0
                      },
                      {
                        "bin_start": 0.908064114637327,
                        "bin_end": 1.3620961719559905,
                        "count": 0
                      },
                      {
                        "bin_start": 1.3620961719559905,
                        "bin_end": 1.816128229274654,
                        "count": 0
                      },
                      {
                        "bin_start": 1.816128229274654,
                        "bin_end": 2.2701602865933173,
                        "count": 0
                      },
                      {
                        "bin_start": 2.2701602865933173,
                        "bin_end": 2.724192343911981,
                        "count": 0
                      },
                      {
                        "bin_start": 2.724192343911981,
                        "bin_end": 3.1782244012306444,
                        "count": 1
                      },
                      {
                        "bin_start": 3.1782244012306444,
                        "bin_end": 3.632256458549308,
                        "count": 1
                      },
                      {
                        "bin_start": 3.632256458549308,
                        "bin_end": 4.086288515867971,
                        "count": 0
                      },
                      {
                        "bin_start": 4.086288515867971,
                        "bin_end": 4.5403205731866345,
                        "count": 1
                      }
                    ]
                  }
                },
                {
                  "name": "_deepnote_index_column",
                  "dtype": "int64"
                }
              ],
              "rows_top": [
                {
                  "0": 0,
                  "1": 3.662428743550483,
                  "2": 2.5389329694154927,
                  "3": 3.3706966882227203,
                  "_deepnote_index_column": 0
                },
                {
                  "0": 3.662428743550483,
                  "1": 0,
                  "2": 4.699573137794422,
                  "3": 3.1427094707252516,
                  "_deepnote_index_column": 1
                },
                {
                  "0": 2.5389329694154927,
                  "1": 4.699573137794422,
                  "2": 0,
                  "3": 4.5403205731866345,
                  "_deepnote_index_column": 2
                },
                {
                  "0": 3.3706966882227203,
                  "1": 3.1427094707252516,
                  "2": 4.5403205731866345,
                  "3": 0,
                  "_deepnote_index_column": 3
                }
              ],
              "rows_bottom": null
            },
            "text/plain": "       0      1      2      3\n0  0.000  3.662  2.539  3.371\n1  3.662  0.000  4.700  3.143\n2  2.539  4.700  0.000  4.540\n3  3.371  3.143  4.540  0.000",
            "text/html": "<div>\n<style scoped>\n    .dataframe tbody tr th:only-of-type {\n        vertical-align: middle;\n    }\n\n    .dataframe tbody tr th {\n        vertical-align: top;\n    }\n\n    .dataframe thead th {\n        text-align: right;\n    }\n</style>\n<table border=\"1\" class=\"dataframe\">\n  <thead>\n    <tr style=\"text-align: right;\">\n      <th></th>\n      <th>0</th>\n      <th>1</th>\n      <th>2</th>\n      <th>3</th>\n    </tr>\n  </thead>\n  <tbody>\n    <tr>\n      <th>0</th>\n      <td>0.000</td>\n      <td>3.662</td>\n      <td>2.539</td>\n      <td>3.371</td>\n    </tr>\n    <tr>\n      <th>1</th>\n      <td>3.662</td>\n      <td>0.000</td>\n      <td>4.700</td>\n      <td>3.143</td>\n    </tr>\n    <tr>\n      <th>2</th>\n      <td>2.539</td>\n      <td>4.700</td>\n      <td>0.000</td>\n      <td>4.540</td>\n    </tr>\n    <tr>\n      <th>3</th>\n      <td>3.371</td>\n      <td>3.143</td>\n      <td>4.540</td>\n      <td>0.000</td>\n    </tr>\n  </tbody>\n</table>\n</div>"
          },
          "metadata": {}
        }
      ],
      "execution_count": null
    },
    {
      "cell_type": "code",
      "source": "# 5.\n# To check the clusters' stability, remove a random 5% of the data (by taking a random sample of 95% of the records), and repeat the analysis.\n# Does the same picture emerge? Briefly discuss the results from your clustering analysis. What can you conclude?\n\n# Load and preprocess data\npharma_df = pd.read_csv('Pharmaceuticals.csv')\npharma_df.set_index('Symbol', inplace=True)\nperfValues = ['Market_Cap', 'Beta', 'PE_Ratio', 'ROE', 'ROA', 'Asset_Turnover', 'Leverage', 'Rev_Growth', 'Net_Profit_Margin']\npharma_df[perfValues] = pharma_df[perfValues].apply(lambda x: x.astype('float64'))\n\n# Normalize distances\npharma_df_norm = pharma_df[perfValues].apply(preprocessing.scale, axis=0)\n\n# Remove 5%\nremove_n = int(.05 * len(pharma_df_norm))\ndrop_indices = np.random.choice(pharma_df_norm.index, remove_n, replace=False)\npharma_df_norm = pharma_df_norm.drop(drop_indices)\n\ninertia = []\nfor n_clusters in range(1, 10):\n    kmeans = KMeans(n_clusters=n_clusters, random_state=0).fit(pharma_df_norm)\n    inertia.append(kmeans.inertia_ / n_clusters)\n\ninertias = pd.DataFrame({'n_clusters': range(1, 10), 'inertia': inertia})\nax = inertias.plot(x='n_clusters', y='inertia')\nplt.xlabel('Number of clusters (k)')\nplt.ylabel('Average Within-Cluster Squared Distances')\nplt.ylim((0, 1.1 * inertias.inertia.max()))\nax.legend().set_visible(False)\nplt.show() ",
      "metadata": {
        "tags": [],
        "cell_id": "00011-11a57c04-1f4b-4040-9b70-1a94c7972bbb",
        "deepnote_to_be_reexecuted": false,
        "source_hash": "4061dfca",
        "execution_millis": 447,
        "execution_start": 1616539631065,
        "deepnote_cell_type": "code"
      },
      "outputs": [
        {
          "data": {
            "text/plain": "<Figure size 432x288 with 1 Axes>",
            "image/png": "[encoded data removed]"
          },
          "metadata": {
            "needs_background": "light"
          },
          "output_type": "display_data"
        }
      ],
      "execution_count": null
    },
    {
      "cell_type": "code",
      "source": "# The elbow chart looks very similar. We stay with 4 clusters.\nkmeans = KMeans(n_clusters=4, random_state=0).fit(pharma_df_norm)\n\n# Cluster membership\nmemb = pd.Series(kmeans.labels_, index=pharma_df_norm.index)\nfor key, item in memb.groupby(memb):\n    print(key, ': ', ', '.join(item.index)) ",
      "metadata": {
        "tags": [],
        "cell_id": "00012-ad384bcd-6c95-4d9b-89ef-2d7772fedba6",
        "deepnote_to_be_reexecuted": false,
        "source_hash": "2e2a90e3",
        "execution_start": 1616539679253,
        "execution_millis": 80,
        "deepnote_cell_type": "code"
      },
      "outputs": [
        {
          "name": "stdout",
          "text": "0 :  CHTT, ELN, IVX, MRX\n1 :  ABT, AHM, AZN, AVE, BMY, LLY, SGP, WPI, WYE\n2 :  AGN, BAY, PHA\n3 :  GSK, JNJ, MRK, PFE\n",
          "output_type": "stream"
        }
      ],
      "execution_count": null
    },
    {
      "cell_type": "code",
      "source": "# centroids\ncentroids = pd.DataFrame(kmeans.cluster_centers_, columns=pharma_df_norm.columns)\npd.set_option('precision', 3)\ncentroids",
      "metadata": {
        "tags": [],
        "cell_id": "00013-6c94c866-8196-4430-bea7-27865871baf9",
        "deepnote_to_be_reexecuted": false,
        "source_hash": "532c7eff",
        "execution_start": 1616539713563,
        "execution_millis": 49,
        "deepnote_cell_type": "code"
      },
      "outputs": [
        {
          "output_type": "execute_result",
          "execution_count": 84,
          "data": {
            "application/vnd.deepnote.dataframe.v2+json": {
              "row_count": 4,
              "column_count": 9,
              "columns": [
                {
                  "name": "Market_Cap",
                  "dtype": "float64",
                  "stats": {
                    "unique_count": 4,
                    "nan_count": 0,
                    "min": -0.9862441828033512,
                    "max": 1.7374536206347233,
                    "histogram": [
                      {
                        "bin_start": -0.9862441828033512,
                        "bin_end": -0.7138744024595438,
                        "count": 1
                      },
                      {
                        "bin_start": -0.7138744024595438,
                        "bin_end": -0.44150462211573627,
                        "count": 1
                      },
                      {
                        "bin_start": -0.44150462211573627,
                        "bin_end": -0.16913484177192872,
                        "count": 1
                      },
                      {
                        "bin_start": -0.16913484177192872,
                        "bin_end": 0.10323493857187871,
                        "count": 0
                      },
                      {
                        "bin_start": 0.10323493857187871,
                        "bin_end": 0.37560471891568614,
                        "count": 0
                      },
                      {
                        "bin_start": 0.37560471891568614,
                        "bin_end": 0.6479744992594938,
                        "count": 0
                      },
                      {
                        "bin_start": 0.6479744992594938,
                        "bin_end": 0.9203442796033012,
                        "count": 0
                      },
                      {
                        "bin_start": 0.9203442796033012,
                        "bin_end": 1.1927140599471087,
                        "count": 0
                      },
                      {
                        "bin_start": 1.1927140599471087,
                        "bin_end": 1.4650838402909163,
                        "count": 0
                      },
                      {
                        "bin_start": 1.4650838402909163,
                        "bin_end": 1.7374536206347233,
                        "count": 1
                      }
                    ]
                  }
                },
                {
                  "name": "Beta",
                  "dtype": "float64",
                  "stats": {
                    "unique_count": 4,
                    "nan_count": 0,
                    "min": -0.4662699564586482,
                    "max": 1.2244337749258856,
                    "histogram": [
                      {
                        "bin_start": -0.4662699564586482,
                        "bin_end": -0.2971995833201948,
                        "count": 1
                      },
                      {
                        "bin_start": -0.2971995833201948,
                        "bin_end": -0.12812921018174145,
                        "count": 1
                      },
                      {
                        "bin_start": -0.12812921018174145,
                        "bin_end": 0.04094116295671191,
                        "count": 0
                      },
                      {
                        "bin_start": 0.04094116295671191,
                        "bin_end": 0.21001153609516532,
                        "count": 0
                      },
                      {
                        "bin_start": 0.21001153609516532,
                        "bin_end": 0.37908190923361873,
                        "count": 0
                      },
                      {
                        "bin_start": 0.37908190923361873,
                        "bin_end": 0.548152282372072,
                        "count": 1
                      },
                      {
                        "bin_start": 0.548152282372072,
                        "bin_end": 0.7172226555105256,
                        "count": 0
                      },
                      {
                        "bin_start": 0.7172226555105256,
                        "bin_end": 0.8862930286489789,
                        "count": 0
                      },
                      {
                        "bin_start": 0.8862930286489789,
                        "bin_end": 1.055363401787432,
                        "count": 0
                      },
                      {
                        "bin_start": 1.055363401787432,
                        "bin_end": 1.2244337749258856,
                        "count": 1
                      }
                    ]
                  }
                },
                {
                  "name": "PE_Ratio",
                  "dtype": "float64",
                  "stats": {
                    "unique_count": 4,
                    "nan_count": 0,
                    "min": -0.3729872044472826,
                    "max": 1.8955259092664773,
                    "histogram": [
                      {
                        "bin_start": -0.3729872044472826,
                        "bin_end": -0.14613589307590663,
                        "count": 3
                      },
                      {
                        "bin_start": -0.14613589307590663,
                        "bin_end": 0.08071541829546935,
                        "count": 0
                      },
                      {
                        "bin_start": 0.08071541829546935,
                        "bin_end": 0.3075667296668454,
                        "count": 0
                      },
                      {
                        "bin_start": 0.3075667296668454,
                        "bin_end": 0.5344180410382213,
                        "count": 0
                      },
                      {
                        "bin_start": 0.5344180410382213,
                        "bin_end": 0.7612693524095973,
                        "count": 0
                      },
                      {
                        "bin_start": 0.7612693524095973,
                        "bin_end": 0.9881206637809734,
                        "count": 0
                      },
                      {
                        "bin_start": 0.9881206637809734,
                        "bin_end": 1.2149719751523493,
                        "count": 0
                      },
                      {
                        "bin_start": 1.2149719751523493,
                        "bin_end": 1.4418232865237253,
                        "count": 0
                      },
                      {
                        "bin_start": 1.4418232865237253,
                        "bin_end": 1.6686745978951014,
                        "count": 0
                      },
                      {
                        "bin_start": 1.6686745978951014,
                        "bin_end": 1.8955259092664773,
                        "count": 1
                      }
                    ]
                  }
                },
                {
                  "name": "ROE",
                  "dtype": "float64",
                  "stats": {
                    "unique_count": 4,
                    "nan_count": 0,
                    "min": -1.0661491324949328,
                    "max": 1.265486026578671,
                    "histogram": [
                      {
                        "bin_start": -1.0661491324949328,
                        "bin_end": -0.8329856165875724,
                        "count": 1
                      },
                      {
                        "bin_start": -0.8329856165875724,
                        "bin_end": -0.5998221006802121,
                        "count": 0
                      },
                      {
                        "bin_start": -0.5998221006802121,
                        "bin_end": -0.36665858477285185,
                        "count": 1
                      },
                      {
                        "bin_start": -0.36665858477285185,
                        "bin_end": -0.13349506886549145,
                        "count": 0
                      },
                      {
                        "bin_start": -0.13349506886549145,
                        "bin_end": 0.09966844704186895,
                        "count": 1
                      },
                      {
                        "bin_start": 0.09966844704186895,
                        "bin_end": 0.3328319629492291,
                        "count": 0
                      },
                      {
                        "bin_start": 0.3328319629492291,
                        "bin_end": 0.5659954788565895,
                        "count": 0
                      },
                      {
                        "bin_start": 0.5659954788565895,
                        "bin_end": 0.7991589947639499,
                        "count": 0
                      },
                      {
                        "bin_start": 0.7991589947639499,
                        "bin_end": 1.03232251067131,
                        "count": 0
                      },
                      {
                        "bin_start": 1.03232251067131,
                        "bin_end": 1.265486026578671,
                        "count": 1
                      }
                    ]
                  }
                },
                {
                  "name": "ROA",
                  "dtype": "float64",
                  "stats": {
                    "unique_count": 4,
                    "nan_count": 0,
                    "min": -1.2158865867366557,
                    "max": 1.383689939204837,
                    "histogram": [
                      {
                        "bin_start": -1.2158865867366557,
                        "bin_end": -0.9559289341425065,
                        "count": 2
                      },
                      {
                        "bin_start": -0.9559289341425065,
                        "bin_end": -0.6959712815483572,
                        "count": 0
                      },
                      {
                        "bin_start": -0.6959712815483572,
                        "bin_end": -0.4360136289542079,
                        "count": 0
                      },
                      {
                        "bin_start": -0.4360136289542079,
                        "bin_end": -0.17605597636005865,
                        "count": 0
                      },
                      {
                        "bin_start": -0.17605597636005865,
                        "bin_end": 0.08390167623409073,
                        "count": 0
                      },
                      {
                        "bin_start": 0.08390167623409073,
                        "bin_end": 0.3438593288282399,
                        "count": 1
                      },
                      {
                        "bin_start": 0.3438593288282399,
                        "bin_end": 0.603816981422389,
                        "count": 0
                      },
                      {
                        "bin_start": 0.603816981422389,
                        "bin_end": 0.8637746340165384,
                        "count": 0
                      },
                      {
                        "bin_start": 0.8637746340165384,
                        "bin_end": 1.1237322866106878,
                        "count": 0
                      },
                      {
                        "bin_start": 1.1237322866106878,
                        "bin_end": 1.383689939204837,
                        "count": 1
                      }
                    ]
                  }
                },
                {
                  "name": "Asset_Turnover",
                  "dtype": "float64",
                  "stats": {
                    "unique_count": 4,
                    "nan_count": 0,
                    "min": -1.1816414835916524,
                    "max": 1.181641483591652,
                    "histogram": [
                      {
                        "bin_start": -1.1816414835916524,
                        "bin_end": -0.945313186873322,
                        "count": 1
                      },
                      {
                        "bin_start": -0.945313186873322,
                        "bin_end": -0.7089848901549916,
                        "count": 0
                      },
                      {
                        "bin_start": -0.7089848901549916,
                        "bin_end": -0.4726565934366611,
                        "count": 0
                      },
                      {
                        "bin_start": -0.4726565934366611,
                        "bin_end": -0.23632829671833067,
                        "count": 0
                      },
                      {
                        "bin_start": -0.23632829671833067,
                        "bin_end": -2.220446049250313e-16,
                        "count": 1
                      },
                      {
                        "bin_start": -2.220446049250313e-16,
                        "bin_end": 0.23632829671833022,
                        "count": 1
                      },
                      {
                        "bin_start": 0.23632829671833022,
                        "bin_end": 0.47265659343666067,
                        "count": 0
                      },
                      {
                        "bin_start": 0.47265659343666067,
                        "bin_end": 0.7089848901549911,
                        "count": 0
                      },
                      {
                        "bin_start": 0.7089848901549911,
                        "bin_end": 0.9453131868733213,
                        "count": 0
                      },
                      {
                        "bin_start": 0.9453131868733213,
                        "bin_end": 1.181641483591652,
                        "count": 1
                      }
                    ]
                  }
                },
                {
                  "name": "Leverage",
                  "dtype": "float64",
                  "stats": {
                    "unique_count": 4,
                    "nan_count": 0,
                    "min": -0.47963741125979864,
                    "max": 1.5138555792887405,
                    "histogram": [
                      {
                        "bin_start": -0.47963741125979864,
                        "bin_end": -0.28028811220494476,
                        "count": 2
                      },
                      {
                        "bin_start": -0.28028811220494476,
                        "bin_end": -0.08093881315009083,
                        "count": 1
                      },
                      {
                        "bin_start": -0.08093881315009083,
                        "bin_end": 0.11841048590476311,
                        "count": 0
                      },
                      {
                        "bin_start": 0.11841048590476311,
                        "bin_end": 0.317759784959617,
                        "count": 0
                      },
                      {
                        "bin_start": 0.317759784959617,
                        "bin_end": 0.5171090840144709,
                        "count": 0
                      },
                      {
                        "bin_start": 0.5171090840144709,
                        "bin_end": 0.7164583830693249,
                        "count": 0
                      },
                      {
                        "bin_start": 0.7164583830693249,
                        "bin_end": 0.9158076821241786,
                        "count": 0
                      },
                      {
                        "bin_start": 0.9158076821241786,
                        "bin_end": 1.1151569811790325,
                        "count": 0
                      },
                      {
                        "bin_start": 1.1151569811790325,
                        "bin_end": 1.3145062802338865,
                        "count": 0
                      },
                      {
                        "bin_start": 1.3145062802338865,
                        "bin_end": 1.5138555792887405,
                        "count": 1
                      }
                    ]
                  }
                },
                {
                  "name": "Rev_Growth",
                  "dtype": "float64",
                  "stats": {
                    "unique_count": 4,
                    "nan_count": 0,
                    "min": -0.591193072439357,
                    "max": 0.7295952307209075,
                    "histogram": [
                      {
                        "bin_start": -0.591193072439357,
                        "bin_end": -0.4591142421233306,
                        "count": 1
                      },
                      {
                        "bin_start": -0.4591142421233306,
                        "bin_end": -0.3270354118073041,
                        "count": 0
                      },
                      {
                        "bin_start": -0.3270354118073041,
                        "bin_end": -0.19495658149127765,
                        "count": 0
                      },
                      {
                        "bin_start": -0.19495658149127765,
                        "bin_end": -0.06287775117525118,
                        "count": 1
                      },
                      {
                        "bin_start": -0.06287775117525118,
                        "bin_end": 0.06920107914077533,
                        "count": 0
                      },
                      {
                        "bin_start": 0.06920107914077533,
                        "bin_end": 0.20127990945680174,
                        "count": 0
                      },
                      {
                        "bin_start": 0.20127990945680174,
                        "bin_end": 0.33335873977282815,
                        "count": 0
                      },
                      {
                        "bin_start": 0.33335873977282815,
                        "bin_end": 0.46543757008885467,
                        "count": 0
                      },
                      {
                        "bin_start": 0.46543757008885467,
                        "bin_end": 0.5975164004048812,
                        "count": 1
                      },
                      {
                        "bin_start": 0.5975164004048812,
                        "bin_end": 0.7295952307209075,
                        "count": 1
                      }
                    ]
                  }
                },
                {
                  "name": "Net_Profit_Margin",
                  "dtype": "float64",
                  "stats": {
                    "unique_count": 4,
                    "nan_count": 0,
                    "min": -1.6492917345288796,
                    "max": 0.6058433005894518,
                    "histogram": [
                      {
                        "bin_start": -1.6492917345288796,
                        "bin_end": -1.4237782310170464,
                        "count": 1
                      },
                      {
                        "bin_start": -1.4237782310170464,
                        "bin_end": -1.1982647275052134,
                        "count": 0
                      },
                      {
                        "bin_start": -1.1982647275052134,
                        "bin_end": -0.9727512239933802,
                        "count": 0
                      },
                      {
                        "bin_start": -0.9727512239933802,
                        "bin_end": -0.747237720481547,
                        "count": 0
                      },
                      {
                        "bin_start": -0.747237720481547,
                        "bin_end": -0.5217242169697138,
                        "count": 0
                      },
                      {
                        "bin_start": -0.5217242169697138,
                        "bin_end": -0.29621071345788086,
                        "count": 1
                      },
                      {
                        "bin_start": -0.29621071345788086,
                        "bin_end": -0.07069720994604767,
                        "count": 0
                      },
                      {
                        "bin_start": -0.07069720994604767,
                        "bin_end": 0.15481629356578552,
                        "count": 0
                      },
                      {
                        "bin_start": 0.15481629356578552,
                        "bin_end": 0.3803297970776185,
                        "count": 1
                      },
                      {
                        "bin_start": 0.3803297970776185,
                        "bin_end": 0.6058433005894518,
                        "count": 1
                      }
                    ]
                  }
                },
                {
                  "name": "_deepnote_index_column",
                  "dtype": "int64"
                }
              ],
              "rows_top": [
                {
                  "Market_Cap": -0.9862441828033512,
                  "Beta": 1.2244337749258856,
                  "PE_Ratio": -0.3729872044472826,
                  "ROE": -0.5329128324591633,
                  "ROA": -0.9848131177640788,
                  "Asset_Turnover": -1.1816414835916524,
                  "Leverage": 1.5138555792887405,
                  "Rev_Growth": 0.7295952307209075,
                  "Net_Profit_Margin": -0.37793170607497883,
                  "_deepnote_index_column": 0
                },
                {
                  "Market_Cap": -0.23044344472228565,
                  "Beta": -0.4662699564586482,
                  "PE_Ratio": -0.3487296982694064,
                  "ROE": 0.08938487366892163,
                  "ROA": 0.21334561024187684,
                  "Asset_Turnover": 0.1050347985414799,
                  "Leverage": -0.265424348678925,
                  "Rev_Growth": -0.17445186285189462,
                  "Net_Profit_Margin": 0.332138702174436,
                  "_deepnote_index_column": 1
                },
                {
                  "Market_Cap": -0.5375838766593476,
                  "Beta": 0.45613365305737275,
                  "PE_Ratio": 1.8955259092664773,
                  "ROE": -1.0661491324949328,
                  "ROA": -1.2158865867366557,
                  "Asset_Turnover": -3.3306690738754696e-16,
                  "Leverage": -0.3528582517731592,
                  "Rev_Growth": -0.591193072439357,
                  "Net_Profit_Margin": -1.6492917345288796,
                  "_deepnote_index_column": 2
                },
                {
                  "Market_Cap": 1.7374536206347233,
                  "Beta": -0.18245346122294953,
                  "PE_Ratio": -0.20335917563508363,
                  "ROE": 1.265486026578671,
                  "ROA": 1.383689939204837,
                  "Asset_Turnover": 1.181641483591652,
                  "Leverage": -0.47963741125979864,
                  "Rev_Growth": 0.47871578592845515,
                  "Net_Profit_Margin": 0.6058433005894518,
                  "_deepnote_index_column": 3
                }
              ],
              "rows_bottom": null
            },
            "text/plain": "   Market_Cap   Beta  PE_Ratio    ROE    ROA  Asset_Turnover  Leverage  \\\n0      -0.986  1.224    -0.373 -0.533 -0.985      -1.182e+00     1.514   \n1      -0.230 -0.466    -0.349  0.089  0.213       1.050e-01    -0.265   \n2      -0.538  0.456     1.896 -1.066 -1.216      -3.331e-16    -0.353   \n3       1.737 -0.182    -0.203  1.265  1.384       1.182e+00    -0.480   \n\n   Rev_Growth  Net_Profit_Margin  \n0       0.730             -0.378  \n1      -0.174              0.332  \n2      -0.591             -1.649  \n3       0.479              0.606  ",
            "text/html": "<div>\n<style scoped>\n    .dataframe tbody tr th:only-of-type {\n        vertical-align: middle;\n    }\n\n    .dataframe tbody tr th {\n        vertical-align: top;\n    }\n\n    .dataframe thead th {\n        text-align: right;\n    }\n</style>\n<table border=\"1\" class=\"dataframe\">\n  <thead>\n    <tr style=\"text-align: right;\">\n      <th></th>\n      <th>Market_Cap</th>\n      <th>Beta</th>\n      <th>PE_Ratio</th>\n      <th>ROE</th>\n      <th>ROA</th>\n      <th>Asset_Turnover</th>\n      <th>Leverage</th>\n      <th>Rev_Growth</th>\n      <th>Net_Profit_Margin</th>\n    </tr>\n  </thead>\n  <tbody>\n    <tr>\n      <th>0</th>\n      <td>-0.986</td>\n      <td>1.224</td>\n      <td>-0.373</td>\n      <td>-0.533</td>\n      <td>-0.985</td>\n      <td>-1.182e+00</td>\n      <td>1.514</td>\n      <td>0.730</td>\n      <td>-0.378</td>\n    </tr>\n    <tr>\n      <th>1</th>\n      <td>-0.230</td>\n      <td>-0.466</td>\n      <td>-0.349</td>\n      <td>0.089</td>\n      <td>0.213</td>\n      <td>1.050e-01</td>\n      <td>-0.265</td>\n      <td>-0.174</td>\n      <td>0.332</td>\n    </tr>\n    <tr>\n      <th>2</th>\n      <td>-0.538</td>\n      <td>0.456</td>\n      <td>1.896</td>\n      <td>-1.066</td>\n      <td>-1.216</td>\n      <td>-3.331e-16</td>\n      <td>-0.353</td>\n      <td>-0.591</td>\n      <td>-1.649</td>\n    </tr>\n    <tr>\n      <th>3</th>\n      <td>1.737</td>\n      <td>-0.182</td>\n      <td>-0.203</td>\n      <td>1.265</td>\n      <td>1.384</td>\n      <td>1.182e+00</td>\n      <td>-0.480</td>\n      <td>0.479</td>\n      <td>0.606</td>\n    </tr>\n  </tbody>\n</table>\n</div>"
          },
          "metadata": {}
        }
      ],
      "execution_count": null
    },
    {
      "cell_type": "code",
      "source": "# calculate the distances of each data point to the cluster centers\ndistances = kmeans.transform(pharma_df_norm)\n# find closest cluster for each data point\nminSquaredDistances = distances.min(axis=1) ** 2\n# combine with cluster labels into a data frame\ndf = pd.DataFrame({'squaredDistance': minSquaredDistances, 'cluster': kmeans.labels_},index=pharma_df_norm.index)\n# group by cluster and print information\nfor cluster, data in df.groupby('cluster'):\n    count = len(data)\n    withinClustSS = data.squaredDistance.sum()\n    print(f'Cluster {cluster} ({count} members): {withinClustSS:.2f} within cluster ') \n",
      "metadata": {
        "tags": [],
        "cell_id": "00014-ba79f18f-61ff-41fe-b4a2-d949d052f042",
        "deepnote_to_be_reexecuted": false,
        "source_hash": "43ed2431",
        "execution_start": 1616539726932,
        "execution_millis": 7,
        "deepnote_cell_type": "code"
      },
      "outputs": [
        {
          "name": "stdout",
          "text": "Cluster 0 (4 members): 20.18 within cluster \nCluster 1 (9 members): 32.13 within cluster \nCluster 2 (3 members): 15.69 within cluster \nCluster 3 (4 members): 9.75 within cluster \n",
          "output_type": "stream"
        }
      ],
      "execution_count": null
    },
    {
      "cell_type": "code",
      "source": "pd.DataFrame(pairwise.pairwise_distances(kmeans.cluster_centers_, metric='euclidean'))",
      "metadata": {
        "tags": [],
        "cell_id": "00015-9e5e54f4-337a-4166-9c3f-5476983132ed",
        "deepnote_to_be_reexecuted": false,
        "source_hash": "cda65c11",
        "execution_start": 1616539768290,
        "execution_millis": 8,
        "deepnote_cell_type": "code"
      },
      "outputs": [
        {
          "output_type": "execute_result",
          "execution_count": 86,
          "data": {
            "application/vnd.deepnote.dataframe.v2+json": {
              "row_count": 4,
              "column_count": 4,
              "columns": [
                {
                  "name": 0,
                  "dtype": "float64",
                  "stats": {
                    "unique_count": 4,
                    "nan_count": 0,
                    "min": 0,
                    "max": 5.372202036484866,
                    "histogram": [
                      {
                        "bin_start": 0,
                        "bin_end": 0.5372202036484867,
                        "count": 1
                      },
                      {
                        "bin_start": 0.5372202036484867,
                        "bin_end": 1.0744404072969733,
                        "count": 0
                      },
                      {
                        "bin_start": 1.0744404072969733,
                        "bin_end": 1.61166061094546,
                        "count": 0
                      },
                      {
                        "bin_start": 1.61166061094546,
                        "bin_end": 2.1488808145939466,
                        "count": 0
                      },
                      {
                        "bin_start": 2.1488808145939466,
                        "bin_end": 2.686101018242433,
                        "count": 0
                      },
                      {
                        "bin_start": 2.686101018242433,
                        "bin_end": 3.22332122189092,
                        "count": 0
                      },
                      {
                        "bin_start": 3.22332122189092,
                        "bin_end": 3.7605414255394067,
                        "count": 1
                      },
                      {
                        "bin_start": 3.7605414255394067,
                        "bin_end": 4.297761629187893,
                        "count": 1
                      },
                      {
                        "bin_start": 4.297761629187893,
                        "bin_end": 4.83498183283638,
                        "count": 0
                      },
                      {
                        "bin_start": 4.83498183283638,
                        "bin_end": 5.372202036484866,
                        "count": 1
                      }
                    ]
                  }
                },
                {
                  "name": 1,
                  "dtype": "float64",
                  "stats": {
                    "unique_count": 4,
                    "nan_count": 0,
                    "min": 0,
                    "max": 3.671270517898913,
                    "histogram": [
                      {
                        "bin_start": 0,
                        "bin_end": 0.3671270517898913,
                        "count": 1
                      },
                      {
                        "bin_start": 0.3671270517898913,
                        "bin_end": 0.7342541035797826,
                        "count": 0
                      },
                      {
                        "bin_start": 0.7342541035797826,
                        "bin_end": 1.101381155369674,
                        "count": 0
                      },
                      {
                        "bin_start": 1.101381155369674,
                        "bin_end": 1.4685082071595652,
                        "count": 0
                      },
                      {
                        "bin_start": 1.4685082071595652,
                        "bin_end": 1.8356352589494564,
                        "count": 0
                      },
                      {
                        "bin_start": 1.8356352589494564,
                        "bin_end": 2.202762310739348,
                        "count": 0
                      },
                      {
                        "bin_start": 2.202762310739348,
                        "bin_end": 2.569889362529239,
                        "count": 0
                      },
                      {
                        "bin_start": 2.569889362529239,
                        "bin_end": 2.9370164143191304,
                        "count": 1
                      },
                      {
                        "bin_start": 2.9370164143191304,
                        "bin_end": 3.304143466109022,
                        "count": 0
                      },
                      {
                        "bin_start": 3.304143466109022,
                        "bin_end": 3.671270517898913,
                        "count": 2
                      }
                    ]
                  }
                },
                {
                  "name": 2,
                  "dtype": "float64",
                  "stats": {
                    "unique_count": 4,
                    "nan_count": 0,
                    "min": 0,
                    "max": 5.46131091299079,
                    "histogram": [
                      {
                        "bin_start": 0,
                        "bin_end": 0.546131091299079,
                        "count": 1
                      },
                      {
                        "bin_start": 0.546131091299079,
                        "bin_end": 1.092262182598158,
                        "count": 0
                      },
                      {
                        "bin_start": 1.092262182598158,
                        "bin_end": 1.638393273897237,
                        "count": 0
                      },
                      {
                        "bin_start": 1.638393273897237,
                        "bin_end": 2.184524365196316,
                        "count": 0
                      },
                      {
                        "bin_start": 2.184524365196316,
                        "bin_end": 2.730655456495395,
                        "count": 0
                      },
                      {
                        "bin_start": 2.730655456495395,
                        "bin_end": 3.276786547794474,
                        "count": 0
                      },
                      {
                        "bin_start": 3.276786547794474,
                        "bin_end": 3.822917639093553,
                        "count": 2
                      },
                      {
                        "bin_start": 3.822917639093553,
                        "bin_end": 4.369048730392632,
                        "count": 0
                      },
                      {
                        "bin_start": 4.369048730392632,
                        "bin_end": 4.915179821691711,
                        "count": 0
                      },
                      {
                        "bin_start": 4.915179821691711,
                        "bin_end": 5.46131091299079,
                        "count": 1
                      }
                    ]
                  }
                },
                {
                  "name": 3,
                  "dtype": "float64",
                  "stats": {
                    "unique_count": 4,
                    "nan_count": 0,
                    "min": 0,
                    "max": 5.46131091299079,
                    "histogram": [
                      {
                        "bin_start": 0,
                        "bin_end": 0.546131091299079,
                        "count": 1
                      },
                      {
                        "bin_start": 0.546131091299079,
                        "bin_end": 1.092262182598158,
                        "count": 0
                      },
                      {
                        "bin_start": 1.092262182598158,
                        "bin_end": 1.638393273897237,
                        "count": 0
                      },
                      {
                        "bin_start": 1.638393273897237,
                        "bin_end": 2.184524365196316,
                        "count": 0
                      },
                      {
                        "bin_start": 2.184524365196316,
                        "bin_end": 2.730655456495395,
                        "count": 0
                      },
                      {
                        "bin_start": 2.730655456495395,
                        "bin_end": 3.276786547794474,
                        "count": 1
                      },
                      {
                        "bin_start": 3.276786547794474,
                        "bin_end": 3.822917639093553,
                        "count": 0
                      },
                      {
                        "bin_start": 3.822917639093553,
                        "bin_end": 4.369048730392632,
                        "count": 0
                      },
                      {
                        "bin_start": 4.369048730392632,
                        "bin_end": 4.915179821691711,
                        "count": 0
                      },
                      {
                        "bin_start": 4.915179821691711,
                        "bin_end": 5.46131091299079,
                        "count": 2
                      }
                    ]
                  }
                },
                {
                  "name": "_deepnote_index_column",
                  "dtype": "int64"
                }
              ],
              "rows_top": [
                {
                  "0": 0,
                  "1": 3.3757984405615877,
                  "2": 3.8101448766339985,
                  "3": 5.372202036484866,
                  "_deepnote_index_column": 0
                },
                {
                  "0": 3.3757984405615877,
                  "1": 0,
                  "2": 3.671270517898913,
                  "3": 2.9040892543020704,
                  "_deepnote_index_column": 1
                },
                {
                  "0": 3.8101448766339985,
                  "1": 3.671270517898913,
                  "2": 0,
                  "3": 5.46131091299079,
                  "_deepnote_index_column": 2
                },
                {
                  "0": 5.372202036484866,
                  "1": 2.9040892543020704,
                  "2": 5.46131091299079,
                  "3": 0,
                  "_deepnote_index_column": 3
                }
              ],
              "rows_bottom": null
            },
            "text/plain": "       0      1      2      3\n0  0.000  3.376  3.810  5.372\n1  3.376  0.000  3.671  2.904\n2  3.810  3.671  0.000  5.461\n3  5.372  2.904  5.461  0.000",
            "text/html": "<div>\n<style scoped>\n    .dataframe tbody tr th:only-of-type {\n        vertical-align: middle;\n    }\n\n    .dataframe tbody tr th {\n        vertical-align: top;\n    }\n\n    .dataframe thead th {\n        text-align: right;\n    }\n</style>\n<table border=\"1\" class=\"dataframe\">\n  <thead>\n    <tr style=\"text-align: right;\">\n      <th></th>\n      <th>0</th>\n      <th>1</th>\n      <th>2</th>\n      <th>3</th>\n    </tr>\n  </thead>\n  <tbody>\n    <tr>\n      <th>0</th>\n      <td>0.000</td>\n      <td>3.376</td>\n      <td>3.810</td>\n      <td>5.372</td>\n    </tr>\n    <tr>\n      <th>1</th>\n      <td>3.376</td>\n      <td>0.000</td>\n      <td>3.671</td>\n      <td>2.904</td>\n    </tr>\n    <tr>\n      <th>2</th>\n      <td>3.810</td>\n      <td>3.671</td>\n      <td>0.000</td>\n      <td>5.461</td>\n    </tr>\n    <tr>\n      <th>3</th>\n      <td>5.372</td>\n      <td>2.904</td>\n      <td>5.461</td>\n      <td>0.000</td>\n    </tr>\n  </tbody>\n</table>\n</div>"
          },
          "metadata": {}
        }
      ],
      "execution_count": null
    },
    {
      "cell_type": "markdown",
      "source": "# Conclusion\n\nRemove 1 value (5% of the dataset represented a single record) was not enough to make us change the number of clusters userd. I did seem to impact the member distribution across clusters but the distances between cluster stayed very similar.",
      "metadata": {
        "tags": [],
        "cell_id": "00016-7b68cb44-10eb-49eb-9c05-8fac2fc53cfa",
        "deepnote_cell_type": "markdown"
      }
    },
    {
      "cell_type": "markdown",
      "source": "<a style='text-decoration:none;line-height:16px;display:flex;color:#5B5B62;padding:10px;justify-content:end;' href='https://deepnote.com?utm_source=created-in-deepnote-cell&projectId=52e9ae2e-8d42-48c9-9988-588f5a262306' target=\"_blank\">\n<img style='display:inline;max-height:16px;margin:0px;margin-right:7.5px;' src='data:image/svg+xml;base64,PD94bWwgdmVyc2lvbj0iMS4wIiBlbmNvZGluZz0iVVRGLTgiPz4KPHN2ZyB3aWR0aD0iODBweCIgaGVpZ2h0PSI4MHB4IiB2aWV3Qm94PSIwIDAgODAgODAiIHZlcnNpb249IjEuMSIgeG1sbnM9Imh0dHA6Ly93d3cudzMub3JnLzIwMDAvc3ZnIiB4bWxuczp4bGluaz0iaHR0cDovL3d3dy53My5vcmcvMTk5OS94bGluayI+CiAgICA8IS0tIEdlbmVyYXRvcjogU2tldGNoIDU0LjEgKDc2NDkwKSAtIGh0dHBzOi8vc2tldGNoYXBwLmNvbSAtLT4KICAgIDx0aXRsZT5Hcm91cCAzPC90aXRsZT4KICAgIDxkZXNjPkNyZWF0ZWQgd2l0aCBTa2V0Y2guPC9kZXNjPgogICAgPGcgaWQ9IkxhbmRpbmciIHN0cm9rZT0ibm9uZSIgc3Ryb2tlLXdpZHRoPSIxIiBmaWxsPSJub25lIiBmaWxsLXJ1bGU9ImV2ZW5vZGQiPgogICAgICAgIDxnIGlkPSJBcnRib2FyZCIgdHJhbnNmb3JtPSJ0cmFuc2xhdGUoLTEyMzUuMDAwMDAwLCAtNzkuMDAwMDAwKSI+CiAgICAgICAgICAgIDxnIGlkPSJHcm91cC0zIiB0cmFuc2Zvcm09InRyYW5zbGF0ZSgxMjM1LjAwMDAwMCwgNzkuMDAwMDAwKSI+CiAgICAgICAgICAgICAgICA8cG9seWdvbiBpZD0iUGF0aC0yMCIgZmlsbD0iIzAyNjVCNCIgcG9pbnRzPSIyLjM3NjIzNzYyIDgwIDM4LjA0NzY2NjcgODAgNTcuODIxNzgyMiA3My44MDU3NTkyIDU3LjgyMTc4MjIgMzIuNzU5MjczOSAzOS4xNDAyMjc4IDMxLjY4MzE2ODMiPjwvcG9seWdvbj4KICAgICAgICAgICAgICAgIDxwYXRoIGQ9Ik0zNS4wMDc3MTgsODAgQzQyLjkwNjIwMDcsNzYuNDU0OTM1OCA0Ny41NjQ5MTY3LDcxLjU0MjI2NzEgNDguOTgzODY2LDY1LjI2MTk5MzkgQzUxLjExMjI4OTksNTUuODQxNTg0MiA0MS42NzcxNzk1LDQ5LjIxMjIyODQgMjUuNjIzOTg0Niw0OS4yMTIyMjg0IEMyNS40ODQ5Mjg5LDQ5LjEyNjg0NDggMjkuODI2MTI5Niw0My4yODM4MjQ4IDM4LjY0NzU4NjksMzEuNjgzMTY4MyBMNzIuODcxMjg3MSwzMi41NTQ0MjUgTDY1LjI4MDk3Myw2Ny42NzYzNDIxIEw1MS4xMTIyODk5LDc3LjM3NjE0NCBMMzUuMDA3NzE4LDgwIFoiIGlkPSJQYXRoLTIyIiBmaWxsPSIjMDAyODY4Ij48L3BhdGg+CiAgICAgICAgICAgICAgICA8cGF0aCBkPSJNMCwzNy43MzA0NDA1IEwyNy4xMTQ1MzcsMC4yNTcxMTE0MzYgQzYyLjM3MTUxMjMsLTEuOTkwNzE3MDEgODAsMTAuNTAwMzkyNyA4MCwzNy43MzA0NDA1IEM4MCw2NC45NjA0ODgyIDY0Ljc3NjUwMzgsNzkuMDUwMzQxNCAzNC4zMjk1MTEzLDgwIEM0Ny4wNTUzNDg5LDc3LjU2NzA4MDggNTMuNDE4MjY3Nyw3MC4zMTM2MTAzIDUzLjQxODI2NzcsNTguMjM5NTg4NSBDNTMuNDE4MjY3Nyw0MC4xMjg1NTU3IDM2LjMwMzk1NDQsMzcuNzMwNDQwNSAyNS4yMjc0MTcsMzcuNzMwNDQwNSBDMTcuODQzMDU4NiwzNy43MzA0NDA1IDkuNDMzOTE5NjYsMzcuNzMwNDQwNSAwLDM3LjczMDQ0MDUgWiIgaWQ9IlBhdGgtMTkiIGZpbGw9IiMzNzkzRUYiPjwvcGF0aD4KICAgICAgICAgICAgPC9nPgogICAgICAgIDwvZz4KICAgIDwvZz4KPC9zdmc+' > </img>\nCreated in <span style='font-weight:600;margin-left:4px;'>Deepnote</span></a>",
      "metadata": {
        "tags": [],
        "created_in_deepnote_cell": true,
        "deepnote_cell_type": "markdown"
      }
    }
  ],
  "nbformat": 4,
  "nbformat_minor": 2,
  "metadata": {
    "orig_nbformat": 2,
    "deepnote_notebook_id": "9070ead8-d991-411c-b766-824ff8c1ff89",
    "deepnote": {},
    "deepnote_execution_queue": []
  }
}