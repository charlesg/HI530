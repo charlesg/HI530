{
 "cells": [
  {
   "cell_type": "markdown",
   "source": "# Chapter 1: Introductionss\n\n> (c) 2019 Galit Shmueli, Peter C. Bruce, Peter Gedeck \n>\n> Code included in\n>\n> _Data Mining for Business Analytics: Concepts, Techniques, and Applications in Python_ (First Edition) \n> Galit Shmueli, Peter C. Bruce, Peter Gedeck, and Nitin R. Patel. 2019.",
   "metadata": {
    "cell_id": "00000-34a7fdb7-587e-46f6-b2f7-ead366914296",
    "deepnote_cell_type": "markdown"
   }
  },
  {
   "cell_type": "code",
   "metadata": {
    "collapsed": false,
    "pycharm": {
     "name": "#%%\n"
    },
    "cell_id": "00001-82d44ca0-cd3a-4578-9af4-9edc366c399a",
    "deepnote_to_be_reexecuted": false,
    "source_hash": "a44fe7f0",
    "execution_start": 1609784949379,
    "execution_millis": 398,
    "deepnote_cell_type": "code"
   },
   "source": "#%matplotlib inline\n\nfrom pathlib import Path\nimport pandas as pd\nimport matplotlib.pylab as plt\n",
   "outputs": [],
   "execution_count": null
  },
  {
   "cell_type": "markdown",
   "source": "## Figure 1.1",
   "metadata": {
    "cell_id": "00002-1c6010ab-a625-4ba3-9088-eb5f1b92d1e1",
    "deepnote_cell_type": "markdown"
   }
  },
  {
   "cell_type": "code",
   "metadata": {
    "cell_id": "00003-3e0cec92-ee20-4f2b-b12c-8ab44259758c",
    "deepnote_to_be_reexecuted": false,
    "source_hash": "1a98760a",
    "execution_start": 1609784949782,
    "execution_millis": 21,
    "deepnote_cell_type": "code"
   },
   "source": "mower_df = pd.read_csv('dmba/RidingMowers.csv')\nmower_df.head()",
   "outputs": [
    {
     "output_type": "execute_result",
     "execution_count": 2,
     "data": {
      "application/vnd.deepnote.dataframe.v2+json": {
       "row_count": 5,
       "column_count": 3,
       "columns": [
        {
         "name": "Income",
         "dtype": "float64",
         "stats": {
          "unique_count": 5,
          "nan_count": 0,
          "min": 60,
          "max": 87,
          "histogram": [
           {
            "bin_start": 60,
            "bin_end": 62.7,
            "count": 2
           },
           {
            "bin_start": 62.7,
            "bin_end": 65.4,
            "count": 1
           },
           {
            "bin_start": 65.4,
            "bin_end": 68.1,
            "count": 0
           },
           {
            "bin_start": 68.1,
            "bin_end": 70.8,
            "count": 0
           },
           {
            "bin_start": 70.8,
            "bin_end": 73.5,
            "count": 0
           },
           {
            "bin_start": 73.5,
            "bin_end": 76.2,
            "count": 0
           },
           {
            "bin_start": 76.2,
            "bin_end": 78.9,
            "count": 0
           },
           {
            "bin_start": 78.9,
            "bin_end": 81.6,
            "count": 0
           },
           {
            "bin_start": 81.6,
            "bin_end": 84.3,
            "count": 0
           },
           {
            "bin_start": 84.3,
            "bin_end": 87,
            "count": 2
           }
          ]
         }
        },
        {
         "name": "Lot_Size",
         "dtype": "float64",
         "stats": {
          "unique_count": 5,
          "nan_count": 0,
          "min": 16.8,
          "max": 23.6,
          "histogram": [
           {
            "bin_start": 16.8,
            "bin_end": 17.48,
            "count": 1
           },
           {
            "bin_start": 17.48,
            "bin_end": 18.16,
            "count": 0
           },
           {
            "bin_start": 18.16,
            "bin_end": 18.84,
            "count": 1
           },
           {
            "bin_start": 18.84,
            "bin_end": 19.52,
            "count": 0
           },
           {
            "bin_start": 19.52,
            "bin_end": 20.200000000000003,
            "count": 0
           },
           {
            "bin_start": 20.200000000000003,
            "bin_end": 20.880000000000003,
            "count": 1
           },
           {
            "bin_start": 20.880000000000003,
            "bin_end": 21.560000000000002,
            "count": 0
           },
           {
            "bin_start": 21.560000000000002,
            "bin_end": 22.240000000000002,
            "count": 1
           },
           {
            "bin_start": 22.240000000000002,
            "bin_end": 22.92,
            "count": 0
           },
           {
            "bin_start": 22.92,
            "bin_end": 23.6,
            "count": 1
           }
          ]
         }
        },
        {
         "name": "Ownership",
         "dtype": "object",
         "stats": {
          "unique_count": 1,
          "nan_count": 0,
          "categories": [
           {
            "name": "Owner",
            "count": 5
           }
          ]
         }
        },
        {
         "name": "_deepnote_index_column",
         "dtype": "int64"
        }
       ],
       "rows_top": [
        {
         "Income": 60,
         "Lot_Size": 18.4,
         "Ownership": "Owner",
         "_deepnote_index_column": 0
        },
        {
         "Income": 85.5,
         "Lot_Size": 16.8,
         "Ownership": "Owner",
         "_deepnote_index_column": 1
        },
        {
         "Income": 64.8,
         "Lot_Size": 21.6,
         "Ownership": "Owner",
         "_deepnote_index_column": 2
        },
        {
         "Income": 61.5,
         "Lot_Size": 20.8,
         "Ownership": "Owner",
         "_deepnote_index_column": 3
        },
        {
         "Income": 87,
         "Lot_Size": 23.6,
         "Ownership": "Owner",
         "_deepnote_index_column": 4
        }
       ],
       "rows_bottom": null
      },
      "text/plain": "   Income  Lot_Size Ownership\n0    60.0      18.4     Owner\n1    85.5      16.8     Owner\n2    64.8      21.6     Owner\n3    61.5      20.8     Owner\n4    87.0      23.6     Owner",
      "text/html": "<div>\n<style scoped>\n    .dataframe tbody tr th:only-of-type {\n        vertical-align: middle;\n    }\n\n    .dataframe tbody tr th {\n        vertical-align: top;\n    }\n\n    .dataframe thead th {\n        text-align: right;\n    }\n</style>\n<table border=\"1\" class=\"dataframe\">\n  <thead>\n    <tr style=\"text-align: right;\">\n      <th></th>\n      <th>Income</th>\n      <th>Lot_Size</th>\n      <th>Ownership</th>\n    </tr>\n  </thead>\n  <tbody>\n    <tr>\n      <th>0</th>\n      <td>60.0</td>\n      <td>18.4</td>\n      <td>Owner</td>\n    </tr>\n    <tr>\n      <th>1</th>\n      <td>85.5</td>\n      <td>16.8</td>\n      <td>Owner</td>\n    </tr>\n    <tr>\n      <th>2</th>\n      <td>64.8</td>\n      <td>21.6</td>\n      <td>Owner</td>\n    </tr>\n    <tr>\n      <th>3</th>\n      <td>61.5</td>\n      <td>20.8</td>\n      <td>Owner</td>\n    </tr>\n    <tr>\n      <th>4</th>\n      <td>87.0</td>\n      <td>23.6</td>\n      <td>Owner</td>\n    </tr>\n  </tbody>\n</table>\n</div>"
     },
     "metadata": {}
    }
   ],
   "execution_count": null
  },
  {
   "cell_type": "code",
   "metadata": {
    "pycharm": {
     "name": "#%%\n"
    },
    "cell_id": "00004-e2adac60-55af-4b2c-8e91-7a8432887f20",
    "deepnote_to_be_reexecuted": false,
    "source_hash": "d4309f85",
    "execution_start": 1609784949813,
    "execution_millis": 520,
    "deepnote_cell_type": "code"
   },
   "source": "def basePlot(ax):\n    mower_df.loc[mower_df.Ownership=='Owner'].plot(x='Income', y='Lot_Size', style='o', \n                                                   markerfacecolor='C0', markeredgecolor='C0',\n                                                   ax=ax)\n    mower_df.loc[mower_df.Ownership=='Nonowner'].plot(x='Income', y='Lot_Size', style='o',\n                                                      markerfacecolor='none', markeredgecolor='C1',\n                                                      ax=ax)\n    ax.legend([\"Owner\", \"Nonowner\"]);\n    ax.set_xlim(20, 120)\n    ax.set_ylim(13, 25)\n    ax.set_xlabel('Income ($000s)')\n    ax.set_ylabel('Lot Size (000s sqft)')\n    return ax\n\nfig, axes = plt.subplots(nrows=1, ncols=2, figsize=(9, 3))\n\nax = basePlot(axes[0])\ny0, y1, y2 = 21.3, 19.8, 16.4\nx0, x1, x2 = 55, 58, 95\nax.plot((20, x0), (y0,y0), color='grey')\nax.plot((20, 120), (y1,y1), color='grey')\nax.plot((x1, x2), (y2,y2), color='grey')\nax.plot((x0, x0), (25,y1), color='grey')\nax.plot((x1, x1), (y1,13), color='grey')\nax.plot((x2, x2), (y1,13), color='grey')\n\nax = basePlot(axes[1])\nax.plot((40, 95), (25,13), color='grey')\n\nplt.tight_layout()\nplt.show()",
   "outputs": [
    {
     "data": {
      "text/plain": "<Figure size 648x216 with 2 Axes>",
      "image/png": "[encoded data removed]"
     },
     "metadata": {
      "needs_background": "light",
      "image/png": {
       "width": 640,
       "height": 208
      }
     },
     "output_type": "display_data"
    }
   ],
   "execution_count": null
  },
  {
   "cell_type": "code",
   "metadata": {
    "collapsed": false,
    "pycharm": {
     "name": "#%%\n"
    },
    "cell_id": "00005-d6fedbd5-dec5-4790-84c6-1f247fe59175",
    "deepnote_to_be_reexecuted": false,
    "source_hash": "b623e53d",
    "execution_start": 1609784950347,
    "execution_millis": 0,
    "deepnote_cell_type": "code"
   },
   "source": "",
   "outputs": [],
   "execution_count": null
  },
  {
   "cell_type": "markdown",
   "source": "<a style='text-decoration:none;line-height:16px;display:flex;color:#5B5B62;padding:10px;justify-content:end;' href='https://deepnote.com?utm_source=created-in-deepnote-cell&projectId=52e9ae2e-8d42-48c9-9988-588f5a262306' target=\"_blank\">\n<img alt='Created in deepnote.com' style='display:inline;max-height:16px;margin:0px;margin-right:7.5px;' src='data:image/svg+xml;base64,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' > </img>\nCreated in <span style='font-weight:600;margin-left:4px;'>Deepnote</span></a>",
   "metadata": {
    "tags": [],
    "created_in_deepnote_cell": true,
    "deepnote_cell_type": "markdown"
   }
  }
 ],
 "nbformat": 4,
 "nbformat_minor": 2,
 "metadata": {
  "kernelspec": {
   "display_name": "Python 3",
   "language": "python",
   "name": "python3"
  },
  "language_info": {
   "codemirror_mode": {
    "name": "ipython",
    "version": 3
   },
   "file_extension": ".py",
   "mimetype": "text/x-python",
   "name": "python",
   "nbconvert_exporter": "python",
   "pygments_lexer": "ipython3",
   "version": "3.7.1"
  },
  "deepnote_notebook_id": "d080e4ab-f990-4dd3-b151-cb3b7487c59d",
  "deepnote_execution_queue": [],
  "deepnote": {}
 }
}