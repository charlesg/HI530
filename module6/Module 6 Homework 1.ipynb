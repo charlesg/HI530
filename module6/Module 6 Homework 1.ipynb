{
 "cells": [
  {
   "cell_type": "code",
   "execution_count": 2,
   "metadata": {},
   "outputs": [
    {
     "name": "stderr",
     "output_type": "stream",
     "text": [
      "[nltk_data] Downloading package punkt to /Users/cgagnon/nltk_data...\n",
      "[nltk_data]   Package punkt is already up-to-date!\n",
      "[nltk_data] Downloading package wordnet to /Users/cgagnon/nltk_data...\n",
      "[nltk_data]   Package wordnet is already up-to-date!\n"
     ]
    }
   ],
   "source": [
    "from zipfile import ZipFile\n",
    "import pandas as pd\n",
    "from collections import Counter\n",
    "from sklearn.model_selection import train_test_split\n",
    "from sklearn.feature_extraction.text import CountVectorizer\n",
    "from sklearn.feature_extraction.text import TfidfTransformer\n",
    "from sklearn.feature_extraction._stop_words import ENGLISH_STOP_WORDS\n",
    "from sklearn.decomposition import TruncatedSVD\n",
    "from sklearn.preprocessing import Normalizer\n",
    "from sklearn.pipeline import make_pipeline\n",
    "from sklearn.linear_model import LogisticRegression\n",
    "import nltk\n",
    "from nltk import word_tokenize\n",
    "from nltk.stem.snowball import EnglishStemmer\n",
    "from nltk import word_tokenize          \n",
    "from nltk.stem import WordNetLemmatizer \n",
    "\n",
    "import matplotlib.pylab as plt\n",
    "from dmba import printTermDocumentMatrix, classificationSummary, liftChart\n",
    "# download data required for NLTK\n",
    "nltk.download('punkt')\n",
    "nltk.download('wordnet')\n",
    "\n",
    "# For KMeans\n",
    "from sklearn import preprocessing\n",
    "from sklearn.metrics import pairwise\n",
    "from scipy.cluster.hierarchy import dendrogram, linkage, fcluster\n",
    "from sklearn.cluster import KMeans\n",
    "import seaborn as sns\n",
    "from pandas.plotting import parallel_coordinates \n"
   ]
  },
  {
   "cell_type": "markdown",
   "metadata": {},
   "source": [
    "## 1. Import Data"
   ]
  },
  {
   "cell_type": "code",
   "execution_count": 3,
   "metadata": {},
   "outputs": [],
   "source": [
    "train=[]\n",
    "test=[]\n",
    "\n",
    "with ZipFile('drugLib_raw.zip') as rawData:\n",
    "        for info in rawData.infolist():\n",
    "            with rawData.open(info.filename) as f:\n",
    "                if 'drugLibTest_raw' in info.filename:\n",
    "                    test = pd.read_csv(f, delimiter=\"\\t\")\n",
    "                else:\n",
    "                    train = pd.read_csv(f, delimiter=\"\\t\")\n",
    "\n"
   ]
  },
  {
   "cell_type": "markdown",
   "metadata": {},
   "source": [
    "## 2. Combine and cleanup"
   ]
  },
  {
   "cell_type": "code",
   "execution_count": 4,
   "metadata": {},
   "outputs": [
    {
     "data": {
      "text/html": [
       "<div>\n",
       "<style scoped>\n",
       "    .dataframe tbody tr th:only-of-type {\n",
       "        vertical-align: middle;\n",
       "    }\n",
       "\n",
       "    .dataframe tbody tr th {\n",
       "        vertical-align: top;\n",
       "    }\n",
       "\n",
       "    .dataframe thead th {\n",
       "        text-align: right;\n",
       "    }\n",
       "</style>\n",
       "<table border=\"1\" class=\"dataframe\">\n",
       "  <thead>\n",
       "    <tr style=\"text-align: right;\">\n",
       "      <th></th>\n",
       "      <th>Unnamed: 0</th>\n",
       "      <th>urlDrugName</th>\n",
       "      <th>rating</th>\n",
       "      <th>effectiveness</th>\n",
       "      <th>sideEffects</th>\n",
       "      <th>condition</th>\n",
       "      <th>benefitsReview</th>\n",
       "      <th>sideEffectsReview</th>\n",
       "      <th>commentsReview</th>\n",
       "    </tr>\n",
       "  </thead>\n",
       "  <tbody>\n",
       "    <tr>\n",
       "      <th>0</th>\n",
       "      <td>2202</td>\n",
       "      <td>enalapril</td>\n",
       "      <td>0</td>\n",
       "      <td>Highly Effective</td>\n",
       "      <td>Mild Side Effects</td>\n",
       "      <td>management of congestive heart failure</td>\n",
       "      <td>slowed the progression of left ventricular dys...</td>\n",
       "      <td>cough, hypotension , proteinuria, impotence , ...</td>\n",
       "      <td>monitor blood pressure , weight and asses for ...</td>\n",
       "    </tr>\n",
       "    <tr>\n",
       "      <th>1</th>\n",
       "      <td>3117</td>\n",
       "      <td>ortho-tri-cyclen</td>\n",
       "      <td>0</td>\n",
       "      <td>Highly Effective</td>\n",
       "      <td>Severe Side Effects</td>\n",
       "      <td>birth prevention</td>\n",
       "      <td>Although this type of birth control has more c...</td>\n",
       "      <td>Heavy Cycle, Cramps, Hot Flashes, Fatigue, Lon...</td>\n",
       "      <td>I Hate This Birth Control, I Would Not Suggest...</td>\n",
       "    </tr>\n",
       "    <tr>\n",
       "      <th>2</th>\n",
       "      <td>1146</td>\n",
       "      <td>ponstel</td>\n",
       "      <td>1</td>\n",
       "      <td>Highly Effective</td>\n",
       "      <td>No Side Effects</td>\n",
       "      <td>menstrual cramps</td>\n",
       "      <td>I was used to having cramps so badly that they...</td>\n",
       "      <td>Heavier bleeding and clotting than normal.</td>\n",
       "      <td>I took 2 pills at the onset of my menstrual cr...</td>\n",
       "    </tr>\n",
       "    <tr>\n",
       "      <th>3</th>\n",
       "      <td>3947</td>\n",
       "      <td>prilosec</td>\n",
       "      <td>0</td>\n",
       "      <td>Marginally Effective</td>\n",
       "      <td>Mild Side Effects</td>\n",
       "      <td>acid reflux</td>\n",
       "      <td>The acid reflux went away for a few months aft...</td>\n",
       "      <td>Constipation, dry mouth and some mild dizzines...</td>\n",
       "      <td>I was given Prilosec prescription at a dose of...</td>\n",
       "    </tr>\n",
       "    <tr>\n",
       "      <th>4</th>\n",
       "      <td>1951</td>\n",
       "      <td>lyrica</td>\n",
       "      <td>0</td>\n",
       "      <td>Marginally Effective</td>\n",
       "      <td>Severe Side Effects</td>\n",
       "      <td>fibromyalgia</td>\n",
       "      <td>I think that the Lyrica was starting to help w...</td>\n",
       "      <td>I felt extremely drugged and dopey.  Could not...</td>\n",
       "      <td>See above</td>\n",
       "    </tr>\n",
       "    <tr>\n",
       "      <th>...</th>\n",
       "      <td>...</td>\n",
       "      <td>...</td>\n",
       "      <td>...</td>\n",
       "      <td>...</td>\n",
       "      <td>...</td>\n",
       "      <td>...</td>\n",
       "      <td>...</td>\n",
       "      <td>...</td>\n",
       "      <td>...</td>\n",
       "    </tr>\n",
       "    <tr>\n",
       "      <th>1031</th>\n",
       "      <td>690</td>\n",
       "      <td>accutane</td>\n",
       "      <td>1</td>\n",
       "      <td>Considerably Effective</td>\n",
       "      <td>Severe Side Effects</td>\n",
       "      <td>acne vulgaris</td>\n",
       "      <td>Detoxing effect by pushing out the system thro...</td>\n",
       "      <td>Hairloss, extreme dry skin, itchiness, raises ...</td>\n",
       "      <td>Treatment period is 3 months/12 weeks. Dosage ...</td>\n",
       "    </tr>\n",
       "    <tr>\n",
       "      <th>1032</th>\n",
       "      <td>1071</td>\n",
       "      <td>proair-hfa</td>\n",
       "      <td>1</td>\n",
       "      <td>Highly Effective</td>\n",
       "      <td>No Side Effects</td>\n",
       "      <td>asthma</td>\n",
       "      <td>The albuterol relieved the constriction, irrit...</td>\n",
       "      <td>I have experienced no side effects.</td>\n",
       "      <td>I use the albuterol as needed because of aller...</td>\n",
       "    </tr>\n",
       "    <tr>\n",
       "      <th>1033</th>\n",
       "      <td>681</td>\n",
       "      <td>accutane</td>\n",
       "      <td>1</td>\n",
       "      <td>Considerably Effective</td>\n",
       "      <td>Moderate Side Effects</td>\n",
       "      <td>serve acne</td>\n",
       "      <td>Serve Acne has turned to middle</td>\n",
       "      <td>Painfull muscles, problems with seeing at night</td>\n",
       "      <td>This drug is highly teratogenic ,females must ...</td>\n",
       "    </tr>\n",
       "    <tr>\n",
       "      <th>1034</th>\n",
       "      <td>2709</td>\n",
       "      <td>divigel</td>\n",
       "      <td>1</td>\n",
       "      <td>Highly Effective</td>\n",
       "      <td>No Side Effects</td>\n",
       "      <td>menopause</td>\n",
       "      <td>My overall mood, sense of well being, energy l...</td>\n",
       "      <td>No side effects of any kind were noted or appa...</td>\n",
       "      <td>Divigel is a topically applied Bio-Identical H...</td>\n",
       "    </tr>\n",
       "    <tr>\n",
       "      <th>1035</th>\n",
       "      <td>729</td>\n",
       "      <td>claripel-cream</td>\n",
       "      <td>1</td>\n",
       "      <td>Considerably Effective</td>\n",
       "      <td>Mild Side Effects</td>\n",
       "      <td>acne scarring &amp; hyperpigmentation</td>\n",
       "      <td>Up until 2 years ago, it worked really well on...</td>\n",
       "      <td>Have stopped using it and have also learned th...</td>\n",
       "      <td>Stopped using it for the time being.</td>\n",
       "    </tr>\n",
       "  </tbody>\n",
       "</table>\n",
       "<p>4143 rows × 9 columns</p>\n",
       "</div>"
      ],
      "text/plain": [
       "      Unnamed: 0       urlDrugName  rating           effectiveness  \\\n",
       "0           2202         enalapril       0        Highly Effective   \n",
       "1           3117  ortho-tri-cyclen       0        Highly Effective   \n",
       "2           1146           ponstel       1        Highly Effective   \n",
       "3           3947          prilosec       0    Marginally Effective   \n",
       "4           1951            lyrica       0    Marginally Effective   \n",
       "...          ...               ...     ...                     ...   \n",
       "1031         690          accutane       1  Considerably Effective   \n",
       "1032        1071        proair-hfa       1        Highly Effective   \n",
       "1033         681          accutane       1  Considerably Effective   \n",
       "1034        2709           divigel       1        Highly Effective   \n",
       "1035         729    claripel-cream       1  Considerably Effective   \n",
       "\n",
       "                sideEffects                               condition  \\\n",
       "0         Mild Side Effects  management of congestive heart failure   \n",
       "1       Severe Side Effects                        birth prevention   \n",
       "2           No Side Effects                        menstrual cramps   \n",
       "3         Mild Side Effects                             acid reflux   \n",
       "4       Severe Side Effects                            fibromyalgia   \n",
       "...                     ...                                     ...   \n",
       "1031    Severe Side Effects                           acne vulgaris   \n",
       "1032        No Side Effects                                  asthma   \n",
       "1033  Moderate Side Effects                              serve acne   \n",
       "1034        No Side Effects                               menopause   \n",
       "1035      Mild Side Effects       acne scarring & hyperpigmentation   \n",
       "\n",
       "                                         benefitsReview  \\\n",
       "0     slowed the progression of left ventricular dys...   \n",
       "1     Although this type of birth control has more c...   \n",
       "2     I was used to having cramps so badly that they...   \n",
       "3     The acid reflux went away for a few months aft...   \n",
       "4     I think that the Lyrica was starting to help w...   \n",
       "...                                                 ...   \n",
       "1031  Detoxing effect by pushing out the system thro...   \n",
       "1032  The albuterol relieved the constriction, irrit...   \n",
       "1033                    Serve Acne has turned to middle   \n",
       "1034  My overall mood, sense of well being, energy l...   \n",
       "1035  Up until 2 years ago, it worked really well on...   \n",
       "\n",
       "                                      sideEffectsReview  \\\n",
       "0     cough, hypotension , proteinuria, impotence , ...   \n",
       "1     Heavy Cycle, Cramps, Hot Flashes, Fatigue, Lon...   \n",
       "2            Heavier bleeding and clotting than normal.   \n",
       "3     Constipation, dry mouth and some mild dizzines...   \n",
       "4     I felt extremely drugged and dopey.  Could not...   \n",
       "...                                                 ...   \n",
       "1031  Hairloss, extreme dry skin, itchiness, raises ...   \n",
       "1032                I have experienced no side effects.   \n",
       "1033    Painfull muscles, problems with seeing at night   \n",
       "1034  No side effects of any kind were noted or appa...   \n",
       "1035  Have stopped using it and have also learned th...   \n",
       "\n",
       "                                         commentsReview  \n",
       "0     monitor blood pressure , weight and asses for ...  \n",
       "1     I Hate This Birth Control, I Would Not Suggest...  \n",
       "2     I took 2 pills at the onset of my menstrual cr...  \n",
       "3     I was given Prilosec prescription at a dose of...  \n",
       "4                                             See above  \n",
       "...                                                 ...  \n",
       "1031  Treatment period is 3 months/12 weeks. Dosage ...  \n",
       "1032  I use the albuterol as needed because of aller...  \n",
       "1033  This drug is highly teratogenic ,females must ...  \n",
       "1034  Divigel is a topically applied Bio-Identical H...  \n",
       "1035               Stopped using it for the time being.  \n",
       "\n",
       "[4143 rows x 9 columns]"
      ]
     },
     "execution_count": 4,
     "metadata": {},
     "output_type": "execute_result"
    }
   ],
   "source": [
    "drugLib = pd.concat([train, test])\n",
    "drugLib.commentsReview = drugLib.commentsReview.apply(lambda x: 'None' if len(str(x)) < 6 else x)\n",
    "drugLib.rating = drugLib.rating.apply(lambda x: 1 if int(x) > 5 else 0)\n",
    "drugLib"
   ]
  },
  {
   "cell_type": "markdown",
   "metadata": {},
   "source": [
    "## 3. Corpus and Labels"
   ]
  },
  {
   "cell_type": "code",
   "execution_count": 5,
   "metadata": {},
   "outputs": [
    {
     "data": {
      "text/plain": [
       "Counter({0: 1128, 1: 3015})"
      ]
     },
     "execution_count": 5,
     "metadata": {},
     "output_type": "execute_result"
    }
   ],
   "source": [
    "corpus = []\n",
    "labels = []\n",
    "\n",
    "for s in drugLib.commentsReview:\n",
    "    corpus.append(s)\n",
    "\n",
    "for r in drugLib.rating:\n",
    "    labels.append(r)\n",
    "\n",
    "Counter(labels)"
   ]
  },
  {
   "cell_type": "markdown",
   "metadata": {},
   "source": [
    "I currently seely about 3 times the amount of 1 ratings (which meant >0 in the old dataset) to 0 ratings."
   ]
  },
  {
   "cell_type": "markdown",
   "metadata": {},
   "source": [
    "## 4. TF-IDF"
   ]
  },
  {
   "cell_type": "code",
   "execution_count": 6,
   "metadata": {},
   "outputs": [
    {
     "name": "stdout",
     "output_type": "stream",
     "text": [
      "          S1   S2   S3   S4   S5   S6   S7   S8   S9  S10  ...  S4134  S4135  \\\n",
      "00       0.0  0.0  0.0  0.0  0.0  0.0  0.0  0.0  0.0  0.0  ...    0.0    0.0   \n",
      "000      0.0  0.0  0.0  0.0  0.0  0.0  0.0  0.0  0.0  0.0  ...    0.0    0.0   \n",
      "000mg    0.0  0.0  0.0  0.0  0.0  0.0  0.0  0.0  0.0  0.0  ...    0.0    0.0   \n",
      "00am     0.0  0.0  0.0  0.0  0.0  0.0  0.0  0.0  0.0  0.0  ...    0.0    0.0   \n",
      "00pm     0.0  0.0  0.0  0.0  0.0  0.0  0.0  0.0  0.0  0.0  ...    0.0    0.0   \n",
      "...      ...  ...  ...  ...  ...  ...  ...  ...  ...  ...  ...    ...    ...   \n",
      "zpak     0.0  0.0  0.0  0.0  0.0  0.0  0.0  0.0  0.0  0.0  ...    0.0    0.0   \n",
      "zy       0.0  0.0  0.0  0.0  0.0  0.0  0.0  0.0  0.0  0.0  ...    0.0    0.0   \n",
      "zyban    0.0  0.0  0.0  0.0  0.0  0.0  0.0  0.0  0.0  0.0  ...    0.0    0.0   \n",
      "zyprexa  0.0  0.0  0.0  0.0  0.0  0.0  0.0  0.0  0.0  0.0  ...    0.0    0.0   \n",
      "zyrtec   0.0  0.0  0.0  0.0  0.0  0.0  0.0  0.0  0.0  0.0  ...    0.0    0.0   \n",
      "\n",
      "         S4136  S4137  S4138  S4139  S4140  S4141  S4142  S4143  \n",
      "00         0.0    0.0    0.0    0.0    0.0    0.0    0.0    0.0  \n",
      "000        0.0    0.0    0.0    0.0    0.0    0.0    0.0    0.0  \n",
      "000mg      0.0    0.0    0.0    0.0    0.0    0.0    0.0    0.0  \n",
      "00am       0.0    0.0    0.0    0.0    0.0    0.0    0.0    0.0  \n",
      "00pm       0.0    0.0    0.0    0.0    0.0    0.0    0.0    0.0  \n",
      "...        ...    ...    ...    ...    ...    ...    ...    ...  \n",
      "zpak       0.0    0.0    0.0    0.0    0.0    0.0    0.0    0.0  \n",
      "zy         0.0    0.0    0.0    0.0    0.0    0.0    0.0    0.0  \n",
      "zyban      0.0    0.0    0.0    0.0    0.0    0.0    0.0    0.0  \n",
      "zyprexa    0.0    0.0    0.0    0.0    0.0    0.0    0.0    0.0  \n",
      "zyrtec     0.0    0.0    0.0    0.0    0.0    0.0    0.0    0.0  \n",
      "\n",
      "[10509 rows x 4143 columns]\n"
     ]
    }
   ],
   "source": [
    "# Apply CountVectorizer and TfidfTransformer sequentially\n",
    "count_vect = CountVectorizer()\n",
    "tfidfTransformer = TfidfTransformer(smooth_idf=False, norm=None)\n",
    "counts = count_vect.fit_transform(corpus)\n",
    "tfidf = tfidfTransformer.fit_transform(counts)\n",
    "\n",
    "printTermDocumentMatrix(count_vect, tfidf)"
   ]
  },
  {
   "cell_type": "markdown",
   "metadata": {},
   "source": [
    "## 5.  Preprocess the text of your corpus (tokenization, stemming, and stopwords) and print the matrix shape of your preprocessed text\n"
   ]
  },
  {
   "cell_type": "code",
   "execution_count": 7,
   "metadata": {},
   "outputs": [],
   "source": [
    "# Preprocessing (tokenization, stemming, and stopwords)\n",
    "\n",
    "class LemmaTokenizer(object):\n",
    "    def __init__(self):\n",
    "        self.wnl = WordNetLemmatizer()\n",
    "        self.stopWords = set(ENGLISH_STOP_WORDS)\n",
    "    def __call__(self, doc):\n",
    "         return [self.wnl.lemmatize(t) for t in word_tokenize(doc) \n",
    "                if t.isalpha() and t not in self.stopWords]\n",
    "\n",
    "preprocessor = CountVectorizer(tokenizer=LemmaTokenizer(), encoding='english')\n",
    "preprocessedText = preprocessor.fit_transform(corpus)"
   ]
  },
  {
   "cell_type": "code",
   "execution_count": 8,
   "metadata": {},
   "outputs": [],
   "source": [
    "# TF-IDF and latent semantic analysis\n",
    "tfidfTransformer = TfidfTransformer()\n",
    "tfidf = tfidfTransformer.fit_transform(preprocessedText)"
   ]
  },
  {
   "cell_type": "markdown",
   "metadata": {},
   "source": [
    "## 6. Generate the TF-IDF matrix for latent semantic analysis. Using the TruncatedSVD() function, extract 10 and follow the example in the textbook to generate the lsa_tfidf matrix.\n"
   ]
  },
  {
   "cell_type": "code",
   "execution_count": 9,
   "metadata": {},
   "outputs": [],
   "source": [
    "# Extract 10 concepts using LSA ()\n",
    "svd = TruncatedSVD(10)\n",
    "normalizer = Normalizer(copy=False)\n",
    "lsa = make_pipeline(svd, normalizer)\n",
    "\n",
    "lsa_tfidf = lsa.fit_transform(tfidf)"
   ]
  },
  {
   "cell_type": "markdown",
   "metadata": {},
   "source": [
    "## 7. Split the lsa_tfidf and label dataset into 60% training and 40% test set and apply logistic regression to predict the test dataset label. How is the accuracy of your model? Also, plot the corresponding gains and lift charts.\n"
   ]
  },
  {
   "cell_type": "code",
   "execution_count": 10,
   "metadata": {},
   "outputs": [
    {
     "name": "stdout",
     "output_type": "stream",
     "text": [
      "Confusion Matrix (Accuracy 0.7268)\n",
      "\n",
      "       Prediction\n",
      "Actual    0    1\n",
      "     0    0  453\n",
      "     1    0 1205\n"
     ]
    }
   ],
   "source": [
    "# split dataset into 60% training and 40% test set\n",
    "Xtrain, Xtest, ytrain, ytest = train_test_split(lsa_tfidf, labels, test_size=0.4, random_state=24)\n",
    "\n",
    "# run logistic regression model on training\n",
    "logit_reg = LogisticRegression(solver='lbfgs')\n",
    "logit_reg.fit(Xtrain, ytrain)\n",
    "\n",
    "# print confusion matrix and accuracty\n",
    "classificationSummary(ytest, logit_reg.predict(Xtest))"
   ]
  },
  {
   "cell_type": "markdown",
   "metadata": {},
   "source": [
    "## 8. Refer back to the k-means code from Chapter 15 and generate and plot the centroids of 3 clusters using the parallel_coordinates() function. Which component seems to distinguish the clusters better? Also, comment on the within and between cluster distances in your clusters."
   ]
  },
  {
   "cell_type": "code",
   "execution_count": 11,
   "metadata": {},
   "outputs": [
    {
     "data": {
      "text/plain": [
       "4143"
      ]
     },
     "execution_count": 11,
     "metadata": {},
     "output_type": "execute_result"
    }
   ],
   "source": [
    "len(lsa_tfidf)\n",
    "len(drugLib.urlDrugName)"
   ]
  },
  {
   "cell_type": "code",
   "execution_count": 12,
   "metadata": {},
   "outputs": [],
   "source": [
    "kmeans = KMeans(n_clusters=3, random_state=0).fit(lsa_tfidf)\n",
    "\n",
    "# Cluster membership\n",
    "memb = pd.Series(kmeans.labels_, index=drugLib.urlDrugName)\n",
    "#for key, item in memb.groupby(memb):\n",
    "#    print(key, ': ', ', '.join(item.index)) "
   ]
  },
  {
   "cell_type": "code",
   "execution_count": 13,
   "metadata": {},
   "outputs": [
    {
     "data": {
      "text/html": [
       "<div>\n",
       "<style scoped>\n",
       "    .dataframe tbody tr th:only-of-type {\n",
       "        vertical-align: middle;\n",
       "    }\n",
       "\n",
       "    .dataframe tbody tr th {\n",
       "        vertical-align: top;\n",
       "    }\n",
       "\n",
       "    .dataframe thead th {\n",
       "        text-align: right;\n",
       "    }\n",
       "</style>\n",
       "<table border=\"1\" class=\"dataframe\">\n",
       "  <thead>\n",
       "    <tr style=\"text-align: right;\">\n",
       "      <th></th>\n",
       "      <th>0</th>\n",
       "      <th>1</th>\n",
       "      <th>2</th>\n",
       "      <th>3</th>\n",
       "      <th>4</th>\n",
       "      <th>5</th>\n",
       "      <th>6</th>\n",
       "      <th>7</th>\n",
       "      <th>8</th>\n",
       "      <th>9</th>\n",
       "    </tr>\n",
       "  </thead>\n",
       "  <tbody>\n",
       "    <tr>\n",
       "      <th>0</th>\n",
       "      <td>0.362</td>\n",
       "      <td>-0.271</td>\n",
       "      <td>-0.065</td>\n",
       "      <td>0.003</td>\n",
       "      <td>-0.128</td>\n",
       "      <td>-0.066</td>\n",
       "      <td>0.565</td>\n",
       "      <td>-0.190</td>\n",
       "      <td>0.089</td>\n",
       "      <td>0.031</td>\n",
       "    </tr>\n",
       "    <tr>\n",
       "      <th>1</th>\n",
       "      <td>0.512</td>\n",
       "      <td>-0.565</td>\n",
       "      <td>-0.186</td>\n",
       "      <td>-0.218</td>\n",
       "      <td>-0.134</td>\n",
       "      <td>-0.009</td>\n",
       "      <td>-0.127</td>\n",
       "      <td>0.017</td>\n",
       "      <td>-0.071</td>\n",
       "      <td>-0.080</td>\n",
       "    </tr>\n",
       "    <tr>\n",
       "      <th>2</th>\n",
       "      <td>0.543</td>\n",
       "      <td>0.003</td>\n",
       "      <td>0.004</td>\n",
       "      <td>0.059</td>\n",
       "      <td>0.006</td>\n",
       "      <td>0.005</td>\n",
       "      <td>-0.018</td>\n",
       "      <td>0.019</td>\n",
       "      <td>-0.025</td>\n",
       "      <td>0.027</td>\n",
       "    </tr>\n",
       "  </tbody>\n",
       "</table>\n",
       "</div>"
      ],
      "text/plain": [
       "       0      1      2      3      4      5      6      7      8      9\n",
       "0  0.362 -0.271 -0.065  0.003 -0.128 -0.066  0.565 -0.190  0.089  0.031\n",
       "1  0.512 -0.565 -0.186 -0.218 -0.134 -0.009 -0.127  0.017 -0.071 -0.080\n",
       "2  0.543  0.003  0.004  0.059  0.006  0.005 -0.018  0.019 -0.025  0.027"
      ]
     },
     "execution_count": 13,
     "metadata": {},
     "output_type": "execute_result"
    }
   ],
   "source": [
    "centroids = pd.DataFrame(kmeans.cluster_centers_)\n",
    "pd.set_option('precision', 3)\n",
    "centroids"
   ]
  },
  {
   "cell_type": "code",
   "execution_count": 14,
   "metadata": {},
   "outputs": [
    {
     "data": {
      "text/plain": [
       "<matplotlib.legend.Legend at 0x7ff3a90b4640>"
      ]
     },
     "execution_count": 14,
     "metadata": {},
     "output_type": "execute_result"
    },
    {
     "data": {
      "image/png": "[encoded data removed]",
      "text/plain": [
       "<Figure size 720x432 with 1 Axes>"
      ]
     },
     "metadata": {
      "needs_background": "light"
     },
     "output_type": "display_data"
    }
   ],
   "source": [
    "centroids['cluster'] = ['Cluster {}'.format(i) for i in centroids.index]\n",
    "plt.figure(figsize=(10,6))\n",
    "parallel_coordinates(centroids, class_column='cluster', colormap='Dark2', linewidth=5)\n",
    "plt.legend(loc='center left', bbox_to_anchor=(1, 0.5)) "
   ]
  },
  {
   "cell_type": "markdown",
   "metadata": {},
   "source": [
    "## 9. Optional (Extra credit). Try to apply the RNN model for sentiment analysis about comment reviews (e.g., use the corpus as your text, and the label vector as your sentiment column—1 means positive and 0 means negative). Change your hyperparameters as you see fit and run 10 epochs. How is the accuracy of your model?"
   ]
  },
  {
   "cell_type": "markdown",
   "metadata": {},
   "source": [
    "*Note:*\n",
    "\n",
    "The code below is NOT complete. I tokenized the corpus and created the model but ran into shape issues trying to run the whle thing and I was running out of time. \n",
    "\n",
    "I also ran into TF version issues. Some of the code I used from `lstm.ipynb` seems older and parameters were causing issues. I struggled for a while with all the `dropout` values before removing them.\n"
   ]
  },
  {
   "cell_type": "code",
   "execution_count": 16,
   "metadata": {},
   "outputs": [],
   "source": [
    "#Dependencies\n",
    "import numpy as np # linear algebra\n",
    "import pandas as pd # data processing, CSV file I/O (e.g. pd.read_csv)\n",
    "\n",
    "from sklearn.feature_extraction.text import CountVectorizer\n",
    "from keras.preprocessing.text import Tokenizer\n",
    "from keras.preprocessing.sequence import pad_sequences\n",
    "from keras.models import Sequential\n",
    "from keras.layers import Dense, Embedding, LSTM\n",
    "from sklearn.model_selection import train_test_split\n",
    "from keras.utils.np_utils import to_categorical\n",
    "import re\n",
    "\n",
    "\n",
    "max_fatures = 2000\n",
    "tokenizer = Tokenizer(nb_words=max_fatures, split=' ')\n",
    "tokenizer.fit_on_texts(corpus)\n",
    "X = tokenizer.texts_to_sequences(corpus)\n",
    "X = pad_sequences(X)"
   ]
  },
  {
   "cell_type": "code",
   "execution_count": 26,
   "metadata": {},
   "outputs": [
    {
     "name": "stdout",
     "output_type": "stream",
     "text": [
      "Model: \"sequential_8\"\n",
      "_________________________________________________________________\n",
      "Layer (type)                 Output Shape              Param #   \n",
      "=================================================================\n",
      "embedding_5 (Embedding)      (None, 699, 128)          256000    \n",
      "_________________________________________________________________\n",
      "lstm_2 (LSTM)                (None, 196)               254800    \n",
      "_________________________________________________________________\n",
      "dense_2 (Dense)              (None, 2)                 394       \n",
      "=================================================================\n",
      "Total params: 511,194\n",
      "Trainable params: 511,194\n",
      "Non-trainable params: 0\n",
      "_________________________________________________________________\n",
      "None\n"
     ]
    }
   ],
   "source": [
    "#compile the model\n",
    "embed_dim = 128\n",
    "lstm_out = 196\n",
    "\n",
    "model = Sequential()\n",
    "model.add(Embedding(max_fatures, embed_dim,input_length = X.shape[1]))\n",
    "model.add(LSTM(lstm_out))\n",
    "model.add(Dense(2,activation='softmax'))\n",
    "model.compile(loss = 'categorical_crossentropy', optimizer='adam',metrics = ['accuracy'])\n",
    "print(model.summary())"
   ]
  },
  {
   "cell_type": "code",
   "execution_count": null,
   "metadata": {},
   "outputs": [],
   "source": [
    "# training (60%) and validation (40%)\n",
    "X_train, X_valid, Y_train, Y_valid = train_test_split(X, drugLib['rating'], test_size=0.4, random_state=1)\n",
    "\n",
    "#train the model\n",
    "batch_size = 32\n",
    "model.fit(X_train, Y_train, epochs = 7, batch_size=batch_size, verbose = 2)"
   ]
  },
  {
   "cell_type": "code",
   "execution_count": null,
   "metadata": {},
   "outputs": [],
   "source": [
    "validation_size = 1500\n",
    "\n",
    "score,acc = model.evaluate(X_valid, Y_valid, verbose = 2, batch_size = batch_size)\n",
    "print(\"score: %.2f\" % (score))\n",
    "print(\"acc: %.2f\" % (acc))"
   ]
  },
  {
   "cell_type": "code",
   "execution_count": null,
   "metadata": {},
   "outputs": [],
   "source": [
    "pos_cnt, neg_cnt, pos_correct, neg_correct = 0, 0, 0, 0\n",
    "for x in range(len(X_validate)):\n",
    "    \n",
    "    result = model.predict(X_validate[x].reshape(1,X_test.shape[1]),batch_size=1,verbose = 2)[0]\n",
    "   \n",
    "    if np.argmax(result) == np.argmax(Y_validate[x]):\n",
    "        if np.argmax(Y_validate[x]) == 0:\n",
    "            neg_correct += 1\n",
    "        else:\n",
    "            pos_correct += 1\n",
    "       \n",
    "    if np.argmax(Y_validate[x]) == 0:\n",
    "        neg_cnt += 1\n",
    "    else:\n",
    "        pos_cnt += 1\n",
    "\n",
    "\n",
    "\n",
    "print(\"pos_acc\", pos_correct/pos_cnt*100, \"%\")\n",
    "print(\"neg_acc\", neg_correct/neg_cnt*100, \"%\")"
   ]
  }
 ],
 "metadata": {
  "kernelspec": {
   "display_name": "Python 3",
   "language": "python",
   "name": "python3"
  },
  "language_info": {
   "codemirror_mode": {
    "name": "ipython",
    "version": 3
   },
   "file_extension": ".py",
   "mimetype": "text/x-python",
   "name": "python",
   "nbconvert_exporter": "python",
   "pygments_lexer": "ipython3",
   "version": "3.8.6"
  }
 },
 "nbformat": 4,
 "nbformat_minor": 4
}
