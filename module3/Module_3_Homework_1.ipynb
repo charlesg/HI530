{
  "cells": [
    {
      "cell_type": "markdown",
      "source": "# Module 3 - Homework 1\n\n## Problem 6.3 - Predicting Airfare on New Routes. \n\nThe following problem takes place in the United States in the late 1990s, when many major US cities were facing issues with airport congestion, partly as a result of the 1978 deregulation of airlines. Both fares and routes were freed from regulation, and low-fare carriers such as Southwest (SW) began competing on existing routes and starting nonstop service on routes that previously lacked it. Building completely new airports is generally not feasible, but sometimes decommissioned military bases or smaller municipal airports can be reconfigured as regional or larger commercial airports. There are numerous players and interests involved in the issue (airlines, city, state and federal authorities, civic groups, the military, airport operators), and an aviation consulting firm is seeking advisory contracts with these players. The firm needs predictive models to support its consulting service. One thing the firm might want to be able to predict is fares, in the event a new airport is brought into service. The firm starts with the file Airfares.csv , which contains real data that were collected between Q3—1996 and Q2—1997. The variables in these data are listed in Table 6.13 , and are believed to be important in predicting FARE. Some airport-to-airport data are available, but most data are at the city-to-city level. One question that will be of interest in the analysis is the effect that the presence or absence of Southwest has on FARE.\n\nTable 6.13 Description of Variables for Airfare Example\n\n| Variable   | Description                                                                                                                        |\n| ---        | ---                                                                                                                                |\n| S_CODE     | Starting airport’s code                                                                                                            |\n| S_CITY     | Starting city                                                                                                                      |\n| E_CODE     | Ending airport’s code                                                                                                              |\n| E_CITY     | Ending city                                                                                                                        |\n| COUPON     | Average number of coupons (a one-coupon flight is a nonstop flight, a two-coupon flight is a one-stop flight, etc.) for that route |\n| NEW        | Number of new carriers entering that route between Q3—1996 and Q2—1997                                                             |\n| VACATION   | Whether (Yes) or not (No) a vacation route                                                                                         |\n| SW         | Whether (Yes) or not (No) Southwest Airlines serves that route                                                                     |\n| HI         | Herfindahl index: measure of market concentration                                                                                  |\n| S_INCOME   | Starting city’s average personal income                                                                                            |\n| E_INCOME   | Ending city’s average personal income                                                                                              |\n| S_POP      | Starting city’s population                                                                                                         |\n| E_POP      |  Ending city’s population                                                                                                          |\n| SLOT       | Whether or not either endpoint airport is slot-controlled (this is a measure of airport congestion)                                |\n| GATE       | Whether or not either endpoint airport has gate constraints (this is another measure of airport congestion)                        |\n| DISTANCE   | Distance between two endpoint airports in miles                                                                                    |\n| PAX        | Number of passengers on that route during period of data collection                                                                |\n| FARE       | Average fare on that route                                                                                                         |\n\n-- \n\nShmueli, Galit,Bruce, Peter C.,Gedeck, Peter,Patel, Nitin R.. Data Mining for Business Analytics (Kindle Locations 6471-6475). Wiley. Kindle Edition. ",
      "metadata": {
        "tags": [],
        "cell_id": "00000-1d475086-0d4f-4ce0-a9cd-62071eb07173",
        "deepnote_cell_type": "markdown"
      }
    },
    {
      "cell_type": "markdown",
      "source": "- a) Explore the numerical predictors and outcome (FARE) by creating a correlation table and examining some scatterplots between FARE and those predictors. What seems to be the best single predictor of FARE?\n- b) Explore the categorical predictors (excluding the first four) by computing the percentage of flights in each category. Create a pivot table with the average fare in each category. Which categorical predictor seems best for predicting FARE?\n- c) Find a model for predicting the average fare on a new route:\n\n   - i) Convert categorical variables into dummy variables. Then, partition the data into training and validation sets. The model will be fit to the training data and evaluated on the validation set.\n\n   - ii) Use stepwise regression to reduce the number of predictors. You can ignore the first four predictors (S_CODE, S_CITY, E_CODE, E_CITY). Report the estimated model selected.\n\n   - iii) Repeat (ii) using exhaustive search instead of stepwise regression. Compare the resulting best model to the one you obtained in (ii) in terms of the predictors that are in the model.\n\n   - iv) Compare the predictive accuracy of both models (ii) and (iii) using measures such as RMSE and average error and lift charts.\n\n   - v) Using model (iii), predict the average fare on a route with the following characteristics: COUPON = 1.202, NEW = 3, VACATION = No, SW = No, HI = 4442.141, S\\_INCOME = \\$28,760, E\\_INCOME = \\$27,664, S_POP = 4,557,004, E\\_POP = 3,195,503, SLOT = Free, GATE = Free, PAX = 12,782, DISTANCE = 1976 miles.\n\n   - vi) Predict the reduction in average fare on the route in (v) if Southwest decides to cover this route [using model (iii)].\n\n   - vii) In reality, which of the factors will not be available for predicting the average fare from a new airport (i.e., before flights start operating on those routes)? Which ones can be estimated? How?\n\n   - viii) Select a model that includes only factors that are available before flights begin to operate on the new route. Use an exhaustive search to find such a model. \n\n   - ix) Use the model in (viii) to predict the average fare on a route with characteristics COUPON = 1.202, NEW = 3, VACATION = No, SW = No, HI = 4442.141, S\\_INCOME = \\$28,760, E\\_INCOME = \\$27,664, S_ POP = 4,557,004, E_POP = 3,195,503, SLOT = Free, GATE = Free, PAX = 12,782, DISTANCE = 1976 miles. \n\n   - x) Compare the predictive accuracy of this model with model (iii). Is this model good enough, or is it worthwhile reevaluating the model once flights begin on the new route? \n\n- d) In competitive industries, a new entrant with a novel business plan can have a disruptive effect on existing firms. If a new entrant’s business model is sustainable, other players are forced to respond by changing their business practices. If the goal of the analysis was to evaluate the effect of Southwest Airlines’ presence on the airline industry rather than predicting fares on new routes, how would the analysis be different? Describe technical and conceptual aspects. ",
      "metadata": {
        "tags": [],
        "cell_id": "00001-6ba071f1-00da-4bcf-a898-86bf905cf552",
        "deepnote_cell_type": "markdown"
      }
    },
    {
      "cell_type": "code",
      "metadata": {
        "tags": [],
        "cell_id": "00002-3fed6cc2-488b-4dd1-a77a-8f3fd6cb9fae",
        "deepnote_to_be_reexecuted": false,
        "source_hash": "1a857452",
        "execution_millis": 0,
        "execution_start": 1614811053329,
        "deepnote_cell_type": "code"
      },
      "source": "import numpy as np\nimport networkx as nx\nimport pandas as pd\nimport matplotlib.pylab as plt\nimport seaborn as sns\n#\nfrom sklearn.model_selection import train_test_split\nfrom sklearn.linear_model import LinearRegression, Lasso, Ridge, LassoCV, BayesianRidge\nfrom dmba import regressionSummary, exhaustive_search, gainsChart, liftChart\nfrom dmba import backward_elimination, forward_selection, stepwise_selection\nfrom dmba import adjusted_r2_score, AIC_score, BIC_score\n",
      "execution_count": null,
      "outputs": []
    },
    {
      "cell_type": "markdown",
      "source": "### a) Explore the numerical predictors and outcome (FARE) by creating a correlation table and examining some scatterplots between FARE and those predictors. What seems to be the best single predictor of FARE?",
      "metadata": {
        "tags": [],
        "cell_id": "00003-cbb6d940-4f71-4a59-b6f2-8562d9538f30",
        "deepnote_cell_type": "markdown"
      }
    },
    {
      "cell_type": "code",
      "metadata": {
        "tags": [],
        "cell_id": "00000-53e64b8c-a33b-4163-a436-cf712656fe93",
        "deepnote_to_be_reexecuted": false,
        "source_hash": "d7e66d00",
        "execution_millis": 40,
        "execution_start": 1614801832214,
        "deepnote_cell_type": "code"
      },
      "source": "af_df = pd.read_csv('Airfares.csv')\naf_df\n",
      "execution_count": null,
      "outputs": [
        {
          "output_type": "execute_result",
          "execution_count": 44,
          "data": {
            "application/vnd.deepnote.dataframe.v2+json": {
              "row_count": 638,
              "column_count": 18,
              "columns": [
                {
                  "name": "S_CODE",
                  "dtype": "object",
                  "stats": {
                    "unique_count": 8,
                    "nan_count": 0,
                    "categories": [
                      {
                        "name": "*",
                        "count": 454
                      },
                      {
                        "name": "ORD",
                        "count": 45
                      },
                      {
                        "name": "6 others",
                        "count": 139
                      }
                    ]
                  }
                },
                {
                  "name": "S_CITY",
                  "dtype": "object",
                  "stats": {
                    "unique_count": 51,
                    "nan_count": 0,
                    "categories": [
                      {
                        "name": "Chicago             IL",
                        "count": 90
                      },
                      {
                        "name": "New York/Newark     NY",
                        "count": 88
                      },
                      {
                        "name": "49 others",
                        "count": 460
                      }
                    ]
                  }
                },
                {
                  "name": "E_CODE",
                  "dtype": "object",
                  "stats": {
                    "unique_count": 8,
                    "nan_count": 0,
                    "categories": [
                      {
                        "name": "*",
                        "count": 501
                      },
                      {
                        "name": "IAD",
                        "count": 27
                      },
                      {
                        "name": "6 others",
                        "count": 110
                      }
                    ]
                  }
                },
                {
                  "name": "E_CITY",
                  "dtype": "object",
                  "stats": {
                    "unique_count": 68,
                    "nan_count": 0,
                    "categories": [
                      {
                        "name": "New York/Newark     NY",
                        "count": 75
                      },
                      {
                        "name": "Washington          DC",
                        "count": 54
                      },
                      {
                        "name": "66 others",
                        "count": 509
                      }
                    ]
                  }
                },
                {
                  "name": "COUPON",
                  "dtype": "float64",
                  "stats": {
                    "unique_count": 77,
                    "nan_count": 0,
                    "min": 1,
                    "max": 1.94,
                    "histogram": [
                      {
                        "bin_start": 1,
                        "bin_end": 1.094,
                        "count": 254
                      },
                      {
                        "bin_start": 1.094,
                        "bin_end": 1.188,
                        "count": 120
                      },
                      {
                        "bin_start": 1.188,
                        "bin_end": 1.282,
                        "count": 88
                      },
                      {
                        "bin_start": 1.282,
                        "bin_end": 1.376,
                        "count": 73
                      },
                      {
                        "bin_start": 1.376,
                        "bin_end": 1.47,
                        "count": 33
                      },
                      {
                        "bin_start": 1.47,
                        "bin_end": 1.564,
                        "count": 25
                      },
                      {
                        "bin_start": 1.564,
                        "bin_end": 1.658,
                        "count": 17
                      },
                      {
                        "bin_start": 1.658,
                        "bin_end": 1.752,
                        "count": 10
                      },
                      {
                        "bin_start": 1.752,
                        "bin_end": 1.846,
                        "count": 7
                      },
                      {
                        "bin_start": 1.846,
                        "bin_end": 1.94,
                        "count": 11
                      }
                    ]
                  }
                },
                {
                  "name": "NEW",
                  "dtype": "int64",
                  "stats": {
                    "unique_count": 4,
                    "nan_count": 0,
                    "min": 0,
                    "max": 3,
                    "histogram": [
                      {
                        "bin_start": 0,
                        "bin_end": 0.3,
                        "count": 34
                      },
                      {
                        "bin_start": 0.3,
                        "bin_end": 0.6,
                        "count": 0
                      },
                      {
                        "bin_start": 0.6,
                        "bin_end": 0.8999999999999999,
                        "count": 0
                      },
                      {
                        "bin_start": 0.8999999999999999,
                        "bin_end": 1.2,
                        "count": 23
                      },
                      {
                        "bin_start": 1.2,
                        "bin_end": 1.5,
                        "count": 0
                      },
                      {
                        "bin_start": 1.5,
                        "bin_end": 1.7999999999999998,
                        "count": 0
                      },
                      {
                        "bin_start": 1.7999999999999998,
                        "bin_end": 2.1,
                        "count": 9
                      },
                      {
                        "bin_start": 2.1,
                        "bin_end": 2.4,
                        "count": 0
                      },
                      {
                        "bin_start": 2.4,
                        "bin_end": 2.6999999999999997,
                        "count": 0
                      },
                      {
                        "bin_start": 2.6999999999999997,
                        "bin_end": 3,
                        "count": 572
                      }
                    ]
                  }
                },
                {
                  "name": "VACATION",
                  "dtype": "object",
                  "stats": {
                    "unique_count": 2,
                    "nan_count": 0,
                    "categories": [
                      {
                        "name": "No",
                        "count": 468
                      },
                      {
                        "name": "Yes",
                        "count": 170
                      }
                    ]
                  }
                },
                {
                  "name": "SW",
                  "dtype": "object",
                  "stats": {
                    "unique_count": 2,
                    "nan_count": 0,
                    "categories": [
                      {
                        "name": "No",
                        "count": 444
                      },
                      {
                        "name": "Yes",
                        "count": 194
                      }
                    ]
                  }
                },
                {
                  "name": "HI",
                  "dtype": "float64",
                  "stats": {
                    "unique_count": 452,
                    "nan_count": 0,
                    "min": 1230.48,
                    "max": 10000,
                    "histogram": [
                      {
                        "bin_start": 1230.48,
                        "bin_end": 2107.432,
                        "count": 28
                      },
                      {
                        "bin_start": 2107.432,
                        "bin_end": 2984.384,
                        "count": 113
                      },
                      {
                        "bin_start": 2984.384,
                        "bin_end": 3861.336,
                        "count": 130
                      },
                      {
                        "bin_start": 3861.336,
                        "bin_end": 4738.2880000000005,
                        "count": 119
                      },
                      {
                        "bin_start": 4738.2880000000005,
                        "bin_end": 5615.24,
                        "count": 111
                      },
                      {
                        "bin_start": 5615.24,
                        "bin_end": 6492.191999999999,
                        "count": 69
                      },
                      {
                        "bin_start": 6492.191999999999,
                        "bin_end": 7369.144,
                        "count": 28
                      },
                      {
                        "bin_start": 7369.144,
                        "bin_end": 8246.096,
                        "count": 17
                      },
                      {
                        "bin_start": 8246.096,
                        "bin_end": 9123.048,
                        "count": 9
                      },
                      {
                        "bin_start": 9123.048,
                        "bin_end": 10000,
                        "count": 14
                      }
                    ]
                  }
                },
                {
                  "name": "S_INCOME",
                  "dtype": "float64",
                  "stats": {
                    "unique_count": 50,
                    "nan_count": 0,
                    "min": 14600,
                    "max": 38813,
                    "histogram": [
                      {
                        "bin_start": 14600,
                        "bin_end": 17021.3,
                        "count": 1
                      },
                      {
                        "bin_start": 17021.3,
                        "bin_end": 19442.6,
                        "count": 2
                      },
                      {
                        "bin_start": 19442.6,
                        "bin_end": 21863.9,
                        "count": 20
                      },
                      {
                        "bin_start": 21863.9,
                        "bin_end": 24285.2,
                        "count": 75
                      },
                      {
                        "bin_start": 24285.2,
                        "bin_end": 26706.5,
                        "count": 141
                      },
                      {
                        "bin_start": 26706.5,
                        "bin_end": 29127.800000000003,
                        "count": 149
                      },
                      {
                        "bin_start": 29127.800000000003,
                        "bin_end": 31549.100000000002,
                        "count": 146
                      },
                      {
                        "bin_start": 31549.100000000002,
                        "bin_end": 33970.4,
                        "count": 94
                      },
                      {
                        "bin_start": 33970.4,
                        "bin_end": 36391.7,
                        "count": 2
                      },
                      {
                        "bin_start": 36391.7,
                        "bin_end": 38813,
                        "count": 8
                      }
                    ]
                  }
                },
                {
                  "name": "E_INCOME",
                  "dtype": "float64",
                  "stats": {
                    "unique_count": 67,
                    "nan_count": 0,
                    "min": 14600,
                    "max": 38813,
                    "histogram": [
                      {
                        "bin_start": 14600,
                        "bin_end": 17021.3,
                        "count": 1
                      },
                      {
                        "bin_start": 17021.3,
                        "bin_end": 19442.6,
                        "count": 3
                      },
                      {
                        "bin_start": 19442.6,
                        "bin_end": 21863.9,
                        "count": 41
                      },
                      {
                        "bin_start": 21863.9,
                        "bin_end": 24285.2,
                        "count": 129
                      },
                      {
                        "bin_start": 24285.2,
                        "bin_end": 26706.5,
                        "count": 166
                      },
                      {
                        "bin_start": 26706.5,
                        "bin_end": 29127.800000000003,
                        "count": 56
                      },
                      {
                        "bin_start": 29127.800000000003,
                        "bin_end": 31549.100000000002,
                        "count": 69
                      },
                      {
                        "bin_start": 31549.100000000002,
                        "bin_end": 33970.4,
                        "count": 129
                      },
                      {
                        "bin_start": 33970.4,
                        "bin_end": 36391.7,
                        "count": 12
                      },
                      {
                        "bin_start": 36391.7,
                        "bin_end": 38813,
                        "count": 32
                      }
                    ]
                  }
                },
                {
                  "name": "S_POP",
                  "dtype": "int64",
                  "stats": {
                    "unique_count": 50,
                    "nan_count": 0,
                    "min": 29838,
                    "max": 9056076,
                    "histogram": [
                      {
                        "bin_start": 29838,
                        "bin_end": 932461.8,
                        "count": 37
                      },
                      {
                        "bin_start": 932461.8,
                        "bin_end": 1835085.6,
                        "count": 115
                      },
                      {
                        "bin_start": 1835085.6,
                        "bin_end": 2737709.4000000004,
                        "count": 79
                      },
                      {
                        "bin_start": 2737709.4000000004,
                        "bin_end": 3640333.2,
                        "count": 104
                      },
                      {
                        "bin_start": 3640333.2,
                        "bin_end": 4542957,
                        "count": 42
                      },
                      {
                        "bin_start": 4542957,
                        "bin_end": 5445580.800000001,
                        "count": 12
                      },
                      {
                        "bin_start": 5445580.800000001,
                        "bin_end": 6348204.600000001,
                        "count": 31
                      },
                      {
                        "bin_start": 6348204.600000001,
                        "bin_end": 7250828.4,
                        "count": 0
                      },
                      {
                        "bin_start": 7250828.4,
                        "bin_end": 8153452.2,
                        "count": 90
                      },
                      {
                        "bin_start": 8153452.2,
                        "bin_end": 9056076,
                        "count": 128
                      }
                    ]
                  }
                },
                {
                  "name": "E_POP",
                  "dtype": "int64",
                  "stats": {
                    "unique_count": 68,
                    "nan_count": 0,
                    "min": 111745,
                    "max": 9056076,
                    "histogram": [
                      {
                        "bin_start": 111745,
                        "bin_end": 1006178.1,
                        "count": 105
                      },
                      {
                        "bin_start": 1006178.1,
                        "bin_end": 1900611.2,
                        "count": 195
                      },
                      {
                        "bin_start": 1900611.2,
                        "bin_end": 2795044.3,
                        "count": 125
                      },
                      {
                        "bin_start": 2795044.3,
                        "bin_end": 3689477.4,
                        "count": 10
                      },
                      {
                        "bin_start": 3689477.4,
                        "bin_end": 4583910.5,
                        "count": 70
                      },
                      {
                        "bin_start": 4583910.5,
                        "bin_end": 5478343.6,
                        "count": 14
                      },
                      {
                        "bin_start": 5478343.6,
                        "bin_end": 6372776.7,
                        "count": 1
                      },
                      {
                        "bin_start": 6372776.7,
                        "bin_end": 7267209.8,
                        "count": 23
                      },
                      {
                        "bin_start": 7267209.8,
                        "bin_end": 8161642.899999999,
                        "count": 8
                      },
                      {
                        "bin_start": 8161642.899999999,
                        "bin_end": 9056076,
                        "count": 87
                      }
                    ]
                  }
                },
                {
                  "name": "SLOT",
                  "dtype": "object",
                  "stats": {
                    "unique_count": 2,
                    "nan_count": 0,
                    "categories": [
                      {
                        "name": "Free",
                        "count": 456
                      },
                      {
                        "name": "Controlled",
                        "count": 182
                      }
                    ]
                  }
                },
                {
                  "name": "GATE",
                  "dtype": "object",
                  "stats": {
                    "unique_count": 2,
                    "nan_count": 0,
                    "categories": [
                      {
                        "name": "Free",
                        "count": 514
                      },
                      {
                        "name": "Constrained",
                        "count": 124
                      }
                    ]
                  }
                },
                {
                  "name": "DISTANCE",
                  "dtype": "int64",
                  "stats": {
                    "unique_count": 400,
                    "nan_count": 0,
                    "min": 114,
                    "max": 2764,
                    "histogram": [
                      {
                        "bin_start": 114,
                        "bin_end": 379,
                        "count": 119
                      },
                      {
                        "bin_start": 379,
                        "bin_end": 644,
                        "count": 133
                      },
                      {
                        "bin_start": 644,
                        "bin_end": 909,
                        "count": 94
                      },
                      {
                        "bin_start": 909,
                        "bin_end": 1174,
                        "count": 110
                      },
                      {
                        "bin_start": 1174,
                        "bin_end": 1439,
                        "count": 36
                      },
                      {
                        "bin_start": 1439,
                        "bin_end": 1704,
                        "count": 47
                      },
                      {
                        "bin_start": 1704,
                        "bin_end": 1969,
                        "count": 29
                      },
                      {
                        "bin_start": 1969,
                        "bin_end": 2234,
                        "count": 22
                      },
                      {
                        "bin_start": 2234,
                        "bin_end": 2499,
                        "count": 34
                      },
                      {
                        "bin_start": 2499,
                        "bin_end": 2764,
                        "count": 14
                      }
                    ]
                  }
                },
                {
                  "name": "PAX",
                  "dtype": "int64",
                  "stats": {
                    "unique_count": 449,
                    "nan_count": 0,
                    "min": 1504,
                    "max": 73892,
                    "histogram": [
                      {
                        "bin_start": 1504,
                        "bin_end": 8742.8,
                        "count": 352
                      },
                      {
                        "bin_start": 8742.8,
                        "bin_end": 15981.6,
                        "count": 149
                      },
                      {
                        "bin_start": 15981.6,
                        "bin_end": 23220.4,
                        "count": 55
                      },
                      {
                        "bin_start": 23220.4,
                        "bin_end": 30459.2,
                        "count": 33
                      },
                      {
                        "bin_start": 30459.2,
                        "bin_end": 37698,
                        "count": 9
                      },
                      {
                        "bin_start": 37698,
                        "bin_end": 44936.8,
                        "count": 10
                      },
                      {
                        "bin_start": 44936.8,
                        "bin_end": 52175.6,
                        "count": 8
                      },
                      {
                        "bin_start": 52175.6,
                        "bin_end": 59414.4,
                        "count": 4
                      },
                      {
                        "bin_start": 59414.4,
                        "bin_end": 66653.20000000001,
                        "count": 9
                      },
                      {
                        "bin_start": 66653.20000000001,
                        "bin_end": 73892,
                        "count": 9
                      }
                    ]
                  }
                },
                {
                  "name": "FARE",
                  "dtype": "float64",
                  "stats": {
                    "unique_count": 451,
                    "nan_count": 0,
                    "min": 42.47,
                    "max": 402.02,
                    "histogram": [
                      {
                        "bin_start": 42.47,
                        "bin_end": 78.425,
                        "count": 99
                      },
                      {
                        "bin_start": 78.425,
                        "bin_end": 114.38,
                        "count": 93
                      },
                      {
                        "bin_start": 114.38,
                        "bin_end": 150.33499999999998,
                        "count": 144
                      },
                      {
                        "bin_start": 150.33499999999998,
                        "bin_end": 186.29,
                        "count": 92
                      },
                      {
                        "bin_start": 186.29,
                        "bin_end": 222.24499999999998,
                        "count": 71
                      },
                      {
                        "bin_start": 222.24499999999998,
                        "bin_end": 258.2,
                        "count": 48
                      },
                      {
                        "bin_start": 258.2,
                        "bin_end": 294.155,
                        "count": 50
                      },
                      {
                        "bin_start": 294.155,
                        "bin_end": 330.11,
                        "count": 28
                      },
                      {
                        "bin_start": 330.11,
                        "bin_end": 366.06499999999994,
                        "count": 8
                      },
                      {
                        "bin_start": 366.06499999999994,
                        "bin_end": 402.02,
                        "count": 5
                      }
                    ]
                  }
                },
                {
                  "name": "_deepnote_index_column",
                  "dtype": "int64"
                }
              ],
              "rows_top": [
                {
                  "S_CODE": "*",
                  "S_CITY": "Dallas/Fort Worth   TX",
                  "E_CODE": "*",
                  "E_CITY": "Amarillo            TX",
                  "COUPON": 1,
                  "NEW": 3,
                  "VACATION": "No",
                  "SW": "Yes",
                  "HI": 5291.99,
                  "S_INCOME": 28637,
                  "E_INCOME": 21112,
                  "S_POP": 3036732,
                  "E_POP": 205711,
                  "SLOT": "Free",
                  "GATE": "Free",
                  "DISTANCE": 312,
                  "PAX": 7864,
                  "FARE": 64.11,
                  "_deepnote_index_column": 0
                },
                {
                  "S_CODE": "*",
                  "S_CITY": "Atlanta             GA",
                  "E_CODE": "*",
                  "E_CITY": "Baltimore/Wash Intl MD",
                  "COUPON": 1.06,
                  "NEW": 3,
                  "VACATION": "No",
                  "SW": "No",
                  "HI": 5419.16,
                  "S_INCOME": 26993,
                  "E_INCOME": 29838,
                  "S_POP": 3532657,
                  "E_POP": 7145897,
                  "SLOT": "Free",
                  "GATE": "Free",
                  "DISTANCE": 576,
                  "PAX": 8820,
                  "FARE": 174.47,
                  "_deepnote_index_column": 1
                },
                {
                  "S_CODE": "*",
                  "S_CITY": "Boston              MA",
                  "E_CODE": "*",
                  "E_CITY": "Baltimore/Wash Intl MD",
                  "COUPON": 1.06,
                  "NEW": 3,
                  "VACATION": "No",
                  "SW": "No",
                  "HI": 9185.28,
                  "S_INCOME": 30124,
                  "E_INCOME": 29838,
                  "S_POP": 5787293,
                  "E_POP": 7145897,
                  "SLOT": "Free",
                  "GATE": "Free",
                  "DISTANCE": 364,
                  "PAX": 6452,
                  "FARE": 207.76,
                  "_deepnote_index_column": 2
                },
                {
                  "S_CODE": "ORD",
                  "S_CITY": "Chicago             IL",
                  "E_CODE": "*",
                  "E_CITY": "Baltimore/Wash Intl MD",
                  "COUPON": 1.06,
                  "NEW": 3,
                  "VACATION": "No",
                  "SW": "Yes",
                  "HI": 2657.35,
                  "S_INCOME": 29260,
                  "E_INCOME": 29838,
                  "S_POP": 7830332,
                  "E_POP": 7145897,
                  "SLOT": "Controlled",
                  "GATE": "Free",
                  "DISTANCE": 612,
                  "PAX": 25144,
                  "FARE": 85.47,
                  "_deepnote_index_column": 3
                },
                {
                  "S_CODE": "MDW",
                  "S_CITY": "Chicago             IL",
                  "E_CODE": "*",
                  "E_CITY": "Baltimore/Wash Intl MD",
                  "COUPON": 1.06,
                  "NEW": 3,
                  "VACATION": "No",
                  "SW": "Yes",
                  "HI": 2657.35,
                  "S_INCOME": 29260,
                  "E_INCOME": 29838,
                  "S_POP": 7830332,
                  "E_POP": 7145897,
                  "SLOT": "Free",
                  "GATE": "Free",
                  "DISTANCE": 612,
                  "PAX": 25144,
                  "FARE": 85.47,
                  "_deepnote_index_column": 4
                },
                {
                  "S_CODE": "*",
                  "S_CITY": "Cleveland           OH",
                  "E_CODE": "*",
                  "E_CITY": "Baltimore/Wash Intl MD",
                  "COUPON": 1.01,
                  "NEW": 3,
                  "VACATION": "No",
                  "SW": "Yes",
                  "HI": 3408.11,
                  "S_INCOME": 26046,
                  "E_INCOME": 29838,
                  "S_POP": 2230955,
                  "E_POP": 7145897,
                  "SLOT": "Free",
                  "GATE": "Free",
                  "DISTANCE": 309,
                  "PAX": 13386,
                  "FARE": 56.76,
                  "_deepnote_index_column": 5
                },
                {
                  "S_CODE": "*",
                  "S_CITY": "Dallas/Fort Worth   TX",
                  "E_CODE": "*",
                  "E_CITY": "Baltimore/Wash Intl MD",
                  "COUPON": 1.28,
                  "NEW": 3,
                  "VACATION": "No",
                  "SW": "No",
                  "HI": 6754.48,
                  "S_INCOME": 28637,
                  "E_INCOME": 29838,
                  "S_POP": 3036732,
                  "E_POP": 7145897,
                  "SLOT": "Free",
                  "GATE": "Free",
                  "DISTANCE": 1220,
                  "PAX": 4625,
                  "FARE": 228,
                  "_deepnote_index_column": 6
                },
                {
                  "S_CODE": "*",
                  "S_CITY": "Fort Lauderdale     FL",
                  "E_CODE": "*",
                  "E_CITY": "Baltimore/Wash Intl MD",
                  "COUPON": 1.15,
                  "NEW": 3,
                  "VACATION": "Yes",
                  "SW": "Yes",
                  "HI": 5584,
                  "S_INCOME": 26752,
                  "E_INCOME": 29838,
                  "S_POP": 1440377,
                  "E_POP": 7145897,
                  "SLOT": "Free",
                  "GATE": "Free",
                  "DISTANCE": 921,
                  "PAX": 5512,
                  "FARE": 116.54,
                  "_deepnote_index_column": 7
                },
                {
                  "S_CODE": "*",
                  "S_CITY": "Houston             TX",
                  "E_CODE": "*",
                  "E_CITY": "Baltimore/Wash Intl MD",
                  "COUPON": 1.33,
                  "NEW": 3,
                  "VACATION": "No",
                  "SW": "Yes",
                  "HI": 4662.44,
                  "S_INCOME": 27211,
                  "E_INCOME": 29838,
                  "S_POP": 3770125,
                  "E_POP": 7145897,
                  "SLOT": "Free",
                  "GATE": "Free",
                  "DISTANCE": 1249,
                  "PAX": 7811,
                  "FARE": 172.63,
                  "_deepnote_index_column": 8
                },
                {
                  "S_CODE": "*",
                  "S_CITY": "Kansas City         MO",
                  "E_CODE": "*",
                  "E_CITY": "Baltimore/Wash Intl MD",
                  "COUPON": 1.6,
                  "NEW": 2,
                  "VACATION": "No",
                  "SW": "Yes",
                  "HI": 2617,
                  "S_INCOME": 25450,
                  "E_INCOME": 29838,
                  "S_POP": 1694803,
                  "E_POP": 7145897,
                  "SLOT": "Free",
                  "GATE": "Free",
                  "DISTANCE": 964,
                  "PAX": 4657,
                  "FARE": 114.76,
                  "_deepnote_index_column": 9
                },
                {
                  "S_CODE": "*",
                  "S_CITY": "Las Vegas           NV",
                  "E_CODE": "*",
                  "E_CITY": "Baltimore/Wash Intl MD",
                  "COUPON": 1.57,
                  "NEW": 3,
                  "VACATION": "Yes",
                  "SW": "Yes",
                  "HI": 1772.59,
                  "S_INCOME": 24575,
                  "E_INCOME": 29838,
                  "S_POP": 1197234,
                  "E_POP": 7145897,
                  "SLOT": "Free",
                  "GATE": "Free",
                  "DISTANCE": 2104,
                  "PAX": 4489,
                  "FARE": 158.2,
                  "_deepnote_index_column": 10
                },
                {
                  "S_CODE": "*",
                  "S_CITY": "Los Angeles         CA",
                  "E_CODE": "*",
                  "E_CITY": "Baltimore/Wash Intl MD",
                  "COUPON": 1.5,
                  "NEW": 1,
                  "VACATION": "No",
                  "SW": "Yes",
                  "HI": 3932.29,
                  "S_INCOME": 24706,
                  "E_INCOME": 29838,
                  "S_POP": 9056076,
                  "E_POP": 7145897,
                  "SLOT": "Free",
                  "GATE": "Free",
                  "DISTANCE": 2329,
                  "PAX": 7349,
                  "FARE": 228.99,
                  "_deepnote_index_column": 11
                },
                {
                  "S_CODE": "*",
                  "S_CITY": "Nashville           TN",
                  "E_CODE": "*",
                  "E_CITY": "Baltimore/Wash Intl MD",
                  "COUPON": 1.12,
                  "NEW": 3,
                  "VACATION": "No",
                  "SW": "Yes",
                  "HI": 4471.62,
                  "S_INCOME": 25995,
                  "E_INCOME": 29838,
                  "S_POP": 1115048,
                  "E_POP": 7145897,
                  "SLOT": "Free",
                  "GATE": "Free",
                  "DISTANCE": 587,
                  "PAX": 5654,
                  "FARE": 79.17,
                  "_deepnote_index_column": 12
                },
                {
                  "S_CODE": "*",
                  "S_CITY": "New Orleans         LA",
                  "E_CODE": "*",
                  "E_CITY": "Baltimore/Wash Intl MD",
                  "COUPON": 1.29,
                  "NEW": 3,
                  "VACATION": "No",
                  "SW": "Yes",
                  "HI": 4356.12,
                  "S_INCOME": 22038,
                  "E_INCOME": 29838,
                  "S_POP": 1308499,
                  "E_POP": 7145897,
                  "SLOT": "Free",
                  "GATE": "Free",
                  "DISTANCE": 992,
                  "PAX": 3525,
                  "FARE": 132.05,
                  "_deepnote_index_column": 13
                },
                {
                  "S_CODE": "JFK",
                  "S_CITY": "New York/Newark     NY",
                  "E_CODE": "*",
                  "E_CITY": "Baltimore/Wash Intl MD",
                  "COUPON": 1,
                  "NEW": 3,
                  "VACATION": "No",
                  "SW": "No",
                  "HI": 2626.9,
                  "S_INCOME": 32991,
                  "E_INCOME": 29838,
                  "S_POP": 8621121,
                  "E_POP": 7145897,
                  "SLOT": "Controlled",
                  "GATE": "Free",
                  "DISTANCE": 181,
                  "PAX": 7171,
                  "FARE": 117.23,
                  "_deepnote_index_column": 14
                },
                {
                  "S_CODE": "LGA",
                  "S_CITY": "New York/Newark     NY",
                  "E_CODE": "*",
                  "E_CITY": "Baltimore/Wash Intl MD",
                  "COUPON": 1,
                  "NEW": 3,
                  "VACATION": "No",
                  "SW": "No",
                  "HI": 2626.9,
                  "S_INCOME": 32991,
                  "E_INCOME": 29838,
                  "S_POP": 8621121,
                  "E_POP": 7145897,
                  "SLOT": "Controlled",
                  "GATE": "Free",
                  "DISTANCE": 181,
                  "PAX": 7171,
                  "FARE": 117.23,
                  "_deepnote_index_column": 15
                },
                {
                  "S_CODE": "EWR",
                  "S_CITY": "New York/Newark     NY",
                  "E_CODE": "*",
                  "E_CITY": "Baltimore/Wash Intl MD",
                  "COUPON": 1,
                  "NEW": 3,
                  "VACATION": "No",
                  "SW": "No",
                  "HI": 2626.9,
                  "S_INCOME": 32991,
                  "E_INCOME": 29838,
                  "S_POP": 8621121,
                  "E_POP": 7145897,
                  "SLOT": "Free",
                  "GATE": "Constrained",
                  "DISTANCE": 181,
                  "PAX": 7171,
                  "FARE": 117.23,
                  "_deepnote_index_column": 16
                },
                {
                  "S_CODE": "*",
                  "S_CITY": "Orlando             FL",
                  "E_CODE": "*",
                  "E_CITY": "Baltimore/Wash Intl MD",
                  "COUPON": 1.13,
                  "NEW": 3,
                  "VACATION": "Yes",
                  "SW": "Yes",
                  "HI": 5706.76,
                  "S_INCOME": 22360,
                  "E_INCOME": 29838,
                  "S_POP": 1421287,
                  "E_POP": 7145897,
                  "SLOT": "Free",
                  "GATE": "Free",
                  "DISTANCE": 788,
                  "PAX": 11013,
                  "FARE": 106.11,
                  "_deepnote_index_column": 17
                },
                {
                  "S_CODE": "*",
                  "S_CITY": "Phoenix             AZ",
                  "E_CODE": "*",
                  "E_CITY": "Baltimore/Wash Intl MD",
                  "COUPON": 1.86,
                  "NEW": 3,
                  "VACATION": "No",
                  "SW": "Yes",
                  "HI": 1230.48,
                  "S_INCOME": 23025,
                  "E_INCOME": 29838,
                  "S_POP": 2753373,
                  "E_POP": 7145897,
                  "SLOT": "Free",
                  "GATE": "Free",
                  "DISTANCE": 2001,
                  "PAX": 4408,
                  "FARE": 181.16,
                  "_deepnote_index_column": 18
                },
                {
                  "S_CODE": "*",
                  "S_CITY": "Salt Lake City      UT",
                  "E_CODE": "*",
                  "E_CITY": "Baltimore/Wash Intl MD",
                  "COUPON": 1.93,
                  "NEW": 3,
                  "VACATION": "No",
                  "SW": "Yes",
                  "HI": 2000.67,
                  "S_INCOME": 21121,
                  "E_INCOME": 29838,
                  "S_POP": 1228816,
                  "E_POP": 7145897,
                  "SLOT": "Free",
                  "GATE": "Free",
                  "DISTANCE": 1866,
                  "PAX": 2767,
                  "FARE": 157.5,
                  "_deepnote_index_column": 19
                },
                {
                  "S_CODE": "*",
                  "S_CITY": "San Diego           CA",
                  "E_CODE": "*",
                  "E_CITY": "Baltimore/Wash Intl MD",
                  "COUPON": 1.87,
                  "NEW": 3,
                  "VACATION": "No",
                  "SW": "Yes",
                  "HI": 1572.93,
                  "S_INCOME": 23903,
                  "E_INCOME": 29838,
                  "S_POP": 2673620,
                  "E_POP": 7145897,
                  "SLOT": "Free",
                  "GATE": "Free",
                  "DISTANCE": 2290,
                  "PAX": 3170,
                  "FARE": 200.2,
                  "_deepnote_index_column": 20
                },
                {
                  "S_CODE": "*",
                  "S_CITY": "San Francisco       CA",
                  "E_CODE": "*",
                  "E_CITY": "Baltimore/Wash Intl MD",
                  "COUPON": 1.52,
                  "NEW": 3,
                  "VACATION": "No",
                  "SW": "No",
                  "HI": 2967.59,
                  "S_INCOME": 38813,
                  "E_INCOME": 29838,
                  "S_POP": 1653017,
                  "E_POP": 7145897,
                  "SLOT": "Free",
                  "GATE": "Free",
                  "DISTANCE": 2454,
                  "PAX": 6417,
                  "FARE": 246.85,
                  "_deepnote_index_column": 21
                },
                {
                  "S_CODE": "*",
                  "S_CITY": "St Louis            MO",
                  "E_CODE": "*",
                  "E_CITY": "Baltimore/Wash Intl MD",
                  "COUPON": 1.14,
                  "NEW": 3,
                  "VACATION": "No",
                  "SW": "Yes",
                  "HI": 4191.24,
                  "S_INCOME": 25824,
                  "E_INCOME": 29838,
                  "S_POP": 2549844,
                  "E_POP": 7145897,
                  "SLOT": "Free",
                  "GATE": "Free",
                  "DISTANCE": 729,
                  "PAX": 10264,
                  "FARE": 99.7,
                  "_deepnote_index_column": 22
                },
                {
                  "S_CODE": "*",
                  "S_CITY": "Tampa               FL",
                  "E_CODE": "*",
                  "E_CITY": "Baltimore/Wash Intl MD",
                  "COUPON": 1.13,
                  "NEW": 3,
                  "VACATION": "Yes",
                  "SW": "Yes",
                  "HI": 5201.34,
                  "S_INCOME": 23654,
                  "E_INCOME": 29838,
                  "S_POP": 2195215,
                  "E_POP": 7145897,
                  "SLOT": "Free",
                  "GATE": "Free",
                  "DISTANCE": 846,
                  "PAX": 7082,
                  "FARE": 106.77,
                  "_deepnote_index_column": 23
                },
                {
                  "S_CODE": "ORD",
                  "S_CITY": "Chicago             IL",
                  "E_CODE": "*",
                  "E_CITY": "Birmingham          AL",
                  "COUPON": 1.16,
                  "NEW": 3,
                  "VACATION": "No",
                  "SW": "Yes",
                  "HI": 3627.46,
                  "S_INCOME": 29260,
                  "E_INCOME": 23858,
                  "S_POP": 7830332,
                  "E_POP": 895414,
                  "SLOT": "Controlled",
                  "GATE": "Free",
                  "DISTANCE": 576,
                  "PAX": 4138,
                  "FARE": 113.5,
                  "_deepnote_index_column": 24
                },
                {
                  "S_CODE": "MDW",
                  "S_CITY": "Chicago             IL",
                  "E_CODE": "*",
                  "E_CITY": "Birmingham          AL",
                  "COUPON": 1.16,
                  "NEW": 3,
                  "VACATION": "No",
                  "SW": "Yes",
                  "HI": 3627.46,
                  "S_INCOME": 29260,
                  "E_INCOME": 23858,
                  "S_POP": 7830332,
                  "E_POP": 895414,
                  "SLOT": "Free",
                  "GATE": "Free",
                  "DISTANCE": 576,
                  "PAX": 4138,
                  "FARE": 113.5,
                  "_deepnote_index_column": 25
                },
                {
                  "S_CODE": "*",
                  "S_CITY": "Seattle/Tacoma      WA",
                  "E_CODE": "*",
                  "E_CITY": "Boise               ID",
                  "COUPON": 1.07,
                  "NEW": 3,
                  "VACATION": "No",
                  "SW": "Yes",
                  "HI": 5255.24,
                  "S_INCOME": 30916,
                  "E_INCOME": 23901,
                  "S_POP": 2230831,
                  "E_POP": 372606,
                  "SLOT": "Free",
                  "GATE": "Free",
                  "DISTANCE": 403,
                  "PAX": 5995,
                  "FARE": 69.12,
                  "_deepnote_index_column": 26
                }
              ],
              "rows_bottom": [
                {
                  "S_CODE": "LGA",
                  "S_CITY": "New York/Newark     NY",
                  "E_CODE": "DCA",
                  "E_CITY": "Washington          DC",
                  "COUPON": 1,
                  "NEW": 3,
                  "VACATION": "No",
                  "SW": "No",
                  "HI": 2487.89,
                  "S_INCOME": 32991,
                  "E_INCOME": 31981,
                  "S_POP": 8621121,
                  "E_POP": 4549784,
                  "SLOT": "Controlled",
                  "GATE": "Free",
                  "DISTANCE": 217,
                  "PAX": 63690,
                  "FARE": 114.35,
                  "_deepnote_index_column": 610
                },
                {
                  "S_CODE": "EWR",
                  "S_CITY": "New York/Newark     NY",
                  "E_CODE": "IAD",
                  "E_CITY": "Washington          DC",
                  "COUPON": 1,
                  "NEW": 3,
                  "VACATION": "No",
                  "SW": "No",
                  "HI": 2487.89,
                  "S_INCOME": 32991,
                  "E_INCOME": 31981,
                  "S_POP": 8621121,
                  "E_POP": 4549784,
                  "SLOT": "Free",
                  "GATE": "Constrained",
                  "DISTANCE": 217,
                  "PAX": 63690,
                  "FARE": 114.35,
                  "_deepnote_index_column": 611
                },
                {
                  "S_CODE": "EWR",
                  "S_CITY": "New York/Newark     NY",
                  "E_CODE": "DCA",
                  "E_CITY": "Washington          DC",
                  "COUPON": 1,
                  "NEW": 3,
                  "VACATION": "No",
                  "SW": "No",
                  "HI": 2487.89,
                  "S_INCOME": 32991,
                  "E_INCOME": 31981,
                  "S_POP": 8621121,
                  "E_POP": 4549784,
                  "SLOT": "Controlled",
                  "GATE": "Constrained",
                  "DISTANCE": 217,
                  "PAX": 63690,
                  "FARE": 114.35,
                  "_deepnote_index_column": 612
                },
                {
                  "S_CODE": "*",
                  "S_CITY": "Orlando             FL",
                  "E_CODE": "IAD",
                  "E_CITY": "Washington          DC",
                  "COUPON": 1.15,
                  "NEW": 1,
                  "VACATION": "Yes",
                  "SW": "No",
                  "HI": 3081.34,
                  "S_INCOME": 22360,
                  "E_INCOME": 31981,
                  "S_POP": 1421287,
                  "E_POP": 4549784,
                  "SLOT": "Free",
                  "GATE": "Free",
                  "DISTANCE": 760,
                  "PAX": 14683,
                  "FARE": 125.8,
                  "_deepnote_index_column": 613
                },
                {
                  "S_CODE": "*",
                  "S_CITY": "Orlando             FL",
                  "E_CODE": "DCA",
                  "E_CITY": "Washington          DC",
                  "COUPON": 1.15,
                  "NEW": 3,
                  "VACATION": "Yes",
                  "SW": "No",
                  "HI": 3081.34,
                  "S_INCOME": 22360,
                  "E_INCOME": 31981,
                  "S_POP": 1421287,
                  "E_POP": 4549784,
                  "SLOT": "Controlled",
                  "GATE": "Free",
                  "DISTANCE": 760,
                  "PAX": 14683,
                  "FARE": 125.8,
                  "_deepnote_index_column": 614
                },
                {
                  "S_CODE": "*",
                  "S_CITY": "Phoenix             AZ",
                  "E_CODE": "IAD",
                  "E_CITY": "Washington          DC",
                  "COUPON": 1.58,
                  "NEW": 3,
                  "VACATION": "No",
                  "SW": "No",
                  "HI": 2295.23,
                  "S_INCOME": 23025,
                  "E_INCOME": 31981,
                  "S_POP": 2753373,
                  "E_POP": 4549784,
                  "SLOT": "Free",
                  "GATE": "Free",
                  "DISTANCE": 1970,
                  "PAX": 5190,
                  "FARE": 279.83,
                  "_deepnote_index_column": 615
                },
                {
                  "S_CODE": "*",
                  "S_CITY": "Phoenix             AZ",
                  "E_CODE": "DCA",
                  "E_CITY": "Washington          DC",
                  "COUPON": 1.58,
                  "NEW": 3,
                  "VACATION": "No",
                  "SW": "No",
                  "HI": 2295.23,
                  "S_INCOME": 23025,
                  "E_INCOME": 31981,
                  "S_POP": 2753373,
                  "E_POP": 4549784,
                  "SLOT": "Controlled",
                  "GATE": "Free",
                  "DISTANCE": 1970,
                  "PAX": 5190,
                  "FARE": 279.83,
                  "_deepnote_index_column": 616
                },
                {
                  "S_CODE": "*",
                  "S_CITY": "San Diego           CA",
                  "E_CODE": "IAD",
                  "E_CITY": "Washington          DC",
                  "COUPON": 1.57,
                  "NEW": 3,
                  "VACATION": "No",
                  "SW": "No",
                  "HI": 3329.81,
                  "S_INCOME": 23903,
                  "E_INCOME": 31981,
                  "S_POP": 2673620,
                  "E_POP": 4549784,
                  "SLOT": "Free",
                  "GATE": "Free",
                  "DISTANCE": 2259,
                  "PAX": 6724,
                  "FARE": 273.83,
                  "_deepnote_index_column": 617
                },
                {
                  "S_CODE": "*",
                  "S_CITY": "San Diego           CA",
                  "E_CODE": "DCA",
                  "E_CITY": "Washington          DC",
                  "COUPON": 1.57,
                  "NEW": 3,
                  "VACATION": "No",
                  "SW": "No",
                  "HI": 3329.81,
                  "S_INCOME": 23903,
                  "E_INCOME": 31981,
                  "S_POP": 2673620,
                  "E_POP": 4549784,
                  "SLOT": "Controlled",
                  "GATE": "Free",
                  "DISTANCE": 2259,
                  "PAX": 6724,
                  "FARE": 273.83,
                  "_deepnote_index_column": 618
                },
                {
                  "S_CODE": "*",
                  "S_CITY": "San Francisco       CA",
                  "E_CODE": "IAD",
                  "E_CITY": "Washington          DC",
                  "COUPON": 1.37,
                  "NEW": 3,
                  "VACATION": "No",
                  "SW": "No",
                  "HI": 6865.77,
                  "S_INCOME": 38813,
                  "E_INCOME": 31981,
                  "S_POP": 1653017,
                  "E_POP": 4549784,
                  "SLOT": "Free",
                  "GATE": "Free",
                  "DISTANCE": 2428,
                  "PAX": 17938,
                  "FARE": 347.82,
                  "_deepnote_index_column": 619
                },
                {
                  "S_CODE": "*",
                  "S_CITY": "San Francisco       CA",
                  "E_CODE": "DCA",
                  "E_CITY": "Washington          DC",
                  "COUPON": 1.37,
                  "NEW": 3,
                  "VACATION": "No",
                  "SW": "No",
                  "HI": 6865.77,
                  "S_INCOME": 38813,
                  "E_INCOME": 31981,
                  "S_POP": 1653017,
                  "E_POP": 4549784,
                  "SLOT": "Controlled",
                  "GATE": "Free",
                  "DISTANCE": 2428,
                  "PAX": 17938,
                  "FARE": 347.82,
                  "_deepnote_index_column": 620
                },
                {
                  "S_CODE": "*",
                  "S_CITY": "Seattle/Tacoma      WA",
                  "E_CODE": "IAD",
                  "E_CITY": "Washington          DC",
                  "COUPON": 1.55,
                  "NEW": 3,
                  "VACATION": "No",
                  "SW": "No",
                  "HI": 4358.51,
                  "S_INCOME": 30916,
                  "E_INCOME": 31981,
                  "S_POP": 2230831,
                  "E_POP": 4549784,
                  "SLOT": "Free",
                  "GATE": "Free",
                  "DISTANCE": 2317,
                  "PAX": 7614,
                  "FARE": 281.06,
                  "_deepnote_index_column": 621
                },
                {
                  "S_CODE": "*",
                  "S_CITY": "Seattle/Tacoma      WA",
                  "E_CODE": "DCA",
                  "E_CITY": "Washington          DC",
                  "COUPON": 1.55,
                  "NEW": 3,
                  "VACATION": "No",
                  "SW": "No",
                  "HI": 4358.51,
                  "S_INCOME": 30916,
                  "E_INCOME": 31981,
                  "S_POP": 2230831,
                  "E_POP": 4549784,
                  "SLOT": "Controlled",
                  "GATE": "Free",
                  "DISTANCE": 2317,
                  "PAX": 7614,
                  "FARE": 281.06,
                  "_deepnote_index_column": 622
                },
                {
                  "S_CODE": "*",
                  "S_CITY": "St Louis            MO",
                  "E_CODE": "IAD",
                  "E_CITY": "Washington          DC",
                  "COUPON": 1.14,
                  "NEW": 3,
                  "VACATION": "No",
                  "SW": "No",
                  "HI": 8117.12,
                  "S_INCOME": 25824,
                  "E_INCOME": 31981,
                  "S_POP": 2549844,
                  "E_POP": 4549784,
                  "SLOT": "Free",
                  "GATE": "Free",
                  "DISTANCE": 699,
                  "PAX": 4957,
                  "FARE": 258.37,
                  "_deepnote_index_column": 623
                },
                {
                  "S_CODE": "*",
                  "S_CITY": "St Louis            MO",
                  "E_CODE": "DCA",
                  "E_CITY": "Washington          DC",
                  "COUPON": 1.14,
                  "NEW": 3,
                  "VACATION": "No",
                  "SW": "No",
                  "HI": 8117.12,
                  "S_INCOME": 25824,
                  "E_INCOME": 31981,
                  "S_POP": 2549844,
                  "E_POP": 4549784,
                  "SLOT": "Controlled",
                  "GATE": "Free",
                  "DISTANCE": 699,
                  "PAX": 4957,
                  "FARE": 258.37,
                  "_deepnote_index_column": 624
                },
                {
                  "S_CODE": "*",
                  "S_CITY": "Tampa               FL",
                  "E_CODE": "IAD",
                  "E_CITY": "Washington          DC",
                  "COUPON": 1.24,
                  "NEW": 3,
                  "VACATION": "Yes",
                  "SW": "No",
                  "HI": 4580.05,
                  "S_INCOME": 23654,
                  "E_INCOME": 31981,
                  "S_POP": 2195215,
                  "E_POP": 4549784,
                  "SLOT": "Free",
                  "GATE": "Free",
                  "DISTANCE": 815,
                  "PAX": 8413,
                  "FARE": 132.94,
                  "_deepnote_index_column": 625
                },
                {
                  "S_CODE": "*",
                  "S_CITY": "Tampa               FL",
                  "E_CODE": "DCA",
                  "E_CITY": "Washington          DC",
                  "COUPON": 1.24,
                  "NEW": 3,
                  "VACATION": "Yes",
                  "SW": "No",
                  "HI": 4580.05,
                  "S_INCOME": 23654,
                  "E_INCOME": 31981,
                  "S_POP": 2195215,
                  "E_POP": 4549784,
                  "SLOT": "Controlled",
                  "GATE": "Free",
                  "DISTANCE": 815,
                  "PAX": 8413,
                  "FARE": 132.94,
                  "_deepnote_index_column": 626
                },
                {
                  "S_CODE": "*",
                  "S_CITY": "Atlanta             GA",
                  "E_CODE": "*",
                  "E_CITY": "West Palm Beach     FL",
                  "COUPON": 1.01,
                  "NEW": 3,
                  "VACATION": "Yes",
                  "SW": "No",
                  "HI": 6017.66,
                  "S_INCOME": 26993,
                  "E_INCOME": 37375,
                  "S_POP": 3532657,
                  "E_POP": 991717,
                  "SLOT": "Free",
                  "GATE": "Free",
                  "DISTANCE": 546,
                  "PAX": 7788,
                  "FARE": 104.11,
                  "_deepnote_index_column": 627
                },
                {
                  "S_CODE": "*",
                  "S_CITY": "Boston              MA",
                  "E_CODE": "*",
                  "E_CITY": "West Palm Beach     FL",
                  "COUPON": 1.32,
                  "NEW": 3,
                  "VACATION": "Yes",
                  "SW": "No",
                  "HI": 4771.66,
                  "S_INCOME": 30124,
                  "E_INCOME": 37375,
                  "S_POP": 5787293,
                  "E_POP": 991717,
                  "SLOT": "Free",
                  "GATE": "Free",
                  "DISTANCE": 1193,
                  "PAX": 8170,
                  "FARE": 127.83,
                  "_deepnote_index_column": 628
                },
                {
                  "S_CODE": "ORD",
                  "S_CITY": "Chicago             IL",
                  "E_CODE": "*",
                  "E_CITY": "West Palm Beach     FL",
                  "COUPON": 1.26,
                  "NEW": 3,
                  "VACATION": "Yes",
                  "SW": "No",
                  "HI": 2040.42,
                  "S_INCOME": 29260,
                  "E_INCOME": 37375,
                  "S_POP": 7830332,
                  "E_POP": 991717,
                  "SLOT": "Controlled",
                  "GATE": "Free",
                  "DISTANCE": 1134,
                  "PAX": 5449,
                  "FARE": 145.53,
                  "_deepnote_index_column": 629
                },
                {
                  "S_CODE": "MDW",
                  "S_CITY": "Chicago             IL",
                  "E_CODE": "*",
                  "E_CITY": "West Palm Beach     FL",
                  "COUPON": 1.26,
                  "NEW": 3,
                  "VACATION": "Yes",
                  "SW": "No",
                  "HI": 2040.42,
                  "S_INCOME": 29260,
                  "E_INCOME": 37375,
                  "S_POP": 7830332,
                  "E_POP": 991717,
                  "SLOT": "Free",
                  "GATE": "Free",
                  "DISTANCE": 1134,
                  "PAX": 5449,
                  "FARE": 145.53,
                  "_deepnote_index_column": 630
                },
                {
                  "S_CODE": "*",
                  "S_CITY": "Hartford            CT",
                  "E_CODE": "*",
                  "E_CITY": "West Palm Beach     FL",
                  "COUPON": 1.36,
                  "NEW": 3,
                  "VACATION": "Yes",
                  "SW": "No",
                  "HI": 3951.55,
                  "S_INCOME": 30268,
                  "E_INCOME": 37375,
                  "S_POP": 1106780,
                  "E_POP": 991717,
                  "SLOT": "Free",
                  "GATE": "Free",
                  "DISTANCE": 1125,
                  "PAX": 5243,
                  "FARE": 130.15,
                  "_deepnote_index_column": 631
                },
                {
                  "S_CODE": "JFK",
                  "S_CITY": "New York/Newark     NY",
                  "E_CODE": "*",
                  "E_CITY": "West Palm Beach     FL",
                  "COUPON": 1.08,
                  "NEW": 3,
                  "VACATION": "Yes",
                  "SW": "No",
                  "HI": 2216.7,
                  "S_INCOME": 32991,
                  "E_INCOME": 37375,
                  "S_POP": 8621121,
                  "E_POP": 991717,
                  "SLOT": "Controlled",
                  "GATE": "Free",
                  "DISTANCE": 1030,
                  "PAX": 34324,
                  "FARE": 129.63,
                  "_deepnote_index_column": 632
                },
                {
                  "S_CODE": "LGA",
                  "S_CITY": "New York/Newark     NY",
                  "E_CODE": "*",
                  "E_CITY": "West Palm Beach     FL",
                  "COUPON": 1.08,
                  "NEW": 3,
                  "VACATION": "Yes",
                  "SW": "No",
                  "HI": 2216.7,
                  "S_INCOME": 32991,
                  "E_INCOME": 37375,
                  "S_POP": 8621121,
                  "E_POP": 991717,
                  "SLOT": "Controlled",
                  "GATE": "Free",
                  "DISTANCE": 1030,
                  "PAX": 34324,
                  "FARE": 129.63,
                  "_deepnote_index_column": 633
                },
                {
                  "S_CODE": "EWR",
                  "S_CITY": "New York/Newark     NY",
                  "E_CODE": "*",
                  "E_CITY": "West Palm Beach     FL",
                  "COUPON": 1.08,
                  "NEW": 0,
                  "VACATION": "Yes",
                  "SW": "No",
                  "HI": 2216.7,
                  "S_INCOME": 32991,
                  "E_INCOME": 37375,
                  "S_POP": 8621121,
                  "E_POP": 991717,
                  "SLOT": "Free",
                  "GATE": "Constrained",
                  "DISTANCE": 1030,
                  "PAX": 34324,
                  "FARE": 129.63,
                  "_deepnote_index_column": 634
                },
                {
                  "S_CODE": "*",
                  "S_CITY": "Philadelphia/Camden PA",
                  "E_CODE": "*",
                  "E_CITY": "West Palm Beach     FL",
                  "COUPON": 1.17,
                  "NEW": 3,
                  "VACATION": "Yes",
                  "SW": "No",
                  "HI": 6797.8,
                  "S_INCOME": 27994,
                  "E_INCOME": 37375,
                  "S_POP": 4948339,
                  "E_POP": 991717,
                  "SLOT": "Free",
                  "GATE": "Free",
                  "DISTANCE": 960,
                  "PAX": 6016,
                  "FARE": 124.87,
                  "_deepnote_index_column": 635
                },
                {
                  "S_CODE": "IAD",
                  "S_CITY": "Washington          DC",
                  "E_CODE": "*",
                  "E_CITY": "West Palm Beach     FL",
                  "COUPON": 1.28,
                  "NEW": 3,
                  "VACATION": "Yes",
                  "SW": "No",
                  "HI": 5566.43,
                  "S_INCOME": 31981,
                  "E_INCOME": 37375,
                  "S_POP": 4549784,
                  "E_POP": 991717,
                  "SLOT": "Free",
                  "GATE": "Free",
                  "DISTANCE": 858,
                  "PAX": 4877,
                  "FARE": 129.62,
                  "_deepnote_index_column": 636
                },
                {
                  "S_CODE": "DCA",
                  "S_CITY": "Washington          DC",
                  "E_CODE": "*",
                  "E_CITY": "West Palm Beach     FL",
                  "COUPON": 1.28,
                  "NEW": 3,
                  "VACATION": "Yes",
                  "SW": "No",
                  "HI": 5566.43,
                  "S_INCOME": 31981,
                  "E_INCOME": 37375,
                  "S_POP": 4549784,
                  "E_POP": 991717,
                  "SLOT": "Controlled",
                  "GATE": "Free",
                  "DISTANCE": 858,
                  "PAX": 4877,
                  "FARE": 129.62,
                  "_deepnote_index_column": 637
                }
              ]
            },
            "text/plain": "    S_CODE                  S_CITY E_CODE                  E_CITY  COUPON  \\\n0        *  Dallas/Fort Worth   TX      *  Amarillo            TX    1.00   \n1        *  Atlanta             GA      *  Baltimore/Wash Intl MD    1.06   \n2        *  Boston              MA      *  Baltimore/Wash Intl MD    1.06   \n3      ORD  Chicago             IL      *  Baltimore/Wash Intl MD    1.06   \n4      MDW  Chicago             IL      *  Baltimore/Wash Intl MD    1.06   \n..     ...                     ...    ...                     ...     ...   \n633    LGA  New York/Newark     NY      *  West Palm Beach     FL    1.08   \n634    EWR  New York/Newark     NY      *  West Palm Beach     FL    1.08   \n635      *  Philadelphia/Camden PA      *  West Palm Beach     FL    1.17   \n636    IAD  Washington          DC      *  West Palm Beach     FL    1.28   \n637    DCA  Washington          DC      *  West Palm Beach     FL    1.28   \n\n     NEW VACATION   SW       HI  S_INCOME  E_INCOME    S_POP    E_POP  \\\n0      3       No  Yes  5291.99   28637.0   21112.0  3036732   205711   \n1      3       No   No  5419.16   26993.0   29838.0  3532657  7145897   \n2      3       No   No  9185.28   30124.0   29838.0  5787293  7145897   \n3      3       No  Yes  2657.35   29260.0   29838.0  7830332  7145897   \n4      3       No  Yes  2657.35   29260.0   29838.0  7830332  7145897   \n..   ...      ...  ...      ...       ...       ...      ...      ...   \n633    3      Yes   No  2216.70   32991.0   37375.0  8621121   991717   \n634    0      Yes   No  2216.70   32991.0   37375.0  8621121   991717   \n635    3      Yes   No  6797.80   27994.0   37375.0  4948339   991717   \n636    3      Yes   No  5566.43   31981.0   37375.0  4549784   991717   \n637    3      Yes   No  5566.43   31981.0   37375.0  4549784   991717   \n\n           SLOT         GATE  DISTANCE    PAX    FARE  \n0          Free         Free       312   7864   64.11  \n1          Free         Free       576   8820  174.47  \n2          Free         Free       364   6452  207.76  \n3    Controlled         Free       612  25144   85.47  \n4          Free         Free       612  25144   85.47  \n..          ...          ...       ...    ...     ...  \n633  Controlled         Free      1030  34324  129.63  \n634        Free  Constrained      1030  34324  129.63  \n635        Free         Free       960   6016  124.87  \n636        Free         Free       858   4877  129.62  \n637  Controlled         Free       858   4877  129.62  \n\n[638 rows x 18 columns]",
            "text/html": "<div>\n<style scoped>\n    .dataframe tbody tr th:only-of-type {\n        vertical-align: middle;\n    }\n\n    .dataframe tbody tr th {\n        vertical-align: top;\n    }\n\n    .dataframe thead th {\n        text-align: right;\n    }\n</style>\n<table border=\"1\" class=\"dataframe\">\n  <thead>\n    <tr style=\"text-align: right;\">\n      <th></th>\n      <th>S_CODE</th>\n      <th>S_CITY</th>\n      <th>E_CODE</th>\n      <th>E_CITY</th>\n      <th>COUPON</th>\n      <th>NEW</th>\n      <th>VACATION</th>\n      <th>SW</th>\n      <th>HI</th>\n      <th>S_INCOME</th>\n      <th>E_INCOME</th>\n      <th>S_POP</th>\n      <th>E_POP</th>\n      <th>SLOT</th>\n      <th>GATE</th>\n      <th>DISTANCE</th>\n      <th>PAX</th>\n      <th>FARE</th>\n    </tr>\n  </thead>\n  <tbody>\n    <tr>\n      <th>0</th>\n      <td>*</td>\n      <td>Dallas/Fort Worth   TX</td>\n      <td>*</td>\n      <td>Amarillo            TX</td>\n      <td>1.00</td>\n      <td>3</td>\n      <td>No</td>\n      <td>Yes</td>\n      <td>5291.99</td>\n      <td>28637.0</td>\n      <td>21112.0</td>\n      <td>3036732</td>\n      <td>205711</td>\n      <td>Free</td>\n      <td>Free</td>\n      <td>312</td>\n      <td>7864</td>\n      <td>64.11</td>\n    </tr>\n    <tr>\n      <th>1</th>\n      <td>*</td>\n      <td>Atlanta             GA</td>\n      <td>*</td>\n      <td>Baltimore/Wash Intl MD</td>\n      <td>1.06</td>\n      <td>3</td>\n      <td>No</td>\n      <td>No</td>\n      <td>5419.16</td>\n      <td>26993.0</td>\n      <td>29838.0</td>\n      <td>3532657</td>\n      <td>7145897</td>\n      <td>Free</td>\n      <td>Free</td>\n      <td>576</td>\n      <td>8820</td>\n      <td>174.47</td>\n    </tr>\n    <tr>\n      <th>2</th>\n      <td>*</td>\n      <td>Boston              MA</td>\n      <td>*</td>\n      <td>Baltimore/Wash Intl MD</td>\n      <td>1.06</td>\n      <td>3</td>\n      <td>No</td>\n      <td>No</td>\n      <td>9185.28</td>\n      <td>30124.0</td>\n      <td>29838.0</td>\n      <td>5787293</td>\n      <td>7145897</td>\n      <td>Free</td>\n      <td>Free</td>\n      <td>364</td>\n      <td>6452</td>\n      <td>207.76</td>\n    </tr>\n    <tr>\n      <th>3</th>\n      <td>ORD</td>\n      <td>Chicago             IL</td>\n      <td>*</td>\n      <td>Baltimore/Wash Intl MD</td>\n      <td>1.06</td>\n      <td>3</td>\n      <td>No</td>\n      <td>Yes</td>\n      <td>2657.35</td>\n      <td>29260.0</td>\n      <td>29838.0</td>\n      <td>7830332</td>\n      <td>7145897</td>\n      <td>Controlled</td>\n      <td>Free</td>\n      <td>612</td>\n      <td>25144</td>\n      <td>85.47</td>\n    </tr>\n    <tr>\n      <th>4</th>\n      <td>MDW</td>\n      <td>Chicago             IL</td>\n      <td>*</td>\n      <td>Baltimore/Wash Intl MD</td>\n      <td>1.06</td>\n      <td>3</td>\n      <td>No</td>\n      <td>Yes</td>\n      <td>2657.35</td>\n      <td>29260.0</td>\n      <td>29838.0</td>\n      <td>7830332</td>\n      <td>7145897</td>\n      <td>Free</td>\n      <td>Free</td>\n      <td>612</td>\n      <td>25144</td>\n      <td>85.47</td>\n    </tr>\n    <tr>\n      <th>...</th>\n      <td>...</td>\n      <td>...</td>\n      <td>...</td>\n      <td>...</td>\n      <td>...</td>\n      <td>...</td>\n      <td>...</td>\n      <td>...</td>\n      <td>...</td>\n      <td>...</td>\n      <td>...</td>\n      <td>...</td>\n      <td>...</td>\n      <td>...</td>\n      <td>...</td>\n      <td>...</td>\n      <td>...</td>\n      <td>...</td>\n    </tr>\n    <tr>\n      <th>633</th>\n      <td>LGA</td>\n      <td>New York/Newark     NY</td>\n      <td>*</td>\n      <td>West Palm Beach     FL</td>\n      <td>1.08</td>\n      <td>3</td>\n      <td>Yes</td>\n      <td>No</td>\n      <td>2216.70</td>\n      <td>32991.0</td>\n      <td>37375.0</td>\n      <td>8621121</td>\n      <td>991717</td>\n      <td>Controlled</td>\n      <td>Free</td>\n      <td>1030</td>\n      <td>34324</td>\n      <td>129.63</td>\n    </tr>\n    <tr>\n      <th>634</th>\n      <td>EWR</td>\n      <td>New York/Newark     NY</td>\n      <td>*</td>\n      <td>West Palm Beach     FL</td>\n      <td>1.08</td>\n      <td>0</td>\n      <td>Yes</td>\n      <td>No</td>\n      <td>2216.70</td>\n      <td>32991.0</td>\n      <td>37375.0</td>\n      <td>8621121</td>\n      <td>991717</td>\n      <td>Free</td>\n      <td>Constrained</td>\n      <td>1030</td>\n      <td>34324</td>\n      <td>129.63</td>\n    </tr>\n    <tr>\n      <th>635</th>\n      <td>*</td>\n      <td>Philadelphia/Camden PA</td>\n      <td>*</td>\n      <td>West Palm Beach     FL</td>\n      <td>1.17</td>\n      <td>3</td>\n      <td>Yes</td>\n      <td>No</td>\n      <td>6797.80</td>\n      <td>27994.0</td>\n      <td>37375.0</td>\n      <td>4948339</td>\n      <td>991717</td>\n      <td>Free</td>\n      <td>Free</td>\n      <td>960</td>\n      <td>6016</td>\n      <td>124.87</td>\n    </tr>\n    <tr>\n      <th>636</th>\n      <td>IAD</td>\n      <td>Washington          DC</td>\n      <td>*</td>\n      <td>West Palm Beach     FL</td>\n      <td>1.28</td>\n      <td>3</td>\n      <td>Yes</td>\n      <td>No</td>\n      <td>5566.43</td>\n      <td>31981.0</td>\n      <td>37375.0</td>\n      <td>4549784</td>\n      <td>991717</td>\n      <td>Free</td>\n      <td>Free</td>\n      <td>858</td>\n      <td>4877</td>\n      <td>129.62</td>\n    </tr>\n    <tr>\n      <th>637</th>\n      <td>DCA</td>\n      <td>Washington          DC</td>\n      <td>*</td>\n      <td>West Palm Beach     FL</td>\n      <td>1.28</td>\n      <td>3</td>\n      <td>Yes</td>\n      <td>No</td>\n      <td>5566.43</td>\n      <td>31981.0</td>\n      <td>37375.0</td>\n      <td>4549784</td>\n      <td>991717</td>\n      <td>Controlled</td>\n      <td>Free</td>\n      <td>858</td>\n      <td>4877</td>\n      <td>129.62</td>\n    </tr>\n  </tbody>\n</table>\n<p>638 rows × 18 columns</p>\n</div>"
          },
          "metadata": {}
        }
      ]
    },
    {
      "cell_type": "code",
      "metadata": {
        "tags": [],
        "cell_id": "00000-66778fa2-5c93-472c-a273-d059afcf26ca",
        "deepnote_to_be_reexecuted": false,
        "source_hash": "c4309eab",
        "execution_millis": 342,
        "execution_start": 1614781512716,
        "deepnote_cell_type": "code"
      },
      "source": "corr = af_df.corr()\nsns.heatmap(corr,xticklabels=corr.columns,yticklabels=corr.columns)\n",
      "execution_count": null,
      "outputs": [
        {
          "output_type": "execute_result",
          "execution_count": 4,
          "data": {
            "text/plain": "<AxesSubplot:>"
          },
          "metadata": {}
        },
        {
          "data": {
            "text/plain": "<Figure size 432x288 with 2 Axes>",
            "image/png": "[encoded data removed]"
          },
          "metadata": {
            "needs_background": "light"
          },
          "output_type": "display_data"
        }
      ]
    },
    {
      "cell_type": "code",
      "metadata": {
        "tags": [],
        "cell_id": "00005-69cf8b0b-eb4e-4f14-bb0f-24cf1509871a",
        "deepnote_to_be_reexecuted": false,
        "source_hash": "17a0041b",
        "execution_millis": 8,
        "execution_start": 1614781520317,
        "deepnote_cell_type": "code"
      },
      "source": "corr['FARE']",
      "execution_count": null,
      "outputs": [
        {
          "output_type": "execute_result",
          "execution_count": 5,
          "data": {
            "text/plain": "COUPON      0.496537\nNEW         0.091730\nHI          0.025195\nS_INCOME    0.209135\nE_INCOME    0.326092\nS_POP       0.145097\nE_POP       0.285043\nDISTANCE    0.670016\nPAX        -0.090705\nFARE        1.000000\nName: FARE, dtype: float64"
          },
          "metadata": {}
        }
      ]
    },
    {
      "cell_type": "markdown",
      "source": "Based on the correlation data, FARE is more closely tied to DISTANCE than anything else. The second best numerical predictor is COUPON.",
      "metadata": {
        "tags": [],
        "cell_id": "00006-c8635e4d-be88-4374-9902-d79f194386a1",
        "deepnote_cell_type": "markdown"
      }
    },
    {
      "cell_type": "code",
      "metadata": {
        "tags": [],
        "cell_id": "00006-7b5c7f12-4a5a-4ef2-88bf-ce090d36df2c",
        "deepnote_to_be_reexecuted": false,
        "source_hash": "11d6473",
        "execution_millis": 261,
        "execution_start": 1614781523419,
        "deepnote_cell_type": "code"
      },
      "source": "# Scatter Plot\naf_df.plot.scatter(x='FARE', y='DISTANCE')",
      "execution_count": null,
      "outputs": [
        {
          "output_type": "execute_result",
          "execution_count": 6,
          "data": {
            "text/plain": "<AxesSubplot:xlabel='FARE', ylabel='DISTANCE'>"
          },
          "metadata": {}
        },
        {
          "data": {
            "text/plain": "<Figure size 432x288 with 1 Axes>",
            "image/png": "[encoded data removed]"
          },
          "metadata": {
            "needs_background": "light"
          },
          "output_type": "display_data"
        }
      ]
    },
    {
      "cell_type": "code",
      "metadata": {
        "tags": [],
        "cell_id": "00009-f308a18e-ec40-445b-b985-fccb588d9a22",
        "deepnote_to_be_reexecuted": false,
        "source_hash": "b81b258d",
        "execution_millis": 170,
        "execution_start": 1614781527148,
        "deepnote_cell_type": "code"
      },
      "source": "# Scatter Plot\naf_df.plot.scatter(x='FARE', y='COUPON')",
      "execution_count": null,
      "outputs": [
        {
          "output_type": "execute_result",
          "execution_count": 7,
          "data": {
            "text/plain": "<AxesSubplot:xlabel='FARE', ylabel='COUPON'>"
          },
          "metadata": {}
        },
        {
          "data": {
            "text/plain": "<Figure size 432x288 with 1 Axes>",
            "image/png": "[encoded data removed]"
          },
          "metadata": {
            "needs_background": "light"
          },
          "output_type": "display_data"
        }
      ]
    },
    {
      "cell_type": "markdown",
      "source": "### b) Explore the categorical predictors (excluding the first four) by computing the percentage of flights in each category. Create a pivot table with the average fare in each category. Which categorical predictor seems best for predicting FARE?",
      "metadata": {
        "tags": [],
        "cell_id": "00010-6a152f0b-9c84-47d5-b5bc-a4d7ad5a1dc6",
        "deepnote_cell_type": "markdown"
      }
    },
    {
      "cell_type": "markdown",
      "source": "#### VACATION",
      "metadata": {
        "tags": [],
        "cell_id": "00011-bde7389f-dda9-4313-8726-38f639d7fd05",
        "deepnote_cell_type": "markdown"
      }
    },
    {
      "cell_type": "code",
      "metadata": {
        "tags": [],
        "cell_id": "00011-9798dec1-716c-4731-a8f0-7f4f160c8736",
        "deepnote_to_be_reexecuted": false,
        "source_hash": "68ec310a",
        "execution_millis": 4,
        "execution_start": 1614781530937,
        "deepnote_cell_type": "code"
      },
      "source": "af_df.groupby(['VACATION'])['FARE'].count()",
      "execution_count": null,
      "outputs": [
        {
          "output_type": "execute_result",
          "execution_count": 8,
          "data": {
            "text/plain": "VACATION\nNo     468\nYes    170\nName: FARE, dtype: int64"
          },
          "metadata": {}
        }
      ]
    },
    {
      "cell_type": "code",
      "metadata": {
        "tags": [],
        "cell_id": "00011-40c8fd0c-26af-43a1-b3bd-13875f3a4129",
        "deepnote_to_be_reexecuted": false,
        "source_hash": "3fb0cdc0",
        "execution_millis": 10,
        "execution_start": 1614781533069,
        "deepnote_cell_type": "code"
      },
      "source": "af_df.groupby(['VACATION'])['FARE'].mean()",
      "execution_count": null,
      "outputs": [
        {
          "output_type": "execute_result",
          "execution_count": 9,
          "data": {
            "text/plain": "VACATION\nNo     173.552500\nYes    125.980882\nName: FARE, dtype: float64"
          },
          "metadata": {}
        }
      ]
    },
    {
      "cell_type": "markdown",
      "source": "#### SOUTHWEST",
      "metadata": {
        "tags": [],
        "cell_id": "00014-7f0eea49-deb4-4d1b-bab4-ffe102570219",
        "deepnote_cell_type": "markdown"
      }
    },
    {
      "cell_type": "code",
      "metadata": {
        "tags": [],
        "cell_id": "00015-5599be6b-32cb-4c07-8b1d-cbcf0eb5f451",
        "deepnote_to_be_reexecuted": false,
        "source_hash": "63ac337b",
        "execution_millis": 16,
        "execution_start": 1614781538605,
        "deepnote_cell_type": "code"
      },
      "source": "af_df.groupby(['SW'])['FARE'].count()",
      "execution_count": null,
      "outputs": [
        {
          "output_type": "execute_result",
          "execution_count": 10,
          "data": {
            "text/plain": "SW\nNo     444\nYes    194\nName: FARE, dtype: int64"
          },
          "metadata": {}
        }
      ]
    },
    {
      "cell_type": "code",
      "metadata": {
        "tags": [],
        "cell_id": "00016-8e18832c-af4c-4075-a173-bdec73f09d75",
        "deepnote_to_be_reexecuted": false,
        "source_hash": "a689c9bb",
        "execution_millis": 19,
        "execution_start": 1614781541870,
        "deepnote_cell_type": "code"
      },
      "source": "af_df.groupby(['SW'])['FARE'].mean()",
      "execution_count": null,
      "outputs": [
        {
          "output_type": "execute_result",
          "execution_count": 11,
          "data": {
            "text/plain": "SW\nNo     188.182793\nYes     98.382268\nName: FARE, dtype: float64"
          },
          "metadata": {}
        }
      ]
    },
    {
      "cell_type": "markdown",
      "source": "#### SLOT Controlled",
      "metadata": {
        "tags": [],
        "cell_id": "00017-57ccf4c7-95ec-4821-9744-cf0adecc37a8",
        "deepnote_cell_type": "markdown"
      }
    },
    {
      "cell_type": "code",
      "metadata": {
        "tags": [],
        "cell_id": "00018-8cd13650-7235-435d-bf45-33c428b536ff",
        "deepnote_to_be_reexecuted": false,
        "source_hash": "2c071400",
        "execution_millis": 9,
        "execution_start": 1614781546346,
        "deepnote_cell_type": "code"
      },
      "source": "af_df.groupby(['SLOT'])['FARE'].count()",
      "execution_count": null,
      "outputs": [
        {
          "output_type": "execute_result",
          "execution_count": 12,
          "data": {
            "text/plain": "SLOT\nControlled    182\nFree          456\nName: FARE, dtype: int64"
          },
          "metadata": {}
        }
      ]
    },
    {
      "cell_type": "code",
      "metadata": {
        "tags": [],
        "cell_id": "00019-3699a663-94ca-4921-b1c4-a3cbd4e1b501",
        "deepnote_to_be_reexecuted": false,
        "source_hash": "44257b25",
        "execution_millis": 6,
        "execution_start": 1614781547374,
        "deepnote_cell_type": "code"
      },
      "source": "af_df.groupby(['SLOT'])['FARE'].mean()",
      "execution_count": null,
      "outputs": [
        {
          "output_type": "execute_result",
          "execution_count": 13,
          "data": {
            "text/plain": "SLOT\nControlled    186.059396\nFree          150.825680\nName: FARE, dtype: float64"
          },
          "metadata": {}
        }
      ]
    },
    {
      "cell_type": "markdown",
      "source": "#### GATE Contrained",
      "metadata": {
        "tags": [],
        "cell_id": "00020-e626e01a-4dcf-4f4d-83ba-c6fadcdc34ee",
        "deepnote_cell_type": "markdown"
      }
    },
    {
      "cell_type": "code",
      "metadata": {
        "tags": [],
        "cell_id": "00020-7e7cd073-ee5e-42d4-bc20-7decc30ac0cf",
        "deepnote_to_be_reexecuted": false,
        "source_hash": "7df1ccb5",
        "execution_millis": 5,
        "execution_start": 1614781561237,
        "deepnote_cell_type": "code"
      },
      "source": "af_df.groupby(['GATE'])['FARE'].count()",
      "execution_count": null,
      "outputs": [
        {
          "output_type": "execute_result",
          "execution_count": 14,
          "data": {
            "text/plain": "GATE\nConstrained    124\nFree           514\nName: FARE, dtype: int64"
          },
          "metadata": {}
        }
      ]
    },
    {
      "cell_type": "code",
      "metadata": {
        "tags": [],
        "cell_id": "00022-54b626a9-dc84-4230-a97a-237c7866d0b3",
        "deepnote_to_be_reexecuted": false,
        "source_hash": "72aa5bfd",
        "execution_millis": 6,
        "execution_start": 1614781562982,
        "deepnote_cell_type": "code"
      },
      "source": "af_df.groupby(['GATE'])['FARE'].mean()",
      "execution_count": null,
      "outputs": [
        {
          "output_type": "execute_result",
          "execution_count": 15,
          "data": {
            "text/plain": "GATE\nConstrained    193.129032\nFree           153.095953\nName: FARE, dtype: float64"
          },
          "metadata": {}
        }
      ]
    },
    {
      "cell_type": "markdown",
      "source": "The best predicator is if the Southwest Airlines Serves the routes (SW). Fares seem to double if SW does not service the route.",
      "metadata": {
        "tags": [],
        "cell_id": "00023-690eed07-fe8f-4d0f-a4ca-f104f1aa178c",
        "deepnote_cell_type": "markdown"
      }
    },
    {
      "cell_type": "markdown",
      "source": "### Find a model for predicting the average fare on a new route:\n\ni) Convert categorical variables into dummy variables. Then, partition the data into training and validation sets. The model will be fit to the training data and evaluated on the validation set.\n\n\n",
      "metadata": {
        "tags": [],
        "cell_id": "00024-70ac8d73-baca-4e34-a3e7-bd9f4d7aaf98",
        "deepnote_cell_type": "markdown"
      }
    },
    {
      "cell_type": "code",
      "metadata": {
        "tags": [],
        "cell_id": "00024-17ccf9d2-4658-4ba4-b9b2-ff6b127c10d5",
        "deepnote_to_be_reexecuted": false,
        "source_hash": "68464789",
        "execution_millis": 4,
        "execution_start": 1614802291645,
        "deepnote_cell_type": "code"
      },
      "source": "# i)\n# Convert categorical variables into dummy variables. Then, partition the data into training and validation sets.\n# The model will be fit to the training data and evaluated on the validation set.\n\naf_df = pd.read_csv('Airfares.csv')\naf_df = af_df.drop(columns=['S_CODE','S_CITY', 'E_CODE', 'E_CITY'])\naf_df = pd.get_dummies(af_df, prefix_sep='_', drop_first=False)\n\n# create a list of predictor variables by remvoing output variables and text columns\nexcludeColumns = ('S_CODE', 'S_CITY', 'E_CODE', 'E_CITY', 'FARE')\npredictors = [s for s in af_df.columns if s not in excludeColumns]\noutcome = 'FARE'\n\n# partition data\nX = af_df[predictors]\ny = af_df[outcome]\n\n# training (60%) and validation (40%)\ntrain_X, valid_X, train_y, valid_y = train_test_split(X, y, test_size=0.4, random_state=1)\n\nprint('Training X  : ', train_X.shape)\nprint('Validation X: ', valid_X.shape)\n\nprint('Training y  : ', train_y.shape)\nprint('Validation y: ', valid_y.shape)\n",
      "execution_count": null,
      "outputs": [
        {
          "name": "stdout",
          "text": "Training X  :  (382, 17)\nValidation X:  (256, 17)\nTraining y  :  (382,)\nValidation y:  (256,)\n",
          "output_type": "stream"
        }
      ]
    },
    {
      "cell_type": "code",
      "metadata": {
        "tags": [],
        "cell_id": "00026-b6f44e3f-8b83-463a-8b7f-c8603139a83f",
        "deepnote_to_be_reexecuted": false,
        "source_hash": "8588fabb",
        "execution_millis": 762,
        "execution_start": 1614806675776,
        "deepnote_cell_type": "code"
      },
      "source": "# ii)\n# Use stepwise regression to reduce the number of predictors. You can ignore the first four predictors (S_CODE, S_CITY, E_CODE, E_CITY).\n# Report the estimated model selected. \n\ndef train_model(variables):\n    if len(variables) == 0:\n        return None\n    model = LinearRegression()\n    model.fit(train_X[list(variables)], train_y)\n    return model\n\ndef score_model(model, variables):\n    if len(variables) == 0:\n        return AIC_score(train_y, [train_y.mean()] * len(train_y), model, df=1)\n    return AIC_score(train_y, model.predict(train_X[variables]), model)\n\nbest_model, best_variables = stepwise_selection(predictors, train_model, score_model, verbose=True)\nprint(best_variables)\n\n\nregressionSummary(train_y, best_model.predict(train_X[list(best_variables)]))",
      "execution_count": null,
      "outputs": [
        {
          "name": "stdout",
          "text": "Variables: COUPON, NEW, HI, S_INCOME, E_INCOME, S_POP, E_POP, DISTANCE, PAX, VACATION_No, VACATION_Yes, SW_No, SW_Yes, SLOT_Controlled, SLOT_Free, GATE_Constrained, GATE_Free\nStart: score=4379.42, constant\nStep: score=4149.88, add DISTANCE\nStep: score=4025.89, add SW_No\nStep: score=3913.59, add VACATION_No\nStep: score=3890.27, add HI\nStep: score=3873.33, add GATE_Constrained\nStep: score=3852.81, add SLOT_Controlled\nStep: score=3850.30, add PAX\nStep: score=3844.58, add E_POP\nStep: score=3826.43, add S_POP\nStep: score=3821.88, add E_INCOME\nStep: score=3821.88, unchanged None\n['DISTANCE', 'SW_No', 'VACATION_No', 'HI', 'GATE_Constrained', 'SLOT_Controlled', 'PAX', 'E_POP', 'S_POP', 'E_INCOME']\n\nRegression statistics\n\n                      Mean Error (ME) : -0.0000\n       Root Mean Squared Error (RMSE) : 34.8867\n            Mean Absolute Error (MAE) : 27.1374\n          Mean Percentage Error (MPE) : -4.5313\nMean Absolute Percentage Error (MAPE) : 20.1672\n",
          "output_type": "stream"
        }
      ]
    },
    {
      "cell_type": "code",
      "metadata": {
        "tags": [],
        "cell_id": "00028-975eafc1-3057-4316-aed0-dbfd4e5ff40c",
        "deepnote_to_be_reexecuted": false,
        "source_hash": "1a7f655c",
        "execution_millis": 620254,
        "execution_start": 1614803519670,
        "deepnote_cell_type": "code"
      },
      "source": "# iii) Repeat (ii) using exhaustive search instead of stepwise regression.\n#      Compare the resulting best model to the one you obtained in (ii) in terms of the predictors that are in the model.\n\ndef train_model(variables):\n    model = LinearRegression()\n    model.fit(train_X[list(variables)], train_y)\n    return model\n\ndef score_model(model, variables):\n    pred_y = model.predict(train_X[list(variables)])\n    # we negate as score is optimized to be as low as possible\n    return adjusted_r2_score(train_y, pred_y, model)\n\nresults = exhaustive_search(predictors, train_model, score_model)\n\ndata = []\nfor result in results:\n    model = result['model']\n    variables = list(result['variables'])\n    AIC = AIC_score(train_y, model.predict(train_X[variables]), model)\n    d = {'n': result['n'], 'r2adj': result['score'], 'AIC': AIC}\n    d.update({var: var in result['variables'] for var in predictors})\n    data.append(d)\n\npd.DataFrame(data, columns=('n', 'r2adj', 'AIC') + tuple(sorted(predictors)))\n",
      "execution_count": null,
      "outputs": [
        {
          "output_type": "execute_result",
          "execution_count": 52,
          "data": {
            "application/vnd.deepnote.dataframe.v2+json": {
              "row_count": 17,
              "column_count": 20,
              "columns": [
                {
                  "name": "n",
                  "dtype": "int64",
                  "stats": {
                    "unique_count": 17,
                    "nan_count": 0,
                    "min": 1,
                    "max": 17,
                    "histogram": [
                      {
                        "bin_start": 1,
                        "bin_end": 2.6,
                        "count": 2
                      },
                      {
                        "bin_start": 2.6,
                        "bin_end": 4.2,
                        "count": 2
                      },
                      {
                        "bin_start": 4.2,
                        "bin_end": 5.800000000000001,
                        "count": 1
                      },
                      {
                        "bin_start": 5.800000000000001,
                        "bin_end": 7.4,
                        "count": 2
                      },
                      {
                        "bin_start": 7.4,
                        "bin_end": 9,
                        "count": 1
                      },
                      {
                        "bin_start": 9,
                        "bin_end": 10.600000000000001,
                        "count": 2
                      },
                      {
                        "bin_start": 10.600000000000001,
                        "bin_end": 12.200000000000001,
                        "count": 2
                      },
                      {
                        "bin_start": 12.200000000000001,
                        "bin_end": 13.8,
                        "count": 1
                      },
                      {
                        "bin_start": 13.8,
                        "bin_end": 15.4,
                        "count": 2
                      },
                      {
                        "bin_start": 15.4,
                        "bin_end": 17,
                        "count": 2
                      }
                    ]
                  }
                },
                {
                  "name": "r2adj",
                  "dtype": "float64",
                  "stats": {
                    "unique_count": 17,
                    "nan_count": 0,
                    "min": -0.6212033888287984,
                    "max": 0.7708011120261211,
                    "histogram": [
                      {
                        "bin_start": -0.6212033888287984,
                        "bin_end": -0.48200293874330646,
                        "count": 1
                      },
                      {
                        "bin_start": -0.48200293874330646,
                        "bin_end": -0.34280248865781454,
                        "count": 0
                      },
                      {
                        "bin_start": -0.34280248865781454,
                        "bin_end": -0.20360203857232262,
                        "count": 0
                      },
                      {
                        "bin_start": -0.20360203857232262,
                        "bin_end": -0.06440158848683064,
                        "count": 1
                      },
                      {
                        "bin_start": -0.06440158848683064,
                        "bin_end": 0.07479886159866134,
                        "count": 5
                      },
                      {
                        "bin_start": 0.07479886159866134,
                        "bin_end": 0.2139993116841532,
                        "count": 4
                      },
                      {
                        "bin_start": 0.2139993116841532,
                        "bin_end": 0.3531997617696452,
                        "count": 2
                      },
                      {
                        "bin_start": 0.3531997617696452,
                        "bin_end": 0.49240021185513716,
                        "count": 2
                      },
                      {
                        "bin_start": 0.49240021185513716,
                        "bin_end": 0.6316006619406291,
                        "count": 1
                      },
                      {
                        "bin_start": 0.6316006619406291,
                        "bin_end": 0.7708011120261211,
                        "count": 1
                      }
                    ]
                  }
                },
                {
                  "name": "AIC",
                  "dtype": "float64",
                  "stats": {
                    "unique_count": 17,
                    "nan_count": 0,
                    "min": 3833.237680016252,
                    "max": 4570.910148661596,
                    "histogram": [
                      {
                        "bin_start": 3833.237680016252,
                        "bin_end": 3907.0049268807866,
                        "count": 1
                      },
                      {
                        "bin_start": 3907.0049268807866,
                        "bin_end": 3980.7721737453207,
                        "count": 0
                      },
                      {
                        "bin_start": 3980.7721737453207,
                        "bin_end": 4054.5394206098554,
                        "count": 1
                      },
                      {
                        "bin_start": 4054.5394206098554,
                        "bin_end": 4128.3066674743895,
                        "count": 0
                      },
                      {
                        "bin_start": 4128.3066674743895,
                        "bin_end": 4202.073914338924,
                        "count": 1
                      },
                      {
                        "bin_start": 4202.073914338924,
                        "bin_end": 4275.841161203459,
                        "count": 2
                      },
                      {
                        "bin_start": 4275.841161203459,
                        "bin_end": 4349.608408067993,
                        "count": 4
                      },
                      {
                        "bin_start": 4349.608408067993,
                        "bin_end": 4423.375654932527,
                        "count": 7
                      },
                      {
                        "bin_start": 4423.375654932527,
                        "bin_end": 4497.142901797062,
                        "count": 0
                      },
                      {
                        "bin_start": 4497.142901797062,
                        "bin_end": 4570.910148661596,
                        "count": 1
                      }
                    ]
                  }
                },
                {
                  "name": "COUPON",
                  "dtype": "bool",
                  "stats": {
                    "unique_count": 2,
                    "nan_count": 0,
                    "categories": [
                      {
                        "name": "False",
                        "count": 14
                      },
                      {
                        "name": "True",
                        "count": 3
                      }
                    ]
                  }
                },
                {
                  "name": "DISTANCE",
                  "dtype": "bool",
                  "stats": {
                    "unique_count": 2,
                    "nan_count": 0,
                    "categories": [
                      {
                        "name": "False",
                        "count": 16
                      },
                      {
                        "name": "True",
                        "count": 1
                      }
                    ]
                  }
                },
                {
                  "name": "E_INCOME",
                  "dtype": "bool",
                  "stats": {
                    "unique_count": 2,
                    "nan_count": 0,
                    "categories": [
                      {
                        "name": "False",
                        "count": 12
                      },
                      {
                        "name": "True",
                        "count": 5
                      }
                    ]
                  }
                },
                {
                  "name": "E_POP",
                  "dtype": "bool",
                  "stats": {
                    "unique_count": 2,
                    "nan_count": 0,
                    "categories": [
                      {
                        "name": "False",
                        "count": 11
                      },
                      {
                        "name": "True",
                        "count": 6
                      }
                    ]
                  }
                },
                {
                  "name": "GATE_Constrained",
                  "dtype": "bool",
                  "stats": {
                    "unique_count": 2,
                    "nan_count": 0,
                    "categories": [
                      {
                        "name": "True",
                        "count": 11
                      },
                      {
                        "name": "False",
                        "count": 6
                      }
                    ]
                  }
                },
                {
                  "name": "GATE_Free",
                  "dtype": "bool",
                  "stats": {
                    "unique_count": 2,
                    "nan_count": 0,
                    "categories": [
                      {
                        "name": "True",
                        "count": 10
                      },
                      {
                        "name": "False",
                        "count": 7
                      }
                    ]
                  }
                },
                {
                  "name": "HI",
                  "dtype": "bool",
                  "stats": {
                    "unique_count": 2,
                    "nan_count": 0,
                    "categories": [
                      {
                        "name": "True",
                        "count": 14
                      },
                      {
                        "name": "False",
                        "count": 3
                      }
                    ]
                  }
                },
                {
                  "name": "NEW",
                  "dtype": "bool",
                  "stats": {
                    "unique_count": 2,
                    "nan_count": 0,
                    "categories": [
                      {
                        "name": "True",
                        "count": 14
                      },
                      {
                        "name": "False",
                        "count": 3
                      }
                    ]
                  }
                },
                {
                  "name": "PAX",
                  "dtype": "bool",
                  "stats": {
                    "unique_count": 2,
                    "nan_count": 0,
                    "categories": [
                      {
                        "name": "False",
                        "count": 10
                      },
                      {
                        "name": "True",
                        "count": 7
                      }
                    ]
                  }
                },
                {
                  "name": "SLOT_Controlled",
                  "dtype": "bool",
                  "stats": {
                    "unique_count": 2,
                    "nan_count": 0,
                    "categories": [
                      {
                        "name": "True",
                        "count": 13
                      },
                      {
                        "name": "False",
                        "count": 4
                      }
                    ]
                  }
                },
                {
                  "name": "SLOT_Free",
                  "dtype": "bool",
                  "stats": {
                    "unique_count": 2,
                    "nan_count": 0,
                    "categories": [
                      {
                        "name": "True",
                        "count": 14
                      },
                      {
                        "name": "False",
                        "count": 3
                      }
                    ]
                  }
                },
                {
                  "name": "SW_No",
                  "dtype": "bool",
                  "stats": {
                    "unique_count": 2,
                    "nan_count": 0,
                    "categories": [
                      {
                        "name": "False",
                        "count": 11
                      },
                      {
                        "name": "True",
                        "count": 6
                      }
                    ]
                  }
                },
                {
                  "name": "SW_Yes",
                  "dtype": "bool",
                  "stats": {
                    "unique_count": 2,
                    "nan_count": 0,
                    "categories": [
                      {
                        "name": "False",
                        "count": 11
                      },
                      {
                        "name": "True",
                        "count": 6
                      }
                    ]
                  }
                },
                {
                  "name": "S_INCOME",
                  "dtype": "bool",
                  "stats": {
                    "unique_count": 2,
                    "nan_count": 0,
                    "categories": [
                      {
                        "name": "True",
                        "count": 11
                      },
                      {
                        "name": "False",
                        "count": 6
                      }
                    ]
                  }
                },
                {
                  "name": "S_POP",
                  "dtype": "bool",
                  "stats": {
                    "unique_count": 2,
                    "nan_count": 0,
                    "categories": [
                      {
                        "name": "True",
                        "count": 11
                      },
                      {
                        "name": "False",
                        "count": 6
                      }
                    ]
                  }
                },
                {
                  "name": "VACATION_No",
                  "dtype": "bool",
                  "stats": {
                    "unique_count": 2,
                    "nan_count": 0,
                    "categories": [
                      {
                        "name": "True",
                        "count": 10
                      },
                      {
                        "name": "False",
                        "count": 7
                      }
                    ]
                  }
                },
                {
                  "name": "VACATION_Yes",
                  "dtype": "bool",
                  "stats": {
                    "unique_count": 2,
                    "nan_count": 0,
                    "categories": [
                      {
                        "name": "True",
                        "count": 11
                      },
                      {
                        "name": "False",
                        "count": 6
                      }
                    ]
                  }
                },
                {
                  "name": "_deepnote_index_column",
                  "dtype": "int64"
                }
              ],
              "rows_top": [
                {
                  "n": 1,
                  "r2adj": -0.001922501104429486,
                  "AIC": 4381.153097249022,
                  "COUPON": false,
                  "DISTANCE": false,
                  "E_INCOME": false,
                  "E_POP": false,
                  "GATE_Constrained": false,
                  "GATE_Free": false,
                  "HI": true,
                  "NEW": false,
                  "PAX": false,
                  "SLOT_Controlled": false,
                  "SLOT_Free": false,
                  "SW_No": false,
                  "SW_Yes": false,
                  "S_INCOME": false,
                  "S_POP": false,
                  "VACATION_No": false,
                  "VACATION_Yes": false,
                  "_deepnote_index_column": 0
                },
                {
                  "n": 2,
                  "r2adj": 0.0022090396864179462,
                  "AIC": 4380.568032076264,
                  "COUPON": false,
                  "DISTANCE": false,
                  "E_INCOME": false,
                  "E_POP": false,
                  "GATE_Constrained": false,
                  "GATE_Free": false,
                  "HI": true,
                  "NEW": false,
                  "PAX": true,
                  "SLOT_Controlled": false,
                  "SLOT_Free": false,
                  "SW_No": false,
                  "SW_Yes": false,
                  "S_INCOME": false,
                  "S_POP": false,
                  "VACATION_No": false,
                  "VACATION_Yes": false,
                  "_deepnote_index_column": 1
                },
                {
                  "n": 3,
                  "r2adj": 0.014435108361759652,
                  "AIC": 4376.8491733373885,
                  "COUPON": false,
                  "DISTANCE": false,
                  "E_INCOME": false,
                  "E_POP": false,
                  "GATE_Constrained": false,
                  "GATE_Free": false,
                  "HI": true,
                  "NEW": true,
                  "PAX": true,
                  "SLOT_Controlled": false,
                  "SLOT_Free": false,
                  "SW_No": false,
                  "SW_Yes": false,
                  "S_INCOME": false,
                  "S_POP": false,
                  "VACATION_No": false,
                  "VACATION_Yes": false,
                  "_deepnote_index_column": 2
                },
                {
                  "n": 4,
                  "r2adj": -0.08885689551440179,
                  "AIC": 4415.910708750591,
                  "COUPON": false,
                  "DISTANCE": false,
                  "E_INCOME": false,
                  "E_POP": false,
                  "GATE_Constrained": true,
                  "GATE_Free": true,
                  "HI": false,
                  "NEW": false,
                  "PAX": false,
                  "SLOT_Controlled": false,
                  "SLOT_Free": true,
                  "SW_No": true,
                  "SW_Yes": false,
                  "S_INCOME": false,
                  "S_POP": false,
                  "VACATION_No": false,
                  "VACATION_Yes": false,
                  "_deepnote_index_column": 3
                },
                {
                  "n": 5,
                  "r2adj": -0.028632379582489875,
                  "AIC": 4395.160951956277,
                  "COUPON": false,
                  "DISTANCE": false,
                  "E_INCOME": false,
                  "E_POP": false,
                  "GATE_Constrained": false,
                  "GATE_Free": false,
                  "HI": false,
                  "NEW": true,
                  "PAX": false,
                  "SLOT_Controlled": true,
                  "SLOT_Free": true,
                  "SW_No": false,
                  "SW_Yes": false,
                  "S_INCOME": false,
                  "S_POP": false,
                  "VACATION_No": true,
                  "VACATION_Yes": true,
                  "_deepnote_index_column": 4
                },
                {
                  "n": 6,
                  "r2adj": 0.049000011386736486,
                  "AIC": 4366.167580990463,
                  "COUPON": false,
                  "DISTANCE": false,
                  "E_INCOME": false,
                  "E_POP": false,
                  "GATE_Constrained": false,
                  "GATE_Free": false,
                  "HI": true,
                  "NEW": true,
                  "PAX": false,
                  "SLOT_Controlled": true,
                  "SLOT_Free": true,
                  "SW_No": false,
                  "SW_Yes": false,
                  "S_INCOME": true,
                  "S_POP": true,
                  "VACATION_No": false,
                  "VACATION_Yes": false,
                  "_deepnote_index_column": 5
                },
                {
                  "n": 7,
                  "r2adj": -0.6212033888287984,
                  "AIC": 4570.910148661596,
                  "COUPON": true,
                  "DISTANCE": false,
                  "E_INCOME": false,
                  "E_POP": false,
                  "GATE_Constrained": true,
                  "GATE_Free": false,
                  "HI": false,
                  "NEW": true,
                  "PAX": false,
                  "SLOT_Controlled": true,
                  "SLOT_Free": true,
                  "SW_No": false,
                  "SW_Yes": true,
                  "S_INCOME": false,
                  "S_POP": false,
                  "VACATION_No": false,
                  "VACATION_Yes": true,
                  "_deepnote_index_column": 6
                },
                {
                  "n": 8,
                  "r2adj": 0.09387205225002326,
                  "AIC": 4349.661386219277,
                  "COUPON": false,
                  "DISTANCE": false,
                  "E_INCOME": false,
                  "E_POP": false,
                  "GATE_Constrained": true,
                  "GATE_Free": true,
                  "HI": true,
                  "NEW": true,
                  "PAX": false,
                  "SLOT_Controlled": true,
                  "SLOT_Free": true,
                  "SW_No": false,
                  "SW_Yes": false,
                  "S_INCOME": true,
                  "S_POP": true,
                  "VACATION_No": false,
                  "VACATION_Yes": false,
                  "_deepnote_index_column": 7
                },
                {
                  "n": 9,
                  "r2adj": 0.11106796961378151,
                  "AIC": 4343.316860642637,
                  "COUPON": false,
                  "DISTANCE": false,
                  "E_INCOME": false,
                  "E_POP": false,
                  "GATE_Constrained": false,
                  "GATE_Free": false,
                  "HI": true,
                  "NEW": true,
                  "PAX": true,
                  "SLOT_Controlled": true,
                  "SLOT_Free": true,
                  "SW_No": false,
                  "SW_Yes": false,
                  "S_INCOME": true,
                  "S_POP": true,
                  "VACATION_No": true,
                  "VACATION_Yes": true,
                  "_deepnote_index_column": 8
                },
                {
                  "n": 10,
                  "r2adj": 0.1309745073833749,
                  "AIC": 4335.636939544838,
                  "COUPON": false,
                  "DISTANCE": false,
                  "E_INCOME": false,
                  "E_POP": false,
                  "GATE_Constrained": true,
                  "GATE_Free": true,
                  "HI": true,
                  "NEW": true,
                  "PAX": false,
                  "SLOT_Controlled": true,
                  "SLOT_Free": true,
                  "SW_No": false,
                  "SW_Yes": false,
                  "S_INCOME": true,
                  "S_POP": true,
                  "VACATION_No": true,
                  "VACATION_Yes": true,
                  "_deepnote_index_column": 9
                },
                {
                  "n": 11,
                  "r2adj": 0.15345911212883123,
                  "AIC": 4326.592167927412,
                  "COUPON": false,
                  "DISTANCE": false,
                  "E_INCOME": false,
                  "E_POP": false,
                  "GATE_Constrained": true,
                  "GATE_Free": true,
                  "HI": true,
                  "NEW": true,
                  "PAX": true,
                  "SLOT_Controlled": true,
                  "SLOT_Free": true,
                  "SW_No": false,
                  "SW_Yes": false,
                  "S_INCOME": true,
                  "S_POP": true,
                  "VACATION_No": true,
                  "VACATION_Yes": true,
                  "_deepnote_index_column": 10
                },
                {
                  "n": 12,
                  "r2adj": 0.23926696782713197,
                  "AIC": 4286.731698834894,
                  "COUPON": false,
                  "DISTANCE": false,
                  "E_INCOME": true,
                  "E_POP": true,
                  "GATE_Constrained": true,
                  "GATE_Free": true,
                  "HI": true,
                  "NEW": true,
                  "PAX": false,
                  "SLOT_Controlled": true,
                  "SLOT_Free": true,
                  "SW_No": false,
                  "SW_Yes": false,
                  "S_INCOME": true,
                  "S_POP": true,
                  "VACATION_No": true,
                  "VACATION_Yes": true,
                  "_deepnote_index_column": 11
                },
                {
                  "n": 13,
                  "r2adj": 0.3517653437675383,
                  "AIC": 4226.563706395427,
                  "COUPON": false,
                  "DISTANCE": false,
                  "E_INCOME": false,
                  "E_POP": true,
                  "GATE_Constrained": true,
                  "GATE_Free": true,
                  "HI": true,
                  "NEW": true,
                  "PAX": false,
                  "SLOT_Controlled": true,
                  "SLOT_Free": true,
                  "SW_No": true,
                  "SW_Yes": true,
                  "S_INCOME": true,
                  "S_POP": true,
                  "VACATION_No": true,
                  "VACATION_Yes": true,
                  "_deepnote_index_column": 12
                },
                {
                  "n": 14,
                  "r2adj": 0.3695453307233062,
                  "AIC": 4216.900257634562,
                  "COUPON": false,
                  "DISTANCE": false,
                  "E_INCOME": true,
                  "E_POP": true,
                  "GATE_Constrained": true,
                  "GATE_Free": true,
                  "HI": true,
                  "NEW": true,
                  "PAX": false,
                  "SLOT_Controlled": true,
                  "SLOT_Free": true,
                  "SW_No": true,
                  "SW_Yes": true,
                  "S_INCOME": true,
                  "S_POP": true,
                  "VACATION_No": true,
                  "VACATION_Yes": true,
                  "_deepnote_index_column": 13
                },
                {
                  "n": 15,
                  "r2adj": 0.45900525827775274,
                  "AIC": 4159.399856742963,
                  "COUPON": false,
                  "DISTANCE": false,
                  "E_INCOME": true,
                  "E_POP": true,
                  "GATE_Constrained": true,
                  "GATE_Free": true,
                  "HI": true,
                  "NEW": true,
                  "PAX": true,
                  "SLOT_Controlled": true,
                  "SLOT_Free": true,
                  "SW_No": true,
                  "SW_Yes": true,
                  "S_INCOME": true,
                  "S_POP": true,
                  "VACATION_No": true,
                  "VACATION_Yes": true,
                  "_deepnote_index_column": 14
                },
                {
                  "n": 16,
                  "r2adj": 0.5967076695947553,
                  "AIC": 4048.1430243380014,
                  "COUPON": true,
                  "DISTANCE": false,
                  "E_INCOME": true,
                  "E_POP": true,
                  "GATE_Constrained": true,
                  "GATE_Free": true,
                  "HI": true,
                  "NEW": true,
                  "PAX": true,
                  "SLOT_Controlled": true,
                  "SLOT_Free": true,
                  "SW_No": true,
                  "SW_Yes": true,
                  "S_INCOME": true,
                  "S_POP": true,
                  "VACATION_No": true,
                  "VACATION_Yes": true,
                  "_deepnote_index_column": 15
                },
                {
                  "n": 17,
                  "r2adj": 0.7708011120261211,
                  "AIC": 3833.237680016252,
                  "COUPON": true,
                  "DISTANCE": true,
                  "E_INCOME": true,
                  "E_POP": true,
                  "GATE_Constrained": true,
                  "GATE_Free": true,
                  "HI": true,
                  "NEW": true,
                  "PAX": true,
                  "SLOT_Controlled": true,
                  "SLOT_Free": true,
                  "SW_No": true,
                  "SW_Yes": true,
                  "S_INCOME": true,
                  "S_POP": true,
                  "VACATION_No": true,
                  "VACATION_Yes": true,
                  "_deepnote_index_column": 16
                }
              ],
              "rows_bottom": null
            },
            "text/plain": "     n     r2adj          AIC  COUPON  DISTANCE  E_INCOME  E_POP  \\\n0    1 -0.001923  4381.153097   False     False     False  False   \n1    2  0.002209  4380.568032   False     False     False  False   \n2    3  0.014435  4376.849173   False     False     False  False   \n3    4 -0.088857  4415.910709   False     False     False  False   \n4    5 -0.028632  4395.160952   False     False     False  False   \n5    6  0.049000  4366.167581   False     False     False  False   \n6    7 -0.621203  4570.910149    True     False     False  False   \n7    8  0.093872  4349.661386   False     False     False  False   \n8    9  0.111068  4343.316861   False     False     False  False   \n9   10  0.130975  4335.636940   False     False     False  False   \n10  11  0.153459  4326.592168   False     False     False  False   \n11  12  0.239267  4286.731699   False     False      True   True   \n12  13  0.351765  4226.563706   False     False     False   True   \n13  14  0.369545  4216.900258   False     False      True   True   \n14  15  0.459005  4159.399857   False     False      True   True   \n15  16  0.596708  4048.143024    True     False      True   True   \n16  17  0.770801  3833.237680    True      True      True   True   \n\n    GATE_Constrained  GATE_Free     HI    NEW    PAX  SLOT_Controlled  \\\n0              False      False   True  False  False            False   \n1              False      False   True  False   True            False   \n2              False      False   True   True   True            False   \n3               True       True  False  False  False            False   \n4              False      False  False   True  False             True   \n5              False      False   True   True  False             True   \n6               True      False  False   True  False             True   \n7               True       True   True   True  False             True   \n8              False      False   True   True   True             True   \n9               True       True   True   True  False             True   \n10              True       True   True   True   True             True   \n11              True       True   True   True  False             True   \n12              True       True   True   True  False             True   \n13              True       True   True   True  False             True   \n14              True       True   True   True   True             True   \n15              True       True   True   True   True             True   \n16              True       True   True   True   True             True   \n\n    SLOT_Free  SW_No  SW_Yes  S_INCOME  S_POP  VACATION_No  VACATION_Yes  \n0       False  False   False     False  False        False         False  \n1       False  False   False     False  False        False         False  \n2       False  False   False     False  False        False         False  \n3        True   True   False     False  False        False         False  \n4        True  False   False     False  False         True          True  \n5        True  False   False      True   True        False         False  \n6        True  False    True     False  False        False          True  \n7        True  False   False      True   True        False         False  \n8        True  False   False      True   True         True          True  \n9        True  False   False      True   True         True          True  \n10       True  False   False      True   True         True          True  \n11       True  False   False      True   True         True          True  \n12       True   True    True      True   True         True          True  \n13       True   True    True      True   True         True          True  \n14       True   True    True      True   True         True          True  \n15       True   True    True      True   True         True          True  \n16       True   True    True      True   True         True          True  ",
            "text/html": "<div>\n<style scoped>\n    .dataframe tbody tr th:only-of-type {\n        vertical-align: middle;\n    }\n\n    .dataframe tbody tr th {\n        vertical-align: top;\n    }\n\n    .dataframe thead th {\n        text-align: right;\n    }\n</style>\n<table border=\"1\" class=\"dataframe\">\n  <thead>\n    <tr style=\"text-align: right;\">\n      <th></th>\n      <th>n</th>\n      <th>r2adj</th>\n      <th>AIC</th>\n      <th>COUPON</th>\n      <th>DISTANCE</th>\n      <th>E_INCOME</th>\n      <th>E_POP</th>\n      <th>GATE_Constrained</th>\n      <th>GATE_Free</th>\n      <th>HI</th>\n      <th>NEW</th>\n      <th>PAX</th>\n      <th>SLOT_Controlled</th>\n      <th>SLOT_Free</th>\n      <th>SW_No</th>\n      <th>SW_Yes</th>\n      <th>S_INCOME</th>\n      <th>S_POP</th>\n      <th>VACATION_No</th>\n      <th>VACATION_Yes</th>\n    </tr>\n  </thead>\n  <tbody>\n    <tr>\n      <th>0</th>\n      <td>1</td>\n      <td>-0.001923</td>\n      <td>4381.153097</td>\n      <td>False</td>\n      <td>False</td>\n      <td>False</td>\n      <td>False</td>\n      <td>False</td>\n      <td>False</td>\n      <td>True</td>\n      <td>False</td>\n      <td>False</td>\n      <td>False</td>\n      <td>False</td>\n      <td>False</td>\n      <td>False</td>\n      <td>False</td>\n      <td>False</td>\n      <td>False</td>\n      <td>False</td>\n    </tr>\n    <tr>\n      <th>1</th>\n      <td>2</td>\n      <td>0.002209</td>\n      <td>4380.568032</td>\n      <td>False</td>\n      <td>False</td>\n      <td>False</td>\n      <td>False</td>\n      <td>False</td>\n      <td>False</td>\n      <td>True</td>\n      <td>False</td>\n      <td>True</td>\n      <td>False</td>\n      <td>False</td>\n      <td>False</td>\n      <td>False</td>\n      <td>False</td>\n      <td>False</td>\n      <td>False</td>\n      <td>False</td>\n    </tr>\n    <tr>\n      <th>2</th>\n      <td>3</td>\n      <td>0.014435</td>\n      <td>4376.849173</td>\n      <td>False</td>\n      <td>False</td>\n      <td>False</td>\n      <td>False</td>\n      <td>False</td>\n      <td>False</td>\n      <td>True</td>\n      <td>True</td>\n      <td>True</td>\n      <td>False</td>\n      <td>False</td>\n      <td>False</td>\n      <td>False</td>\n      <td>False</td>\n      <td>False</td>\n      <td>False</td>\n      <td>False</td>\n    </tr>\n    <tr>\n      <th>3</th>\n      <td>4</td>\n      <td>-0.088857</td>\n      <td>4415.910709</td>\n      <td>False</td>\n      <td>False</td>\n      <td>False</td>\n      <td>False</td>\n      <td>True</td>\n      <td>True</td>\n      <td>False</td>\n      <td>False</td>\n      <td>False</td>\n      <td>False</td>\n      <td>True</td>\n      <td>True</td>\n      <td>False</td>\n      <td>False</td>\n      <td>False</td>\n      <td>False</td>\n      <td>False</td>\n    </tr>\n    <tr>\n      <th>4</th>\n      <td>5</td>\n      <td>-0.028632</td>\n      <td>4395.160952</td>\n      <td>False</td>\n      <td>False</td>\n      <td>False</td>\n      <td>False</td>\n      <td>False</td>\n      <td>False</td>\n      <td>False</td>\n      <td>True</td>\n      <td>False</td>\n      <td>True</td>\n      <td>True</td>\n      <td>False</td>\n      <td>False</td>\n      <td>False</td>\n      <td>False</td>\n      <td>True</td>\n      <td>True</td>\n    </tr>\n    <tr>\n      <th>5</th>\n      <td>6</td>\n      <td>0.049000</td>\n      <td>4366.167581</td>\n      <td>False</td>\n      <td>False</td>\n      <td>False</td>\n      <td>False</td>\n      <td>False</td>\n      <td>False</td>\n      <td>True</td>\n      <td>True</td>\n      <td>False</td>\n      <td>True</td>\n      <td>True</td>\n      <td>False</td>\n      <td>False</td>\n      <td>True</td>\n      <td>True</td>\n      <td>False</td>\n      <td>False</td>\n    </tr>\n    <tr>\n      <th>6</th>\n      <td>7</td>\n      <td>-0.621203</td>\n      <td>4570.910149</td>\n      <td>True</td>\n      <td>False</td>\n      <td>False</td>\n      <td>False</td>\n      <td>True</td>\n      <td>False</td>\n      <td>False</td>\n      <td>True</td>\n      <td>False</td>\n      <td>True</td>\n      <td>True</td>\n      <td>False</td>\n      <td>True</td>\n      <td>False</td>\n      <td>False</td>\n      <td>False</td>\n      <td>True</td>\n    </tr>\n    <tr>\n      <th>7</th>\n      <td>8</td>\n      <td>0.093872</td>\n      <td>4349.661386</td>\n      <td>False</td>\n      <td>False</td>\n      <td>False</td>\n      <td>False</td>\n      <td>True</td>\n      <td>True</td>\n      <td>True</td>\n      <td>True</td>\n      <td>False</td>\n      <td>True</td>\n      <td>True</td>\n      <td>False</td>\n      <td>False</td>\n      <td>True</td>\n      <td>True</td>\n      <td>False</td>\n      <td>False</td>\n    </tr>\n    <tr>\n      <th>8</th>\n      <td>9</td>\n      <td>0.111068</td>\n      <td>4343.316861</td>\n      <td>False</td>\n      <td>False</td>\n      <td>False</td>\n      <td>False</td>\n      <td>False</td>\n      <td>False</td>\n      <td>True</td>\n      <td>True</td>\n      <td>True</td>\n      <td>True</td>\n      <td>True</td>\n      <td>False</td>\n      <td>False</td>\n      <td>True</td>\n      <td>True</td>\n      <td>True</td>\n      <td>True</td>\n    </tr>\n    <tr>\n      <th>9</th>\n      <td>10</td>\n      <td>0.130975</td>\n      <td>4335.636940</td>\n      <td>False</td>\n      <td>False</td>\n      <td>False</td>\n      <td>False</td>\n      <td>True</td>\n      <td>True</td>\n      <td>True</td>\n      <td>True</td>\n      <td>False</td>\n      <td>True</td>\n      <td>True</td>\n      <td>False</td>\n      <td>False</td>\n      <td>True</td>\n      <td>True</td>\n      <td>True</td>\n      <td>True</td>\n    </tr>\n    <tr>\n      <th>10</th>\n      <td>11</td>\n      <td>0.153459</td>\n      <td>4326.592168</td>\n      <td>False</td>\n      <td>False</td>\n      <td>False</td>\n      <td>False</td>\n      <td>True</td>\n      <td>True</td>\n      <td>True</td>\n      <td>True</td>\n      <td>True</td>\n      <td>True</td>\n      <td>True</td>\n      <td>False</td>\n      <td>False</td>\n      <td>True</td>\n      <td>True</td>\n      <td>True</td>\n      <td>True</td>\n    </tr>\n    <tr>\n      <th>11</th>\n      <td>12</td>\n      <td>0.239267</td>\n      <td>4286.731699</td>\n      <td>False</td>\n      <td>False</td>\n      <td>True</td>\n      <td>True</td>\n      <td>True</td>\n      <td>True</td>\n      <td>True</td>\n      <td>True</td>\n      <td>False</td>\n      <td>True</td>\n      <td>True</td>\n      <td>False</td>\n      <td>False</td>\n      <td>True</td>\n      <td>True</td>\n      <td>True</td>\n      <td>True</td>\n    </tr>\n    <tr>\n      <th>12</th>\n      <td>13</td>\n      <td>0.351765</td>\n      <td>4226.563706</td>\n      <td>False</td>\n      <td>False</td>\n      <td>False</td>\n      <td>True</td>\n      <td>True</td>\n      <td>True</td>\n      <td>True</td>\n      <td>True</td>\n      <td>False</td>\n      <td>True</td>\n      <td>True</td>\n      <td>True</td>\n      <td>True</td>\n      <td>True</td>\n      <td>True</td>\n      <td>True</td>\n      <td>True</td>\n    </tr>\n    <tr>\n      <th>13</th>\n      <td>14</td>\n      <td>0.369545</td>\n      <td>4216.900258</td>\n      <td>False</td>\n      <td>False</td>\n      <td>True</td>\n      <td>True</td>\n      <td>True</td>\n      <td>True</td>\n      <td>True</td>\n      <td>True</td>\n      <td>False</td>\n      <td>True</td>\n      <td>True</td>\n      <td>True</td>\n      <td>True</td>\n      <td>True</td>\n      <td>True</td>\n      <td>True</td>\n      <td>True</td>\n    </tr>\n    <tr>\n      <th>14</th>\n      <td>15</td>\n      <td>0.459005</td>\n      <td>4159.399857</td>\n      <td>False</td>\n      <td>False</td>\n      <td>True</td>\n      <td>True</td>\n      <td>True</td>\n      <td>True</td>\n      <td>True</td>\n      <td>True</td>\n      <td>True</td>\n      <td>True</td>\n      <td>True</td>\n      <td>True</td>\n      <td>True</td>\n      <td>True</td>\n      <td>True</td>\n      <td>True</td>\n      <td>True</td>\n    </tr>\n    <tr>\n      <th>15</th>\n      <td>16</td>\n      <td>0.596708</td>\n      <td>4048.143024</td>\n      <td>True</td>\n      <td>False</td>\n      <td>True</td>\n      <td>True</td>\n      <td>True</td>\n      <td>True</td>\n      <td>True</td>\n      <td>True</td>\n      <td>True</td>\n      <td>True</td>\n      <td>True</td>\n      <td>True</td>\n      <td>True</td>\n      <td>True</td>\n      <td>True</td>\n      <td>True</td>\n      <td>True</td>\n    </tr>\n    <tr>\n      <th>16</th>\n      <td>17</td>\n      <td>0.770801</td>\n      <td>3833.237680</td>\n      <td>True</td>\n      <td>True</td>\n      <td>True</td>\n      <td>True</td>\n      <td>True</td>\n      <td>True</td>\n      <td>True</td>\n      <td>True</td>\n      <td>True</td>\n      <td>True</td>\n      <td>True</td>\n      <td>True</td>\n      <td>True</td>\n      <td>True</td>\n      <td>True</td>\n      <td>True</td>\n      <td>True</td>\n    </tr>\n  </tbody>\n</table>\n</div>"
          },
          "metadata": {}
        }
      ]
    },
    {
      "cell_type": "code",
      "metadata": {
        "tags": [],
        "cell_id": "00030-5b01f5a8-0bca-4147-aae2-9cbf5e66de83",
        "deepnote_to_be_reexecuted": false,
        "source_hash": "cdba5c4d",
        "execution_millis": 5,
        "execution_start": 1614808680489,
        "deepnote_cell_type": "code"
      },
      "source": "\n",
      "execution_count": null,
      "outputs": [
        {
          "name": "stdout",
          "text": "\nRegression statistics\n\n                      Mean Error (ME) : -1.8231\n       Root Mean Squared Error (RMSE) : 36.0002\n            Mean Absolute Error (MAE) : 28.5002\n          Mean Percentage Error (MPE) : -6.6037\nMean Absolute Percentage Error (MAPE) : 21.6048\n",
          "output_type": "stream"
        }
      ]
    },
    {
      "cell_type": "markdown",
      "source": "The exhaustive search seems to come up with a slighlty different model than the stepwise approach. To note, the exhaustive search also took much longer to run. Which means it would be more costly in compute effort if repeated frequently.",
      "metadata": {
        "tags": [],
        "cell_id": "00029-8e1da7d0-680b-44d9-ab38-cc2f29249d29",
        "deepnote_cell_type": "markdown"
      }
    },
    {
      "cell_type": "code",
      "metadata": {
        "tags": [],
        "cell_id": "00029-d0808d72-75e7-40e9-97fa-09b452f87258",
        "deepnote_to_be_reexecuted": false,
        "source_hash": "4c71d841",
        "execution_millis": 365,
        "execution_start": 1614811262957,
        "deepnote_cell_type": "code"
      },
      "source": "# iv) Compare the predictive accuracy of both models (ii) and (iii) using measures such as RMSE and average error and lift charts.\n\n# Stepwise (ii)\nprint('Stepwise Model Summary:')\nregressionSummary(valid_y, best_model.predict(valid_X[list(best_variables)]))\npred_v = pd.Series(best_model.predict(valid_X[list(best_variables)]))\npred_v = pred_v.sort_values(ascending=False)\nfig, axes = plt.subplots(nrows=1, ncols=2)\nax = gainsChart(pred_v, ax=axes[0])\nax.set_ylabel('Cumulative Price')\nax.set_title('Cumulative Gains Chart')\nax = liftChart(pred_v, ax=axes[1], labelBars=False)\nax.set_ylabel('Lift')\nplt.tight_layout()\nplt.show() \n",
      "execution_count": null,
      "outputs": [
        {
          "name": "stdout",
          "text": "Stepwise Model Summary:\n\nRegression statistics\n\n                      Mean Error (ME) : -1.8591\n       Root Mean Squared Error (RMSE) : 36.1129\n            Mean Absolute Error (MAE) : 28.5252\n          Mean Percentage Error (MPE) : -6.7084\nMean Absolute Percentage Error (MAPE) : 21.7198\n",
          "output_type": "stream"
        },
        {
          "data": {
            "text/plain": "<Figure size 432x288 with 2 Axes>",
            "image/png": "[encoded data removed]"
          },
          "metadata": {
            "needs_background": "light"
          },
          "output_type": "display_data"
        }
      ]
    },
    {
      "cell_type": "code",
      "metadata": {
        "tags": [],
        "cell_id": "00032-e3535a8c-349d-48a5-b715-8db5b5976ea7",
        "deepnote_to_be_reexecuted": false,
        "source_hash": "cacb26ae",
        "execution_millis": 375,
        "execution_start": 1614811235461,
        "deepnote_cell_type": "code"
      },
      "source": "# Exhaustive List - model 16 (iii)\nprint('Exhaustive Search Model Summary (#16):')\n\nmodel = results[16]['model']\nvariables = list(results[16]['variables'])\nregressionSummary(valid_y, model.predict(valid_X[list(variables)]))\npred_v = pd.Series(model.predict(valid_X[list(variables)]))\npred_v = pred_v.sort_values(ascending=False)\nfig, axes = plt.subplots(nrows=1, ncols=2)\nax = gainsChart(pred_v, ax=axes[0])\nax.set_ylabel('Cumulative Price')\nax.set_title('Cumulative Gains Chart')\nax = liftChart(pred_v, ax=axes[1], labelBars=False)\nax.set_ylabel('Lift')\nplt.tight_layout()\nplt.show() ",
      "execution_count": null,
      "outputs": [
        {
          "name": "stdout",
          "text": "Exhaustive Search Model Summary (#16):\n\nRegression statistics\n\n                      Mean Error (ME) : -1.8231\n       Root Mean Squared Error (RMSE) : 36.0002\n            Mean Absolute Error (MAE) : 28.5002\n          Mean Percentage Error (MPE) : -6.6037\nMean Absolute Percentage Error (MAPE) : 21.6048\n",
          "output_type": "stream"
        },
        {
          "data": {
            "text/plain": "<Figure size 432x288 with 2 Axes>",
            "image/png": "[encoded data removed]"
          },
          "metadata": {
            "needs_background": "light"
          },
          "output_type": "display_data"
        }
      ]
    },
    {
      "cell_type": "markdown",
      "source": "\n",
      "metadata": {
        "tags": [],
        "cell_id": "00032-a3db8973-baca-400a-8eb7-407fa57dc004",
        "deepnote_cell_type": "markdown"
      }
    },
    {
      "cell_type": "code",
      "metadata": {
        "tags": [],
        "cell_id": "00030-d60290bb-63d2-45b9-b75e-88ba65c952e9",
        "deepnote_to_be_reexecuted": false,
        "source_hash": "9846e6e",
        "execution_millis": 45,
        "execution_start": 1614812390433,
        "deepnote_cell_type": "code"
      },
      "source": "# v) Using model (iii), predict the average fare on a route with the following characteristics:\n#    COUPON = 1.202, NEW = 3, VACATION = No, SW = No, HI = 4442.141, S_INCOME = $28,760, E_INCOME = $27,664,\n#    S_POP = 4,557,004, E_POP = 3,195,503, SLOT = Free, GATE = Free, PAX = 12,782, DISTANCE = 1976 miles.\n\nmodel = results[16]['model']\nvariables = list(results[16]['variables'])\nv_raw_values = [[1.202,3,4442.141,28760,27664,4557004,3195503,1976,12782,True,False,True,False,False,True,False,True]]\n# Create the pandas DataFrame \nv_df = pd.DataFrame(v_raw_values, columns = variables) \n\nv_predicted_fare = model.predict(v_df)\n\nprint(\"The predicted fare is: \",v_predicted_fare[0].round(2))",
      "execution_count": null,
      "outputs": [
        {
          "name": "stdout",
          "text": "The predicted fare is:  253.7\n",
          "output_type": "stream"
        }
      ]
    },
    {
      "cell_type": "code",
      "metadata": {
        "tags": [],
        "cell_id": "00031-78d29c1d-79cc-4bd7-abeb-bc8b36cfa218",
        "deepnote_to_be_reexecuted": false,
        "source_hash": "e9bad3b7",
        "execution_millis": 7,
        "execution_start": 1614812392373,
        "deepnote_cell_type": "code"
      },
      "source": "# vi) Predict the reduction in average fare on the route in (v) if Southwest decides to cover this route using model (iii).\n\nmodel = results[16]['model']\nvariables = list(results[16]['variables'])\nvi_raw_values = [[1.202,3,4442.141,28760,27664,4557004,3195503,1976,12782,True,False,False,True,False,True,False,True]]\n# Create the pandas DataFrame \nvi_df = pd.DataFrame(vi_raw_values, columns = variables) \n\nvi_predicted_fare = model.predict(vi_df)\n\nprint(\"The mew predicted fare is: \",vi_predicted_fare[0].round(2))\nprint(\"The reduction would be: \",v_predicted_fare[0].round(2)-vi_predicted_fare[0].round(2))\n",
      "execution_count": null,
      "outputs": [
        {
          "name": "stdout",
          "text": "The mew predicted fare is:  211.54\nThe reduction would be:  42.16\n",
          "output_type": "stream"
        }
      ]
    },
    {
      "cell_type": "code",
      "metadata": {
        "tags": [],
        "cell_id": "00032-8360705d-b441-45c5-96eb-a4e266a3228c",
        "deepnote_cell_type": "code"
      },
      "source": "# vii) In reality, which of the factors will not be available for predicting the average fare from a new airport\n#      (i.e., before flights start operating on those routes)? Which ones can be estimated? How?\n\n# In my opinion, SLOT and GATE, with regards to AIRPORT and GATE would be difficult to find before an airline flies a particular airport.\n# SLOT\tWhether or not either endpoint airport is slot-controlled (this is a measure of airport congestion)\n# GATE\tWhether or not either endpoint airport has gate constraints (this is another measure of airport congestion)",
      "execution_count": null,
      "outputs": []
    },
    {
      "cell_type": "code",
      "metadata": {
        "tags": [],
        "cell_id": "00033-d7008e00-9b79-44b5-b24a-352fd63bdd13",
        "deepnote_to_be_reexecuted": false,
        "source_hash": "22a4329e",
        "execution_millis": 37610,
        "execution_start": 1614813345739,
        "deepnote_cell_type": "code"
      },
      "source": "# viii) Select a model that includes only factors that are available before flights begin to operate on the new route.\n#       Use an exhaustive search to find such a model.\n\naf_df = pd.read_csv('Airfares.csv')\naf_df = af_df.drop(columns=['S_CODE','S_CITY', 'E_CODE', 'E_CITY'])\naf_df = pd.get_dummies(af_df, prefix_sep='_', drop_first=False)\n\n# create a list of predictor variables by remvoing output variables and text columns\nexcludeColumns = ('S_CODE', 'S_CITY', 'E_CODE', 'E_CITY', 'FARE', 'GATE_Constrained', 'GATE_Free', 'SLOT_Controlled', 'SLOT_Free')\npredictors = [s for s in af_df.columns if s not in excludeColumns]\noutcome = 'FARE'\n\n# partition data\nX = af_df[predictors]\ny = af_df[outcome]\n\n# training (60%) and validation (40%)\ntrain_X, valid_X, train_y, valid_y = train_test_split(X, y, test_size=0.4, random_state=1)\n\n# \ndef train_model(variables):\n    model = LinearRegression()\n    model.fit(train_X[list(variables)], train_y)\n    return model\n\ndef score_model(model, variables):\n    pred_y = model.predict(train_X[list(variables)])\n    # we negate as score is optimized to be as low as possible\n    return adjusted_r2_score(train_y, pred_y, model)\n\nresults = exhaustive_search(predictors, train_model, score_model)\n\ndata = []\nfor result in results:\n    model = result['model']\n    variables = list(result['variables'])\n    AIC = AIC_score(train_y, model.predict(train_X[variables]), model)\n    d = {'n': result['n'], 'r2adj': result['score'], 'AIC': AIC}\n    d.update({var: var in result['variables'] for var in predictors})\n    data.append(d)\n\npd.DataFrame(data, columns=('n', 'r2adj', 'AIC') + tuple(sorted(predictors)))\n",
      "execution_count": null,
      "outputs": [
        {
          "output_type": "execute_result",
          "execution_count": 102,
          "data": {
            "application/vnd.deepnote.dataframe.v2+json": {
              "row_count": 13,
              "column_count": 16,
              "columns": [
                {
                  "name": "n",
                  "dtype": "int64",
                  "stats": {
                    "unique_count": 13,
                    "nan_count": 0,
                    "min": 1,
                    "max": 13,
                    "histogram": [
                      {
                        "bin_start": 1,
                        "bin_end": 2.2,
                        "count": 2
                      },
                      {
                        "bin_start": 2.2,
                        "bin_end": 3.4,
                        "count": 1
                      },
                      {
                        "bin_start": 3.4,
                        "bin_end": 4.6,
                        "count": 1
                      },
                      {
                        "bin_start": 4.6,
                        "bin_end": 5.8,
                        "count": 1
                      },
                      {
                        "bin_start": 5.8,
                        "bin_end": 7,
                        "count": 1
                      },
                      {
                        "bin_start": 7,
                        "bin_end": 8.2,
                        "count": 2
                      },
                      {
                        "bin_start": 8.2,
                        "bin_end": 9.4,
                        "count": 1
                      },
                      {
                        "bin_start": 9.4,
                        "bin_end": 10.6,
                        "count": 1
                      },
                      {
                        "bin_start": 10.6,
                        "bin_end": 11.799999999999999,
                        "count": 1
                      },
                      {
                        "bin_start": 11.799999999999999,
                        "bin_end": 13,
                        "count": 2
                      }
                    ]
                  }
                },
                {
                  "name": "r2adj",
                  "dtype": "float64",
                  "stats": {
                    "unique_count": 13,
                    "nan_count": 0,
                    "min": -0.001922501104429486,
                    "max": 0.7615362172839456,
                    "histogram": [
                      {
                        "bin_start": -0.001922501104429486,
                        "bin_end": 0.07442337073440802,
                        "count": 5
                      },
                      {
                        "bin_start": 0.07442337073440802,
                        "bin_end": 0.15076924257324553,
                        "count": 2
                      },
                      {
                        "bin_start": 0.15076924257324553,
                        "bin_end": 0.22711511441208304,
                        "count": 0
                      },
                      {
                        "bin_start": 0.22711511441208304,
                        "bin_end": 0.30346098625092055,
                        "count": 1
                      },
                      {
                        "bin_start": 0.30346098625092055,
                        "bin_end": 0.37980685808975806,
                        "count": 2
                      },
                      {
                        "bin_start": 0.37980685808975806,
                        "bin_end": 0.45615272992859557,
                        "count": 0
                      },
                      {
                        "bin_start": 0.45615272992859557,
                        "bin_end": 0.5324986017674331,
                        "count": 1
                      },
                      {
                        "bin_start": 0.5324986017674331,
                        "bin_end": 0.6088444736062706,
                        "count": 1
                      },
                      {
                        "bin_start": 0.6088444736062706,
                        "bin_end": 0.685190345445108,
                        "count": 0
                      },
                      {
                        "bin_start": 0.685190345445108,
                        "bin_end": 0.7615362172839456,
                        "count": 1
                      }
                    ]
                  }
                },
                {
                  "name": "AIC",
                  "dtype": "float64",
                  "stats": {
                    "unique_count": 13,
                    "nan_count": 0,
                    "min": 3844.550217876306,
                    "max": 4381.153097249022,
                    "histogram": [
                      {
                        "bin_start": 3844.550217876306,
                        "bin_end": 3898.2105058135776,
                        "count": 1
                      },
                      {
                        "bin_start": 3898.2105058135776,
                        "bin_end": 3951.870793750849,
                        "count": 0
                      },
                      {
                        "bin_start": 3951.870793750849,
                        "bin_end": 4005.5310816881206,
                        "count": 0
                      },
                      {
                        "bin_start": 4005.5310816881206,
                        "bin_end": 4059.1913696253923,
                        "count": 1
                      },
                      {
                        "bin_start": 4059.1913696253923,
                        "bin_end": 4112.851657562664,
                        "count": 0
                      },
                      {
                        "bin_start": 4112.851657562664,
                        "bin_end": 4166.511945499936,
                        "count": 1
                      },
                      {
                        "bin_start": 4166.511945499936,
                        "bin_end": 4220.172233437207,
                        "count": 1
                      },
                      {
                        "bin_start": 4220.172233437207,
                        "bin_end": 4273.832521374478,
                        "count": 1
                      },
                      {
                        "bin_start": 4273.832521374478,
                        "bin_end": 4327.4928093117505,
                        "count": 1
                      },
                      {
                        "bin_start": 4327.4928093117505,
                        "bin_end": 4381.153097249022,
                        "count": 7
                      }
                    ]
                  }
                },
                {
                  "name": "COUPON",
                  "dtype": "bool",
                  "stats": {
                    "unique_count": 2,
                    "nan_count": 0,
                    "categories": [
                      {
                        "name": "False",
                        "count": 11
                      },
                      {
                        "name": "True",
                        "count": 2
                      }
                    ]
                  }
                },
                {
                  "name": "DISTANCE",
                  "dtype": "bool",
                  "stats": {
                    "unique_count": 2,
                    "nan_count": 0,
                    "categories": [
                      {
                        "name": "False",
                        "count": 12
                      },
                      {
                        "name": "True",
                        "count": 1
                      }
                    ]
                  }
                },
                {
                  "name": "E_INCOME",
                  "dtype": "bool",
                  "stats": {
                    "unique_count": 2,
                    "nan_count": 0,
                    "categories": [
                      {
                        "name": "False",
                        "count": 8
                      },
                      {
                        "name": "True",
                        "count": 5
                      }
                    ]
                  }
                },
                {
                  "name": "E_POP",
                  "dtype": "bool",
                  "stats": {
                    "unique_count": 2,
                    "nan_count": 0,
                    "categories": [
                      {
                        "name": "False",
                        "count": 8
                      },
                      {
                        "name": "True",
                        "count": 5
                      }
                    ]
                  }
                },
                {
                  "name": "HI",
                  "dtype": "bool",
                  "stats": {
                    "unique_count": 1,
                    "nan_count": 0,
                    "categories": [
                      {
                        "name": "True",
                        "count": 13
                      }
                    ]
                  }
                },
                {
                  "name": "NEW",
                  "dtype": "bool",
                  "stats": {
                    "unique_count": 2,
                    "nan_count": 0,
                    "categories": [
                      {
                        "name": "True",
                        "count": 11
                      },
                      {
                        "name": "False",
                        "count": 2
                      }
                    ]
                  }
                },
                {
                  "name": "PAX",
                  "dtype": "bool",
                  "stats": {
                    "unique_count": 2,
                    "nan_count": 0,
                    "categories": [
                      {
                        "name": "True",
                        "count": 9
                      },
                      {
                        "name": "False",
                        "count": 4
                      }
                    ]
                  }
                },
                {
                  "name": "SW_No",
                  "dtype": "bool",
                  "stats": {
                    "unique_count": 2,
                    "nan_count": 0,
                    "categories": [
                      {
                        "name": "False",
                        "count": 8
                      },
                      {
                        "name": "True",
                        "count": 5
                      }
                    ]
                  }
                },
                {
                  "name": "SW_Yes",
                  "dtype": "bool",
                  "stats": {
                    "unique_count": 2,
                    "nan_count": 0,
                    "categories": [
                      {
                        "name": "False",
                        "count": 8
                      },
                      {
                        "name": "True",
                        "count": 5
                      }
                    ]
                  }
                },
                {
                  "name": "S_INCOME",
                  "dtype": "bool",
                  "stats": {
                    "unique_count": 2,
                    "nan_count": 0,
                    "categories": [
                      {
                        "name": "True",
                        "count": 9
                      },
                      {
                        "name": "False",
                        "count": 4
                      }
                    ]
                  }
                },
                {
                  "name": "S_POP",
                  "dtype": "bool",
                  "stats": {
                    "unique_count": 2,
                    "nan_count": 0,
                    "categories": [
                      {
                        "name": "True",
                        "count": 10
                      },
                      {
                        "name": "False",
                        "count": 3
                      }
                    ]
                  }
                },
                {
                  "name": "VACATION_No",
                  "dtype": "bool",
                  "stats": {
                    "unique_count": 2,
                    "nan_count": 0,
                    "categories": [
                      {
                        "name": "True",
                        "count": 8
                      },
                      {
                        "name": "False",
                        "count": 5
                      }
                    ]
                  }
                },
                {
                  "name": "VACATION_Yes",
                  "dtype": "bool",
                  "stats": {
                    "unique_count": 2,
                    "nan_count": 0,
                    "categories": [
                      {
                        "name": "True",
                        "count": 8
                      },
                      {
                        "name": "False",
                        "count": 5
                      }
                    ]
                  }
                },
                {
                  "name": "_deepnote_index_column",
                  "dtype": "int64"
                }
              ],
              "rows_top": [
                {
                  "n": 1,
                  "r2adj": -0.001922501104429486,
                  "AIC": 4381.153097249022,
                  "COUPON": false,
                  "DISTANCE": false,
                  "E_INCOME": false,
                  "E_POP": false,
                  "HI": true,
                  "NEW": false,
                  "PAX": false,
                  "SW_No": false,
                  "SW_Yes": false,
                  "S_INCOME": false,
                  "S_POP": false,
                  "VACATION_No": false,
                  "VACATION_Yes": false,
                  "_deepnote_index_column": 0
                },
                {
                  "n": 2,
                  "r2adj": 0.0022090396864179462,
                  "AIC": 4380.568032076264,
                  "COUPON": false,
                  "DISTANCE": false,
                  "E_INCOME": false,
                  "E_POP": false,
                  "HI": true,
                  "NEW": false,
                  "PAX": true,
                  "SW_No": false,
                  "SW_Yes": false,
                  "S_INCOME": false,
                  "S_POP": false,
                  "VACATION_No": false,
                  "VACATION_Yes": false,
                  "_deepnote_index_column": 1
                },
                {
                  "n": 3,
                  "r2adj": 0.014435108361759652,
                  "AIC": 4376.8491733373885,
                  "COUPON": false,
                  "DISTANCE": false,
                  "E_INCOME": false,
                  "E_POP": false,
                  "HI": true,
                  "NEW": true,
                  "PAX": true,
                  "SW_No": false,
                  "SW_Yes": false,
                  "S_INCOME": false,
                  "S_POP": false,
                  "VACATION_No": false,
                  "VACATION_Yes": false,
                  "_deepnote_index_column": 2
                },
                {
                  "n": 4,
                  "r2adj": 0.0392179816481143,
                  "AIC": 4368.1086994822645,
                  "COUPON": false,
                  "DISTANCE": false,
                  "E_INCOME": false,
                  "E_POP": false,
                  "HI": true,
                  "NEW": true,
                  "PAX": true,
                  "SW_No": false,
                  "SW_Yes": false,
                  "S_INCOME": false,
                  "S_POP": true,
                  "VACATION_No": false,
                  "VACATION_Yes": false,
                  "_deepnote_index_column": 3
                },
                {
                  "n": 5,
                  "r2adj": 0.05204213278777903,
                  "AIC": 4363.960966452407,
                  "COUPON": false,
                  "DISTANCE": false,
                  "E_INCOME": false,
                  "E_POP": false,
                  "HI": true,
                  "NEW": true,
                  "PAX": true,
                  "SW_No": false,
                  "SW_Yes": false,
                  "S_INCOME": true,
                  "S_POP": true,
                  "VACATION_No": false,
                  "VACATION_Yes": false,
                  "_deepnote_index_column": 4
                },
                {
                  "n": 6,
                  "r2adj": 0.08581359720218784,
                  "AIC": 4351.086389788932,
                  "COUPON": false,
                  "DISTANCE": false,
                  "E_INCOME": false,
                  "E_POP": false,
                  "HI": true,
                  "NEW": true,
                  "PAX": false,
                  "SW_No": false,
                  "SW_Yes": false,
                  "S_INCOME": true,
                  "S_POP": true,
                  "VACATION_No": true,
                  "VACATION_Yes": true,
                  "_deepnote_index_column": 5
                },
                {
                  "n": 7,
                  "r2adj": 0.09607827021386839,
                  "AIC": 4347.75292624125,
                  "COUPON": false,
                  "DISTANCE": false,
                  "E_INCOME": false,
                  "E_POP": false,
                  "HI": true,
                  "NEW": true,
                  "PAX": true,
                  "SW_No": false,
                  "SW_Yes": false,
                  "S_INCOME": true,
                  "S_POP": true,
                  "VACATION_No": true,
                  "VACATION_Yes": true,
                  "_deepnote_index_column": 6
                },
                {
                  "n": 8,
                  "r2adj": 0.23399586488854773,
                  "AIC": 4285.488079047964,
                  "COUPON": false,
                  "DISTANCE": false,
                  "E_INCOME": true,
                  "E_POP": true,
                  "HI": true,
                  "NEW": true,
                  "PAX": false,
                  "SW_No": false,
                  "SW_Yes": false,
                  "S_INCOME": true,
                  "S_POP": true,
                  "VACATION_No": true,
                  "VACATION_Yes": true,
                  "_deepnote_index_column": 7
                },
                {
                  "n": 9,
                  "r2adj": 0.35420555594647785,
                  "AIC": 4221.252763526967,
                  "COUPON": false,
                  "DISTANCE": false,
                  "E_INCOME": false,
                  "E_POP": false,
                  "HI": true,
                  "NEW": true,
                  "PAX": true,
                  "SW_No": true,
                  "SW_Yes": true,
                  "S_INCOME": true,
                  "S_POP": true,
                  "VACATION_No": true,
                  "VACATION_Yes": true,
                  "_deepnote_index_column": 8
                },
                {
                  "n": 10,
                  "r2adj": 0.37168704204399283,
                  "AIC": 4211.741321985539,
                  "COUPON": false,
                  "DISTANCE": false,
                  "E_INCOME": true,
                  "E_POP": true,
                  "HI": true,
                  "NEW": true,
                  "PAX": false,
                  "SW_No": true,
                  "SW_Yes": true,
                  "S_INCOME": true,
                  "S_POP": true,
                  "VACATION_No": true,
                  "VACATION_Yes": true,
                  "_deepnote_index_column": 9
                },
                {
                  "n": 11,
                  "r2adj": 0.4618042813159776,
                  "AIC": 4153.570532157013,
                  "COUPON": false,
                  "DISTANCE": false,
                  "E_INCOME": true,
                  "E_POP": true,
                  "HI": true,
                  "NEW": true,
                  "PAX": true,
                  "SW_No": true,
                  "SW_Yes": true,
                  "S_INCOME": true,
                  "S_POP": true,
                  "VACATION_No": true,
                  "VACATION_Yes": true,
                  "_deepnote_index_column": 10
                },
                {
                  "n": 12,
                  "r2adj": 0.599082710922469,
                  "AIC": 4042.0502549277926,
                  "COUPON": true,
                  "DISTANCE": false,
                  "E_INCOME": true,
                  "E_POP": true,
                  "HI": true,
                  "NEW": true,
                  "PAX": true,
                  "SW_No": true,
                  "SW_Yes": true,
                  "S_INCOME": true,
                  "S_POP": true,
                  "VACATION_No": true,
                  "VACATION_Yes": true,
                  "_deepnote_index_column": 11
                },
                {
                  "n": 13,
                  "r2adj": 0.7615362172839456,
                  "AIC": 3844.550217876306,
                  "COUPON": true,
                  "DISTANCE": true,
                  "E_INCOME": true,
                  "E_POP": true,
                  "HI": true,
                  "NEW": true,
                  "PAX": true,
                  "SW_No": true,
                  "SW_Yes": true,
                  "S_INCOME": true,
                  "S_POP": true,
                  "VACATION_No": true,
                  "VACATION_Yes": true,
                  "_deepnote_index_column": 12
                }
              ],
              "rows_bottom": null
            },
            "text/plain": "     n     r2adj          AIC  COUPON  DISTANCE  E_INCOME  E_POP    HI    NEW  \\\n0    1 -0.001923  4381.153097   False     False     False  False  True  False   \n1    2  0.002209  4380.568032   False     False     False  False  True  False   \n2    3  0.014435  4376.849173   False     False     False  False  True   True   \n3    4  0.039218  4368.108699   False     False     False  False  True   True   \n4    5  0.052042  4363.960966   False     False     False  False  True   True   \n5    6  0.085814  4351.086390   False     False     False  False  True   True   \n6    7  0.096078  4347.752926   False     False     False  False  True   True   \n7    8  0.233996  4285.488079   False     False      True   True  True   True   \n8    9  0.354206  4221.252764   False     False     False  False  True   True   \n9   10  0.371687  4211.741322   False     False      True   True  True   True   \n10  11  0.461804  4153.570532   False     False      True   True  True   True   \n11  12  0.599083  4042.050255    True     False      True   True  True   True   \n12  13  0.761536  3844.550218    True      True      True   True  True   True   \n\n      PAX  SW_No  SW_Yes  S_INCOME  S_POP  VACATION_No  VACATION_Yes  \n0   False  False   False     False  False        False         False  \n1    True  False   False     False  False        False         False  \n2    True  False   False     False  False        False         False  \n3    True  False   False     False   True        False         False  \n4    True  False   False      True   True        False         False  \n5   False  False   False      True   True         True          True  \n6    True  False   False      True   True         True          True  \n7   False  False   False      True   True         True          True  \n8    True   True    True      True   True         True          True  \n9   False   True    True      True   True         True          True  \n10   True   True    True      True   True         True          True  \n11   True   True    True      True   True         True          True  \n12   True   True    True      True   True         True          True  ",
            "text/html": "<div>\n<style scoped>\n    .dataframe tbody tr th:only-of-type {\n        vertical-align: middle;\n    }\n\n    .dataframe tbody tr th {\n        vertical-align: top;\n    }\n\n    .dataframe thead th {\n        text-align: right;\n    }\n</style>\n<table border=\"1\" class=\"dataframe\">\n  <thead>\n    <tr style=\"text-align: right;\">\n      <th></th>\n      <th>n</th>\n      <th>r2adj</th>\n      <th>AIC</th>\n      <th>COUPON</th>\n      <th>DISTANCE</th>\n      <th>E_INCOME</th>\n      <th>E_POP</th>\n      <th>HI</th>\n      <th>NEW</th>\n      <th>PAX</th>\n      <th>SW_No</th>\n      <th>SW_Yes</th>\n      <th>S_INCOME</th>\n      <th>S_POP</th>\n      <th>VACATION_No</th>\n      <th>VACATION_Yes</th>\n    </tr>\n  </thead>\n  <tbody>\n    <tr>\n      <th>0</th>\n      <td>1</td>\n      <td>-0.001923</td>\n      <td>4381.153097</td>\n      <td>False</td>\n      <td>False</td>\n      <td>False</td>\n      <td>False</td>\n      <td>True</td>\n      <td>False</td>\n      <td>False</td>\n      <td>False</td>\n      <td>False</td>\n      <td>False</td>\n      <td>False</td>\n      <td>False</td>\n      <td>False</td>\n    </tr>\n    <tr>\n      <th>1</th>\n      <td>2</td>\n      <td>0.002209</td>\n      <td>4380.568032</td>\n      <td>False</td>\n      <td>False</td>\n      <td>False</td>\n      <td>False</td>\n      <td>True</td>\n      <td>False</td>\n      <td>True</td>\n      <td>False</td>\n      <td>False</td>\n      <td>False</td>\n      <td>False</td>\n      <td>False</td>\n      <td>False</td>\n    </tr>\n    <tr>\n      <th>2</th>\n      <td>3</td>\n      <td>0.014435</td>\n      <td>4376.849173</td>\n      <td>False</td>\n      <td>False</td>\n      <td>False</td>\n      <td>False</td>\n      <td>True</td>\n      <td>True</td>\n      <td>True</td>\n      <td>False</td>\n      <td>False</td>\n      <td>False</td>\n      <td>False</td>\n      <td>False</td>\n      <td>False</td>\n    </tr>\n    <tr>\n      <th>3</th>\n      <td>4</td>\n      <td>0.039218</td>\n      <td>4368.108699</td>\n      <td>False</td>\n      <td>False</td>\n      <td>False</td>\n      <td>False</td>\n      <td>True</td>\n      <td>True</td>\n      <td>True</td>\n      <td>False</td>\n      <td>False</td>\n      <td>False</td>\n      <td>True</td>\n      <td>False</td>\n      <td>False</td>\n    </tr>\n    <tr>\n      <th>4</th>\n      <td>5</td>\n      <td>0.052042</td>\n      <td>4363.960966</td>\n      <td>False</td>\n      <td>False</td>\n      <td>False</td>\n      <td>False</td>\n      <td>True</td>\n      <td>True</td>\n      <td>True</td>\n      <td>False</td>\n      <td>False</td>\n      <td>True</td>\n      <td>True</td>\n      <td>False</td>\n      <td>False</td>\n    </tr>\n    <tr>\n      <th>5</th>\n      <td>6</td>\n      <td>0.085814</td>\n      <td>4351.086390</td>\n      <td>False</td>\n      <td>False</td>\n      <td>False</td>\n      <td>False</td>\n      <td>True</td>\n      <td>True</td>\n      <td>False</td>\n      <td>False</td>\n      <td>False</td>\n      <td>True</td>\n      <td>True</td>\n      <td>True</td>\n      <td>True</td>\n    </tr>\n    <tr>\n      <th>6</th>\n      <td>7</td>\n      <td>0.096078</td>\n      <td>4347.752926</td>\n      <td>False</td>\n      <td>False</td>\n      <td>False</td>\n      <td>False</td>\n      <td>True</td>\n      <td>True</td>\n      <td>True</td>\n      <td>False</td>\n      <td>False</td>\n      <td>True</td>\n      <td>True</td>\n      <td>True</td>\n      <td>True</td>\n    </tr>\n    <tr>\n      <th>7</th>\n      <td>8</td>\n      <td>0.233996</td>\n      <td>4285.488079</td>\n      <td>False</td>\n      <td>False</td>\n      <td>True</td>\n      <td>True</td>\n      <td>True</td>\n      <td>True</td>\n      <td>False</td>\n      <td>False</td>\n      <td>False</td>\n      <td>True</td>\n      <td>True</td>\n      <td>True</td>\n      <td>True</td>\n    </tr>\n    <tr>\n      <th>8</th>\n      <td>9</td>\n      <td>0.354206</td>\n      <td>4221.252764</td>\n      <td>False</td>\n      <td>False</td>\n      <td>False</td>\n      <td>False</td>\n      <td>True</td>\n      <td>True</td>\n      <td>True</td>\n      <td>True</td>\n      <td>True</td>\n      <td>True</td>\n      <td>True</td>\n      <td>True</td>\n      <td>True</td>\n    </tr>\n    <tr>\n      <th>9</th>\n      <td>10</td>\n      <td>0.371687</td>\n      <td>4211.741322</td>\n      <td>False</td>\n      <td>False</td>\n      <td>True</td>\n      <td>True</td>\n      <td>True</td>\n      <td>True</td>\n      <td>False</td>\n      <td>True</td>\n      <td>True</td>\n      <td>True</td>\n      <td>True</td>\n      <td>True</td>\n      <td>True</td>\n    </tr>\n    <tr>\n      <th>10</th>\n      <td>11</td>\n      <td>0.461804</td>\n      <td>4153.570532</td>\n      <td>False</td>\n      <td>False</td>\n      <td>True</td>\n      <td>True</td>\n      <td>True</td>\n      <td>True</td>\n      <td>True</td>\n      <td>True</td>\n      <td>True</td>\n      <td>True</td>\n      <td>True</td>\n      <td>True</td>\n      <td>True</td>\n    </tr>\n    <tr>\n      <th>11</th>\n      <td>12</td>\n      <td>0.599083</td>\n      <td>4042.050255</td>\n      <td>True</td>\n      <td>False</td>\n      <td>True</td>\n      <td>True</td>\n      <td>True</td>\n      <td>True</td>\n      <td>True</td>\n      <td>True</td>\n      <td>True</td>\n      <td>True</td>\n      <td>True</td>\n      <td>True</td>\n      <td>True</td>\n    </tr>\n    <tr>\n      <th>12</th>\n      <td>13</td>\n      <td>0.761536</td>\n      <td>3844.550218</td>\n      <td>True</td>\n      <td>True</td>\n      <td>True</td>\n      <td>True</td>\n      <td>True</td>\n      <td>True</td>\n      <td>True</td>\n      <td>True</td>\n      <td>True</td>\n      <td>True</td>\n      <td>True</td>\n      <td>True</td>\n      <td>True</td>\n    </tr>\n  </tbody>\n</table>\n</div>"
          },
          "metadata": {}
        }
      ]
    },
    {
      "cell_type": "code",
      "metadata": {
        "tags": [],
        "cell_id": "00037-4503b438-038e-474c-a1af-2e1c691a44c8",
        "deepnote_to_be_reexecuted": false,
        "source_hash": "52c0d86d",
        "execution_start": 1614813453908,
        "execution_millis": 312,
        "deepnote_cell_type": "code"
      },
      "source": "print('Exhaustive Search Model Summary (#12):')\n\nmodel = results[12]['model']\nvariables = list(results[12]['variables'])\nregressionSummary(valid_y, model.predict(valid_X[list(variables)]))\npred_v = pd.Series(model.predict(valid_X[list(variables)]))\npred_v = pred_v.sort_values(ascending=False)\nfig, axes = plt.subplots(nrows=1, ncols=2)\nax = gainsChart(pred_v, ax=axes[0])\nax.set_ylabel('Cumulative Price')\nax.set_title('Cumulative Gains Chart')\nax = liftChart(pred_v, ax=axes[1], labelBars=False)\nax.set_ylabel('Lift')\nplt.tight_layout()\nplt.show() ",
      "execution_count": null,
      "outputs": [
        {
          "name": "stdout",
          "text": "Exhaustive Search Model Summary (#12):\n\nRegression statistics\n\n                      Mean Error (ME) : -1.7149\n       Root Mean Squared Error (RMSE) : 37.0798\n            Mean Absolute Error (MAE) : 29.6632\n          Mean Percentage Error (MPE) : -7.0117\nMean Absolute Percentage Error (MAPE) : 22.4148\n",
          "output_type": "stream"
        },
        {
          "data": {
            "text/plain": "<Figure size 432x288 with 2 Axes>",
            "image/png": "[encoded data removed]"
          },
          "metadata": {
            "needs_background": "light"
          },
          "output_type": "display_data"
        }
      ]
    },
    {
      "cell_type": "code",
      "metadata": {
        "tags": [],
        "cell_id": "00038-f5a1504a-2dd6-4b96-a7d7-3d6706a5bcb1",
        "deepnote_to_be_reexecuted": false,
        "source_hash": "a1078a45",
        "execution_start": 1614813465708,
        "execution_millis": 11,
        "deepnote_cell_type": "code"
      },
      "source": "variables",
      "execution_count": null,
      "outputs": [
        {
          "output_type": "execute_result",
          "execution_count": 104,
          "data": {
            "text/plain": "['COUPON',\n 'NEW',\n 'HI',\n 'S_INCOME',\n 'E_INCOME',\n 'S_POP',\n 'E_POP',\n 'DISTANCE',\n 'PAX',\n 'VACATION_No',\n 'VACATION_Yes',\n 'SW_No',\n 'SW_Yes']"
          },
          "metadata": {}
        }
      ]
    },
    {
      "cell_type": "code",
      "metadata": {
        "tags": [],
        "cell_id": "00034-b9f258c2-5088-4a55-9595-5f40086970e2",
        "deepnote_to_be_reexecuted": false,
        "source_hash": "f600f8cf",
        "execution_start": 1614813589733,
        "execution_millis": 5,
        "deepnote_cell_type": "code"
      },
      "source": "# ix) Use the model in (viii) to predict the average fare on a route with characteristics:\n#     COUPON = 1.202, NEW = 3, VACATION = No, SW = No, HI = 4442.141, S_INCOME = $28,760, E_INCOME = $27,664,\n#     S_ POP = 4,557,004, E_POP = 3,195,503, SLOT = Free, GATE = Free, PAX = 12,782, DISTANCE = 1976 miles.\n\nmodel = results[12]['model']\nvariables = list(results[12]['variables'])\nv_raw_values = [[1.202,3,4442.141,28760,27664,4557004,3195503,1976,12782,True,False,True,False]]\n# Create the pandas DataFrame \nv_df = pd.DataFrame(v_raw_values, columns = variables) \n\nv_predicted_fare = model.predict(v_df)\n\nprint(\"The predicted fare is: \",v_predicted_fare[0].round(2))\n",
      "execution_count": null,
      "outputs": [
        {
          "name": "stdout",
          "text": "The predicted fare is:  259.89\n",
          "output_type": "stream"
        }
      ]
    },
    {
      "cell_type": "code",
      "metadata": {
        "tags": [],
        "cell_id": "00040-55bf20c0-ca95-4137-afeb-5c01b6a5ef00",
        "deepnote_cell_type": "code"
      },
      "source": "# x) Compare the predictive accuracy of this model with model (iii). Is this model good enough, or is it worthwhile reevaluating\n#    the model once flights begin on the new route?\n\n# The differences betwween the two predicted fairs: $253.70 vs. $259.89 seems close enough that using the earlier model is good enough.\n",
      "execution_count": null,
      "outputs": []
    },
    {
      "cell_type": "markdown",
      "source": "### d) In competitive industries, a new entrant with a novel business plan can have a disruptive effect on existing firms. If a new entrant’s business model is sustainable, other players are forced to respond by changing their business practices. If the goal of the analysis was to evaluate the effect of Southwest Airlines’ presence on the airline industry rather than predicting fares on new routes, how would the analysis be different? Describe technical and conceptual aspects.",
      "metadata": {
        "tags": [],
        "cell_id": "00041-31d2a824-24ba-47bc-8a08-83af9802be98",
        "deepnote_cell_type": "markdown"
      }
    },
    {
      "cell_type": "markdown",
      "source": "If a business was interested in the effect of Southwest's presence. They would likely be interested in developping a model when they could be predict SW's presence based on a list of parameters. \n\nThe model would be developped similar to how our model for 'FARE' was developped but instead would predict 'SW' using other parameters, including average fare. \n\nSo using input like:\n\n| VAR       | VALUES     |\n| ---       | ---        |\n| COUPON    | 1.202      |\n| NEW       | 3          |\n| VACATION  | No         |\n| HI        | 4442.141   |\n| S_INCOME  | $28,760    |\n| E_INCOME  | $27,664    | \n| S_ POP    | 4,557,004  |\n| E_POP     | 3,195,503  |\n| SLOT      | Free       |\n| GATE      | Free       |\n| PAX       | 12,782     |\n| DISTANCE  | 1976 miles |\n| FARE      | 259.00     |\n\nThe model would predict a *Yes* or *No* on SW. If the model says Yes and SW is not year flying this route, the airline could assume that could become a route of interest for Southwest.\n\n",
      "metadata": {
        "tags": [],
        "cell_id": "00042-60f22895-b222-4b99-8929-b92077641d3d",
        "deepnote_cell_type": "markdown"
      }
    },
    {
      "cell_type": "markdown",
      "source": "",
      "metadata": {
        "tags": [],
        "cell_id": "00001-f5b3d776-d637-4f9f-9d5c-e6c338078997",
        "deepnote_cell_type": "markdown"
      }
    },
    {
      "cell_type": "markdown",
      "source": "<a style='text-decoration:none;line-height:16px;display:flex;color:#5B5B62;padding:10px;justify-content:end;' href='https://deepnote.com?utm_source=created-in-deepnote-cell&projectId=52e9ae2e-8d42-48c9-9988-588f5a262306' target=\"_blank\">\n<img style='display:inline;max-height:16px;margin:0px;margin-right:7.5px;' src='data:image/svg+xml;base64,PD94bWwgdmVyc2lvbj0iMS4wIiBlbmNvZGluZz0iVVRGLTgiPz4KPHN2ZyB3aWR0aD0iODBweCIgaGVpZ2h0PSI4MHB4IiB2aWV3Qm94PSIwIDAgODAgODAiIHZlcnNpb249IjEuMSIgeG1sbnM9Imh0dHA6Ly93d3cudzMub3JnLzIwMDAvc3ZnIiB4bWxuczp4bGluaz0iaHR0cDovL3d3dy53My5vcmcvMTk5OS94bGluayI+CiAgICA8IS0tIEdlbmVyYXRvcjogU2tldGNoIDU0LjEgKDc2NDkwKSAtIGh0dHBzOi8vc2tldGNoYXBwLmNvbSAtLT4KICAgIDx0aXRsZT5Hcm91cCAzPC90aXRsZT4KICAgIDxkZXNjPkNyZWF0ZWQgd2l0aCBTa2V0Y2guPC9kZXNjPgogICAgPGcgaWQ9IkxhbmRpbmciIHN0cm9rZT0ibm9uZSIgc3Ryb2tlLXdpZHRoPSIxIiBmaWxsPSJub25lIiBmaWxsLXJ1bGU9ImV2ZW5vZGQiPgogICAgICAgIDxnIGlkPSJBcnRib2FyZCIgdHJhbnNmb3JtPSJ0cmFuc2xhdGUoLTEyMzUuMDAwMDAwLCAtNzkuMDAwMDAwKSI+CiAgICAgICAgICAgIDxnIGlkPSJHcm91cC0zIiB0cmFuc2Zvcm09InRyYW5zbGF0ZSgxMjM1LjAwMDAwMCwgNzkuMDAwMDAwKSI+CiAgICAgICAgICAgICAgICA8cG9seWdvbiBpZD0iUGF0aC0yMCIgZmlsbD0iIzAyNjVCNCIgcG9pbnRzPSIyLjM3NjIzNzYyIDgwIDM4LjA0NzY2NjcgODAgNTcuODIxNzgyMiA3My44MDU3NTkyIDU3LjgyMTc4MjIgMzIuNzU5MjczOSAzOS4xNDAyMjc4IDMxLjY4MzE2ODMiPjwvcG9seWdvbj4KICAgICAgICAgICAgICAgIDxwYXRoIGQ9Ik0zNS4wMDc3MTgsODAgQzQyLjkwNjIwMDcsNzYuNDU0OTM1OCA0Ny41NjQ5MTY3LDcxLjU0MjI2NzEgNDguOTgzODY2LDY1LjI2MTk5MzkgQzUxLjExMjI4OTksNTUuODQxNTg0MiA0MS42NzcxNzk1LDQ5LjIxMjIyODQgMjUuNjIzOTg0Niw0OS4yMTIyMjg0IEMyNS40ODQ5Mjg5LDQ5LjEyNjg0NDggMjkuODI2MTI5Niw0My4yODM4MjQ4IDM4LjY0NzU4NjksMzEuNjgzMTY4MyBMNzIuODcxMjg3MSwzMi41NTQ0MjUgTDY1LjI4MDk3Myw2Ny42NzYzNDIxIEw1MS4xMTIyODk5LDc3LjM3NjE0NCBMMzUuMDA3NzE4LDgwIFoiIGlkPSJQYXRoLTIyIiBmaWxsPSIjMDAyODY4Ij48L3BhdGg+CiAgICAgICAgICAgICAgICA8cGF0aCBkPSJNMCwzNy43MzA0NDA1IEwyNy4xMTQ1MzcsMC4yNTcxMTE0MzYgQzYyLjM3MTUxMjMsLTEuOTkwNzE3MDEgODAsMTAuNTAwMzkyNyA4MCwzNy43MzA0NDA1IEM4MCw2NC45NjA0ODgyIDY0Ljc3NjUwMzgsNzkuMDUwMzQxNCAzNC4zMjk1MTEzLDgwIEM0Ny4wNTUzNDg5LDc3LjU2NzA4MDggNTMuNDE4MjY3Nyw3MC4zMTM2MTAzIDUzLjQxODI2NzcsNTguMjM5NTg4NSBDNTMuNDE4MjY3Nyw0MC4xMjg1NTU3IDM2LjMwMzk1NDQsMzcuNzMwNDQwNSAyNS4yMjc0MTcsMzcuNzMwNDQwNSBDMTcuODQzMDU4NiwzNy43MzA0NDA1IDkuNDMzOTE5NjYsMzcuNzMwNDQwNSAwLDM3LjczMDQ0MDUgWiIgaWQ9IlBhdGgtMTkiIGZpbGw9IiMzNzkzRUYiPjwvcGF0aD4KICAgICAgICAgICAgPC9nPgogICAgICAgIDwvZz4KICAgIDwvZz4KPC9zdmc+' > </img>\nCreated in <span style='font-weight:600;margin-left:4px;'>Deepnote</span></a>",
      "metadata": {
        "tags": [],
        "created_in_deepnote_cell": true,
        "deepnote_cell_type": "markdown"
      }
    }
  ],
  "nbformat": 4,
  "nbformat_minor": 2,
  "metadata": {
    "orig_nbformat": 2,
    "deepnote_notebook_id": "7bef1611-dcd0-4903-8dd1-b27bc0c21a66",
    "deepnote": {},
    "deepnote_execution_queue": []
  }
}