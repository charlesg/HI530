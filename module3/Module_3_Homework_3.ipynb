{
  "cells": [
    {
      "cell_type": "markdown",
      "source": "# 10.4 Competitive Auctions on eBay.com.\n\nThe file eBayAuctions.csv contains information on 1972 auctions transacted on eBay.com during May–June 2004. The goal is to use these data to build a model that will distinguish competitive auctions from noncompetitive ones. A competitive auction is defined as an auction with at least two bids placed on the item being auctioned. The data include variables that describe the item (auction category), the seller (his or her eBay rating), and the auction terms that the seller selected (auction duration, opening price, currency, day of week of auction close). In addition, we have the price at which the auction closed. The goal is to predict whether or not an auction of interest will be competitive. \n\nShmueli, Galit,Bruce, Peter C.,Gedeck, Peter,Patel, Nitin R.. Data Mining for Business Analytics (Kindle Locations 9315-9320). Wiley. Kindle Edition. ",
      "metadata": {
        "tags": [],
        "cell_id": "00000-8020bea9-d455-422c-8e99-ec43c36add04",
        "deepnote_cell_type": "markdown"
      }
    },
    {
      "cell_type": "code",
      "metadata": {
        "tags": [],
        "cell_id": "00001-f94b5f2b-6a3a-4704-b8d8-f704032ebb7a",
        "deepnote_to_be_reexecuted": false,
        "source_hash": "6be8c029",
        "execution_millis": 2879,
        "execution_start": 1615582062697,
        "deepnote_cell_type": "code"
      },
      "source": "import numpy as np\nimport pandas as pd\nfrom sklearn.linear_model import LogisticRegression, LogisticRegressionCV\nfrom sklearn.model_selection import train_test_split\nimport statsmodels.api as sm\nfrom mord import LogisticIT\nimport matplotlib.pylab as plt\nimport seaborn as sns\nfrom dmba import classificationSummary, gainsChart, liftChart\nfrom dmba.metric import AIC_score ",
      "outputs": [
        {
          "name": "stdout",
          "text": "no display found. Using non-interactive Agg backend\n",
          "output_type": "stream"
        }
      ],
      "execution_count": null
    },
    {
      "cell_type": "code",
      "metadata": {
        "tags": [],
        "cell_id": "00000-5f7d11b2-7d8f-40a1-a42b-2aa6fb07bf10",
        "deepnote_to_be_reexecuted": false,
        "source_hash": "b11db9d1",
        "execution_millis": 21,
        "execution_start": 1615582078026,
        "deepnote_cell_type": "code"
      },
      "source": "ebay_df = pd.read_csv('eBayAuctions.csv')\nebay_df\n\n# Treat Category as categorical, convert to dummy variables\nebay_df['Category'] = ebay_df['Category'].astype('category')\nebay_df['currency'] = ebay_df['currency'].astype('category')\nebay_df['endDay'] = ebay_df['endDay'].astype('category')\n\n# Category\n#cat_labels = ebay_df['Category'].astype('category').cat.categories.tolist()\n#replace_map_cat = {'Category' : {k: v for k,v in zip(cat_labels,list(range(1,len(cat_labels)+1)))}}\n#ebay_df.replace(replace_map_cat, inplace=True)\n\n# currency\n#cur_labels = ebay_df['currency'].astype('category').cat.categories.tolist()\n#replace_map_cur = {'currency' : {k: v for k,v in zip(cur_labels,list(range(1,len(cur_labels)+1)))}}\n#ebay_df.replace(replace_map_cur, inplace=True)\n\n# endDay\n#endDay_labels = ebay_df['endDay'].astype('category').cat.categories.tolist()\n#replace_map_endDay = {'endDay' : {k: v for k,v in zip(endDay_labels,list(range(1,len(endDay_labels)+1)))}}\n#ebay_df.replace(replace_map_endDay, inplace=True)\n\n#ebay_df = pd.get_dummies(ebay_df, prefix_sep='_', drop_first=True)\nebay_df",
      "outputs": [
        {
          "output_type": "execute_result",
          "execution_count": 3,
          "data": {
            "application/vnd.deepnote.dataframe.v2+json": {
              "row_count": 1972,
              "column_count": 8,
              "columns": [
                {
                  "name": "Category",
                  "dtype": "category",
                  "stats": {
                    "unique_count": 18,
                    "nan_count": 0,
                    "categories": [
                      {
                        "name": "Music/Movie/Game",
                        "count": 403
                      },
                      {
                        "name": "Collectibles",
                        "count": 239
                      },
                      {
                        "name": "16 others",
                        "count": 1330
                      }
                    ]
                  }
                },
                {
                  "name": "currency",
                  "dtype": "category",
                  "stats": {
                    "unique_count": 3,
                    "nan_count": 0,
                    "categories": [
                      {
                        "name": "US",
                        "count": 1292
                      },
                      {
                        "name": "EUR",
                        "count": 533
                      },
                      {
                        "name": "GBP",
                        "count": 147
                      }
                    ]
                  }
                },
                {
                  "name": "sellerRating",
                  "dtype": "int64",
                  "stats": {
                    "unique_count": 461,
                    "nan_count": 0,
                    "min": 0,
                    "max": 37727,
                    "histogram": [
                      {
                        "bin_start": 0,
                        "bin_end": 3772.7,
                        "count": 1593
                      },
                      {
                        "bin_start": 3772.7,
                        "bin_end": 7545.4,
                        "count": 198
                      },
                      {
                        "bin_start": 7545.4,
                        "bin_end": 11318.099999999999,
                        "count": 64
                      },
                      {
                        "bin_start": 11318.099999999999,
                        "bin_end": 15090.8,
                        "count": 3
                      },
                      {
                        "bin_start": 15090.8,
                        "bin_end": 18863.5,
                        "count": 0
                      },
                      {
                        "bin_start": 18863.5,
                        "bin_end": 22636.199999999997,
                        "count": 27
                      },
                      {
                        "bin_start": 22636.199999999997,
                        "bin_end": 26408.899999999998,
                        "count": 35
                      },
                      {
                        "bin_start": 26408.899999999998,
                        "bin_end": 30181.6,
                        "count": 46
                      },
                      {
                        "bin_start": 30181.6,
                        "bin_end": 33954.299999999996,
                        "count": 1
                      },
                      {
                        "bin_start": 33954.299999999996,
                        "bin_end": 37727,
                        "count": 5
                      }
                    ]
                  }
                },
                {
                  "name": "Duration",
                  "dtype": "int64",
                  "stats": {
                    "unique_count": 5,
                    "nan_count": 0,
                    "min": 1,
                    "max": 10,
                    "histogram": [
                      {
                        "bin_start": 1,
                        "bin_end": 1.9,
                        "count": 23
                      },
                      {
                        "bin_start": 1.9,
                        "bin_end": 2.8,
                        "count": 0
                      },
                      {
                        "bin_start": 2.8,
                        "bin_end": 3.7,
                        "count": 213
                      },
                      {
                        "bin_start": 3.7,
                        "bin_end": 4.6,
                        "count": 0
                      },
                      {
                        "bin_start": 4.6,
                        "bin_end": 5.5,
                        "count": 466
                      },
                      {
                        "bin_start": 5.5,
                        "bin_end": 6.4,
                        "count": 0
                      },
                      {
                        "bin_start": 6.4,
                        "bin_end": 7.3,
                        "count": 967
                      },
                      {
                        "bin_start": 7.3,
                        "bin_end": 8.2,
                        "count": 0
                      },
                      {
                        "bin_start": 8.2,
                        "bin_end": 9.1,
                        "count": 0
                      },
                      {
                        "bin_start": 9.1,
                        "bin_end": 10,
                        "count": 303
                      }
                    ]
                  }
                },
                {
                  "name": "endDay",
                  "dtype": "category",
                  "stats": {
                    "unique_count": 7,
                    "nan_count": 0,
                    "categories": [
                      {
                        "name": "Mon",
                        "count": 548
                      },
                      {
                        "name": "Sat",
                        "count": 351
                      },
                      {
                        "name": "5 others",
                        "count": 1073
                      }
                    ]
                  }
                },
                {
                  "name": "ClosePrice",
                  "dtype": "float64",
                  "stats": {
                    "unique_count": 827,
                    "nan_count": 0,
                    "min": 0.01,
                    "max": 999,
                    "histogram": [
                      {
                        "bin_start": 0.01,
                        "bin_end": 99.909,
                        "count": 1810
                      },
                      {
                        "bin_start": 99.909,
                        "bin_end": 199.808,
                        "count": 93
                      },
                      {
                        "bin_start": 199.808,
                        "bin_end": 299.707,
                        "count": 33
                      },
                      {
                        "bin_start": 299.707,
                        "bin_end": 399.606,
                        "count": 10
                      },
                      {
                        "bin_start": 399.606,
                        "bin_end": 499.505,
                        "count": 5
                      },
                      {
                        "bin_start": 499.505,
                        "bin_end": 599.404,
                        "count": 6
                      },
                      {
                        "bin_start": 599.404,
                        "bin_end": 699.303,
                        "count": 3
                      },
                      {
                        "bin_start": 699.303,
                        "bin_end": 799.202,
                        "count": 6
                      },
                      {
                        "bin_start": 799.202,
                        "bin_end": 899.101,
                        "count": 4
                      },
                      {
                        "bin_start": 899.101,
                        "bin_end": 999,
                        "count": 2
                      }
                    ]
                  }
                },
                {
                  "name": "OpenPrice",
                  "dtype": "float64",
                  "stats": {
                    "unique_count": 291,
                    "nan_count": 0,
                    "min": 0.01,
                    "max": 999,
                    "histogram": [
                      {
                        "bin_start": 0.01,
                        "bin_end": 99.909,
                        "count": 1929
                      },
                      {
                        "bin_start": 99.909,
                        "bin_end": 199.808,
                        "count": 32
                      },
                      {
                        "bin_start": 199.808,
                        "bin_end": 299.707,
                        "count": 6
                      },
                      {
                        "bin_start": 299.707,
                        "bin_end": 399.606,
                        "count": 2
                      },
                      {
                        "bin_start": 399.606,
                        "bin_end": 499.505,
                        "count": 0
                      },
                      {
                        "bin_start": 499.505,
                        "bin_end": 599.404,
                        "count": 1
                      },
                      {
                        "bin_start": 599.404,
                        "bin_end": 699.303,
                        "count": 1
                      },
                      {
                        "bin_start": 699.303,
                        "bin_end": 799.202,
                        "count": 0
                      },
                      {
                        "bin_start": 799.202,
                        "bin_end": 899.101,
                        "count": 0
                      },
                      {
                        "bin_start": 899.101,
                        "bin_end": 999,
                        "count": 1
                      }
                    ]
                  }
                },
                {
                  "name": "Competitive?",
                  "dtype": "int64",
                  "stats": {
                    "unique_count": 2,
                    "nan_count": 0,
                    "min": 0,
                    "max": 1,
                    "histogram": [
                      {
                        "bin_start": 0,
                        "bin_end": 0.1,
                        "count": 906
                      },
                      {
                        "bin_start": 0.1,
                        "bin_end": 0.2,
                        "count": 0
                      },
                      {
                        "bin_start": 0.2,
                        "bin_end": 0.30000000000000004,
                        "count": 0
                      },
                      {
                        "bin_start": 0.30000000000000004,
                        "bin_end": 0.4,
                        "count": 0
                      },
                      {
                        "bin_start": 0.4,
                        "bin_end": 0.5,
                        "count": 0
                      },
                      {
                        "bin_start": 0.5,
                        "bin_end": 0.6000000000000001,
                        "count": 0
                      },
                      {
                        "bin_start": 0.6000000000000001,
                        "bin_end": 0.7000000000000001,
                        "count": 0
                      },
                      {
                        "bin_start": 0.7000000000000001,
                        "bin_end": 0.8,
                        "count": 0
                      },
                      {
                        "bin_start": 0.8,
                        "bin_end": 0.9,
                        "count": 0
                      },
                      {
                        "bin_start": 0.9,
                        "bin_end": 1,
                        "count": 1066
                      }
                    ]
                  }
                },
                {
                  "name": "_deepnote_index_column",
                  "dtype": "int64"
                }
              ],
              "rows_top": [
                {
                  "Category": "Music/Movie/Game",
                  "currency": "US",
                  "sellerRating": 3249,
                  "Duration": 5,
                  "endDay": "Mon",
                  "ClosePrice": 0.01,
                  "OpenPrice": 0.01,
                  "Competitive?": 0,
                  "_deepnote_index_column": 0
                },
                {
                  "Category": "Music/Movie/Game",
                  "currency": "US",
                  "sellerRating": 3249,
                  "Duration": 5,
                  "endDay": "Mon",
                  "ClosePrice": 0.01,
                  "OpenPrice": 0.01,
                  "Competitive?": 0,
                  "_deepnote_index_column": 1
                },
                {
                  "Category": "Music/Movie/Game",
                  "currency": "US",
                  "sellerRating": 3249,
                  "Duration": 5,
                  "endDay": "Mon",
                  "ClosePrice": 0.01,
                  "OpenPrice": 0.01,
                  "Competitive?": 0,
                  "_deepnote_index_column": 2
                },
                {
                  "Category": "Music/Movie/Game",
                  "currency": "US",
                  "sellerRating": 3249,
                  "Duration": 5,
                  "endDay": "Mon",
                  "ClosePrice": 0.01,
                  "OpenPrice": 0.01,
                  "Competitive?": 0,
                  "_deepnote_index_column": 3
                },
                {
                  "Category": "Music/Movie/Game",
                  "currency": "US",
                  "sellerRating": 3249,
                  "Duration": 5,
                  "endDay": "Mon",
                  "ClosePrice": 0.01,
                  "OpenPrice": 0.01,
                  "Competitive?": 0,
                  "_deepnote_index_column": 4
                },
                {
                  "Category": "Music/Movie/Game",
                  "currency": "US",
                  "sellerRating": 3249,
                  "Duration": 5,
                  "endDay": "Mon",
                  "ClosePrice": 0.01,
                  "OpenPrice": 0.01,
                  "Competitive?": 0,
                  "_deepnote_index_column": 5
                },
                {
                  "Category": "Music/Movie/Game",
                  "currency": "US",
                  "sellerRating": 3249,
                  "Duration": 5,
                  "endDay": "Mon",
                  "ClosePrice": 0.01,
                  "OpenPrice": 0.01,
                  "Competitive?": 0,
                  "_deepnote_index_column": 6
                },
                {
                  "Category": "Music/Movie/Game",
                  "currency": "US",
                  "sellerRating": 3249,
                  "Duration": 5,
                  "endDay": "Mon",
                  "ClosePrice": 0.01,
                  "OpenPrice": 0.01,
                  "Competitive?": 0,
                  "_deepnote_index_column": 7
                },
                {
                  "Category": "Music/Movie/Game",
                  "currency": "US",
                  "sellerRating": 3249,
                  "Duration": 5,
                  "endDay": "Mon",
                  "ClosePrice": 0.01,
                  "OpenPrice": 0.01,
                  "Competitive?": 0,
                  "_deepnote_index_column": 8
                },
                {
                  "Category": "Music/Movie/Game",
                  "currency": "US",
                  "sellerRating": 3249,
                  "Duration": 5,
                  "endDay": "Mon",
                  "ClosePrice": 0.01,
                  "OpenPrice": 0.01,
                  "Competitive?": 0,
                  "_deepnote_index_column": 9
                },
                {
                  "Category": "Music/Movie/Game",
                  "currency": "US",
                  "sellerRating": 3249,
                  "Duration": 5,
                  "endDay": "Mon",
                  "ClosePrice": 0.01,
                  "OpenPrice": 0.01,
                  "Competitive?": 0,
                  "_deepnote_index_column": 10
                },
                {
                  "Category": "Music/Movie/Game",
                  "currency": "US",
                  "sellerRating": 3249,
                  "Duration": 5,
                  "endDay": "Mon",
                  "ClosePrice": 0.01,
                  "OpenPrice": 0.01,
                  "Competitive?": 0,
                  "_deepnote_index_column": 11
                },
                {
                  "Category": "Music/Movie/Game",
                  "currency": "US",
                  "sellerRating": 3249,
                  "Duration": 5,
                  "endDay": "Mon",
                  "ClosePrice": 0.01,
                  "OpenPrice": 0.01,
                  "Competitive?": 0,
                  "_deepnote_index_column": 12
                },
                {
                  "Category": "Music/Movie/Game",
                  "currency": "US",
                  "sellerRating": 3249,
                  "Duration": 5,
                  "endDay": "Mon",
                  "ClosePrice": 0.01,
                  "OpenPrice": 0.01,
                  "Competitive?": 0,
                  "_deepnote_index_column": 13
                },
                {
                  "Category": "Music/Movie/Game",
                  "currency": "US",
                  "sellerRating": 3249,
                  "Duration": 5,
                  "endDay": "Mon",
                  "ClosePrice": 0.01,
                  "OpenPrice": 0.01,
                  "Competitive?": 0,
                  "_deepnote_index_column": 14
                },
                {
                  "Category": "Music/Movie/Game",
                  "currency": "US",
                  "sellerRating": 3249,
                  "Duration": 5,
                  "endDay": "Mon",
                  "ClosePrice": 0.01,
                  "OpenPrice": 0.01,
                  "Competitive?": 0,
                  "_deepnote_index_column": 15
                },
                {
                  "Category": "Automotive",
                  "currency": "US",
                  "sellerRating": 3115,
                  "Duration": 7,
                  "endDay": "Tue",
                  "ClosePrice": 0.01,
                  "OpenPrice": 0.01,
                  "Competitive?": 0,
                  "_deepnote_index_column": 16
                },
                {
                  "Category": "Automotive",
                  "currency": "US",
                  "sellerRating": 3115,
                  "Duration": 7,
                  "endDay": "Tue",
                  "ClosePrice": 0.01,
                  "OpenPrice": 0.01,
                  "Competitive?": 0,
                  "_deepnote_index_column": 17
                },
                {
                  "Category": "Automotive",
                  "currency": "US",
                  "sellerRating": 3115,
                  "Duration": 7,
                  "endDay": "Tue",
                  "ClosePrice": 0.01,
                  "OpenPrice": 0.01,
                  "Competitive?": 0,
                  "_deepnote_index_column": 18
                },
                {
                  "Category": "Automotive",
                  "currency": "US",
                  "sellerRating": 3115,
                  "Duration": 7,
                  "endDay": "Tue",
                  "ClosePrice": 0.01,
                  "OpenPrice": 0.01,
                  "Competitive?": 0,
                  "_deepnote_index_column": 19
                },
                {
                  "Category": "Automotive",
                  "currency": "US",
                  "sellerRating": 3115,
                  "Duration": 7,
                  "endDay": "Tue",
                  "ClosePrice": 0.01,
                  "OpenPrice": 0.01,
                  "Competitive?": 1,
                  "_deepnote_index_column": 20
                },
                {
                  "Category": "Automotive",
                  "currency": "US",
                  "sellerRating": 3115,
                  "Duration": 7,
                  "endDay": "Tue",
                  "ClosePrice": 0.01,
                  "OpenPrice": 0.01,
                  "Competitive?": 1,
                  "_deepnote_index_column": 21
                },
                {
                  "Category": "Music/Movie/Game",
                  "currency": "US",
                  "sellerRating": 37727,
                  "Duration": 7,
                  "endDay": "Mon",
                  "ClosePrice": 0.01,
                  "OpenPrice": 0.01,
                  "Competitive?": 0,
                  "_deepnote_index_column": 22
                },
                {
                  "Category": "Music/Movie/Game",
                  "currency": "US",
                  "sellerRating": 3249,
                  "Duration": 5,
                  "endDay": "Mon",
                  "ClosePrice": 0.06,
                  "OpenPrice": 0.01,
                  "Competitive?": 1,
                  "_deepnote_index_column": 23
                },
                {
                  "Category": "Music/Movie/Game",
                  "currency": "US",
                  "sellerRating": 3249,
                  "Duration": 5,
                  "endDay": "Mon",
                  "ClosePrice": 0.1,
                  "OpenPrice": 0.01,
                  "Competitive?": 1,
                  "_deepnote_index_column": 24
                },
                {
                  "Category": "SportingGoods",
                  "currency": "US",
                  "sellerRating": 34343,
                  "Duration": 1,
                  "endDay": "Fri",
                  "ClosePrice": 0.11,
                  "OpenPrice": 0.01,
                  "Competitive?": 1,
                  "_deepnote_index_column": 25
                },
                {
                  "Category": "Music/Movie/Game",
                  "currency": "US",
                  "sellerRating": 3249,
                  "Duration": 5,
                  "endDay": "Mon",
                  "ClosePrice": 0.11,
                  "OpenPrice": 0.01,
                  "Competitive?": 1,
                  "_deepnote_index_column": 26
                },
                {
                  "Category": "Music/Movie/Game",
                  "currency": "US",
                  "sellerRating": 3249,
                  "Duration": 5,
                  "endDay": "Mon",
                  "ClosePrice": 0.17,
                  "OpenPrice": 0.01,
                  "Competitive?": 1,
                  "_deepnote_index_column": 27
                },
                {
                  "Category": "Music/Movie/Game",
                  "currency": "US",
                  "sellerRating": 3249,
                  "Duration": 5,
                  "endDay": "Mon",
                  "ClosePrice": 0.17,
                  "OpenPrice": 0.01,
                  "Competitive?": 1,
                  "_deepnote_index_column": 28
                },
                {
                  "Category": "Music/Movie/Game",
                  "currency": "US",
                  "sellerRating": 3249,
                  "Duration": 5,
                  "endDay": "Mon",
                  "ClosePrice": 0.21,
                  "OpenPrice": 0.01,
                  "Competitive?": 1,
                  "_deepnote_index_column": 29
                },
                {
                  "Category": "Music/Movie/Game",
                  "currency": "US",
                  "sellerRating": 3249,
                  "Duration": 5,
                  "endDay": "Mon",
                  "ClosePrice": 0.55,
                  "OpenPrice": 0.01,
                  "Competitive?": 1,
                  "_deepnote_index_column": 30
                },
                {
                  "Category": "Music/Movie/Game",
                  "currency": "US",
                  "sellerRating": 3249,
                  "Duration": 5,
                  "endDay": "Mon",
                  "ClosePrice": 0.55,
                  "OpenPrice": 0.01,
                  "Competitive?": 1,
                  "_deepnote_index_column": 31
                },
                {
                  "Category": "Music/Movie/Game",
                  "currency": "US",
                  "sellerRating": 3249,
                  "Duration": 5,
                  "endDay": "Mon",
                  "ClosePrice": 1.05,
                  "OpenPrice": 0.01,
                  "Competitive?": 1,
                  "_deepnote_index_column": 32
                },
                {
                  "Category": "Music/Movie/Game",
                  "currency": "US",
                  "sellerRating": 3249,
                  "Duration": 5,
                  "endDay": "Mon",
                  "ClosePrice": 1.25,
                  "OpenPrice": 0.01,
                  "Competitive?": 1,
                  "_deepnote_index_column": 33
                },
                {
                  "Category": "Music/Movie/Game",
                  "currency": "US",
                  "sellerRating": 3249,
                  "Duration": 5,
                  "endDay": "Mon",
                  "ClosePrice": 1.25,
                  "OpenPrice": 0.01,
                  "Competitive?": 1,
                  "_deepnote_index_column": 34
                },
                {
                  "Category": "Music/Movie/Game",
                  "currency": "US",
                  "sellerRating": 3249,
                  "Duration": 5,
                  "endDay": "Mon",
                  "ClosePrice": 1.25,
                  "OpenPrice": 0.01,
                  "Competitive?": 1,
                  "_deepnote_index_column": 35
                },
                {
                  "Category": "Music/Movie/Game",
                  "currency": "US",
                  "sellerRating": 3249,
                  "Duration": 5,
                  "endDay": "Mon",
                  "ClosePrice": 1.25,
                  "OpenPrice": 0.01,
                  "Competitive?": 1,
                  "_deepnote_index_column": 36
                },
                {
                  "Category": "Music/Movie/Game",
                  "currency": "US",
                  "sellerRating": 3249,
                  "Duration": 5,
                  "endDay": "Mon",
                  "ClosePrice": 1.29,
                  "OpenPrice": 0.01,
                  "Competitive?": 1,
                  "_deepnote_index_column": 37
                },
                {
                  "Category": "Music/Movie/Game",
                  "currency": "US",
                  "sellerRating": 3249,
                  "Duration": 5,
                  "endDay": "Mon",
                  "ClosePrice": 1.3,
                  "OpenPrice": 0.01,
                  "Competitive?": 1,
                  "_deepnote_index_column": 38
                },
                {
                  "Category": "Music/Movie/Game",
                  "currency": "US",
                  "sellerRating": 3249,
                  "Duration": 5,
                  "endDay": "Mon",
                  "ClosePrice": 1.32,
                  "OpenPrice": 0.01,
                  "Competitive?": 1,
                  "_deepnote_index_column": 39
                },
                {
                  "Category": "Music/Movie/Game",
                  "currency": "US",
                  "sellerRating": 3249,
                  "Duration": 5,
                  "endDay": "Mon",
                  "ClosePrice": 1.32,
                  "OpenPrice": 0.01,
                  "Competitive?": 1,
                  "_deepnote_index_column": 40
                },
                {
                  "Category": "Music/Movie/Game",
                  "currency": "US",
                  "sellerRating": 3249,
                  "Duration": 5,
                  "endDay": "Mon",
                  "ClosePrice": 1.37,
                  "OpenPrice": 0.01,
                  "Competitive?": 1,
                  "_deepnote_index_column": 41
                },
                {
                  "Category": "Music/Movie/Game",
                  "currency": "US",
                  "sellerRating": 3249,
                  "Duration": 5,
                  "endDay": "Mon",
                  "ClosePrice": 1.5,
                  "OpenPrice": 0.01,
                  "Competitive?": 1,
                  "_deepnote_index_column": 42
                },
                {
                  "Category": "Music/Movie/Game",
                  "currency": "US",
                  "sellerRating": 3249,
                  "Duration": 5,
                  "endDay": "Mon",
                  "ClosePrice": 1.58,
                  "OpenPrice": 0.01,
                  "Competitive?": 1,
                  "_deepnote_index_column": 43
                },
                {
                  "Category": "Music/Movie/Game",
                  "currency": "US",
                  "sellerRating": 3249,
                  "Duration": 5,
                  "endDay": "Mon",
                  "ClosePrice": 1.75,
                  "OpenPrice": 0.01,
                  "Competitive?": 1,
                  "_deepnote_index_column": 44
                },
                {
                  "Category": "Music/Movie/Game",
                  "currency": "US",
                  "sellerRating": 3249,
                  "Duration": 5,
                  "endDay": "Mon",
                  "ClosePrice": 2,
                  "OpenPrice": 0.01,
                  "Competitive?": 1,
                  "_deepnote_index_column": 45
                },
                {
                  "Category": "Music/Movie/Game",
                  "currency": "US",
                  "sellerRating": 3249,
                  "Duration": 5,
                  "endDay": "Mon",
                  "ClosePrice": 2,
                  "OpenPrice": 0.01,
                  "Competitive?": 1,
                  "_deepnote_index_column": 46
                },
                {
                  "Category": "Music/Movie/Game",
                  "currency": "US",
                  "sellerRating": 3249,
                  "Duration": 5,
                  "endDay": "Mon",
                  "ClosePrice": 2,
                  "OpenPrice": 0.01,
                  "Competitive?": 1,
                  "_deepnote_index_column": 47
                },
                {
                  "Category": "Music/Movie/Game",
                  "currency": "US",
                  "sellerRating": 3249,
                  "Duration": 5,
                  "endDay": "Mon",
                  "ClosePrice": 2.05,
                  "OpenPrice": 0.01,
                  "Competitive?": 1,
                  "_deepnote_index_column": 48
                },
                {
                  "Category": "Music/Movie/Game",
                  "currency": "US",
                  "sellerRating": 3249,
                  "Duration": 5,
                  "endDay": "Mon",
                  "ClosePrice": 2.13,
                  "OpenPrice": 0.01,
                  "Competitive?": 1,
                  "_deepnote_index_column": 49
                },
                {
                  "Category": "Music/Movie/Game",
                  "currency": "US",
                  "sellerRating": 3249,
                  "Duration": 5,
                  "endDay": "Mon",
                  "ClosePrice": 2.25,
                  "OpenPrice": 0.01,
                  "Competitive?": 1,
                  "_deepnote_index_column": 50
                },
                {
                  "Category": "Music/Movie/Game",
                  "currency": "US",
                  "sellerRating": 3249,
                  "Duration": 5,
                  "endDay": "Mon",
                  "ClosePrice": 2.25,
                  "OpenPrice": 0.01,
                  "Competitive?": 1,
                  "_deepnote_index_column": 51
                },
                {
                  "Category": "Music/Movie/Game",
                  "currency": "US",
                  "sellerRating": 3249,
                  "Duration": 5,
                  "endDay": "Mon",
                  "ClosePrice": 2.3,
                  "OpenPrice": 0.01,
                  "Competitive?": 1,
                  "_deepnote_index_column": 52
                },
                {
                  "Category": "Automotive",
                  "currency": "US",
                  "sellerRating": 3115,
                  "Duration": 7,
                  "endDay": "Tue",
                  "ClosePrice": 2.31,
                  "OpenPrice": 0.01,
                  "Competitive?": 1,
                  "_deepnote_index_column": 53
                },
                {
                  "Category": "Music/Movie/Game",
                  "currency": "US",
                  "sellerRating": 3249,
                  "Duration": 5,
                  "endDay": "Mon",
                  "ClosePrice": 2.33,
                  "OpenPrice": 0.01,
                  "Competitive?": 1,
                  "_deepnote_index_column": 54
                },
                {
                  "Category": "Music/Movie/Game",
                  "currency": "US",
                  "sellerRating": 3249,
                  "Duration": 5,
                  "endDay": "Mon",
                  "ClosePrice": 2.8,
                  "OpenPrice": 0.01,
                  "Competitive?": 1,
                  "_deepnote_index_column": 55
                },
                {
                  "Category": "Music/Movie/Game",
                  "currency": "US",
                  "sellerRating": 3249,
                  "Duration": 5,
                  "endDay": "Mon",
                  "ClosePrice": 3,
                  "OpenPrice": 0.01,
                  "Competitive?": 1,
                  "_deepnote_index_column": 56
                },
                {
                  "Category": "Music/Movie/Game",
                  "currency": "US",
                  "sellerRating": 3249,
                  "Duration": 5,
                  "endDay": "Mon",
                  "ClosePrice": 3,
                  "OpenPrice": 0.01,
                  "Competitive?": 1,
                  "_deepnote_index_column": 57
                },
                {
                  "Category": "Music/Movie/Game",
                  "currency": "US",
                  "sellerRating": 3249,
                  "Duration": 5,
                  "endDay": "Mon",
                  "ClosePrice": 3.01,
                  "OpenPrice": 0.01,
                  "Competitive?": 1,
                  "_deepnote_index_column": 58
                },
                {
                  "Category": "Music/Movie/Game",
                  "currency": "US",
                  "sellerRating": 3249,
                  "Duration": 5,
                  "endDay": "Mon",
                  "ClosePrice": 3.06,
                  "OpenPrice": 0.01,
                  "Competitive?": 1,
                  "_deepnote_index_column": 59
                },
                {
                  "Category": "Music/Movie/Game",
                  "currency": "US",
                  "sellerRating": 3249,
                  "Duration": 5,
                  "endDay": "Mon",
                  "ClosePrice": 3.08,
                  "OpenPrice": 0.01,
                  "Competitive?": 1,
                  "_deepnote_index_column": 60
                },
                {
                  "Category": "Music/Movie/Game",
                  "currency": "US",
                  "sellerRating": 3249,
                  "Duration": 5,
                  "endDay": "Mon",
                  "ClosePrice": 3.25,
                  "OpenPrice": 0.01,
                  "Competitive?": 1,
                  "_deepnote_index_column": 61
                }
              ],
              "rows_bottom": [
                {
                  "Category": "Automotive",
                  "currency": "US",
                  "sellerRating": 2992,
                  "Duration": 3,
                  "endDay": "Fri",
                  "ClosePrice": 89.95,
                  "OpenPrice": 89.95,
                  "Competitive?": 0,
                  "_deepnote_index_column": 1909
                },
                {
                  "Category": "Automotive",
                  "currency": "US",
                  "sellerRating": 2992,
                  "Duration": 3,
                  "endDay": "Fri",
                  "ClosePrice": 89.95,
                  "OpenPrice": 89.95,
                  "Competitive?": 0,
                  "_deepnote_index_column": 1910
                },
                {
                  "Category": "Automotive",
                  "currency": "US",
                  "sellerRating": 2992,
                  "Duration": 3,
                  "endDay": "Fri",
                  "ClosePrice": 89.95,
                  "OpenPrice": 89.95,
                  "Competitive?": 0,
                  "_deepnote_index_column": 1911
                },
                {
                  "Category": "Automotive",
                  "currency": "US",
                  "sellerRating": 146,
                  "Duration": 5,
                  "endDay": "Mon",
                  "ClosePrice": 89.95,
                  "OpenPrice": 89.95,
                  "Competitive?": 0,
                  "_deepnote_index_column": 1912
                },
                {
                  "Category": "Automotive",
                  "currency": "US",
                  "sellerRating": 1364,
                  "Duration": 5,
                  "endDay": "Sun",
                  "ClosePrice": 89.95,
                  "OpenPrice": 89.95,
                  "Competitive?": 0,
                  "_deepnote_index_column": 1913
                },
                {
                  "Category": "Automotive",
                  "currency": "US",
                  "sellerRating": 1364,
                  "Duration": 7,
                  "endDay": "Tue",
                  "ClosePrice": 90,
                  "OpenPrice": 90,
                  "Competitive?": 0,
                  "_deepnote_index_column": 1914
                },
                {
                  "Category": "Automotive",
                  "currency": "US",
                  "sellerRating": 10,
                  "Duration": 5,
                  "endDay": "Tue",
                  "ClosePrice": 170.5,
                  "OpenPrice": 50,
                  "Competitive?": 1,
                  "_deepnote_index_column": 1915
                },
                {
                  "Category": "Automotive",
                  "currency": "US",
                  "sellerRating": 2992,
                  "Duration": 3,
                  "endDay": "Fri",
                  "ClosePrice": 99.09,
                  "OpenPrice": 89.95,
                  "Competitive?": 1,
                  "_deepnote_index_column": 1916
                },
                {
                  "Category": "Automotive",
                  "currency": "US",
                  "sellerRating": 2992,
                  "Duration": 3,
                  "endDay": "Fri",
                  "ClosePrice": 95,
                  "OpenPrice": 95,
                  "Competitive?": 0,
                  "_deepnote_index_column": 1917
                },
                {
                  "Category": "Automotive",
                  "currency": "US",
                  "sellerRating": 146,
                  "Duration": 5,
                  "endDay": "Mon",
                  "ClosePrice": 95,
                  "OpenPrice": 95,
                  "Competitive?": 0,
                  "_deepnote_index_column": 1918
                },
                {
                  "Category": "Electronics",
                  "currency": "US",
                  "sellerRating": 156,
                  "Duration": 7,
                  "endDay": "Fri",
                  "ClosePrice": 187.5,
                  "OpenPrice": 50,
                  "Competitive?": 1,
                  "_deepnote_index_column": 1919
                },
                {
                  "Category": "Photography",
                  "currency": "US",
                  "sellerRating": 14,
                  "Duration": 5,
                  "endDay": "Sat",
                  "ClosePrice": 971,
                  "OpenPrice": 9.99,
                  "Competitive?": 1,
                  "_deepnote_index_column": 1920
                },
                {
                  "Category": "Electronics",
                  "currency": "EUR",
                  "sellerRating": 7,
                  "Duration": 3,
                  "endDay": "Sat",
                  "ClosePrice": 222.58,
                  "OpenPrice": 67.63,
                  "Competitive?": 1,
                  "_deepnote_index_column": 1921
                },
                {
                  "Category": "Automotive",
                  "currency": "US",
                  "sellerRating": 2992,
                  "Duration": 3,
                  "endDay": "Fri",
                  "ClosePrice": 99.95,
                  "OpenPrice": 99.95,
                  "Competitive?": 0,
                  "_deepnote_index_column": 1922
                },
                {
                  "Category": "Automotive",
                  "currency": "US",
                  "sellerRating": 2992,
                  "Duration": 3,
                  "endDay": "Fri",
                  "ClosePrice": 99.95,
                  "OpenPrice": 99.95,
                  "Competitive?": 0,
                  "_deepnote_index_column": 1923
                },
                {
                  "Category": "Pottery/Glass",
                  "currency": "US",
                  "sellerRating": 993,
                  "Duration": 7,
                  "endDay": "Sat",
                  "ClosePrice": 99.99,
                  "OpenPrice": 99.99,
                  "Competitive?": 0,
                  "_deepnote_index_column": 1924
                },
                {
                  "Category": "Pottery/Glass",
                  "currency": "US",
                  "sellerRating": 993,
                  "Duration": 7,
                  "endDay": "Sat",
                  "ClosePrice": 99.99,
                  "OpenPrice": 99.99,
                  "Competitive?": 0,
                  "_deepnote_index_column": 1925
                },
                {
                  "Category": "Pottery/Glass",
                  "currency": "US",
                  "sellerRating": 993,
                  "Duration": 7,
                  "endDay": "Sat",
                  "ClosePrice": 99.99,
                  "OpenPrice": 99.99,
                  "Competitive?": 0,
                  "_deepnote_index_column": 1926
                },
                {
                  "Category": "Pottery/Glass",
                  "currency": "US",
                  "sellerRating": 993,
                  "Duration": 7,
                  "endDay": "Sat",
                  "ClosePrice": 99.99,
                  "OpenPrice": 99.99,
                  "Competitive?": 0,
                  "_deepnote_index_column": 1927
                },
                {
                  "Category": "Pottery/Glass",
                  "currency": "US",
                  "sellerRating": 993,
                  "Duration": 7,
                  "endDay": "Sat",
                  "ClosePrice": 99.99,
                  "OpenPrice": 99.99,
                  "Competitive?": 0,
                  "_deepnote_index_column": 1928
                },
                {
                  "Category": "Automotive",
                  "currency": "US",
                  "sellerRating": 1131,
                  "Duration": 10,
                  "endDay": "Sun",
                  "ClosePrice": 100,
                  "OpenPrice": 100,
                  "Competitive?": 0,
                  "_deepnote_index_column": 1929
                },
                {
                  "Category": "Toys/Hobbies",
                  "currency": "US",
                  "sellerRating": 301,
                  "Duration": 7,
                  "endDay": "Sat",
                  "ClosePrice": 117.5,
                  "OpenPrice": 93.63,
                  "Competitive?": 1,
                  "_deepnote_index_column": 1930
                },
                {
                  "Category": "Automotive",
                  "currency": "US",
                  "sellerRating": 1364,
                  "Duration": 5,
                  "endDay": "Sun",
                  "ClosePrice": 108,
                  "OpenPrice": 108,
                  "Competitive?": 0,
                  "_deepnote_index_column": 1931
                },
                {
                  "Category": "Toys/Hobbies",
                  "currency": "US",
                  "sellerRating": 534,
                  "Duration": 7,
                  "endDay": "Sun",
                  "ClosePrice": 154.23,
                  "OpenPrice": 79.99,
                  "Competitive?": 1,
                  "_deepnote_index_column": 1932
                },
                {
                  "Category": "Antique/Art/Craft",
                  "currency": "GBP",
                  "sellerRating": 378,
                  "Duration": 7,
                  "endDay": "Thu",
                  "ClosePrice": 237.37,
                  "OpenPrice": 169.55,
                  "Competitive?": 1,
                  "_deepnote_index_column": 1933
                },
                {
                  "Category": "Automotive",
                  "currency": "US",
                  "sellerRating": 146,
                  "Duration": 5,
                  "endDay": "Sun",
                  "ClosePrice": 115,
                  "OpenPrice": 115,
                  "Competitive?": 0,
                  "_deepnote_index_column": 1934
                },
                {
                  "Category": "Automotive",
                  "currency": "US",
                  "sellerRating": 1364,
                  "Duration": 7,
                  "endDay": "Tue",
                  "ClosePrice": 117,
                  "OpenPrice": 117,
                  "Competitive?": 0,
                  "_deepnote_index_column": 1935
                },
                {
                  "Category": "Clothing/Accessories",
                  "currency": "EUR",
                  "sellerRating": 668,
                  "Duration": 7,
                  "endDay": "Fri",
                  "ClosePrice": 313.59,
                  "OpenPrice": 67.64,
                  "Competitive?": 0,
                  "_deepnote_index_column": 1936
                },
                {
                  "Category": "Automotive",
                  "currency": "US",
                  "sellerRating": 2992,
                  "Duration": 3,
                  "endDay": "Fri",
                  "ClosePrice": 121.5,
                  "OpenPrice": 119,
                  "Competitive?": 1,
                  "_deepnote_index_column": 1937
                },
                {
                  "Category": "Toys/Hobbies",
                  "currency": "US",
                  "sellerRating": 251,
                  "Duration": 1,
                  "endDay": "Fri",
                  "ClosePrice": 145,
                  "OpenPrice": 99.99,
                  "Competitive?": 1,
                  "_deepnote_index_column": 1938
                },
                {
                  "Category": "Automotive",
                  "currency": "US",
                  "sellerRating": 2992,
                  "Duration": 3,
                  "endDay": "Fri",
                  "ClosePrice": 122.5,
                  "OpenPrice": 119,
                  "Competitive?": 1,
                  "_deepnote_index_column": 1939
                },
                {
                  "Category": "Photography",
                  "currency": "US",
                  "sellerRating": 33,
                  "Duration": 7,
                  "endDay": "Fri",
                  "ClosePrice": 167.5,
                  "OpenPrice": 90,
                  "Competitive?": 1,
                  "_deepnote_index_column": 1940
                },
                {
                  "Category": "Automotive",
                  "currency": "US",
                  "sellerRating": 1364,
                  "Duration": 7,
                  "endDay": "Tue",
                  "ClosePrice": 128,
                  "OpenPrice": 128,
                  "Competitive?": 0,
                  "_deepnote_index_column": 1941
                },
                {
                  "Category": "Automotive",
                  "currency": "US",
                  "sellerRating": 1364,
                  "Duration": 7,
                  "endDay": "Tue",
                  "ClosePrice": 128,
                  "OpenPrice": 128,
                  "Competitive?": 0,
                  "_deepnote_index_column": 1942
                },
                {
                  "Category": "Business/Industrial",
                  "currency": "US",
                  "sellerRating": 48,
                  "Duration": 3,
                  "endDay": "Fri",
                  "ClosePrice": 177.5,
                  "OpenPrice": 100,
                  "Competitive?": 1,
                  "_deepnote_index_column": 1943
                },
                {
                  "Category": "Automotive",
                  "currency": "US",
                  "sellerRating": 1364,
                  "Duration": 7,
                  "endDay": "Mon",
                  "ClosePrice": 135,
                  "OpenPrice": 132,
                  "Competitive?": 1,
                  "_deepnote_index_column": 1944
                },
                {
                  "Category": "Automotive",
                  "currency": "US",
                  "sellerRating": 1364,
                  "Duration": 7,
                  "endDay": "Tue",
                  "ClosePrice": 134,
                  "OpenPrice": 134,
                  "Competitive?": 0,
                  "_deepnote_index_column": 1945
                },
                {
                  "Category": "Coins/Stamps",
                  "currency": "US",
                  "sellerRating": 5564,
                  "Duration": 5,
                  "endDay": "Sat",
                  "ClosePrice": 135,
                  "OpenPrice": 135,
                  "Competitive?": 0,
                  "_deepnote_index_column": 1946
                },
                {
                  "Category": "Collectibles",
                  "currency": "US",
                  "sellerRating": 325,
                  "Duration": 10,
                  "endDay": "Sun",
                  "ClosePrice": 389,
                  "OpenPrice": 50,
                  "Competitive?": 1,
                  "_deepnote_index_column": 1947
                },
                {
                  "Category": "Electronics",
                  "currency": "EUR",
                  "sellerRating": 13,
                  "Duration": 10,
                  "endDay": "Wed",
                  "ClosePrice": 250.87,
                  "OpenPrice": 122.98,
                  "Competitive?": 1,
                  "_deepnote_index_column": 1948
                },
                {
                  "Category": "Electronics",
                  "currency": "EUR",
                  "sellerRating": 13,
                  "Duration": 7,
                  "endDay": "Sun",
                  "ClosePrice": 278.29,
                  "OpenPrice": 122.97,
                  "Competitive?": 1,
                  "_deepnote_index_column": 1949
                },
                {
                  "Category": "Pottery/Glass",
                  "currency": "US",
                  "sellerRating": 993,
                  "Duration": 7,
                  "endDay": "Sat",
                  "ClosePrice": 159.99,
                  "OpenPrice": 159.99,
                  "Competitive?": 0,
                  "_deepnote_index_column": 1950
                },
                {
                  "Category": "Automotive",
                  "currency": "US",
                  "sellerRating": 2992,
                  "Duration": 3,
                  "endDay": "Fri",
                  "ClosePrice": 169,
                  "OpenPrice": 169,
                  "Competitive?": 0,
                  "_deepnote_index_column": 1951
                },
                {
                  "Category": "Coins/Stamps",
                  "currency": "US",
                  "sellerRating": 5564,
                  "Duration": 3,
                  "endDay": "Sat",
                  "ClosePrice": 175,
                  "OpenPrice": 175,
                  "Competitive?": 0,
                  "_deepnote_index_column": 1952
                },
                {
                  "Category": "Computer",
                  "currency": "US",
                  "sellerRating": 67,
                  "Duration": 7,
                  "endDay": "Sun",
                  "ClosePrice": 227.5,
                  "OpenPrice": 150,
                  "Competitive?": 1,
                  "_deepnote_index_column": 1953
                },
                {
                  "Category": "SportingGoods",
                  "currency": "US",
                  "sellerRating": 71,
                  "Duration": 7,
                  "endDay": "Sat",
                  "ClosePrice": 730,
                  "OpenPrice": 50,
                  "Competitive?": 1,
                  "_deepnote_index_column": 1954
                },
                {
                  "Category": "Coins/Stamps",
                  "currency": "US",
                  "sellerRating": 5564,
                  "Duration": 5,
                  "endDay": "Sun",
                  "ClosePrice": 192,
                  "OpenPrice": 192,
                  "Competitive?": 0,
                  "_deepnote_index_column": 1955
                },
                {
                  "Category": "Collectibles",
                  "currency": "US",
                  "sellerRating": 993,
                  "Duration": 7,
                  "endDay": "Mon",
                  "ClosePrice": 199.99,
                  "OpenPrice": 199.99,
                  "Competitive?": 0,
                  "_deepnote_index_column": 1956
                },
                {
                  "Category": "Electronics",
                  "currency": "US",
                  "sellerRating": 2358,
                  "Duration": 5,
                  "endDay": "Mon",
                  "ClosePrice": 202.5,
                  "OpenPrice": 199.99,
                  "Competitive?": 1,
                  "_deepnote_index_column": 1957
                },
                {
                  "Category": "Books",
                  "currency": "US",
                  "sellerRating": 155,
                  "Duration": 7,
                  "endDay": "Mon",
                  "ClosePrice": 421,
                  "OpenPrice": 99.99,
                  "Competitive?": 1,
                  "_deepnote_index_column": 1958
                },
                {
                  "Category": "Automotive",
                  "currency": "US",
                  "sellerRating": 2992,
                  "Duration": 5,
                  "endDay": "Sun",
                  "ClosePrice": 229.5,
                  "OpenPrice": 199,
                  "Competitive?": 1,
                  "_deepnote_index_column": 1959
                },
                {
                  "Category": "Collectibles",
                  "currency": "US",
                  "sellerRating": 862,
                  "Duration": 5,
                  "endDay": "Sat",
                  "ClosePrice": 219,
                  "OpenPrice": 219,
                  "Competitive?": 0,
                  "_deepnote_index_column": 1960
                },
                {
                  "Category": "Automotive",
                  "currency": "US",
                  "sellerRating": 374,
                  "Duration": 7,
                  "endDay": "Mon",
                  "ClosePrice": 545,
                  "OpenPrice": 100,
                  "Competitive?": 1,
                  "_deepnote_index_column": 1961
                },
                {
                  "Category": "Automotive",
                  "currency": "US",
                  "sellerRating": 0,
                  "Duration": 10,
                  "endDay": "Sun",
                  "ClosePrice": 590,
                  "OpenPrice": 99,
                  "Competitive?": 1,
                  "_deepnote_index_column": 1962
                },
                {
                  "Category": "Automotive",
                  "currency": "EUR",
                  "sellerRating": 4,
                  "Duration": 10,
                  "endDay": "Sun",
                  "ClosePrice": 780.89,
                  "OpenPrice": 122.97,
                  "Competitive?": 1,
                  "_deepnote_index_column": 1963
                },
                {
                  "Category": "SportingGoods",
                  "currency": "US",
                  "sellerRating": 1,
                  "Duration": 7,
                  "endDay": "Fri",
                  "ClosePrice": 417.99,
                  "OpenPrice": 200,
                  "Competitive?": 1,
                  "_deepnote_index_column": 1964
                },
                {
                  "Category": "Automotive",
                  "currency": "US",
                  "sellerRating": 97,
                  "Duration": 3,
                  "endDay": "Fri",
                  "ClosePrice": 290,
                  "OpenPrice": 290,
                  "Competitive?": 0,
                  "_deepnote_index_column": 1965
                },
                {
                  "Category": "Automotive",
                  "currency": "US",
                  "sellerRating": 142,
                  "Duration": 7,
                  "endDay": "Sat",
                  "ClosePrice": 521.55,
                  "OpenPrice": 200,
                  "Competitive?": 1,
                  "_deepnote_index_column": 1966
                },
                {
                  "Category": "Automotive",
                  "currency": "US",
                  "sellerRating": 2992,
                  "Duration": 5,
                  "endDay": "Sun",
                  "ClosePrice": 359.95,
                  "OpenPrice": 359.95,
                  "Competitive?": 0,
                  "_deepnote_index_column": 1967
                },
                {
                  "Category": "Automotive",
                  "currency": "US",
                  "sellerRating": 21,
                  "Duration": 5,
                  "endDay": "Sat",
                  "ClosePrice": 610,
                  "OpenPrice": 300,
                  "Competitive?": 1,
                  "_deepnote_index_column": 1968
                },
                {
                  "Category": "Automotive",
                  "currency": "US",
                  "sellerRating": 1400,
                  "Duration": 5,
                  "endDay": "Mon",
                  "ClosePrice": 549,
                  "OpenPrice": 549,
                  "Competitive?": 0,
                  "_deepnote_index_column": 1969
                },
                {
                  "Category": "Automotive",
                  "currency": "US",
                  "sellerRating": 57,
                  "Duration": 7,
                  "endDay": "Fri",
                  "ClosePrice": 820,
                  "OpenPrice": 650,
                  "Competitive?": 1,
                  "_deepnote_index_column": 1970
                },
                {
                  "Category": "Automotive",
                  "currency": "US",
                  "sellerRating": 145,
                  "Duration": 7,
                  "endDay": "Sat",
                  "ClosePrice": 999,
                  "OpenPrice": 999,
                  "Competitive?": 0,
                  "_deepnote_index_column": 1971
                }
              ]
            },
            "text/plain": "              Category currency  sellerRating  Duration endDay  ClosePrice  \\\n0     Music/Movie/Game       US          3249         5    Mon        0.01   \n1     Music/Movie/Game       US          3249         5    Mon        0.01   \n2     Music/Movie/Game       US          3249         5    Mon        0.01   \n3     Music/Movie/Game       US          3249         5    Mon        0.01   \n4     Music/Movie/Game       US          3249         5    Mon        0.01   \n...                ...      ...           ...       ...    ...         ...   \n1967        Automotive       US          2992         5    Sun      359.95   \n1968        Automotive       US            21         5    Sat      610.00   \n1969        Automotive       US          1400         5    Mon      549.00   \n1970        Automotive       US            57         7    Fri      820.00   \n1971        Automotive       US           145         7    Sat      999.00   \n\n      OpenPrice  Competitive?  \n0          0.01             0  \n1          0.01             0  \n2          0.01             0  \n3          0.01             0  \n4          0.01             0  \n...         ...           ...  \n1967     359.95             0  \n1968     300.00             1  \n1969     549.00             0  \n1970     650.00             1  \n1971     999.00             0  \n\n[1972 rows x 8 columns]",
            "text/html": "<div>\n<style scoped>\n    .dataframe tbody tr th:only-of-type {\n        vertical-align: middle;\n    }\n\n    .dataframe tbody tr th {\n        vertical-align: top;\n    }\n\n    .dataframe thead th {\n        text-align: right;\n    }\n</style>\n<table border=\"1\" class=\"dataframe\">\n  <thead>\n    <tr style=\"text-align: right;\">\n      <th></th>\n      <th>Category</th>\n      <th>currency</th>\n      <th>sellerRating</th>\n      <th>Duration</th>\n      <th>endDay</th>\n      <th>ClosePrice</th>\n      <th>OpenPrice</th>\n      <th>Competitive?</th>\n    </tr>\n  </thead>\n  <tbody>\n    <tr>\n      <th>0</th>\n      <td>Music/Movie/Game</td>\n      <td>US</td>\n      <td>3249</td>\n      <td>5</td>\n      <td>Mon</td>\n      <td>0.01</td>\n      <td>0.01</td>\n      <td>0</td>\n    </tr>\n    <tr>\n      <th>1</th>\n      <td>Music/Movie/Game</td>\n      <td>US</td>\n      <td>3249</td>\n      <td>5</td>\n      <td>Mon</td>\n      <td>0.01</td>\n      <td>0.01</td>\n      <td>0</td>\n    </tr>\n    <tr>\n      <th>2</th>\n      <td>Music/Movie/Game</td>\n      <td>US</td>\n      <td>3249</td>\n      <td>5</td>\n      <td>Mon</td>\n      <td>0.01</td>\n      <td>0.01</td>\n      <td>0</td>\n    </tr>\n    <tr>\n      <th>3</th>\n      <td>Music/Movie/Game</td>\n      <td>US</td>\n      <td>3249</td>\n      <td>5</td>\n      <td>Mon</td>\n      <td>0.01</td>\n      <td>0.01</td>\n      <td>0</td>\n    </tr>\n    <tr>\n      <th>4</th>\n      <td>Music/Movie/Game</td>\n      <td>US</td>\n      <td>3249</td>\n      <td>5</td>\n      <td>Mon</td>\n      <td>0.01</td>\n      <td>0.01</td>\n      <td>0</td>\n    </tr>\n    <tr>\n      <th>...</th>\n      <td>...</td>\n      <td>...</td>\n      <td>...</td>\n      <td>...</td>\n      <td>...</td>\n      <td>...</td>\n      <td>...</td>\n      <td>...</td>\n    </tr>\n    <tr>\n      <th>1967</th>\n      <td>Automotive</td>\n      <td>US</td>\n      <td>2992</td>\n      <td>5</td>\n      <td>Sun</td>\n      <td>359.95</td>\n      <td>359.95</td>\n      <td>0</td>\n    </tr>\n    <tr>\n      <th>1968</th>\n      <td>Automotive</td>\n      <td>US</td>\n      <td>21</td>\n      <td>5</td>\n      <td>Sat</td>\n      <td>610.00</td>\n      <td>300.00</td>\n      <td>1</td>\n    </tr>\n    <tr>\n      <th>1969</th>\n      <td>Automotive</td>\n      <td>US</td>\n      <td>1400</td>\n      <td>5</td>\n      <td>Mon</td>\n      <td>549.00</td>\n      <td>549.00</td>\n      <td>0</td>\n    </tr>\n    <tr>\n      <th>1970</th>\n      <td>Automotive</td>\n      <td>US</td>\n      <td>57</td>\n      <td>7</td>\n      <td>Fri</td>\n      <td>820.00</td>\n      <td>650.00</td>\n      <td>1</td>\n    </tr>\n    <tr>\n      <th>1971</th>\n      <td>Automotive</td>\n      <td>US</td>\n      <td>145</td>\n      <td>7</td>\n      <td>Sat</td>\n      <td>999.00</td>\n      <td>999.00</td>\n      <td>0</td>\n    </tr>\n  </tbody>\n</table>\n<p>1972 rows × 8 columns</p>\n</div>"
          },
          "metadata": {}
        }
      ],
      "execution_count": null
    },
    {
      "cell_type": "code",
      "metadata": {
        "tags": [],
        "cell_id": "00003-2fbbcca8-329a-46e2-8a4a-89bbf21a6df8",
        "deepnote_to_be_reexecuted": false,
        "source_hash": "188cdf35",
        "execution_millis": 113,
        "execution_start": 1615582088781,
        "deepnote_cell_type": "code"
      },
      "source": "excludeColumns = ('Competitive?')\npredictors = [s for s in ebay_df.columns if s not in excludeColumns]\noutcome = 'Competitive?'\n\nX = pd.get_dummies(ebay_df[predictors], drop_first=True)\ny = ebay_df[outcome]\n\n# partition data\ntrain_X, valid_X, train_y, valid_y = train_test_split(X, y, test_size=0.4, random_state=1)\n\ntrain_X\n",
      "outputs": [
        {
          "output_type": "execute_result",
          "execution_count": 4,
          "data": {
            "application/vnd.deepnote.dataframe.v2+json": {
              "row_count": 1183,
              "column_count": 29,
              "columns": [
                {
                  "name": "sellerRating",
                  "dtype": "int64",
                  "stats": {
                    "unique_count": 356,
                    "nan_count": 0,
                    "min": 1,
                    "max": 34343,
                    "histogram": [
                      {
                        "bin_start": 1,
                        "bin_end": 3435.2,
                        "count": 937
                      },
                      {
                        "bin_start": 3435.2,
                        "bin_end": 6869.4,
                        "count": 133
                      },
                      {
                        "bin_start": 6869.4,
                        "bin_end": 10303.599999999999,
                        "count": 36
                      },
                      {
                        "bin_start": 10303.599999999999,
                        "bin_end": 13737.8,
                        "count": 0
                      },
                      {
                        "bin_start": 13737.8,
                        "bin_end": 17172,
                        "count": 1
                      },
                      {
                        "bin_start": 17172,
                        "bin_end": 20606.199999999997,
                        "count": 0
                      },
                      {
                        "bin_start": 20606.199999999997,
                        "bin_end": 24040.399999999998,
                        "count": 14
                      },
                      {
                        "bin_start": 24040.399999999998,
                        "bin_end": 27474.6,
                        "count": 61
                      },
                      {
                        "bin_start": 27474.6,
                        "bin_end": 30908.8,
                        "count": 0
                      },
                      {
                        "bin_start": 30908.8,
                        "bin_end": 34343,
                        "count": 1
                      }
                    ]
                  }
                },
                {
                  "name": "Duration",
                  "dtype": "int64",
                  "stats": {
                    "unique_count": 5,
                    "nan_count": 0,
                    "min": 1,
                    "max": 10,
                    "histogram": [
                      {
                        "bin_start": 1,
                        "bin_end": 1.9,
                        "count": 11
                      },
                      {
                        "bin_start": 1.9,
                        "bin_end": 2.8,
                        "count": 0
                      },
                      {
                        "bin_start": 2.8,
                        "bin_end": 3.7,
                        "count": 131
                      },
                      {
                        "bin_start": 3.7,
                        "bin_end": 4.6,
                        "count": 0
                      },
                      {
                        "bin_start": 4.6,
                        "bin_end": 5.5,
                        "count": 271
                      },
                      {
                        "bin_start": 5.5,
                        "bin_end": 6.4,
                        "count": 0
                      },
                      {
                        "bin_start": 6.4,
                        "bin_end": 7.3,
                        "count": 587
                      },
                      {
                        "bin_start": 7.3,
                        "bin_end": 8.2,
                        "count": 0
                      },
                      {
                        "bin_start": 8.2,
                        "bin_end": 9.1,
                        "count": 0
                      },
                      {
                        "bin_start": 9.1,
                        "bin_end": 10,
                        "count": 183
                      }
                    ]
                  }
                },
                {
                  "name": "ClosePrice",
                  "dtype": "float64",
                  "stats": {
                    "unique_count": 590,
                    "nan_count": 0,
                    "min": 0.01,
                    "max": 999,
                    "histogram": [
                      {
                        "bin_start": 0.01,
                        "bin_end": 99.909,
                        "count": 1082
                      },
                      {
                        "bin_start": 99.909,
                        "bin_end": 199.808,
                        "count": 62
                      },
                      {
                        "bin_start": 199.808,
                        "bin_end": 299.707,
                        "count": 17
                      },
                      {
                        "bin_start": 299.707,
                        "bin_end": 399.606,
                        "count": 6
                      },
                      {
                        "bin_start": 399.606,
                        "bin_end": 499.505,
                        "count": 2
                      },
                      {
                        "bin_start": 499.505,
                        "bin_end": 599.404,
                        "count": 4
                      },
                      {
                        "bin_start": 599.404,
                        "bin_end": 699.303,
                        "count": 1
                      },
                      {
                        "bin_start": 699.303,
                        "bin_end": 799.202,
                        "count": 4
                      },
                      {
                        "bin_start": 799.202,
                        "bin_end": 899.101,
                        "count": 3
                      },
                      {
                        "bin_start": 899.101,
                        "bin_end": 999,
                        "count": 2
                      }
                    ]
                  }
                },
                {
                  "name": "OpenPrice",
                  "dtype": "float64",
                  "stats": {
                    "unique_count": 235,
                    "nan_count": 0,
                    "min": 0.01,
                    "max": 999,
                    "histogram": [
                      {
                        "bin_start": 0.01,
                        "bin_end": 99.909,
                        "count": 1156
                      },
                      {
                        "bin_start": 99.909,
                        "bin_end": 199.808,
                        "count": 21
                      },
                      {
                        "bin_start": 199.808,
                        "bin_end": 299.707,
                        "count": 3
                      },
                      {
                        "bin_start": 299.707,
                        "bin_end": 399.606,
                        "count": 0
                      },
                      {
                        "bin_start": 399.606,
                        "bin_end": 499.505,
                        "count": 0
                      },
                      {
                        "bin_start": 499.505,
                        "bin_end": 599.404,
                        "count": 1
                      },
                      {
                        "bin_start": 599.404,
                        "bin_end": 699.303,
                        "count": 1
                      },
                      {
                        "bin_start": 699.303,
                        "bin_end": 799.202,
                        "count": 0
                      },
                      {
                        "bin_start": 799.202,
                        "bin_end": 899.101,
                        "count": 0
                      },
                      {
                        "bin_start": 899.101,
                        "bin_end": 999,
                        "count": 1
                      }
                    ]
                  }
                },
                {
                  "name": "Category_Automotive",
                  "dtype": "uint8",
                  "stats": {
                    "unique_count": 2,
                    "nan_count": 0,
                    "min": 0,
                    "max": 1,
                    "histogram": [
                      {
                        "bin_start": 0,
                        "bin_end": 0.1,
                        "count": 1074
                      },
                      {
                        "bin_start": 0.1,
                        "bin_end": 0.2,
                        "count": 0
                      },
                      {
                        "bin_start": 0.2,
                        "bin_end": 0.30000000000000004,
                        "count": 0
                      },
                      {
                        "bin_start": 0.30000000000000004,
                        "bin_end": 0.4,
                        "count": 0
                      },
                      {
                        "bin_start": 0.4,
                        "bin_end": 0.5,
                        "count": 0
                      },
                      {
                        "bin_start": 0.5,
                        "bin_end": 0.6000000000000001,
                        "count": 0
                      },
                      {
                        "bin_start": 0.6000000000000001,
                        "bin_end": 0.7000000000000001,
                        "count": 0
                      },
                      {
                        "bin_start": 0.7000000000000001,
                        "bin_end": 0.8,
                        "count": 0
                      },
                      {
                        "bin_start": 0.8,
                        "bin_end": 0.9,
                        "count": 0
                      },
                      {
                        "bin_start": 0.9,
                        "bin_end": 1,
                        "count": 109
                      }
                    ]
                  }
                },
                {
                  "name": "Category_Books",
                  "dtype": "uint8",
                  "stats": {
                    "unique_count": 2,
                    "nan_count": 0,
                    "min": 0,
                    "max": 1,
                    "histogram": [
                      {
                        "bin_start": 0,
                        "bin_end": 0.1,
                        "count": 1153
                      },
                      {
                        "bin_start": 0.1,
                        "bin_end": 0.2,
                        "count": 0
                      },
                      {
                        "bin_start": 0.2,
                        "bin_end": 0.30000000000000004,
                        "count": 0
                      },
                      {
                        "bin_start": 0.30000000000000004,
                        "bin_end": 0.4,
                        "count": 0
                      },
                      {
                        "bin_start": 0.4,
                        "bin_end": 0.5,
                        "count": 0
                      },
                      {
                        "bin_start": 0.5,
                        "bin_end": 0.6000000000000001,
                        "count": 0
                      },
                      {
                        "bin_start": 0.6000000000000001,
                        "bin_end": 0.7000000000000001,
                        "count": 0
                      },
                      {
                        "bin_start": 0.7000000000000001,
                        "bin_end": 0.8,
                        "count": 0
                      },
                      {
                        "bin_start": 0.8,
                        "bin_end": 0.9,
                        "count": 0
                      },
                      {
                        "bin_start": 0.9,
                        "bin_end": 1,
                        "count": 30
                      }
                    ]
                  }
                },
                {
                  "name": "Category_Business/Industrial",
                  "dtype": "uint8",
                  "stats": {
                    "unique_count": 2,
                    "nan_count": 0,
                    "min": 0,
                    "max": 1,
                    "histogram": [
                      {
                        "bin_start": 0,
                        "bin_end": 0.1,
                        "count": 1171
                      },
                      {
                        "bin_start": 0.1,
                        "bin_end": 0.2,
                        "count": 0
                      },
                      {
                        "bin_start": 0.2,
                        "bin_end": 0.30000000000000004,
                        "count": 0
                      },
                      {
                        "bin_start": 0.30000000000000004,
                        "bin_end": 0.4,
                        "count": 0
                      },
                      {
                        "bin_start": 0.4,
                        "bin_end": 0.5,
                        "count": 0
                      },
                      {
                        "bin_start": 0.5,
                        "bin_end": 0.6000000000000001,
                        "count": 0
                      },
                      {
                        "bin_start": 0.6000000000000001,
                        "bin_end": 0.7000000000000001,
                        "count": 0
                      },
                      {
                        "bin_start": 0.7000000000000001,
                        "bin_end": 0.8,
                        "count": 0
                      },
                      {
                        "bin_start": 0.8,
                        "bin_end": 0.9,
                        "count": 0
                      },
                      {
                        "bin_start": 0.9,
                        "bin_end": 1,
                        "count": 12
                      }
                    ]
                  }
                },
                {
                  "name": "Category_Clothing/Accessories",
                  "dtype": "uint8",
                  "stats": {
                    "unique_count": 2,
                    "nan_count": 0,
                    "min": 0,
                    "max": 1,
                    "histogram": [
                      {
                        "bin_start": 0,
                        "bin_end": 0.1,
                        "count": 1108
                      },
                      {
                        "bin_start": 0.1,
                        "bin_end": 0.2,
                        "count": 0
                      },
                      {
                        "bin_start": 0.2,
                        "bin_end": 0.30000000000000004,
                        "count": 0
                      },
                      {
                        "bin_start": 0.30000000000000004,
                        "bin_end": 0.4,
                        "count": 0
                      },
                      {
                        "bin_start": 0.4,
                        "bin_end": 0.5,
                        "count": 0
                      },
                      {
                        "bin_start": 0.5,
                        "bin_end": 0.6000000000000001,
                        "count": 0
                      },
                      {
                        "bin_start": 0.6000000000000001,
                        "bin_end": 0.7000000000000001,
                        "count": 0
                      },
                      {
                        "bin_start": 0.7000000000000001,
                        "bin_end": 0.8,
                        "count": 0
                      },
                      {
                        "bin_start": 0.8,
                        "bin_end": 0.9,
                        "count": 0
                      },
                      {
                        "bin_start": 0.9,
                        "bin_end": 1,
                        "count": 75
                      }
                    ]
                  }
                },
                {
                  "name": "Category_Coins/Stamps",
                  "dtype": "uint8",
                  "stats": {
                    "unique_count": 2,
                    "nan_count": 0,
                    "min": 0,
                    "max": 1,
                    "histogram": [
                      {
                        "bin_start": 0,
                        "bin_end": 0.1,
                        "count": 1160
                      },
                      {
                        "bin_start": 0.1,
                        "bin_end": 0.2,
                        "count": 0
                      },
                      {
                        "bin_start": 0.2,
                        "bin_end": 0.30000000000000004,
                        "count": 0
                      },
                      {
                        "bin_start": 0.30000000000000004,
                        "bin_end": 0.4,
                        "count": 0
                      },
                      {
                        "bin_start": 0.4,
                        "bin_end": 0.5,
                        "count": 0
                      },
                      {
                        "bin_start": 0.5,
                        "bin_end": 0.6000000000000001,
                        "count": 0
                      },
                      {
                        "bin_start": 0.6000000000000001,
                        "bin_end": 0.7000000000000001,
                        "count": 0
                      },
                      {
                        "bin_start": 0.7000000000000001,
                        "bin_end": 0.8,
                        "count": 0
                      },
                      {
                        "bin_start": 0.8,
                        "bin_end": 0.9,
                        "count": 0
                      },
                      {
                        "bin_start": 0.9,
                        "bin_end": 1,
                        "count": 23
                      }
                    ]
                  }
                },
                {
                  "name": "Category_Collectibles",
                  "dtype": "uint8",
                  "stats": {
                    "unique_count": 2,
                    "nan_count": 0,
                    "min": 0,
                    "max": 1,
                    "histogram": [
                      {
                        "bin_start": 0,
                        "bin_end": 0.1,
                        "count": 1036
                      },
                      {
                        "bin_start": 0.1,
                        "bin_end": 0.2,
                        "count": 0
                      },
                      {
                        "bin_start": 0.2,
                        "bin_end": 0.30000000000000004,
                        "count": 0
                      },
                      {
                        "bin_start": 0.30000000000000004,
                        "bin_end": 0.4,
                        "count": 0
                      },
                      {
                        "bin_start": 0.4,
                        "bin_end": 0.5,
                        "count": 0
                      },
                      {
                        "bin_start": 0.5,
                        "bin_end": 0.6000000000000001,
                        "count": 0
                      },
                      {
                        "bin_start": 0.6000000000000001,
                        "bin_end": 0.7000000000000001,
                        "count": 0
                      },
                      {
                        "bin_start": 0.7000000000000001,
                        "bin_end": 0.8,
                        "count": 0
                      },
                      {
                        "bin_start": 0.8,
                        "bin_end": 0.9,
                        "count": 0
                      },
                      {
                        "bin_start": 0.9,
                        "bin_end": 1,
                        "count": 147
                      }
                    ]
                  }
                },
                {
                  "name": "Category_Computer",
                  "dtype": "uint8",
                  "stats": {
                    "unique_count": 2,
                    "nan_count": 0,
                    "min": 0,
                    "max": 1,
                    "histogram": [
                      {
                        "bin_start": 0,
                        "bin_end": 0.1,
                        "count": 1160
                      },
                      {
                        "bin_start": 0.1,
                        "bin_end": 0.2,
                        "count": 0
                      },
                      {
                        "bin_start": 0.2,
                        "bin_end": 0.30000000000000004,
                        "count": 0
                      },
                      {
                        "bin_start": 0.30000000000000004,
                        "bin_end": 0.4,
                        "count": 0
                      },
                      {
                        "bin_start": 0.4,
                        "bin_end": 0.5,
                        "count": 0
                      },
                      {
                        "bin_start": 0.5,
                        "bin_end": 0.6000000000000001,
                        "count": 0
                      },
                      {
                        "bin_start": 0.6000000000000001,
                        "bin_end": 0.7000000000000001,
                        "count": 0
                      },
                      {
                        "bin_start": 0.7000000000000001,
                        "bin_end": 0.8,
                        "count": 0
                      },
                      {
                        "bin_start": 0.8,
                        "bin_end": 0.9,
                        "count": 0
                      },
                      {
                        "bin_start": 0.9,
                        "bin_end": 1,
                        "count": 23
                      }
                    ]
                  }
                },
                {
                  "name": "Category_Electronics",
                  "dtype": "uint8",
                  "stats": {
                    "unique_count": 2,
                    "nan_count": 0,
                    "min": 0,
                    "max": 1,
                    "histogram": [
                      {
                        "bin_start": 0,
                        "bin_end": 0.1,
                        "count": 1153
                      },
                      {
                        "bin_start": 0.1,
                        "bin_end": 0.2,
                        "count": 0
                      },
                      {
                        "bin_start": 0.2,
                        "bin_end": 0.30000000000000004,
                        "count": 0
                      },
                      {
                        "bin_start": 0.30000000000000004,
                        "bin_end": 0.4,
                        "count": 0
                      },
                      {
                        "bin_start": 0.4,
                        "bin_end": 0.5,
                        "count": 0
                      },
                      {
                        "bin_start": 0.5,
                        "bin_end": 0.6000000000000001,
                        "count": 0
                      },
                      {
                        "bin_start": 0.6000000000000001,
                        "bin_end": 0.7000000000000001,
                        "count": 0
                      },
                      {
                        "bin_start": 0.7000000000000001,
                        "bin_end": 0.8,
                        "count": 0
                      },
                      {
                        "bin_start": 0.8,
                        "bin_end": 0.9,
                        "count": 0
                      },
                      {
                        "bin_start": 0.9,
                        "bin_end": 1,
                        "count": 30
                      }
                    ]
                  }
                },
                {
                  "name": "Category_EverythingElse",
                  "dtype": "uint8",
                  "stats": {
                    "unique_count": 2,
                    "nan_count": 0,
                    "min": 0,
                    "max": 1,
                    "histogram": [
                      {
                        "bin_start": 0,
                        "bin_end": 0.1,
                        "count": 1172
                      },
                      {
                        "bin_start": 0.1,
                        "bin_end": 0.2,
                        "count": 0
                      },
                      {
                        "bin_start": 0.2,
                        "bin_end": 0.30000000000000004,
                        "count": 0
                      },
                      {
                        "bin_start": 0.30000000000000004,
                        "bin_end": 0.4,
                        "count": 0
                      },
                      {
                        "bin_start": 0.4,
                        "bin_end": 0.5,
                        "count": 0
                      },
                      {
                        "bin_start": 0.5,
                        "bin_end": 0.6000000000000001,
                        "count": 0
                      },
                      {
                        "bin_start": 0.6000000000000001,
                        "bin_end": 0.7000000000000001,
                        "count": 0
                      },
                      {
                        "bin_start": 0.7000000000000001,
                        "bin_end": 0.8,
                        "count": 0
                      },
                      {
                        "bin_start": 0.8,
                        "bin_end": 0.9,
                        "count": 0
                      },
                      {
                        "bin_start": 0.9,
                        "bin_end": 1,
                        "count": 11
                      }
                    ]
                  }
                },
                {
                  "name": "Category_Health/Beauty",
                  "dtype": "uint8",
                  "stats": {
                    "unique_count": 2,
                    "nan_count": 0,
                    "min": 0,
                    "max": 1,
                    "histogram": [
                      {
                        "bin_start": 0,
                        "bin_end": 0.1,
                        "count": 1139
                      },
                      {
                        "bin_start": 0.1,
                        "bin_end": 0.2,
                        "count": 0
                      },
                      {
                        "bin_start": 0.2,
                        "bin_end": 0.30000000000000004,
                        "count": 0
                      },
                      {
                        "bin_start": 0.30000000000000004,
                        "bin_end": 0.4,
                        "count": 0
                      },
                      {
                        "bin_start": 0.4,
                        "bin_end": 0.5,
                        "count": 0
                      },
                      {
                        "bin_start": 0.5,
                        "bin_end": 0.6000000000000001,
                        "count": 0
                      },
                      {
                        "bin_start": 0.6000000000000001,
                        "bin_end": 0.7000000000000001,
                        "count": 0
                      },
                      {
                        "bin_start": 0.7000000000000001,
                        "bin_end": 0.8,
                        "count": 0
                      },
                      {
                        "bin_start": 0.8,
                        "bin_end": 0.9,
                        "count": 0
                      },
                      {
                        "bin_start": 0.9,
                        "bin_end": 1,
                        "count": 44
                      }
                    ]
                  }
                },
                {
                  "name": "Category_Home/Garden",
                  "dtype": "uint8",
                  "stats": {
                    "unique_count": 2,
                    "nan_count": 0,
                    "min": 0,
                    "max": 1,
                    "histogram": [
                      {
                        "bin_start": 0,
                        "bin_end": 0.1,
                        "count": 1122
                      },
                      {
                        "bin_start": 0.1,
                        "bin_end": 0.2,
                        "count": 0
                      },
                      {
                        "bin_start": 0.2,
                        "bin_end": 0.30000000000000004,
                        "count": 0
                      },
                      {
                        "bin_start": 0.30000000000000004,
                        "bin_end": 0.4,
                        "count": 0
                      },
                      {
                        "bin_start": 0.4,
                        "bin_end": 0.5,
                        "count": 0
                      },
                      {
                        "bin_start": 0.5,
                        "bin_end": 0.6000000000000001,
                        "count": 0
                      },
                      {
                        "bin_start": 0.6000000000000001,
                        "bin_end": 0.7000000000000001,
                        "count": 0
                      },
                      {
                        "bin_start": 0.7000000000000001,
                        "bin_end": 0.8,
                        "count": 0
                      },
                      {
                        "bin_start": 0.8,
                        "bin_end": 0.9,
                        "count": 0
                      },
                      {
                        "bin_start": 0.9,
                        "bin_end": 1,
                        "count": 61
                      }
                    ]
                  }
                },
                {
                  "name": "Category_Jewelry",
                  "dtype": "uint8",
                  "stats": {
                    "unique_count": 2,
                    "nan_count": 0,
                    "min": 0,
                    "max": 1,
                    "histogram": [
                      {
                        "bin_start": 0,
                        "bin_end": 0.1,
                        "count": 1141
                      },
                      {
                        "bin_start": 0.1,
                        "bin_end": 0.2,
                        "count": 0
                      },
                      {
                        "bin_start": 0.2,
                        "bin_end": 0.30000000000000004,
                        "count": 0
                      },
                      {
                        "bin_start": 0.30000000000000004,
                        "bin_end": 0.4,
                        "count": 0
                      },
                      {
                        "bin_start": 0.4,
                        "bin_end": 0.5,
                        "count": 0
                      },
                      {
                        "bin_start": 0.5,
                        "bin_end": 0.6000000000000001,
                        "count": 0
                      },
                      {
                        "bin_start": 0.6000000000000001,
                        "bin_end": 0.7000000000000001,
                        "count": 0
                      },
                      {
                        "bin_start": 0.7000000000000001,
                        "bin_end": 0.8,
                        "count": 0
                      },
                      {
                        "bin_start": 0.8,
                        "bin_end": 0.9,
                        "count": 0
                      },
                      {
                        "bin_start": 0.9,
                        "bin_end": 1,
                        "count": 42
                      }
                    ]
                  }
                },
                {
                  "name": "Category_Music/Movie/Game",
                  "dtype": "uint8",
                  "stats": {
                    "unique_count": 2,
                    "nan_count": 0,
                    "min": 0,
                    "max": 1,
                    "histogram": [
                      {
                        "bin_start": 0,
                        "bin_end": 0.1,
                        "count": 944
                      },
                      {
                        "bin_start": 0.1,
                        "bin_end": 0.2,
                        "count": 0
                      },
                      {
                        "bin_start": 0.2,
                        "bin_end": 0.30000000000000004,
                        "count": 0
                      },
                      {
                        "bin_start": 0.30000000000000004,
                        "bin_end": 0.4,
                        "count": 0
                      },
                      {
                        "bin_start": 0.4,
                        "bin_end": 0.5,
                        "count": 0
                      },
                      {
                        "bin_start": 0.5,
                        "bin_end": 0.6000000000000001,
                        "count": 0
                      },
                      {
                        "bin_start": 0.6000000000000001,
                        "bin_end": 0.7000000000000001,
                        "count": 0
                      },
                      {
                        "bin_start": 0.7000000000000001,
                        "bin_end": 0.8,
                        "count": 0
                      },
                      {
                        "bin_start": 0.8,
                        "bin_end": 0.9,
                        "count": 0
                      },
                      {
                        "bin_start": 0.9,
                        "bin_end": 1,
                        "count": 239
                      }
                    ]
                  }
                },
                {
                  "name": "Category_Photography",
                  "dtype": "uint8",
                  "stats": {
                    "unique_count": 2,
                    "nan_count": 0,
                    "min": 0,
                    "max": 1,
                    "histogram": [
                      {
                        "bin_start": 0,
                        "bin_end": 0.1,
                        "count": 1175
                      },
                      {
                        "bin_start": 0.1,
                        "bin_end": 0.2,
                        "count": 0
                      },
                      {
                        "bin_start": 0.2,
                        "bin_end": 0.30000000000000004,
                        "count": 0
                      },
                      {
                        "bin_start": 0.30000000000000004,
                        "bin_end": 0.4,
                        "count": 0
                      },
                      {
                        "bin_start": 0.4,
                        "bin_end": 0.5,
                        "count": 0
                      },
                      {
                        "bin_start": 0.5,
                        "bin_end": 0.6000000000000001,
                        "count": 0
                      },
                      {
                        "bin_start": 0.6000000000000001,
                        "bin_end": 0.7000000000000001,
                        "count": 0
                      },
                      {
                        "bin_start": 0.7000000000000001,
                        "bin_end": 0.8,
                        "count": 0
                      },
                      {
                        "bin_start": 0.8,
                        "bin_end": 0.9,
                        "count": 0
                      },
                      {
                        "bin_start": 0.9,
                        "bin_end": 1,
                        "count": 8
                      }
                    ]
                  }
                },
                {
                  "name": "Category_Pottery/Glass",
                  "dtype": "uint8",
                  "stats": {
                    "unique_count": 2,
                    "nan_count": 0,
                    "min": 0,
                    "max": 1,
                    "histogram": [
                      {
                        "bin_start": 0,
                        "bin_end": 0.1,
                        "count": 1169
                      },
                      {
                        "bin_start": 0.1,
                        "bin_end": 0.2,
                        "count": 0
                      },
                      {
                        "bin_start": 0.2,
                        "bin_end": 0.30000000000000004,
                        "count": 0
                      },
                      {
                        "bin_start": 0.30000000000000004,
                        "bin_end": 0.4,
                        "count": 0
                      },
                      {
                        "bin_start": 0.4,
                        "bin_end": 0.5,
                        "count": 0
                      },
                      {
                        "bin_start": 0.5,
                        "bin_end": 0.6000000000000001,
                        "count": 0
                      },
                      {
                        "bin_start": 0.6000000000000001,
                        "bin_end": 0.7000000000000001,
                        "count": 0
                      },
                      {
                        "bin_start": 0.7000000000000001,
                        "bin_end": 0.8,
                        "count": 0
                      },
                      {
                        "bin_start": 0.8,
                        "bin_end": 0.9,
                        "count": 0
                      },
                      {
                        "bin_start": 0.9,
                        "bin_end": 1,
                        "count": 14
                      }
                    ]
                  }
                },
                {
                  "name": "Category_SportingGoods",
                  "dtype": "uint8",
                  "stats": {
                    "unique_count": 2,
                    "nan_count": 0,
                    "min": 0,
                    "max": 1,
                    "histogram": [
                      {
                        "bin_start": 0,
                        "bin_end": 0.1,
                        "count": 1103
                      },
                      {
                        "bin_start": 0.1,
                        "bin_end": 0.2,
                        "count": 0
                      },
                      {
                        "bin_start": 0.2,
                        "bin_end": 0.30000000000000004,
                        "count": 0
                      },
                      {
                        "bin_start": 0.30000000000000004,
                        "bin_end": 0.4,
                        "count": 0
                      },
                      {
                        "bin_start": 0.4,
                        "bin_end": 0.5,
                        "count": 0
                      },
                      {
                        "bin_start": 0.5,
                        "bin_end": 0.6000000000000001,
                        "count": 0
                      },
                      {
                        "bin_start": 0.6000000000000001,
                        "bin_end": 0.7000000000000001,
                        "count": 0
                      },
                      {
                        "bin_start": 0.7000000000000001,
                        "bin_end": 0.8,
                        "count": 0
                      },
                      {
                        "bin_start": 0.8,
                        "bin_end": 0.9,
                        "count": 0
                      },
                      {
                        "bin_start": 0.9,
                        "bin_end": 1,
                        "count": 80
                      }
                    ]
                  }
                },
                {
                  "name": "Category_Toys/Hobbies",
                  "dtype": "uint8",
                  "stats": {
                    "unique_count": 2,
                    "nan_count": 0,
                    "min": 0,
                    "max": 1,
                    "histogram": [
                      {
                        "bin_start": 0,
                        "bin_end": 0.1,
                        "count": 1055
                      },
                      {
                        "bin_start": 0.1,
                        "bin_end": 0.2,
                        "count": 0
                      },
                      {
                        "bin_start": 0.2,
                        "bin_end": 0.30000000000000004,
                        "count": 0
                      },
                      {
                        "bin_start": 0.30000000000000004,
                        "bin_end": 0.4,
                        "count": 0
                      },
                      {
                        "bin_start": 0.4,
                        "bin_end": 0.5,
                        "count": 0
                      },
                      {
                        "bin_start": 0.5,
                        "bin_end": 0.6000000000000001,
                        "count": 0
                      },
                      {
                        "bin_start": 0.6000000000000001,
                        "bin_end": 0.7000000000000001,
                        "count": 0
                      },
                      {
                        "bin_start": 0.7000000000000001,
                        "bin_end": 0.8,
                        "count": 0
                      },
                      {
                        "bin_start": 0.8,
                        "bin_end": 0.9,
                        "count": 0
                      },
                      {
                        "bin_start": 0.9,
                        "bin_end": 1,
                        "count": 128
                      }
                    ]
                  }
                },
                {
                  "name": "currency_GBP",
                  "dtype": "uint8",
                  "stats": {
                    "unique_count": 2,
                    "nan_count": 0,
                    "min": 0,
                    "max": 1,
                    "histogram": [
                      {
                        "bin_start": 0,
                        "bin_end": 0.1,
                        "count": 1090
                      },
                      {
                        "bin_start": 0.1,
                        "bin_end": 0.2,
                        "count": 0
                      },
                      {
                        "bin_start": 0.2,
                        "bin_end": 0.30000000000000004,
                        "count": 0
                      },
                      {
                        "bin_start": 0.30000000000000004,
                        "bin_end": 0.4,
                        "count": 0
                      },
                      {
                        "bin_start": 0.4,
                        "bin_end": 0.5,
                        "count": 0
                      },
                      {
                        "bin_start": 0.5,
                        "bin_end": 0.6000000000000001,
                        "count": 0
                      },
                      {
                        "bin_start": 0.6000000000000001,
                        "bin_end": 0.7000000000000001,
                        "count": 0
                      },
                      {
                        "bin_start": 0.7000000000000001,
                        "bin_end": 0.8,
                        "count": 0
                      },
                      {
                        "bin_start": 0.8,
                        "bin_end": 0.9,
                        "count": 0
                      },
                      {
                        "bin_start": 0.9,
                        "bin_end": 1,
                        "count": 93
                      }
                    ]
                  }
                },
                {
                  "name": "currency_US",
                  "dtype": "uint8",
                  "stats": {
                    "unique_count": 2,
                    "nan_count": 0,
                    "min": 0,
                    "max": 1,
                    "histogram": [
                      {
                        "bin_start": 0,
                        "bin_end": 0.1,
                        "count": 412
                      },
                      {
                        "bin_start": 0.1,
                        "bin_end": 0.2,
                        "count": 0
                      },
                      {
                        "bin_start": 0.2,
                        "bin_end": 0.30000000000000004,
                        "count": 0
                      },
                      {
                        "bin_start": 0.30000000000000004,
                        "bin_end": 0.4,
                        "count": 0
                      },
                      {
                        "bin_start": 0.4,
                        "bin_end": 0.5,
                        "count": 0
                      },
                      {
                        "bin_start": 0.5,
                        "bin_end": 0.6000000000000001,
                        "count": 0
                      },
                      {
                        "bin_start": 0.6000000000000001,
                        "bin_end": 0.7000000000000001,
                        "count": 0
                      },
                      {
                        "bin_start": 0.7000000000000001,
                        "bin_end": 0.8,
                        "count": 0
                      },
                      {
                        "bin_start": 0.8,
                        "bin_end": 0.9,
                        "count": 0
                      },
                      {
                        "bin_start": 0.9,
                        "bin_end": 1,
                        "count": 771
                      }
                    ]
                  }
                },
                {
                  "name": "endDay_Mon",
                  "dtype": "uint8",
                  "stats": {
                    "unique_count": 2,
                    "nan_count": 0,
                    "min": 0,
                    "max": 1,
                    "histogram": [
                      {
                        "bin_start": 0,
                        "bin_end": 0.1,
                        "count": 850
                      },
                      {
                        "bin_start": 0.1,
                        "bin_end": 0.2,
                        "count": 0
                      },
                      {
                        "bin_start": 0.2,
                        "bin_end": 0.30000000000000004,
                        "count": 0
                      },
                      {
                        "bin_start": 0.30000000000000004,
                        "bin_end": 0.4,
                        "count": 0
                      },
                      {
                        "bin_start": 0.4,
                        "bin_end": 0.5,
                        "count": 0
                      },
                      {
                        "bin_start": 0.5,
                        "bin_end": 0.6000000000000001,
                        "count": 0
                      },
                      {
                        "bin_start": 0.6000000000000001,
                        "bin_end": 0.7000000000000001,
                        "count": 0
                      },
                      {
                        "bin_start": 0.7000000000000001,
                        "bin_end": 0.8,
                        "count": 0
                      },
                      {
                        "bin_start": 0.8,
                        "bin_end": 0.9,
                        "count": 0
                      },
                      {
                        "bin_start": 0.9,
                        "bin_end": 1,
                        "count": 333
                      }
                    ]
                  }
                },
                {
                  "name": "endDay_Sat",
                  "dtype": "uint8",
                  "stats": {
                    "unique_count": 2,
                    "nan_count": 0,
                    "min": 0,
                    "max": 1,
                    "histogram": [
                      {
                        "bin_start": 0,
                        "bin_end": 0.1,
                        "count": 981
                      },
                      {
                        "bin_start": 0.1,
                        "bin_end": 0.2,
                        "count": 0
                      },
                      {
                        "bin_start": 0.2,
                        "bin_end": 0.30000000000000004,
                        "count": 0
                      },
                      {
                        "bin_start": 0.30000000000000004,
                        "bin_end": 0.4,
                        "count": 0
                      },
                      {
                        "bin_start": 0.4,
                        "bin_end": 0.5,
                        "count": 0
                      },
                      {
                        "bin_start": 0.5,
                        "bin_end": 0.6000000000000001,
                        "count": 0
                      },
                      {
                        "bin_start": 0.6000000000000001,
                        "bin_end": 0.7000000000000001,
                        "count": 0
                      },
                      {
                        "bin_start": 0.7000000000000001,
                        "bin_end": 0.8,
                        "count": 0
                      },
                      {
                        "bin_start": 0.8,
                        "bin_end": 0.9,
                        "count": 0
                      },
                      {
                        "bin_start": 0.9,
                        "bin_end": 1,
                        "count": 202
                      }
                    ]
                  }
                },
                {
                  "name": "endDay_Sun",
                  "dtype": "uint8",
                  "stats": {
                    "unique_count": 2,
                    "nan_count": 0,
                    "min": 0,
                    "max": 1,
                    "histogram": [
                      {
                        "bin_start": 0,
                        "bin_end": 0.1,
                        "count": 968
                      },
                      {
                        "bin_start": 0.1,
                        "bin_end": 0.2,
                        "count": 0
                      },
                      {
                        "bin_start": 0.2,
                        "bin_end": 0.30000000000000004,
                        "count": 0
                      },
                      {
                        "bin_start": 0.30000000000000004,
                        "bin_end": 0.4,
                        "count": 0
                      },
                      {
                        "bin_start": 0.4,
                        "bin_end": 0.5,
                        "count": 0
                      },
                      {
                        "bin_start": 0.5,
                        "bin_end": 0.6000000000000001,
                        "count": 0
                      },
                      {
                        "bin_start": 0.6000000000000001,
                        "bin_end": 0.7000000000000001,
                        "count": 0
                      },
                      {
                        "bin_start": 0.7000000000000001,
                        "bin_end": 0.8,
                        "count": 0
                      },
                      {
                        "bin_start": 0.8,
                        "bin_end": 0.9,
                        "count": 0
                      },
                      {
                        "bin_start": 0.9,
                        "bin_end": 1,
                        "count": 215
                      }
                    ]
                  }
                },
                {
                  "name": "endDay_Thu",
                  "dtype": "uint8",
                  "stats": {
                    "unique_count": 2,
                    "nan_count": 0,
                    "min": 0,
                    "max": 1,
                    "histogram": [
                      {
                        "bin_start": 0,
                        "bin_end": 0.1,
                        "count": 1059
                      },
                      {
                        "bin_start": 0.1,
                        "bin_end": 0.2,
                        "count": 0
                      },
                      {
                        "bin_start": 0.2,
                        "bin_end": 0.30000000000000004,
                        "count": 0
                      },
                      {
                        "bin_start": 0.30000000000000004,
                        "bin_end": 0.4,
                        "count": 0
                      },
                      {
                        "bin_start": 0.4,
                        "bin_end": 0.5,
                        "count": 0
                      },
                      {
                        "bin_start": 0.5,
                        "bin_end": 0.6000000000000001,
                        "count": 0
                      },
                      {
                        "bin_start": 0.6000000000000001,
                        "bin_end": 0.7000000000000001,
                        "count": 0
                      },
                      {
                        "bin_start": 0.7000000000000001,
                        "bin_end": 0.8,
                        "count": 0
                      },
                      {
                        "bin_start": 0.8,
                        "bin_end": 0.9,
                        "count": 0
                      },
                      {
                        "bin_start": 0.9,
                        "bin_end": 1,
                        "count": 124
                      }
                    ]
                  }
                },
                {
                  "name": "endDay_Tue",
                  "dtype": "uint8",
                  "stats": {
                    "unique_count": 2,
                    "nan_count": 0,
                    "min": 0,
                    "max": 1,
                    "histogram": [
                      {
                        "bin_start": 0,
                        "bin_end": 0.1,
                        "count": 1079
                      },
                      {
                        "bin_start": 0.1,
                        "bin_end": 0.2,
                        "count": 0
                      },
                      {
                        "bin_start": 0.2,
                        "bin_end": 0.30000000000000004,
                        "count": 0
                      },
                      {
                        "bin_start": 0.30000000000000004,
                        "bin_end": 0.4,
                        "count": 0
                      },
                      {
                        "bin_start": 0.4,
                        "bin_end": 0.5,
                        "count": 0
                      },
                      {
                        "bin_start": 0.5,
                        "bin_end": 0.6000000000000001,
                        "count": 0
                      },
                      {
                        "bin_start": 0.6000000000000001,
                        "bin_end": 0.7000000000000001,
                        "count": 0
                      },
                      {
                        "bin_start": 0.7000000000000001,
                        "bin_end": 0.8,
                        "count": 0
                      },
                      {
                        "bin_start": 0.8,
                        "bin_end": 0.9,
                        "count": 0
                      },
                      {
                        "bin_start": 0.9,
                        "bin_end": 1,
                        "count": 104
                      }
                    ]
                  }
                },
                {
                  "name": "endDay_Wed",
                  "dtype": "uint8",
                  "stats": {
                    "unique_count": 2,
                    "nan_count": 0,
                    "min": 0,
                    "max": 1,
                    "histogram": [
                      {
                        "bin_start": 0,
                        "bin_end": 0.1,
                        "count": 1144
                      },
                      {
                        "bin_start": 0.1,
                        "bin_end": 0.2,
                        "count": 0
                      },
                      {
                        "bin_start": 0.2,
                        "bin_end": 0.30000000000000004,
                        "count": 0
                      },
                      {
                        "bin_start": 0.30000000000000004,
                        "bin_end": 0.4,
                        "count": 0
                      },
                      {
                        "bin_start": 0.4,
                        "bin_end": 0.5,
                        "count": 0
                      },
                      {
                        "bin_start": 0.5,
                        "bin_end": 0.6000000000000001,
                        "count": 0
                      },
                      {
                        "bin_start": 0.6000000000000001,
                        "bin_end": 0.7000000000000001,
                        "count": 0
                      },
                      {
                        "bin_start": 0.7000000000000001,
                        "bin_end": 0.8,
                        "count": 0
                      },
                      {
                        "bin_start": 0.8,
                        "bin_end": 0.9,
                        "count": 0
                      },
                      {
                        "bin_start": 0.9,
                        "bin_end": 1,
                        "count": 39
                      }
                    ]
                  }
                },
                {
                  "name": "_deepnote_index_column",
                  "dtype": "int64"
                }
              ],
              "rows_top": [
                {
                  "sellerRating": 578,
                  "Duration": 10,
                  "ClosePrice": 4.93,
                  "OpenPrice": 2.45,
                  "Category_Automotive": 0,
                  "Category_Books": 0,
                  "Category_Business/Industrial": 0,
                  "Category_Clothing/Accessories": 0,
                  "Category_Coins/Stamps": 0,
                  "Category_Collectibles": 1,
                  "Category_Computer": 0,
                  "Category_Electronics": 0,
                  "Category_EverythingElse": 0,
                  "Category_Health/Beauty": 0,
                  "Category_Home/Garden": 0,
                  "Category_Jewelry": 0,
                  "Category_Music/Movie/Game": 0,
                  "Category_Photography": 0,
                  "Category_Pottery/Glass": 0,
                  "Category_SportingGoods": 0,
                  "Category_Toys/Hobbies": 0,
                  "currency_GBP": 0,
                  "currency_US": 0,
                  "endDay_Mon": 1,
                  "endDay_Sat": 0,
                  "endDay_Sun": 0,
                  "endDay_Thu": 0,
                  "endDay_Tue": 0,
                  "endDay_Wed": 0,
                  "_deepnote_index_column": 503
                },
                {
                  "sellerRating": 2349,
                  "Duration": 7,
                  "ClosePrice": 5.61,
                  "OpenPrice": 3.6,
                  "Category_Automotive": 0,
                  "Category_Books": 0,
                  "Category_Business/Industrial": 0,
                  "Category_Clothing/Accessories": 0,
                  "Category_Coins/Stamps": 0,
                  "Category_Collectibles": 0,
                  "Category_Computer": 0,
                  "Category_Electronics": 0,
                  "Category_EverythingElse": 0,
                  "Category_Health/Beauty": 0,
                  "Category_Home/Garden": 0,
                  "Category_Jewelry": 0,
                  "Category_Music/Movie/Game": 0,
                  "Category_Photography": 0,
                  "Category_Pottery/Glass": 0,
                  "Category_SportingGoods": 0,
                  "Category_Toys/Hobbies": 0,
                  "currency_GBP": 0,
                  "currency_US": 1,
                  "endDay_Mon": 0,
                  "endDay_Sat": 0,
                  "endDay_Sun": 0,
                  "endDay_Thu": 0,
                  "endDay_Tue": 0,
                  "endDay_Wed": 0,
                  "_deepnote_index_column": 733
                },
                {
                  "sellerRating": 884,
                  "Duration": 10,
                  "ClosePrice": 2.45,
                  "OpenPrice": 2.45,
                  "Category_Automotive": 0,
                  "Category_Books": 0,
                  "Category_Business/Industrial": 0,
                  "Category_Clothing/Accessories": 0,
                  "Category_Coins/Stamps": 0,
                  "Category_Collectibles": 1,
                  "Category_Computer": 0,
                  "Category_Electronics": 0,
                  "Category_EverythingElse": 0,
                  "Category_Health/Beauty": 0,
                  "Category_Home/Garden": 0,
                  "Category_Jewelry": 0,
                  "Category_Music/Movie/Game": 0,
                  "Category_Photography": 0,
                  "Category_Pottery/Glass": 0,
                  "Category_SportingGoods": 0,
                  "Category_Toys/Hobbies": 0,
                  "currency_GBP": 0,
                  "currency_US": 0,
                  "endDay_Mon": 1,
                  "endDay_Sat": 0,
                  "endDay_Sun": 0,
                  "endDay_Thu": 0,
                  "endDay_Tue": 0,
                  "endDay_Wed": 0,
                  "_deepnote_index_column": 383
                },
                {
                  "sellerRating": 2349,
                  "Duration": 7,
                  "ClosePrice": 5.5,
                  "OpenPrice": 3.6,
                  "Category_Automotive": 0,
                  "Category_Books": 0,
                  "Category_Business/Industrial": 0,
                  "Category_Clothing/Accessories": 0,
                  "Category_Coins/Stamps": 0,
                  "Category_Collectibles": 0,
                  "Category_Computer": 0,
                  "Category_Electronics": 0,
                  "Category_EverythingElse": 0,
                  "Category_Health/Beauty": 0,
                  "Category_Home/Garden": 0,
                  "Category_Jewelry": 0,
                  "Category_Music/Movie/Game": 0,
                  "Category_Photography": 0,
                  "Category_Pottery/Glass": 0,
                  "Category_SportingGoods": 0,
                  "Category_Toys/Hobbies": 0,
                  "currency_GBP": 0,
                  "currency_US": 1,
                  "endDay_Mon": 0,
                  "endDay_Sat": 0,
                  "endDay_Sun": 0,
                  "endDay_Thu": 0,
                  "endDay_Tue": 0,
                  "endDay_Wed": 0,
                  "_deepnote_index_column": 725
                },
                {
                  "sellerRating": 104,
                  "Duration": 7,
                  "ClosePrice": 3.07,
                  "OpenPrice": 1.23,
                  "Category_Automotive": 0,
                  "Category_Books": 0,
                  "Category_Business/Industrial": 0,
                  "Category_Clothing/Accessories": 0,
                  "Category_Coins/Stamps": 0,
                  "Category_Collectibles": 0,
                  "Category_Computer": 0,
                  "Category_Electronics": 0,
                  "Category_EverythingElse": 0,
                  "Category_Health/Beauty": 0,
                  "Category_Home/Garden": 0,
                  "Category_Jewelry": 0,
                  "Category_Music/Movie/Game": 1,
                  "Category_Photography": 0,
                  "Category_Pottery/Glass": 0,
                  "Category_SportingGoods": 0,
                  "Category_Toys/Hobbies": 0,
                  "currency_GBP": 0,
                  "currency_US": 0,
                  "endDay_Mon": 1,
                  "endDay_Sat": 0,
                  "endDay_Sun": 0,
                  "endDay_Thu": 0,
                  "endDay_Tue": 0,
                  "endDay_Wed": 0,
                  "_deepnote_index_column": 310
                },
                {
                  "sellerRating": 2349,
                  "Duration": 7,
                  "ClosePrice": 3.6,
                  "OpenPrice": 3.6,
                  "Category_Automotive": 0,
                  "Category_Books": 0,
                  "Category_Business/Industrial": 0,
                  "Category_Clothing/Accessories": 0,
                  "Category_Coins/Stamps": 0,
                  "Category_Collectibles": 0,
                  "Category_Computer": 0,
                  "Category_Electronics": 0,
                  "Category_EverythingElse": 0,
                  "Category_Health/Beauty": 0,
                  "Category_Home/Garden": 0,
                  "Category_Jewelry": 0,
                  "Category_Music/Movie/Game": 0,
                  "Category_Photography": 0,
                  "Category_Pottery/Glass": 0,
                  "Category_SportingGoods": 0,
                  "Category_Toys/Hobbies": 0,
                  "currency_GBP": 0,
                  "currency_US": 1,
                  "endDay_Mon": 0,
                  "endDay_Sat": 0,
                  "endDay_Sun": 0,
                  "endDay_Thu": 0,
                  "endDay_Tue": 0,
                  "endDay_Wed": 0,
                  "_deepnote_index_column": 594
                },
                {
                  "sellerRating": 10067,
                  "Duration": 3,
                  "ClosePrice": 37.95,
                  "OpenPrice": 37.95,
                  "Category_Automotive": 1,
                  "Category_Books": 0,
                  "Category_Business/Industrial": 0,
                  "Category_Clothing/Accessories": 0,
                  "Category_Coins/Stamps": 0,
                  "Category_Collectibles": 0,
                  "Category_Computer": 0,
                  "Category_Electronics": 0,
                  "Category_EverythingElse": 0,
                  "Category_Health/Beauty": 0,
                  "Category_Home/Garden": 0,
                  "Category_Jewelry": 0,
                  "Category_Music/Movie/Game": 0,
                  "Category_Photography": 0,
                  "Category_Pottery/Glass": 0,
                  "Category_SportingGoods": 0,
                  "Category_Toys/Hobbies": 0,
                  "currency_GBP": 0,
                  "currency_US": 1,
                  "endDay_Mon": 0,
                  "endDay_Sat": 0,
                  "endDay_Sun": 0,
                  "endDay_Thu": 0,
                  "endDay_Tue": 0,
                  "endDay_Wed": 0,
                  "_deepnote_index_column": 1812
                },
                {
                  "sellerRating": 3385,
                  "Duration": 7,
                  "ClosePrice": 2.99,
                  "OpenPrice": 2.99,
                  "Category_Automotive": 0,
                  "Category_Books": 0,
                  "Category_Business/Industrial": 0,
                  "Category_Clothing/Accessories": 0,
                  "Category_Coins/Stamps": 0,
                  "Category_Collectibles": 1,
                  "Category_Computer": 0,
                  "Category_Electronics": 0,
                  "Category_EverythingElse": 0,
                  "Category_Health/Beauty": 0,
                  "Category_Home/Garden": 0,
                  "Category_Jewelry": 0,
                  "Category_Music/Movie/Game": 0,
                  "Category_Photography": 0,
                  "Category_Pottery/Glass": 0,
                  "Category_SportingGoods": 0,
                  "Category_Toys/Hobbies": 0,
                  "currency_GBP": 0,
                  "currency_US": 1,
                  "endDay_Mon": 0,
                  "endDay_Sat": 1,
                  "endDay_Sun": 0,
                  "endDay_Thu": 0,
                  "endDay_Tue": 0,
                  "endDay_Wed": 0,
                  "_deepnote_index_column": 520
                },
                {
                  "sellerRating": 4390,
                  "Duration": 7,
                  "ClosePrice": 6.49,
                  "OpenPrice": 6.49,
                  "Category_Automotive": 0,
                  "Category_Books": 0,
                  "Category_Business/Industrial": 0,
                  "Category_Clothing/Accessories": 0,
                  "Category_Coins/Stamps": 0,
                  "Category_Collectibles": 0,
                  "Category_Computer": 0,
                  "Category_Electronics": 0,
                  "Category_EverythingElse": 0,
                  "Category_Health/Beauty": 0,
                  "Category_Home/Garden": 0,
                  "Category_Jewelry": 0,
                  "Category_Music/Movie/Game": 0,
                  "Category_Photography": 0,
                  "Category_Pottery/Glass": 0,
                  "Category_SportingGoods": 0,
                  "Category_Toys/Hobbies": 0,
                  "currency_GBP": 0,
                  "currency_US": 1,
                  "endDay_Mon": 1,
                  "endDay_Sat": 0,
                  "endDay_Sun": 0,
                  "endDay_Thu": 0,
                  "endDay_Tue": 0,
                  "endDay_Wed": 0,
                  "_deepnote_index_column": 984
                },
                {
                  "sellerRating": 2944,
                  "Duration": 7,
                  "ClosePrice": 7,
                  "OpenPrice": 7,
                  "Category_Automotive": 0,
                  "Category_Books": 0,
                  "Category_Business/Industrial": 0,
                  "Category_Clothing/Accessories": 0,
                  "Category_Coins/Stamps": 0,
                  "Category_Collectibles": 0,
                  "Category_Computer": 0,
                  "Category_Electronics": 0,
                  "Category_EverythingElse": 0,
                  "Category_Health/Beauty": 0,
                  "Category_Home/Garden": 0,
                  "Category_Jewelry": 0,
                  "Category_Music/Movie/Game": 0,
                  "Category_Photography": 0,
                  "Category_Pottery/Glass": 0,
                  "Category_SportingGoods": 0,
                  "Category_Toys/Hobbies": 1,
                  "currency_GBP": 0,
                  "currency_US": 1,
                  "endDay_Mon": 0,
                  "endDay_Sat": 0,
                  "endDay_Sun": 0,
                  "endDay_Thu": 0,
                  "endDay_Tue": 1,
                  "endDay_Wed": 0,
                  "_deepnote_index_column": 1073
                },
                {
                  "sellerRating": 4390,
                  "Duration": 7,
                  "ClosePrice": 6.99,
                  "OpenPrice": 6.99,
                  "Category_Automotive": 0,
                  "Category_Books": 0,
                  "Category_Business/Industrial": 0,
                  "Category_Clothing/Accessories": 0,
                  "Category_Coins/Stamps": 0,
                  "Category_Collectibles": 0,
                  "Category_Computer": 0,
                  "Category_Electronics": 0,
                  "Category_EverythingElse": 0,
                  "Category_Health/Beauty": 0,
                  "Category_Home/Garden": 0,
                  "Category_Jewelry": 0,
                  "Category_Music/Movie/Game": 0,
                  "Category_Photography": 0,
                  "Category_Pottery/Glass": 0,
                  "Category_SportingGoods": 0,
                  "Category_Toys/Hobbies": 0,
                  "currency_GBP": 0,
                  "currency_US": 1,
                  "endDay_Mon": 1,
                  "endDay_Sat": 0,
                  "endDay_Sun": 0,
                  "endDay_Thu": 0,
                  "endDay_Tue": 0,
                  "endDay_Wed": 0,
                  "_deepnote_index_column": 1065
                },
                {
                  "sellerRating": 2349,
                  "Duration": 7,
                  "ClosePrice": 8,
                  "OpenPrice": 3.6,
                  "Category_Automotive": 0,
                  "Category_Books": 0,
                  "Category_Business/Industrial": 0,
                  "Category_Clothing/Accessories": 0,
                  "Category_Coins/Stamps": 0,
                  "Category_Collectibles": 0,
                  "Category_Computer": 0,
                  "Category_Electronics": 0,
                  "Category_EverythingElse": 0,
                  "Category_Health/Beauty": 0,
                  "Category_Home/Garden": 0,
                  "Category_Jewelry": 0,
                  "Category_Music/Movie/Game": 0,
                  "Category_Photography": 0,
                  "Category_Pottery/Glass": 0,
                  "Category_SportingGoods": 0,
                  "Category_Toys/Hobbies": 0,
                  "currency_GBP": 0,
                  "currency_US": 1,
                  "endDay_Mon": 0,
                  "endDay_Sat": 0,
                  "endDay_Sun": 0,
                  "endDay_Thu": 0,
                  "endDay_Tue": 0,
                  "endDay_Wed": 0,
                  "_deepnote_index_column": 870
                },
                {
                  "sellerRating": 5052,
                  "Duration": 10,
                  "ClosePrice": 30.85,
                  "OpenPrice": 11.07,
                  "Category_Automotive": 0,
                  "Category_Books": 0,
                  "Category_Business/Industrial": 0,
                  "Category_Clothing/Accessories": 0,
                  "Category_Coins/Stamps": 0,
                  "Category_Collectibles": 0,
                  "Category_Computer": 0,
                  "Category_Electronics": 0,
                  "Category_EverythingElse": 0,
                  "Category_Health/Beauty": 0,
                  "Category_Home/Garden": 0,
                  "Category_Jewelry": 0,
                  "Category_Music/Movie/Game": 1,
                  "Category_Photography": 0,
                  "Category_Pottery/Glass": 0,
                  "Category_SportingGoods": 0,
                  "Category_Toys/Hobbies": 0,
                  "currency_GBP": 0,
                  "currency_US": 0,
                  "endDay_Mon": 0,
                  "endDay_Sat": 0,
                  "endDay_Sun": 0,
                  "endDay_Thu": 0,
                  "endDay_Tue": 0,
                  "endDay_Wed": 1,
                  "_deepnote_index_column": 1546
                },
                {
                  "sellerRating": 104,
                  "Duration": 7,
                  "ClosePrice": 1.23,
                  "OpenPrice": 1.23,
                  "Category_Automotive": 0,
                  "Category_Books": 1,
                  "Category_Business/Industrial": 0,
                  "Category_Clothing/Accessories": 0,
                  "Category_Coins/Stamps": 0,
                  "Category_Collectibles": 0,
                  "Category_Computer": 0,
                  "Category_Electronics": 0,
                  "Category_EverythingElse": 0,
                  "Category_Health/Beauty": 0,
                  "Category_Home/Garden": 0,
                  "Category_Jewelry": 0,
                  "Category_Music/Movie/Game": 0,
                  "Category_Photography": 0,
                  "Category_Pottery/Glass": 0,
                  "Category_SportingGoods": 0,
                  "Category_Toys/Hobbies": 0,
                  "currency_GBP": 0,
                  "currency_US": 0,
                  "endDay_Mon": 1,
                  "endDay_Sat": 0,
                  "endDay_Sun": 0,
                  "endDay_Thu": 0,
                  "endDay_Tue": 0,
                  "endDay_Wed": 0,
                  "_deepnote_index_column": 205
                },
                {
                  "sellerRating": 2992,
                  "Duration": 5,
                  "ClosePrice": 93,
                  "OpenPrice": 82.95,
                  "Category_Automotive": 1,
                  "Category_Books": 0,
                  "Category_Business/Industrial": 0,
                  "Category_Clothing/Accessories": 0,
                  "Category_Coins/Stamps": 0,
                  "Category_Collectibles": 0,
                  "Category_Computer": 0,
                  "Category_Electronics": 0,
                  "Category_EverythingElse": 0,
                  "Category_Health/Beauty": 0,
                  "Category_Home/Garden": 0,
                  "Category_Jewelry": 0,
                  "Category_Music/Movie/Game": 0,
                  "Category_Photography": 0,
                  "Category_Pottery/Glass": 0,
                  "Category_SportingGoods": 0,
                  "Category_Toys/Hobbies": 0,
                  "currency_GBP": 0,
                  "currency_US": 1,
                  "endDay_Mon": 0,
                  "endDay_Sat": 0,
                  "endDay_Sun": 1,
                  "endDay_Thu": 0,
                  "endDay_Tue": 0,
                  "endDay_Wed": 0,
                  "_deepnote_index_column": 1903
                },
                {
                  "sellerRating": 141,
                  "Duration": 7,
                  "ClosePrice": 6.14,
                  "OpenPrice": 6.14,
                  "Category_Automotive": 0,
                  "Category_Books": 0,
                  "Category_Business/Industrial": 0,
                  "Category_Clothing/Accessories": 1,
                  "Category_Coins/Stamps": 0,
                  "Category_Collectibles": 0,
                  "Category_Computer": 0,
                  "Category_Electronics": 0,
                  "Category_EverythingElse": 0,
                  "Category_Health/Beauty": 0,
                  "Category_Home/Garden": 0,
                  "Category_Jewelry": 0,
                  "Category_Music/Movie/Game": 0,
                  "Category_Photography": 0,
                  "Category_Pottery/Glass": 0,
                  "Category_SportingGoods": 0,
                  "Category_Toys/Hobbies": 0,
                  "currency_GBP": 0,
                  "currency_US": 0,
                  "endDay_Mon": 0,
                  "endDay_Sat": 0,
                  "endDay_Sun": 0,
                  "endDay_Thu": 1,
                  "endDay_Tue": 0,
                  "endDay_Wed": 0,
                  "_deepnote_index_column": 785
                },
                {
                  "sellerRating": 1329,
                  "Duration": 10,
                  "ClosePrice": 30.62,
                  "OpenPrice": 6.03,
                  "Category_Automotive": 0,
                  "Category_Books": 0,
                  "Category_Business/Industrial": 0,
                  "Category_Clothing/Accessories": 0,
                  "Category_Coins/Stamps": 0,
                  "Category_Collectibles": 0,
                  "Category_Computer": 0,
                  "Category_Electronics": 0,
                  "Category_EverythingElse": 0,
                  "Category_Health/Beauty": 0,
                  "Category_Home/Garden": 1,
                  "Category_Jewelry": 0,
                  "Category_Music/Movie/Game": 0,
                  "Category_Photography": 0,
                  "Category_Pottery/Glass": 0,
                  "Category_SportingGoods": 0,
                  "Category_Toys/Hobbies": 0,
                  "currency_GBP": 0,
                  "currency_US": 0,
                  "endDay_Mon": 0,
                  "endDay_Sat": 0,
                  "endDay_Sun": 0,
                  "endDay_Thu": 0,
                  "endDay_Tue": 0,
                  "endDay_Wed": 1,
                  "_deepnote_index_column": 1382
                }
              ],
              "rows_bottom": [
                {
                  "sellerRating": 216,
                  "Duration": 7,
                  "ClosePrice": 9.99,
                  "OpenPrice": 9.99,
                  "Category_Automotive": 0,
                  "Category_Books": 0,
                  "Category_Business/Industrial": 0,
                  "Category_Clothing/Accessories": 0,
                  "Category_Coins/Stamps": 0,
                  "Category_Collectibles": 0,
                  "Category_Computer": 0,
                  "Category_Electronics": 0,
                  "Category_EverythingElse": 0,
                  "Category_Health/Beauty": 0,
                  "Category_Home/Garden": 0,
                  "Category_Jewelry": 0,
                  "Category_Music/Movie/Game": 0,
                  "Category_Photography": 0,
                  "Category_Pottery/Glass": 0,
                  "Category_SportingGoods": 1,
                  "Category_Toys/Hobbies": 0,
                  "currency_GBP": 0,
                  "currency_US": 1,
                  "endDay_Mon": 0,
                  "endDay_Sat": 1,
                  "endDay_Sun": 0,
                  "endDay_Thu": 0,
                  "endDay_Tue": 0,
                  "endDay_Wed": 0,
                  "_deepnote_index_column": 1305
                },
                {
                  "sellerRating": 3385,
                  "Duration": 7,
                  "ClosePrice": 11.99,
                  "OpenPrice": 11.99,
                  "Category_Automotive": 0,
                  "Category_Books": 0,
                  "Category_Business/Industrial": 0,
                  "Category_Clothing/Accessories": 0,
                  "Category_Coins/Stamps": 0,
                  "Category_Collectibles": 1,
                  "Category_Computer": 0,
                  "Category_Electronics": 0,
                  "Category_EverythingElse": 0,
                  "Category_Health/Beauty": 0,
                  "Category_Home/Garden": 0,
                  "Category_Jewelry": 0,
                  "Category_Music/Movie/Game": 0,
                  "Category_Photography": 0,
                  "Category_Pottery/Glass": 0,
                  "Category_SportingGoods": 0,
                  "Category_Toys/Hobbies": 0,
                  "currency_GBP": 0,
                  "currency_US": 1,
                  "endDay_Mon": 0,
                  "endDay_Sat": 1,
                  "endDay_Sun": 0,
                  "endDay_Thu": 0,
                  "endDay_Tue": 0,
                  "endDay_Wed": 0,
                  "_deepnote_index_column": 1414
                },
                {
                  "sellerRating": 18,
                  "Duration": 7,
                  "ClosePrice": 9.82,
                  "OpenPrice": 2.68,
                  "Category_Automotive": 0,
                  "Category_Books": 0,
                  "Category_Business/Industrial": 0,
                  "Category_Clothing/Accessories": 0,
                  "Category_Coins/Stamps": 0,
                  "Category_Collectibles": 1,
                  "Category_Computer": 0,
                  "Category_Electronics": 0,
                  "Category_EverythingElse": 0,
                  "Category_Health/Beauty": 0,
                  "Category_Home/Garden": 0,
                  "Category_Jewelry": 0,
                  "Category_Music/Movie/Game": 0,
                  "Category_Photography": 0,
                  "Category_Pottery/Glass": 0,
                  "Category_SportingGoods": 0,
                  "Category_Toys/Hobbies": 0,
                  "currency_GBP": 1,
                  "currency_US": 0,
                  "endDay_Mon": 0,
                  "endDay_Sat": 0,
                  "endDay_Sun": 0,
                  "endDay_Thu": 1,
                  "endDay_Tue": 0,
                  "endDay_Wed": 0,
                  "_deepnote_index_column": 508
                },
                {
                  "sellerRating": 415,
                  "Duration": 10,
                  "ClosePrice": 26.3,
                  "OpenPrice": 1.23,
                  "Category_Automotive": 0,
                  "Category_Books": 1,
                  "Category_Business/Industrial": 0,
                  "Category_Clothing/Accessories": 0,
                  "Category_Coins/Stamps": 0,
                  "Category_Collectibles": 0,
                  "Category_Computer": 0,
                  "Category_Electronics": 0,
                  "Category_EverythingElse": 0,
                  "Category_Health/Beauty": 0,
                  "Category_Home/Garden": 0,
                  "Category_Jewelry": 0,
                  "Category_Music/Movie/Game": 0,
                  "Category_Photography": 0,
                  "Category_Pottery/Glass": 0,
                  "Category_SportingGoods": 0,
                  "Category_Toys/Hobbies": 0,
                  "currency_GBP": 0,
                  "currency_US": 0,
                  "endDay_Mon": 0,
                  "endDay_Sat": 1,
                  "endDay_Sun": 0,
                  "endDay_Thu": 0,
                  "endDay_Tue": 0,
                  "endDay_Wed": 0,
                  "_deepnote_index_column": 749
                },
                {
                  "sellerRating": 2046,
                  "Duration": 7,
                  "ClosePrice": 17.95,
                  "OpenPrice": 17.95,
                  "Category_Automotive": 0,
                  "Category_Books": 0,
                  "Category_Business/Industrial": 0,
                  "Category_Clothing/Accessories": 0,
                  "Category_Coins/Stamps": 0,
                  "Category_Collectibles": 0,
                  "Category_Computer": 0,
                  "Category_Electronics": 0,
                  "Category_EverythingElse": 0,
                  "Category_Health/Beauty": 0,
                  "Category_Home/Garden": 0,
                  "Category_Jewelry": 1,
                  "Category_Music/Movie/Game": 0,
                  "Category_Photography": 0,
                  "Category_Pottery/Glass": 0,
                  "Category_SportingGoods": 0,
                  "Category_Toys/Hobbies": 0,
                  "currency_GBP": 0,
                  "currency_US": 1,
                  "endDay_Mon": 0,
                  "endDay_Sat": 0,
                  "endDay_Sun": 0,
                  "endDay_Thu": 0,
                  "endDay_Tue": 0,
                  "endDay_Wed": 0,
                  "_deepnote_index_column": 1607
                },
                {
                  "sellerRating": 3249,
                  "Duration": 5,
                  "ClosePrice": 10,
                  "OpenPrice": 0.01,
                  "Category_Automotive": 0,
                  "Category_Books": 0,
                  "Category_Business/Industrial": 0,
                  "Category_Clothing/Accessories": 0,
                  "Category_Coins/Stamps": 0,
                  "Category_Collectibles": 0,
                  "Category_Computer": 0,
                  "Category_Electronics": 0,
                  "Category_EverythingElse": 0,
                  "Category_Health/Beauty": 0,
                  "Category_Home/Garden": 0,
                  "Category_Jewelry": 0,
                  "Category_Music/Movie/Game": 1,
                  "Category_Photography": 0,
                  "Category_Pottery/Glass": 0,
                  "Category_SportingGoods": 0,
                  "Category_Toys/Hobbies": 0,
                  "currency_GBP": 0,
                  "currency_US": 1,
                  "endDay_Mon": 1,
                  "endDay_Sat": 0,
                  "endDay_Sun": 0,
                  "endDay_Thu": 0,
                  "endDay_Tue": 0,
                  "endDay_Wed": 0,
                  "_deepnote_index_column": 129
                },
                {
                  "sellerRating": 1,
                  "Duration": 5,
                  "ClosePrice": 26,
                  "OpenPrice": 0.01,
                  "Category_Automotive": 0,
                  "Category_Books": 0,
                  "Category_Business/Industrial": 0,
                  "Category_Clothing/Accessories": 0,
                  "Category_Coins/Stamps": 0,
                  "Category_Collectibles": 1,
                  "Category_Computer": 0,
                  "Category_Electronics": 0,
                  "Category_EverythingElse": 0,
                  "Category_Health/Beauty": 0,
                  "Category_Home/Garden": 0,
                  "Category_Jewelry": 0,
                  "Category_Music/Movie/Game": 0,
                  "Category_Photography": 0,
                  "Category_Pottery/Glass": 0,
                  "Category_SportingGoods": 0,
                  "Category_Toys/Hobbies": 0,
                  "currency_GBP": 0,
                  "currency_US": 1,
                  "endDay_Mon": 0,
                  "endDay_Sat": 0,
                  "endDay_Sun": 0,
                  "endDay_Thu": 0,
                  "endDay_Tue": 1,
                  "endDay_Wed": 0,
                  "_deepnote_index_column": 144
                },
                {
                  "sellerRating": 2349,
                  "Duration": 7,
                  "ClosePrice": 10.5,
                  "OpenPrice": 3.6,
                  "Category_Automotive": 0,
                  "Category_Books": 0,
                  "Category_Business/Industrial": 0,
                  "Category_Clothing/Accessories": 0,
                  "Category_Coins/Stamps": 0,
                  "Category_Collectibles": 0,
                  "Category_Computer": 0,
                  "Category_Electronics": 0,
                  "Category_EverythingElse": 0,
                  "Category_Health/Beauty": 0,
                  "Category_Home/Garden": 0,
                  "Category_Jewelry": 0,
                  "Category_Music/Movie/Game": 0,
                  "Category_Photography": 0,
                  "Category_Pottery/Glass": 0,
                  "Category_SportingGoods": 0,
                  "Category_Toys/Hobbies": 0,
                  "currency_GBP": 0,
                  "currency_US": 1,
                  "endDay_Mon": 0,
                  "endDay_Sat": 0,
                  "endDay_Sun": 0,
                  "endDay_Thu": 0,
                  "endDay_Tue": 1,
                  "endDay_Wed": 0,
                  "_deepnote_index_column": 960
                },
                {
                  "sellerRating": 996,
                  "Duration": 7,
                  "ClosePrice": 15.99,
                  "OpenPrice": 2.45,
                  "Category_Automotive": 0,
                  "Category_Books": 0,
                  "Category_Business/Industrial": 0,
                  "Category_Clothing/Accessories": 0,
                  "Category_Coins/Stamps": 0,
                  "Category_Collectibles": 0,
                  "Category_Computer": 0,
                  "Category_Electronics": 0,
                  "Category_EverythingElse": 0,
                  "Category_Health/Beauty": 0,
                  "Category_Home/Garden": 0,
                  "Category_Jewelry": 0,
                  "Category_Music/Movie/Game": 0,
                  "Category_Photography": 0,
                  "Category_Pottery/Glass": 0,
                  "Category_SportingGoods": 0,
                  "Category_Toys/Hobbies": 1,
                  "currency_GBP": 0,
                  "currency_US": 0,
                  "endDay_Mon": 0,
                  "endDay_Sat": 0,
                  "endDay_Sun": 0,
                  "endDay_Thu": 0,
                  "endDay_Tue": 1,
                  "endDay_Wed": 0,
                  "_deepnote_index_column": 847
                },
                {
                  "sellerRating": 627,
                  "Duration": 10,
                  "ClosePrice": 56.57,
                  "OpenPrice": 11.07,
                  "Category_Automotive": 0,
                  "Category_Books": 0,
                  "Category_Business/Industrial": 0,
                  "Category_Clothing/Accessories": 0,
                  "Category_Coins/Stamps": 1,
                  "Category_Collectibles": 0,
                  "Category_Computer": 0,
                  "Category_Electronics": 0,
                  "Category_EverythingElse": 0,
                  "Category_Health/Beauty": 0,
                  "Category_Home/Garden": 0,
                  "Category_Jewelry": 0,
                  "Category_Music/Movie/Game": 0,
                  "Category_Photography": 0,
                  "Category_Pottery/Glass": 0,
                  "Category_SportingGoods": 0,
                  "Category_Toys/Hobbies": 0,
                  "currency_GBP": 0,
                  "currency_US": 0,
                  "endDay_Mon": 0,
                  "endDay_Sat": 0,
                  "endDay_Sun": 0,
                  "endDay_Thu": 0,
                  "endDay_Tue": 1,
                  "endDay_Wed": 0,
                  "_deepnote_index_column": 1669
                },
                {
                  "sellerRating": 3385,
                  "Duration": 7,
                  "ClosePrice": 5.02,
                  "OpenPrice": 3.75,
                  "Category_Automotive": 0,
                  "Category_Books": 0,
                  "Category_Business/Industrial": 0,
                  "Category_Clothing/Accessories": 0,
                  "Category_Coins/Stamps": 0,
                  "Category_Collectibles": 0,
                  "Category_Computer": 0,
                  "Category_Electronics": 0,
                  "Category_EverythingElse": 0,
                  "Category_Health/Beauty": 0,
                  "Category_Home/Garden": 0,
                  "Category_Jewelry": 0,
                  "Category_Music/Movie/Game": 0,
                  "Category_Photography": 0,
                  "Category_Pottery/Glass": 0,
                  "Category_SportingGoods": 0,
                  "Category_Toys/Hobbies": 1,
                  "currency_GBP": 0,
                  "currency_US": 1,
                  "endDay_Mon": 0,
                  "endDay_Sat": 1,
                  "endDay_Sun": 0,
                  "endDay_Thu": 0,
                  "endDay_Tue": 0,
                  "endDay_Wed": 0,
                  "_deepnote_index_column": 715
                },
                {
                  "sellerRating": 595,
                  "Duration": 7,
                  "ClosePrice": 39.97,
                  "OpenPrice": 1.23,
                  "Category_Automotive": 0,
                  "Category_Books": 0,
                  "Category_Business/Industrial": 0,
                  "Category_Clothing/Accessories": 1,
                  "Category_Coins/Stamps": 0,
                  "Category_Collectibles": 0,
                  "Category_Computer": 0,
                  "Category_Electronics": 0,
                  "Category_EverythingElse": 0,
                  "Category_Health/Beauty": 0,
                  "Category_Home/Garden": 0,
                  "Category_Jewelry": 0,
                  "Category_Music/Movie/Game": 0,
                  "Category_Photography": 0,
                  "Category_Pottery/Glass": 0,
                  "Category_SportingGoods": 0,
                  "Category_Toys/Hobbies": 0,
                  "currency_GBP": 0,
                  "currency_US": 0,
                  "endDay_Mon": 1,
                  "endDay_Sat": 0,
                  "endDay_Sun": 0,
                  "endDay_Thu": 0,
                  "endDay_Tue": 0,
                  "endDay_Wed": 0,
                  "_deepnote_index_column": 905
                },
                {
                  "sellerRating": 2427,
                  "Duration": 3,
                  "ClosePrice": 33.95,
                  "OpenPrice": 33.95,
                  "Category_Automotive": 1,
                  "Category_Books": 0,
                  "Category_Business/Industrial": 0,
                  "Category_Clothing/Accessories": 0,
                  "Category_Coins/Stamps": 0,
                  "Category_Collectibles": 0,
                  "Category_Computer": 0,
                  "Category_Electronics": 0,
                  "Category_EverythingElse": 0,
                  "Category_Health/Beauty": 0,
                  "Category_Home/Garden": 0,
                  "Category_Jewelry": 0,
                  "Category_Music/Movie/Game": 0,
                  "Category_Photography": 0,
                  "Category_Pottery/Glass": 0,
                  "Category_SportingGoods": 0,
                  "Category_Toys/Hobbies": 0,
                  "currency_GBP": 0,
                  "currency_US": 1,
                  "endDay_Mon": 0,
                  "endDay_Sat": 0,
                  "endDay_Sun": 1,
                  "endDay_Thu": 0,
                  "endDay_Tue": 0,
                  "endDay_Wed": 0,
                  "_deepnote_index_column": 1791
                },
                {
                  "sellerRating": 2046,
                  "Duration": 5,
                  "ClosePrice": 7.5,
                  "OpenPrice": 7.5,
                  "Category_Automotive": 0,
                  "Category_Books": 0,
                  "Category_Business/Industrial": 0,
                  "Category_Clothing/Accessories": 0,
                  "Category_Coins/Stamps": 0,
                  "Category_Collectibles": 1,
                  "Category_Computer": 0,
                  "Category_Electronics": 0,
                  "Category_EverythingElse": 0,
                  "Category_Health/Beauty": 0,
                  "Category_Home/Garden": 0,
                  "Category_Jewelry": 0,
                  "Category_Music/Movie/Game": 0,
                  "Category_Photography": 0,
                  "Category_Pottery/Glass": 0,
                  "Category_SportingGoods": 0,
                  "Category_Toys/Hobbies": 0,
                  "currency_GBP": 0,
                  "currency_US": 1,
                  "endDay_Mon": 0,
                  "endDay_Sat": 0,
                  "endDay_Sun": 0,
                  "endDay_Thu": 0,
                  "endDay_Tue": 0,
                  "endDay_Wed": 0,
                  "_deepnote_index_column": 1096
                },
                {
                  "sellerRating": 534,
                  "Duration": 7,
                  "ClosePrice": 154.23,
                  "OpenPrice": 79.99,
                  "Category_Automotive": 0,
                  "Category_Books": 0,
                  "Category_Business/Industrial": 0,
                  "Category_Clothing/Accessories": 0,
                  "Category_Coins/Stamps": 0,
                  "Category_Collectibles": 0,
                  "Category_Computer": 0,
                  "Category_Electronics": 0,
                  "Category_EverythingElse": 0,
                  "Category_Health/Beauty": 0,
                  "Category_Home/Garden": 0,
                  "Category_Jewelry": 0,
                  "Category_Music/Movie/Game": 0,
                  "Category_Photography": 0,
                  "Category_Pottery/Glass": 0,
                  "Category_SportingGoods": 0,
                  "Category_Toys/Hobbies": 1,
                  "currency_GBP": 0,
                  "currency_US": 1,
                  "endDay_Mon": 0,
                  "endDay_Sat": 0,
                  "endDay_Sun": 1,
                  "endDay_Thu": 0,
                  "endDay_Tue": 0,
                  "endDay_Wed": 0,
                  "_deepnote_index_column": 1932
                },
                {
                  "sellerRating": 1853,
                  "Duration": 10,
                  "ClosePrice": 1.23,
                  "OpenPrice": 1.23,
                  "Category_Automotive": 0,
                  "Category_Books": 0,
                  "Category_Business/Industrial": 0,
                  "Category_Clothing/Accessories": 0,
                  "Category_Coins/Stamps": 0,
                  "Category_Collectibles": 1,
                  "Category_Computer": 0,
                  "Category_Electronics": 0,
                  "Category_EverythingElse": 0,
                  "Category_Health/Beauty": 0,
                  "Category_Home/Garden": 0,
                  "Category_Jewelry": 0,
                  "Category_Music/Movie/Game": 0,
                  "Category_Photography": 0,
                  "Category_Pottery/Glass": 0,
                  "Category_SportingGoods": 0,
                  "Category_Toys/Hobbies": 0,
                  "currency_GBP": 0,
                  "currency_US": 0,
                  "endDay_Mon": 0,
                  "endDay_Sat": 0,
                  "endDay_Sun": 0,
                  "endDay_Thu": 0,
                  "endDay_Tue": 1,
                  "endDay_Wed": 0,
                  "_deepnote_index_column": 235
                },
                {
                  "sellerRating": 4390,
                  "Duration": 7,
                  "ClosePrice": 6.99,
                  "OpenPrice": 6.99,
                  "Category_Automotive": 0,
                  "Category_Books": 0,
                  "Category_Business/Industrial": 0,
                  "Category_Clothing/Accessories": 0,
                  "Category_Coins/Stamps": 0,
                  "Category_Collectibles": 0,
                  "Category_Computer": 0,
                  "Category_Electronics": 0,
                  "Category_EverythingElse": 0,
                  "Category_Health/Beauty": 0,
                  "Category_Home/Garden": 0,
                  "Category_Jewelry": 0,
                  "Category_Music/Movie/Game": 0,
                  "Category_Photography": 0,
                  "Category_Pottery/Glass": 0,
                  "Category_SportingGoods": 0,
                  "Category_Toys/Hobbies": 0,
                  "currency_GBP": 0,
                  "currency_US": 1,
                  "endDay_Mon": 0,
                  "endDay_Sat": 0,
                  "endDay_Sun": 0,
                  "endDay_Thu": 0,
                  "endDay_Tue": 0,
                  "endDay_Wed": 0,
                  "_deepnote_index_column": 1061
                }
              ]
            },
            "text/plain": "      sellerRating  Duration  ClosePrice  OpenPrice  Category_Automotive  \\\n503            578        10        4.93       2.45                    0   \n733           2349         7        5.61       3.60                    0   \n383            884        10        2.45       2.45                    0   \n725           2349         7        5.50       3.60                    0   \n310            104         7        3.07       1.23                    0   \n...            ...       ...         ...        ...                  ...   \n1791          2427         3       33.95      33.95                    1   \n1096          2046         5        7.50       7.50                    0   \n1932           534         7      154.23      79.99                    0   \n235           1853        10        1.23       1.23                    0   \n1061          4390         7        6.99       6.99                    0   \n\n      Category_Books  Category_Business/Industrial  \\\n503                0                             0   \n733                0                             0   \n383                0                             0   \n725                0                             0   \n310                0                             0   \n...              ...                           ...   \n1791               0                             0   \n1096               0                             0   \n1932               0                             0   \n235                0                             0   \n1061               0                             0   \n\n      Category_Clothing/Accessories  Category_Coins/Stamps  \\\n503                               0                      0   \n733                               0                      0   \n383                               0                      0   \n725                               0                      0   \n310                               0                      0   \n...                             ...                    ...   \n1791                              0                      0   \n1096                              0                      0   \n1932                              0                      0   \n235                               0                      0   \n1061                              0                      0   \n\n      Category_Collectibles  ...  Category_SportingGoods  \\\n503                       1  ...                       0   \n733                       0  ...                       0   \n383                       1  ...                       0   \n725                       0  ...                       0   \n310                       0  ...                       0   \n...                     ...  ...                     ...   \n1791                      0  ...                       0   \n1096                      1  ...                       0   \n1932                      0  ...                       0   \n235                       1  ...                       0   \n1061                      0  ...                       0   \n\n      Category_Toys/Hobbies  currency_GBP  currency_US  endDay_Mon  \\\n503                       0             0            0           1   \n733                       0             0            1           0   \n383                       0             0            0           1   \n725                       0             0            1           0   \n310                       0             0            0           1   \n...                     ...           ...          ...         ...   \n1791                      0             0            1           0   \n1096                      0             0            1           0   \n1932                      1             0            1           0   \n235                       0             0            0           0   \n1061                      0             0            1           0   \n\n      endDay_Sat  endDay_Sun  endDay_Thu  endDay_Tue  endDay_Wed  \n503            0           0           0           0           0  \n733            0           0           0           0           0  \n383            0           0           0           0           0  \n725            0           0           0           0           0  \n310            0           0           0           0           0  \n...          ...         ...         ...         ...         ...  \n1791           0           1           0           0           0  \n1096           0           0           0           0           0  \n1932           0           1           0           0           0  \n235            0           0           0           1           0  \n1061           0           0           0           0           0  \n\n[1183 rows x 29 columns]",
            "text/html": "<div>\n<style scoped>\n    .dataframe tbody tr th:only-of-type {\n        vertical-align: middle;\n    }\n\n    .dataframe tbody tr th {\n        vertical-align: top;\n    }\n\n    .dataframe thead th {\n        text-align: right;\n    }\n</style>\n<table border=\"1\" class=\"dataframe\">\n  <thead>\n    <tr style=\"text-align: right;\">\n      <th></th>\n      <th>sellerRating</th>\n      <th>Duration</th>\n      <th>ClosePrice</th>\n      <th>OpenPrice</th>\n      <th>Category_Automotive</th>\n      <th>Category_Books</th>\n      <th>Category_Business/Industrial</th>\n      <th>Category_Clothing/Accessories</th>\n      <th>Category_Coins/Stamps</th>\n      <th>Category_Collectibles</th>\n      <th>...</th>\n      <th>Category_SportingGoods</th>\n      <th>Category_Toys/Hobbies</th>\n      <th>currency_GBP</th>\n      <th>currency_US</th>\n      <th>endDay_Mon</th>\n      <th>endDay_Sat</th>\n      <th>endDay_Sun</th>\n      <th>endDay_Thu</th>\n      <th>endDay_Tue</th>\n      <th>endDay_Wed</th>\n    </tr>\n  </thead>\n  <tbody>\n    <tr>\n      <th>503</th>\n      <td>578</td>\n      <td>10</td>\n      <td>4.93</td>\n      <td>2.45</td>\n      <td>0</td>\n      <td>0</td>\n      <td>0</td>\n      <td>0</td>\n      <td>0</td>\n      <td>1</td>\n      <td>...</td>\n      <td>0</td>\n      <td>0</td>\n      <td>0</td>\n      <td>0</td>\n      <td>1</td>\n      <td>0</td>\n      <td>0</td>\n      <td>0</td>\n      <td>0</td>\n      <td>0</td>\n    </tr>\n    <tr>\n      <th>733</th>\n      <td>2349</td>\n      <td>7</td>\n      <td>5.61</td>\n      <td>3.60</td>\n      <td>0</td>\n      <td>0</td>\n      <td>0</td>\n      <td>0</td>\n      <td>0</td>\n      <td>0</td>\n      <td>...</td>\n      <td>0</td>\n      <td>0</td>\n      <td>0</td>\n      <td>1</td>\n      <td>0</td>\n      <td>0</td>\n      <td>0</td>\n      <td>0</td>\n      <td>0</td>\n      <td>0</td>\n    </tr>\n    <tr>\n      <th>383</th>\n      <td>884</td>\n      <td>10</td>\n      <td>2.45</td>\n      <td>2.45</td>\n      <td>0</td>\n      <td>0</td>\n      <td>0</td>\n      <td>0</td>\n      <td>0</td>\n      <td>1</td>\n      <td>...</td>\n      <td>0</td>\n      <td>0</td>\n      <td>0</td>\n      <td>0</td>\n      <td>1</td>\n      <td>0</td>\n      <td>0</td>\n      <td>0</td>\n      <td>0</td>\n      <td>0</td>\n    </tr>\n    <tr>\n      <th>725</th>\n      <td>2349</td>\n      <td>7</td>\n      <td>5.50</td>\n      <td>3.60</td>\n      <td>0</td>\n      <td>0</td>\n      <td>0</td>\n      <td>0</td>\n      <td>0</td>\n      <td>0</td>\n      <td>...</td>\n      <td>0</td>\n      <td>0</td>\n      <td>0</td>\n      <td>1</td>\n      <td>0</td>\n      <td>0</td>\n      <td>0</td>\n      <td>0</td>\n      <td>0</td>\n      <td>0</td>\n    </tr>\n    <tr>\n      <th>310</th>\n      <td>104</td>\n      <td>7</td>\n      <td>3.07</td>\n      <td>1.23</td>\n      <td>0</td>\n      <td>0</td>\n      <td>0</td>\n      <td>0</td>\n      <td>0</td>\n      <td>0</td>\n      <td>...</td>\n      <td>0</td>\n      <td>0</td>\n      <td>0</td>\n      <td>0</td>\n      <td>1</td>\n      <td>0</td>\n      <td>0</td>\n      <td>0</td>\n      <td>0</td>\n      <td>0</td>\n    </tr>\n    <tr>\n      <th>...</th>\n      <td>...</td>\n      <td>...</td>\n      <td>...</td>\n      <td>...</td>\n      <td>...</td>\n      <td>...</td>\n      <td>...</td>\n      <td>...</td>\n      <td>...</td>\n      <td>...</td>\n      <td>...</td>\n      <td>...</td>\n      <td>...</td>\n      <td>...</td>\n      <td>...</td>\n      <td>...</td>\n      <td>...</td>\n      <td>...</td>\n      <td>...</td>\n      <td>...</td>\n      <td>...</td>\n    </tr>\n    <tr>\n      <th>1791</th>\n      <td>2427</td>\n      <td>3</td>\n      <td>33.95</td>\n      <td>33.95</td>\n      <td>1</td>\n      <td>0</td>\n      <td>0</td>\n      <td>0</td>\n      <td>0</td>\n      <td>0</td>\n      <td>...</td>\n      <td>0</td>\n      <td>0</td>\n      <td>0</td>\n      <td>1</td>\n      <td>0</td>\n      <td>0</td>\n      <td>1</td>\n      <td>0</td>\n      <td>0</td>\n      <td>0</td>\n    </tr>\n    <tr>\n      <th>1096</th>\n      <td>2046</td>\n      <td>5</td>\n      <td>7.50</td>\n      <td>7.50</td>\n      <td>0</td>\n      <td>0</td>\n      <td>0</td>\n      <td>0</td>\n      <td>0</td>\n      <td>1</td>\n      <td>...</td>\n      <td>0</td>\n      <td>0</td>\n      <td>0</td>\n      <td>1</td>\n      <td>0</td>\n      <td>0</td>\n      <td>0</td>\n      <td>0</td>\n      <td>0</td>\n      <td>0</td>\n    </tr>\n    <tr>\n      <th>1932</th>\n      <td>534</td>\n      <td>7</td>\n      <td>154.23</td>\n      <td>79.99</td>\n      <td>0</td>\n      <td>0</td>\n      <td>0</td>\n      <td>0</td>\n      <td>0</td>\n      <td>0</td>\n      <td>...</td>\n      <td>0</td>\n      <td>1</td>\n      <td>0</td>\n      <td>1</td>\n      <td>0</td>\n      <td>0</td>\n      <td>1</td>\n      <td>0</td>\n      <td>0</td>\n      <td>0</td>\n    </tr>\n    <tr>\n      <th>235</th>\n      <td>1853</td>\n      <td>10</td>\n      <td>1.23</td>\n      <td>1.23</td>\n      <td>0</td>\n      <td>0</td>\n      <td>0</td>\n      <td>0</td>\n      <td>0</td>\n      <td>1</td>\n      <td>...</td>\n      <td>0</td>\n      <td>0</td>\n      <td>0</td>\n      <td>0</td>\n      <td>0</td>\n      <td>0</td>\n      <td>0</td>\n      <td>0</td>\n      <td>1</td>\n      <td>0</td>\n    </tr>\n    <tr>\n      <th>1061</th>\n      <td>4390</td>\n      <td>7</td>\n      <td>6.99</td>\n      <td>6.99</td>\n      <td>0</td>\n      <td>0</td>\n      <td>0</td>\n      <td>0</td>\n      <td>0</td>\n      <td>0</td>\n      <td>...</td>\n      <td>0</td>\n      <td>0</td>\n      <td>0</td>\n      <td>1</td>\n      <td>0</td>\n      <td>0</td>\n      <td>0</td>\n      <td>0</td>\n      <td>0</td>\n      <td>0</td>\n    </tr>\n  </tbody>\n</table>\n<p>1183 rows × 29 columns</p>\n</div>"
          },
          "metadata": {}
        }
      ],
      "execution_count": null
    },
    {
      "cell_type": "code",
      "metadata": {
        "tags": [],
        "cell_id": "00005-be53e588-3084-44a1-8c2f-78bfcca69a5a",
        "deepnote_to_be_reexecuted": false,
        "source_hash": "612352c0",
        "execution_millis": 42,
        "execution_start": 1615582097193,
        "deepnote_cell_type": "code"
      },
      "source": "# fit a logistic regression (set penalty=l2 and C=1e42 to avoid regularization)\nlogit_full = LogisticRegression(penalty=\"l2\", C=1e42, solver='liblinear')\nlogit_full.fit(train_X, train_y)\nprint('intercept ', logit_full.intercept_[0])\nprint(pd.DataFrame({'coeff': logit_full.coef_[0]}, index=X.columns).transpose())\nprint('AIC', AIC_score(valid_y, logit_full.predict(valid_X), df = len(train_X.columns) + 1)) \n",
      "outputs": [
        {
          "name": "stdout",
          "text": "intercept  -0.4452116538916522\n       sellerRating  Duration  ClosePrice  OpenPrice  Category_Automotive  \\\ncoeff     -0.000045  0.012535     0.08934  -0.106258            -0.541553   \n\n       Category_Books  Category_Business/Industrial  \\\ncoeff        0.238868                      1.386651   \n\n       Category_Clothing/Accessories  Category_Coins/Stamps  \\\ncoeff                      -1.268502              -2.048303   \n\n       Category_Collectibles  ...  Category_SportingGoods  \\\ncoeff              -0.017439  ...               -0.030414   \n\n       Category_Toys/Hobbies  currency_GBP  currency_US  endDay_Mon  \\\ncoeff               0.306249      1.736434     0.541007    0.422789   \n\n       endDay_Sat  endDay_Sun  endDay_Thu  endDay_Tue  endDay_Wed  \ncoeff   -0.627914   -0.450058   -0.641878   -0.188319   -0.646831  \n\n[1 rows x 29 columns]\nAIC 1177.7523711842023\n",
          "output_type": "stream"
        }
      ],
      "execution_count": null
    },
    {
      "cell_type": "code",
      "metadata": {
        "tags": [],
        "cell_id": "00006-2287be03-3fb1-4091-a221-0b53c7d17661",
        "deepnote_to_be_reexecuted": false,
        "source_hash": "d260417f",
        "execution_millis": 200,
        "execution_start": 1615582101109,
        "deepnote_cell_type": "code"
      },
      "source": "logit_reg_pred = logit_full.predict_proba(valid_X)\nfull_result = pd.DataFrame({'actual': valid_y, 'p(0)': [p[0] for p in logit_reg_pred],'p(1)': [p[1] for p in logit_reg_pred],'predicted': logit_full.predict(valid_X)})\nfull_result = full_result.sort_values(by=['p(1)'], ascending=False)\n# confusion matrix\nclasses = ['competitive', 'weak']\nclassificationSummary(full_result.actual, full_result.predicted, class_names=classes)\ngainsChart(full_result.actual, figsize=[5, 5])\nplt.show() \n",
      "outputs": [
        {
          "name": "stdout",
          "text": "Confusion Matrix (Accuracy 0.7592)\n\n            Prediction\n     Actual competitive        weak\ncompetitive         276          77\n       weak         113         323\n",
          "output_type": "stream"
        }
      ],
      "execution_count": null
    },
    {
      "cell_type": "code",
      "source": "# An alternative to scikit ’s LogisticRegression is method sm.glm in \n# Statsmodel...\n\n# add constant column\nebay_df = sm.add_constant(ebay_df, prepend=True)\n\nexcludeColumns = ('Competitive?')\npredictors = [s for s in ebay_df.columns if s not in excludeColumns]\noutcome = 'Competitive?'\n\nX = pd.get_dummies(ebay_df[predictors], drop_first=True)\ny = ebay_df[outcome]\n\n# partition data\ntrain_X, valid_X, train_y, valid_y = train_test_split(X, y, test_size=0.4, random_state=1)\n\n# use GLM (general linear model) with the binomial family to fit a logistic regression\nlogit_reg = sm.GLM(train_y, train_X, family=sm.families.Binomial())\nlogit_result = logit_reg.fit()\nlogit_result.summary() ",
      "metadata": {
        "tags": [],
        "cell_id": "00007-c46d0ace-76e1-40a0-b993-b972fe38ca30",
        "deepnote_to_be_reexecuted": false,
        "source_hash": "aac3089b",
        "execution_start": 1615582286349,
        "execution_millis": 144,
        "deepnote_cell_type": "code"
      },
      "outputs": [
        {
          "output_type": "execute_result",
          "execution_count": 8,
          "data": {
            "text/plain": "<class 'statsmodels.iolib.summary.Summary'>\n\"\"\"\n                 Generalized Linear Model Regression Results                  \n==============================================================================\nDep. Variable:           Competitive?   No. Observations:                 1183\nModel:                            GLM   Df Residuals:                     1153\nModel Family:                Binomial   Df Model:                           29\nLink Function:                  logit   Scale:                          1.0000\nMethod:                          IRLS   Log-Likelihood:                -592.11\nDate:                Fri, 12 Mar 2021   Deviance:                       1184.2\nTime:                        20:51:26   Pearson chi2:                 9.50e+09\nNo. Iterations:                    22                                         \nCovariance Type:            nonrobust                                         \n=================================================================================================\n                                    coef    std err          z      P>|z|      [0.025      0.975]\n-------------------------------------------------------------------------------------------------\nconst                            -0.4758      0.517     -0.920      0.358      -1.490       0.538\nsellerRating                  -4.486e-05   1.64e-05     -2.727      0.006   -7.71e-05   -1.26e-05\nDuration                          0.0134      0.047      0.285      0.775      -0.078       0.105\nClosePrice                        0.0899      0.009      9.509      0.000       0.071       0.108\nOpenPrice                        -0.1070      0.011     -9.534      0.000      -0.129      -0.085\nCategory_Automotive              -0.5384      0.384     -1.402      0.161      -1.291       0.214\nCategory_Books                    0.2781      0.455      0.611      0.541      -0.613       1.170\nCategory_Business/Industrial      1.3093      0.873      1.499      0.134      -0.402       3.021\nCategory_Clothing/Accessories    -1.2532      0.432     -2.902      0.004      -2.099      -0.407\nCategory_Coins/Stamps            -1.9988      0.709     -2.818      0.005      -3.389      -0.609\nCategory_Collectibles            -0.0010      0.300     -0.003      0.997      -0.588       0.586\nCategory_Computer                -0.1262      0.585     -0.216      0.829      -1.273       1.020\nCategory_Electronics              0.6117      0.582      1.051      0.293      -0.529       1.753\nCategory_EverythingElse          -1.7759      0.858     -2.071      0.038      -3.457      -0.095\nCategory_Health/Beauty           -1.9911      0.516     -3.858      0.000      -3.003      -0.980\nCategory_Home/Garden             -0.0208      0.401     -0.052      0.959      -0.806       0.764\nCategory_Jewelry                 -0.4860      0.437     -1.111      0.267      -1.343       0.371\nCategory_Music/Movie/Game         0.1616      0.272      0.594      0.552      -0.371       0.695\nCategory_Photography             21.7844   1.74e+04      0.001      0.999   -3.42e+04    3.42e+04\nCategory_Pottery/Glass           -0.1642      0.731     -0.225      0.822      -1.597       1.268\nCategory_SportingGoods           -0.0572      0.430     -0.133      0.894      -0.900       0.786\nCategory_Toys/Hobbies             0.3257      0.311      1.047      0.295      -0.284       0.936\ncurrency_GBP                      1.7133      0.587      2.917      0.004       0.562       2.865\ncurrency_US                       0.5659      0.237      2.391      0.017       0.102       1.030\nendDay_Mon                        0.4243      0.242      1.752      0.080      -0.050       0.899\nendDay_Sat                       -0.6424      0.272     -2.359      0.018      -1.176      -0.109\nendDay_Sun                       -0.4512      0.259     -1.745      0.081      -0.958       0.056\nendDay_Thu                       -0.5853      0.559     -1.046      0.295      -1.682       0.511\nendDay_Tue                       -0.1899      0.304     -0.625      0.532      -0.785       0.406\nendDay_Wed                       -0.6557      0.473     -1.385      0.166      -1.584       0.272\n=================================================================================================\n\"\"\"",
            "text/html": "<table class=\"simpletable\">\n<caption>Generalized Linear Model Regression Results</caption>\n<tr>\n  <th>Dep. Variable:</th>     <td>Competitive?</td>   <th>  No. Observations:  </th>  <td>  1183</td> \n</tr>\n<tr>\n  <th>Model:</th>                  <td>GLM</td>       <th>  Df Residuals:      </th>  <td>  1153</td> \n</tr>\n<tr>\n  <th>Model Family:</th>        <td>Binomial</td>     <th>  Df Model:          </th>  <td>    29</td> \n</tr>\n<tr>\n  <th>Link Function:</th>         <td>logit</td>      <th>  Scale:             </th> <td>  1.0000</td>\n</tr>\n<tr>\n  <th>Method:</th>                <td>IRLS</td>       <th>  Log-Likelihood:    </th> <td> -592.11</td>\n</tr>\n<tr>\n  <th>Date:</th>            <td>Fri, 12 Mar 2021</td> <th>  Deviance:          </th> <td>  1184.2</td>\n</tr>\n<tr>\n  <th>Time:</th>                <td>20:51:26</td>     <th>  Pearson chi2:      </th> <td>9.50e+09</td>\n</tr>\n<tr>\n  <th>No. Iterations:</th>         <td>22</td>        <th>                     </th>     <td> </td>   \n</tr>\n<tr>\n  <th>Covariance Type:</th>     <td>nonrobust</td>    <th>                     </th>     <td> </td>   \n</tr>\n</table>\n<table class=\"simpletable\">\n<tr>\n                <td></td>                   <th>coef</th>     <th>std err</th>      <th>z</th>      <th>P>|z|</th>  <th>[0.025</th>    <th>0.975]</th>  \n</tr>\n<tr>\n  <th>const</th>                         <td>   -0.4758</td> <td>    0.517</td> <td>   -0.920</td> <td> 0.358</td> <td>   -1.490</td> <td>    0.538</td>\n</tr>\n<tr>\n  <th>sellerRating</th>                  <td>-4.486e-05</td> <td> 1.64e-05</td> <td>   -2.727</td> <td> 0.006</td> <td>-7.71e-05</td> <td>-1.26e-05</td>\n</tr>\n<tr>\n  <th>Duration</th>                      <td>    0.0134</td> <td>    0.047</td> <td>    0.285</td> <td> 0.775</td> <td>   -0.078</td> <td>    0.105</td>\n</tr>\n<tr>\n  <th>ClosePrice</th>                    <td>    0.0899</td> <td>    0.009</td> <td>    9.509</td> <td> 0.000</td> <td>    0.071</td> <td>    0.108</td>\n</tr>\n<tr>\n  <th>OpenPrice</th>                     <td>   -0.1070</td> <td>    0.011</td> <td>   -9.534</td> <td> 0.000</td> <td>   -0.129</td> <td>   -0.085</td>\n</tr>\n<tr>\n  <th>Category_Automotive</th>           <td>   -0.5384</td> <td>    0.384</td> <td>   -1.402</td> <td> 0.161</td> <td>   -1.291</td> <td>    0.214</td>\n</tr>\n<tr>\n  <th>Category_Books</th>                <td>    0.2781</td> <td>    0.455</td> <td>    0.611</td> <td> 0.541</td> <td>   -0.613</td> <td>    1.170</td>\n</tr>\n<tr>\n  <th>Category_Business/Industrial</th>  <td>    1.3093</td> <td>    0.873</td> <td>    1.499</td> <td> 0.134</td> <td>   -0.402</td> <td>    3.021</td>\n</tr>\n<tr>\n  <th>Category_Clothing/Accessories</th> <td>   -1.2532</td> <td>    0.432</td> <td>   -2.902</td> <td> 0.004</td> <td>   -2.099</td> <td>   -0.407</td>\n</tr>\n<tr>\n  <th>Category_Coins/Stamps</th>         <td>   -1.9988</td> <td>    0.709</td> <td>   -2.818</td> <td> 0.005</td> <td>   -3.389</td> <td>   -0.609</td>\n</tr>\n<tr>\n  <th>Category_Collectibles</th>         <td>   -0.0010</td> <td>    0.300</td> <td>   -0.003</td> <td> 0.997</td> <td>   -0.588</td> <td>    0.586</td>\n</tr>\n<tr>\n  <th>Category_Computer</th>             <td>   -0.1262</td> <td>    0.585</td> <td>   -0.216</td> <td> 0.829</td> <td>   -1.273</td> <td>    1.020</td>\n</tr>\n<tr>\n  <th>Category_Electronics</th>          <td>    0.6117</td> <td>    0.582</td> <td>    1.051</td> <td> 0.293</td> <td>   -0.529</td> <td>    1.753</td>\n</tr>\n<tr>\n  <th>Category_EverythingElse</th>       <td>   -1.7759</td> <td>    0.858</td> <td>   -2.071</td> <td> 0.038</td> <td>   -3.457</td> <td>   -0.095</td>\n</tr>\n<tr>\n  <th>Category_Health/Beauty</th>        <td>   -1.9911</td> <td>    0.516</td> <td>   -3.858</td> <td> 0.000</td> <td>   -3.003</td> <td>   -0.980</td>\n</tr>\n<tr>\n  <th>Category_Home/Garden</th>          <td>   -0.0208</td> <td>    0.401</td> <td>   -0.052</td> <td> 0.959</td> <td>   -0.806</td> <td>    0.764</td>\n</tr>\n<tr>\n  <th>Category_Jewelry</th>              <td>   -0.4860</td> <td>    0.437</td> <td>   -1.111</td> <td> 0.267</td> <td>   -1.343</td> <td>    0.371</td>\n</tr>\n<tr>\n  <th>Category_Music/Movie/Game</th>     <td>    0.1616</td> <td>    0.272</td> <td>    0.594</td> <td> 0.552</td> <td>   -0.371</td> <td>    0.695</td>\n</tr>\n<tr>\n  <th>Category_Photography</th>          <td>   21.7844</td> <td> 1.74e+04</td> <td>    0.001</td> <td> 0.999</td> <td>-3.42e+04</td> <td> 3.42e+04</td>\n</tr>\n<tr>\n  <th>Category_Pottery/Glass</th>        <td>   -0.1642</td> <td>    0.731</td> <td>   -0.225</td> <td> 0.822</td> <td>   -1.597</td> <td>    1.268</td>\n</tr>\n<tr>\n  <th>Category_SportingGoods</th>        <td>   -0.0572</td> <td>    0.430</td> <td>   -0.133</td> <td> 0.894</td> <td>   -0.900</td> <td>    0.786</td>\n</tr>\n<tr>\n  <th>Category_Toys/Hobbies</th>         <td>    0.3257</td> <td>    0.311</td> <td>    1.047</td> <td> 0.295</td> <td>   -0.284</td> <td>    0.936</td>\n</tr>\n<tr>\n  <th>currency_GBP</th>                  <td>    1.7133</td> <td>    0.587</td> <td>    2.917</td> <td> 0.004</td> <td>    0.562</td> <td>    2.865</td>\n</tr>\n<tr>\n  <th>currency_US</th>                   <td>    0.5659</td> <td>    0.237</td> <td>    2.391</td> <td> 0.017</td> <td>    0.102</td> <td>    1.030</td>\n</tr>\n<tr>\n  <th>endDay_Mon</th>                    <td>    0.4243</td> <td>    0.242</td> <td>    1.752</td> <td> 0.080</td> <td>   -0.050</td> <td>    0.899</td>\n</tr>\n<tr>\n  <th>endDay_Sat</th>                    <td>   -0.6424</td> <td>    0.272</td> <td>   -2.359</td> <td> 0.018</td> <td>   -1.176</td> <td>   -0.109</td>\n</tr>\n<tr>\n  <th>endDay_Sun</th>                    <td>   -0.4512</td> <td>    0.259</td> <td>   -1.745</td> <td> 0.081</td> <td>   -0.958</td> <td>    0.056</td>\n</tr>\n<tr>\n  <th>endDay_Thu</th>                    <td>   -0.5853</td> <td>    0.559</td> <td>   -1.046</td> <td> 0.295</td> <td>   -1.682</td> <td>    0.511</td>\n</tr>\n<tr>\n  <th>endDay_Tue</th>                    <td>   -0.1899</td> <td>    0.304</td> <td>   -0.625</td> <td> 0.532</td> <td>   -0.785</td> <td>    0.406</td>\n</tr>\n<tr>\n  <th>endDay_Wed</th>                    <td>   -0.6557</td> <td>    0.473</td> <td>   -1.385</td> <td> 0.166</td> <td>   -1.584</td> <td>    0.272</td>\n</tr>\n</table>"
          },
          "metadata": {}
        }
      ],
      "execution_count": null
    },
    {
      "cell_type": "markdown",
      "source": "",
      "metadata": {
        "tags": [],
        "cell_id": "00001-a3e0eee7-79e0-4096-ae66-6d65a29d39d8",
        "deepnote_cell_type": "markdown"
      }
    },
    {
      "cell_type": "markdown",
      "source": "# Conclusion\n\nThe models defined help isolate which characteristics play a larger role in the prediction. In our case, the \"Category\" seem to be very important in prediction the success of the Ebay auction, a lot more so than the day the auction ended. The Photography category in general seem to yield competitive auctions. To note, the P-value for this particular dummie variable, although the coefficient was large, is not great. So the result may not be that meaningful.\n\nThe seller feedback could also help predict how competite an auction will do and the data should be kept in a predicting model. The P-value for the seller feedback was also very encouraging.\n",
      "metadata": {
        "tags": [],
        "cell_id": "00008-b6b19878-65e7-479b-a63c-9862a1bf74c5",
        "deepnote_cell_type": "markdown"
      }
    },
    {
      "cell_type": "markdown",
      "source": "<a style='text-decoration:none;line-height:16px;display:flex;color:#5B5B62;padding:10px;justify-content:end;' href='https://deepnote.com?utm_source=created-in-deepnote-cell&projectId=52e9ae2e-8d42-48c9-9988-588f5a262306' target=\"_blank\">\n<img style='display:inline;max-height:16px;margin:0px;margin-right:7.5px;' src='data:image/svg+xml;base64,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' > </img>\nCreated in <span style='font-weight:600;margin-left:4px;'>Deepnote</span></a>",
      "metadata": {
        "tags": [],
        "created_in_deepnote_cell": true,
        "deepnote_cell_type": "markdown"
      }
    }
  ],
  "nbformat": 4,
  "nbformat_minor": 2,
  "metadata": {
    "orig_nbformat": 2,
    "deepnote_notebook_id": "a643443b-3a4d-4adf-bc59-8707a1daeae7",
    "deepnote": {},
    "deepnote_execution_queue": []
  }
}