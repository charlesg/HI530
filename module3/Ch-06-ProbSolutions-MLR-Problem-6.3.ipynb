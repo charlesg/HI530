{
 "cells": [
  {
   "cell_type": "markdown",
   "metadata": {},
   "source": [
    "# Chapter 6: Multiple Linear Regression - Solution"
   ]
  },
  {
   "cell_type": "markdown",
   "metadata": {},
   "source": [
    "\n",
    "> (c) 2019-2020 Galit Shmueli, Peter C. Bruce, Peter Gedeck \n",
    ">\n",
    "> _Data Mining for Business Analytics: Concepts, Techniques, and Applications in Python_ (First Edition) \n",
    "> Galit Shmueli, Peter C. Bruce, Peter Gedeck, and Nitin R. Patel. 2019.\n",
    ">\n",
    "> Date: 2020-03-08\n",
    ">\n",
    "> Python Version: 3.8.2\n",
    "> Jupyter Notebook Version: 5.6.1\n",
    ">\n",
    "> Packages:\n",
    ">   - dmba: 0.0.12\n",
    ">   - matplotlib: 3.2.0\n",
    ">   - numpy: 1.18.1\n",
    ">   - pandas: 1.0.1\n",
    ">   - seaborn: 0.10.0\n",
    ">   - scikit-learn: 0.22.2\n",
    ">   - statsmodels: 0.11.1\n",
    ">\n",
    "> The assistance from Mr. Kuber Deokar and Ms. Anuja Kulkarni in preparing these solutions is gratefully acknowledged.\n"
   ]
  },
  {
   "cell_type": "code",
   "execution_count": 1,
   "metadata": {},
   "outputs": [],
   "source": [
    "# import required functionality for this chapter\n",
    "from pathlib import Path\n",
    "\n",
    "import pandas as pd\n",
    "import numpy as np\n",
    "from sklearn.linear_model import LinearRegression\n",
    "from sklearn.model_selection import train_test_split\n",
    "from sklearn.preprocessing import StandardScaler\n",
    "import statsmodels.formula.api as sm\n",
    "\n",
    "import matplotlib.pylab as plt\n",
    "import seaborn as sns\n",
    "\n",
    "from dmba import regressionSummary, exhaustive_search\n",
    "from dmba import backward_elimination, forward_selection, stepwise_selection\n",
    "from dmba import adjusted_r2_score, AIC_score #, BIC_score\n",
    "\n",
    "%matplotlib inline"
   ]
  },
  {
   "cell_type": "code",
   "execution_count": 2,
   "metadata": {},
   "outputs": [],
   "source": [
    "# Working directory:\n",
    "#\n",
    "# We assume that data are kept in the same directory as the notebook. If you keep your \n",
    "# data in a different folder, replace the argument of the `Path`\n",
    "DATA = Path('.')\n",
    "# and then load data using \n",
    "#\n",
    "# pd.read_csv(DATA / ‘filename.csv’)"
   ]
  },
  {
   "cell_type": "markdown",
   "metadata": {},
   "source": [
    "# Problem 6.3 Predicting Airfare on New Routes.\n",
    "\n",
    "The following problem takes place in the United States in the late 1990s, when many major US cities were facing issues with airport congestion, partly as a result of the 1978 deregulation of airlines. Both fares and routes were freed from regulation, and low-fare carriers such as Southwest (SW) began competing on existing routes and starting nonstop service on routes that previously lacked it. Building completely new airports is generally not feasible, but sometimes decommissioned military bases or smaller municipal airports can be reconfgured as regional or larger commercial airports. There are numerous players and interests involved in the issue (airlines, city, state and federal authorities, civic groups, the military, airport operators), and an aviation consulting firm is seeking advisory contracts with these players. The frm needs predictive models to support its consulting service. One thing the frm might want to be able to predict is fares, in the event a new airport is brought into service. The frm starts with the fle Airfares.csv, which contains real data that were collected between Q3-1996 and Q2-1997. The variables in these data are listed in Table 6.13, and are believed to be important in predicting FARE. Some airport-to-airport data are available, but most data are at the city-to-city level. One question that will be of interest in the analysis is the eﬀect that the presence or absence of Southwest has on FARE.\n",
    "\n",
    "![TABLE6.13](img\\TABLE_6.13.PNG)\n"
   ]
  },
  {
   "cell_type": "code",
   "execution_count": 3,
   "metadata": {},
   "outputs": [
    {
     "name": "stdout",
     "output_type": "stream",
     "text": [
      "\n",
      "dimension\n",
      " (638, 18)\n",
      "\n",
      "first five record\n",
      "\n",
      "  S_CODE                  S_CITY E_CODE                  E_CITY  COUPON  NEW  \\\n",
      "0      *  Dallas/Fort Worth   TX      *  Amarillo            TX    1.00    3   \n",
      "1      *  Atlanta             GA      *  Baltimore/Wash Intl MD    1.06    3   \n",
      "2      *  Boston              MA      *  Baltimore/Wash Intl MD    1.06    3   \n",
      "3    ORD  Chicago             IL      *  Baltimore/Wash Intl MD    1.06    3   \n",
      "4    MDW  Chicago             IL      *  Baltimore/Wash Intl MD    1.06    3   \n",
      "\n",
      "  VACATION   SW       HI  S_INCOME  E_INCOME    S_POP    E_POP        SLOT  \\\n",
      "0       No  Yes  5291.99   28637.0   21112.0  3036732   205711        Free   \n",
      "1       No   No  5419.16   26993.0   29838.0  3532657  7145897        Free   \n",
      "2       No   No  9185.28   30124.0   29838.0  5787293  7145897        Free   \n",
      "3       No  Yes  2657.35   29260.0   29838.0  7830332  7145897  Controlled   \n",
      "4       No  Yes  2657.35   29260.0   29838.0  7830332  7145897        Free   \n",
      "\n",
      "   GATE  DISTANCE    PAX    FARE  \n",
      "0  Free       312   7864   64.11  \n",
      "1  Free       576   8820  174.47  \n",
      "2  Free       364   6452  207.76  \n",
      "3  Free       612  25144   85.47  \n",
      "4  Free       612  25144   85.47  \n",
      "\n",
      "Data Type\n"
     ]
    },
    {
     "data": {
      "text/plain": [
       "S_CODE       object\n",
       "S_CITY       object\n",
       "E_CODE       object\n",
       "E_CITY       object\n",
       "COUPON      float64\n",
       "NEW           int64\n",
       "VACATION     object\n",
       "SW           object\n",
       "HI          float64\n",
       "S_INCOME    float64\n",
       "E_INCOME    float64\n",
       "S_POP         int64\n",
       "E_POP         int64\n",
       "SLOT         object\n",
       "GATE         object\n",
       "DISTANCE      int64\n",
       "PAX           int64\n",
       "FARE        float64\n",
       "dtype: object"
      ]
     },
     "execution_count": 3,
     "metadata": {},
     "output_type": "execute_result"
    }
   ],
   "source": [
    "# load the data and review\n",
    "airfares_df = pd.read_csv(DATA / 'Airfares.csv')\n",
    "# check data dimension\n",
    "print('\\ndimension\\n',airfares_df.shape)\n",
    "# view few records\n",
    "print('\\nfirst five record\\n')\n",
    "print(airfares_df.head())\n",
    "# variable types\n",
    "print('\\nData Type')\n",
    "airfares_df.dtypes"
   ]
  },
  {
   "cell_type": "code",
   "execution_count": 4,
   "metadata": {},
   "outputs": [
    {
     "data": {
      "text/plain": [
       "COUPON      float64\n",
       "NEW           int64\n",
       "VACATION     object\n",
       "SW           object\n",
       "HI          float64\n",
       "S_INCOME    float64\n",
       "E_INCOME    float64\n",
       "S_POP         int64\n",
       "E_POP         int64\n",
       "SLOT         object\n",
       "GATE         object\n",
       "DISTANCE      int64\n",
       "PAX           int64\n",
       "FARE        float64\n",
       "dtype: object"
      ]
     },
     "execution_count": 4,
     "metadata": {},
     "output_type": "execute_result"
    }
   ],
   "source": [
    "# preprocess\n",
    "# remove first four variables 'S_CODE', 'S_CITY', 'E_CODE', 'E_CITY'\n",
    "selected_var = ['COUPON', 'NEW', 'VACATION', 'SW', 'HI', 'S_INCOME', 'E_INCOME', 'S_POP', 'E_POP', 'SLOT', 'GATE',\n",
    "                'DISTANCE', 'PAX', 'FARE']\n",
    "airfares_df = airfares_df[selected_var]\n",
    "airfares_df.dtypes"
   ]
  },
  {
   "cell_type": "markdown",
   "metadata": {},
   "source": [
    "__6.3.a.__ Explore the numerical predictors and response (FARE) by creating a correlation table and examining some scatterplots between FARE and those predictors. What seems to be the best single predictor of FARE?"
   ]
  },
  {
   "cell_type": "markdown",
   "metadata": {},
   "source": [
    "__Answer:__"
   ]
  },
  {
   "cell_type": "code",
   "execution_count": 40,
   "metadata": {},
   "outputs": [
    {
     "data": {
      "text/plain": [
       "Index(['COUPON', 'NEW', 'HI', 'S_INCOME', 'E_INCOME', 'S_POP', 'E_POP',\n",
       "       'DISTANCE', 'PAX', 'FARE'],\n",
       "      dtype='object')"
      ]
     },
     "execution_count": 40,
     "metadata": {},
     "output_type": "execute_result"
    }
   ],
   "source": [
    "# create a new dataframe with numerical predictors\n",
    "predictors_df = airfares_df\n",
    "\n",
    "columns = list(airfares_df.columns)\n",
    "columns.remove('VACATION')\n",
    "columns.remove('SW')\n",
    "columns.remove('SLOT')\n",
    "columns.remove('GATE')\n",
    "predictors_df = predictors_df[columns]\n",
    "predictors_df.columns"
   ]
  },
  {
   "cell_type": "code",
   "execution_count": 41,
   "metadata": {
    "scrolled": true
   },
   "outputs": [
    {
     "data": {
      "text/html": [
       "<div>\n",
       "<style scoped>\n",
       "    .dataframe tbody tr th:only-of-type {\n",
       "        vertical-align: middle;\n",
       "    }\n",
       "\n",
       "    .dataframe tbody tr th {\n",
       "        vertical-align: top;\n",
       "    }\n",
       "\n",
       "    .dataframe thead th {\n",
       "        text-align: right;\n",
       "    }\n",
       "</style>\n",
       "<table border=\"1\" class=\"dataframe\">\n",
       "  <thead>\n",
       "    <tr style=\"text-align: right;\">\n",
       "      <th></th>\n",
       "      <th>COUPON</th>\n",
       "      <th>NEW</th>\n",
       "      <th>HI</th>\n",
       "      <th>S_INCOME</th>\n",
       "      <th>E_INCOME</th>\n",
       "      <th>S_POP</th>\n",
       "      <th>E_POP</th>\n",
       "      <th>DISTANCE</th>\n",
       "      <th>PAX</th>\n",
       "      <th>FARE</th>\n",
       "    </tr>\n",
       "  </thead>\n",
       "  <tbody>\n",
       "    <tr>\n",
       "      <th>COUPON</th>\n",
       "      <td>1.000000</td>\n",
       "      <td>0.020223</td>\n",
       "      <td>-0.347252</td>\n",
       "      <td>-0.088403</td>\n",
       "      <td>0.046889</td>\n",
       "      <td>-0.107763</td>\n",
       "      <td>0.094970</td>\n",
       "      <td>0.746805</td>\n",
       "      <td>-0.336974</td>\n",
       "      <td>0.496537</td>\n",
       "    </tr>\n",
       "    <tr>\n",
       "      <th>NEW</th>\n",
       "      <td>0.020223</td>\n",
       "      <td>1.000000</td>\n",
       "      <td>0.054147</td>\n",
       "      <td>0.026597</td>\n",
       "      <td>0.113377</td>\n",
       "      <td>-0.016672</td>\n",
       "      <td>0.058568</td>\n",
       "      <td>0.080965</td>\n",
       "      <td>0.010495</td>\n",
       "      <td>0.091730</td>\n",
       "    </tr>\n",
       "    <tr>\n",
       "      <th>HI</th>\n",
       "      <td>-0.347252</td>\n",
       "      <td>0.054147</td>\n",
       "      <td>1.000000</td>\n",
       "      <td>-0.027382</td>\n",
       "      <td>0.082393</td>\n",
       "      <td>-0.172495</td>\n",
       "      <td>-0.062456</td>\n",
       "      <td>-0.312375</td>\n",
       "      <td>-0.168961</td>\n",
       "      <td>0.025195</td>\n",
       "    </tr>\n",
       "    <tr>\n",
       "      <th>S_INCOME</th>\n",
       "      <td>-0.088403</td>\n",
       "      <td>0.026597</td>\n",
       "      <td>-0.027382</td>\n",
       "      <td>1.000000</td>\n",
       "      <td>-0.138864</td>\n",
       "      <td>0.517187</td>\n",
       "      <td>-0.272280</td>\n",
       "      <td>0.028153</td>\n",
       "      <td>0.138197</td>\n",
       "      <td>0.209135</td>\n",
       "    </tr>\n",
       "    <tr>\n",
       "      <th>E_INCOME</th>\n",
       "      <td>0.046889</td>\n",
       "      <td>0.113377</td>\n",
       "      <td>0.082393</td>\n",
       "      <td>-0.138864</td>\n",
       "      <td>1.000000</td>\n",
       "      <td>-0.144059</td>\n",
       "      <td>0.458418</td>\n",
       "      <td>0.176531</td>\n",
       "      <td>0.259961</td>\n",
       "      <td>0.326092</td>\n",
       "    </tr>\n",
       "    <tr>\n",
       "      <th>S_POP</th>\n",
       "      <td>-0.107763</td>\n",
       "      <td>-0.016672</td>\n",
       "      <td>-0.172495</td>\n",
       "      <td>0.517187</td>\n",
       "      <td>-0.144059</td>\n",
       "      <td>1.000000</td>\n",
       "      <td>-0.280143</td>\n",
       "      <td>0.018437</td>\n",
       "      <td>0.284611</td>\n",
       "      <td>0.145097</td>\n",
       "    </tr>\n",
       "    <tr>\n",
       "      <th>E_POP</th>\n",
       "      <td>0.094970</td>\n",
       "      <td>0.058568</td>\n",
       "      <td>-0.062456</td>\n",
       "      <td>-0.272280</td>\n",
       "      <td>0.458418</td>\n",
       "      <td>-0.280143</td>\n",
       "      <td>1.000000</td>\n",
       "      <td>0.115640</td>\n",
       "      <td>0.314698</td>\n",
       "      <td>0.285043</td>\n",
       "    </tr>\n",
       "    <tr>\n",
       "      <th>DISTANCE</th>\n",
       "      <td>0.746805</td>\n",
       "      <td>0.080965</td>\n",
       "      <td>-0.312375</td>\n",
       "      <td>0.028153</td>\n",
       "      <td>0.176531</td>\n",
       "      <td>0.018437</td>\n",
       "      <td>0.115640</td>\n",
       "      <td>1.000000</td>\n",
       "      <td>-0.102482</td>\n",
       "      <td>0.670016</td>\n",
       "    </tr>\n",
       "    <tr>\n",
       "      <th>PAX</th>\n",
       "      <td>-0.336974</td>\n",
       "      <td>0.010495</td>\n",
       "      <td>-0.168961</td>\n",
       "      <td>0.138197</td>\n",
       "      <td>0.259961</td>\n",
       "      <td>0.284611</td>\n",
       "      <td>0.314698</td>\n",
       "      <td>-0.102482</td>\n",
       "      <td>1.000000</td>\n",
       "      <td>-0.090705</td>\n",
       "    </tr>\n",
       "    <tr>\n",
       "      <th>FARE</th>\n",
       "      <td>0.496537</td>\n",
       "      <td>0.091730</td>\n",
       "      <td>0.025195</td>\n",
       "      <td>0.209135</td>\n",
       "      <td>0.326092</td>\n",
       "      <td>0.145097</td>\n",
       "      <td>0.285043</td>\n",
       "      <td>0.670016</td>\n",
       "      <td>-0.090705</td>\n",
       "      <td>1.000000</td>\n",
       "    </tr>\n",
       "  </tbody>\n",
       "</table>\n",
       "</div>"
      ],
      "text/plain": [
       "            COUPON       NEW        HI  S_INCOME  E_INCOME     S_POP  \\\n",
       "COUPON    1.000000  0.020223 -0.347252 -0.088403  0.046889 -0.107763   \n",
       "NEW       0.020223  1.000000  0.054147  0.026597  0.113377 -0.016672   \n",
       "HI       -0.347252  0.054147  1.000000 -0.027382  0.082393 -0.172495   \n",
       "S_INCOME -0.088403  0.026597 -0.027382  1.000000 -0.138864  0.517187   \n",
       "E_INCOME  0.046889  0.113377  0.082393 -0.138864  1.000000 -0.144059   \n",
       "S_POP    -0.107763 -0.016672 -0.172495  0.517187 -0.144059  1.000000   \n",
       "E_POP     0.094970  0.058568 -0.062456 -0.272280  0.458418 -0.280143   \n",
       "DISTANCE  0.746805  0.080965 -0.312375  0.028153  0.176531  0.018437   \n",
       "PAX      -0.336974  0.010495 -0.168961  0.138197  0.259961  0.284611   \n",
       "FARE      0.496537  0.091730  0.025195  0.209135  0.326092  0.145097   \n",
       "\n",
       "             E_POP  DISTANCE       PAX      FARE  \n",
       "COUPON    0.094970  0.746805 -0.336974  0.496537  \n",
       "NEW       0.058568  0.080965  0.010495  0.091730  \n",
       "HI       -0.062456 -0.312375 -0.168961  0.025195  \n",
       "S_INCOME -0.272280  0.028153  0.138197  0.209135  \n",
       "E_INCOME  0.458418  0.176531  0.259961  0.326092  \n",
       "S_POP    -0.280143  0.018437  0.284611  0.145097  \n",
       "E_POP     1.000000  0.115640  0.314698  0.285043  \n",
       "DISTANCE  0.115640  1.000000 -0.102482  0.670016  \n",
       "PAX       0.314698 -0.102482  1.000000 -0.090705  \n",
       "FARE      0.285043  0.670016 -0.090705  1.000000  "
      ]
     },
     "execution_count": 41,
     "metadata": {},
     "output_type": "execute_result"
    }
   ],
   "source": [
    "#correlation table\n",
    "predictors_df.corr()\n",
    "#corr.style.background_gradient()"
   ]
  },
  {
   "cell_type": "markdown",
   "metadata": {},
   "source": [
    "DISTANCE is the best single predictor of FARE with correlation coefficient of 0.67."
   ]
  },
  {
   "cell_type": "code",
   "execution_count": 42,
   "metadata": {},
   "outputs": [
    {
     "data": {
      "image/png": "[encoded data removed]",
      "text/plain": [
       "<Figure size 432x288 with 1 Axes>"
      ]
     },
     "metadata": {
      "needs_background": "light"
     },
     "output_type": "display_data"
    }
   ],
   "source": [
    "# Plot of coupon against fare\n",
    "plt.scatter(airfares_df.COUPON, airfares_df.FARE)\n",
    "plt.title('Scatter plot showing COUPON against Fare')\n",
    "plt.xlabel('Coupon')\n",
    "plt.ylabel('Fare')\n",
    "plt.show()"
   ]
  },
  {
   "cell_type": "code",
   "execution_count": 43,
   "metadata": {},
   "outputs": [
    {
     "data": {
      "image/png": "[encoded data removed]",
      "text/plain": [
       "<Figure size 432x288 with 1 Axes>"
      ]
     },
     "metadata": {
      "needs_background": "light"
     },
     "output_type": "display_data"
    }
   ],
   "source": [
    "# Plot of distance against fare\n",
    "plt.scatter(airfares_df.DISTANCE, airfares_df.FARE)\n",
    "plt.title('Scatter plot showing Distance against Fare')\n",
    "plt.xlabel('Distance')\n",
    "plt.ylabel('Fare')\n",
    "plt.show()"
   ]
  },
  {
   "cell_type": "markdown",
   "metadata": {},
   "source": [
    "__6.3.b.__ Explore the categorical predictors (excluding the first four) by computing the percentage of ﬂights in each category. Create a pivot table with the average fare in each category. Which categorical predictor seems best for predicting FARE?"
   ]
  },
  {
   "cell_type": "markdown",
   "metadata": {},
   "source": [
    "__Answer:__ "
   ]
  },
  {
   "cell_type": "code",
   "execution_count": 44,
   "metadata": {},
   "outputs": [
    {
     "name": "stdout",
     "output_type": "stream",
     "text": [
      "                mean\n",
      "                FARE\n",
      "VACATION            \n",
      "No        173.552500\n",
      "Yes       125.980882\n"
     ]
    }
   ],
   "source": [
    "pivot1 = pd.pivot_table(airfares_df, index= 'VACATION', values= \"FARE\",\n",
    "               aggfunc= [np.mean])\n",
    "print(pivot1)"
   ]
  },
  {
   "cell_type": "code",
   "execution_count": 45,
   "metadata": {},
   "outputs": [
    {
     "data": {
      "text/html": [
       "<div>\n",
       "<style scoped>\n",
       "    .dataframe tbody tr th:only-of-type {\n",
       "        vertical-align: middle;\n",
       "    }\n",
       "\n",
       "    .dataframe tbody tr th {\n",
       "        vertical-align: top;\n",
       "    }\n",
       "\n",
       "    .dataframe thead tr th {\n",
       "        text-align: left;\n",
       "    }\n",
       "\n",
       "    .dataframe thead tr:last-of-type th {\n",
       "        text-align: right;\n",
       "    }\n",
       "</style>\n",
       "<table border=\"1\" class=\"dataframe\">\n",
       "  <thead>\n",
       "    <tr>\n",
       "      <th></th>\n",
       "      <th>mean</th>\n",
       "    </tr>\n",
       "    <tr>\n",
       "      <th></th>\n",
       "      <th>FARE</th>\n",
       "    </tr>\n",
       "    <tr>\n",
       "      <th>SW</th>\n",
       "      <th></th>\n",
       "    </tr>\n",
       "  </thead>\n",
       "  <tbody>\n",
       "    <tr>\n",
       "      <th>No</th>\n",
       "      <td>188.182793</td>\n",
       "    </tr>\n",
       "    <tr>\n",
       "      <th>Yes</th>\n",
       "      <td>98.382268</td>\n",
       "    </tr>\n",
       "  </tbody>\n",
       "</table>\n",
       "</div>"
      ],
      "text/plain": [
       "           mean\n",
       "           FARE\n",
       "SW             \n",
       "No   188.182793\n",
       "Yes   98.382268"
      ]
     },
     "execution_count": 45,
     "metadata": {},
     "output_type": "execute_result"
    }
   ],
   "source": [
    "pd.pivot_table(airfares_df, index= 'SW', values= \"FARE\",\n",
    "               aggfunc= [np.mean])"
   ]
  },
  {
   "cell_type": "code",
   "execution_count": 46,
   "metadata": {},
   "outputs": [
    {
     "data": {
      "text/html": [
       "<div>\n",
       "<style scoped>\n",
       "    .dataframe tbody tr th:only-of-type {\n",
       "        vertical-align: middle;\n",
       "    }\n",
       "\n",
       "    .dataframe tbody tr th {\n",
       "        vertical-align: top;\n",
       "    }\n",
       "\n",
       "    .dataframe thead tr th {\n",
       "        text-align: left;\n",
       "    }\n",
       "\n",
       "    .dataframe thead tr:last-of-type th {\n",
       "        text-align: right;\n",
       "    }\n",
       "</style>\n",
       "<table border=\"1\" class=\"dataframe\">\n",
       "  <thead>\n",
       "    <tr>\n",
       "      <th></th>\n",
       "      <th>mean</th>\n",
       "    </tr>\n",
       "    <tr>\n",
       "      <th></th>\n",
       "      <th>FARE</th>\n",
       "    </tr>\n",
       "    <tr>\n",
       "      <th>SLOT</th>\n",
       "      <th></th>\n",
       "    </tr>\n",
       "  </thead>\n",
       "  <tbody>\n",
       "    <tr>\n",
       "      <th>Controlled</th>\n",
       "      <td>186.059396</td>\n",
       "    </tr>\n",
       "    <tr>\n",
       "      <th>Free</th>\n",
       "      <td>150.825680</td>\n",
       "    </tr>\n",
       "  </tbody>\n",
       "</table>\n",
       "</div>"
      ],
      "text/plain": [
       "                  mean\n",
       "                  FARE\n",
       "SLOT                  \n",
       "Controlled  186.059396\n",
       "Free        150.825680"
      ]
     },
     "execution_count": 46,
     "metadata": {},
     "output_type": "execute_result"
    }
   ],
   "source": [
    "pd.pivot_table(airfares_df, index= 'SLOT', values= \"FARE\",\n",
    "               aggfunc= [np.mean])"
   ]
  },
  {
   "cell_type": "code",
   "execution_count": 47,
   "metadata": {},
   "outputs": [
    {
     "data": {
      "text/html": [
       "<div>\n",
       "<style scoped>\n",
       "    .dataframe tbody tr th:only-of-type {\n",
       "        vertical-align: middle;\n",
       "    }\n",
       "\n",
       "    .dataframe tbody tr th {\n",
       "        vertical-align: top;\n",
       "    }\n",
       "\n",
       "    .dataframe thead tr th {\n",
       "        text-align: left;\n",
       "    }\n",
       "\n",
       "    .dataframe thead tr:last-of-type th {\n",
       "        text-align: right;\n",
       "    }\n",
       "</style>\n",
       "<table border=\"1\" class=\"dataframe\">\n",
       "  <thead>\n",
       "    <tr>\n",
       "      <th></th>\n",
       "      <th>mean</th>\n",
       "    </tr>\n",
       "    <tr>\n",
       "      <th></th>\n",
       "      <th>FARE</th>\n",
       "    </tr>\n",
       "    <tr>\n",
       "      <th>GATE</th>\n",
       "      <th></th>\n",
       "    </tr>\n",
       "  </thead>\n",
       "  <tbody>\n",
       "    <tr>\n",
       "      <th>Constrained</th>\n",
       "      <td>193.129032</td>\n",
       "    </tr>\n",
       "    <tr>\n",
       "      <th>Free</th>\n",
       "      <td>153.095953</td>\n",
       "    </tr>\n",
       "  </tbody>\n",
       "</table>\n",
       "</div>"
      ],
      "text/plain": [
       "                   mean\n",
       "                   FARE\n",
       "GATE                   \n",
       "Constrained  193.129032\n",
       "Free         153.095953"
      ]
     },
     "execution_count": 47,
     "metadata": {},
     "output_type": "execute_result"
    }
   ],
   "source": [
    "pd.pivot_table(airfares_df, index= 'GATE', values= \"FARE\",\n",
    "               aggfunc= [np.mean])"
   ]
  },
  {
   "cell_type": "markdown",
   "metadata": {},
   "source": [
    "SW is the single best categorical predictor of FARE."
   ]
  },
  {
   "cell_type": "markdown",
   "metadata": {},
   "source": [
    "__6.3.c.__ Find a model for predicting the average fare on a new route:\n",
    "\n",
    "__6.3.c.i.__ Convert categorical variables (e.g., SW) into dummy variables. Then, partition the data into training and validation sets. The model will be fit to the training data and evaluated on the validation set."
   ]
  },
  {
   "cell_type": "markdown",
   "metadata": {},
   "source": [
    "__Answer:__ "
   ]
  },
  {
   "cell_type": "markdown",
   "metadata": {},
   "source": [
    "The columns VACATION, SW, SLOT, and GATE are not numeric. Convert them to numeric."
   ]
  },
  {
   "cell_type": "code",
   "execution_count": 48,
   "metadata": {},
   "outputs": [],
   "source": [
    "airfares_df['VACATION'] = [1 if v == 'Yes' else 0 for v in airfares_df['VACATION']]\n",
    "airfares_df['SW'] = [1 if v == 'Yes' else 0 for v in airfares_df['SW']]\n",
    "airfares_df['SLOT'] = [1 if v == 'Controlled' else 0 for v in airfares_df['SLOT']]\n",
    "airfares_df['GATE'] = [1 if v == 'Constrained' else 0 for v in airfares_df['GATE']]"
   ]
  },
  {
   "cell_type": "code",
   "execution_count": 49,
   "metadata": {},
   "outputs": [
    {
     "name": "stdout",
     "output_type": "stream",
     "text": [
      "Training set: (382, 13) Validation set: (256, 13)\n"
     ]
    }
   ],
   "source": [
    "#partition the data into training (60%) and validation (40%) sets\n",
    "predictors = ['COUPON', 'NEW', 'VACATION', 'SW', 'HI', 'S_INCOME', 'E_INCOME', 'S_POP', 'E_POP', 'SLOT', 'GATE', 'DISTANCE',\n",
    "              'PAX']\n",
    "outcome = 'FARE'\n",
    "\n",
    "# partition the data\n",
    "X = pd.get_dummies(airfares_df[predictors], drop_first=True)\n",
    "y = airfares_df[outcome]\n",
    "train_X, valid_X, train_y, valid_y = train_test_split(X, y, test_size=0.4, random_state=1)\n",
    "\n",
    "print('Training set:', train_X.shape, 'Validation set:', valid_X.shape)"
   ]
  },
  {
   "cell_type": "markdown",
   "metadata": {},
   "source": [
    "__6.3.c.ii.__ Use stepwise regression to reduce the number of predictors. You can ignore the frst four predictors (S_CODE, S_CITY, E_CODE, E_CITY). Report the estimated model selected."
   ]
  },
  {
   "cell_type": "markdown",
   "metadata": {},
   "source": [
    "__Answer:__ "
   ]
  },
  {
   "cell_type": "code",
   "execution_count": 50,
   "metadata": {},
   "outputs": [
    {
     "name": "stdout",
     "output_type": "stream",
     "text": [
      "Variables: COUPON, NEW, VACATION, SW, HI, S_INCOME, E_INCOME, S_POP, E_POP, SLOT, GATE, DISTANCE, PAX\n",
      "Start: score=4379.42, constant\n",
      "Step: score=4149.88, add DISTANCE\n",
      "Step: score=4025.89, add SW\n",
      "Step: score=3913.59, add VACATION\n",
      "Step: score=3890.27, add HI\n",
      "Step: score=3873.33, add GATE\n",
      "Step: score=3852.81, add SLOT\n",
      "Step: score=3850.30, add PAX\n",
      "Step: score=3844.58, add E_POP\n",
      "Step: score=3826.43, add S_POP\n",
      "Step: score=3821.88, add E_INCOME\n",
      "Step: score=3821.88, unchanged None\n",
      "Best Subset: ['DISTANCE', 'SW', 'VACATION', 'HI', 'GATE', 'SLOT', 'PAX', 'E_POP', 'S_POP', 'E_INCOME']\n"
     ]
    }
   ],
   "source": [
    "# stepwise regression\n",
    "def train_model(variables):\n",
    "    if len(variables) == 0:\n",
    "        return None\n",
    "    model = LinearRegression()\n",
    "    model.fit(train_X[variables], train_y)\n",
    "    return model\n",
    "\n",
    "def score_model(model, variables):\n",
    "    if len(variables) == 0:\n",
    "        return AIC_score(train_y, [train_y.mean()] * len(train_y), model, df=1)\n",
    "    return AIC_score(train_y, model.predict(train_X[variables]), model)\n",
    "\n",
    "best_model, best_variables = stepwise_selection(train_X.columns, train_model, score_model, verbose=True)\n",
    "print(\"Best Subset:\", best_variables)"
   ]
  },
  {
   "cell_type": "markdown",
   "metadata": {},
   "source": [
    "According to the output the model with 10 predictors (11 coefficients) is the best one."
   ]
  },
  {
   "cell_type": "markdown",
   "metadata": {},
   "source": [
    "__6.3.c.iii.__ Repeat (ii) using exhaustive search instead of stepwise regression. Compare the resulting best model to the one you obtained in (ii) in terms of the predictors that are in the model."
   ]
  },
  {
   "cell_type": "markdown",
   "metadata": {},
   "source": [
    "__Answer:__ "
   ]
  },
  {
   "cell_type": "code",
   "execution_count": 51,
   "metadata": {},
   "outputs": [
    {
     "name": "stdout",
     "output_type": "stream",
     "text": [
      "     n     r2adj          AIC  COUPON  DISTANCE  E_INCOME  E_POP   GATE     HI    NEW    PAX  \\\n",
      "0    1  0.453107  4149.881509   False      True     False  False  False  False  False  False   \n",
      "1    2  0.605715  4025.892420   False      True     False  False  False  False  False  False   \n",
      "2    3  0.706909  3913.585125   False      True     False  False  False  False  False  False   \n",
      "3    4  0.724977  3890.268211   False      True     False  False  False   True  False  False   \n",
      "4    5  0.737584  3873.328296   False      True     False  False   True   True  False  False   \n",
      "5    6  0.751947  3852.808698   False      True     False  False   True   True  False  False   \n",
      "6    7  0.758747  3843.170960   False      True     False   True  False   True  False   True   \n",
      "7    8  0.765105  3833.945866   False      True     False   True   True   True  False   True   \n",
      "8    9  0.770266  3826.433471   False      True     False   True   True   True  False   True   \n",
      "9   10  0.773567  3821.876901   False      True      True   True   True   True  False   True   \n",
      "10  11  0.773595  3822.798222   False      True      True   True   True   True  False   True   \n",
      "11  12  0.773559  3823.825398   False      True      True   True   True   True   True   True   \n",
      "12  13  0.773292  3825.237680    True      True      True   True   True   True   True   True   \n",
      "\n",
      "     SLOT     SW  S_INCOME  S_POP  VACATION  \n",
      "0   False  False     False  False     False  \n",
      "1   False   True     False  False     False  \n",
      "2   False   True     False  False      True  \n",
      "3   False   True     False  False      True  \n",
      "4   False   True     False  False      True  \n",
      "5    True   True     False  False      True  \n",
      "6   False   True     False   True      True  \n",
      "7   False   True     False   True      True  \n",
      "8    True   True     False   True      True  \n",
      "9    True   True     False   True      True  \n",
      "10   True   True      True   True      True  \n",
      "11   True   True      True   True      True  \n",
      "12   True   True      True   True      True  \n"
     ]
    }
   ],
   "source": [
    "# exhaustive search\n",
    "def train_model(variables):\n",
    "    model = LinearRegression()\n",
    "    model.fit(train_X[variables], train_y)\n",
    "    return model\n",
    "\n",
    "def score_model(model, variables):\n",
    "    pred_y = model.predict(train_X[variables])\n",
    "    # we negate as score is optimized to be as low as possible\n",
    "    return -adjusted_r2_score(train_y, pred_y, model)\n",
    "\n",
    "allVariables = train_X.columns\n",
    "results = exhaustive_search(allVariables, train_model, score_model)\n",
    "\n",
    "data = []\n",
    "for result in results:\n",
    "    model = result['model']\n",
    "    variables = result['variables']\n",
    "    AIC = AIC_score(train_y, model.predict(train_X[variables]), model)\n",
    "    \n",
    "    d = {'n': result['n'], 'r2adj': -result['score'], 'AIC': AIC}\n",
    "    d.update({var: var in result['variables'] for var in allVariables})\n",
    "    data.append(d)\n",
    "pd.set_option('display.width', 100)\n",
    "print(pd.DataFrame(data, columns=('n', 'r2adj', 'AIC') + tuple(sorted(allVariables))))\n",
    "pd.reset_option('display.width')"
   ]
  },
  {
   "cell_type": "markdown",
   "metadata": {},
   "source": [
    "Stepwise selection produced best model with these 10 variables (11 coefficients): 'DISTANCE', 'SW', 'VACATION', 'HI', 'GATE', 'SLOT', 'PAX', 'E_POP', 'S_POP', 'E_INCOME'. It excluded variables named COUPON, NEW and S_INCOME.\n",
    "\n",
    "Exhaustive search also produced a model with 10 predictors (11 coefficients) which is the best one (according to adjusted R-squared and AIC values). It excluded the same variables named COUPON, NEW and S_INCOME."
   ]
  },
  {
   "cell_type": "markdown",
   "metadata": {},
   "source": [
    "__6.3.c.iv.__ Compare the predictive accuracy of both models (ii) and (iii) using measures such as RMSE and average error and lift charts."
   ]
  },
  {
   "cell_type": "markdown",
   "metadata": {},
   "source": [
    "__Answer:__\n",
    "\n",
    "Since models are same they will have the same predictive accuracy."
   ]
  },
  {
   "cell_type": "code",
   "execution_count": 52,
   "metadata": {},
   "outputs": [
    {
     "name": "stdout",
     "output_type": "stream",
     "text": [
      "intercept  17.56489387958925\n",
      "  Predictor  coefficient\n",
      "0  DISTANCE     0.075558\n",
      "1        SW   -43.031272\n",
      "2  VACATION   -35.865596\n",
      "3        HI     0.007188\n",
      "4      GATE    21.410803\n",
      "5      SLOT    13.915304\n",
      "6       PAX    -0.000829\n",
      "7     E_POP     0.000004\n",
      "8     S_POP     0.000004\n",
      "9  E_INCOME     0.001148\n",
      "\n",
      "Model performance on training data:\n",
      "\n",
      "Regression statistics\n",
      "\n",
      "                      Mean Error (ME) : -0.0000\n",
      "       Root Mean Squared Error (RMSE) : 34.8867\n",
      "            Mean Absolute Error (MAE) : 27.1374\n",
      "          Mean Percentage Error (MPE) : -4.5313\n",
      "Mean Absolute Percentage Error (MAPE) : 20.1672\n",
      "\n",
      "Model performance on validation data:\n",
      "\n",
      "Regression statistics\n",
      "\n",
      "                      Mean Error (ME) : -1.8591\n",
      "       Root Mean Squared Error (RMSE) : 36.1129\n",
      "            Mean Absolute Error (MAE) : 28.5252\n",
      "          Mean Percentage Error (MPE) : -6.7084\n",
      "Mean Absolute Percentage Error (MAPE) : 21.7198\n"
     ]
    }
   ],
   "source": [
    "# predictors and outcome\n",
    "predictors = ['DISTANCE', 'SW', 'VACATION', 'HI', 'GATE', 'SLOT', 'PAX', 'E_POP', 'S_POP', 'E_INCOME']\n",
    "outcome = 'FARE'\n",
    "X = train_X[predictors]\n",
    "y = train_y\n",
    "\n",
    "# fit the regression model y on x\n",
    "airfares_lm = LinearRegression()\n",
    "airfares_lm.fit(X,y)\n",
    "\n",
    "# print coefficients\n",
    "print('intercept ', airfares_lm.intercept_)\n",
    "print(pd.DataFrame({'Predictor': X.columns, 'coefficient': airfares_lm.coef_}))\n",
    "\n",
    "# print performance measures (training set)\n",
    "print(\"\\nModel performance on training data:\")\n",
    "regressionSummary(train_y, airfares_lm.predict(train_X[predictors]))\n",
    "\n",
    "# predict prices in validation set, print first few predicted/actual values and residuals\n",
    "airfares_lm_pred = airfares_lm.predict(valid_X[predictors])\n",
    "\n",
    "# print performance measures (validation set)\n",
    "print(\"\\nModel performance on validation data:\")\n",
    "regressionSummary(valid_y, airfares_lm_pred)\n"
   ]
  },
  {
   "cell_type": "markdown",
   "metadata": {},
   "source": [
    "__6.3.c.v.__ Using model (iii), predict the average fare on a route with the following characteristics: COUPON = 1.202, NEW = 3, VACATION = No, SW = No, HI = 4442.141, S_INCOME = 28,760, E_INCOME = 27,664, S_POP = 4,557,004, E_POP = 3,195,503, SLOT = Free, GATE = Free, PAX = 12,782, DISTANCE = 1976 miles."
   ]
  },
  {
   "cell_type": "markdown",
   "metadata": {},
   "source": [
    "__Answer:__ "
   ]
  },
  {
   "cell_type": "code",
   "execution_count": 53,
   "metadata": {},
   "outputs": [
    {
     "name": "stdout",
     "output_type": "stream",
     "text": [
      "   VACATION  SW        HI  E_INCOME    S_POP    E_POP  SLOT  GATE    PAX  \\\n",
      "0         0   0  4442.141     27664  4557004  3195503     1     1  12782   \n",
      "\n",
      "   DISTANCE  \n",
      "0      1976  \n"
     ]
    }
   ],
   "source": [
    "# Fare when SW does not cover this route\n",
    "# enter new data in data frame format\n",
    "new_data = pd.DataFrame([\n",
    "    {'VACATION': 0, 'SW': 0, 'HI': 4442.141, 'E_INCOME': 27664, 'S_POP': 4557004, 'E_POP': 3195503, 'SLOT': 1, 'GATE': 1,\n",
    "     'PAX': 12782, 'DISTANCE': 1976}])\n",
    "    \n",
    "print(new_data)"
   ]
  },
  {
   "cell_type": "code",
   "execution_count": 54,
   "metadata": {},
   "outputs": [
    {
     "name": "stdout",
     "output_type": "stream",
     "text": [
      "[287.04763737]\n"
     ]
    }
   ],
   "source": [
    "# predict Fare when SW does not cover this route\n",
    "pred = airfares_lm.predict(new_data[predictors])\n",
    "print(pred)"
   ]
  },
  {
   "cell_type": "markdown",
   "metadata": {},
   "source": [
    "__6.3.c.vi.__ Predict the reduction in average fare on the route in (v) if Southwest decides to cover this route [using model (iii)]."
   ]
  },
  {
   "cell_type": "markdown",
   "metadata": {},
   "source": [
    "__Answer:__ "
   ]
  },
  {
   "cell_type": "code",
   "execution_count": 55,
   "metadata": {},
   "outputs": [
    {
     "name": "stdout",
     "output_type": "stream",
     "text": [
      "[244.01636531]\n"
     ]
    }
   ],
   "source": [
    "# predict Fare when SW decides to cover this route\n",
    "new_data = pd.DataFrame([\n",
    "    {'VACATION': 0, 'SW': 1, 'HI': 4442.141, 'S_INCOME': 28760, 'E_INCOME': 27664, 'S_POP': 4557004, 'E_POP': 3195503, 'SLOT': 1, 'GATE': 1,\n",
    "     'PAX': 12782, 'DISTANCE': 1976}])\n",
    "pred1 = airfares_lm.predict(new_data[predictors])\n",
    "print(pred1)"
   ]
  },
  {
   "cell_type": "code",
   "execution_count": 56,
   "metadata": {},
   "outputs": [
    {
     "name": "stdout",
     "output_type": "stream",
     "text": [
      "[43.03127206]\n"
     ]
    }
   ],
   "source": [
    "# reduction in average fare after southwest decided to cover this route\n",
    "reduction = pred - pred1\n",
    "print(reduction)"
   ]
  },
  {
   "cell_type": "markdown",
   "metadata": {},
   "source": [
    "So the reduction in average fare after southwest decided to cover this route is $43."
   ]
  },
  {
   "cell_type": "markdown",
   "metadata": {},
   "source": [
    "__6.3.c.vii.__ In reality, which of the factors will not be available for predicting the average fare from a new airport (i.e., before ﬂights start operating on those routes)? Which ones can be estimated? How?\n",
    "\n",
    "__Answer:__\n",
    "\n",
    "Several of the variables would not be available until after flights start operating on the route.\n",
    "         \n",
    " COUPON    - Not Available   \n",
    " NEW       - Not Available   \n",
    " VACATION  - Available      \n",
    " SW        - Not Available  \n",
    " HI        - Not Available   \n",
    " S_INCOME  - Available    \n",
    " E_INCOME  - Available    \n",
    " S_POP     - Available    \n",
    " E_POP     - Available    \n",
    " SLOT      - Available    \n",
    " GATE      - Available    \n",
    " DISTANCE  - Available    \n",
    " PAX       - Not Available  "
   ]
  },
  {
   "cell_type": "markdown",
   "metadata": {},
   "source": [
    "__6.3.c.viii.__ Select a model that includes only factors that are available before ﬂights begin to operate on the new route. Use an exhaustive search to fnd such a model."
   ]
  },
  {
   "cell_type": "markdown",
   "metadata": {},
   "source": [
    "__Answer:__"
   ]
  },
  {
   "cell_type": "code",
   "execution_count": 57,
   "metadata": {},
   "outputs": [
    {
     "name": "stdout",
     "output_type": "stream",
     "text": [
      "Training set: (382, 8) Validation set: (256, 8)\n"
     ]
    }
   ],
   "source": [
    "# partition the data into training (60%) and validation (40%) sets\n",
    "predictors = ['VACATION', 'S_INCOME', 'E_INCOME', 'S_POP', 'E_POP', 'SLOT', 'GATE', 'DISTANCE']\n",
    "outcome = 'FARE'\n",
    "\n",
    "# partition the data\n",
    "X = pd.get_dummies(airfares_df[predictors], drop_first=True)\n",
    "y = airfares_df[outcome]\n",
    "train_X, valid_X, train_y, valid_y = train_test_split(X, y, test_size=0.4, random_state=1)\n",
    "\n",
    "print('Training set:', train_X.shape, 'Validation set:', valid_X.shape)"
   ]
  },
  {
   "cell_type": "code",
   "execution_count": 58,
   "metadata": {},
   "outputs": [
    {
     "name": "stdout",
     "output_type": "stream",
     "text": [
      "   n     r2adj          AIC  DISTANCE  E_INCOME  E_POP   GATE   SLOT  S_INCOME  S_POP  VACATION\n",
      "0  1  0.453107  4149.881509      True     False  False  False  False     False  False     False\n",
      "1  2  0.562472  4065.645719      True     False  False  False  False     False  False      True\n",
      "2  3  0.607897  4024.763754      True     False  False   True  False     False  False      True\n",
      "3  4  0.639707  3993.431429      True     False  False   True   True     False  False      True\n",
      "4  5  0.655706  3977.066487      True      True  False   True   True     False  False      True\n",
      "5  6  0.660329  3972.885153      True      True  False   True   True      True  False      True\n",
      "6  7  0.664409  3969.248469      True      True   True   True   True      True  False      True\n",
      "7  8  0.663807  3970.910599      True      True   True   True   True      True   True      True\n"
     ]
    }
   ],
   "source": [
    "# exhaustive search\n",
    "def train_model(variables):\n",
    "    model = LinearRegression()\n",
    "    model.fit(train_X[variables], train_y)\n",
    "    return model\n",
    "\n",
    "def score_model(model, variables):\n",
    "    pred_y = model.predict(train_X[variables])\n",
    "    # we negate as score is optimized to be as low as possible\n",
    "    return -adjusted_r2_score(train_y, pred_y, model)\n",
    "\n",
    "allVariables = train_X.columns\n",
    "results = exhaustive_search(allVariables, train_model, score_model)\n",
    "\n",
    "data = []\n",
    "for result in results:\n",
    "    model = result['model']\n",
    "    variables = result['variables']\n",
    "    AIC = AIC_score(train_y, model.predict(train_X[variables]), model)\n",
    "    \n",
    "    d = {'n': result['n'], 'r2adj': -result['score'], 'AIC': AIC}\n",
    "    d.update({var: var in result['variables'] for var in allVariables})\n",
    "    data.append(d)\n",
    "pd.set_option('display.width', 100)\n",
    "print(pd.DataFrame(data, columns=('n', 'r2adj', 'AIC') + tuple(sorted(allVariables))))\n",
    "pd.reset_option('display.width')"
   ]
  },
  {
   "cell_type": "markdown",
   "metadata": {},
   "source": [
    "Model with 7 predictors (8 coefficients) is the best one among other models in this case. That excludes the predictor S_POP."
   ]
  },
  {
   "cell_type": "markdown",
   "metadata": {},
   "source": [
    "__6.3.c.ix.__ Use the model in (viii) to predict the average fare on a route with characteristics COUPON = 1.202, NEW = 3, VACATION = No, SW = No, HI = 4442.141, S_INCOME = 28,760, E_INCOME = 27,664, S_ POP = 4,557,004, E_POP = 3,195,503, SLOT = Free, GATE = Free, PAX = 12782, DISTANCE = 1976 miles."
   ]
  },
  {
   "cell_type": "markdown",
   "metadata": {},
   "source": [
    "__Answer:__ "
   ]
  },
  {
   "cell_type": "code",
   "execution_count": 59,
   "metadata": {},
   "outputs": [
    {
     "name": "stdout",
     "output_type": "stream",
     "text": [
      "intercept  -40.8073738366258\n",
      "  Predictor  coefficient\n",
      "0  DISTANCE     0.077434\n",
      "1  VACATION   -41.230763\n",
      "2      GATE    38.056133\n",
      "3      SLOT    18.903701\n",
      "4     E_POP     0.000002\n",
      "5  E_INCOME     0.001974\n",
      "6  S_INCOME     0.002240\n",
      "\n",
      "Model performance on training data:\n",
      "\n",
      "Regression statistics\n",
      "\n",
      "                      Mean Error (ME) : -0.0000\n",
      "       Root Mean Squared Error (RMSE) : 42.6426\n",
      "            Mean Absolute Error (MAE) : 33.6897\n",
      "          Mean Percentage Error (MPE) : -8.2491\n",
      "Mean Absolute Percentage Error (MAPE) : 25.3452\n",
      "\n",
      "Model performance on validation data:\n",
      "\n",
      "Regression statistics\n",
      "\n",
      "                      Mean Error (ME) : 0.3728\n",
      "       Root Mean Squared Error (RMSE) : 43.8816\n",
      "            Mean Absolute Error (MAE) : 35.2079\n",
      "          Mean Percentage Error (MPE) : -9.9589\n",
      "Mean Absolute Percentage Error (MAPE) : 26.4530\n"
     ]
    }
   ],
   "source": [
    "# predictors and outcome\n",
    "predictors = ['DISTANCE', 'VACATION', 'GATE', 'SLOT', 'E_POP', 'E_INCOME', 'S_INCOME']\n",
    "outcome = 'FARE'\n",
    "X = train_X[predictors]\n",
    "y = train_y\n",
    "\n",
    "#fit the regression model y on x\n",
    "airfares_lm = LinearRegression()\n",
    "airfares_lm.fit(X,y)\n",
    "\n",
    "# print coefficients\n",
    "print('intercept ', airfares_lm.intercept_)\n",
    "print(pd.DataFrame({'Predictor': X.columns, 'coefficient': airfares_lm.coef_}))\n",
    "\n",
    "# print performance measures (training set)\n",
    "print(\"\\nModel performance on training data:\")\n",
    "regressionSummary(train_y, airfares_lm.predict(train_X[predictors]))\n",
    "\n",
    "# predict prices in validation set, print first few predicted/actual values and residuals\n",
    "airfares_lm_pred = airfares_lm.predict(valid_X[predictors])\n",
    "\n",
    "# print performance measures (validation set)\n",
    "print(\"\\nModel performance on validation data:\")\n",
    "regressionSummary(valid_y, airfares_lm_pred)\n"
   ]
  },
  {
   "cell_type": "code",
   "execution_count": 60,
   "metadata": {
    "scrolled": true
   },
   "outputs": [
    {
     "name": "stdout",
     "output_type": "stream",
     "text": [
      "[295.58795228]\n"
     ]
    }
   ],
   "source": [
    "# predict Fare for new data\n",
    "print(airfares_lm.predict(new_data[predictors]))"
   ]
  },
  {
   "cell_type": "markdown",
   "metadata": {},
   "source": [
    "So the average fare on this route is $295.59. "
   ]
  },
  {
   "cell_type": "markdown",
   "metadata": {},
   "source": [
    "__6.3.c.x.__ Compare the predictive accuracy of this model with model (iii). Is this model good enough, or is it worthwhile reevaluating the model once ﬂights begin on the new route?\n",
    "\n",
    "__Answer:__ \n",
    "\n",
    "RMS error is higher in model (viii). We need to reevaluate the model once flights commence on the new routes."
   ]
  },
  {
   "cell_type": "markdown",
   "metadata": {},
   "source": [
    "__6.3.d.__ In competitive industries, a new entrant with a novel business plan can have a disruptive eﬀect on existing firms. If a new entrant’s business model is sustainable, other players are forced to respond by changing their business practices. If the goal of the analysis was to evaluate the eﬀect of Southwest Airlines’ presence on the airline industry rather than predicting fares on new routes, how would the analysis be diﬀerent? Describe technical and conceptual aspects."
   ]
  }
 ],
 "metadata": {
  "kernelspec": {
   "display_name": "Python 3",
   "language": "python",
   "name": "python3"
  },
  "language_info": {
   "codemirror_mode": {
    "name": "ipython",
    "version": 3
   },
   "file_extension": ".py",
   "mimetype": "text/x-python",
   "name": "python",
   "nbconvert_exporter": "python",
   "pygments_lexer": "ipython3",
   "version": "3.7.7"
  }
 },
 "nbformat": 4,
 "nbformat_minor": 2
}
