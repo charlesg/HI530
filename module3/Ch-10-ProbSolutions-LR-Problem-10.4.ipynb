{
 "cells": [
  {
   "cell_type": "markdown",
   "metadata": {},
   "source": [
    "# Chapter 10: Logistic Regression (LR)"
   ]
  },
  {
   "cell_type": "markdown",
   "metadata": {},
   "source": [
    "\n",
    "> (c) 2019-2020 Galit Shmueli, Peter C. Bruce, Peter Gedeck \n",
    ">\n",
    "> _Data Mining for Business Analytics: Concepts, Techniques, and Applications in Python_ (First Edition) \n",
    "> Galit Shmueli, Peter C. Bruce, Peter Gedeck, and Nitin R. Patel. 2019.\n",
    ">\n",
    "> Date: 2020-03-09\n",
    ">\n",
    "> Python Version: 3.8.2\n",
    "> Jupyter Notebook Version: 5.6.1\n",
    ">\n",
    "> Packages:\n",
    ">   - dmba: 0.0.12\n",
    ">   - matplotlib: 3.2.0\n",
    ">   - numpy: 1.18.1\n",
    ">   - pandas: 1.0.1\n",
    ">   - scikit-learn: 0.22.2\n",
    ">\n",
    "> The assistance from Mr. Kuber Deokar and Ms. Anuja Kulkarni in preparing these solutions is gratefully acknowledged.\n"
   ]
  },
  {
   "cell_type": "code",
   "execution_count": 2,
   "metadata": {},
   "outputs": [],
   "source": [
    "# Import required packages for this chapter\n",
    "from pathlib import Path\n",
    "import math\n",
    "\n",
    "import numpy as np\n",
    "import pandas as pd\n",
    "from sklearn.model_selection import train_test_split\n",
    "from sklearn.linear_model import LogisticRegression, LogisticRegressionCV\n",
    "from sklearn.metrics import accuracy_score\n",
    "\n",
    "import matplotlib.pylab as plt\n",
    "\n",
    "from dmba import classificationSummary\n",
    "from dmba import AIC_score\n",
    "from dmba import backward_elimination, forward_selection, stepwise_selection\n",
    "\n",
    "%matplotlib inline"
   ]
  },
  {
   "cell_type": "code",
   "execution_count": 3,
   "metadata": {},
   "outputs": [],
   "source": [
    "# Working directory:\n",
    "#\n",
    "# We assume that data are kept in the same directory as the notebook. If you keep your \n",
    "# data in a different folder, replace the argument of the `Path`\n",
    "DATA = Path('.')\n",
    "# and then load data using \n",
    "#\n",
    "# pd.read_csv(DATA / ‘filename.csv’)"
   ]
  },
  {
   "cell_type": "markdown",
   "metadata": {},
   "source": [
    "# Problem 10.4 Competitive Auctions on eBay.com. \n",
    "\n",
    "The file _eBayAuctions.csv_ contains information on 1972 auctions transacted on eBay.com during May–June 2004. The goal is to\n",
    "use these data to build a model that will distinguish competitive auctions from noncompetitive ones. A competitive auction is defined as an auction with at least two bids placed on the item being auctioned. The data include variables that describe the\n",
    "item (auction category), the seller (his or her eBay rating), and the auction terms that the seller selected (auction duration, opening price, currency, day of week of auction close). In addition, we have the price at which the auction closed. The goal is to predict whether or not an auction of interest will be competitive.\n",
    "\n",
    "__Data preprocessing.__ Create dummy variables for the categorical predictors. These include Category (18 categories), Currency (USD, GBP, Euro), EndDay (Monday–Sunday), and Duration (1, 3, 5, 7, or 10 days)."
   ]
  },
  {
   "cell_type": "markdown",
   "metadata": {},
   "source": [
    "__10.4.a.__ Create pivot tables for the mean of the binary outcome (Competitive?) as a function of the various categorical variables (use the original variables, not the dummies). Use the information in the tables to reduce the number of dummies that will be used in the model. For example, categories that appear most similar with respect to the distribution of competitive auctions could be combined."
   ]
  },
  {
   "cell_type": "markdown",
   "metadata": {},
   "source": [
    "__Answer:__"
   ]
  },
  {
   "cell_type": "code",
   "execution_count": 39,
   "metadata": {},
   "outputs": [
    {
     "data": {
      "text/plain": [
       "Index(['Category', 'currency', 'sellerRating', 'Duration', 'endDay',\n",
       "       'ClosePrice', 'OpenPrice', 'Competitive?'],\n",
       "      dtype='object')"
      ]
     },
     "execution_count": 39,
     "metadata": {},
     "output_type": "execute_result"
    }
   ],
   "source": [
    "# load the data\n",
    "ebay_df = pd.read_csv(DATA / 'eBayAuctions.csv')\n",
    "ebay_df.columns"
   ]
  },
  {
   "cell_type": "code",
   "execution_count": 40,
   "metadata": {},
   "outputs": [
    {
     "data": {
      "text/plain": [
       "Index(['Category', 'currency', 'sellerRating', 'Duration', 'endDay',\n",
       "       'ClosePrice', 'OpenPrice', 'Competitive'],\n",
       "      dtype='object')"
      ]
     },
     "execution_count": 40,
     "metadata": {},
     "output_type": "execute_result"
    }
   ],
   "source": [
    "# prettify variable names\n",
    "ebay_df.columns = [c.replace('?', '') for c in ebay_df.columns]\n",
    "ebay_df.columns"
   ]
  },
  {
   "cell_type": "code",
   "execution_count": 41,
   "metadata": {},
   "outputs": [
    {
     "data": {
      "text/plain": [
       "Category         object\n",
       "currency         object\n",
       "sellerRating      int64\n",
       "Duration          int64\n",
       "endDay           object\n",
       "ClosePrice      float64\n",
       "OpenPrice       float64\n",
       "Competitive       int64\n",
       "dtype: object"
      ]
     },
     "execution_count": 41,
     "metadata": {},
     "output_type": "execute_result"
    }
   ],
   "source": [
    "# check the variable types\n",
    "ebay_df.dtypes"
   ]
  },
  {
   "cell_type": "code",
   "execution_count": 42,
   "metadata": {},
   "outputs": [
    {
     "data": {
      "text/html": [
       "<div>\n",
       "<style scoped>\n",
       "    .dataframe tbody tr th:only-of-type {\n",
       "        vertical-align: middle;\n",
       "    }\n",
       "\n",
       "    .dataframe tbody tr th {\n",
       "        vertical-align: top;\n",
       "    }\n",
       "\n",
       "    .dataframe thead tr th {\n",
       "        text-align: left;\n",
       "    }\n",
       "\n",
       "    .dataframe thead tr:last-of-type th {\n",
       "        text-align: right;\n",
       "    }\n",
       "</style>\n",
       "<table border=\"1\" class=\"dataframe\">\n",
       "  <thead>\n",
       "    <tr>\n",
       "      <th></th>\n",
       "      <th>mean</th>\n",
       "    </tr>\n",
       "    <tr>\n",
       "      <th></th>\n",
       "      <th>Competitive</th>\n",
       "    </tr>\n",
       "    <tr>\n",
       "      <th>Category</th>\n",
       "      <th></th>\n",
       "    </tr>\n",
       "  </thead>\n",
       "  <tbody>\n",
       "    <tr>\n",
       "      <th>Photography</th>\n",
       "      <td>0.846154</td>\n",
       "    </tr>\n",
       "    <tr>\n",
       "      <th>Electronics</th>\n",
       "      <td>0.800000</td>\n",
       "    </tr>\n",
       "    <tr>\n",
       "      <th>SportingGoods</th>\n",
       "      <td>0.725806</td>\n",
       "    </tr>\n",
       "    <tr>\n",
       "      <th>Business/Industrial</th>\n",
       "      <td>0.666667</td>\n",
       "    </tr>\n",
       "    <tr>\n",
       "      <th>Computer</th>\n",
       "      <td>0.666667</td>\n",
       "    </tr>\n",
       "    <tr>\n",
       "      <th>Home/Garden</th>\n",
       "      <td>0.656863</td>\n",
       "    </tr>\n",
       "    <tr>\n",
       "      <th>Music/Movie/Game</th>\n",
       "      <td>0.602978</td>\n",
       "    </tr>\n",
       "    <tr>\n",
       "      <th>Collectibles</th>\n",
       "      <td>0.577406</td>\n",
       "    </tr>\n",
       "    <tr>\n",
       "      <th>Antique/Art/Craft</th>\n",
       "      <td>0.564972</td>\n",
       "    </tr>\n",
       "    <tr>\n",
       "      <th>Toys/Hobbies</th>\n",
       "      <td>0.529915</td>\n",
       "    </tr>\n",
       "    <tr>\n",
       "      <th>Clothing/Accessories</th>\n",
       "      <td>0.504202</td>\n",
       "    </tr>\n",
       "    <tr>\n",
       "      <th>Books</th>\n",
       "      <td>0.500000</td>\n",
       "    </tr>\n",
       "    <tr>\n",
       "      <th>Jewelry</th>\n",
       "      <td>0.365854</td>\n",
       "    </tr>\n",
       "    <tr>\n",
       "      <th>Automotive</th>\n",
       "      <td>0.353933</td>\n",
       "    </tr>\n",
       "    <tr>\n",
       "      <th>Pottery/Glass</th>\n",
       "      <td>0.350000</td>\n",
       "    </tr>\n",
       "    <tr>\n",
       "      <th>Coins/Stamps</th>\n",
       "      <td>0.297297</td>\n",
       "    </tr>\n",
       "    <tr>\n",
       "      <th>EverythingElse</th>\n",
       "      <td>0.235294</td>\n",
       "    </tr>\n",
       "    <tr>\n",
       "      <th>Health/Beauty</th>\n",
       "      <td>0.171875</td>\n",
       "    </tr>\n",
       "  </tbody>\n",
       "</table>\n",
       "</div>"
      ],
      "text/plain": [
       "                            mean\n",
       "                     Competitive\n",
       "Category                        \n",
       "Photography             0.846154\n",
       "Electronics             0.800000\n",
       "SportingGoods           0.725806\n",
       "Business/Industrial     0.666667\n",
       "Computer                0.666667\n",
       "Home/Garden             0.656863\n",
       "Music/Movie/Game        0.602978\n",
       "Collectibles            0.577406\n",
       "Antique/Art/Craft       0.564972\n",
       "Toys/Hobbies            0.529915\n",
       "Clothing/Accessories    0.504202\n",
       "Books                   0.500000\n",
       "Jewelry                 0.365854\n",
       "Automotive              0.353933\n",
       "Pottery/Glass           0.350000\n",
       "Coins/Stamps            0.297297\n",
       "EverythingElse          0.235294\n",
       "Health/Beauty           0.171875"
      ]
     },
     "execution_count": 42,
     "metadata": {},
     "output_type": "execute_result"
    }
   ],
   "source": [
    "# pivot table of Competitive and Category\n",
    "pivot1 = pd.pivot_table(ebay_df, index= 'Category', values= \"Competitive\",\n",
    "               aggfunc= [np.mean])\n",
    "pivot1.sort_values(pivot1.columns[0], ascending=False)"
   ]
  },
  {
   "cell_type": "code",
   "execution_count": 43,
   "metadata": {},
   "outputs": [
    {
     "data": {
      "text/html": [
       "<div>\n",
       "<style scoped>\n",
       "    .dataframe tbody tr th:only-of-type {\n",
       "        vertical-align: middle;\n",
       "    }\n",
       "\n",
       "    .dataframe tbody tr th {\n",
       "        vertical-align: top;\n",
       "    }\n",
       "\n",
       "    .dataframe thead tr th {\n",
       "        text-align: left;\n",
       "    }\n",
       "\n",
       "    .dataframe thead tr:last-of-type th {\n",
       "        text-align: right;\n",
       "    }\n",
       "</style>\n",
       "<table border=\"1\" class=\"dataframe\">\n",
       "  <thead>\n",
       "    <tr>\n",
       "      <th></th>\n",
       "      <th>mean</th>\n",
       "    </tr>\n",
       "    <tr>\n",
       "      <th></th>\n",
       "      <th>Competitive</th>\n",
       "    </tr>\n",
       "    <tr>\n",
       "      <th>currency</th>\n",
       "      <th></th>\n",
       "    </tr>\n",
       "  </thead>\n",
       "  <tbody>\n",
       "    <tr>\n",
       "      <th>GBP</th>\n",
       "      <td>0.687075</td>\n",
       "    </tr>\n",
       "    <tr>\n",
       "      <th>EUR</th>\n",
       "      <td>0.551595</td>\n",
       "    </tr>\n",
       "    <tr>\n",
       "      <th>US</th>\n",
       "      <td>0.519350</td>\n",
       "    </tr>\n",
       "  </tbody>\n",
       "</table>\n",
       "</div>"
      ],
      "text/plain": [
       "                mean\n",
       "         Competitive\n",
       "currency            \n",
       "GBP         0.687075\n",
       "EUR         0.551595\n",
       "US          0.519350"
      ]
     },
     "execution_count": 43,
     "metadata": {},
     "output_type": "execute_result"
    }
   ],
   "source": [
    "# pivot table of Competitive and \n",
    "pivot2 = pd.pivot_table(ebay_df, index= 'currency', values= \"Competitive\",\n",
    "               aggfunc= [np.mean])\n",
    "pivot2.sort_values(pivot1.columns[0], ascending=False)"
   ]
  },
  {
   "cell_type": "code",
   "execution_count": 44,
   "metadata": {},
   "outputs": [
    {
     "data": {
      "text/html": [
       "<div>\n",
       "<style scoped>\n",
       "    .dataframe tbody tr th:only-of-type {\n",
       "        vertical-align: middle;\n",
       "    }\n",
       "\n",
       "    .dataframe tbody tr th {\n",
       "        vertical-align: top;\n",
       "    }\n",
       "\n",
       "    .dataframe thead tr th {\n",
       "        text-align: left;\n",
       "    }\n",
       "\n",
       "    .dataframe thead tr:last-of-type th {\n",
       "        text-align: right;\n",
       "    }\n",
       "</style>\n",
       "<table border=\"1\" class=\"dataframe\">\n",
       "  <thead>\n",
       "    <tr>\n",
       "      <th></th>\n",
       "      <th>mean</th>\n",
       "    </tr>\n",
       "    <tr>\n",
       "      <th></th>\n",
       "      <th>Competitive</th>\n",
       "    </tr>\n",
       "    <tr>\n",
       "      <th>endDay</th>\n",
       "      <th></th>\n",
       "    </tr>\n",
       "  </thead>\n",
       "  <tbody>\n",
       "    <tr>\n",
       "      <th>Mon</th>\n",
       "      <td>0.673358</td>\n",
       "    </tr>\n",
       "    <tr>\n",
       "      <th>Thu</th>\n",
       "      <td>0.603960</td>\n",
       "    </tr>\n",
       "    <tr>\n",
       "      <th>Tue</th>\n",
       "      <td>0.532164</td>\n",
       "    </tr>\n",
       "    <tr>\n",
       "      <th>Sun</th>\n",
       "      <td>0.485207</td>\n",
       "    </tr>\n",
       "    <tr>\n",
       "      <th>Wed</th>\n",
       "      <td>0.480000</td>\n",
       "    </tr>\n",
       "    <tr>\n",
       "      <th>Fri</th>\n",
       "      <td>0.466899</td>\n",
       "    </tr>\n",
       "    <tr>\n",
       "      <th>Sat</th>\n",
       "      <td>0.427350</td>\n",
       "    </tr>\n",
       "  </tbody>\n",
       "</table>\n",
       "</div>"
      ],
      "text/plain": [
       "              mean\n",
       "       Competitive\n",
       "endDay            \n",
       "Mon       0.673358\n",
       "Thu       0.603960\n",
       "Tue       0.532164\n",
       "Sun       0.485207\n",
       "Wed       0.480000\n",
       "Fri       0.466899\n",
       "Sat       0.427350"
      ]
     },
     "execution_count": 44,
     "metadata": {},
     "output_type": "execute_result"
    }
   ],
   "source": [
    "# pivot table of Competitive and Category\n",
    "pivot3 = pd.pivot_table(ebay_df, index= 'endDay', values= \"Competitive\",\n",
    "               aggfunc= [np.mean])\n",
    "pivot3.sort_values(pivot1.columns[0], ascending=False)"
   ]
  },
  {
   "cell_type": "markdown",
   "metadata": {},
   "source": [
    "The categories \"Business/Industrials\" and \"Computers\" have same average of the binary variable \"Competitive.\" This means that the percentage of competitive auctions in each of these two categories is equal. Hence we can combine the two categories into a single category called \"Computers.\" Similarly, the average of \"competitive\" for the categories \"Antique/Art/Craft\" and \"Collectibles\" are almost same. Therefore, we can combine them into a single category called \"collectibles\". The auction ending days \"Sunday\" and \"Wednesday\" have approximately equal averages for \"competitive\". So we can combine them into a single category called \"Sun_Wed\"."
   ]
  },
  {
   "cell_type": "code",
   "execution_count": 45,
   "metadata": {
    "scrolled": true
   },
   "outputs": [],
   "source": [
    "ebay_df.loc[ebay_df.endDay == 'Sun', 'endDay'] = 'Sun_Wed'\n",
    "ebay_df.loc[ebay_df.endDay == 'Wed', 'endDay'] = 'Sun_Wed'\n",
    "\n",
    "ebay_df.loc[ebay_df.Category == \"Business/Industrial\", 'Category'] = 'Computer'\n",
    "ebay_df.loc[ebay_df.Category == \"Antique/Art/Craft\", 'Category'] = 'Collectibles'"
   ]
  },
  {
   "cell_type": "code",
   "execution_count": 46,
   "metadata": {
    "scrolled": false
   },
   "outputs": [
    {
     "data": {
      "text/html": [
       "<div>\n",
       "<style scoped>\n",
       "    .dataframe tbody tr th:only-of-type {\n",
       "        vertical-align: middle;\n",
       "    }\n",
       "\n",
       "    .dataframe tbody tr th {\n",
       "        vertical-align: top;\n",
       "    }\n",
       "\n",
       "    .dataframe thead tr th {\n",
       "        text-align: left;\n",
       "    }\n",
       "\n",
       "    .dataframe thead tr:last-of-type th {\n",
       "        text-align: right;\n",
       "    }\n",
       "</style>\n",
       "<table border=\"1\" class=\"dataframe\">\n",
       "  <thead>\n",
       "    <tr>\n",
       "      <th></th>\n",
       "      <th>mean</th>\n",
       "    </tr>\n",
       "    <tr>\n",
       "      <th></th>\n",
       "      <th>Competitive</th>\n",
       "    </tr>\n",
       "    <tr>\n",
       "      <th>Category</th>\n",
       "      <th></th>\n",
       "    </tr>\n",
       "  </thead>\n",
       "  <tbody>\n",
       "    <tr>\n",
       "      <th>Photography</th>\n",
       "      <td>0.846154</td>\n",
       "    </tr>\n",
       "    <tr>\n",
       "      <th>Electronics</th>\n",
       "      <td>0.800000</td>\n",
       "    </tr>\n",
       "    <tr>\n",
       "      <th>SportingGoods</th>\n",
       "      <td>0.725806</td>\n",
       "    </tr>\n",
       "    <tr>\n",
       "      <th>Computer</th>\n",
       "      <td>0.666667</td>\n",
       "    </tr>\n",
       "    <tr>\n",
       "      <th>Home/Garden</th>\n",
       "      <td>0.656863</td>\n",
       "    </tr>\n",
       "    <tr>\n",
       "      <th>Music/Movie/Game</th>\n",
       "      <td>0.602978</td>\n",
       "    </tr>\n",
       "    <tr>\n",
       "      <th>Collectibles</th>\n",
       "      <td>0.572115</td>\n",
       "    </tr>\n",
       "    <tr>\n",
       "      <th>Toys/Hobbies</th>\n",
       "      <td>0.529915</td>\n",
       "    </tr>\n",
       "    <tr>\n",
       "      <th>Clothing/Accessories</th>\n",
       "      <td>0.504202</td>\n",
       "    </tr>\n",
       "    <tr>\n",
       "      <th>Books</th>\n",
       "      <td>0.500000</td>\n",
       "    </tr>\n",
       "    <tr>\n",
       "      <th>Jewelry</th>\n",
       "      <td>0.365854</td>\n",
       "    </tr>\n",
       "    <tr>\n",
       "      <th>Automotive</th>\n",
       "      <td>0.353933</td>\n",
       "    </tr>\n",
       "    <tr>\n",
       "      <th>Pottery/Glass</th>\n",
       "      <td>0.350000</td>\n",
       "    </tr>\n",
       "    <tr>\n",
       "      <th>Coins/Stamps</th>\n",
       "      <td>0.297297</td>\n",
       "    </tr>\n",
       "    <tr>\n",
       "      <th>EverythingElse</th>\n",
       "      <td>0.235294</td>\n",
       "    </tr>\n",
       "    <tr>\n",
       "      <th>Health/Beauty</th>\n",
       "      <td>0.171875</td>\n",
       "    </tr>\n",
       "  </tbody>\n",
       "</table>\n",
       "</div>"
      ],
      "text/plain": [
       "                            mean\n",
       "                     Competitive\n",
       "Category                        \n",
       "Photography             0.846154\n",
       "Electronics             0.800000\n",
       "SportingGoods           0.725806\n",
       "Computer                0.666667\n",
       "Home/Garden             0.656863\n",
       "Music/Movie/Game        0.602978\n",
       "Collectibles            0.572115\n",
       "Toys/Hobbies            0.529915\n",
       "Clothing/Accessories    0.504202\n",
       "Books                   0.500000\n",
       "Jewelry                 0.365854\n",
       "Automotive              0.353933\n",
       "Pottery/Glass           0.350000\n",
       "Coins/Stamps            0.297297\n",
       "EverythingElse          0.235294\n",
       "Health/Beauty           0.171875"
      ]
     },
     "execution_count": 46,
     "metadata": {},
     "output_type": "execute_result"
    }
   ],
   "source": [
    "# pivot table of Competitive and Category\n",
    "pivot1 = pd.pivot_table(ebay_df, index= 'Category', values= \"Competitive\",\n",
    "               aggfunc= [np.mean])\n",
    "pivot1.sort_values(pivot1.columns[0], ascending=False)"
   ]
  },
  {
   "cell_type": "code",
   "execution_count": 47,
   "metadata": {},
   "outputs": [
    {
     "data": {
      "text/html": [
       "<div>\n",
       "<style scoped>\n",
       "    .dataframe tbody tr th:only-of-type {\n",
       "        vertical-align: middle;\n",
       "    }\n",
       "\n",
       "    .dataframe tbody tr th {\n",
       "        vertical-align: top;\n",
       "    }\n",
       "\n",
       "    .dataframe thead tr th {\n",
       "        text-align: left;\n",
       "    }\n",
       "\n",
       "    .dataframe thead tr:last-of-type th {\n",
       "        text-align: right;\n",
       "    }\n",
       "</style>\n",
       "<table border=\"1\" class=\"dataframe\">\n",
       "  <thead>\n",
       "    <tr>\n",
       "      <th></th>\n",
       "      <th>mean</th>\n",
       "    </tr>\n",
       "    <tr>\n",
       "      <th></th>\n",
       "      <th>Competitive</th>\n",
       "    </tr>\n",
       "    <tr>\n",
       "      <th>endDay</th>\n",
       "      <th></th>\n",
       "    </tr>\n",
       "  </thead>\n",
       "  <tbody>\n",
       "    <tr>\n",
       "      <th>Mon</th>\n",
       "      <td>0.673358</td>\n",
       "    </tr>\n",
       "    <tr>\n",
       "      <th>Thu</th>\n",
       "      <td>0.603960</td>\n",
       "    </tr>\n",
       "    <tr>\n",
       "      <th>Tue</th>\n",
       "      <td>0.532164</td>\n",
       "    </tr>\n",
       "    <tr>\n",
       "      <th>Sun_Wed</th>\n",
       "      <td>0.484262</td>\n",
       "    </tr>\n",
       "    <tr>\n",
       "      <th>Fri</th>\n",
       "      <td>0.466899</td>\n",
       "    </tr>\n",
       "    <tr>\n",
       "      <th>Sat</th>\n",
       "      <td>0.427350</td>\n",
       "    </tr>\n",
       "  </tbody>\n",
       "</table>\n",
       "</div>"
      ],
      "text/plain": [
       "               mean\n",
       "        Competitive\n",
       "endDay             \n",
       "Mon        0.673358\n",
       "Thu        0.603960\n",
       "Tue        0.532164\n",
       "Sun_Wed    0.484262\n",
       "Fri        0.466899\n",
       "Sat        0.427350"
      ]
     },
     "execution_count": 47,
     "metadata": {},
     "output_type": "execute_result"
    }
   ],
   "source": [
    "# pivot table of Competitive and Category\n",
    "pivot3 = pd.pivot_table(ebay_df, index= 'endDay', values= \"Competitive\",\n",
    "               aggfunc= [np.mean])\n",
    "pivot3.sort_values(pivot1.columns[0], ascending=False)"
   ]
  },
  {
   "cell_type": "markdown",
   "metadata": {},
   "source": [
    "__10.4.b.__ Split the data into training (60%) and validation (40%) datasets. Run a logistic model with all predictors with a cutoff of 0.5."
   ]
  },
  {
   "cell_type": "markdown",
   "metadata": {},
   "source": [
    "__Answer:__"
   ]
  },
  {
   "cell_type": "markdown",
   "metadata": {},
   "source": [
    "Split the data into training (60%) and validation (40%) datasets. Use the random seed 202."
   ]
  },
  {
   "cell_type": "code",
   "execution_count": 48,
   "metadata": {},
   "outputs": [],
   "source": [
    "# change variable types to appropriate ones\n",
    "ebay_df['Category'] = ebay_df['Category'].astype('category')\n",
    "ebay_df['currency'] = ebay_df['currency'].astype('category')\n",
    "ebay_df['endDay'] = ebay_df['endDay'].astype('category')\n",
    "\n",
    "# convert categorical variables into indicator and drop the first column of each of them\n",
    "ebay_df = pd.get_dummies(ebay_df, prefix_sep='_')\n",
    "ebay_df.drop(columns=['Category_Automotive', 'currency_EUR', 'endDay_Mon'], inplace=True)\n"
   ]
  },
  {
   "cell_type": "code",
   "execution_count": 49,
   "metadata": {},
   "outputs": [
    {
     "data": {
      "text/html": [
       "<div>\n",
       "<style scoped>\n",
       "    .dataframe tbody tr th:only-of-type {\n",
       "        vertical-align: middle;\n",
       "    }\n",
       "\n",
       "    .dataframe tbody tr th {\n",
       "        vertical-align: top;\n",
       "    }\n",
       "\n",
       "    .dataframe thead th {\n",
       "        text-align: right;\n",
       "    }\n",
       "</style>\n",
       "<table border=\"1\" class=\"dataframe\">\n",
       "  <thead>\n",
       "    <tr style=\"text-align: right;\">\n",
       "      <th></th>\n",
       "      <th>sellerRating</th>\n",
       "      <th>Duration</th>\n",
       "      <th>ClosePrice</th>\n",
       "      <th>OpenPrice</th>\n",
       "      <th>Competitive</th>\n",
       "      <th>Category_Books</th>\n",
       "      <th>Category_Clothing/Accessories</th>\n",
       "      <th>Category_Coins/Stamps</th>\n",
       "      <th>Category_Collectibles</th>\n",
       "      <th>Category_Computer</th>\n",
       "      <th>...</th>\n",
       "      <th>Category_Pottery/Glass</th>\n",
       "      <th>Category_SportingGoods</th>\n",
       "      <th>Category_Toys/Hobbies</th>\n",
       "      <th>currency_GBP</th>\n",
       "      <th>currency_US</th>\n",
       "      <th>endDay_Fri</th>\n",
       "      <th>endDay_Sat</th>\n",
       "      <th>endDay_Sun_Wed</th>\n",
       "      <th>endDay_Thu</th>\n",
       "      <th>endDay_Tue</th>\n",
       "    </tr>\n",
       "  </thead>\n",
       "  <tbody>\n",
       "    <tr>\n",
       "      <th>0</th>\n",
       "      <td>3249</td>\n",
       "      <td>5</td>\n",
       "      <td>0.01</td>\n",
       "      <td>0.01</td>\n",
       "      <td>0</td>\n",
       "      <td>0</td>\n",
       "      <td>0</td>\n",
       "      <td>0</td>\n",
       "      <td>0</td>\n",
       "      <td>0</td>\n",
       "      <td>...</td>\n",
       "      <td>0</td>\n",
       "      <td>0</td>\n",
       "      <td>0</td>\n",
       "      <td>0</td>\n",
       "      <td>1</td>\n",
       "      <td>0</td>\n",
       "      <td>0</td>\n",
       "      <td>0</td>\n",
       "      <td>0</td>\n",
       "      <td>0</td>\n",
       "    </tr>\n",
       "    <tr>\n",
       "      <th>1</th>\n",
       "      <td>3249</td>\n",
       "      <td>5</td>\n",
       "      <td>0.01</td>\n",
       "      <td>0.01</td>\n",
       "      <td>0</td>\n",
       "      <td>0</td>\n",
       "      <td>0</td>\n",
       "      <td>0</td>\n",
       "      <td>0</td>\n",
       "      <td>0</td>\n",
       "      <td>...</td>\n",
       "      <td>0</td>\n",
       "      <td>0</td>\n",
       "      <td>0</td>\n",
       "      <td>0</td>\n",
       "      <td>1</td>\n",
       "      <td>0</td>\n",
       "      <td>0</td>\n",
       "      <td>0</td>\n",
       "      <td>0</td>\n",
       "      <td>0</td>\n",
       "    </tr>\n",
       "    <tr>\n",
       "      <th>2</th>\n",
       "      <td>3249</td>\n",
       "      <td>5</td>\n",
       "      <td>0.01</td>\n",
       "      <td>0.01</td>\n",
       "      <td>0</td>\n",
       "      <td>0</td>\n",
       "      <td>0</td>\n",
       "      <td>0</td>\n",
       "      <td>0</td>\n",
       "      <td>0</td>\n",
       "      <td>...</td>\n",
       "      <td>0</td>\n",
       "      <td>0</td>\n",
       "      <td>0</td>\n",
       "      <td>0</td>\n",
       "      <td>1</td>\n",
       "      <td>0</td>\n",
       "      <td>0</td>\n",
       "      <td>0</td>\n",
       "      <td>0</td>\n",
       "      <td>0</td>\n",
       "    </tr>\n",
       "    <tr>\n",
       "      <th>3</th>\n",
       "      <td>3249</td>\n",
       "      <td>5</td>\n",
       "      <td>0.01</td>\n",
       "      <td>0.01</td>\n",
       "      <td>0</td>\n",
       "      <td>0</td>\n",
       "      <td>0</td>\n",
       "      <td>0</td>\n",
       "      <td>0</td>\n",
       "      <td>0</td>\n",
       "      <td>...</td>\n",
       "      <td>0</td>\n",
       "      <td>0</td>\n",
       "      <td>0</td>\n",
       "      <td>0</td>\n",
       "      <td>1</td>\n",
       "      <td>0</td>\n",
       "      <td>0</td>\n",
       "      <td>0</td>\n",
       "      <td>0</td>\n",
       "      <td>0</td>\n",
       "    </tr>\n",
       "    <tr>\n",
       "      <th>4</th>\n",
       "      <td>3249</td>\n",
       "      <td>5</td>\n",
       "      <td>0.01</td>\n",
       "      <td>0.01</td>\n",
       "      <td>0</td>\n",
       "      <td>0</td>\n",
       "      <td>0</td>\n",
       "      <td>0</td>\n",
       "      <td>0</td>\n",
       "      <td>0</td>\n",
       "      <td>...</td>\n",
       "      <td>0</td>\n",
       "      <td>0</td>\n",
       "      <td>0</td>\n",
       "      <td>0</td>\n",
       "      <td>1</td>\n",
       "      <td>0</td>\n",
       "      <td>0</td>\n",
       "      <td>0</td>\n",
       "      <td>0</td>\n",
       "      <td>0</td>\n",
       "    </tr>\n",
       "    <tr>\n",
       "      <th>...</th>\n",
       "      <td>...</td>\n",
       "      <td>...</td>\n",
       "      <td>...</td>\n",
       "      <td>...</td>\n",
       "      <td>...</td>\n",
       "      <td>...</td>\n",
       "      <td>...</td>\n",
       "      <td>...</td>\n",
       "      <td>...</td>\n",
       "      <td>...</td>\n",
       "      <td>...</td>\n",
       "      <td>...</td>\n",
       "      <td>...</td>\n",
       "      <td>...</td>\n",
       "      <td>...</td>\n",
       "      <td>...</td>\n",
       "      <td>...</td>\n",
       "      <td>...</td>\n",
       "      <td>...</td>\n",
       "      <td>...</td>\n",
       "      <td>...</td>\n",
       "    </tr>\n",
       "    <tr>\n",
       "      <th>1967</th>\n",
       "      <td>2992</td>\n",
       "      <td>5</td>\n",
       "      <td>359.95</td>\n",
       "      <td>359.95</td>\n",
       "      <td>0</td>\n",
       "      <td>0</td>\n",
       "      <td>0</td>\n",
       "      <td>0</td>\n",
       "      <td>0</td>\n",
       "      <td>0</td>\n",
       "      <td>...</td>\n",
       "      <td>0</td>\n",
       "      <td>0</td>\n",
       "      <td>0</td>\n",
       "      <td>0</td>\n",
       "      <td>1</td>\n",
       "      <td>0</td>\n",
       "      <td>0</td>\n",
       "      <td>1</td>\n",
       "      <td>0</td>\n",
       "      <td>0</td>\n",
       "    </tr>\n",
       "    <tr>\n",
       "      <th>1968</th>\n",
       "      <td>21</td>\n",
       "      <td>5</td>\n",
       "      <td>610.00</td>\n",
       "      <td>300.00</td>\n",
       "      <td>1</td>\n",
       "      <td>0</td>\n",
       "      <td>0</td>\n",
       "      <td>0</td>\n",
       "      <td>0</td>\n",
       "      <td>0</td>\n",
       "      <td>...</td>\n",
       "      <td>0</td>\n",
       "      <td>0</td>\n",
       "      <td>0</td>\n",
       "      <td>0</td>\n",
       "      <td>1</td>\n",
       "      <td>0</td>\n",
       "      <td>1</td>\n",
       "      <td>0</td>\n",
       "      <td>0</td>\n",
       "      <td>0</td>\n",
       "    </tr>\n",
       "    <tr>\n",
       "      <th>1969</th>\n",
       "      <td>1400</td>\n",
       "      <td>5</td>\n",
       "      <td>549.00</td>\n",
       "      <td>549.00</td>\n",
       "      <td>0</td>\n",
       "      <td>0</td>\n",
       "      <td>0</td>\n",
       "      <td>0</td>\n",
       "      <td>0</td>\n",
       "      <td>0</td>\n",
       "      <td>...</td>\n",
       "      <td>0</td>\n",
       "      <td>0</td>\n",
       "      <td>0</td>\n",
       "      <td>0</td>\n",
       "      <td>1</td>\n",
       "      <td>0</td>\n",
       "      <td>0</td>\n",
       "      <td>0</td>\n",
       "      <td>0</td>\n",
       "      <td>0</td>\n",
       "    </tr>\n",
       "    <tr>\n",
       "      <th>1970</th>\n",
       "      <td>57</td>\n",
       "      <td>7</td>\n",
       "      <td>820.00</td>\n",
       "      <td>650.00</td>\n",
       "      <td>1</td>\n",
       "      <td>0</td>\n",
       "      <td>0</td>\n",
       "      <td>0</td>\n",
       "      <td>0</td>\n",
       "      <td>0</td>\n",
       "      <td>...</td>\n",
       "      <td>0</td>\n",
       "      <td>0</td>\n",
       "      <td>0</td>\n",
       "      <td>0</td>\n",
       "      <td>1</td>\n",
       "      <td>1</td>\n",
       "      <td>0</td>\n",
       "      <td>0</td>\n",
       "      <td>0</td>\n",
       "      <td>0</td>\n",
       "    </tr>\n",
       "    <tr>\n",
       "      <th>1971</th>\n",
       "      <td>145</td>\n",
       "      <td>7</td>\n",
       "      <td>999.00</td>\n",
       "      <td>999.00</td>\n",
       "      <td>0</td>\n",
       "      <td>0</td>\n",
       "      <td>0</td>\n",
       "      <td>0</td>\n",
       "      <td>0</td>\n",
       "      <td>0</td>\n",
       "      <td>...</td>\n",
       "      <td>0</td>\n",
       "      <td>0</td>\n",
       "      <td>0</td>\n",
       "      <td>0</td>\n",
       "      <td>1</td>\n",
       "      <td>0</td>\n",
       "      <td>1</td>\n",
       "      <td>0</td>\n",
       "      <td>0</td>\n",
       "      <td>0</td>\n",
       "    </tr>\n",
       "  </tbody>\n",
       "</table>\n",
       "<p>1972 rows × 27 columns</p>\n",
       "</div>"
      ],
      "text/plain": [
       "      sellerRating  Duration  ClosePrice  OpenPrice  Competitive  \\\n",
       "0             3249         5        0.01       0.01            0   \n",
       "1             3249         5        0.01       0.01            0   \n",
       "2             3249         5        0.01       0.01            0   \n",
       "3             3249         5        0.01       0.01            0   \n",
       "4             3249         5        0.01       0.01            0   \n",
       "...            ...       ...         ...        ...          ...   \n",
       "1967          2992         5      359.95     359.95            0   \n",
       "1968            21         5      610.00     300.00            1   \n",
       "1969          1400         5      549.00     549.00            0   \n",
       "1970            57         7      820.00     650.00            1   \n",
       "1971           145         7      999.00     999.00            0   \n",
       "\n",
       "      Category_Books  Category_Clothing/Accessories  Category_Coins/Stamps  \\\n",
       "0                  0                              0                      0   \n",
       "1                  0                              0                      0   \n",
       "2                  0                              0                      0   \n",
       "3                  0                              0                      0   \n",
       "4                  0                              0                      0   \n",
       "...              ...                            ...                    ...   \n",
       "1967               0                              0                      0   \n",
       "1968               0                              0                      0   \n",
       "1969               0                              0                      0   \n",
       "1970               0                              0                      0   \n",
       "1971               0                              0                      0   \n",
       "\n",
       "      Category_Collectibles  Category_Computer  ...  Category_Pottery/Glass  \\\n",
       "0                         0                  0  ...                       0   \n",
       "1                         0                  0  ...                       0   \n",
       "2                         0                  0  ...                       0   \n",
       "3                         0                  0  ...                       0   \n",
       "4                         0                  0  ...                       0   \n",
       "...                     ...                ...  ...                     ...   \n",
       "1967                      0                  0  ...                       0   \n",
       "1968                      0                  0  ...                       0   \n",
       "1969                      0                  0  ...                       0   \n",
       "1970                      0                  0  ...                       0   \n",
       "1971                      0                  0  ...                       0   \n",
       "\n",
       "      Category_SportingGoods  Category_Toys/Hobbies  currency_GBP  \\\n",
       "0                          0                      0             0   \n",
       "1                          0                      0             0   \n",
       "2                          0                      0             0   \n",
       "3                          0                      0             0   \n",
       "4                          0                      0             0   \n",
       "...                      ...                    ...           ...   \n",
       "1967                       0                      0             0   \n",
       "1968                       0                      0             0   \n",
       "1969                       0                      0             0   \n",
       "1970                       0                      0             0   \n",
       "1971                       0                      0             0   \n",
       "\n",
       "      currency_US  endDay_Fri  endDay_Sat  endDay_Sun_Wed  endDay_Thu  \\\n",
       "0               1           0           0               0           0   \n",
       "1               1           0           0               0           0   \n",
       "2               1           0           0               0           0   \n",
       "3               1           0           0               0           0   \n",
       "4               1           0           0               0           0   \n",
       "...           ...         ...         ...             ...         ...   \n",
       "1967            1           0           0               1           0   \n",
       "1968            1           0           1               0           0   \n",
       "1969            1           0           0               0           0   \n",
       "1970            1           1           0               0           0   \n",
       "1971            1           0           1               0           0   \n",
       "\n",
       "      endDay_Tue  \n",
       "0              0  \n",
       "1              0  \n",
       "2              0  \n",
       "3              0  \n",
       "4              0  \n",
       "...          ...  \n",
       "1967           0  \n",
       "1968           0  \n",
       "1969           0  \n",
       "1970           0  \n",
       "1971           0  \n",
       "\n",
       "[1972 rows x 27 columns]"
      ]
     },
     "execution_count": 49,
     "metadata": {},
     "output_type": "execute_result"
    }
   ],
   "source": [
    "ebay_df"
   ]
  },
  {
   "cell_type": "code",
   "execution_count": null,
   "metadata": {},
   "outputs": [],
   "source": []
  },
  {
   "cell_type": "code",
   "execution_count": 50,
   "metadata": {},
   "outputs": [],
   "source": [
    "# predictor and response variables\n",
    "ebay_df['Competitive'] = ebay_df['Competitive'].astype('category')\n",
    "outcome = 'Competitive'\n",
    "predictors = list(ebay_df.columns)\n",
    "predictors.remove(outcome)\n",
    "y = ebay_df[outcome]\n",
    "X = ebay_df[predictors]"
   ]
  },
  {
   "cell_type": "code",
   "execution_count": 51,
   "metadata": {},
   "outputs": [],
   "source": [
    "# split the data into training and validation sets\n",
    "X_train, X_valid, y_train, y_valid = train_test_split(X, y, test_size=0.40, random_state=202)"
   ]
  },
  {
   "cell_type": "code",
   "execution_count": 52,
   "metadata": {},
   "outputs": [
    {
     "data": {
      "text/plain": [
       "LogisticRegression(C=1e+42, solver='liblinear')"
      ]
     },
     "execution_count": 52,
     "metadata": {},
     "output_type": "execute_result"
    }
   ],
   "source": [
    "# fit a logistic regression (set penalty=l2 and C=1e42 to avoid regularization)\n",
    "logit_reg = LogisticRegression(penalty=\"l2\", C=1e42, solver='liblinear')\n",
    "classes = list(y.cat.categories)\n",
    "logit_reg.fit(X_train, y_train)"
   ]
  },
  {
   "cell_type": "code",
   "execution_count": 54,
   "metadata": {},
   "outputs": [
    {
     "name": "stdout",
     "output_type": "stream",
     "text": [
      "intercept  -0.23423253837773625\n",
      "       sellerRating  Duration  ClosePrice  OpenPrice  Category_Books  \\\n",
      "coeff     -0.000038 -0.004742    0.084964  -0.098831       -0.027403   \n",
      "\n",
      "       Category_Clothing/Accessories  Category_Coins/Stamps  \\\n",
      "coeff                      -0.519065              -0.971209   \n",
      "\n",
      "       Category_Collectibles  Category_Computer  Category_Electronics  ...  \\\n",
      "coeff               0.430626           0.529502              1.166282  ...   \n",
      "\n",
      "       Category_Pottery/Glass  Category_SportingGoods  Category_Toys/Hobbies  \\\n",
      "coeff               -0.148191                0.483225               0.734979   \n",
      "\n",
      "       currency_GBP  currency_US  endDay_Fri  endDay_Sat  endDay_Sun_Wed  \\\n",
      "coeff      1.183199     0.345194    -0.55406   -1.062658       -0.806885   \n",
      "\n",
      "       endDay_Thu  endDay_Tue  \n",
      "coeff   -0.705744   -0.713588  \n",
      "\n",
      "[1 rows x 26 columns]\n"
     ]
    }
   ],
   "source": [
    "# print coefficients\n",
    "print('intercept ', logit_reg.intercept_[0])\n",
    "print(pd.DataFrame({'coeff': logit_reg.coef_[0]}, index=X.columns).transpose())"
   ]
  },
  {
   "cell_type": "code",
   "execution_count": null,
   "metadata": {},
   "outputs": [],
   "source": []
  },
  {
   "cell_type": "code",
   "execution_count": null,
   "metadata": {},
   "outputs": [],
   "source": []
  },
  {
   "cell_type": "code",
   "execution_count": 55,
   "metadata": {},
   "outputs": [
    {
     "name": "stdout",
     "output_type": "stream",
     "text": [
      "Confusion Matrix (Accuracy 0.7668)\n",
      "\n",
      "       Prediction\n",
      "Actual   0   1\n",
      "     0 290  73\n",
      "     1 111 315\n"
     ]
    }
   ],
   "source": [
    "# confusion matrix\n",
    "# predicted y for validation set\n",
    "val_pred = logit_reg.predict(X_valid)\n",
    "# Confusion matrix\n",
    "classificationSummary(y_valid, val_pred, class_names=classes)"
   ]
  },
  {
   "cell_type": "markdown",
   "metadata": {},
   "source": [
    "__10.4.c.__ If we want to predict at the start of an auction whether it will be competitive, we cannot use the information on the closing price. Run a logistic model with all predictors as above, excluding price. How does this model compare to the full\n",
    "model with respect to predictive accuracy?"
   ]
  },
  {
   "cell_type": "markdown",
   "metadata": {},
   "source": [
    "__Answer:__"
   ]
  },
  {
   "cell_type": "code",
   "execution_count": 56,
   "metadata": {},
   "outputs": [],
   "source": [
    "# drop the predictor 'ClosePrice'\n",
    "X_train = X_train.drop(columns=['ClosePrice'])\n",
    "X_valid = X_valid.drop(columns=['ClosePrice'])"
   ]
  },
  {
   "cell_type": "code",
   "execution_count": 57,
   "metadata": {},
   "outputs": [
    {
     "data": {
      "text/plain": [
       "LogisticRegression(C=1e+42, solver='liblinear')"
      ]
     },
     "execution_count": 57,
     "metadata": {},
     "output_type": "execute_result"
    }
   ],
   "source": [
    "# fit a logistic regression (set penalty=l2 and C=1e42 to avoid regularization)\n",
    "logit_reg = LogisticRegression(penalty=\"l2\", C=1e42, solver='liblinear')\n",
    "logit_reg.fit(X_train, y_train)"
   ]
  },
  {
   "cell_type": "code",
   "execution_count": 58,
   "metadata": {},
   "outputs": [
    {
     "name": "stdout",
     "output_type": "stream",
     "text": [
      "intercept  1.2529118251456057\n",
      "       sellerRating  Duration  OpenPrice  Category_Books  \\\n",
      "coeff      -0.00004 -0.080664  -0.007085       -0.191668   \n",
      "\n",
      "       Category_Clothing/Accessories  Category_Coins/Stamps  \\\n",
      "coeff                       0.299453              -0.847002   \n",
      "\n",
      "       Category_Collectibles  Category_Computer  Category_Electronics  \\\n",
      "coeff               0.443863           0.992836              1.543122   \n",
      "\n",
      "       Category_EverythingElse  ...  Category_Pottery/Glass  \\\n",
      "coeff                -1.755971  ...               -0.332121   \n",
      "\n",
      "       Category_SportingGoods  Category_Toys/Hobbies  currency_GBP  \\\n",
      "coeff                1.359264                0.65279      0.990899   \n",
      "\n",
      "       currency_US  endDay_Fri  endDay_Sat  endDay_Sun_Wed  endDay_Thu  \\\n",
      "coeff    -0.102666   -0.958684   -1.248631       -0.974718   -1.060599   \n",
      "\n",
      "       endDay_Tue  \n",
      "coeff    -0.75882  \n",
      "\n",
      "[1 rows x 25 columns]\n"
     ]
    }
   ],
   "source": [
    "# print coefficients\n",
    "print('intercept ', logit_reg.intercept_[0])\n",
    "print(pd.DataFrame({'coeff': logit_reg.coef_[0]}, index=X_train.columns).transpose())"
   ]
  },
  {
   "cell_type": "code",
   "execution_count": 59,
   "metadata": {},
   "outputs": [
    {
     "name": "stdout",
     "output_type": "stream",
     "text": [
      "Confusion Matrix (Accuracy 0.6324)\n",
      "\n",
      "       Prediction\n",
      "Actual   0   1\n",
      "     0 214 149\n",
      "     1 141 285\n"
     ]
    }
   ],
   "source": [
    "# confusion matrix\n",
    "# predicted y for validation set\n",
    "val_pred = logit_reg.predict(X_valid)\n",
    "# Confusion matrix\n",
    "classificationSummary(y_valid, val_pred, class_names=classes)\n",
    "\n",
    "# Keep track of results\n",
    "accuracies = {}\n",
    "accuracies['full model'] = [accuracy_score(y_train, logit_reg.predict(X_train)), accuracy_score(y_valid, val_pred)]"
   ]
  },
  {
   "cell_type": "markdown",
   "metadata": {},
   "source": [
    "The overall error rate for the full model (1-0.7605 = 23.95%) is much lower than that for the model excluding \"close price\" (36.63%). Hence the model excluding \"close price\" has lower predictive accuracy compared to the full model."
   ]
  },
  {
   "cell_type": "markdown",
   "metadata": {},
   "source": [
    "__10.4.d.__ Interpret the meaning of the coefficient for closing price. Does closing price have a practical significance? Is it statistically significant for predicting competitiveness of auctions? (Use a 10% significance level.)"
   ]
  },
  {
   "cell_type": "markdown",
   "metadata": {},
   "source": [
    "__Answer:__ "
   ]
  },
  {
   "cell_type": "markdown",
   "metadata": {},
   "source": [
    "The coefficient for \"close price\" is 0.084431. This positive coefficient means that higher closing prices are associated with a higher probability of the auction being competitive."
   ]
  },
  {
   "cell_type": "code",
   "execution_count": 61,
   "metadata": {},
   "outputs": [
    {
     "data": {
      "text/plain": [
       "1.088097762896088"
      ]
     },
     "execution_count": 61,
     "metadata": {},
     "output_type": "execute_result"
    }
   ],
   "source": [
    "# odds coefficient for close price\n",
    "math.exp(0.084431)"
   ]
  },
  {
   "cell_type": "markdown",
   "metadata": {},
   "source": [
    "Looking at the odds coefficient (1.1), we see that every $1 increase in the closing price increases the odds of the auction being competitive by a factor of 1.1. We will not use ClosePrice in the remaining questions since closing price won't be available at the time making predictions."
   ]
  },
  {
   "cell_type": "markdown",
   "metadata": {},
   "source": [
    "__10.4.e.__ Use stepwise regression as described in chapter 6.4 to find the model with the best fit to the training data (highest accuracy). Which predictors are used?"
   ]
  },
  {
   "cell_type": "code",
   "execution_count": 62,
   "metadata": {},
   "outputs": [
    {
     "name": "stdout",
     "output_type": "stream",
     "text": [
      "Variables: sellerRating, Duration, OpenPrice, Category_Books, Category_Clothing/Accessories, Category_Coins/Stamps, Category_Collectibles, Category_Computer, Category_Electronics, Category_EverythingElse, Category_Health/Beauty, Category_Home/Garden, Category_Jewelry, Category_Music/Movie/Game, Category_Photography, Category_Pottery/Glass, Category_SportingGoods, Category_Toys/Hobbies, currency_GBP, currency_US, endDay_Fri, endDay_Sat, endDay_Sun_Wed, endDay_Thu, endDay_Tue\n",
      "Start: score=0.00, constant\n",
      "Step: score=-0.57, add endDay_Sat\n",
      "Step: score=-0.59, add Category_Health/Beauty\n",
      "Step: score=-0.61, add Category_Jewelry\n",
      "Step: score=-0.61, add Category_EverythingElse\n",
      "Step: score=-0.62, add Category_Books\n",
      "Step: score=-0.62, add OpenPrice\n",
      "Step: score=-0.63, add endDay_Sun_Wed\n",
      "Step: score=-0.64, add Category_Electronics\n",
      "Step: score=-0.64, remove Category_Health/Beauty\n",
      "Step: score=-0.64, add Category_Coins/Stamps\n",
      "Step: score=-0.65, add Category_Photography\n",
      "Step: score=-0.65, add currency_GBP\n",
      "Step: score=-0.65, add endDay_Tue\n",
      "Step: score=-0.65, unchanged None\n",
      "['Category_Books', 'Category_Coins/Stamps', 'Category_Electronics', 'Category_EverythingElse', 'Category_Jewelry', 'Category_Photography', 'OpenPrice', 'currency_GBP', 'endDay_Sat', 'endDay_Sun_Wed', 'endDay_Tue']\n",
      "Confusion Matrix (Accuracy 0.6084)\n",
      "\n",
      "       Prediction\n",
      "Actual   0   1\n",
      "     0 188 175\n",
      "     1 134 292\n"
     ]
    }
   ],
   "source": [
    "def train_model(variables):\n",
    "    if len(variables) == 0:\n",
    "        return None\n",
    "    model = LogisticRegression(penalty=\"l2\", C=1e42, solver='liblinear')\n",
    "    \n",
    "    model.fit(X_train[list(variables)], y_train)\n",
    "    return model\n",
    "\n",
    "def score_model(model, variables):\n",
    "    if len(variables) == 0:\n",
    "        return 0\n",
    "    y_pred = model.predict(X_train[list(variables)])\n",
    "    # we negate as score is optimized to be as low as possible\n",
    "    return -accuracy_score(y_train, y_pred)\n",
    "\n",
    "allVariables = X_train.columns\n",
    "best_fitting, var_fitting = stepwise_selection(allVariables, train_model, \n",
    "                                score_model, verbose=True)\n",
    "print(sorted(var_fitting))\n",
    "\n",
    "\n",
    "# Confusion matrix\n",
    "y_pred = best_fitting.predict(X_valid[list(var_fitting)])\n",
    "classificationSummary(y_valid, y_pred, class_names=classes)\n",
    "\n",
    "accuracies['best fitting'] = [accuracy_score(y_train, best_fitting.predict(X_train[list(var_fitting)])), \n",
    "                              accuracy_score(y_valid, y_pred)]"
   ]
  },
  {
   "cell_type": "markdown",
   "metadata": {},
   "source": [
    "__10.4.f.__ Use stepwise regression to find the model with the highest accuracy on the validation data. Which predictors are used?"
   ]
  },
  {
   "cell_type": "markdown",
   "metadata": {},
   "source": [
    "__Answer:__"
   ]
  },
  {
   "cell_type": "code",
   "execution_count": 63,
   "metadata": {},
   "outputs": [
    {
     "name": "stdout",
     "output_type": "stream",
     "text": [
      "Variables: sellerRating, Duration, OpenPrice, Category_Books, Category_Clothing/Accessories, Category_Coins/Stamps, Category_Collectibles, Category_Computer, Category_Electronics, Category_EverythingElse, Category_Health/Beauty, Category_Home/Garden, Category_Jewelry, Category_Music/Movie/Game, Category_Photography, Category_Pottery/Glass, Category_SportingGoods, Category_Toys/Hobbies, currency_GBP, currency_US, endDay_Fri, endDay_Sat, endDay_Sun_Wed, endDay_Thu, endDay_Tue\n",
      "Start: score=0.00, constant\n",
      "Step: score=-0.57, add OpenPrice\n",
      "Step: score=-0.58, add Category_Music/Movie/Game\n",
      "Step: score=-0.60, add Category_SportingGoods\n",
      "Step: score=-0.63, add Category_Electronics\n",
      "Step: score=-0.64, add sellerRating\n",
      "Step: score=-0.65, add Category_EverythingElse\n",
      "Step: score=-0.65, add Category_Coins/Stamps\n",
      "Step: score=-0.65, unchanged None\n",
      "['Category_Coins/Stamps', 'Category_Electronics', 'Category_EverythingElse', 'Category_Music/Movie/Game', 'Category_SportingGoods', 'OpenPrice', 'sellerRating']\n",
      "Confusion Matrix (Accuracy 0.6489)\n",
      "\n",
      "       Prediction\n",
      "Actual   0   1\n",
      "     0 165 198\n",
      "     1  79 347\n"
     ]
    }
   ],
   "source": [
    "def score_model(model, variables):\n",
    "    if len(variables) == 0:\n",
    "        return 0\n",
    "    y_pred = model.predict(X_valid[list(variables)])\n",
    "    # we negate as score is optimized to be as low as possible\n",
    "    return -accuracy_score(y_valid, y_pred)\n",
    "\n",
    "allVariables = X_train.columns\n",
    "best_predictive, var_predictive = stepwise_selection(allVariables, train_model, \n",
    "                                score_model, verbose=True)\n",
    "print(sorted(var_predictive))\n",
    "\n",
    "# Confusion matrix\n",
    "y_pred = best_predictive.predict(X_valid[list(var_predictive)])\n",
    "classificationSummary(y_valid, y_pred, class_names=classes)\n",
    "\n",
    "accuracies['best predictive'] = [accuracy_score(y_train, best_predictive.predict(X_train[list(var_predictive)])), \n",
    "                                 accuracy_score(y_valid, y_pred)]"
   ]
  },
  {
   "cell_type": "markdown",
   "metadata": {},
   "source": [
    "__10.4.g.__ What is the danger of using the best predictive model that you found?"
   ]
  },
  {
   "cell_type": "markdown",
   "metadata": {},
   "source": [
    "__Answer:__ "
   ]
  },
  {
   "cell_type": "code",
   "execution_count": 64,
   "metadata": {
    "scrolled": true
   },
   "outputs": [
    {
     "data": {
      "text/html": [
       "<div>\n",
       "<style scoped>\n",
       "    .dataframe tbody tr th:only-of-type {\n",
       "        vertical-align: middle;\n",
       "    }\n",
       "\n",
       "    .dataframe tbody tr th {\n",
       "        vertical-align: top;\n",
       "    }\n",
       "\n",
       "    .dataframe thead th {\n",
       "        text-align: right;\n",
       "    }\n",
       "</style>\n",
       "<table border=\"1\" class=\"dataframe\">\n",
       "  <thead>\n",
       "    <tr style=\"text-align: right;\">\n",
       "      <th></th>\n",
       "      <th>training</th>\n",
       "      <th>validation</th>\n",
       "    </tr>\n",
       "  </thead>\n",
       "  <tbody>\n",
       "    <tr>\n",
       "      <th>full model</th>\n",
       "      <td>0.655959</td>\n",
       "      <td>0.632446</td>\n",
       "    </tr>\n",
       "    <tr>\n",
       "      <th>best fitting</th>\n",
       "      <td>0.650042</td>\n",
       "      <td>0.608365</td>\n",
       "    </tr>\n",
       "    <tr>\n",
       "      <th>best predictive</th>\n",
       "      <td>0.639053</td>\n",
       "      <td>0.648923</td>\n",
       "    </tr>\n",
       "  </tbody>\n",
       "</table>\n",
       "</div>"
      ],
      "text/plain": [
       "                 training  validation\n",
       "full model       0.655959    0.632446\n",
       "best fitting     0.650042    0.608365\n",
       "best predictive  0.639053    0.648923"
      ]
     },
     "execution_count": 64,
     "metadata": {},
     "output_type": "execute_result"
    }
   ],
   "source": [
    "pd.DataFrame(accuracies, index=['training', 'validation']).transpose()"
   ]
  },
  {
   "cell_type": "markdown",
   "metadata": {},
   "source": [
    "The model that was optimized for performance on the training set (best-fitting) has the highest accuracy. However, it also has the smallest accuracy on the validation set. One way to evaluate the degree of overfitting is to compare the error rates of the training and validation sets. The large difference in training set error and validation error (where training set error is smaller than validation set) indicates that the best-fitting model may be overfit to the training data.\n",
    "\n",
    "The best-predictive model (optimized for accuracy on the validation set) on the other hand, has a small difference between training and validation accuracy. Here, the accuracy on the validation set is even higher than for the training set. This can be an indication that the model is biased towards the validation set.\n",
    "\n",
    "To avoid bias towards training or validation set, it is best to use cross validation. "
   ]
  },
  {
   "cell_type": "markdown",
   "metadata": {},
   "source": [
    "__10.4.h.__ Explain how and why the best-fitting model and the best predictive models are the same or different."
   ]
  },
  {
   "cell_type": "markdown",
   "metadata": {},
   "source": [
    "While finding the best-fitted model means fitting the training data set (using\n",
    "measures like accuracy), the best predictive model is one that has highest \n",
    "prediction accuracy with the validation data."
   ]
  },
  {
   "cell_type": "markdown",
   "metadata": {},
   "source": [
    "__10.4.i.__ Use regularized logistic regression with L1 penalty on the training data. Compare its selected predictors and classification performance to the best-fitting and best predictive models."
   ]
  },
  {
   "cell_type": "code",
   "execution_count": 65,
   "metadata": {
    "scrolled": true
   },
   "outputs": [
    {
     "name": "stdout",
     "output_type": "stream",
     "text": [
      "Confusion Matrix (Accuracy 0.6375)\n",
      "\n",
      "       Prediction\n",
      "Actual   0   1\n",
      "     0  81  12\n",
      "     1 274 422\n"
     ]
    }
   ],
   "source": [
    "logit_reg_L1 = LogisticRegressionCV(cv=5, random_state=0, Cs=20, max_iter=500)\n",
    "logit_reg_L1.fit(X_train, y_train)\n",
    "\n",
    "# Confusion matrix\n",
    "classificationSummary(logit_reg_L1.predict(X_valid), val_pred, class_names=classes)\n",
    "\n",
    "\n",
    "accuracies['regularized'] = [accuracy_score(y_train, logit_reg_L1.predict(X_train)), \n",
    "                             accuracy_score(y_valid, logit_reg_L1.predict(X_valid))]"
   ]
  },
  {
   "cell_type": "code",
   "execution_count": 66,
   "metadata": {
    "scrolled": true
   },
   "outputs": [
    {
     "data": {
      "text/html": [
       "<div>\n",
       "<style scoped>\n",
       "    .dataframe tbody tr th:only-of-type {\n",
       "        vertical-align: middle;\n",
       "    }\n",
       "\n",
       "    .dataframe tbody tr th {\n",
       "        vertical-align: top;\n",
       "    }\n",
       "\n",
       "    .dataframe thead th {\n",
       "        text-align: right;\n",
       "    }\n",
       "</style>\n",
       "<table border=\"1\" class=\"dataframe\">\n",
       "  <thead>\n",
       "    <tr style=\"text-align: right;\">\n",
       "      <th></th>\n",
       "      <th>training</th>\n",
       "      <th>validation</th>\n",
       "    </tr>\n",
       "  </thead>\n",
       "  <tbody>\n",
       "    <tr>\n",
       "      <th>full model</th>\n",
       "      <td>0.655959</td>\n",
       "      <td>0.632446</td>\n",
       "    </tr>\n",
       "    <tr>\n",
       "      <th>best fitting</th>\n",
       "      <td>0.650042</td>\n",
       "      <td>0.608365</td>\n",
       "    </tr>\n",
       "    <tr>\n",
       "      <th>best predictive</th>\n",
       "      <td>0.639053</td>\n",
       "      <td>0.648923</td>\n",
       "    </tr>\n",
       "    <tr>\n",
       "      <th>regularized</th>\n",
       "      <td>0.582418</td>\n",
       "      <td>0.581749</td>\n",
       "    </tr>\n",
       "  </tbody>\n",
       "</table>\n",
       "</div>"
      ],
      "text/plain": [
       "                 training  validation\n",
       "full model       0.655959    0.632446\n",
       "best fitting     0.650042    0.608365\n",
       "best predictive  0.639053    0.648923\n",
       "regularized      0.582418    0.581749"
      ]
     },
     "execution_count": 66,
     "metadata": {},
     "output_type": "execute_result"
    }
   ],
   "source": [
    "pd.DataFrame(accuracies, index=['training', 'validation']).transpose()"
   ]
  },
  {
   "cell_type": "markdown",
   "metadata": {},
   "source": [
    "Regularization leads to a model that has good accuracy on both the training and validation set."
   ]
  },
  {
   "cell_type": "code",
   "execution_count": 67,
   "metadata": {},
   "outputs": [
    {
     "data": {
      "text/plain": [
       "<matplotlib.axes._subplots.AxesSubplot at 0x2a6028f8b88>"
      ]
     },
     "execution_count": 67,
     "metadata": {},
     "output_type": "execute_result"
    },
    {
     "data": {
      "image/png": "[encoded data removed]",
      "text/plain": [
       "<Figure size 432x288 with 1 Axes>"
      ]
     },
     "metadata": {
      "needs_background": "light"
     },
     "output_type": "display_data"
    }
   ],
   "source": [
    "cv_result = pd.DataFrame({\n",
    "    'Cs': logit_reg_L1.Cs_,\n",
    "    'cv_score': np.mean(logit_reg_L1.scores_[1], axis=0),\n",
    "    \n",
    "})\n",
    "cv_result.plot.line(x='Cs', y='cv_score', logx=True)"
   ]
  },
  {
   "cell_type": "code",
   "execution_count": 52,
   "metadata": {},
   "outputs": [
    {
     "name": "stdout",
     "output_type": "stream",
     "text": [
      "intercept  1.239216727766818\n"
     ]
    },
    {
     "data": {
      "text/html": [
       "<div>\n",
       "<style scoped>\n",
       "    .dataframe tbody tr th:only-of-type {\n",
       "        vertical-align: middle;\n",
       "    }\n",
       "\n",
       "    .dataframe tbody tr th {\n",
       "        vertical-align: top;\n",
       "    }\n",
       "\n",
       "    .dataframe thead th {\n",
       "        text-align: right;\n",
       "    }\n",
       "</style>\n",
       "<table border=\"1\" class=\"dataframe\">\n",
       "  <thead>\n",
       "    <tr style=\"text-align: right;\">\n",
       "      <th></th>\n",
       "      <th>unregularized</th>\n",
       "      <th>best_fitting</th>\n",
       "      <th>best_predictive</th>\n",
       "      <th>L1 regularized</th>\n",
       "    </tr>\n",
       "  </thead>\n",
       "  <tbody>\n",
       "    <tr>\n",
       "      <th>sellerRating</th>\n",
       "      <td>-0.000040</td>\n",
       "      <td>-0.000012</td>\n",
       "      <td>-0.000020</td>\n",
       "      <td>-0.000036</td>\n",
       "    </tr>\n",
       "    <tr>\n",
       "      <th>Duration</th>\n",
       "      <td>-0.080785</td>\n",
       "      <td>0.000000</td>\n",
       "      <td>0.000000</td>\n",
       "      <td>-0.085876</td>\n",
       "    </tr>\n",
       "    <tr>\n",
       "      <th>OpenPrice</th>\n",
       "      <td>-0.007146</td>\n",
       "      <td>-0.009041</td>\n",
       "      <td>-0.009020</td>\n",
       "      <td>-0.007419</td>\n",
       "    </tr>\n",
       "    <tr>\n",
       "      <th>Category_Books</th>\n",
       "      <td>-0.220607</td>\n",
       "      <td>0.000000</td>\n",
       "      <td>0.000000</td>\n",
       "      <td>-0.437808</td>\n",
       "    </tr>\n",
       "    <tr>\n",
       "      <th>Category_Clothing/Accessories</th>\n",
       "      <td>0.285479</td>\n",
       "      <td>0.000000</td>\n",
       "      <td>0.000000</td>\n",
       "      <td>-0.038999</td>\n",
       "    </tr>\n",
       "    <tr>\n",
       "      <th>Category_Coins/Stamps</th>\n",
       "      <td>-0.815631</td>\n",
       "      <td>0.000000</td>\n",
       "      <td>0.000000</td>\n",
       "      <td>-0.450466</td>\n",
       "    </tr>\n",
       "    <tr>\n",
       "      <th>Category_Collectibles</th>\n",
       "      <td>0.442175</td>\n",
       "      <td>0.000000</td>\n",
       "      <td>0.000000</td>\n",
       "      <td>0.442809</td>\n",
       "    </tr>\n",
       "    <tr>\n",
       "      <th>Category_Computer</th>\n",
       "      <td>0.982360</td>\n",
       "      <td>0.639226</td>\n",
       "      <td>0.000000</td>\n",
       "      <td>0.567203</td>\n",
       "    </tr>\n",
       "    <tr>\n",
       "      <th>Category_Electronics</th>\n",
       "      <td>1.540873</td>\n",
       "      <td>1.128596</td>\n",
       "      <td>1.039034</td>\n",
       "      <td>1.125243</td>\n",
       "    </tr>\n",
       "    <tr>\n",
       "      <th>Category_EverythingElse</th>\n",
       "      <td>-1.887026</td>\n",
       "      <td>0.000000</td>\n",
       "      <td>-0.479445</td>\n",
       "      <td>-0.455946</td>\n",
       "    </tr>\n",
       "    <tr>\n",
       "      <th>Category_Health/Beauty</th>\n",
       "      <td>-1.728272</td>\n",
       "      <td>-2.077200</td>\n",
       "      <td>0.000000</td>\n",
       "      <td>-1.426092</td>\n",
       "    </tr>\n",
       "    <tr>\n",
       "      <th>Category_Home/Garden</th>\n",
       "      <td>0.619485</td>\n",
       "      <td>0.000000</td>\n",
       "      <td>0.000000</td>\n",
       "      <td>0.464107</td>\n",
       "    </tr>\n",
       "    <tr>\n",
       "      <th>Category_Jewelry</th>\n",
       "      <td>-0.301259</td>\n",
       "      <td>-0.817193</td>\n",
       "      <td>0.000000</td>\n",
       "      <td>-0.649345</td>\n",
       "    </tr>\n",
       "    <tr>\n",
       "      <th>Category_Music/Movie/Game</th>\n",
       "      <td>0.503799</td>\n",
       "      <td>0.000000</td>\n",
       "      <td>0.586934</td>\n",
       "      <td>0.386435</td>\n",
       "    </tr>\n",
       "    <tr>\n",
       "      <th>Category_Photography</th>\n",
       "      <td>1.282746</td>\n",
       "      <td>0.000000</td>\n",
       "      <td>0.000000</td>\n",
       "      <td>0.236325</td>\n",
       "    </tr>\n",
       "    <tr>\n",
       "      <th>Category_Pottery/Glass</th>\n",
       "      <td>-0.332043</td>\n",
       "      <td>0.000000</td>\n",
       "      <td>0.000000</td>\n",
       "      <td>-0.168076</td>\n",
       "    </tr>\n",
       "    <tr>\n",
       "      <th>Category_SportingGoods</th>\n",
       "      <td>1.358508</td>\n",
       "      <td>0.000000</td>\n",
       "      <td>1.173969</td>\n",
       "      <td>1.271161</td>\n",
       "    </tr>\n",
       "    <tr>\n",
       "      <th>Category_Toys/Hobbies</th>\n",
       "      <td>0.648472</td>\n",
       "      <td>0.143210</td>\n",
       "      <td>0.000000</td>\n",
       "      <td>0.608254</td>\n",
       "    </tr>\n",
       "    <tr>\n",
       "      <th>currency_GBP</th>\n",
       "      <td>0.958213</td>\n",
       "      <td>0.000000</td>\n",
       "      <td>0.000000</td>\n",
       "      <td>0.244927</td>\n",
       "    </tr>\n",
       "    <tr>\n",
       "      <th>currency_US</th>\n",
       "      <td>-0.095301</td>\n",
       "      <td>0.000000</td>\n",
       "      <td>0.000000</td>\n",
       "      <td>-0.048313</td>\n",
       "    </tr>\n",
       "    <tr>\n",
       "      <th>endDay_Sat</th>\n",
       "      <td>-1.239433</td>\n",
       "      <td>-1.033639</td>\n",
       "      <td>0.000000</td>\n",
       "      <td>-1.201499</td>\n",
       "    </tr>\n",
       "    <tr>\n",
       "      <th>endDay_Sun_Fri</th>\n",
       "      <td>-0.954428</td>\n",
       "      <td>-0.749508</td>\n",
       "      <td>0.000000</td>\n",
       "      <td>-0.791568</td>\n",
       "    </tr>\n",
       "    <tr>\n",
       "      <th>endDay_Thu</th>\n",
       "      <td>-1.012888</td>\n",
       "      <td>0.000000</td>\n",
       "      <td>0.000000</td>\n",
       "      <td>-0.186941</td>\n",
       "    </tr>\n",
       "    <tr>\n",
       "      <th>endDay_Tue</th>\n",
       "      <td>-0.740699</td>\n",
       "      <td>-0.599479</td>\n",
       "      <td>0.000000</td>\n",
       "      <td>-0.445839</td>\n",
       "    </tr>\n",
       "    <tr>\n",
       "      <th>endDay_Wed</th>\n",
       "      <td>-0.915220</td>\n",
       "      <td>0.000000</td>\n",
       "      <td>0.000000</td>\n",
       "      <td>-0.470326</td>\n",
       "    </tr>\n",
       "  </tbody>\n",
       "</table>\n",
       "</div>"
      ],
      "text/plain": [
       "                               unregularized  best_fitting  best_predictive  \\\n",
       "sellerRating                       -0.000040     -0.000012        -0.000020   \n",
       "Duration                           -0.080785      0.000000         0.000000   \n",
       "OpenPrice                          -0.007146     -0.009041        -0.009020   \n",
       "Category_Books                     -0.220607      0.000000         0.000000   \n",
       "Category_Clothing/Accessories       0.285479      0.000000         0.000000   \n",
       "Category_Coins/Stamps              -0.815631      0.000000         0.000000   \n",
       "Category_Collectibles               0.442175      0.000000         0.000000   \n",
       "Category_Computer                   0.982360      0.639226         0.000000   \n",
       "Category_Electronics                1.540873      1.128596         1.039034   \n",
       "Category_EverythingElse            -1.887026      0.000000        -0.479445   \n",
       "Category_Health/Beauty             -1.728272     -2.077200         0.000000   \n",
       "Category_Home/Garden                0.619485      0.000000         0.000000   \n",
       "Category_Jewelry                   -0.301259     -0.817193         0.000000   \n",
       "Category_Music/Movie/Game           0.503799      0.000000         0.586934   \n",
       "Category_Photography                1.282746      0.000000         0.000000   \n",
       "Category_Pottery/Glass             -0.332043      0.000000         0.000000   \n",
       "Category_SportingGoods              1.358508      0.000000         1.173969   \n",
       "Category_Toys/Hobbies               0.648472      0.143210         0.000000   \n",
       "currency_GBP                        0.958213      0.000000         0.000000   \n",
       "currency_US                        -0.095301      0.000000         0.000000   \n",
       "endDay_Sat                         -1.239433     -1.033639         0.000000   \n",
       "endDay_Sun_Fri                     -0.954428     -0.749508         0.000000   \n",
       "endDay_Thu                         -1.012888      0.000000         0.000000   \n",
       "endDay_Tue                         -0.740699     -0.599479         0.000000   \n",
       "endDay_Wed                         -0.915220      0.000000         0.000000   \n",
       "\n",
       "                               L1 regularized  \n",
       "sellerRating                        -0.000036  \n",
       "Duration                            -0.085876  \n",
       "OpenPrice                           -0.007419  \n",
       "Category_Books                      -0.437808  \n",
       "Category_Clothing/Accessories       -0.038999  \n",
       "Category_Coins/Stamps               -0.450466  \n",
       "Category_Collectibles                0.442809  \n",
       "Category_Computer                    0.567203  \n",
       "Category_Electronics                 1.125243  \n",
       "Category_EverythingElse             -0.455946  \n",
       "Category_Health/Beauty              -1.426092  \n",
       "Category_Home/Garden                 0.464107  \n",
       "Category_Jewelry                    -0.649345  \n",
       "Category_Music/Movie/Game            0.386435  \n",
       "Category_Photography                 0.236325  \n",
       "Category_Pottery/Glass              -0.168076  \n",
       "Category_SportingGoods               1.271161  \n",
       "Category_Toys/Hobbies                0.608254  \n",
       "currency_GBP                         0.244927  \n",
       "currency_US                         -0.048313  \n",
       "endDay_Sat                          -1.201499  \n",
       "endDay_Sun_Fri                      -0.791568  \n",
       "endDay_Thu                          -0.186941  \n",
       "endDay_Tue                          -0.445839  \n",
       "endDay_Wed                          -0.470326  "
      ]
     },
     "execution_count": 52,
     "metadata": {},
     "output_type": "execute_result"
    }
   ],
   "source": [
    "# print coefficients\n",
    "print('intercept ', logit_reg.intercept_[0])\n",
    "coefficients = pd.DataFrame({\n",
    "    'unregularized': logit_reg.coef_[0], \n",
    "    'best_fitting': 0,\n",
    "    'best_predictive': 0,\n",
    "    'L1 regularized': logit_reg_L1.coef_[0],\n",
    "    }, index=X_train.columns)\n",
    "coefficients.loc[var_fitting, 'best_fitting'] = best_fitting.coef_.ravel()\n",
    "coefficients.loc[var_predictive, 'best_predictive'] = best_predictive.coef_.ravel()\n",
    "coefficients"
   ]
  },
  {
   "cell_type": "markdown",
   "metadata": {},
   "source": [
    "In general, we can see that for cases where both the best_fitting and the best_predictive model exclude a predictor, the coefficient in the regularized model is also closer to zero compared to the unregularized model."
   ]
  },
  {
   "cell_type": "markdown",
   "metadata": {},
   "source": [
    "__10.4.j.__ If the major objective is accurate classification, what cutoff value should be used?"
   ]
  },
  {
   "cell_type": "code",
   "execution_count": 53,
   "metadata": {},
   "outputs": [
    {
     "data": {
      "text/html": [
       "<div>\n",
       "<style scoped>\n",
       "    .dataframe tbody tr th:only-of-type {\n",
       "        vertical-align: middle;\n",
       "    }\n",
       "\n",
       "    .dataframe tbody tr th {\n",
       "        vertical-align: top;\n",
       "    }\n",
       "\n",
       "    .dataframe thead th {\n",
       "        text-align: right;\n",
       "    }\n",
       "</style>\n",
       "<table border=\"1\" class=\"dataframe\">\n",
       "  <thead>\n",
       "    <tr style=\"text-align: right;\">\n",
       "      <th></th>\n",
       "      <th>cutoff</th>\n",
       "      <th>accuracy</th>\n",
       "    </tr>\n",
       "  </thead>\n",
       "  <tbody>\n",
       "    <tr>\n",
       "      <th>505</th>\n",
       "      <td>0.505</td>\n",
       "      <td>0.651458</td>\n",
       "    </tr>\n",
       "    <tr>\n",
       "      <th>506</th>\n",
       "      <td>0.506</td>\n",
       "      <td>0.655260</td>\n",
       "    </tr>\n",
       "    <tr>\n",
       "      <th>507</th>\n",
       "      <td>0.507</td>\n",
       "      <td>0.653992</td>\n",
       "    </tr>\n",
       "  </tbody>\n",
       "</table>\n",
       "</div>"
      ],
      "text/plain": [
       "     cutoff  accuracy\n",
       "505   0.505  0.651458\n",
       "506   0.506  0.655260\n",
       "507   0.507  0.653992"
      ]
     },
     "execution_count": 53,
     "metadata": {},
     "output_type": "execute_result"
    },
    {
     "data": {
      "image/png": "[encoded data removed]",
      "text/plain": [
       "<Figure size 432x288 with 1 Axes>"
      ]
     },
     "metadata": {
      "needs_background": "light"
     },
     "output_type": "display_data"
    }
   ],
   "source": [
    "# Determine accuracy for different cutoff values between 0 and 1\n",
    "data = []\n",
    "for cutoff in [v / 1000 for v in range(1001)]:\n",
    "    data.append({'cutoff': cutoff, \n",
    "                 'accuracy': accuracy_score(y_valid, logit_reg_L1.predict_proba(X_valid)[:, 1] > cutoff)})\n",
    "data = pd.DataFrame(data)\n",
    "ax = data.plot.line(x='cutoff', y='accuracy')\n",
    "ax.axvline(x=0.5)\n",
    "\n",
    "data.iloc[data['accuracy'].argmax() - 1:data['accuracy'].argmax() + 2, :]"
   ]
  },
  {
   "cell_type": "markdown",
   "metadata": {},
   "source": [
    "The highest accuracy is achieved with the default cutoff close to 0.5"
   ]
  },
  {
   "cell_type": "markdown",
   "metadata": {},
   "source": [
    "__10.4.k.__ Based on these data, what auction settings set by the seller (duration, opening price, ending day, currency) would you recommend as being most likely to lead to a competitive auction?"
   ]
  },
  {
   "cell_type": "code",
   "execution_count": null,
   "metadata": {},
   "outputs": [],
   "source": []
  }
 ],
 "metadata": {
  "kernelspec": {
   "display_name": "Python 3",
   "language": "python",
   "name": "python3"
  },
  "language_info": {
   "codemirror_mode": {
    "name": "ipython",
    "version": 3
   },
   "file_extension": ".py",
   "mimetype": "text/x-python",
   "name": "python",
   "nbconvert_exporter": "python",
   "pygments_lexer": "ipython3",
   "version": "3.8.6"
  }
 },
 "nbformat": 4,
 "nbformat_minor": 2
}
