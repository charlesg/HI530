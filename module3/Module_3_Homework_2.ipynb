{
  "cells": [
    {
      "cell_type": "markdown",
      "source": "# 7.3 Predicting Housing Median Prices. \n\nThe file BostonHousing.csv contains information on over 500 census tracts in Boston, where for each tract multiple variables are recorded. The last column (CAT.MEDV) was derived from MEDV, such that it obtains the value 1 if MEDV > 30 and 0 otherwise. Consider the goal of predicting the median value (MEDV) of a tract, given the information in the first 12 columns.\n\nPartition the data into training (60%) and validation (40%) sets.\n\n- a. Perform a k NN prediction with all 12 predictors (ignore the CAT.MEDV column), trying values of k from 1 to 5. Make sure to normalize the data. What is the best k ? What does it mean?\n- b. Predict the MEDV for a tract with the following information, using the best k:\n\n| CRIM | ZN   | INDUS | CHAS | NOX  | RM   | AGE  | DIS  | RAD  | TAX  | PTRATIO | LSTAT |\n| ---  | ---  | ---   | ---  | ---  | ---  | ---  | ---  | ---  | ---  | ---     | ---   |\n| 0.2  | 0    | 7     | 0    | 0.538| 6    | 62   | 4.7  | 4    | 307  | 21      | 10    | \n\n- c. If we used the above k NN algorithm to score the training data, what would be the error of the training set?\n- d. Why is the validation data error overly optimistic compared to the error rate when applying this k NN predictor to new data?\n- e. If the purpose is to predict MEDV for several thousands of new tracts, what would be the disadvantage of using k NN prediction? List the operations that the algorithm goes through in order to produce each prediction. \n\nNotes\n1. If you are interested in reproducibility of results, check the accuracy only for each odd k.\n2. Partitioning such a small dataset is unwise in practice, as results will heavily rely on the particular partition. For instance, if you use a different partitioning, you might obtain a different “optimal” k . We use this example for illustration only. \n ",
      "metadata": {
        "tags": [],
        "cell_id": "00000-7d0b9729-cca1-4d7a-b973-8b2504593a30",
        "deepnote_cell_type": "markdown"
      }
    },
    {
      "cell_type": "code",
      "metadata": {
        "tags": [],
        "cell_id": "00000-e9eef06b-f7ac-476b-86cd-fc5af86bc740",
        "deepnote_to_be_reexecuted": false,
        "source_hash": "70ae9c92",
        "execution_millis": 2424,
        "execution_start": 1615582820058,
        "deepnote_cell_type": "code"
      },
      "source": "# Start writing code here...\nimport numpy as np\nimport networkx as nx\nimport pandas as pd\nimport matplotlib.pylab as plt\nimport seaborn as sns\n#\nfrom sklearn.model_selection import train_test_split\nfrom sklearn.linear_model import LinearRegression, Lasso, Ridge, LassoCV, BayesianRidge\nfrom dmba import regressionSummary, exhaustive_search, gainsChart, liftChart\nfrom dmba import backward_elimination, forward_selection, stepwise_selection\nfrom dmba import adjusted_r2_score, AIC_score, BIC_score\n##new libraries that you need for k-nn regression\nfrom sklearn.neighbors import KNeighborsClassifier, KNeighborsRegressor #, NearestNeighbors\nfrom sklearn.metrics import accuracy_score, confusion_matrix, mean_squared_error\nimport math",
      "execution_count": 2,
      "outputs": [
        {
          "name": "stdout",
          "text": "no display found. Using non-interactive Agg backend\n",
          "output_type": "stream"
        }
      ]
    },
    {
      "cell_type": "code",
      "metadata": {
        "tags": [],
        "cell_id": "00002-abc955b9-d4f6-48b0-a318-3a28948616ce",
        "deepnote_to_be_reexecuted": false,
        "source_hash": "233afcae",
        "execution_millis": 67,
        "execution_start": 1615582824625,
        "deepnote_cell_type": "code"
      },
      "source": "bostonhousing_df = pd.read_csv('BostonHousing.csv')\nbostonhousing_df",
      "execution_count": 3,
      "outputs": [
        {
          "output_type": "execute_result",
          "execution_count": 3,
          "data": {
            "application/vnd.deepnote.dataframe.v2+json": {
              "row_count": 506,
              "column_count": 14,
              "columns": [
                {
                  "name": "CRIM",
                  "dtype": "float64",
                  "stats": {
                    "unique_count": 504,
                    "nan_count": 0,
                    "min": 0.00632,
                    "max": 88.9762,
                    "histogram": [
                      {
                        "bin_start": 0.00632,
                        "bin_end": 8.903308,
                        "count": 439
                      },
                      {
                        "bin_start": 8.903308,
                        "bin_end": 17.800296,
                        "count": 44
                      },
                      {
                        "bin_start": 17.800296,
                        "bin_end": 26.697284,
                        "count": 14
                      },
                      {
                        "bin_start": 26.697284,
                        "bin_end": 35.594272000000004,
                        "count": 1
                      },
                      {
                        "bin_start": 35.594272000000004,
                        "bin_end": 44.491260000000004,
                        "count": 3
                      },
                      {
                        "bin_start": 44.491260000000004,
                        "bin_end": 53.388248000000004,
                        "count": 2
                      },
                      {
                        "bin_start": 53.388248000000004,
                        "bin_end": 62.285236000000005,
                        "count": 0
                      },
                      {
                        "bin_start": 62.285236000000005,
                        "bin_end": 71.182224,
                        "count": 1
                      },
                      {
                        "bin_start": 71.182224,
                        "bin_end": 80.079212,
                        "count": 1
                      },
                      {
                        "bin_start": 80.079212,
                        "bin_end": 88.9762,
                        "count": 1
                      }
                    ]
                  }
                },
                {
                  "name": "ZN",
                  "dtype": "float64",
                  "stats": {
                    "unique_count": 26,
                    "nan_count": 0,
                    "min": 0,
                    "max": 100,
                    "histogram": [
                      {
                        "bin_start": 0,
                        "bin_end": 10,
                        "count": 372
                      },
                      {
                        "bin_start": 10,
                        "bin_end": 20,
                        "count": 12
                      },
                      {
                        "bin_start": 20,
                        "bin_end": 30,
                        "count": 48
                      },
                      {
                        "bin_start": 30,
                        "bin_end": 40,
                        "count": 16
                      },
                      {
                        "bin_start": 40,
                        "bin_end": 50,
                        "count": 13
                      },
                      {
                        "bin_start": 50,
                        "bin_end": 60,
                        "count": 6
                      },
                      {
                        "bin_start": 60,
                        "bin_end": 70,
                        "count": 4
                      },
                      {
                        "bin_start": 70,
                        "bin_end": 80,
                        "count": 6
                      },
                      {
                        "bin_start": 80,
                        "bin_end": 90,
                        "count": 19
                      },
                      {
                        "bin_start": 90,
                        "bin_end": 100,
                        "count": 10
                      }
                    ]
                  }
                },
                {
                  "name": "INDUS",
                  "dtype": "float64",
                  "stats": {
                    "unique_count": 76,
                    "nan_count": 0,
                    "min": 0.46,
                    "max": 27.74,
                    "histogram": [
                      {
                        "bin_start": 0.46,
                        "bin_end": 3.1879999999999997,
                        "count": 56
                      },
                      {
                        "bin_start": 3.1879999999999997,
                        "bin_end": 5.9159999999999995,
                        "count": 95
                      },
                      {
                        "bin_start": 5.9159999999999995,
                        "bin_end": 8.644,
                        "count": 99
                      },
                      {
                        "bin_start": 8.644,
                        "bin_end": 11.372,
                        "count": 44
                      },
                      {
                        "bin_start": 11.372,
                        "bin_end": 14.1,
                        "count": 20
                      },
                      {
                        "bin_start": 14.1,
                        "bin_end": 16.828,
                        "count": 3
                      },
                      {
                        "bin_start": 16.828,
                        "bin_end": 19.555999999999997,
                        "count": 132
                      },
                      {
                        "bin_start": 19.555999999999997,
                        "bin_end": 22.284,
                        "count": 45
                      },
                      {
                        "bin_start": 22.284,
                        "bin_end": 25.012,
                        "count": 0
                      },
                      {
                        "bin_start": 25.012,
                        "bin_end": 27.74,
                        "count": 12
                      }
                    ]
                  }
                },
                {
                  "name": "CHAS",
                  "dtype": "int64",
                  "stats": {
                    "unique_count": 2,
                    "nan_count": 0,
                    "min": 0,
                    "max": 1,
                    "histogram": [
                      {
                        "bin_start": 0,
                        "bin_end": 0.1,
                        "count": 471
                      },
                      {
                        "bin_start": 0.1,
                        "bin_end": 0.2,
                        "count": 0
                      },
                      {
                        "bin_start": 0.2,
                        "bin_end": 0.30000000000000004,
                        "count": 0
                      },
                      {
                        "bin_start": 0.30000000000000004,
                        "bin_end": 0.4,
                        "count": 0
                      },
                      {
                        "bin_start": 0.4,
                        "bin_end": 0.5,
                        "count": 0
                      },
                      {
                        "bin_start": 0.5,
                        "bin_end": 0.6000000000000001,
                        "count": 0
                      },
                      {
                        "bin_start": 0.6000000000000001,
                        "bin_end": 0.7000000000000001,
                        "count": 0
                      },
                      {
                        "bin_start": 0.7000000000000001,
                        "bin_end": 0.8,
                        "count": 0
                      },
                      {
                        "bin_start": 0.8,
                        "bin_end": 0.9,
                        "count": 0
                      },
                      {
                        "bin_start": 0.9,
                        "bin_end": 1,
                        "count": 35
                      }
                    ]
                  }
                },
                {
                  "name": "NOX",
                  "dtype": "float64",
                  "stats": {
                    "unique_count": 81,
                    "nan_count": 0,
                    "min": 0.385,
                    "max": 0.871,
                    "histogram": [
                      {
                        "bin_start": 0.385,
                        "bin_end": 0.4336,
                        "count": 75
                      },
                      {
                        "bin_start": 0.4336,
                        "bin_end": 0.4822,
                        "count": 80
                      },
                      {
                        "bin_start": 0.4822,
                        "bin_end": 0.5307999999999999,
                        "count": 89
                      },
                      {
                        "bin_start": 0.5307999999999999,
                        "bin_end": 0.5794,
                        "count": 60
                      },
                      {
                        "bin_start": 0.5794,
                        "bin_end": 0.628,
                        "count": 78
                      },
                      {
                        "bin_start": 0.628,
                        "bin_end": 0.6766,
                        "count": 30
                      },
                      {
                        "bin_start": 0.6766,
                        "bin_end": 0.7252000000000001,
                        "count": 57
                      },
                      {
                        "bin_start": 0.7252000000000001,
                        "bin_end": 0.7738,
                        "count": 21
                      },
                      {
                        "bin_start": 0.7738,
                        "bin_end": 0.8224,
                        "count": 0
                      },
                      {
                        "bin_start": 0.8224,
                        "bin_end": 0.871,
                        "count": 16
                      }
                    ]
                  }
                },
                {
                  "name": "RM",
                  "dtype": "float64",
                  "stats": {
                    "unique_count": 446,
                    "nan_count": 0,
                    "min": 3.561,
                    "max": 8.78,
                    "histogram": [
                      {
                        "bin_start": 3.561,
                        "bin_end": 4.0828999999999995,
                        "count": 2
                      },
                      {
                        "bin_start": 4.0828999999999995,
                        "bin_end": 4.6048,
                        "count": 4
                      },
                      {
                        "bin_start": 4.6048,
                        "bin_end": 5.1267,
                        "count": 14
                      },
                      {
                        "bin_start": 5.1267,
                        "bin_end": 5.6486,
                        "count": 45
                      },
                      {
                        "bin_start": 5.6486,
                        "bin_end": 6.1705,
                        "count": 177
                      },
                      {
                        "bin_start": 6.1705,
                        "bin_end": 6.692399999999999,
                        "count": 151
                      },
                      {
                        "bin_start": 6.692399999999999,
                        "bin_end": 7.2143,
                        "count": 69
                      },
                      {
                        "bin_start": 7.2143,
                        "bin_end": 7.736199999999999,
                        "count": 22
                      },
                      {
                        "bin_start": 7.736199999999999,
                        "bin_end": 8.258099999999999,
                        "count": 13
                      },
                      {
                        "bin_start": 8.258099999999999,
                        "bin_end": 8.78,
                        "count": 9
                      }
                    ]
                  }
                },
                {
                  "name": "AGE",
                  "dtype": "float64",
                  "stats": {
                    "unique_count": 356,
                    "nan_count": 0,
                    "min": 2.9,
                    "max": 100,
                    "histogram": [
                      {
                        "bin_start": 2.9,
                        "bin_end": 12.61,
                        "count": 14
                      },
                      {
                        "bin_start": 12.61,
                        "bin_end": 22.319999999999997,
                        "count": 31
                      },
                      {
                        "bin_start": 22.319999999999997,
                        "bin_end": 32.029999999999994,
                        "count": 29
                      },
                      {
                        "bin_start": 32.029999999999994,
                        "bin_end": 41.739999999999995,
                        "count": 42
                      },
                      {
                        "bin_start": 41.739999999999995,
                        "bin_end": 51.449999999999996,
                        "count": 32
                      },
                      {
                        "bin_start": 51.449999999999996,
                        "bin_end": 61.15999999999999,
                        "count": 38
                      },
                      {
                        "bin_start": 61.15999999999999,
                        "bin_end": 70.87,
                        "count": 39
                      },
                      {
                        "bin_start": 70.87,
                        "bin_end": 80.58,
                        "count": 42
                      },
                      {
                        "bin_start": 80.58,
                        "bin_end": 90.28999999999999,
                        "count": 71
                      },
                      {
                        "bin_start": 90.28999999999999,
                        "bin_end": 100,
                        "count": 168
                      }
                    ]
                  }
                },
                {
                  "name": "DIS",
                  "dtype": "float64",
                  "stats": {
                    "unique_count": 412,
                    "nan_count": 0,
                    "min": 1.1296,
                    "max": 12.1265,
                    "histogram": [
                      {
                        "bin_start": 1.1296,
                        "bin_end": 2.2292899999999998,
                        "count": 150
                      },
                      {
                        "bin_start": 2.2292899999999998,
                        "bin_end": 3.32898,
                        "count": 111
                      },
                      {
                        "bin_start": 3.32898,
                        "bin_end": 4.42867,
                        "count": 81
                      },
                      {
                        "bin_start": 4.42867,
                        "bin_end": 5.52836,
                        "count": 61
                      },
                      {
                        "bin_start": 5.52836,
                        "bin_end": 6.62805,
                        "count": 46
                      },
                      {
                        "bin_start": 6.62805,
                        "bin_end": 7.727740000000001,
                        "count": 26
                      },
                      {
                        "bin_start": 7.727740000000001,
                        "bin_end": 8.82743,
                        "count": 19
                      },
                      {
                        "bin_start": 8.82743,
                        "bin_end": 9.92712,
                        "count": 7
                      },
                      {
                        "bin_start": 9.92712,
                        "bin_end": 11.026810000000001,
                        "count": 4
                      },
                      {
                        "bin_start": 11.026810000000001,
                        "bin_end": 12.1265,
                        "count": 1
                      }
                    ]
                  }
                },
                {
                  "name": "RAD",
                  "dtype": "int64",
                  "stats": {
                    "unique_count": 9,
                    "nan_count": 0,
                    "min": 1,
                    "max": 24,
                    "histogram": [
                      {
                        "bin_start": 1,
                        "bin_end": 3.3,
                        "count": 82
                      },
                      {
                        "bin_start": 3.3,
                        "bin_end": 5.6,
                        "count": 225
                      },
                      {
                        "bin_start": 5.6,
                        "bin_end": 7.8999999999999995,
                        "count": 43
                      },
                      {
                        "bin_start": 7.8999999999999995,
                        "bin_end": 10.2,
                        "count": 24
                      },
                      {
                        "bin_start": 10.2,
                        "bin_end": 12.5,
                        "count": 0
                      },
                      {
                        "bin_start": 12.5,
                        "bin_end": 14.799999999999999,
                        "count": 0
                      },
                      {
                        "bin_start": 14.799999999999999,
                        "bin_end": 17.099999999999998,
                        "count": 0
                      },
                      {
                        "bin_start": 17.099999999999998,
                        "bin_end": 19.4,
                        "count": 0
                      },
                      {
                        "bin_start": 19.4,
                        "bin_end": 21.7,
                        "count": 0
                      },
                      {
                        "bin_start": 21.7,
                        "bin_end": 24,
                        "count": 132
                      }
                    ]
                  }
                },
                {
                  "name": "TAX",
                  "dtype": "int64",
                  "stats": {
                    "unique_count": 66,
                    "nan_count": 0,
                    "min": 187,
                    "max": 711,
                    "histogram": [
                      {
                        "bin_start": 187,
                        "bin_end": 239.4,
                        "count": 54
                      },
                      {
                        "bin_start": 239.4,
                        "bin_end": 291.8,
                        "count": 100
                      },
                      {
                        "bin_start": 291.8,
                        "bin_end": 344.2,
                        "count": 108
                      },
                      {
                        "bin_start": 344.2,
                        "bin_end": 396.6,
                        "count": 32
                      },
                      {
                        "bin_start": 396.6,
                        "bin_end": 449,
                        "count": 74
                      },
                      {
                        "bin_start": 449,
                        "bin_end": 501.4,
                        "count": 1
                      },
                      {
                        "bin_start": 501.4,
                        "bin_end": 553.8,
                        "count": 0
                      },
                      {
                        "bin_start": 553.8,
                        "bin_end": 606.2,
                        "count": 0
                      },
                      {
                        "bin_start": 606.2,
                        "bin_end": 658.5999999999999,
                        "count": 0
                      },
                      {
                        "bin_start": 658.5999999999999,
                        "bin_end": 711,
                        "count": 137
                      }
                    ]
                  }
                },
                {
                  "name": "PTRATIO",
                  "dtype": "float64",
                  "stats": {
                    "unique_count": 46,
                    "nan_count": 0,
                    "min": 12.6,
                    "max": 22,
                    "histogram": [
                      {
                        "bin_start": 12.6,
                        "bin_end": 13.54,
                        "count": 15
                      },
                      {
                        "bin_start": 13.54,
                        "bin_end": 14.48,
                        "count": 2
                      },
                      {
                        "bin_start": 14.48,
                        "bin_end": 15.42,
                        "count": 58
                      },
                      {
                        "bin_start": 15.42,
                        "bin_end": 16.36,
                        "count": 15
                      },
                      {
                        "bin_start": 16.36,
                        "bin_end": 17.3,
                        "count": 35
                      },
                      {
                        "bin_start": 17.3,
                        "bin_end": 18.240000000000002,
                        "count": 69
                      },
                      {
                        "bin_start": 18.240000000000002,
                        "bin_end": 19.18,
                        "count": 76
                      },
                      {
                        "bin_start": 19.18,
                        "bin_end": 20.12,
                        "count": 40
                      },
                      {
                        "bin_start": 20.12,
                        "bin_end": 21.060000000000002,
                        "count": 178
                      },
                      {
                        "bin_start": 21.060000000000002,
                        "bin_end": 22,
                        "count": 18
                      }
                    ]
                  }
                },
                {
                  "name": "LSTAT",
                  "dtype": "float64",
                  "stats": {
                    "unique_count": 455,
                    "nan_count": 0,
                    "min": 1.73,
                    "max": 37.97,
                    "histogram": [
                      {
                        "bin_start": 1.73,
                        "bin_end": 5.354,
                        "count": 75
                      },
                      {
                        "bin_start": 5.354,
                        "bin_end": 8.978,
                        "count": 108
                      },
                      {
                        "bin_start": 8.978,
                        "bin_end": 12.602,
                        "count": 99
                      },
                      {
                        "bin_start": 12.602,
                        "bin_end": 16.226,
                        "count": 84
                      },
                      {
                        "bin_start": 16.226,
                        "bin_end": 19.85,
                        "count": 64
                      },
                      {
                        "bin_start": 19.85,
                        "bin_end": 23.474,
                        "count": 30
                      },
                      {
                        "bin_start": 23.474,
                        "bin_end": 27.098000000000003,
                        "count": 21
                      },
                      {
                        "bin_start": 27.098000000000003,
                        "bin_end": 30.722,
                        "count": 16
                      },
                      {
                        "bin_start": 30.722,
                        "bin_end": 34.346,
                        "count": 4
                      },
                      {
                        "bin_start": 34.346,
                        "bin_end": 37.97,
                        "count": 5
                      }
                    ]
                  }
                },
                {
                  "name": "MEDV",
                  "dtype": "float64",
                  "stats": {
                    "unique_count": 229,
                    "nan_count": 0,
                    "min": 5,
                    "max": 50,
                    "histogram": [
                      {
                        "bin_start": 5,
                        "bin_end": 9.5,
                        "count": 21
                      },
                      {
                        "bin_start": 9.5,
                        "bin_end": 14,
                        "count": 55
                      },
                      {
                        "bin_start": 14,
                        "bin_end": 18.5,
                        "count": 82
                      },
                      {
                        "bin_start": 18.5,
                        "bin_end": 23,
                        "count": 154
                      },
                      {
                        "bin_start": 23,
                        "bin_end": 27.5,
                        "count": 84
                      },
                      {
                        "bin_start": 27.5,
                        "bin_end": 32,
                        "count": 41
                      },
                      {
                        "bin_start": 32,
                        "bin_end": 36.5,
                        "count": 30
                      },
                      {
                        "bin_start": 36.5,
                        "bin_end": 41,
                        "count": 8
                      },
                      {
                        "bin_start": 41,
                        "bin_end": 45.5,
                        "count": 10
                      },
                      {
                        "bin_start": 45.5,
                        "bin_end": 50,
                        "count": 21
                      }
                    ]
                  }
                },
                {
                  "name": "CAT. MEDV",
                  "dtype": "int64",
                  "stats": {
                    "unique_count": 2,
                    "nan_count": 0,
                    "min": 0,
                    "max": 1,
                    "histogram": [
                      {
                        "bin_start": 0,
                        "bin_end": 0.1,
                        "count": 422
                      },
                      {
                        "bin_start": 0.1,
                        "bin_end": 0.2,
                        "count": 0
                      },
                      {
                        "bin_start": 0.2,
                        "bin_end": 0.30000000000000004,
                        "count": 0
                      },
                      {
                        "bin_start": 0.30000000000000004,
                        "bin_end": 0.4,
                        "count": 0
                      },
                      {
                        "bin_start": 0.4,
                        "bin_end": 0.5,
                        "count": 0
                      },
                      {
                        "bin_start": 0.5,
                        "bin_end": 0.6000000000000001,
                        "count": 0
                      },
                      {
                        "bin_start": 0.6000000000000001,
                        "bin_end": 0.7000000000000001,
                        "count": 0
                      },
                      {
                        "bin_start": 0.7000000000000001,
                        "bin_end": 0.8,
                        "count": 0
                      },
                      {
                        "bin_start": 0.8,
                        "bin_end": 0.9,
                        "count": 0
                      },
                      {
                        "bin_start": 0.9,
                        "bin_end": 1,
                        "count": 84
                      }
                    ]
                  }
                },
                {
                  "name": "_deepnote_index_column",
                  "dtype": "int64"
                }
              ],
              "rows_top": [
                {
                  "CRIM": 0.00632,
                  "ZN": 18,
                  "INDUS": 2.31,
                  "CHAS": 0,
                  "NOX": 0.538,
                  "RM": 6.575,
                  "AGE": 65.2,
                  "DIS": 4.09,
                  "RAD": 1,
                  "TAX": 296,
                  "PTRATIO": 15.3,
                  "LSTAT": 4.98,
                  "MEDV": 24,
                  "CAT. MEDV": 0,
                  "_deepnote_index_column": 0
                },
                {
                  "CRIM": 0.02731,
                  "ZN": 0,
                  "INDUS": 7.07,
                  "CHAS": 0,
                  "NOX": 0.469,
                  "RM": 6.421,
                  "AGE": 78.9,
                  "DIS": 4.9671,
                  "RAD": 2,
                  "TAX": 242,
                  "PTRATIO": 17.8,
                  "LSTAT": 9.14,
                  "MEDV": 21.6,
                  "CAT. MEDV": 0,
                  "_deepnote_index_column": 1
                },
                {
                  "CRIM": 0.02729,
                  "ZN": 0,
                  "INDUS": 7.07,
                  "CHAS": 0,
                  "NOX": 0.469,
                  "RM": 7.185,
                  "AGE": 61.1,
                  "DIS": 4.9671,
                  "RAD": 2,
                  "TAX": 242,
                  "PTRATIO": 17.8,
                  "LSTAT": 4.03,
                  "MEDV": 34.7,
                  "CAT. MEDV": 1,
                  "_deepnote_index_column": 2
                },
                {
                  "CRIM": 0.03237,
                  "ZN": 0,
                  "INDUS": 2.18,
                  "CHAS": 0,
                  "NOX": 0.458,
                  "RM": 6.998,
                  "AGE": 45.8,
                  "DIS": 6.0622,
                  "RAD": 3,
                  "TAX": 222,
                  "PTRATIO": 18.7,
                  "LSTAT": 2.94,
                  "MEDV": 33.4,
                  "CAT. MEDV": 1,
                  "_deepnote_index_column": 3
                },
                {
                  "CRIM": 0.06905,
                  "ZN": 0,
                  "INDUS": 2.18,
                  "CHAS": 0,
                  "NOX": 0.458,
                  "RM": 7.147,
                  "AGE": 54.2,
                  "DIS": 6.0622,
                  "RAD": 3,
                  "TAX": 222,
                  "PTRATIO": 18.7,
                  "LSTAT": 5.33,
                  "MEDV": 36.2,
                  "CAT. MEDV": 1,
                  "_deepnote_index_column": 4
                },
                {
                  "CRIM": 0.02985,
                  "ZN": 0,
                  "INDUS": 2.18,
                  "CHAS": 0,
                  "NOX": 0.458,
                  "RM": 6.43,
                  "AGE": 58.7,
                  "DIS": 6.0622,
                  "RAD": 3,
                  "TAX": 222,
                  "PTRATIO": 18.7,
                  "LSTAT": 5.21,
                  "MEDV": 28.7,
                  "CAT. MEDV": 0,
                  "_deepnote_index_column": 5
                },
                {
                  "CRIM": 0.08829,
                  "ZN": 12.5,
                  "INDUS": 7.87,
                  "CHAS": 0,
                  "NOX": 0.524,
                  "RM": 6.012,
                  "AGE": 66.6,
                  "DIS": 5.5605,
                  "RAD": 5,
                  "TAX": 311,
                  "PTRATIO": 15.2,
                  "LSTAT": 12.43,
                  "MEDV": 22.9,
                  "CAT. MEDV": 0,
                  "_deepnote_index_column": 6
                },
                {
                  "CRIM": 0.14455,
                  "ZN": 12.5,
                  "INDUS": 7.87,
                  "CHAS": 0,
                  "NOX": 0.524,
                  "RM": 6.172,
                  "AGE": 96.1,
                  "DIS": 5.9505,
                  "RAD": 5,
                  "TAX": 311,
                  "PTRATIO": 15.2,
                  "LSTAT": 19.15,
                  "MEDV": 27.1,
                  "CAT. MEDV": 0,
                  "_deepnote_index_column": 7
                },
                {
                  "CRIM": 0.21124,
                  "ZN": 12.5,
                  "INDUS": 7.87,
                  "CHAS": 0,
                  "NOX": 0.524,
                  "RM": 5.631,
                  "AGE": 100,
                  "DIS": 6.0821,
                  "RAD": 5,
                  "TAX": 311,
                  "PTRATIO": 15.2,
                  "LSTAT": 29.93,
                  "MEDV": 16.5,
                  "CAT. MEDV": 0,
                  "_deepnote_index_column": 8
                },
                {
                  "CRIM": 0.17004,
                  "ZN": 12.5,
                  "INDUS": 7.87,
                  "CHAS": 0,
                  "NOX": 0.524,
                  "RM": 6.004,
                  "AGE": 85.9,
                  "DIS": 6.5921,
                  "RAD": 5,
                  "TAX": 311,
                  "PTRATIO": 15.2,
                  "LSTAT": 17.1,
                  "MEDV": 18.9,
                  "CAT. MEDV": 0,
                  "_deepnote_index_column": 9
                },
                {
                  "CRIM": 0.22489,
                  "ZN": 12.5,
                  "INDUS": 7.87,
                  "CHAS": 0,
                  "NOX": 0.524,
                  "RM": 6.377,
                  "AGE": 94.3,
                  "DIS": 6.3467,
                  "RAD": 5,
                  "TAX": 311,
                  "PTRATIO": 15.2,
                  "LSTAT": 20.45,
                  "MEDV": 15,
                  "CAT. MEDV": 0,
                  "_deepnote_index_column": 10
                },
                {
                  "CRIM": 0.11747,
                  "ZN": 12.5,
                  "INDUS": 7.87,
                  "CHAS": 0,
                  "NOX": 0.524,
                  "RM": 6.009,
                  "AGE": 82.9,
                  "DIS": 6.2267,
                  "RAD": 5,
                  "TAX": 311,
                  "PTRATIO": 15.2,
                  "LSTAT": 13.27,
                  "MEDV": 18.9,
                  "CAT. MEDV": 0,
                  "_deepnote_index_column": 11
                },
                {
                  "CRIM": 0.09378,
                  "ZN": 12.5,
                  "INDUS": 7.87,
                  "CHAS": 0,
                  "NOX": 0.524,
                  "RM": 5.889,
                  "AGE": 39,
                  "DIS": 5.4509,
                  "RAD": 5,
                  "TAX": 311,
                  "PTRATIO": 15.2,
                  "LSTAT": 15.71,
                  "MEDV": 21.7,
                  "CAT. MEDV": 0,
                  "_deepnote_index_column": 12
                },
                {
                  "CRIM": 0.62976,
                  "ZN": 0,
                  "INDUS": 8.14,
                  "CHAS": 0,
                  "NOX": 0.538,
                  "RM": 5.949,
                  "AGE": 61.8,
                  "DIS": 4.7075,
                  "RAD": 4,
                  "TAX": 307,
                  "PTRATIO": 21,
                  "LSTAT": 8.26,
                  "MEDV": 20.4,
                  "CAT. MEDV": 0,
                  "_deepnote_index_column": 13
                },
                {
                  "CRIM": 0.63796,
                  "ZN": 0,
                  "INDUS": 8.14,
                  "CHAS": 0,
                  "NOX": 0.538,
                  "RM": 6.096,
                  "AGE": 84.5,
                  "DIS": 4.4619,
                  "RAD": 4,
                  "TAX": 307,
                  "PTRATIO": 21,
                  "LSTAT": 10.26,
                  "MEDV": 18.2,
                  "CAT. MEDV": 0,
                  "_deepnote_index_column": 14
                },
                {
                  "CRIM": 0.62739,
                  "ZN": 0,
                  "INDUS": 8.14,
                  "CHAS": 0,
                  "NOX": 0.538,
                  "RM": 5.834,
                  "AGE": 56.5,
                  "DIS": 4.4986,
                  "RAD": 4,
                  "TAX": 307,
                  "PTRATIO": 21,
                  "LSTAT": 8.47,
                  "MEDV": 19.9,
                  "CAT. MEDV": 0,
                  "_deepnote_index_column": 15
                },
                {
                  "CRIM": 1.05393,
                  "ZN": 0,
                  "INDUS": 8.14,
                  "CHAS": 0,
                  "NOX": 0.538,
                  "RM": 5.935,
                  "AGE": 29.3,
                  "DIS": 4.4986,
                  "RAD": 4,
                  "TAX": 307,
                  "PTRATIO": 21,
                  "LSTAT": 6.58,
                  "MEDV": 23.1,
                  "CAT. MEDV": 0,
                  "_deepnote_index_column": 16
                },
                {
                  "CRIM": 0.7842,
                  "ZN": 0,
                  "INDUS": 8.14,
                  "CHAS": 0,
                  "NOX": 0.538,
                  "RM": 5.99,
                  "AGE": 81.7,
                  "DIS": 4.2579,
                  "RAD": 4,
                  "TAX": 307,
                  "PTRATIO": 21,
                  "LSTAT": 14.67,
                  "MEDV": 17.5,
                  "CAT. MEDV": 0,
                  "_deepnote_index_column": 17
                },
                {
                  "CRIM": 0.80271,
                  "ZN": 0,
                  "INDUS": 8.14,
                  "CHAS": 0,
                  "NOX": 0.538,
                  "RM": 5.456,
                  "AGE": 36.6,
                  "DIS": 3.7965,
                  "RAD": 4,
                  "TAX": 307,
                  "PTRATIO": 21,
                  "LSTAT": 11.69,
                  "MEDV": 20.2,
                  "CAT. MEDV": 0,
                  "_deepnote_index_column": 18
                },
                {
                  "CRIM": 0.7258,
                  "ZN": 0,
                  "INDUS": 8.14,
                  "CHAS": 0,
                  "NOX": 0.538,
                  "RM": 5.727,
                  "AGE": 69.5,
                  "DIS": 3.7965,
                  "RAD": 4,
                  "TAX": 307,
                  "PTRATIO": 21,
                  "LSTAT": 11.28,
                  "MEDV": 18.2,
                  "CAT. MEDV": 0,
                  "_deepnote_index_column": 19
                },
                {
                  "CRIM": 1.25179,
                  "ZN": 0,
                  "INDUS": 8.14,
                  "CHAS": 0,
                  "NOX": 0.538,
                  "RM": 5.57,
                  "AGE": 98.1,
                  "DIS": 3.7979,
                  "RAD": 4,
                  "TAX": 307,
                  "PTRATIO": 21,
                  "LSTAT": 21.02,
                  "MEDV": 13.6,
                  "CAT. MEDV": 0,
                  "_deepnote_index_column": 20
                },
                {
                  "CRIM": 0.85204,
                  "ZN": 0,
                  "INDUS": 8.14,
                  "CHAS": 0,
                  "NOX": 0.538,
                  "RM": 5.965,
                  "AGE": 89.2,
                  "DIS": 4.0123,
                  "RAD": 4,
                  "TAX": 307,
                  "PTRATIO": 21,
                  "LSTAT": 13.83,
                  "MEDV": 19.6,
                  "CAT. MEDV": 0,
                  "_deepnote_index_column": 21
                },
                {
                  "CRIM": 1.23247,
                  "ZN": 0,
                  "INDUS": 8.14,
                  "CHAS": 0,
                  "NOX": 0.538,
                  "RM": 6.142,
                  "AGE": 91.7,
                  "DIS": 3.9769,
                  "RAD": 4,
                  "TAX": 307,
                  "PTRATIO": 21,
                  "LSTAT": 18.72,
                  "MEDV": 15.2,
                  "CAT. MEDV": 0,
                  "_deepnote_index_column": 22
                },
                {
                  "CRIM": 0.98843,
                  "ZN": 0,
                  "INDUS": 8.14,
                  "CHAS": 0,
                  "NOX": 0.538,
                  "RM": 5.813,
                  "AGE": 100,
                  "DIS": 4.0952,
                  "RAD": 4,
                  "TAX": 307,
                  "PTRATIO": 21,
                  "LSTAT": 19.88,
                  "MEDV": 14.5,
                  "CAT. MEDV": 0,
                  "_deepnote_index_column": 23
                },
                {
                  "CRIM": 0.75026,
                  "ZN": 0,
                  "INDUS": 8.14,
                  "CHAS": 0,
                  "NOX": 0.538,
                  "RM": 5.924,
                  "AGE": 94.1,
                  "DIS": 4.3996,
                  "RAD": 4,
                  "TAX": 307,
                  "PTRATIO": 21,
                  "LSTAT": 16.3,
                  "MEDV": 15.6,
                  "CAT. MEDV": 0,
                  "_deepnote_index_column": 24
                },
                {
                  "CRIM": 0.84054,
                  "ZN": 0,
                  "INDUS": 8.14,
                  "CHAS": 0,
                  "NOX": 0.538,
                  "RM": 5.599,
                  "AGE": 85.7,
                  "DIS": 4.4546,
                  "RAD": 4,
                  "TAX": 307,
                  "PTRATIO": 21,
                  "LSTAT": 16.51,
                  "MEDV": 13.9,
                  "CAT. MEDV": 0,
                  "_deepnote_index_column": 25
                },
                {
                  "CRIM": 0.67191,
                  "ZN": 0,
                  "INDUS": 8.14,
                  "CHAS": 0,
                  "NOX": 0.538,
                  "RM": 5.813,
                  "AGE": 90.3,
                  "DIS": 4.682,
                  "RAD": 4,
                  "TAX": 307,
                  "PTRATIO": 21,
                  "LSTAT": 14.81,
                  "MEDV": 16.6,
                  "CAT. MEDV": 0,
                  "_deepnote_index_column": 26
                },
                {
                  "CRIM": 0.95577,
                  "ZN": 0,
                  "INDUS": 8.14,
                  "CHAS": 0,
                  "NOX": 0.538,
                  "RM": 6.047,
                  "AGE": 88.8,
                  "DIS": 4.4534,
                  "RAD": 4,
                  "TAX": 307,
                  "PTRATIO": 21,
                  "LSTAT": 17.28,
                  "MEDV": 14.8,
                  "CAT. MEDV": 0,
                  "_deepnote_index_column": 27
                },
                {
                  "CRIM": 0.77299,
                  "ZN": 0,
                  "INDUS": 8.14,
                  "CHAS": 0,
                  "NOX": 0.538,
                  "RM": 6.495,
                  "AGE": 94.4,
                  "DIS": 4.4547,
                  "RAD": 4,
                  "TAX": 307,
                  "PTRATIO": 21,
                  "LSTAT": 12.8,
                  "MEDV": 18.4,
                  "CAT. MEDV": 0,
                  "_deepnote_index_column": 28
                },
                {
                  "CRIM": 1.00245,
                  "ZN": 0,
                  "INDUS": 8.14,
                  "CHAS": 0,
                  "NOX": 0.538,
                  "RM": 6.674,
                  "AGE": 87.3,
                  "DIS": 4.239,
                  "RAD": 4,
                  "TAX": 307,
                  "PTRATIO": 21,
                  "LSTAT": 11.98,
                  "MEDV": 21,
                  "CAT. MEDV": 0,
                  "_deepnote_index_column": 29
                },
                {
                  "CRIM": 1.13081,
                  "ZN": 0,
                  "INDUS": 8.14,
                  "CHAS": 0,
                  "NOX": 0.538,
                  "RM": 5.713,
                  "AGE": 94.1,
                  "DIS": 4.233,
                  "RAD": 4,
                  "TAX": 307,
                  "PTRATIO": 21,
                  "LSTAT": 22.6,
                  "MEDV": 12.7,
                  "CAT. MEDV": 0,
                  "_deepnote_index_column": 30
                },
                {
                  "CRIM": 1.35472,
                  "ZN": 0,
                  "INDUS": 8.14,
                  "CHAS": 0,
                  "NOX": 0.538,
                  "RM": 6.072,
                  "AGE": 100,
                  "DIS": 4.175,
                  "RAD": 4,
                  "TAX": 307,
                  "PTRATIO": 21,
                  "LSTAT": 13.04,
                  "MEDV": 14.5,
                  "CAT. MEDV": 0,
                  "_deepnote_index_column": 31
                },
                {
                  "CRIM": 1.38799,
                  "ZN": 0,
                  "INDUS": 8.14,
                  "CHAS": 0,
                  "NOX": 0.538,
                  "RM": 5.95,
                  "AGE": 82,
                  "DIS": 3.99,
                  "RAD": 4,
                  "TAX": 307,
                  "PTRATIO": 21,
                  "LSTAT": 27.71,
                  "MEDV": 13.2,
                  "CAT. MEDV": 0,
                  "_deepnote_index_column": 32
                },
                {
                  "CRIM": 1.15172,
                  "ZN": 0,
                  "INDUS": 8.14,
                  "CHAS": 0,
                  "NOX": 0.538,
                  "RM": 5.701,
                  "AGE": 95,
                  "DIS": 3.7872,
                  "RAD": 4,
                  "TAX": 307,
                  "PTRATIO": 21,
                  "LSTAT": 18.35,
                  "MEDV": 13.1,
                  "CAT. MEDV": 0,
                  "_deepnote_index_column": 33
                },
                {
                  "CRIM": 1.61282,
                  "ZN": 0,
                  "INDUS": 8.14,
                  "CHAS": 0,
                  "NOX": 0.538,
                  "RM": 6.096,
                  "AGE": 96.9,
                  "DIS": 3.7598,
                  "RAD": 4,
                  "TAX": 307,
                  "PTRATIO": 21,
                  "LSTAT": 20.34,
                  "MEDV": 13.5,
                  "CAT. MEDV": 0,
                  "_deepnote_index_column": 34
                }
              ],
              "rows_bottom": [
                {
                  "CRIM": 4.34879,
                  "ZN": 0,
                  "INDUS": 18.1,
                  "CHAS": 0,
                  "NOX": 0.58,
                  "RM": 6.167,
                  "AGE": 84,
                  "DIS": 3.0334,
                  "RAD": 24,
                  "TAX": 666,
                  "PTRATIO": 20.2,
                  "LSTAT": 16.29,
                  "MEDV": 19.9,
                  "CAT. MEDV": 0,
                  "_deepnote_index_column": 470
                },
                {
                  "CRIM": 4.03841,
                  "ZN": 0,
                  "INDUS": 18.1,
                  "CHAS": 0,
                  "NOX": 0.532,
                  "RM": 6.229,
                  "AGE": 90.7,
                  "DIS": 3.0993,
                  "RAD": 24,
                  "TAX": 666,
                  "PTRATIO": 20.2,
                  "LSTAT": 12.87,
                  "MEDV": 19.6,
                  "CAT. MEDV": 0,
                  "_deepnote_index_column": 471
                },
                {
                  "CRIM": 3.56868,
                  "ZN": 0,
                  "INDUS": 18.1,
                  "CHAS": 0,
                  "NOX": 0.58,
                  "RM": 6.437,
                  "AGE": 75,
                  "DIS": 2.8965,
                  "RAD": 24,
                  "TAX": 666,
                  "PTRATIO": 20.2,
                  "LSTAT": 14.36,
                  "MEDV": 23.2,
                  "CAT. MEDV": 0,
                  "_deepnote_index_column": 472
                },
                {
                  "CRIM": 4.64689,
                  "ZN": 0,
                  "INDUS": 18.1,
                  "CHAS": 0,
                  "NOX": 0.614,
                  "RM": 6.98,
                  "AGE": 67.6,
                  "DIS": 2.5329,
                  "RAD": 24,
                  "TAX": 666,
                  "PTRATIO": 20.2,
                  "LSTAT": 11.66,
                  "MEDV": 29.8,
                  "CAT. MEDV": 0,
                  "_deepnote_index_column": 473
                },
                {
                  "CRIM": 8.05579,
                  "ZN": 0,
                  "INDUS": 18.1,
                  "CHAS": 0,
                  "NOX": 0.584,
                  "RM": 5.427,
                  "AGE": 95.4,
                  "DIS": 2.4298,
                  "RAD": 24,
                  "TAX": 666,
                  "PTRATIO": 20.2,
                  "LSTAT": 18.14,
                  "MEDV": 13.8,
                  "CAT. MEDV": 0,
                  "_deepnote_index_column": 474
                },
                {
                  "CRIM": 6.39312,
                  "ZN": 0,
                  "INDUS": 18.1,
                  "CHAS": 0,
                  "NOX": 0.584,
                  "RM": 6.162,
                  "AGE": 97.4,
                  "DIS": 2.206,
                  "RAD": 24,
                  "TAX": 666,
                  "PTRATIO": 20.2,
                  "LSTAT": 24.1,
                  "MEDV": 13.3,
                  "CAT. MEDV": 0,
                  "_deepnote_index_column": 475
                },
                {
                  "CRIM": 4.87141,
                  "ZN": 0,
                  "INDUS": 18.1,
                  "CHAS": 0,
                  "NOX": 0.614,
                  "RM": 6.484,
                  "AGE": 93.6,
                  "DIS": 2.3053,
                  "RAD": 24,
                  "TAX": 666,
                  "PTRATIO": 20.2,
                  "LSTAT": 18.68,
                  "MEDV": 16.7,
                  "CAT. MEDV": 0,
                  "_deepnote_index_column": 476
                },
                {
                  "CRIM": 15.0234,
                  "ZN": 0,
                  "INDUS": 18.1,
                  "CHAS": 0,
                  "NOX": 0.614,
                  "RM": 5.304,
                  "AGE": 97.3,
                  "DIS": 2.1007,
                  "RAD": 24,
                  "TAX": 666,
                  "PTRATIO": 20.2,
                  "LSTAT": 24.91,
                  "MEDV": 12,
                  "CAT. MEDV": 0,
                  "_deepnote_index_column": 477
                },
                {
                  "CRIM": 10.233,
                  "ZN": 0,
                  "INDUS": 18.1,
                  "CHAS": 0,
                  "NOX": 0.614,
                  "RM": 6.185,
                  "AGE": 96.7,
                  "DIS": 2.1705,
                  "RAD": 24,
                  "TAX": 666,
                  "PTRATIO": 20.2,
                  "LSTAT": 18.03,
                  "MEDV": 14.6,
                  "CAT. MEDV": 0,
                  "_deepnote_index_column": 478
                },
                {
                  "CRIM": 14.3337,
                  "ZN": 0,
                  "INDUS": 18.1,
                  "CHAS": 0,
                  "NOX": 0.614,
                  "RM": 6.229,
                  "AGE": 88,
                  "DIS": 1.9512,
                  "RAD": 24,
                  "TAX": 666,
                  "PTRATIO": 20.2,
                  "LSTAT": 13.11,
                  "MEDV": 21.4,
                  "CAT. MEDV": 0,
                  "_deepnote_index_column": 479
                },
                {
                  "CRIM": 5.82401,
                  "ZN": 0,
                  "INDUS": 18.1,
                  "CHAS": 0,
                  "NOX": 0.532,
                  "RM": 6.242,
                  "AGE": 64.7,
                  "DIS": 3.4242,
                  "RAD": 24,
                  "TAX": 666,
                  "PTRATIO": 20.2,
                  "LSTAT": 10.74,
                  "MEDV": 23,
                  "CAT. MEDV": 0,
                  "_deepnote_index_column": 480
                },
                {
                  "CRIM": 5.70818,
                  "ZN": 0,
                  "INDUS": 18.1,
                  "CHAS": 0,
                  "NOX": 0.532,
                  "RM": 6.75,
                  "AGE": 74.9,
                  "DIS": 3.3317,
                  "RAD": 24,
                  "TAX": 666,
                  "PTRATIO": 20.2,
                  "LSTAT": 7.74,
                  "MEDV": 23.7,
                  "CAT. MEDV": 0,
                  "_deepnote_index_column": 481
                },
                {
                  "CRIM": 5.73116,
                  "ZN": 0,
                  "INDUS": 18.1,
                  "CHAS": 0,
                  "NOX": 0.532,
                  "RM": 7.061,
                  "AGE": 77,
                  "DIS": 3.4106,
                  "RAD": 24,
                  "TAX": 666,
                  "PTRATIO": 20.2,
                  "LSTAT": 7.01,
                  "MEDV": 25,
                  "CAT. MEDV": 0,
                  "_deepnote_index_column": 482
                },
                {
                  "CRIM": 2.81838,
                  "ZN": 0,
                  "INDUS": 18.1,
                  "CHAS": 0,
                  "NOX": 0.532,
                  "RM": 5.762,
                  "AGE": 40.3,
                  "DIS": 4.0983,
                  "RAD": 24,
                  "TAX": 666,
                  "PTRATIO": 20.2,
                  "LSTAT": 10.42,
                  "MEDV": 21.8,
                  "CAT. MEDV": 0,
                  "_deepnote_index_column": 483
                },
                {
                  "CRIM": 2.37857,
                  "ZN": 0,
                  "INDUS": 18.1,
                  "CHAS": 0,
                  "NOX": 0.583,
                  "RM": 5.871,
                  "AGE": 41.9,
                  "DIS": 3.724,
                  "RAD": 24,
                  "TAX": 666,
                  "PTRATIO": 20.2,
                  "LSTAT": 13.34,
                  "MEDV": 20.6,
                  "CAT. MEDV": 0,
                  "_deepnote_index_column": 484
                },
                {
                  "CRIM": 3.67367,
                  "ZN": 0,
                  "INDUS": 18.1,
                  "CHAS": 0,
                  "NOX": 0.583,
                  "RM": 6.312,
                  "AGE": 51.9,
                  "DIS": 3.9917,
                  "RAD": 24,
                  "TAX": 666,
                  "PTRATIO": 20.2,
                  "LSTAT": 10.58,
                  "MEDV": 21.2,
                  "CAT. MEDV": 0,
                  "_deepnote_index_column": 485
                },
                {
                  "CRIM": 5.69175,
                  "ZN": 0,
                  "INDUS": 18.1,
                  "CHAS": 0,
                  "NOX": 0.583,
                  "RM": 6.114,
                  "AGE": 79.8,
                  "DIS": 3.5459,
                  "RAD": 24,
                  "TAX": 666,
                  "PTRATIO": 20.2,
                  "LSTAT": 14.98,
                  "MEDV": 19.1,
                  "CAT. MEDV": 0,
                  "_deepnote_index_column": 486
                },
                {
                  "CRIM": 4.83567,
                  "ZN": 0,
                  "INDUS": 18.1,
                  "CHAS": 0,
                  "NOX": 0.583,
                  "RM": 5.905,
                  "AGE": 53.2,
                  "DIS": 3.1523,
                  "RAD": 24,
                  "TAX": 666,
                  "PTRATIO": 20.2,
                  "LSTAT": 11.45,
                  "MEDV": 20.6,
                  "CAT. MEDV": 0,
                  "_deepnote_index_column": 487
                },
                {
                  "CRIM": 0.15086,
                  "ZN": 0,
                  "INDUS": 27.74,
                  "CHAS": 0,
                  "NOX": 0.609,
                  "RM": 5.454,
                  "AGE": 92.7,
                  "DIS": 1.8209,
                  "RAD": 4,
                  "TAX": 711,
                  "PTRATIO": 20.1,
                  "LSTAT": 18.06,
                  "MEDV": 15.2,
                  "CAT. MEDV": 0,
                  "_deepnote_index_column": 488
                },
                {
                  "CRIM": 0.18337,
                  "ZN": 0,
                  "INDUS": 27.74,
                  "CHAS": 0,
                  "NOX": 0.609,
                  "RM": 5.414,
                  "AGE": 98.3,
                  "DIS": 1.7554,
                  "RAD": 4,
                  "TAX": 711,
                  "PTRATIO": 20.1,
                  "LSTAT": 23.97,
                  "MEDV": 7,
                  "CAT. MEDV": 0,
                  "_deepnote_index_column": 489
                },
                {
                  "CRIM": 0.20746,
                  "ZN": 0,
                  "INDUS": 27.74,
                  "CHAS": 0,
                  "NOX": 0.609,
                  "RM": 5.093,
                  "AGE": 98,
                  "DIS": 1.8226,
                  "RAD": 4,
                  "TAX": 711,
                  "PTRATIO": 20.1,
                  "LSTAT": 29.68,
                  "MEDV": 8.1,
                  "CAT. MEDV": 0,
                  "_deepnote_index_column": 490
                },
                {
                  "CRIM": 0.10574,
                  "ZN": 0,
                  "INDUS": 27.74,
                  "CHAS": 0,
                  "NOX": 0.609,
                  "RM": 5.983,
                  "AGE": 98.8,
                  "DIS": 1.8681,
                  "RAD": 4,
                  "TAX": 711,
                  "PTRATIO": 20.1,
                  "LSTAT": 18.07,
                  "MEDV": 13.6,
                  "CAT. MEDV": 0,
                  "_deepnote_index_column": 491
                },
                {
                  "CRIM": 0.11132,
                  "ZN": 0,
                  "INDUS": 27.74,
                  "CHAS": 0,
                  "NOX": 0.609,
                  "RM": 5.983,
                  "AGE": 83.5,
                  "DIS": 2.1099,
                  "RAD": 4,
                  "TAX": 711,
                  "PTRATIO": 20.1,
                  "LSTAT": 13.35,
                  "MEDV": 20.1,
                  "CAT. MEDV": 0,
                  "_deepnote_index_column": 492
                },
                {
                  "CRIM": 0.17331,
                  "ZN": 0,
                  "INDUS": 9.69,
                  "CHAS": 0,
                  "NOX": 0.585,
                  "RM": 5.707,
                  "AGE": 54,
                  "DIS": 2.3817,
                  "RAD": 6,
                  "TAX": 391,
                  "PTRATIO": 19.2,
                  "LSTAT": 12.01,
                  "MEDV": 21.8,
                  "CAT. MEDV": 0,
                  "_deepnote_index_column": 493
                },
                {
                  "CRIM": 0.27957,
                  "ZN": 0,
                  "INDUS": 9.69,
                  "CHAS": 0,
                  "NOX": 0.585,
                  "RM": 5.926,
                  "AGE": 42.6,
                  "DIS": 2.3817,
                  "RAD": 6,
                  "TAX": 391,
                  "PTRATIO": 19.2,
                  "LSTAT": 13.59,
                  "MEDV": 24.5,
                  "CAT. MEDV": 0,
                  "_deepnote_index_column": 494
                },
                {
                  "CRIM": 0.17899,
                  "ZN": 0,
                  "INDUS": 9.69,
                  "CHAS": 0,
                  "NOX": 0.585,
                  "RM": 5.67,
                  "AGE": 28.8,
                  "DIS": 2.7986,
                  "RAD": 6,
                  "TAX": 391,
                  "PTRATIO": 19.2,
                  "LSTAT": 17.6,
                  "MEDV": 23.1,
                  "CAT. MEDV": 0,
                  "_deepnote_index_column": 495
                },
                {
                  "CRIM": 0.2896,
                  "ZN": 0,
                  "INDUS": 9.69,
                  "CHAS": 0,
                  "NOX": 0.585,
                  "RM": 5.39,
                  "AGE": 72.9,
                  "DIS": 2.7986,
                  "RAD": 6,
                  "TAX": 391,
                  "PTRATIO": 19.2,
                  "LSTAT": 21.14,
                  "MEDV": 19.7,
                  "CAT. MEDV": 0,
                  "_deepnote_index_column": 496
                },
                {
                  "CRIM": 0.26838,
                  "ZN": 0,
                  "INDUS": 9.69,
                  "CHAS": 0,
                  "NOX": 0.585,
                  "RM": 5.794,
                  "AGE": 70.6,
                  "DIS": 2.8927,
                  "RAD": 6,
                  "TAX": 391,
                  "PTRATIO": 19.2,
                  "LSTAT": 14.1,
                  "MEDV": 18.3,
                  "CAT. MEDV": 0,
                  "_deepnote_index_column": 497
                },
                {
                  "CRIM": 0.23912,
                  "ZN": 0,
                  "INDUS": 9.69,
                  "CHAS": 0,
                  "NOX": 0.585,
                  "RM": 6.019,
                  "AGE": 65.3,
                  "DIS": 2.4091,
                  "RAD": 6,
                  "TAX": 391,
                  "PTRATIO": 19.2,
                  "LSTAT": 12.92,
                  "MEDV": 21.2,
                  "CAT. MEDV": 0,
                  "_deepnote_index_column": 498
                },
                {
                  "CRIM": 0.17783,
                  "ZN": 0,
                  "INDUS": 9.69,
                  "CHAS": 0,
                  "NOX": 0.585,
                  "RM": 5.569,
                  "AGE": 73.5,
                  "DIS": 2.3999,
                  "RAD": 6,
                  "TAX": 391,
                  "PTRATIO": 19.2,
                  "LSTAT": 15.1,
                  "MEDV": 17.5,
                  "CAT. MEDV": 0,
                  "_deepnote_index_column": 499
                },
                {
                  "CRIM": 0.22438,
                  "ZN": 0,
                  "INDUS": 9.69,
                  "CHAS": 0,
                  "NOX": 0.585,
                  "RM": 6.027,
                  "AGE": 79.7,
                  "DIS": 2.4982,
                  "RAD": 6,
                  "TAX": 391,
                  "PTRATIO": 19.2,
                  "LSTAT": 14.33,
                  "MEDV": 16.8,
                  "CAT. MEDV": 0,
                  "_deepnote_index_column": 500
                },
                {
                  "CRIM": 0.06263,
                  "ZN": 0,
                  "INDUS": 11.93,
                  "CHAS": 0,
                  "NOX": 0.573,
                  "RM": 6.593,
                  "AGE": 69.1,
                  "DIS": 2.4786,
                  "RAD": 1,
                  "TAX": 273,
                  "PTRATIO": 21,
                  "LSTAT": 9.67,
                  "MEDV": 22.4,
                  "CAT. MEDV": 0,
                  "_deepnote_index_column": 501
                },
                {
                  "CRIM": 0.04527,
                  "ZN": 0,
                  "INDUS": 11.93,
                  "CHAS": 0,
                  "NOX": 0.573,
                  "RM": 6.12,
                  "AGE": 76.7,
                  "DIS": 2.2875,
                  "RAD": 1,
                  "TAX": 273,
                  "PTRATIO": 21,
                  "LSTAT": 9.08,
                  "MEDV": 20.6,
                  "CAT. MEDV": 0,
                  "_deepnote_index_column": 502
                },
                {
                  "CRIM": 0.06076,
                  "ZN": 0,
                  "INDUS": 11.93,
                  "CHAS": 0,
                  "NOX": 0.573,
                  "RM": 6.976,
                  "AGE": 91,
                  "DIS": 2.1675,
                  "RAD": 1,
                  "TAX": 273,
                  "PTRATIO": 21,
                  "LSTAT": 5.64,
                  "MEDV": 23.9,
                  "CAT. MEDV": 0,
                  "_deepnote_index_column": 503
                },
                {
                  "CRIM": 0.10959,
                  "ZN": 0,
                  "INDUS": 11.93,
                  "CHAS": 0,
                  "NOX": 0.573,
                  "RM": 6.794,
                  "AGE": 89.3,
                  "DIS": 2.3889,
                  "RAD": 1,
                  "TAX": 273,
                  "PTRATIO": 21,
                  "LSTAT": 6.48,
                  "MEDV": 22,
                  "CAT. MEDV": 0,
                  "_deepnote_index_column": 504
                },
                {
                  "CRIM": 0.04741,
                  "ZN": 0,
                  "INDUS": 11.93,
                  "CHAS": 0,
                  "NOX": 0.573,
                  "RM": 6.03,
                  "AGE": 80.8,
                  "DIS": 2.505,
                  "RAD": 1,
                  "TAX": 273,
                  "PTRATIO": 21,
                  "LSTAT": 7.88,
                  "MEDV": 11.9,
                  "CAT. MEDV": 0,
                  "_deepnote_index_column": 505
                }
              ]
            },
            "text/plain": "        CRIM    ZN  INDUS  CHAS    NOX     RM   AGE     DIS  RAD  TAX  \\\n0    0.00632  18.0   2.31     0  0.538  6.575  65.2  4.0900    1  296   \n1    0.02731   0.0   7.07     0  0.469  6.421  78.9  4.9671    2  242   \n2    0.02729   0.0   7.07     0  0.469  7.185  61.1  4.9671    2  242   \n3    0.03237   0.0   2.18     0  0.458  6.998  45.8  6.0622    3  222   \n4    0.06905   0.0   2.18     0  0.458  7.147  54.2  6.0622    3  222   \n..       ...   ...    ...   ...    ...    ...   ...     ...  ...  ...   \n501  0.06263   0.0  11.93     0  0.573  6.593  69.1  2.4786    1  273   \n502  0.04527   0.0  11.93     0  0.573  6.120  76.7  2.2875    1  273   \n503  0.06076   0.0  11.93     0  0.573  6.976  91.0  2.1675    1  273   \n504  0.10959   0.0  11.93     0  0.573  6.794  89.3  2.3889    1  273   \n505  0.04741   0.0  11.93     0  0.573  6.030  80.8  2.5050    1  273   \n\n     PTRATIO  LSTAT  MEDV  CAT. MEDV  \n0       15.3   4.98  24.0          0  \n1       17.8   9.14  21.6          0  \n2       17.8   4.03  34.7          1  \n3       18.7   2.94  33.4          1  \n4       18.7   5.33  36.2          1  \n..       ...    ...   ...        ...  \n501     21.0   9.67  22.4          0  \n502     21.0   9.08  20.6          0  \n503     21.0   5.64  23.9          0  \n504     21.0   6.48  22.0          0  \n505     21.0   7.88  11.9          0  \n\n[506 rows x 14 columns]",
            "text/html": "<div>\n<style scoped>\n    .dataframe tbody tr th:only-of-type {\n        vertical-align: middle;\n    }\n\n    .dataframe tbody tr th {\n        vertical-align: top;\n    }\n\n    .dataframe thead th {\n        text-align: right;\n    }\n</style>\n<table border=\"1\" class=\"dataframe\">\n  <thead>\n    <tr style=\"text-align: right;\">\n      <th></th>\n      <th>CRIM</th>\n      <th>ZN</th>\n      <th>INDUS</th>\n      <th>CHAS</th>\n      <th>NOX</th>\n      <th>RM</th>\n      <th>AGE</th>\n      <th>DIS</th>\n      <th>RAD</th>\n      <th>TAX</th>\n      <th>PTRATIO</th>\n      <th>LSTAT</th>\n      <th>MEDV</th>\n      <th>CAT. MEDV</th>\n    </tr>\n  </thead>\n  <tbody>\n    <tr>\n      <th>0</th>\n      <td>0.00632</td>\n      <td>18.0</td>\n      <td>2.31</td>\n      <td>0</td>\n      <td>0.538</td>\n      <td>6.575</td>\n      <td>65.2</td>\n      <td>4.0900</td>\n      <td>1</td>\n      <td>296</td>\n      <td>15.3</td>\n      <td>4.98</td>\n      <td>24.0</td>\n      <td>0</td>\n    </tr>\n    <tr>\n      <th>1</th>\n      <td>0.02731</td>\n      <td>0.0</td>\n      <td>7.07</td>\n      <td>0</td>\n      <td>0.469</td>\n      <td>6.421</td>\n      <td>78.9</td>\n      <td>4.9671</td>\n      <td>2</td>\n      <td>242</td>\n      <td>17.8</td>\n      <td>9.14</td>\n      <td>21.6</td>\n      <td>0</td>\n    </tr>\n    <tr>\n      <th>2</th>\n      <td>0.02729</td>\n      <td>0.0</td>\n      <td>7.07</td>\n      <td>0</td>\n      <td>0.469</td>\n      <td>7.185</td>\n      <td>61.1</td>\n      <td>4.9671</td>\n      <td>2</td>\n      <td>242</td>\n      <td>17.8</td>\n      <td>4.03</td>\n      <td>34.7</td>\n      <td>1</td>\n    </tr>\n    <tr>\n      <th>3</th>\n      <td>0.03237</td>\n      <td>0.0</td>\n      <td>2.18</td>\n      <td>0</td>\n      <td>0.458</td>\n      <td>6.998</td>\n      <td>45.8</td>\n      <td>6.0622</td>\n      <td>3</td>\n      <td>222</td>\n      <td>18.7</td>\n      <td>2.94</td>\n      <td>33.4</td>\n      <td>1</td>\n    </tr>\n    <tr>\n      <th>4</th>\n      <td>0.06905</td>\n      <td>0.0</td>\n      <td>2.18</td>\n      <td>0</td>\n      <td>0.458</td>\n      <td>7.147</td>\n      <td>54.2</td>\n      <td>6.0622</td>\n      <td>3</td>\n      <td>222</td>\n      <td>18.7</td>\n      <td>5.33</td>\n      <td>36.2</td>\n      <td>1</td>\n    </tr>\n    <tr>\n      <th>...</th>\n      <td>...</td>\n      <td>...</td>\n      <td>...</td>\n      <td>...</td>\n      <td>...</td>\n      <td>...</td>\n      <td>...</td>\n      <td>...</td>\n      <td>...</td>\n      <td>...</td>\n      <td>...</td>\n      <td>...</td>\n      <td>...</td>\n      <td>...</td>\n    </tr>\n    <tr>\n      <th>501</th>\n      <td>0.06263</td>\n      <td>0.0</td>\n      <td>11.93</td>\n      <td>0</td>\n      <td>0.573</td>\n      <td>6.593</td>\n      <td>69.1</td>\n      <td>2.4786</td>\n      <td>1</td>\n      <td>273</td>\n      <td>21.0</td>\n      <td>9.67</td>\n      <td>22.4</td>\n      <td>0</td>\n    </tr>\n    <tr>\n      <th>502</th>\n      <td>0.04527</td>\n      <td>0.0</td>\n      <td>11.93</td>\n      <td>0</td>\n      <td>0.573</td>\n      <td>6.120</td>\n      <td>76.7</td>\n      <td>2.2875</td>\n      <td>1</td>\n      <td>273</td>\n      <td>21.0</td>\n      <td>9.08</td>\n      <td>20.6</td>\n      <td>0</td>\n    </tr>\n    <tr>\n      <th>503</th>\n      <td>0.06076</td>\n      <td>0.0</td>\n      <td>11.93</td>\n      <td>0</td>\n      <td>0.573</td>\n      <td>6.976</td>\n      <td>91.0</td>\n      <td>2.1675</td>\n      <td>1</td>\n      <td>273</td>\n      <td>21.0</td>\n      <td>5.64</td>\n      <td>23.9</td>\n      <td>0</td>\n    </tr>\n    <tr>\n      <th>504</th>\n      <td>0.10959</td>\n      <td>0.0</td>\n      <td>11.93</td>\n      <td>0</td>\n      <td>0.573</td>\n      <td>6.794</td>\n      <td>89.3</td>\n      <td>2.3889</td>\n      <td>1</td>\n      <td>273</td>\n      <td>21.0</td>\n      <td>6.48</td>\n      <td>22.0</td>\n      <td>0</td>\n    </tr>\n    <tr>\n      <th>505</th>\n      <td>0.04741</td>\n      <td>0.0</td>\n      <td>11.93</td>\n      <td>0</td>\n      <td>0.573</td>\n      <td>6.030</td>\n      <td>80.8</td>\n      <td>2.5050</td>\n      <td>1</td>\n      <td>273</td>\n      <td>21.0</td>\n      <td>7.88</td>\n      <td>11.9</td>\n      <td>0</td>\n    </tr>\n  </tbody>\n</table>\n<p>506 rows × 14 columns</p>\n</div>"
          },
          "metadata": {}
        }
      ]
    },
    {
      "cell_type": "code",
      "metadata": {
        "tags": [],
        "cell_id": "00002-76bb2b77-8770-407c-9bba-caf79917f588",
        "deepnote_to_be_reexecuted": false,
        "source_hash": "60109679",
        "execution_millis": 12,
        "execution_start": 1615582827481,
        "deepnote_cell_type": "code"
      },
      "source": "# create a list of predictor variables by remvoing output variables and text columns\nexcludeColumns = ('CAT. MEDV', 'MEDV')\npredictors = [s for s in bostonhousing_df.columns if s not in excludeColumns]\noutcome = 'MEDV'\n\n# partition data\nX = bostonhousing_df[predictors]\ny = bostonhousing_df[outcome]\n\ntrainData, validData = train_test_split(bostonhousing_df, test_size=0.4, random_state=26)\n\n## newTract\n# | CRIM | ZN   | INDUS | CHAS | NOX  | RM   | AGE  | DIS  | RAD  | TAX  | PTRATIO | LSTAT |\n# | ---  | ---  | ---   | ---  | ---  | ---  | ---  | ---  | ---  | ---  | ---     | ---   |\n# | 0.2  | 0    | 7     | 0    | 0.538| 6    | 62   | 4.7  | 4    | 307  | 21      | 10    | \nnewTract = pd.DataFrame([{'CRIM': 0.2,'ZN': 0, 'INDUS': 7, 'CHAS': 0, 'NOX': 0.538, 'RM': 6, 'AGE': 62, 'DIS': 4.7, 'RAD': 4, 'TAX': 307, 'PTRATIO': 21, 'LSAT': 10}])\n\nprint('Training. : ', trainData.shape)\nprint('Validation: ', validData.shape)\n",
      "execution_count": 4,
      "outputs": [
        {
          "name": "stdout",
          "text": "Training. :  (303, 14)\nValidation:  (203, 14)\n",
          "output_type": "stream"
        }
      ]
    },
    {
      "cell_type": "code",
      "metadata": {
        "tags": [],
        "cell_id": "00004-30e22921-9efd-4b6b-8d3e-c30f480461bc",
        "deepnote_to_be_reexecuted": false,
        "source_hash": "ec455cdf",
        "execution_millis": 91,
        "execution_start": 1615582832334,
        "deepnote_cell_type": "code"
      },
      "source": "from sklearn.preprocessing import MinMaxScaler, StandardScaler\n\n# Normalize the data\nscaler = StandardScaler()\nnormbh_df = pd.DataFrame(scaler.fit_transform(bostonhousing_df),index=bostonhousing_df.index, columns=bostonhousing_df.columns)\nnormbh_df\n",
      "execution_count": 5,
      "outputs": [
        {
          "output_type": "execute_result",
          "execution_count": 5,
          "data": {
            "application/vnd.deepnote.dataframe.v2+json": {
              "row_count": 506,
              "column_count": 14,
              "columns": [
                {
                  "name": "CRIM",
                  "dtype": "float64",
                  "stats": {
                    "unique_count": 504,
                    "nan_count": 0,
                    "min": -0.4197819386460083,
                    "max": 9.933930601860267,
                    "histogram": [
                      {
                        "bin_start": -0.4197819386460083,
                        "bin_end": 0.6155893154046191,
                        "count": 439
                      },
                      {
                        "bin_start": 0.6155893154046191,
                        "bin_end": 1.6509605694552465,
                        "count": 44
                      },
                      {
                        "bin_start": 1.6509605694552465,
                        "bin_end": 2.686331823505874,
                        "count": 14
                      },
                      {
                        "bin_start": 2.686331823505874,
                        "bin_end": 3.7217030775565014,
                        "count": 1
                      },
                      {
                        "bin_start": 3.7217030775565014,
                        "bin_end": 4.757074331607129,
                        "count": 3
                      },
                      {
                        "bin_start": 4.757074331607129,
                        "bin_end": 5.792445585657757,
                        "count": 2
                      },
                      {
                        "bin_start": 5.792445585657757,
                        "bin_end": 6.827816839708384,
                        "count": 0
                      },
                      {
                        "bin_start": 6.827816839708384,
                        "bin_end": 7.863188093759011,
                        "count": 1
                      },
                      {
                        "bin_start": 7.863188093759011,
                        "bin_end": 8.89855934780964,
                        "count": 1
                      },
                      {
                        "bin_start": 8.89855934780964,
                        "bin_end": 9.933930601860267,
                        "count": 1
                      }
                    ]
                  }
                },
                {
                  "name": "ZN",
                  "dtype": "float64",
                  "stats": {
                    "unique_count": 26,
                    "nan_count": 0,
                    "min": -0.48772236467012914,
                    "max": 3.8042344444270078,
                    "histogram": [
                      {
                        "bin_start": -0.48772236467012914,
                        "bin_end": -0.05852668376041548,
                        "count": 372
                      },
                      {
                        "bin_start": -0.05852668376041548,
                        "bin_end": 0.3706689971492982,
                        "count": 12
                      },
                      {
                        "bin_start": 0.3706689971492982,
                        "bin_end": 0.7998646780590117,
                        "count": 48
                      },
                      {
                        "bin_start": 0.7998646780590117,
                        "bin_end": 1.2290603589687255,
                        "count": 16
                      },
                      {
                        "bin_start": 1.2290603589687255,
                        "bin_end": 1.6582560398784392,
                        "count": 13
                      },
                      {
                        "bin_start": 1.6582560398784392,
                        "bin_end": 2.087451720788153,
                        "count": 6
                      },
                      {
                        "bin_start": 2.087451720788153,
                        "bin_end": 2.516647401697867,
                        "count": 4
                      },
                      {
                        "bin_start": 2.516647401697867,
                        "bin_end": 2.9458430826075803,
                        "count": 6
                      },
                      {
                        "bin_start": 2.9458430826075803,
                        "bin_end": 3.375038763517294,
                        "count": 19
                      },
                      {
                        "bin_start": 3.375038763517294,
                        "bin_end": 3.8042344444270078,
                        "count": 10
                      }
                    ]
                  }
                },
                {
                  "name": "INDUS",
                  "dtype": "float64",
                  "stats": {
                    "unique_count": 76,
                    "nan_count": 0,
                    "min": -1.5578417886292542,
                    "max": 2.422565163932244,
                    "histogram": [
                      {
                        "bin_start": -1.5578417886292542,
                        "bin_end": -1.1598010933731042,
                        "count": 56
                      },
                      {
                        "bin_start": -1.1598010933731042,
                        "bin_end": -0.7617603981169545,
                        "count": 95
                      },
                      {
                        "bin_start": -0.7617603981169545,
                        "bin_end": -0.3637197028608048,
                        "count": 99
                      },
                      {
                        "bin_start": -0.3637197028608048,
                        "bin_end": 0.03432099239534514,
                        "count": 44
                      },
                      {
                        "bin_start": 0.03432099239534514,
                        "bin_end": 0.4323616876514951,
                        "count": 20
                      },
                      {
                        "bin_start": 0.4323616876514951,
                        "bin_end": 0.8304023829076446,
                        "count": 3
                      },
                      {
                        "bin_start": 0.8304023829076446,
                        "bin_end": 1.2284430781637945,
                        "count": 132
                      },
                      {
                        "bin_start": 1.2284430781637945,
                        "bin_end": 1.6264837734199444,
                        "count": 45
                      },
                      {
                        "bin_start": 1.6264837734199444,
                        "bin_end": 2.0245244686760944,
                        "count": 0
                      },
                      {
                        "bin_start": 2.0245244686760944,
                        "bin_end": 2.422565163932244,
                        "count": 12
                      }
                    ]
                  }
                },
                {
                  "name": "CHAS",
                  "dtype": "float64",
                  "stats": {
                    "unique_count": 2,
                    "nan_count": 0,
                    "min": -0.27259856706992697,
                    "max": 3.668397859712446,
                    "histogram": [
                      {
                        "bin_start": -0.27259856706992697,
                        "bin_end": 0.1215010756083103,
                        "count": 471
                      },
                      {
                        "bin_start": 0.1215010756083103,
                        "bin_end": 0.5156007182865476,
                        "count": 0
                      },
                      {
                        "bin_start": 0.5156007182865476,
                        "bin_end": 0.9097003609647849,
                        "count": 0
                      },
                      {
                        "bin_start": 0.9097003609647849,
                        "bin_end": 1.3038000036430222,
                        "count": 0
                      },
                      {
                        "bin_start": 1.3038000036430222,
                        "bin_end": 1.6978996463212594,
                        "count": 0
                      },
                      {
                        "bin_start": 1.6978996463212594,
                        "bin_end": 2.0919992889994967,
                        "count": 0
                      },
                      {
                        "bin_start": 2.0919992889994967,
                        "bin_end": 2.4860989316777338,
                        "count": 0
                      },
                      {
                        "bin_start": 2.4860989316777338,
                        "bin_end": 2.8801985743559713,
                        "count": 0
                      },
                      {
                        "bin_start": 2.8801985743559713,
                        "bin_end": 3.2742982170342088,
                        "count": 0
                      },
                      {
                        "bin_start": 3.2742982170342088,
                        "bin_end": 3.668397859712446,
                        "count": 35
                      }
                    ]
                  }
                },
                {
                  "name": "NOX",
                  "dtype": "float64",
                  "stats": {
                    "unique_count": 81,
                    "nan_count": 0,
                    "min": -1.4658819321902887,
                    "max": 2.732346478414959,
                    "histogram": [
                      {
                        "bin_start": -1.4658819321902887,
                        "bin_end": -1.0460590911297638,
                        "count": 75
                      },
                      {
                        "bin_start": -1.0460590911297638,
                        "bin_end": -0.6262362500692391,
                        "count": 80
                      },
                      {
                        "bin_start": -0.6262362500692391,
                        "bin_end": -0.2064134090087142,
                        "count": 89
                      },
                      {
                        "bin_start": -0.2064134090087142,
                        "bin_end": 0.2134094320518105,
                        "count": 60
                      },
                      {
                        "bin_start": 0.2134094320518105,
                        "bin_end": 0.6332322731123352,
                        "count": 78
                      },
                      {
                        "bin_start": 0.6332322731123352,
                        "bin_end": 1.0530551141728604,
                        "count": 30
                      },
                      {
                        "bin_start": 1.0530551141728604,
                        "bin_end": 1.472877955233385,
                        "count": 57
                      },
                      {
                        "bin_start": 1.472877955233385,
                        "bin_end": 1.8927007962939097,
                        "count": 21
                      },
                      {
                        "bin_start": 1.8927007962939097,
                        "bin_end": 2.3125236373544347,
                        "count": 0
                      },
                      {
                        "bin_start": 2.3125236373544347,
                        "bin_end": 2.732346478414959,
                        "count": 16
                      }
                    ]
                  }
                },
                {
                  "name": "RM",
                  "dtype": "float64",
                  "stats": {
                    "unique_count": 446,
                    "nan_count": 0,
                    "min": -3.8802493604779404,
                    "max": 3.555044270112717,
                    "histogram": [
                      {
                        "bin_start": -3.8802493604779404,
                        "bin_end": -3.136719997418875,
                        "count": 2
                      },
                      {
                        "bin_start": -3.136719997418875,
                        "bin_end": -2.393190634359809,
                        "count": 4
                      },
                      {
                        "bin_start": -2.393190634359809,
                        "bin_end": -1.6496612713007432,
                        "count": 14
                      },
                      {
                        "bin_start": -1.6496612713007432,
                        "bin_end": -0.9061319082416772,
                        "count": 45
                      },
                      {
                        "bin_start": -0.9061319082416772,
                        "bin_end": -0.1626025451826112,
                        "count": 177
                      },
                      {
                        "bin_start": -0.1626025451826112,
                        "bin_end": 0.580926817876454,
                        "count": 151
                      },
                      {
                        "bin_start": 0.580926817876454,
                        "bin_end": 1.32445618093552,
                        "count": 69
                      },
                      {
                        "bin_start": 1.32445618093552,
                        "bin_end": 2.067985543994586,
                        "count": 22
                      },
                      {
                        "bin_start": 2.067985543994586,
                        "bin_end": 2.811514907053652,
                        "count": 13
                      },
                      {
                        "bin_start": 2.811514907053652,
                        "bin_end": 3.555044270112717,
                        "count": 9
                      }
                    ]
                  }
                },
                {
                  "name": "AGE",
                  "dtype": "float64",
                  "stats": {
                    "unique_count": 356,
                    "nan_count": 0,
                    "min": -2.3354370442030166,
                    "max": 1.1174944851594597,
                    "histogram": [
                      {
                        "bin_start": -2.3354370442030166,
                        "bin_end": -1.990143891266769,
                        "count": 14
                      },
                      {
                        "bin_start": -1.990143891266769,
                        "bin_end": -1.6448507383305213,
                        "count": 31
                      },
                      {
                        "bin_start": -1.6448507383305213,
                        "bin_end": -1.2995575853942736,
                        "count": 29
                      },
                      {
                        "bin_start": -1.2995575853942736,
                        "bin_end": -0.9542644324580261,
                        "count": 42
                      },
                      {
                        "bin_start": -0.9542644324580261,
                        "bin_end": -0.6089712795217785,
                        "count": 32
                      },
                      {
                        "bin_start": -0.6089712795217785,
                        "bin_end": -0.2636781265855306,
                        "count": 38
                      },
                      {
                        "bin_start": -0.2636781265855306,
                        "bin_end": 0.08161502635071693,
                        "count": 39
                      },
                      {
                        "bin_start": 0.08161502635071693,
                        "bin_end": 0.42690817928696445,
                        "count": 42
                      },
                      {
                        "bin_start": 0.42690817928696445,
                        "bin_end": 0.772201332223212,
                        "count": 71
                      },
                      {
                        "bin_start": 0.772201332223212,
                        "bin_end": 1.1174944851594597,
                        "count": 168
                      }
                    ]
                  }
                },
                {
                  "name": "DIS",
                  "dtype": "float64",
                  "stats": {
                    "unique_count": 412,
                    "nan_count": 0,
                    "min": -1.2670691948547694,
                    "max": 3.9605176870361256,
                    "histogram": [
                      {
                        "bin_start": -1.2670691948547694,
                        "bin_end": -0.7443105066656799,
                        "count": 150
                      },
                      {
                        "bin_start": -0.7443105066656799,
                        "bin_end": -0.22155181847659033,
                        "count": 111
                      },
                      {
                        "bin_start": -0.22155181847659033,
                        "bin_end": 0.3012068697124992,
                        "count": 81
                      },
                      {
                        "bin_start": 0.3012068697124992,
                        "bin_end": 0.8239655579015888,
                        "count": 61
                      },
                      {
                        "bin_start": 0.8239655579015888,
                        "bin_end": 1.346724246090678,
                        "count": 46
                      },
                      {
                        "bin_start": 1.346724246090678,
                        "bin_end": 1.8694829342797679,
                        "count": 26
                      },
                      {
                        "bin_start": 1.8694829342797679,
                        "bin_end": 2.3922416224688576,
                        "count": 19
                      },
                      {
                        "bin_start": 2.3922416224688576,
                        "bin_end": 2.915000310657947,
                        "count": 7
                      },
                      {
                        "bin_start": 2.915000310657947,
                        "bin_end": 3.4377589988470363,
                        "count": 4
                      },
                      {
                        "bin_start": 3.4377589988470363,
                        "bin_end": 3.9605176870361256,
                        "count": 1
                      }
                    ]
                  }
                },
                {
                  "name": "RAD",
                  "dtype": "float64",
                  "stats": {
                    "unique_count": 9,
                    "nan_count": 0,
                    "min": -0.9828428567665056,
                    "max": 1.6612452539705709,
                    "histogram": [
                      {
                        "bin_start": -0.9828428567665056,
                        "bin_end": -0.718434045692798,
                        "count": 82
                      },
                      {
                        "bin_start": -0.718434045692798,
                        "bin_end": -0.4540252346190904,
                        "count": 225
                      },
                      {
                        "bin_start": -0.4540252346190904,
                        "bin_end": -0.18961642354538277,
                        "count": 43
                      },
                      {
                        "bin_start": -0.18961642354538277,
                        "bin_end": 0.07479238752832484,
                        "count": 24
                      },
                      {
                        "bin_start": 0.07479238752832484,
                        "bin_end": 0.33920119860203257,
                        "count": 0
                      },
                      {
                        "bin_start": 0.33920119860203257,
                        "bin_end": 0.6036100096757401,
                        "count": 0
                      },
                      {
                        "bin_start": 0.6036100096757401,
                        "bin_end": 0.8680188207494476,
                        "count": 0
                      },
                      {
                        "bin_start": 0.8680188207494476,
                        "bin_end": 1.1324276318231554,
                        "count": 0
                      },
                      {
                        "bin_start": 1.1324276318231554,
                        "bin_end": 1.3968364428968632,
                        "count": 0
                      },
                      {
                        "bin_start": 1.3968364428968632,
                        "bin_end": 1.6612452539705709,
                        "count": 132
                      }
                    ]
                  }
                },
                {
                  "name": "TAX",
                  "dtype": "float64",
                  "stats": {
                    "unique_count": 66,
                    "nan_count": 0,
                    "min": -1.3139900437927152,
                    "max": 1.7981941894212958,
                    "histogram": [
                      {
                        "bin_start": -1.3139900437927152,
                        "bin_end": -1.0027716204713142,
                        "count": 54
                      },
                      {
                        "bin_start": -1.0027716204713142,
                        "bin_end": -0.691553197149913,
                        "count": 100
                      },
                      {
                        "bin_start": -0.691553197149913,
                        "bin_end": -0.3803347738285119,
                        "count": 108
                      },
                      {
                        "bin_start": -0.3803347738285119,
                        "bin_end": -0.06911635050711085,
                        "count": 32
                      },
                      {
                        "bin_start": -0.06911635050711085,
                        "bin_end": 0.2421020728142902,
                        "count": 74
                      },
                      {
                        "bin_start": 0.2421020728142902,
                        "bin_end": 0.5533204961356915,
                        "count": 1
                      },
                      {
                        "bin_start": 0.5533204961356915,
                        "bin_end": 0.8645389194570923,
                        "count": 0
                      },
                      {
                        "bin_start": 0.8645389194570923,
                        "bin_end": 1.1757573427784935,
                        "count": 0
                      },
                      {
                        "bin_start": 1.1757573427784935,
                        "bin_end": 1.4869757660998948,
                        "count": 0
                      },
                      {
                        "bin_start": 1.4869757660998948,
                        "bin_end": 1.7981941894212958,
                        "count": 137
                      }
                    ]
                  }
                },
                {
                  "name": "PTRATIO",
                  "dtype": "float64",
                  "stats": {
                    "unique_count": 46,
                    "nan_count": 0,
                    "min": -2.70737911111876,
                    "max": 1.6388283221814757,
                    "histogram": [
                      {
                        "bin_start": -2.70737911111876,
                        "bin_end": -2.2727583677887364,
                        "count": 15
                      },
                      {
                        "bin_start": -2.2727583677887364,
                        "bin_end": -1.8381376244587129,
                        "count": 2
                      },
                      {
                        "bin_start": -1.8381376244587129,
                        "bin_end": -1.4035168811286893,
                        "count": 58
                      },
                      {
                        "bin_start": -1.4035168811286893,
                        "bin_end": -0.9688961377986658,
                        "count": 15
                      },
                      {
                        "bin_start": -0.9688961377986658,
                        "bin_end": -0.5342753944686423,
                        "count": 35
                      },
                      {
                        "bin_start": -0.5342753944686423,
                        "bin_end": -0.09965465113861871,
                        "count": 69
                      },
                      {
                        "bin_start": -0.09965465113861871,
                        "bin_end": 0.33496609219140483,
                        "count": 76
                      },
                      {
                        "bin_start": 0.33496609219140483,
                        "bin_end": 0.7695868355214284,
                        "count": 40
                      },
                      {
                        "bin_start": 0.7695868355214284,
                        "bin_end": 1.204207578851452,
                        "count": 178
                      },
                      {
                        "bin_start": 1.204207578851452,
                        "bin_end": 1.6388283221814757,
                        "count": 18
                      }
                    ]
                  }
                },
                {
                  "name": "LSTAT",
                  "dtype": "float64",
                  "stats": {
                    "unique_count": 455,
                    "nan_count": 0,
                    "min": -1.5311271005308116,
                    "max": 3.5487708089144676,
                    "histogram": [
                      {
                        "bin_start": -1.5311271005308116,
                        "bin_end": -1.0231373095862837,
                        "count": 75
                      },
                      {
                        "bin_start": -1.0231373095862837,
                        "bin_end": -0.5151475186417558,
                        "count": 108
                      },
                      {
                        "bin_start": -0.5151475186417558,
                        "bin_end": -0.007157727697227889,
                        "count": 99
                      },
                      {
                        "bin_start": -0.007157727697227889,
                        "bin_end": 0.5008320632473,
                        "count": 84
                      },
                      {
                        "bin_start": 0.5008320632473,
                        "bin_end": 1.008821854191828,
                        "count": 64
                      },
                      {
                        "bin_start": 1.008821854191828,
                        "bin_end": 1.5168116451363558,
                        "count": 30
                      },
                      {
                        "bin_start": 1.5168116451363558,
                        "bin_end": 2.0248014360808835,
                        "count": 21
                      },
                      {
                        "bin_start": 2.0248014360808835,
                        "bin_end": 2.5327912270254114,
                        "count": 16
                      },
                      {
                        "bin_start": 2.5327912270254114,
                        "bin_end": 3.0407810179699393,
                        "count": 4
                      },
                      {
                        "bin_start": 3.0407810179699393,
                        "bin_end": 3.5487708089144676,
                        "count": 5
                      }
                    ]
                  }
                },
                {
                  "name": "MEDV",
                  "dtype": "float64",
                  "stats": {
                    "unique_count": 229,
                    "nan_count": 0,
                    "min": -1.9082264141386431,
                    "max": 2.989460074199074,
                    "histogram": [
                      {
                        "bin_start": -1.9082264141386431,
                        "bin_end": -1.4184577653048716,
                        "count": 21
                      },
                      {
                        "bin_start": -1.4184577653048716,
                        "bin_end": -0.9286891164710998,
                        "count": 55
                      },
                      {
                        "bin_start": -0.9286891164710998,
                        "bin_end": -0.43892046763732817,
                        "count": 82
                      },
                      {
                        "bin_start": -0.43892046763732817,
                        "bin_end": 0.05084818119644363,
                        "count": 154
                      },
                      {
                        "bin_start": 0.05084818119644363,
                        "bin_end": 0.5406168300302154,
                        "count": 84
                      },
                      {
                        "bin_start": 0.5406168300302154,
                        "bin_end": 1.0303854788639868,
                        "count": 41
                      },
                      {
                        "bin_start": 1.0303854788639868,
                        "bin_end": 1.5201541276977586,
                        "count": 30
                      },
                      {
                        "bin_start": 1.5201541276977586,
                        "bin_end": 2.00992277653153,
                        "count": 8
                      },
                      {
                        "bin_start": 2.00992277653153,
                        "bin_end": 2.4996914253653015,
                        "count": 10
                      },
                      {
                        "bin_start": 2.4996914253653015,
                        "bin_end": 2.989460074199074,
                        "count": 21
                      }
                    ]
                  }
                },
                {
                  "name": "CAT. MEDV",
                  "dtype": "float64",
                  "stats": {
                    "unique_count": 2,
                    "nan_count": 0,
                    "min": -0.44615258903364197,
                    "max": 2.2413856258594866,
                    "histogram": [
                      {
                        "bin_start": -0.44615258903364197,
                        "bin_end": -0.1773987675443291,
                        "count": 422
                      },
                      {
                        "bin_start": -0.1773987675443291,
                        "bin_end": 0.09135505394498378,
                        "count": 0
                      },
                      {
                        "bin_start": 0.09135505394498378,
                        "bin_end": 0.3601088754342967,
                        "count": 0
                      },
                      {
                        "bin_start": 0.3601088754342967,
                        "bin_end": 0.6288626969236095,
                        "count": 0
                      },
                      {
                        "bin_start": 0.6288626969236095,
                        "bin_end": 0.8976165184129223,
                        "count": 0
                      },
                      {
                        "bin_start": 0.8976165184129223,
                        "bin_end": 1.1663703399022354,
                        "count": 0
                      },
                      {
                        "bin_start": 1.1663703399022354,
                        "bin_end": 1.4351241613915482,
                        "count": 0
                      },
                      {
                        "bin_start": 1.4351241613915482,
                        "bin_end": 1.703877982880861,
                        "count": 0
                      },
                      {
                        "bin_start": 1.703877982880861,
                        "bin_end": 1.9726318043701738,
                        "count": 0
                      },
                      {
                        "bin_start": 1.9726318043701738,
                        "bin_end": 2.2413856258594866,
                        "count": 84
                      }
                    ]
                  }
                },
                {
                  "name": "_deepnote_index_column",
                  "dtype": "int64"
                }
              ],
              "rows_top": [
                {
                  "CRIM": -0.4197819386460083,
                  "ZN": 0.28482986096735546,
                  "INDUS": -1.287909498957745,
                  "CHAS": -0.27259856706992697,
                  "NOX": -0.14421743255530314,
                  "RM": 0.4136718893017581,
                  "AGE": -0.12001341619804987,
                  "DIS": 0.14021360349292905,
                  "RAD": -0.9828428567665056,
                  "TAX": -0.6666082090210984,
                  "PTRATIO": -1.4590003802772022,
                  "LSTAT": -1.0755623045678657,
                  "MEDV": 0.1596856587150597,
                  "CAT. MEDV": -0.44615258903364197,
                  "_deepnote_index_column": 0
                },
                {
                  "CRIM": -0.4173392644935286,
                  "ZN": -0.48772236467012914,
                  "INDUS": -0.5933810131002402,
                  "CHAS": -0.27259856706992697,
                  "NOX": -0.7402622069004932,
                  "RM": 0.19427445318162764,
                  "AGE": 0.36716641853177445,
                  "DIS": 0.5571598750882428,
                  "RAD": -0.8678825041257632,
                  "TAX": -0.9873294849630003,
                  "PTRATIO": -0.30309414801650153,
                  "LSTAT": -0.492439365735295,
                  "MEDV": -0.1015242873296184,
                  "CAT. MEDV": -0.44615258903364197,
                  "_deepnote_index_column": 1
                },
                {
                  "CRIM": -0.4173415919581808,
                  "ZN": -0.48772236467012914,
                  "INDUS": -0.5933810131002402,
                  "CHAS": -0.27259856706992697,
                  "NOX": -0.7402622069004932,
                  "RM": 1.282713681725651,
                  "AGE": -0.2658117608982163,
                  "DIS": 0.5571598750882428,
                  "RAD": -0.8678825041257632,
                  "TAX": -0.9873294849630003,
                  "PTRATIO": -0.30309414801650153,
                  "LSTAT": -1.208727398772419,
                  "MEDV": 1.3242466681642504,
                  "CAT. MEDV": 2.2413856258594866,
                  "_deepnote_index_column": 2
                },
                {
                  "CRIM": -0.416750415936523,
                  "ZN": -0.48772236467012914,
                  "INDUS": -1.3068777139076349,
                  "CHAS": -0.27259856706992697,
                  "NOX": -0.8352838375932041,
                  "RM": 1.0163025092940647,
                  "AGE": -0.8098885106329836,
                  "DIS": 1.0777366189304816,
                  "RAD": -0.7529221514850207,
                  "TAX": -1.1061151427192604,
                  "PTRATIO": 0.11303209559735014,
                  "LSTAT": -1.3615168226492227,
                  "MEDV": 1.1827579473900494,
                  "CAT. MEDV": 2.2413856258594866,
                  "_deepnote_index_column": 3
                },
                {
                  "CRIM": -0.41248184576439545,
                  "ZN": -0.48772236467012914,
                  "INDUS": -1.3068777139076349,
                  "CHAS": -0.27259856706992697,
                  "NOX": -0.8352838375932041,
                  "RM": 1.2285766520336716,
                  "AGE": -0.5111797068570327,
                  "DIS": 1.0777366189304816,
                  "RAD": -0.7529221514850207,
                  "TAX": -1.1061151427192604,
                  "PTRATIO": 0.11303209559735014,
                  "LSTAT": -1.0265014803872408,
                  "MEDV": 1.4875028844421743,
                  "CAT. MEDV": 2.2413856258594866,
                  "_deepnote_index_column": 4
                },
                {
                  "CRIM": -0.4170436764826997,
                  "ZN": -0.48772236467012914,
                  "INDUS": -1.3068777139076349,
                  "CHAS": -0.27259856706992697,
                  "NOX": -0.8352838375932041,
                  "RM": 0.20709638126656957,
                  "AGE": -0.3511571334056307,
                  "DIS": 1.0777366189304816,
                  "RAD": -0.7529221514850207,
                  "TAX": -1.1061151427192604,
                  "PTRATIO": 0.11303209559735014,
                  "LSTAT": -1.0433223343920266,
                  "MEDV": 0.6712218030525545,
                  "CAT. MEDV": -0.44615258903364197,
                  "_deepnote_index_column": 5
                },
                {
                  "CRIM": -0.4102428247689828,
                  "ZN": 0.04877223646701293,
                  "INDUS": -0.47665353648553344,
                  "CHAS": -0.27259856706992697,
                  "NOX": -0.26515405343693593,
                  "RM": -0.3884109453452136,
                  "AGE": -0.07022861556872506,
                  "DIS": 0.839243922020929,
                  "RAD": -0.5230014462035358,
                  "TAX": -0.5775189657039035,
                  "PTRATIO": -1.505236629567631,
                  "LSTAT": -0.03126761843742067,
                  "MEDV": 0.039964433444582,
                  "CAT. MEDV": -0.44615258903364197,
                  "_deepnote_index_column": 6
                },
                {
                  "CRIM": -0.40369566670235524,
                  "ZN": 0.04877223646701293,
                  "INDUS": -0.47665353648553344,
                  "CHAS": -0.27259856706992697,
                  "NOX": -0.26515405343693593,
                  "RM": -0.16046555716845437,
                  "AGE": 0.978808254834911,
                  "DIS": 1.024637886132401,
                  "RAD": -0.5230014462035358,
                  "TAX": -0.5775189657039035,
                  "PTRATIO": -1.505236629567631,
                  "LSTAT": 0.910700205830578,
                  "MEDV": 0.4970818390227692,
                  "CAT. MEDV": -0.44615258903364197,
                  "_deepnote_index_column": 7
                },
                {
                  "CRIM": -0.3959347358196075,
                  "ZN": 0.04877223646701293,
                  "INDUS": -0.47665353648553344,
                  "CHAS": -0.27259856706992697,
                  "NOX": -0.26515405343693593,
                  "RM": -0.9312059009411201,
                  "AGE": 1.1174944851594597,
                  "DIS": 1.0871964647915542,
                  "RAD": -0.5230014462035358,
                  "TAX": -0.5775189657039035,
                  "PTRATIO": -1.505236629567631,
                  "LSTAT": 2.4217735905938262,
                  "MEDV": -0.6565954226745598,
                  "CAT. MEDV": -0.44615258903364197,
                  "_deepnote_index_column": 8
                },
                {
                  "CRIM": -0.40072931300313136,
                  "ZN": 0.04877223646701293,
                  "INDUS": -0.47665353648553344,
                  "CHAS": -0.27259856706992697,
                  "NOX": -0.26515405343693593,
                  "RM": -0.39980821475405154,
                  "AGE": 0.6160904216783999,
                  "DIS": 1.3296347255527103,
                  "RAD": -0.5230014462035358,
                  "TAX": -0.5775189657039035,
                  "PTRATIO": -1.505236629567631,
                  "LSTAT": 0.6233439499154895,
                  "MEDV": -0.3953854766298817,
                  "CAT. MEDV": -0.44615258903364197,
                  "_deepnote_index_column": 9
                },
                {
                  "CRIM": -0.3943462411944837,
                  "ZN": 0.04877223646701293,
                  "INDUS": -0.47665353648553344,
                  "CHAS": -0.27259856706992697,
                  "NOX": -0.26515405343693593,
                  "RM": 0.13158947143301822,
                  "AGE": 0.9147992254543502,
                  "DIS": 1.2129791389041071,
                  "RAD": -0.5230014462035358,
                  "TAX": -0.5775189657039035,
                  "PTRATIO": -1.505236629567631,
                  "LSTAT": 1.0929261242157564,
                  "MEDV": -0.8198516389524837,
                  "CAT. MEDV": -0.44615258903364197,
                  "_deepnote_index_column": 10
                },
                {
                  "CRIM": -0.4068470538414287,
                  "ZN": 0.04877223646701293,
                  "INDUS": -0.47665353648553344,
                  "CHAS": -0.27259856706992697,
                  "NOX": -0.26515405343693593,
                  "RM": -0.39268492137352673,
                  "AGE": 0.5094087060441319,
                  "DIS": 1.1559348422544233,
                  "RAD": -0.5230014462035358,
                  "TAX": -0.5775189657039035,
                  "PTRATIO": -1.505236629567631,
                  "LSTAT": 0.08647835959607916,
                  "MEDV": -0.3953854766298817,
                  "CAT. MEDV": -0.44615258903364197,
                  "_deepnote_index_column": 11
                },
                {
                  "CRIM": -0.40960393572195497,
                  "ZN": 0.04877223646701293,
                  "INDUS": -0.47665353648553344,
                  "CHAS": -0.27259856706992697,
                  "NOX": -0.26515405343693593,
                  "RM": -0.5636439625060962,
                  "AGE": -1.051700399403991,
                  "DIS": 0.7871434644142177,
                  "RAD": -0.5230014462035358,
                  "TAX": -0.5775189657039035,
                  "PTRATIO": -1.505236629567631,
                  "LSTAT": 0.4285023910267218,
                  "MEDV": -0.09064053957775704,
                  "CAT. MEDV": -0.44615258903364197,
                  "_deepnote_index_column": 12
                },
                {
                  "CRIM": -0.34723021050775266,
                  "ZN": -0.48772236467012914,
                  "INDUS": -0.4372580131280699,
                  "CHAS": -0.27259856706992697,
                  "NOX": -0.14421743255530314,
                  "RM": -0.47816444193981206,
                  "AGE": -0.24091936058355387,
                  "DIS": 0.4337540466694266,
                  "RAD": -0.6379617988442783,
                  "TAX": -0.6012760972551554,
                  "PTRATIO": 1.1764658292771952,
                  "LSTAT": -0.6157922951037235,
                  "MEDV": -0.23212926035195783,
                  "CAT. MEDV": -0.44615258903364197,
                  "_deepnote_index_column": 13
                },
                {
                  "CRIM": -0.3462759500003523,
                  "ZN": -0.48772236467012914,
                  "INDUS": -0.4372580131280699,
                  "CHAS": -0.27259856706992697,
                  "NOX": -0.14421743255530314,
                  "RM": -0.26873961655241435,
                  "AGE": 0.5663056210490747,
                  "DIS": 0.317003386193074,
                  "RAD": -0.6379617988442783,
                  "TAX": -0.6012760972551554,
                  "PTRATIO": 1.1764658292771952,
                  "LSTAT": -0.3354447283572953,
                  "MEDV": -0.47157171089291283,
                  "CAT. MEDV": -0.44615258903364197,
                  "_deepnote_index_column": 14
                },
                {
                  "CRIM": -0.3475060150690379,
                  "ZN": -0.48772236467012914,
                  "INDUS": -0.4372580131280699,
                  "CHAS": -0.27259856706992697,
                  "NOX": -0.14421743255530314,
                  "RM": -0.6420001896918579,
                  "AGE": -0.42939039153742736,
                  "DIS": 0.3344494335851022,
                  "RAD": -0.6379617988442783,
                  "TAX": -0.6012760972551554,
                  "PTRATIO": 1.1764658292771952,
                  "LSTAT": -0.5863558005953484,
                  "MEDV": -0.28654799911126577,
                  "CAT. MEDV": -0.44615258903364197,
                  "_deepnote_index_column": 15
                },
                {
                  "CRIM": -0.2978681764316524,
                  "ZN": -0.48772236467012914,
                  "INDUS": -0.4372580131280699,
                  "CHAS": -0.27259856706992697,
                  "NOX": -0.14421743255530314,
                  "RM": -0.49810966340527885,
                  "AGE": -1.396637946621458,
                  "DIS": 0.3344494335851022,
                  "RAD": -0.6379617988442783,
                  "TAX": -0.6012760972551554,
                  "PTRATIO": 1.1764658292771952,
                  "LSTAT": -0.8512842511707231,
                  "MEDV": 0.061731928948305495,
                  "CAT. MEDV": -0.44615258903364197,
                  "_deepnote_index_column": 16
                },
                {
                  "CRIM": -0.32925752846349465,
                  "ZN": -0.48772236467012914,
                  "INDUS": -0.4372580131280699,
                  "CHAS": -0.27259856706992697,
                  "NOX": -0.14421743255530314,
                  "RM": -0.41975343621951705,
                  "AGE": 0.4667360197904245,
                  "DIS": 0.22002808188861175,
                  "RAD": -0.6379617988442783,
                  "TAX": -0.6012760972551554,
                  "PTRATIO": 1.1764658292771952,
                  "LSTAT": 0.282721656318579,
                  "MEDV": -0.5477579451559439,
                  "CAT. MEDV": -0.44615258903364197,
                  "_deepnote_index_column": 17
                },
                {
                  "CRIM": -0.3271034599278872,
                  "ZN": -0.48772236467012914,
                  "INDUS": -0.4372580131280699,
                  "CHAS": -0.27259856706992697,
                  "NOX": -0.14421743255530314,
                  "RM": -1.18052116925945,
                  "AGE": -1.1370457719114055,
                  "DIS": 0.0006927612705775703,
                  "RAD": -0.6379617988442783,
                  "TAX": -0.6012760972551554,
                  "PTRATIO": 1.1764658292771952,
                  "LSTAT": -0.13499621813359913,
                  "MEDV": -0.25389675585568094,
                  "CAT. MEDV": -0.44615258903364197,
                  "_deepnote_index_column": 18
                },
                {
                  "CRIM": -0.33605372524790716,
                  "ZN": -0.48772236467012914,
                  "INDUS": -0.4372580131280699,
                  "CHAS": -0.27259856706992697,
                  "NOX": -0.14421743255530314,
                  "RM": -0.7944386680350646,
                  "AGE": 0.032897042877734275,
                  "DIS": 0.0006927612705775703,
                  "RAD": -0.6379617988442783,
                  "TAX": -0.6012760972551554,
                  "PTRATIO": 1.1764658292771952,
                  "LSTAT": -0.19246746931661696,
                  "MEDV": -0.47157171089291283,
                  "CAT. MEDV": -0.44615258903364197,
                  "_deepnote_index_column": 19
                },
                {
                  "CRIM": -0.27484256862747686,
                  "ZN": -0.48772236467012914,
                  "INDUS": -0.4372580131280699,
                  "CHAS": -0.27259856706992697,
                  "NOX": -0.14421743255530314,
                  "RM": -1.0181100801835095,
                  "AGE": 1.0499293985910896,
                  "DIS": 0.0013582780648238077,
                  "RAD": -0.6379617988442783,
                  "TAX": -0.6012760972551554,
                  "PTRATIO": 1.1764658292771952,
                  "LSTAT": 1.1728251807384886,
                  "MEDV": -0.972224107478546,
                  "CAT. MEDV": -0.44615258903364197,
                  "_deepnote_index_column": 20
                },
                {
                  "CRIM": -0.3213627683632456,
                  "ZN": -0.48772236467012914,
                  "INDUS": -0.4372580131280699,
                  "CHAS": -0.27259856706992697,
                  "NOX": -0.14421743255530314,
                  "RM": -0.45536990312213615,
                  "AGE": 0.7334403088760947,
                  "DIS": 0.10327742141225876,
                  "RAD": -0.6379617988442783,
                  "TAX": -0.6012760972551554,
                  "PTRATIO": 1.1764658292771952,
                  "LSTAT": 0.16497567828507914,
                  "MEDV": -0.31919924236685027,
                  "CAT. MEDV": -0.44615258903364197,
                  "_deepnote_index_column": 21
                },
                {
                  "CRIM": -0.2770908994814982,
                  "ZN": -0.48772236467012914,
                  "INDUS": -0.4372580131280699,
                  "CHAS": -0.27259856706992697,
                  "NOX": -0.14421743255530314,
                  "RM": -0.20320531745159578,
                  "AGE": 0.8223417385713181,
                  "DIS": 0.08644935390060221,
                  "RAD": -0.6379617988442783,
                  "TAX": -0.6012760972551554,
                  "PTRATIO": 1.1764658292771952,
                  "LSTAT": 0.850425478980096,
                  "MEDV": -0.7980841434487606,
                  "CAT. MEDV": -0.44615258903364197,
                  "_deepnote_index_column": 22
                },
                {
                  "CRIM": -0.30549062316759457,
                  "ZN": -0.48772236467012914,
                  "INDUS": -0.4372580131280699,
                  "CHAS": -0.27259856706992697,
                  "NOX": -0.14421743255530314,
                  "RM": -0.6719180218900574,
                  "AGE": 1.1174944851594597,
                  "DIS": 0.14268552301441548,
                  "RAD": -0.6379617988442783,
                  "TAX": -0.6012760972551554,
                  "PTRATIO": 1.1764658292771952,
                  "LSTAT": 1.0130270676930244,
                  "MEDV": -0.8742703777117917,
                  "CAT. MEDV": -0.44615258903364197,
                  "_deepnote_index_column": 23
                },
                {
                  "CRIM": -0.3332072359782714,
                  "ZN": -0.48772236467012914,
                  "INDUS": -0.4372580131280699,
                  "CHAS": -0.27259856706992697,
                  "NOX": -0.14421743255530314,
                  "RM": -0.5137809088424299,
                  "AGE": 0.9076871110787322,
                  "DIS": 0.2873878888491134,
                  "RAD": -0.6379617988442783,
                  "TAX": -0.6012760972551554,
                  "PTRATIO": 1.1764658292771952,
                  "LSTAT": 0.5112049232169181,
                  "MEDV": -0.7545491524413142,
                  "CAT. MEDV": -0.44615258903364197,
                  "_deepnote_index_column": 24
                },
                {
                  "CRIM": -0.32270106053825837,
                  "ZN": -0.48772236467012914,
                  "INDUS": -0.4372580131280699,
                  "CHAS": -0.27259856706992697,
                  "NOX": -0.14421743255530314,
                  "RM": -0.9767949785764719,
                  "AGE": 0.6089783073027819,
                  "DIS": 0.31353319148021835,
                  "RAD": -0.6379617988442783,
                  "TAX": -0.6012760972551554,
                  "PTRATIO": 1.1764658292771952,
                  "LSTAT": 0.5406414177252932,
                  "MEDV": -0.9395728642229612,
                  "CAT. MEDV": -0.44615258903364197,
                  "_deepnote_index_column": 25
                },
                {
                  "CRIM": -0.34232507875324947,
                  "ZN": -0.48772236467012914,
                  "INDUS": -0.4372580131280699,
                  "CHAS": -0.27259856706992697,
                  "NOX": -0.14421743255530314,
                  "RM": -0.6719180218900574,
                  "AGE": 0.7725569379419928,
                  "DIS": 0.4216321336313692,
                  "RAD": -0.6379617988442783,
                  "TAX": -0.6012760972551554,
                  "PTRATIO": 1.1764658292771952,
                  "LSTAT": 0.302345985990829,
                  "MEDV": -0.6457116749226981,
                  "CAT. MEDV": -0.44615258903364197,
                  "_deepnote_index_column": 26
                },
                {
                  "CRIM": -0.3092913729446307,
                  "ZN": -0.48772236467012914,
                  "INDUS": -0.4372580131280699,
                  "CHAS": -0.27259856706992697,
                  "NOX": -0.14421743255530314,
                  "RM": -0.33854789168154736,
                  "AGE": 0.7192160801248587,
                  "DIS": 0.3129627485137216,
                  "RAD": -0.6379617988442783,
                  "TAX": -0.6012760972551554,
                  "PTRATIO": 1.1764658292771952,
                  "LSTAT": 0.648575230922668,
                  "MEDV": -0.8416191344562068,
                  "CAT. MEDV": -0.44615258903364197,
                  "_deepnote_index_column": 27
                },
                {
                  "CRIM": -0.33056207240105057,
                  "ZN": -0.48772236467012914,
                  "INDUS": -0.4372580131280699,
                  "CHAS": -0.27259856706992697,
                  "NOX": -0.14421743255530314,
                  "RM": 0.29969919521337846,
                  "AGE": 0.9183552826421595,
                  "DIS": 0.31358072839409296,
                  "RAD": -0.6379617988442783,
                  "TAX": -0.6012760972551554,
                  "PTRATIO": 1.1764658292771952,
                  "LSTAT": 0.020596681410668692,
                  "MEDV": -0.4498042153891897,
                  "CAT. MEDV": -0.44615258903364197,
                  "_deepnote_index_column": 28
                },
                {
                  "CRIM": -0.30385907044640514,
                  "ZN": -0.48772236467012914,
                  "INDUS": -0.4372580131280699,
                  "CHAS": -0.27259856706992697,
                  "NOX": -0.14421743255530314,
                  "RM": 0.554713098236128,
                  "AGE": 0.6658752223077247,
                  "DIS": 0.2110436051662864,
                  "RAD": -0.6379617988442783,
                  "TAX": -0.6012760972551554,
                  "PTRATIO": 1.1764658292771952,
                  "LSTAT": -0.09434582095536692,
                  "MEDV": -0.16682677384078812,
                  "CAT. MEDV": -0.44615258903364197,
                  "_deepnote_index_column": 29
                },
                {
                  "CRIM": -0.28892140230861074,
                  "ZN": -0.48772236467012914,
                  "INDUS": -0.4372580131280699,
                  "CHAS": -0.27259856706992697,
                  "NOX": -0.14421743255530314,
                  "RM": -0.8143838895005313,
                  "AGE": 0.9076871110787322,
                  "DIS": 0.2081913903338021,
                  "RAD": -0.6379617988442783,
                  "TAX": -0.6012760972551554,
                  "PTRATIO": 1.1764658292771952,
                  "LSTAT": 1.3942997584681671,
                  "MEDV": -1.0701778372453004,
                  "CAT. MEDV": -0.44615258903364197,
                  "_deepnote_index_column": 30
                },
                {
                  "CRIM": -0.2628642717949498,
                  "ZN": -0.48772236467012914,
                  "INDUS": -0.4372580131280699,
                  "CHAS": -0.27259856706992697,
                  "NOX": -0.14421743255530314,
                  "RM": -0.30293142477892826,
                  "AGE": 1.1174944851594597,
                  "DIS": 0.180619980286455,
                  "RAD": -0.6379617988442783,
                  "TAX": -0.6012760972551554,
                  "PTRATIO": 1.1764658292771952,
                  "LSTAT": 0.05423838942023986,
                  "MEDV": -0.8742703777117917,
                  "CAT. MEDV": -0.44615258903364197,
                  "_deepnote_index_column": 31
                },
                {
                  "CRIM": -0.2589925343460216,
                  "ZN": -0.48772236467012914,
                  "INDUS": -0.4372580131280699,
                  "CHAS": -0.27259856706992697,
                  "NOX": -0.14421743255530314,
                  "RM": -0.47673978326370686,
                  "AGE": 0.47740419135385126,
                  "DIS": 0.09267668961819274,
                  "RAD": -0.6379617988442783,
                  "TAX": -0.6012760972551554,
                  "PTRATIO": 1.1764658292771952,
                  "LSTAT": 2.1105877915052913,
                  "MEDV": -1.0157590984859926,
                  "CAT. MEDV": -0.44615258903364197,
                  "_deepnote_index_column": 32
                },
                {
                  "CRIM": -0.2864880380147398,
                  "ZN": -0.48772236467012914,
                  "INDUS": -0.4372580131280699,
                  "CHAS": -0.27259856706992697,
                  "NOX": -0.14421743255530314,
                  "RM": -0.8314797936137889,
                  "AGE": 0.9396916257690129,
                  "DIS": -0.003728171719772962,
                  "RAD": -0.6379617988442783,
                  "TAX": -0.6012760972551554,
                  "PTRATIO": 1.1764658292771952,
                  "LSTAT": 0.7985611791320071,
                  "MEDV": -1.026642846237854,
                  "CAT. MEDV": -0.44615258903364197,
                  "_deepnote_index_column": 33
                },
                {
                  "CRIM": -0.23282834045835957,
                  "ZN": -0.48772236467012914,
                  "INDUS": -0.4372580131280699,
                  "CHAS": -0.27259856706992697,
                  "NOX": -0.14421743255530314,
                  "RM": -0.26873961655241435,
                  "AGE": 1.0072567123373828,
                  "DIS": -0.016753286121450797,
                  "RAD": -0.6379617988442783,
                  "TAX": -0.6012760972551554,
                  "PTRATIO": 1.1764658292771952,
                  "LSTAT": 1.077507008044703,
                  "MEDV": -0.9831078552304076,
                  "CAT. MEDV": -0.44615258903364197,
                  "_deepnote_index_column": 34
                }
              ],
              "rows_bottom": [
                {
                  "CRIM": 0.0855653327650836,
                  "ZN": -0.48772236467012914,
                  "INDUS": 1.0159990707250288,
                  "CHAS": -0.27259856706992697,
                  "NOX": 0.21859243008959417,
                  "RM": -0.16758885054897793,
                  "AGE": 0.54852533511003,
                  "DIS": -0.3620614285075365,
                  "RAD": 1.6612452539705709,
                  "TAX": 1.530926459469711,
                  "PTRATIO": 0.8065758349537706,
                  "LSTAT": 0.5098031853831857,
                  "MEDV": -0.28654799911126577,
                  "CAT. MEDV": -0.44615258903364197,
                  "_deepnote_index_column": 470
                },
                {
                  "CRIM": 0.04944540882765285,
                  "ZN": -0.48772236467012914,
                  "INDUS": 1.0159990707250288,
                  "CHAS": -0.27259856706992697,
                  "NOX": -0.19604741293314576,
                  "RM": -0.07926001263048343,
                  "AGE": 0.7867811666932287,
                  "DIS": -0.33073460226408513,
                  "RAD": 1.6612452539705709,
                  "TAX": 1.530926459469711,
                  "PTRATIO": 0.8065758349537706,
                  "LSTAT": 0.03040884624679347,
                  "MEDV": -0.31919924236685027,
                  "CAT. MEDV": -0.44615258903364197,
                  "_deepnote_index_column": 471
                },
                {
                  "CRIM": -0.005218589726149959,
                  "ZN": -0.48772236467012914,
                  "INDUS": 1.0159990707250288,
                  "CHAS": -0.27259856706992697,
                  "NOX": 0.21859243008959417,
                  "RM": 0.21706899199930357,
                  "AGE": 0.22848018820722574,
                  "DIS": -0.42713946360205063,
                  "RAD": 1.6612452539705709,
                  "TAX": 1.530926459469711,
                  "PTRATIO": 0.8065758349537706,
                  "LSTAT": 0.23926778347288252,
                  "MEDV": 0.07261567670016686,
                  "CAT. MEDV": -0.44615258903364197,
                  "_deepnote_index_column": 472
                },
                {
                  "CRIM": 0.1202561934060659,
                  "ZN": -0.48772236467012914,
                  "INDUS": 1.0159990707250288,
                  "CHAS": -0.27259856706992697,
                  "NOX": 0.5122956522307023,
                  "RM": 0.9906586531241797,
                  "AGE": -0.03466804369063571,
                  "DIS": -0.5999836824505924,
                  "RAD": 1.6612452539705709,
                  "TAX": 1.530926459469711,
                  "PTRATIO": 0.8065758349537706,
                  "LSTAT": -0.13920143163479548,
                  "MEDV": 0.7909430283230322,
                  "CAT. MEDV": -0.44615258903364197,
                  "_deepnote_index_column": 473
                },
                {
                  "CRIM": 0.5169609060496239,
                  "ZN": -0.48772236467012914,
                  "INDUS": 1.0159990707250288,
                  "CHAS": -0.27259856706992697,
                  "NOX": 0.25314575034148923,
                  "RM": -1.2218362708664887,
                  "AGE": 0.9539158545202489,
                  "DIS": -0.6489942406554456,
                  "RAD": 1.6612452539705709,
                  "TAX": 1.530926459469711,
                  "PTRATIO": 0.8065758349537706,
                  "LSTAT": 0.769124684623632,
                  "MEDV": -0.9504566119748228,
                  "CAT. MEDV": -0.44615258903364197,
                  "_deepnote_index_column": 474
                },
                {
                  "CRIM": 0.32347062338628246,
                  "ZN": -0.48772236467012914,
                  "INDUS": 1.0159990707250288,
                  "CHAS": -0.27259856706992697,
                  "NOX": 0.25314575034148923,
                  "RM": -0.17471214392950152,
                  "AGE": 1.0250369982764276,
                  "DIS": -0.755381853907106,
                  "RAD": 1.6612452539705709,
                  "TAX": 1.530926459469711,
                  "PTRATIO": 0.8065758349537706,
                  "LSTAT": 1.6045604335279882,
                  "MEDV": -1.0048753507341308,
                  "CAT. MEDV": -0.44615258903364197,
                  "_deepnote_index_column": 475
                },
                {
                  "CRIM": 0.1463843115916189,
                  "ZN": -0.48772236467012914,
                  "INDUS": 1.0159990707250288,
                  "CHAS": -0.27259856706992697,
                  "NOX": 0.5122956522307023,
                  "RM": 0.2840279497762261,
                  "AGE": 0.8899068251396876,
                  "DIS": -0.7081776984294926,
                  "RAD": 1.6612452539705709,
                  "TAX": 1.530926459469711,
                  "PTRATIO": 0.8065758349537706,
                  "LSTAT": 0.8448185276451675,
                  "MEDV": -0.6348279271708367,
                  "CAT. MEDV": -0.44615258903364197,
                  "_deepnote_index_column": 476
                },
                {
                  "CRIM": 1.3278042053140147,
                  "ZN": -0.48772236467012914,
                  "INDUS": 1.0159990707250288,
                  "CHAS": -0.27259856706992697,
                  "NOX": 0.5122956522307023,
                  "RM": -1.3970692880273712,
                  "AGE": 1.0214809410886183,
                  "DIS": -0.8054382242172036,
                  "RAD": 1.6612452539705709,
                  "TAX": 1.530926459469711,
                  "PTRATIO": 0.8065758349537706,
                  "LSTAT": 1.7181011980602916,
                  "MEDV": -1.1463640715083314,
                  "CAT. MEDV": -0.44615258903364197,
                  "_deepnote_index_column": 477
                },
                {
                  "CRIM": 0.7703298718200136,
                  "ZN": -0.48772236467012914,
                  "INDUS": 1.0159990707250288,
                  "CHAS": -0.27259856706992697,
                  "NOX": 0.5122956522307023,
                  "RM": -0.14194499437909286,
                  "AGE": 1.000144597961765,
                  "DIS": -0.7722574583326374,
                  "RAD": 1.6612452539705709,
                  "TAX": 1.530926459469711,
                  "PTRATIO": 0.8065758349537706,
                  "LSTAT": 0.7537055684525785,
                  "MEDV": -0.8633866299599301,
                  "CAT. MEDV": -0.44615258903364197,
                  "_deepnote_index_column": 478
                },
                {
                  "CRIM": 1.2475415867830333,
                  "ZN": -0.48772236467012914,
                  "INDUS": 1.0159990707250288,
                  "CHAS": -0.27259856706992697,
                  "NOX": 0.5122956522307023,
                  "RM": -0.07926001263048343,
                  "AGE": 0.6907676226223873,
                  "DIS": -0.8765059104599344,
                  "RAD": 1.6612452539705709,
                  "TAX": 1.530926459469711,
                  "PTRATIO": 0.8065758349537706,
                  "LSTAT": 0.06405055425636488,
                  "MEDV": -0.1232917828333419,
                  "CAT. MEDV": -0.44615258903364197,
                  "_deepnote_index_column": 479
                },
                {
                  "CRIM": 0.25724145297571743,
                  "ZN": -0.48772236467012914,
                  "INDUS": 1.0159990707250288,
                  "CHAS": -0.27259856706992697,
                  "NOX": -0.19604741293314576,
                  "RM": -0.0607394498411219,
                  "AGE": -0.13779370213709455,
                  "DIS": -0.17628716908506634,
                  "RAD": 1.6612452539705709,
                  "TAX": 1.530926459469711,
                  "PTRATIO": 0.8065758349537706,
                  "LSTAT": -0.26816131233815244,
                  "MEDV": 0.05084818119644375,
                  "CAT. MEDV": -0.44615258903364197,
                  "_deepnote_index_column": 480
                },
                {
                  "CRIM": 0.24376194144252386,
                  "ZN": -0.48772236467012914,
                  "INDUS": 1.0159990707250288,
                  "CHAS": -0.27259856706992697,
                  "NOX": -0.19604741293314576,
                  "RM": 0.662987157620088,
                  "AGE": 0.224924131019417,
                  "DIS": -0.22025881441919748,
                  "RAD": 1.6612452539705709,
                  "TAX": 1.530926459469711,
                  "PTRATIO": 0.8065758349537706,
                  "LSTAT": -0.6886826624577947,
                  "MEDV": 0.12703441545947483,
                  "CAT. MEDV": -0.44615258903364197,
                  "_deepnote_index_column": 481
                },
                {
                  "CRIM": 0.24643619832789718,
                  "ZN": -0.48772236467012914,
                  "INDUS": 1.0159990707250288,
                  "CHAS": -0.27259856706992697,
                  "NOX": -0.19604741293314576,
                  "RM": 1.1060560058886633,
                  "AGE": 0.29960133196340444,
                  "DIS": -0.18275218937203042,
                  "RAD": 1.6612452539705709,
                  "TAX": 1.530926459469711,
                  "PTRATIO": 0.8065758349537706,
                  "LSTAT": -0.7910095243202412,
                  "MEDV": 0.26852313623367563,
                  "CAT. MEDV": -0.44615258903364197,
                  "_deepnote_index_column": 482
                },
                {
                  "CRIM": -0.09253342615328529,
                  "ZN": -0.48772236467012914,
                  "INDUS": 1.0159990707250288,
                  "CHAS": -0.27259856706992697,
                  "NOX": -0.19604741293314576,
                  "RM": -0.7445756143713995,
                  "AGE": -1.005471655962475,
                  "DIS": 0.14415916734453227,
                  "RAD": 1.6612452539705709,
                  "TAX": 1.530926459469711,
                  "PTRATIO": 0.8065758349537706,
                  "LSTAT": -0.313016923017581,
                  "MEDV": -0.07975679182589529,
                  "CAT. MEDV": -0.44615258903364197,
                  "_deepnote_index_column": 483
                },
                {
                  "CRIM": -0.14371553758740283,
                  "ZN": -0.48772236467012914,
                  "INDUS": 1.0159990707250288,
                  "CHAS": -0.27259856706992697,
                  "NOX": 0.24450742027851546,
                  "RM": -0.5892878186759812,
                  "AGE": -0.948574740957532,
                  "DIS": -0.033771501288606266,
                  "RAD": 1.6612452539705709,
                  "TAX": 1.530926459469711,
                  "PTRATIO": 0.8065758349537706,
                  "LSTAT": 0.09629052443220419,
                  "MEDV": -0.21036176484823435,
                  "CAT. MEDV": -0.44615258903364197,
                  "_deepnote_index_column": 484
                },
                {
                  "CRIM": 0.006999435965553266,
                  "ZN": -0.48772236467012914,
                  "INDUS": 1.0159990707250288,
                  "CHAS": -0.27259856706992697,
                  "NOX": 0.24450742027851546,
                  "RM": 0.03898665748621058,
                  "AGE": -0.5929690221766385,
                  "DIS": 0.09348481715406307,
                  "RAD": 1.6612452539705709,
                  "TAX": 1.530926459469711,
                  "PTRATIO": 0.8065758349537706,
                  "LSTAT": -0.2905891176778667,
                  "MEDV": -0.145059278337065,
                  "CAT. MEDV": -0.44615258903364197,
                  "_deepnote_index_column": 485
                },
                {
                  "CRIM": 0.2418499292307448,
                  "ZN": -0.48772236467012914,
                  "INDUS": 1.0159990707250288,
                  "CHAS": -0.27259856706992697,
                  "NOX": 0.24450742027851546,
                  "RM": -0.24309576038252928,
                  "AGE": 0.39917093322205455,
                  "DIS": -0.11843474489951199,
                  "RAD": 1.6612452539705709,
                  "TAX": 1.530926459469711,
                  "PTRATIO": 0.8065758349537706,
                  "LSTAT": 0.32617552916427545,
                  "MEDV": -0.37361798112615824,
                  "CAT. MEDV": -0.44615258903364197,
                  "_deepnote_index_column": 486
                },
                {
                  "CRIM": 0.1422251322581446,
                  "ZN": -0.48772236467012914,
                  "INDUS": 1.0159990707250288,
                  "CHAS": -0.27259856706992697,
                  "NOX": 0.24450742027851546,
                  "RM": -0.5408494236884203,
                  "AGE": -0.5467402787351221,
                  "DIS": -0.3055400379104748,
                  "RAD": 1.6612452539705709,
                  "TAX": 1.530926459469711,
                  "PTRATIO": 0.8065758349537706,
                  "LSTAT": -0.16863792614317055,
                  "MEDV": -0.21036176484823435,
                  "CAT. MEDV": -0.44615258903364197,
                  "_deepnote_index_column": 487
                },
                {
                  "CRIM": -0.40296135160458746,
                  "ZN": -0.48772236467012914,
                  "INDUS": 2.422565163932244,
                  "CHAS": -0.27259856706992697,
                  "NOX": 0.46910400191583346,
                  "RM": -1.1833704866116606,
                  "AGE": 0.8579023104494075,
                  "DIS": -0.9384465092387161,
                  "RAD": -0.6379617988442783,
                  "TAX": 1.7981941894212958,
                  "PTRATIO": 0.7603395856633436,
                  "LSTAT": 0.7579107819537747,
                  "MEDV": -0.7980841434487606,
                  "CAT. MEDV": -0.44615258903364197,
                  "_deepnote_index_column": 488
                },
                {
                  "CRIM": -0.3991780578124427,
                  "ZN": -0.48772236467012914,
                  "INDUS": 2.422565163932244,
                  "CHAS": -0.27259856706992697,
                  "NOX": 0.46910400191583346,
                  "RM": -1.2403568336558501,
                  "AGE": 1.0570415129667077,
                  "DIS": -0.9695831878266685,
                  "RAD": -0.6379617988442783,
                  "TAX": 1.7981941894212958,
                  "PTRATIO": 0.7603395856633436,
                  "LSTAT": 1.58633784168947,
                  "MEDV": -1.6905514591014112,
                  "CAT. MEDV": -0.44615258903364197,
                  "_deepnote_index_column": 489
                },
                {
                  "CRIM": -0.3963746266388725,
                  "ZN": -0.48772236467012914,
                  "INDUS": 2.422565163932244,
                  "CHAS": -0.27259856706992697,
                  "NOX": 0.46910400191583346,
                  "RM": -1.6976722686854726,
                  "AGE": 1.046373341403281,
                  "DIS": -0.9376383817028455,
                  "RAD": -0.6379617988442783,
                  "TAX": 1.7981941894212958,
                  "PTRATIO": 0.7603395856633436,
                  "LSTAT": 2.3867301447505227,
                  "MEDV": -1.5708302338309337,
                  "CAT. MEDV": -0.44615258903364197,
                  "_deepnote_index_column": 490
                },
                {
                  "CRIM": -0.4082121118599417,
                  "ZN": -0.48772236467012914,
                  "INDUS": 2.422565163932244,
                  "CHAS": -0.27259856706992697,
                  "NOX": 0.46910400191583346,
                  "RM": -0.42972604695225103,
                  "AGE": 1.0748217989057522,
                  "DIS": -0.9160090858898404,
                  "RAD": -0.6379617988442783,
                  "TAX": 1.7981941894212958,
                  "PTRATIO": 0.7603395856633436,
                  "LSTAT": 0.759312519787507,
                  "MEDV": -0.972224107478546,
                  "CAT. MEDV": -0.44615258903364197,
                  "_deepnote_index_column": 491
                },
                {
                  "CRIM": -0.407562749221979,
                  "ZN": -0.48772236467012914,
                  "INDUS": 2.422565163932244,
                  "CHAS": -0.27259856706992697,
                  "NOX": 0.46910400191583346,
                  "RM": -0.42972604695225103,
                  "AGE": 0.5307450491709853,
                  "DIS": -0.8010648281407277,
                  "RAD": -0.6379617988442783,
                  "TAX": 1.7981941894212958,
                  "PTRATIO": 0.7603395856633436,
                  "LSTAT": 0.0976922622659363,
                  "MEDV": -0.2647805036075423,
                  "CAT. MEDV": -0.44615258903364197,
                  "_deepnote_index_column": 492
                },
                {
                  "CRIM": -0.40034877253249734,
                  "ZN": -0.48772236467012914,
                  "INDUS": -0.21109852718707578,
                  "CHAS": -0.27259856706992697,
                  "NOX": 0.261784080404463,
                  "RM": -0.82293184155716,
                  "AGE": -0.5182918212326507,
                  "DIS": -0.671859496229194,
                  "RAD": -0.40804109356279333,
                  "TAX": -0.10237633467886356,
                  "PTRATIO": 0.34421334204949033,
                  "LSTAT": -0.09014060745417059,
                  "MEDV": -0.07975679182589529,
                  "CAT. MEDV": -0.44615258903364197,
                  "_deepnote_index_column": 493
                },
                {
                  "CRIM": -0.38798295283537965,
                  "ZN": -0.48772236467012914,
                  "INDUS": -0.21109852718707578,
                  "CHAS": -0.27259856706992697,
                  "NOX": 0.261784080404463,
                  "RM": -0.5109315914902207,
                  "AGE": -0.9236823406428694,
                  "DIS": -0.671859496229194,
                  "RAD": -0.40804109356279333,
                  "TAX": -0.10237633467886356,
                  "PTRATIO": 0.34421334204949033,
                  "LSTAT": 0.13133397027550772,
                  "MEDV": 0.21410439747436766,
                  "CAT. MEDV": -0.44615258903364197,
                  "_deepnote_index_column": 494
                },
                {
                  "CRIM": -0.39968777257127364,
                  "ZN": -0.48772236467012914,
                  "INDUS": -0.21109852718707578,
                  "CHAS": -0.27259856706992697,
                  "NOX": 0.261784080404463,
                  "RM": -0.8756442125730355,
                  "AGE": -1.4144182325605026,
                  "DIS": -0.4736781022854176,
                  "RAD": -0.40804109356279333,
                  "TAX": -0.10237633467886356,
                  "PTRATIO": 0.34421334204949033,
                  "LSTAT": 0.6934308416020966,
                  "MEDV": 0.061731928948305495,
                  "CAT. MEDV": -0.44615258903364197,
                  "_deepnote_index_column": 495
                },
                {
                  "CRIM": -0.3868157293123033,
                  "ZN": -0.48772236467012914,
                  "INDUS": -0.21109852718707578,
                  "CHAS": -0.27259856706992697,
                  "NOX": 0.261784080404463,
                  "RM": -1.2745486418823642,
                  "AGE": 0.1538029872632383,
                  "DIS": -0.4736781022854176,
                  "RAD": -0.40804109356279333,
                  "TAX": -0.10237633467886356,
                  "PTRATIO": 0.34421334204949033,
                  "LSTAT": 1.1896460347432745,
                  "MEDV": -0.3083154946149889,
                  "CAT. MEDV": -0.44615258903364197,
                  "_deepnote_index_column": 496
                },
                {
                  "CRIM": -0.38928516930828333,
                  "ZN": -0.48772236467012914,
                  "INDUS": -0.21109852718707578,
                  "CHAS": -0.27259856706992697,
                  "NOX": 0.261784080404463,
                  "RM": -0.6989865367360477,
                  "AGE": 0.07201367194363237,
                  "DIS": -0.4289458663292906,
                  "RAD": -0.40804109356279333,
                  "TAX": -0.10237633467886356,
                  "PTRATIO": 0.34421334204949033,
                  "LSTAT": 0.20282259979584688,
                  "MEDV": -0.46068796314105104,
                  "CAT. MEDV": -0.44615258903364197,
                  "_deepnote_index_column": 497
                },
                {
                  "CRIM": -0.3926902500944462,
                  "ZN": -0.48772236467012914,
                  "INDUS": -0.21109852718707578,
                  "CHAS": -0.27259856706992697,
                  "NOX": 0.261784080404463,
                  "RM": -0.3784383346124796,
                  "AGE": -0.11645735901024112,
                  "DIS": -0.6588343818275162,
                  "RAD": -0.40804109356279333,
                  "TAX": -0.10237633467886356,
                  "PTRATIO": 0.34421334204949033,
                  "LSTAT": 0.03741753541545428,
                  "MEDV": -0.145059278337065,
                  "CAT. MEDV": -0.44615258903364197,
                  "_deepnote_index_column": 498
                },
                {
                  "CRIM": -0.399822765521101,
                  "ZN": -0.48772236467012914,
                  "INDUS": -0.21109852718707578,
                  "CHAS": -0.27259856706992697,
                  "NOX": 0.261784080404463,
                  "RM": -1.0195347388596145,
                  "AGE": 0.1751393303900917,
                  "DIS": -0.6632077779039919,
                  "RAD": -0.40804109356279333,
                  "TAX": -0.10237633467886356,
                  "PTRATIO": 0.34421334204949033,
                  "LSTAT": 0.342996383169061,
                  "MEDV": -0.5477579451559439,
                  "CAT. MEDV": -0.44615258903364197,
                  "_deepnote_index_column": 499
                },
                {
                  "CRIM": -0.39440559154311466,
                  "ZN": -0.48772236467012914,
                  "INDUS": -0.21109852718707578,
                  "CHAS": -0.27259856706992697,
                  "NOX": 0.261784080404463,
                  "RM": -0.36704106520364166,
                  "AGE": 0.39561487603424583,
                  "DIS": -0.6164789915651259,
                  "RAD": -0.40804109356279333,
                  "TAX": -0.10237633467886356,
                  "PTRATIO": 0.34421334204949033,
                  "LSTAT": 0.2350625699716862,
                  "MEDV": -0.623944179418975,
                  "CAT. MEDV": -0.44615258903364197,
                  "_deepnote_index_column": 500
                },
                {
                  "CRIM": -0.4132289619177503,
                  "ZN": -0.48772236467012914,
                  "INDUS": 0.11573840733410301,
                  "CHAS": -0.27259856706992697,
                  "NOX": 0.1581241196487778,
                  "RM": 0.43931574547164315,
                  "AGE": 0.01867281412649833,
                  "DIS": -0.6257962266845742,
                  "RAD": -0.9828428567665056,
                  "TAX": -0.8032117154407974,
                  "PTRATIO": 1.1764658292771952,
                  "LSTAT": -0.4181472605474916,
                  "MEDV": -0.014454305314725968,
                  "CAT. MEDV": -0.44615258903364197,
                  "_deepnote_index_column": 501
                },
                {
                  "CRIM": -0.4152492012358565,
                  "ZN": -0.48772236467012914,
                  "INDUS": 0.11573840733410301,
                  "CHAS": -0.27259856706992697,
                  "NOX": 0.1581241196487778,
                  "RM": -0.2345478083259005,
                  "AGE": 0.28893316039997774,
                  "DIS": -0.7166392690991957,
                  "RAD": -0.9828428567665056,
                  "TAX": -0.8032117154407974,
                  "PTRATIO": 1.1764658292771952,
                  "LSTAT": -0.5008497927376879,
                  "MEDV": -0.21036176484823435,
                  "CAT. MEDV": -0.44615258903364197,
                  "_deepnote_index_column": 502
                },
                {
                  "CRIM": -0.41344657986273065,
                  "ZN": -0.48772236467012914,
                  "INDUS": 0.11573840733410301,
                  "CHAS": -0.27259856706992697,
                  "NOX": 0.1581241196487778,
                  "RM": 0.9849600184197601,
                  "AGE": 0.7974493382566554,
                  "DIS": -0.7736835657488795,
                  "RAD": -0.9828428567665056,
                  "TAX": -0.8032117154407974,
                  "PTRATIO": 1.1764658292771952,
                  "LSTAT": -0.9830476075415445,
                  "MEDV": 0.14880191096319792,
                  "CAT. MEDV": -0.44615258903364197,
                  "_deepnote_index_column": 503
                },
                {
                  "CRIM": -0.407764074914394,
                  "ZN": -0.48772236467012914,
                  "INDUS": 0.11573840733410301,
                  "CHAS": -0.27259856706992697,
                  "NOX": 0.1581241196487778,
                  "RM": 0.7256721393686961,
                  "AGE": 0.7369963660639034,
                  "DIS": -0.668436838430213,
                  "RAD": -0.9828428567665056,
                  "TAX": -0.8032117154407974,
                  "PTRATIO": 1.1764658292771952,
                  "LSTAT": -0.8653016295080446,
                  "MEDV": -0.05798929632217219,
                  "CAT. MEDV": -0.44615258903364197,
                  "_deepnote_index_column": 504
                },
                {
                  "CRIM": -0.41500016251807154,
                  "ZN": -0.48772236467012914,
                  "INDUS": 0.11573840733410301,
                  "CHAS": -0.27259856706992697,
                  "NOX": 0.1581241196487778,
                  "RM": -0.36276708917532724,
                  "AGE": 0.4347315051001439,
                  "DIS": -0.613246481421644,
                  "RAD": -0.9828428567665056,
                  "TAX": -0.8032117154407974,
                  "PTRATIO": 1.1764658292771952,
                  "LSTAT": -0.6690583327855448,
                  "MEDV": -1.1572478192601932,
                  "CAT. MEDV": -0.44615258903364197,
                  "_deepnote_index_column": 505
                }
              ]
            },
            "text/plain": "         CRIM        ZN     INDUS      CHAS       NOX        RM       AGE  \\\n0   -0.419782  0.284830 -1.287909 -0.272599 -0.144217  0.413672 -0.120013   \n1   -0.417339 -0.487722 -0.593381 -0.272599 -0.740262  0.194274  0.367166   \n2   -0.417342 -0.487722 -0.593381 -0.272599 -0.740262  1.282714 -0.265812   \n3   -0.416750 -0.487722 -1.306878 -0.272599 -0.835284  1.016303 -0.809889   \n4   -0.412482 -0.487722 -1.306878 -0.272599 -0.835284  1.228577 -0.511180   \n..        ...       ...       ...       ...       ...       ...       ...   \n501 -0.413229 -0.487722  0.115738 -0.272599  0.158124  0.439316  0.018673   \n502 -0.415249 -0.487722  0.115738 -0.272599  0.158124 -0.234548  0.288933   \n503 -0.413447 -0.487722  0.115738 -0.272599  0.158124  0.984960  0.797449   \n504 -0.407764 -0.487722  0.115738 -0.272599  0.158124  0.725672  0.736996   \n505 -0.415000 -0.487722  0.115738 -0.272599  0.158124 -0.362767  0.434732   \n\n          DIS       RAD       TAX   PTRATIO     LSTAT      MEDV  CAT. MEDV  \n0    0.140214 -0.982843 -0.666608 -1.459000 -1.075562  0.159686  -0.446153  \n1    0.557160 -0.867883 -0.987329 -0.303094 -0.492439 -0.101524  -0.446153  \n2    0.557160 -0.867883 -0.987329 -0.303094 -1.208727  1.324247   2.241386  \n3    1.077737 -0.752922 -1.106115  0.113032 -1.361517  1.182758   2.241386  \n4    1.077737 -0.752922 -1.106115  0.113032 -1.026501  1.487503   2.241386  \n..        ...       ...       ...       ...       ...       ...        ...  \n501 -0.625796 -0.982843 -0.803212  1.176466 -0.418147 -0.014454  -0.446153  \n502 -0.716639 -0.982843 -0.803212  1.176466 -0.500850 -0.210362  -0.446153  \n503 -0.773684 -0.982843 -0.803212  1.176466 -0.983048  0.148802  -0.446153  \n504 -0.668437 -0.982843 -0.803212  1.176466 -0.865302 -0.057989  -0.446153  \n505 -0.613246 -0.982843 -0.803212  1.176466 -0.669058 -1.157248  -0.446153  \n\n[506 rows x 14 columns]",
            "text/html": "<div>\n<style scoped>\n    .dataframe tbody tr th:only-of-type {\n        vertical-align: middle;\n    }\n\n    .dataframe tbody tr th {\n        vertical-align: top;\n    }\n\n    .dataframe thead th {\n        text-align: right;\n    }\n</style>\n<table border=\"1\" class=\"dataframe\">\n  <thead>\n    <tr style=\"text-align: right;\">\n      <th></th>\n      <th>CRIM</th>\n      <th>ZN</th>\n      <th>INDUS</th>\n      <th>CHAS</th>\n      <th>NOX</th>\n      <th>RM</th>\n      <th>AGE</th>\n      <th>DIS</th>\n      <th>RAD</th>\n      <th>TAX</th>\n      <th>PTRATIO</th>\n      <th>LSTAT</th>\n      <th>MEDV</th>\n      <th>CAT. MEDV</th>\n    </tr>\n  </thead>\n  <tbody>\n    <tr>\n      <th>0</th>\n      <td>-0.419782</td>\n      <td>0.284830</td>\n      <td>-1.287909</td>\n      <td>-0.272599</td>\n      <td>-0.144217</td>\n      <td>0.413672</td>\n      <td>-0.120013</td>\n      <td>0.140214</td>\n      <td>-0.982843</td>\n      <td>-0.666608</td>\n      <td>-1.459000</td>\n      <td>-1.075562</td>\n      <td>0.159686</td>\n      <td>-0.446153</td>\n    </tr>\n    <tr>\n      <th>1</th>\n      <td>-0.417339</td>\n      <td>-0.487722</td>\n      <td>-0.593381</td>\n      <td>-0.272599</td>\n      <td>-0.740262</td>\n      <td>0.194274</td>\n      <td>0.367166</td>\n      <td>0.557160</td>\n      <td>-0.867883</td>\n      <td>-0.987329</td>\n      <td>-0.303094</td>\n      <td>-0.492439</td>\n      <td>-0.101524</td>\n      <td>-0.446153</td>\n    </tr>\n    <tr>\n      <th>2</th>\n      <td>-0.417342</td>\n      <td>-0.487722</td>\n      <td>-0.593381</td>\n      <td>-0.272599</td>\n      <td>-0.740262</td>\n      <td>1.282714</td>\n      <td>-0.265812</td>\n      <td>0.557160</td>\n      <td>-0.867883</td>\n      <td>-0.987329</td>\n      <td>-0.303094</td>\n      <td>-1.208727</td>\n      <td>1.324247</td>\n      <td>2.241386</td>\n    </tr>\n    <tr>\n      <th>3</th>\n      <td>-0.416750</td>\n      <td>-0.487722</td>\n      <td>-1.306878</td>\n      <td>-0.272599</td>\n      <td>-0.835284</td>\n      <td>1.016303</td>\n      <td>-0.809889</td>\n      <td>1.077737</td>\n      <td>-0.752922</td>\n      <td>-1.106115</td>\n      <td>0.113032</td>\n      <td>-1.361517</td>\n      <td>1.182758</td>\n      <td>2.241386</td>\n    </tr>\n    <tr>\n      <th>4</th>\n      <td>-0.412482</td>\n      <td>-0.487722</td>\n      <td>-1.306878</td>\n      <td>-0.272599</td>\n      <td>-0.835284</td>\n      <td>1.228577</td>\n      <td>-0.511180</td>\n      <td>1.077737</td>\n      <td>-0.752922</td>\n      <td>-1.106115</td>\n      <td>0.113032</td>\n      <td>-1.026501</td>\n      <td>1.487503</td>\n      <td>2.241386</td>\n    </tr>\n    <tr>\n      <th>...</th>\n      <td>...</td>\n      <td>...</td>\n      <td>...</td>\n      <td>...</td>\n      <td>...</td>\n      <td>...</td>\n      <td>...</td>\n      <td>...</td>\n      <td>...</td>\n      <td>...</td>\n      <td>...</td>\n      <td>...</td>\n      <td>...</td>\n      <td>...</td>\n    </tr>\n    <tr>\n      <th>501</th>\n      <td>-0.413229</td>\n      <td>-0.487722</td>\n      <td>0.115738</td>\n      <td>-0.272599</td>\n      <td>0.158124</td>\n      <td>0.439316</td>\n      <td>0.018673</td>\n      <td>-0.625796</td>\n      <td>-0.982843</td>\n      <td>-0.803212</td>\n      <td>1.176466</td>\n      <td>-0.418147</td>\n      <td>-0.014454</td>\n      <td>-0.446153</td>\n    </tr>\n    <tr>\n      <th>502</th>\n      <td>-0.415249</td>\n      <td>-0.487722</td>\n      <td>0.115738</td>\n      <td>-0.272599</td>\n      <td>0.158124</td>\n      <td>-0.234548</td>\n      <td>0.288933</td>\n      <td>-0.716639</td>\n      <td>-0.982843</td>\n      <td>-0.803212</td>\n      <td>1.176466</td>\n      <td>-0.500850</td>\n      <td>-0.210362</td>\n      <td>-0.446153</td>\n    </tr>\n    <tr>\n      <th>503</th>\n      <td>-0.413447</td>\n      <td>-0.487722</td>\n      <td>0.115738</td>\n      <td>-0.272599</td>\n      <td>0.158124</td>\n      <td>0.984960</td>\n      <td>0.797449</td>\n      <td>-0.773684</td>\n      <td>-0.982843</td>\n      <td>-0.803212</td>\n      <td>1.176466</td>\n      <td>-0.983048</td>\n      <td>0.148802</td>\n      <td>-0.446153</td>\n    </tr>\n    <tr>\n      <th>504</th>\n      <td>-0.407764</td>\n      <td>-0.487722</td>\n      <td>0.115738</td>\n      <td>-0.272599</td>\n      <td>0.158124</td>\n      <td>0.725672</td>\n      <td>0.736996</td>\n      <td>-0.668437</td>\n      <td>-0.982843</td>\n      <td>-0.803212</td>\n      <td>1.176466</td>\n      <td>-0.865302</td>\n      <td>-0.057989</td>\n      <td>-0.446153</td>\n    </tr>\n    <tr>\n      <th>505</th>\n      <td>-0.415000</td>\n      <td>-0.487722</td>\n      <td>0.115738</td>\n      <td>-0.272599</td>\n      <td>0.158124</td>\n      <td>-0.362767</td>\n      <td>0.434732</td>\n      <td>-0.613246</td>\n      <td>-0.982843</td>\n      <td>-0.803212</td>\n      <td>1.176466</td>\n      <td>-0.669058</td>\n      <td>-1.157248</td>\n      <td>-0.446153</td>\n    </tr>\n  </tbody>\n</table>\n<p>506 rows × 14 columns</p>\n</div>"
          },
          "metadata": {}
        }
      ]
    },
    {
      "cell_type": "code",
      "metadata": {
        "tags": [],
        "cell_id": "00004-db4ea25b-1565-4a9c-a72e-863386222ad3",
        "deepnote_to_be_reexecuted": false,
        "source_hash": "2f02d3c2",
        "execution_millis": 44,
        "execution_start": 1615582835359,
        "deepnote_cell_type": "code"
      },
      "source": "# use NearestNeighbors from scikit-learn to compute knn\nfrom sklearn.neighbors import NearestNeighbors, KNeighborsClassifier\nfrom sklearn.metrics import accuracy_score\n\n# Transform the full dataset\ntrainNorm = normbh_df.iloc[trainData.index]\nvalidNorm = normbh_df.iloc[validData.index]\n\n# create a list of predictor variables by remvoing output variables and text columns\nexcludeColumns = ('CAT. MEDV', 'MEDV')\npredictors = [s for s in normbh_df.columns if s not in excludeColumns]\noutcome = 'MEDV'\n\ntrain_X = trainNorm[predictors]\ntrain_y = trainNorm[outcome]\nvalid_X = validNorm[predictors]\nvalid_y = validNorm[outcome]\n\n# Train a classifier for different values of k\nresults = []\n\n# for k in range(1, 5):\nfor k in range(1, 6):\n    # knn = KNeighborsClassifier(n_neighbors=k).fit(train_X, train_y)\n    knn = KNeighborsRegressor(n_neighbors=k).fit(train_X, train_y)\n    results.append({\n        'k': k,\n        # 'accuracy': accuracy_score(valid_y, knn.predict(valid_X))\n        'RMSE': math.sqrt(mean_squared_error(valid_y, knn.predict(valid_X)))\n        })\n\n# Convert results to a pandas data frame\nresults = pd.DataFrame(results)\nprint(results)",
      "execution_count": 6,
      "outputs": [
        {
          "name": "stdout",
          "text": "   k      RMSE\n0  1  0.571678\n1  2  0.498648\n2  3  0.513700\n3  4  0.540960\n4  5  0.555734\n",
          "output_type": "stream"
        }
      ]
    },
    {
      "cell_type": "markdown",
      "source": "### Predicting\n\nThe model with k=1 or k=5 seem to be performing the best. Leaving additional neightbors makes analysis more challenging so to simplify, in this case, k=1 should yield a good prediction.\n\nWe run our model with k=1 on the data in the newTract to see where it compares.",
      "metadata": {
        "tags": [],
        "cell_id": "00006-4a9748e9-6bc6-47bb-96fe-33722b8e2e79",
        "deepnote_cell_type": "markdown"
      }
    },
    {
      "cell_type": "code",
      "source": "knn = NearestNeighbors(n_neighbors=1)\nknn.fit(trainNorm.iloc[:, 0:12])\ndistances, indices = knn.kneighbors(newTract)\n\n# indices is a list of lists, we are only interested in the first element\ntrainNorm.iloc[indices[0], :]",
      "metadata": {
        "tags": [],
        "cell_id": "00007-6ef48db0-d266-40bd-9fbb-dea86308ed05",
        "deepnote_to_be_reexecuted": false,
        "source_hash": "808de6f2",
        "execution_millis": 44,
        "execution_start": 1615582839022,
        "deepnote_cell_type": "code"
      },
      "outputs": [
        {
          "output_type": "execute_result",
          "execution_count": 7,
          "data": {
            "application/vnd.deepnote.dataframe.v2+json": {
              "row_count": 1,
              "column_count": 14,
              "columns": [
                {
                  "name": "CRIM",
                  "dtype": "float64",
                  "stats": {
                    "unique_count": 1,
                    "nan_count": 0,
                    "min": -0.4082121118599417,
                    "max": -0.4082121118599417,
                    "histogram": [
                      {
                        "bin_start": -0.9082121118599418,
                        "bin_end": -0.8082121118599418,
                        "count": 0
                      },
                      {
                        "bin_start": -0.8082121118599418,
                        "bin_end": -0.7082121118599418,
                        "count": 0
                      },
                      {
                        "bin_start": -0.7082121118599418,
                        "bin_end": -0.6082121118599417,
                        "count": 0
                      },
                      {
                        "bin_start": -0.6082121118599417,
                        "bin_end": -0.5082121118599418,
                        "count": 0
                      },
                      {
                        "bin_start": -0.5082121118599418,
                        "bin_end": -0.4082121118599418,
                        "count": 0
                      },
                      {
                        "bin_start": -0.4082121118599418,
                        "bin_end": -0.3082121118599417,
                        "count": 1
                      },
                      {
                        "bin_start": -0.3082121118599417,
                        "bin_end": -0.2082121118599417,
                        "count": 0
                      },
                      {
                        "bin_start": -0.2082121118599417,
                        "bin_end": -0.10821211185994173,
                        "count": 0
                      },
                      {
                        "bin_start": -0.10821211185994173,
                        "bin_end": -0.00821211185994175,
                        "count": 0
                      },
                      {
                        "bin_start": -0.00821211185994175,
                        "bin_end": 0.09178788814005828,
                        "count": 0
                      }
                    ]
                  }
                },
                {
                  "name": "ZN",
                  "dtype": "float64",
                  "stats": {
                    "unique_count": 1,
                    "nan_count": 0,
                    "min": -0.48772236467012914,
                    "max": -0.48772236467012914,
                    "histogram": [
                      {
                        "bin_start": -0.9877223646701292,
                        "bin_end": -0.8877223646701292,
                        "count": 0
                      },
                      {
                        "bin_start": -0.8877223646701292,
                        "bin_end": -0.7877223646701292,
                        "count": 0
                      },
                      {
                        "bin_start": -0.7877223646701292,
                        "bin_end": -0.6877223646701291,
                        "count": 0
                      },
                      {
                        "bin_start": -0.6877223646701291,
                        "bin_end": -0.5877223646701292,
                        "count": 0
                      },
                      {
                        "bin_start": -0.5877223646701292,
                        "bin_end": -0.4877223646701292,
                        "count": 0
                      },
                      {
                        "bin_start": -0.4877223646701292,
                        "bin_end": -0.3877223646701291,
                        "count": 1
                      },
                      {
                        "bin_start": -0.3877223646701291,
                        "bin_end": -0.2877223646701291,
                        "count": 0
                      },
                      {
                        "bin_start": -0.2877223646701291,
                        "bin_end": -0.18772236467012915,
                        "count": 0
                      },
                      {
                        "bin_start": -0.18772236467012915,
                        "bin_end": -0.08772236467012917,
                        "count": 0
                      },
                      {
                        "bin_start": -0.08772236467012917,
                        "bin_end": 0.012277635329870862,
                        "count": 0
                      }
                    ]
                  }
                },
                {
                  "name": "INDUS",
                  "dtype": "float64",
                  "stats": {
                    "unique_count": 1,
                    "nan_count": 0,
                    "min": 2.422565163932244,
                    "max": 2.422565163932244,
                    "histogram": [
                      {
                        "bin_start": 1.9225651639322439,
                        "bin_end": 2.022565163932244,
                        "count": 0
                      },
                      {
                        "bin_start": 2.022565163932244,
                        "bin_end": 2.122565163932244,
                        "count": 0
                      },
                      {
                        "bin_start": 2.122565163932244,
                        "bin_end": 2.222565163932244,
                        "count": 0
                      },
                      {
                        "bin_start": 2.222565163932244,
                        "bin_end": 2.3225651639322438,
                        "count": 0
                      },
                      {
                        "bin_start": 2.3225651639322438,
                        "bin_end": 2.422565163932244,
                        "count": 0
                      },
                      {
                        "bin_start": 2.422565163932244,
                        "bin_end": 2.522565163932244,
                        "count": 1
                      },
                      {
                        "bin_start": 2.522565163932244,
                        "bin_end": 2.622565163932244,
                        "count": 0
                      },
                      {
                        "bin_start": 2.622565163932244,
                        "bin_end": 2.722565163932244,
                        "count": 0
                      },
                      {
                        "bin_start": 2.722565163932244,
                        "bin_end": 2.8225651639322438,
                        "count": 0
                      },
                      {
                        "bin_start": 2.8225651639322438,
                        "bin_end": 2.922565163932244,
                        "count": 0
                      }
                    ]
                  }
                },
                {
                  "name": "CHAS",
                  "dtype": "float64",
                  "stats": {
                    "unique_count": 1,
                    "nan_count": 0,
                    "min": -0.27259856706992697,
                    "max": -0.27259856706992697,
                    "histogram": [
                      {
                        "bin_start": -0.7725985670699269,
                        "bin_end": -0.6725985670699269,
                        "count": 0
                      },
                      {
                        "bin_start": -0.6725985670699269,
                        "bin_end": -0.572598567069927,
                        "count": 0
                      },
                      {
                        "bin_start": -0.572598567069927,
                        "bin_end": -0.47259856706992687,
                        "count": 0
                      },
                      {
                        "bin_start": -0.47259856706992687,
                        "bin_end": -0.3725985670699269,
                        "count": 0
                      },
                      {
                        "bin_start": -0.3725985670699269,
                        "bin_end": -0.2725985670699269,
                        "count": 1
                      },
                      {
                        "bin_start": -0.2725985670699269,
                        "bin_end": -0.17259856706992682,
                        "count": 0
                      },
                      {
                        "bin_start": -0.17259856706992682,
                        "bin_end": -0.07259856706992684,
                        "count": 0
                      },
                      {
                        "bin_start": -0.07259856706992684,
                        "bin_end": 0.027401432930073133,
                        "count": 0
                      },
                      {
                        "bin_start": 0.027401432930073133,
                        "bin_end": 0.1274014329300731,
                        "count": 0
                      },
                      {
                        "bin_start": 0.1274014329300731,
                        "bin_end": 0.22740143293007303,
                        "count": 0
                      }
                    ]
                  }
                },
                {
                  "name": "NOX",
                  "dtype": "float64",
                  "stats": {
                    "unique_count": 1,
                    "nan_count": 0,
                    "min": 0.46910400191583346,
                    "max": 0.46910400191583346,
                    "histogram": [
                      {
                        "bin_start": -0.030895998084166543,
                        "bin_end": 0.06910400191583346,
                        "count": 0
                      },
                      {
                        "bin_start": 0.06910400191583346,
                        "bin_end": 0.16910400191583347,
                        "count": 0
                      },
                      {
                        "bin_start": 0.16910400191583347,
                        "bin_end": 0.2691040019158335,
                        "count": 0
                      },
                      {
                        "bin_start": 0.2691040019158335,
                        "bin_end": 0.3691040019158335,
                        "count": 0
                      },
                      {
                        "bin_start": 0.3691040019158335,
                        "bin_end": 0.46910400191583346,
                        "count": 0
                      },
                      {
                        "bin_start": 0.46910400191583346,
                        "bin_end": 0.5691040019158335,
                        "count": 1
                      },
                      {
                        "bin_start": 0.5691040019158335,
                        "bin_end": 0.6691040019158335,
                        "count": 0
                      },
                      {
                        "bin_start": 0.6691040019158335,
                        "bin_end": 0.7691040019158335,
                        "count": 0
                      },
                      {
                        "bin_start": 0.7691040019158335,
                        "bin_end": 0.8691040019158335,
                        "count": 0
                      },
                      {
                        "bin_start": 0.8691040019158335,
                        "bin_end": 0.9691040019158335,
                        "count": 0
                      }
                    ]
                  }
                },
                {
                  "name": "RM",
                  "dtype": "float64",
                  "stats": {
                    "unique_count": 1,
                    "nan_count": 0,
                    "min": -0.42972604695225103,
                    "max": -0.42972604695225103,
                    "histogram": [
                      {
                        "bin_start": -0.929726046952251,
                        "bin_end": -0.829726046952251,
                        "count": 0
                      },
                      {
                        "bin_start": -0.829726046952251,
                        "bin_end": -0.7297260469522511,
                        "count": 0
                      },
                      {
                        "bin_start": -0.7297260469522511,
                        "bin_end": -0.629726046952251,
                        "count": 0
                      },
                      {
                        "bin_start": -0.629726046952251,
                        "bin_end": -0.529726046952251,
                        "count": 0
                      },
                      {
                        "bin_start": -0.529726046952251,
                        "bin_end": -0.42972604695225103,
                        "count": 0
                      },
                      {
                        "bin_start": -0.42972604695225103,
                        "bin_end": -0.32972604695225094,
                        "count": 1
                      },
                      {
                        "bin_start": -0.32972604695225094,
                        "bin_end": -0.22972604695225096,
                        "count": 0
                      },
                      {
                        "bin_start": -0.22972604695225096,
                        "bin_end": -0.12972604695225098,
                        "count": 0
                      },
                      {
                        "bin_start": -0.12972604695225098,
                        "bin_end": -0.029726046952251006,
                        "count": 0
                      },
                      {
                        "bin_start": -0.029726046952251006,
                        "bin_end": 0.07027395304774897,
                        "count": 0
                      }
                    ]
                  }
                },
                {
                  "name": "AGE",
                  "dtype": "float64",
                  "stats": {
                    "unique_count": 1,
                    "nan_count": 0,
                    "min": 1.0748217989057522,
                    "max": 1.0748217989057522,
                    "histogram": [
                      {
                        "bin_start": 0.5748217989057522,
                        "bin_end": 0.6748217989057522,
                        "count": 0
                      },
                      {
                        "bin_start": 0.6748217989057522,
                        "bin_end": 0.7748217989057522,
                        "count": 0
                      },
                      {
                        "bin_start": 0.7748217989057522,
                        "bin_end": 0.8748217989057523,
                        "count": 0
                      },
                      {
                        "bin_start": 0.8748217989057523,
                        "bin_end": 0.9748217989057523,
                        "count": 0
                      },
                      {
                        "bin_start": 0.9748217989057523,
                        "bin_end": 1.0748217989057522,
                        "count": 0
                      },
                      {
                        "bin_start": 1.0748217989057522,
                        "bin_end": 1.1748217989057523,
                        "count": 1
                      },
                      {
                        "bin_start": 1.1748217989057523,
                        "bin_end": 1.2748217989057524,
                        "count": 0
                      },
                      {
                        "bin_start": 1.2748217989057524,
                        "bin_end": 1.3748217989057523,
                        "count": 0
                      },
                      {
                        "bin_start": 1.3748217989057523,
                        "bin_end": 1.4748217989057522,
                        "count": 0
                      },
                      {
                        "bin_start": 1.4748217989057522,
                        "bin_end": 1.5748217989057522,
                        "count": 0
                      }
                    ]
                  }
                },
                {
                  "name": "DIS",
                  "dtype": "float64",
                  "stats": {
                    "unique_count": 1,
                    "nan_count": 0,
                    "min": -0.9160090858898404,
                    "max": -0.9160090858898404,
                    "histogram": [
                      {
                        "bin_start": -1.4160090858898404,
                        "bin_end": -1.3160090858898403,
                        "count": 0
                      },
                      {
                        "bin_start": -1.3160090858898403,
                        "bin_end": -1.2160090858898405,
                        "count": 0
                      },
                      {
                        "bin_start": -1.2160090858898405,
                        "bin_end": -1.1160090858898404,
                        "count": 0
                      },
                      {
                        "bin_start": -1.1160090858898404,
                        "bin_end": -1.0160090858898405,
                        "count": 0
                      },
                      {
                        "bin_start": -1.0160090858898405,
                        "bin_end": -0.9160090858898404,
                        "count": 0
                      },
                      {
                        "bin_start": -0.9160090858898404,
                        "bin_end": -0.8160090858898403,
                        "count": 1
                      },
                      {
                        "bin_start": -0.8160090858898403,
                        "bin_end": -0.7160090858898404,
                        "count": 0
                      },
                      {
                        "bin_start": -0.7160090858898404,
                        "bin_end": -0.6160090858898404,
                        "count": 0
                      },
                      {
                        "bin_start": -0.6160090858898404,
                        "bin_end": -0.5160090858898404,
                        "count": 0
                      },
                      {
                        "bin_start": -0.5160090858898404,
                        "bin_end": -0.4160090858898404,
                        "count": 0
                      }
                    ]
                  }
                },
                {
                  "name": "RAD",
                  "dtype": "float64",
                  "stats": {
                    "unique_count": 1,
                    "nan_count": 0,
                    "min": -0.6379617988442783,
                    "max": -0.6379617988442783,
                    "histogram": [
                      {
                        "bin_start": -1.1379617988442783,
                        "bin_end": -1.0379617988442782,
                        "count": 0
                      },
                      {
                        "bin_start": -1.0379617988442782,
                        "bin_end": -0.9379617988442783,
                        "count": 0
                      },
                      {
                        "bin_start": -0.9379617988442783,
                        "bin_end": -0.8379617988442782,
                        "count": 0
                      },
                      {
                        "bin_start": -0.8379617988442782,
                        "bin_end": -0.7379617988442783,
                        "count": 0
                      },
                      {
                        "bin_start": -0.7379617988442783,
                        "bin_end": -0.6379617988442783,
                        "count": 0
                      },
                      {
                        "bin_start": -0.6379617988442783,
                        "bin_end": -0.5379617988442782,
                        "count": 1
                      },
                      {
                        "bin_start": -0.5379617988442782,
                        "bin_end": -0.4379617988442782,
                        "count": 0
                      },
                      {
                        "bin_start": -0.4379617988442782,
                        "bin_end": -0.33796179884427824,
                        "count": 0
                      },
                      {
                        "bin_start": -0.33796179884427824,
                        "bin_end": -0.23796179884427826,
                        "count": 0
                      },
                      {
                        "bin_start": -0.23796179884427826,
                        "bin_end": -0.13796179884427828,
                        "count": 0
                      }
                    ]
                  }
                },
                {
                  "name": "TAX",
                  "dtype": "float64",
                  "stats": {
                    "unique_count": 1,
                    "nan_count": 0,
                    "min": 1.7981941894212958,
                    "max": 1.7981941894212958,
                    "histogram": [
                      {
                        "bin_start": 1.2981941894212958,
                        "bin_end": 1.398194189421296,
                        "count": 0
                      },
                      {
                        "bin_start": 1.398194189421296,
                        "bin_end": 1.4981941894212958,
                        "count": 0
                      },
                      {
                        "bin_start": 1.4981941894212958,
                        "bin_end": 1.5981941894212959,
                        "count": 0
                      },
                      {
                        "bin_start": 1.5981941894212959,
                        "bin_end": 1.698194189421296,
                        "count": 0
                      },
                      {
                        "bin_start": 1.698194189421296,
                        "bin_end": 1.798194189421296,
                        "count": 1
                      },
                      {
                        "bin_start": 1.798194189421296,
                        "bin_end": 1.898194189421296,
                        "count": 0
                      },
                      {
                        "bin_start": 1.898194189421296,
                        "bin_end": 1.998194189421296,
                        "count": 0
                      },
                      {
                        "bin_start": 1.998194189421296,
                        "bin_end": 2.098194189421296,
                        "count": 0
                      },
                      {
                        "bin_start": 2.098194189421296,
                        "bin_end": 2.198194189421296,
                        "count": 0
                      },
                      {
                        "bin_start": 2.198194189421296,
                        "bin_end": 2.298194189421296,
                        "count": 0
                      }
                    ]
                  }
                },
                {
                  "name": "PTRATIO",
                  "dtype": "float64",
                  "stats": {
                    "unique_count": 1,
                    "nan_count": 0,
                    "min": 0.7603395856633436,
                    "max": 0.7603395856633436,
                    "histogram": [
                      {
                        "bin_start": 0.2603395856633436,
                        "bin_end": 0.36033958566334356,
                        "count": 0
                      },
                      {
                        "bin_start": 0.36033958566334356,
                        "bin_end": 0.4603395856633436,
                        "count": 0
                      },
                      {
                        "bin_start": 0.4603395856633436,
                        "bin_end": 0.5603395856633436,
                        "count": 0
                      },
                      {
                        "bin_start": 0.5603395856633436,
                        "bin_end": 0.6603395856633436,
                        "count": 0
                      },
                      {
                        "bin_start": 0.6603395856633436,
                        "bin_end": 0.7603395856633436,
                        "count": 0
                      },
                      {
                        "bin_start": 0.7603395856633436,
                        "bin_end": 0.8603395856633437,
                        "count": 1
                      },
                      {
                        "bin_start": 0.8603395856633437,
                        "bin_end": 0.9603395856633437,
                        "count": 0
                      },
                      {
                        "bin_start": 0.9603395856633437,
                        "bin_end": 1.0603395856633435,
                        "count": 0
                      },
                      {
                        "bin_start": 1.0603395856633435,
                        "bin_end": 1.1603395856633436,
                        "count": 0
                      },
                      {
                        "bin_start": 1.1603395856633436,
                        "bin_end": 1.2603395856633437,
                        "count": 0
                      }
                    ]
                  }
                },
                {
                  "name": "LSTAT",
                  "dtype": "float64",
                  "stats": {
                    "unique_count": 1,
                    "nan_count": 0,
                    "min": 0.759312519787507,
                    "max": 0.759312519787507,
                    "histogram": [
                      {
                        "bin_start": 0.259312519787507,
                        "bin_end": 0.359312519787507,
                        "count": 0
                      },
                      {
                        "bin_start": 0.359312519787507,
                        "bin_end": 0.45931251978750703,
                        "count": 0
                      },
                      {
                        "bin_start": 0.45931251978750703,
                        "bin_end": 0.5593125197875071,
                        "count": 0
                      },
                      {
                        "bin_start": 0.5593125197875071,
                        "bin_end": 0.659312519787507,
                        "count": 0
                      },
                      {
                        "bin_start": 0.659312519787507,
                        "bin_end": 0.759312519787507,
                        "count": 0
                      },
                      {
                        "bin_start": 0.759312519787507,
                        "bin_end": 0.8593125197875071,
                        "count": 1
                      },
                      {
                        "bin_start": 0.8593125197875071,
                        "bin_end": 0.9593125197875071,
                        "count": 0
                      },
                      {
                        "bin_start": 0.9593125197875071,
                        "bin_end": 1.059312519787507,
                        "count": 0
                      },
                      {
                        "bin_start": 1.059312519787507,
                        "bin_end": 1.1593125197875072,
                        "count": 0
                      },
                      {
                        "bin_start": 1.1593125197875072,
                        "bin_end": 1.259312519787507,
                        "count": 0
                      }
                    ]
                  }
                },
                {
                  "name": "MEDV",
                  "dtype": "float64",
                  "stats": {
                    "unique_count": 1,
                    "nan_count": 0,
                    "min": -0.972224107478546,
                    "max": -0.972224107478546,
                    "histogram": [
                      {
                        "bin_start": -1.472224107478546,
                        "bin_end": -1.372224107478546,
                        "count": 0
                      },
                      {
                        "bin_start": -1.372224107478546,
                        "bin_end": -1.272224107478546,
                        "count": 0
                      },
                      {
                        "bin_start": -1.272224107478546,
                        "bin_end": -1.172224107478546,
                        "count": 0
                      },
                      {
                        "bin_start": -1.172224107478546,
                        "bin_end": -1.072224107478546,
                        "count": 0
                      },
                      {
                        "bin_start": -1.072224107478546,
                        "bin_end": -0.972224107478546,
                        "count": 0
                      },
                      {
                        "bin_start": -0.972224107478546,
                        "bin_end": -0.872224107478546,
                        "count": 1
                      },
                      {
                        "bin_start": -0.872224107478546,
                        "bin_end": -0.772224107478546,
                        "count": 0
                      },
                      {
                        "bin_start": -0.772224107478546,
                        "bin_end": -0.672224107478546,
                        "count": 0
                      },
                      {
                        "bin_start": -0.672224107478546,
                        "bin_end": -0.572224107478546,
                        "count": 0
                      },
                      {
                        "bin_start": -0.572224107478546,
                        "bin_end": -0.47222410747854604,
                        "count": 0
                      }
                    ]
                  }
                },
                {
                  "name": "CAT. MEDV",
                  "dtype": "float64",
                  "stats": {
                    "unique_count": 1,
                    "nan_count": 0,
                    "min": -0.44615258903364197,
                    "max": -0.44615258903364197,
                    "histogram": [
                      {
                        "bin_start": -0.946152589033642,
                        "bin_end": -0.846152589033642,
                        "count": 0
                      },
                      {
                        "bin_start": -0.846152589033642,
                        "bin_end": -0.746152589033642,
                        "count": 0
                      },
                      {
                        "bin_start": -0.746152589033642,
                        "bin_end": -0.6461525890336419,
                        "count": 0
                      },
                      {
                        "bin_start": -0.6461525890336419,
                        "bin_end": -0.5461525890336419,
                        "count": 0
                      },
                      {
                        "bin_start": -0.5461525890336419,
                        "bin_end": -0.44615258903364197,
                        "count": 0
                      },
                      {
                        "bin_start": -0.44615258903364197,
                        "bin_end": -0.3461525890336419,
                        "count": 1
                      },
                      {
                        "bin_start": -0.3461525890336419,
                        "bin_end": -0.2461525890336419,
                        "count": 0
                      },
                      {
                        "bin_start": -0.2461525890336419,
                        "bin_end": -0.14615258903364192,
                        "count": 0
                      },
                      {
                        "bin_start": -0.14615258903364192,
                        "bin_end": -0.046152589033641944,
                        "count": 0
                      },
                      {
                        "bin_start": -0.046152589033641944,
                        "bin_end": 0.053847410966358034,
                        "count": 0
                      }
                    ]
                  }
                },
                {
                  "name": "_deepnote_index_column",
                  "dtype": "int64"
                }
              ],
              "rows_top": [
                {
                  "CRIM": -0.4082121118599417,
                  "ZN": -0.48772236467012914,
                  "INDUS": 2.422565163932244,
                  "CHAS": -0.27259856706992697,
                  "NOX": 0.46910400191583346,
                  "RM": -0.42972604695225103,
                  "AGE": 1.0748217989057522,
                  "DIS": -0.9160090858898404,
                  "RAD": -0.6379617988442783,
                  "TAX": 1.7981941894212958,
                  "PTRATIO": 0.7603395856633436,
                  "LSTAT": 0.759312519787507,
                  "MEDV": -0.972224107478546,
                  "CAT. MEDV": -0.44615258903364197,
                  "_deepnote_index_column": 491
                }
              ],
              "rows_bottom": null
            },
            "text/plain": "         CRIM        ZN     INDUS      CHAS       NOX        RM       AGE  \\\n491 -0.408212 -0.487722  2.422565 -0.272599  0.469104 -0.429726  1.074822   \n\n          DIS       RAD       TAX  PTRATIO     LSTAT      MEDV  CAT. MEDV  \n491 -0.916009 -0.637962  1.798194  0.76034  0.759313 -0.972224  -0.446153  ",
            "text/html": "<div>\n<style scoped>\n    .dataframe tbody tr th:only-of-type {\n        vertical-align: middle;\n    }\n\n    .dataframe tbody tr th {\n        vertical-align: top;\n    }\n\n    .dataframe thead th {\n        text-align: right;\n    }\n</style>\n<table border=\"1\" class=\"dataframe\">\n  <thead>\n    <tr style=\"text-align: right;\">\n      <th></th>\n      <th>CRIM</th>\n      <th>ZN</th>\n      <th>INDUS</th>\n      <th>CHAS</th>\n      <th>NOX</th>\n      <th>RM</th>\n      <th>AGE</th>\n      <th>DIS</th>\n      <th>RAD</th>\n      <th>TAX</th>\n      <th>PTRATIO</th>\n      <th>LSTAT</th>\n      <th>MEDV</th>\n      <th>CAT. MEDV</th>\n    </tr>\n  </thead>\n  <tbody>\n    <tr>\n      <th>491</th>\n      <td>-0.408212</td>\n      <td>-0.487722</td>\n      <td>2.422565</td>\n      <td>-0.272599</td>\n      <td>0.469104</td>\n      <td>-0.429726</td>\n      <td>1.074822</td>\n      <td>-0.916009</td>\n      <td>-0.637962</td>\n      <td>1.798194</td>\n      <td>0.76034</td>\n      <td>0.759313</td>\n      <td>-0.972224</td>\n      <td>-0.446153</td>\n    </tr>\n  </tbody>\n</table>\n</div>"
          },
          "metadata": {}
        }
      ],
      "execution_count": 7
    },
    {
      "cell_type": "markdown",
      "source": "<a style='text-decoration:none;line-height:16px;display:flex;color:#5B5B62;padding:10px;justify-content:end;' href='https://deepnote.com?utm_source=created-in-deepnote-cell&projectId=52e9ae2e-8d42-48c9-9988-588f5a262306' target=\"_blank\">\n<img style='display:inline;max-height:16px;margin:0px;margin-right:7.5px;' src='data:image/svg+xml;base64,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' > </img>\nCreated in <span style='font-weight:600;margin-left:4px;'>Deepnote</span></a>",
      "metadata": {
        "tags": [],
        "created_in_deepnote_cell": true,
        "deepnote_cell_type": "markdown"
      }
    }
  ],
  "nbformat": 4,
  "nbformat_minor": 2,
  "metadata": {
    "orig_nbformat": 2,
    "deepnote_notebook_id": "b94de24b-e5e2-43ea-947d-cf25e88f7619",
    "deepnote": {},
    "deepnote_execution_queue": []
  }
}