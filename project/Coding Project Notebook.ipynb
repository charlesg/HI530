{
  "cells": [
    {
      "cell_type": "markdown",
      "source": "## Wiki Project\n\nThis project will be working with a diabetic dataset to evaluate predicting/explaining factors for diabetic patients' readmissions. A journal article related to this dataset is also attached to give the background about this dataset. For additional information about this dataset, see:\n\nhttps://archive.ics.uci.edu/ml/datasets/diabetes+130-us+hospitals+for+years+1999-2008\n",
      "metadata": {
        "cell_id": "00000-b198ce3c-d601-46df-b857-276857622616",
        "deepnote_cell_type": "markdown"
      }
    },
    {
      "cell_type": "markdown",
      "source": "1. Preprocess your data.\n    1. Handle missing variables*\n    1. Code your categorical (e.g., using the get_dummies() or bag of words)*\n    1. Bin your numerical variables*\n    1. Conduct correlation analysis*\n    1. Combine variables\n    1. Apply data reduction techniques for numerical variables (e.g., PCA, SVD)\n    1. Balance your classes",
      "metadata": {
        "cell_id": "00001-ce1dc6f4-fc09-4684-aa1b-78d4edbf9e20",
        "deepnote_cell_type": "markdown"
      }
    },
    {
      "cell_type": "code",
      "metadata": {
        "cell_id": "00002-53d27fd4-77e4-4739-aadd-d50382d9545c",
        "deepnote_to_be_reexecuted": false,
        "source_hash": "bdee9125",
        "execution_millis": 2,
        "execution_start": 1619292307660,
        "deepnote_cell_type": "code"
      },
      "source": "from zipfile import ZipFile\nimport pandas as pd\n",
      "outputs": [],
      "execution_count": null
    },
    {
      "cell_type": "code",
      "metadata": {
        "cell_id": "00003-62ee2333-beec-4b45-8a4f-10e093c34430",
        "deepnote_to_be_reexecuted": false,
        "source_hash": "cc5718a5",
        "execution_millis": 9,
        "execution_start": 1619292308892,
        "deepnote_cell_type": "code"
      },
      "source": "# Inputs\ndatafile=\"dataset_diabetes.zip\"",
      "outputs": [],
      "execution_count": null
    },
    {
      "cell_type": "code",
      "metadata": {
        "cell_id": "00004-723a78f6-d3a8-4dd5-a1f9-74adb96decd2",
        "deepnote_to_be_reexecuted": false,
        "source_hash": "7fa792d",
        "execution_millis": 2364,
        "execution_start": 1619292751838,
        "deepnote_cell_type": "code"
      },
      "source": "mapping=[]\ndiabetic=[]\n\nwith ZipFile(datafile) as rawData:\n        for info in rawData.infolist():\n            print(\"Reading: \", info.filename)\n            with rawData.open(info.filename) as f:\n                if 'IDs_mapping' in info.filename:\n                    mapping = pd.read_csv(f)\n                else:\n                    diabetic = pd.read_csv(f)\n\n# Removing Colums with too many unknow values\ndropped_Cols=['weight', 'medical_specialty', 'payer_code']\ndiabetic.drop(columns=dropped_Cols, inplace=True)\n# Drop remaining rows with unknown values\ndiabetic.drop(index=(diabetic[diabetic.isin(['?']).any(axis=1)].index), inplace=True)\n# Let's check what's left\ndiabetic.shape\n\ndiabetic = pd.get_dummies(diabetic, prefix_sep='_', drop_first=False)\n\n",
      "outputs": [
        {
          "name": "stdout",
          "text": "Reading:  dataset_diabetes/diabetic_data.csv\nReading:  dataset_diabetes/IDs_mapping.csv\n",
          "output_type": "stream"
        }
      ],
      "execution_count": null
    },
    {
      "cell_type": "code",
      "metadata": {
        "cell_id": "00005-4cc7c069-4a44-41de-b4ab-f88500da40fd",
        "deepnote_to_be_reexecuted": false,
        "source_hash": "e6d3cf79",
        "execution_millis": 5386,
        "execution_start": 1619293815883,
        "deepnote_cell_type": "code"
      },
      "source": "pd.DataFrame({'mean': diabetic.mean(),\n              'sd': diabetic.std(),\n              'min': diabetic.min(),\n              'max': diabetic.max(),\n              'median': diabetic.median(),\n              'length': len(diabetic),\n              'miss.val': diabetic.isnull().sum(),\n             })",
      "outputs": [
        {
          "output_type": "execute_result",
          "execution_count": 22,
          "data": {
            "application/vnd.deepnote.dataframe.v2+json": {
              "row_count": 2355,
              "column_count": 7,
              "columns": [
                {
                  "name": "mean",
                  "dtype": "float64",
                  "stats": {
                    "unique_count": 463,
                    "nan_count": 0,
                    "min": "1.0198566081608925e-05",
                    "max": "165829423.01698062",
                    "histogram": [
                      {
                        "bin_start": 0.000010198566081608925,
                        "bin_end": 16582942.30170724,
                        "count": 2353
                      },
                      {
                        "bin_start": 16582942.30170724,
                        "bin_end": 33165884.603404284,
                        "count": 0
                      },
                      {
                        "bin_start": 33165884.603404284,
                        "bin_end": 49748826.90510132,
                        "count": 0
                      },
                      {
                        "bin_start": 49748826.90510132,
                        "bin_end": 66331769.20679837,
                        "count": 1
                      },
                      {
                        "bin_start": 66331769.20679837,
                        "bin_end": 82914711.5084954,
                        "count": 0
                      },
                      {
                        "bin_start": 82914711.5084954,
                        "bin_end": 99497653.81019244,
                        "count": 0
                      },
                      {
                        "bin_start": 99497653.81019244,
                        "bin_end": 116080596.11188948,
                        "count": 0
                      },
                      {
                        "bin_start": 116080596.11188948,
                        "bin_end": 132663538.41358653,
                        "count": 0
                      },
                      {
                        "bin_start": 132663538.41358653,
                        "bin_end": 149246480.71528357,
                        "count": 0
                      },
                      {
                        "bin_start": 149246480.71528357,
                        "bin_end": 165829423.01698062,
                        "count": 1
                      }
                    ]
                  }
                },
                {
                  "name": "sd",
                  "dtype": "float64",
                  "stats": {
                    "unique_count": 565,
                    "nan_count": 0,
                    "min": "0.0",
                    "max": "102432173.76507069",
                    "histogram": [
                      {
                        "bin_start": 0,
                        "bin_end": 10243217.37650707,
                        "count": 2353
                      },
                      {
                        "bin_start": 10243217.37650707,
                        "bin_end": 20486434.75301414,
                        "count": 0
                      },
                      {
                        "bin_start": 20486434.75301414,
                        "bin_end": 30729652.12952121,
                        "count": 0
                      },
                      {
                        "bin_start": 30729652.12952121,
                        "bin_end": 40972869.50602828,
                        "count": 1
                      },
                      {
                        "bin_start": 40972869.50602828,
                        "bin_end": 51216086.88253535,
                        "count": 0
                      },
                      {
                        "bin_start": 51216086.88253535,
                        "bin_end": 61459304.25904242,
                        "count": 0
                      },
                      {
                        "bin_start": 61459304.25904242,
                        "bin_end": 71702521.63554949,
                        "count": 0
                      },
                      {
                        "bin_start": 71702521.63554949,
                        "bin_end": 81945739.01205656,
                        "count": 0
                      },
                      {
                        "bin_start": 81945739.01205656,
                        "bin_end": 92188956.38856363,
                        "count": 0
                      },
                      {
                        "bin_start": 92188956.38856363,
                        "bin_end": 102432173.76507069,
                        "count": 1
                      }
                    ]
                  }
                },
                {
                  "name": "min",
                  "dtype": "int64",
                  "stats": {
                    "unique_count": 5,
                    "nan_count": 0,
                    "min": "0",
                    "max": "12522",
                    "histogram": [
                      {
                        "bin_start": 0,
                        "bin_end": 1252.2,
                        "count": 2354
                      },
                      {
                        "bin_start": 1252.2,
                        "bin_end": 2504.4,
                        "count": 0
                      },
                      {
                        "bin_start": 2504.4,
                        "bin_end": 3756.6000000000004,
                        "count": 0
                      },
                      {
                        "bin_start": 3756.6000000000004,
                        "bin_end": 5008.8,
                        "count": 0
                      },
                      {
                        "bin_start": 5008.8,
                        "bin_end": 6261,
                        "count": 0
                      },
                      {
                        "bin_start": 6261,
                        "bin_end": 7513.200000000001,
                        "count": 0
                      },
                      {
                        "bin_start": 7513.200000000001,
                        "bin_end": 8765.4,
                        "count": 0
                      },
                      {
                        "bin_start": 8765.4,
                        "bin_end": 10017.6,
                        "count": 0
                      },
                      {
                        "bin_start": 10017.6,
                        "bin_end": 11269.800000000001,
                        "count": 0
                      },
                      {
                        "bin_start": 11269.800000000001,
                        "bin_end": 12522,
                        "count": 1
                      }
                    ]
                  }
                },
                {
                  "name": "max",
                  "dtype": "int64",
                  "stats": {
                    "unique_count": 14,
                    "nan_count": 0,
                    "min": "1",
                    "max": "443867222",
                    "histogram": [
                      {
                        "bin_start": 1,
                        "bin_end": 44386723.1,
                        "count": 2353
                      },
                      {
                        "bin_start": 44386723.1,
                        "bin_end": 88773445.2,
                        "count": 0
                      },
                      {
                        "bin_start": 88773445.2,
                        "bin_end": 133160167.30000001,
                        "count": 0
                      },
                      {
                        "bin_start": 133160167.30000001,
                        "bin_end": 177546889.4,
                        "count": 0
                      },
                      {
                        "bin_start": 177546889.4,
                        "bin_end": 221933611.5,
                        "count": 1
                      },
                      {
                        "bin_start": 221933611.5,
                        "bin_end": 266320333.60000002,
                        "count": 0
                      },
                      {
                        "bin_start": 266320333.60000002,
                        "bin_end": 310707055.7,
                        "count": 0
                      },
                      {
                        "bin_start": 310707055.7,
                        "bin_end": 355093777.8,
                        "count": 0
                      },
                      {
                        "bin_start": 355093777.8,
                        "bin_end": 399480499.90000004,
                        "count": 0
                      },
                      {
                        "bin_start": 399480499.90000004,
                        "bin_end": 443867222,
                        "count": 1
                      }
                    ]
                  }
                },
                {
                  "name": "median",
                  "dtype": "float64",
                  "stats": {
                    "unique_count": 9,
                    "nan_count": 0,
                    "min": "0.0",
                    "max": "153301920.0",
                    "histogram": [
                      {
                        "bin_start": 0,
                        "bin_end": 15330192,
                        "count": 2353
                      },
                      {
                        "bin_start": 15330192,
                        "bin_end": 30660384,
                        "count": 0
                      },
                      {
                        "bin_start": 30660384,
                        "bin_end": 45990576,
                        "count": 0
                      },
                      {
                        "bin_start": 45990576,
                        "bin_end": 61320768,
                        "count": 1
                      },
                      {
                        "bin_start": 61320768,
                        "bin_end": 76650960,
                        "count": 0
                      },
                      {
                        "bin_start": 76650960,
                        "bin_end": 91981152,
                        "count": 0
                      },
                      {
                        "bin_start": 91981152,
                        "bin_end": 107311344,
                        "count": 0
                      },
                      {
                        "bin_start": 107311344,
                        "bin_end": 122641536,
                        "count": 0
                      },
                      {
                        "bin_start": 122641536,
                        "bin_end": 137971728,
                        "count": 0
                      },
                      {
                        "bin_start": 137971728,
                        "bin_end": 153301920,
                        "count": 1
                      }
                    ]
                  }
                },
                {
                  "name": "length",
                  "dtype": "int64",
                  "stats": {
                    "unique_count": 1,
                    "nan_count": 0,
                    "min": "98053",
                    "max": "98053",
                    "histogram": [
                      {
                        "bin_start": 98052.5,
                        "bin_end": 98052.6,
                        "count": 0
                      },
                      {
                        "bin_start": 98052.6,
                        "bin_end": 98052.7,
                        "count": 0
                      },
                      {
                        "bin_start": 98052.7,
                        "bin_end": 98052.8,
                        "count": 0
                      },
                      {
                        "bin_start": 98052.8,
                        "bin_end": 98052.9,
                        "count": 0
                      },
                      {
                        "bin_start": 98052.9,
                        "bin_end": 98053,
                        "count": 0
                      },
                      {
                        "bin_start": 98053,
                        "bin_end": 98053.1,
                        "count": 2355
                      },
                      {
                        "bin_start": 98053.1,
                        "bin_end": 98053.2,
                        "count": 0
                      },
                      {
                        "bin_start": 98053.2,
                        "bin_end": 98053.3,
                        "count": 0
                      },
                      {
                        "bin_start": 98053.3,
                        "bin_end": 98053.4,
                        "count": 0
                      },
                      {
                        "bin_start": 98053.4,
                        "bin_end": 98053.5,
                        "count": 0
                      }
                    ]
                  }
                },
                {
                  "name": "miss.val",
                  "dtype": "int64",
                  "stats": {
                    "unique_count": 1,
                    "nan_count": 0,
                    "min": "0",
                    "max": "0",
                    "histogram": [
                      {
                        "bin_start": -0.5,
                        "bin_end": -0.4,
                        "count": 0
                      },
                      {
                        "bin_start": -0.4,
                        "bin_end": -0.3,
                        "count": 0
                      },
                      {
                        "bin_start": -0.3,
                        "bin_end": -0.19999999999999996,
                        "count": 0
                      },
                      {
                        "bin_start": -0.19999999999999996,
                        "bin_end": -0.09999999999999998,
                        "count": 0
                      },
                      {
                        "bin_start": -0.09999999999999998,
                        "bin_end": 0,
                        "count": 0
                      },
                      {
                        "bin_start": 0,
                        "bin_end": 0.10000000000000009,
                        "count": 2355
                      },
                      {
                        "bin_start": 0.10000000000000009,
                        "bin_end": 0.20000000000000007,
                        "count": 0
                      },
                      {
                        "bin_start": 0.20000000000000007,
                        "bin_end": 0.30000000000000004,
                        "count": 0
                      },
                      {
                        "bin_start": 0.30000000000000004,
                        "bin_end": 0.4,
                        "count": 0
                      },
                      {
                        "bin_start": 0.4,
                        "bin_end": 0.5,
                        "count": 0
                      }
                    ]
                  }
                },
                {
                  "name": "_deepnote_index_column",
                  "dtype": "object"
                }
              ],
              "rows_top": [
                {
                  "mean": 165829423.01698062,
                  "sd": 102432173.76507069,
                  "min": 12522,
                  "max": 443867222,
                  "median": 153301920,
                  "length": 98053,
                  "miss.val": 0,
                  "_deepnote_index_column": "encounter_id"
                },
                {
                  "mean": 54847920.691054836,
                  "sd": 38661747.780193634,
                  "min": 135,
                  "max": 189502619,
                  "median": 46877904,
                  "length": 98053,
                  "miss.val": 0,
                  "_deepnote_index_column": "patient_nbr"
                },
                {
                  "mean": 2.025812570752552,
                  "sd": 1.4501172391134458,
                  "min": 1,
                  "max": 8,
                  "median": 1,
                  "length": 98053,
                  "miss.val": 0,
                  "_deepnote_index_column": "admission_type_id"
                },
                {
                  "mean": 3.753368076448451,
                  "sd": 5.309391793110764,
                  "min": 1,
                  "max": 28,
                  "median": 1,
                  "length": 98053,
                  "miss.val": 0,
                  "_deepnote_index_column": "discharge_disposition_id"
                },
                {
                  "mean": 5.776692197077091,
                  "sd": 4.071639572739288,
                  "min": 1,
                  "max": 25,
                  "median": 7,
                  "length": 98053,
                  "miss.val": 0,
                  "_deepnote_index_column": "admission_source_id"
                },
                {
                  "mean": 4.421975870192651,
                  "sd": 2.9930744630753474,
                  "min": 1,
                  "max": 14,
                  "median": 4,
                  "length": 98053,
                  "miss.val": 0,
                  "_deepnote_index_column": "time_in_hospital"
                },
                {
                  "mean": 43.14807298093888,
                  "sd": 19.712032942655185,
                  "min": 1,
                  "max": 132,
                  "median": 44,
                  "length": 98053,
                  "miss.val": 0,
                  "_deepnote_index_column": "num_lab_procedures"
                },
                {
                  "mean": 1.3507490846786943,
                  "sd": 1.70850588108188,
                  "min": 0,
                  "max": 6,
                  "median": 1,
                  "length": 98053,
                  "miss.val": 0,
                  "_deepnote_index_column": "num_procedures"
                },
                {
                  "mean": 16.119649577269435,
                  "sd": 8.108475917658756,
                  "min": 1,
                  "max": 81,
                  "median": 15,
                  "length": 98053,
                  "miss.val": 0,
                  "_deepnote_index_column": "num_medications"
                },
                {
                  "mean": 0.3763780812417774,
                  "sd": 1.2833594399881543,
                  "min": 0,
                  "max": 42,
                  "median": 0,
                  "length": 98053,
                  "miss.val": 0,
                  "_deepnote_index_column": "number_outpatient"
                },
                {
                  "mean": 0.2024619338521004,
                  "sd": 0.9428922899504525,
                  "min": 0,
                  "max": 76,
                  "median": 0,
                  "length": 98053,
                  "miss.val": 0,
                  "_deepnote_index_column": "number_emergency"
                },
                {
                  "mean": 0.6468644508582093,
                  "sd": 1.271020491632724,
                  "min": 0,
                  "max": 21,
                  "median": 0,
                  "length": 98053,
                  "miss.val": 0,
                  "_deepnote_index_column": "number_inpatient"
                },
                {
                  "mean": 7.512059804391503,
                  "sd": 1.8324968217307438,
                  "min": 3,
                  "max": 16,
                  "median": 8,
                  "length": 98053,
                  "miss.val": 0,
                  "_deepnote_index_column": "number_diagnoses"
                },
                {
                  "mean": 0.19255912618685814,
                  "sd": 0.39431167215712837,
                  "min": 0,
                  "max": 1,
                  "median": 0,
                  "length": 98053,
                  "miss.val": 0,
                  "_deepnote_index_column": "race_AfricanAmerican"
                },
                {
                  "mean": 0.006374103801005579,
                  "sd": 0.07958353595284386,
                  "min": 0,
                  "max": 1,
                  "median": 0,
                  "length": 98053,
                  "miss.val": 0,
                  "_deepnote_index_column": "race_Asian"
                },
                {
                  "mean": 0.7656981428411166,
                  "sd": 0.4235638400265758,
                  "min": 0,
                  "max": 1,
                  "median": 1,
                  "length": 98053,
                  "miss.val": 0,
                  "_deepnote_index_column": "race_Caucasian"
                },
                {
                  "mean": 0.02023395510591211,
                  "sd": 0.14080037056289785,
                  "min": 0,
                  "max": 1,
                  "median": 0,
                  "length": 98053,
                  "miss.val": 0,
                  "_deepnote_index_column": "race_Hispanic"
                },
                {
                  "mean": 0.015134672065107645,
                  "sd": 0.12208917144459064,
                  "min": 0,
                  "max": 1,
                  "median": 0,
                  "length": 98053,
                  "miss.val": 0,
                  "_deepnote_index_column": "race_Other"
                },
                {
                  "mean": 0.5388208417896444,
                  "sd": 0.4984932061124624,
                  "min": 0,
                  "max": 1,
                  "median": 1,
                  "length": 98053,
                  "miss.val": 0,
                  "_deepnote_index_column": "gender_Female"
                },
                {
                  "mean": 0.461168959644274,
                  "sd": 0.49849241177208886,
                  "min": 0,
                  "max": 1,
                  "median": 0,
                  "length": 98053,
                  "miss.val": 0,
                  "_deepnote_index_column": "gender_Male"
                },
                {
                  "mean": 0.000010198566081608925,
                  "sd": 0.0031935193880120614,
                  "min": 0,
                  "max": 1,
                  "median": 0,
                  "length": 98053,
                  "miss.val": 0,
                  "_deepnote_index_column": "gender_Unknown/Invalid"
                },
                {
                  "mean": 0.0006629067953045802,
                  "sd": 0.025738572341357017,
                  "min": 0,
                  "max": 1,
                  "median": 0,
                  "length": 98053,
                  "miss.val": 0,
                  "_deepnote_index_column": "age_[0-10)"
                },
                {
                  "mean": 0.004752531794029759,
                  "sd": 0.06877494801690155,
                  "min": 0,
                  "max": 1,
                  "median": 0,
                  "length": 98053,
                  "miss.val": 0,
                  "_deepnote_index_column": "age_[10-20)"
                },
                {
                  "mean": 0.015073480668617993,
                  "sd": 0.12184589554584635,
                  "min": 0,
                  "max": 1,
                  "median": 0,
                  "length": 98053,
                  "miss.val": 0,
                  "_deepnote_index_column": "age_[20-30)"
                },
                {
                  "mean": 0.036184512457548466,
                  "sd": 0.18674996438112404,
                  "min": 0,
                  "max": 1,
                  "median": 0,
                  "length": 98053,
                  "miss.val": 0,
                  "_deepnote_index_column": "age_[30-40)"
                },
                {
                  "mean": 0.09448971474610669,
                  "sd": 0.2925103095035877,
                  "min": 0,
                  "max": 1,
                  "median": 0,
                  "length": 98053,
                  "miss.val": 0,
                  "_deepnote_index_column": "age_[40-50)"
                },
                {
                  "mean": 0.17028545786462423,
                  "sd": 0.3758853038593427,
                  "min": 0,
                  "max": 1,
                  "median": 0,
                  "length": 98053,
                  "miss.val": 0,
                  "_deepnote_index_column": "age_[50-60)"
                },
                {
                  "mean": 0.22242052767380907,
                  "sd": 0.41587426032323677,
                  "min": 0,
                  "max": 1,
                  "median": 0,
                  "length": 98053,
                  "miss.val": 0,
                  "_deepnote_index_column": "age_[60-70)"
                },
                {
                  "mean": 0.2580849132611955,
                  "sd": 0.4375831848001432,
                  "min": 0,
                  "max": 1,
                  "median": 0,
                  "length": 98053,
                  "miss.val": 0,
                  "_deepnote_index_column": "age_[70-80)"
                },
                {
                  "mean": 0.17033645069503228,
                  "sd": 0.3759300274725838,
                  "min": 0,
                  "max": 1,
                  "median": 0,
                  "length": 98053,
                  "miss.val": 0,
                  "_deepnote_index_column": "age_[80-90)"
                },
                {
                  "mean": 0.027709504043731452,
                  "sd": 0.1641400688398897,
                  "min": 0,
                  "max": 1,
                  "median": 0,
                  "length": 98053,
                  "miss.val": 0,
                  "_deepnote_index_column": "age_[90-100)"
                },
                {
                  "mean": 0.000010198566081608925,
                  "sd": 0.0031935193880120614,
                  "min": 0,
                  "max": 1,
                  "median": 0,
                  "length": 98053,
                  "miss.val": 0,
                  "_deepnote_index_column": "diag_1_10"
                },
                {
                  "mean": 0.00010198566081608926,
                  "sd": 0.010098331533135014,
                  "min": 0,
                  "max": 1,
                  "median": 0,
                  "length": 98053,
                  "miss.val": 0,
                  "_deepnote_index_column": "diag_1_11"
                },
                {
                  "mean": 0.00002039713216321785,
                  "sd": 0.004516295399948509,
                  "min": 0,
                  "max": 1,
                  "median": 0,
                  "length": 98053,
                  "miss.val": 0,
                  "_deepnote_index_column": "diag_1_110"
                },
                {
                  "mean": 0.0007444953239574515,
                  "sd": 0.027275421864370892,
                  "min": 0,
                  "max": 1,
                  "median": 0,
                  "length": 98053,
                  "miss.val": 0,
                  "_deepnote_index_column": "diag_1_112"
                },
                {
                  "mean": 0.000010198566081608925,
                  "sd": 0.0031935193880120614,
                  "min": 0,
                  "max": 1,
                  "median": 0,
                  "length": 98053,
                  "miss.val": 0,
                  "_deepnote_index_column": "diag_1_114"
                },
                {
                  "mean": 0.00002039713216321785,
                  "sd": 0.004516295399948509,
                  "min": 0,
                  "max": 1,
                  "median": 0,
                  "length": 98053,
                  "miss.val": 0,
                  "_deepnote_index_column": "diag_1_115"
                },
                {
                  "mean": 0.0000815885286528714,
                  "sd": 0.00903231443160951,
                  "min": 0,
                  "max": 1,
                  "median": 0,
                  "length": 98053,
                  "miss.val": 0,
                  "_deepnote_index_column": "diag_1_117"
                },
                {
                  "mean": 0.00002039713216321785,
                  "sd": 0.004516295399948509,
                  "min": 0,
                  "max": 1,
                  "median": 0,
                  "length": 98053,
                  "miss.val": 0,
                  "_deepnote_index_column": "diag_1_131"
                },
                {
                  "mean": 0.000010198566081608925,
                  "sd": 0.003193519388012061,
                  "min": 0,
                  "max": 1,
                  "median": 0,
                  "length": 98053,
                  "miss.val": 0,
                  "_deepnote_index_column": "diag_1_133"
                },
                {
                  "mean": 0.00026516271812183207,
                  "sd": 0.016281741628116814,
                  "min": 0,
                  "max": 1,
                  "median": 0,
                  "length": 98053,
                  "miss.val": 0,
                  "_deepnote_index_column": "diag_1_135"
                },
                {
                  "mean": 0.00005099283040804463,
                  "sd": 0.007140780781667142,
                  "min": 0,
                  "max": 1,
                  "median": 0,
                  "length": 98053,
                  "miss.val": 0,
                  "_deepnote_index_column": "diag_1_136"
                },
                {
                  "mean": 0.00006119139648965356,
                  "sd": 0.007822293534208926,
                  "min": 0,
                  "max": 1,
                  "median": 0,
                  "length": 98053,
                  "miss.val": 0,
                  "_deepnote_index_column": "diag_1_141"
                },
                {
                  "mean": 0.0000407942643264357,
                  "sd": 0.006386941066324707,
                  "min": 0,
                  "max": 1,
                  "median": 0,
                  "length": 98053,
                  "miss.val": 0,
                  "_deepnote_index_column": "diag_1_142"
                },
                {
                  "mean": 0.000010198566081608925,
                  "sd": 0.003193519388012062,
                  "min": 0,
                  "max": 1,
                  "median": 0,
                  "length": 98053,
                  "miss.val": 0,
                  "_deepnote_index_column": "diag_1_143"
                },
                {
                  "mean": 0.000010198566081608925,
                  "sd": 0.0031935193880120614,
                  "min": 0,
                  "max": 1,
                  "median": 0,
                  "length": 98053,
                  "miss.val": 0,
                  "_deepnote_index_column": "diag_1_145"
                },
                {
                  "mean": 0.0000407942643264357,
                  "sd": 0.006386941066324708,
                  "min": 0,
                  "max": 1,
                  "median": 0,
                  "length": 98053,
                  "miss.val": 0,
                  "_deepnote_index_column": "diag_1_146"
                },
                {
                  "mean": 0.00002039713216321785,
                  "sd": 0.004516295399948509,
                  "min": 0,
                  "max": 1,
                  "median": 0,
                  "length": 98053,
                  "miss.val": 0,
                  "_deepnote_index_column": "diag_1_147"
                },
                {
                  "mean": 0.000010198566081608925,
                  "sd": 0.0031935193880120614,
                  "min": 0,
                  "max": 1,
                  "median": 0,
                  "length": 98053,
                  "miss.val": 0,
                  "_deepnote_index_column": "diag_1_148"
                },
                {
                  "mean": 0.00002039713216321785,
                  "sd": 0.004516295399948509,
                  "min": 0,
                  "max": 1,
                  "median": 0,
                  "length": 98053,
                  "miss.val": 0,
                  "_deepnote_index_column": "diag_1_149"
                },
                {
                  "mean": 0.00024476558595861424,
                  "sd": 0.01564315094343213,
                  "min": 0,
                  "max": 1,
                  "median": 0,
                  "length": 98053,
                  "miss.val": 0,
                  "_deepnote_index_column": "diag_1_150"
                },
                {
                  "mean": 0.0005915168327333177,
                  "sd": 0.02431404881311436,
                  "min": 0,
                  "max": 1,
                  "median": 0,
                  "length": 98053,
                  "miss.val": 0,
                  "_deepnote_index_column": "diag_1_151"
                },
                {
                  "mean": 0.0001529784912241339,
                  "sd": 0.012367564382037658,
                  "min": 0,
                  "max": 1,
                  "median": 0,
                  "length": 98053,
                  "miss.val": 0,
                  "_deepnote_index_column": "diag_1_152"
                },
                {
                  "mean": 0.0031105626548907223,
                  "sd": 0.055685893005183916,
                  "min": 0,
                  "max": 1,
                  "median": 0,
                  "length": 98053,
                  "miss.val": 0,
                  "_deepnote_index_column": "diag_1_153"
                },
                {
                  "mean": 0.0009484666455896301,
                  "sd": 0.030782734130282114,
                  "min": 0,
                  "max": 1,
                  "median": 0,
                  "length": 98053,
                  "miss.val": 0,
                  "_deepnote_index_column": "diag_1_154"
                },
                {
                  "mean": 0.000540524002325273,
                  "sd": 0.023243006384167566,
                  "min": 0,
                  "max": 1,
                  "median": 0,
                  "length": 98053,
                  "miss.val": 0,
                  "_deepnote_index_column": "diag_1_155"
                },
                {
                  "mean": 0.00018357418946896066,
                  "sd": 0.01354778069850659,
                  "min": 0,
                  "max": 1,
                  "median": 0,
                  "length": 98053,
                  "miss.val": 0,
                  "_deepnote_index_column": "diag_1_156"
                },
                {
                  "mean": 0.0011422394011401996,
                  "sd": 0.0337778970083572,
                  "min": 0,
                  "max": 1,
                  "median": 0,
                  "length": 98053,
                  "miss.val": 0,
                  "_deepnote_index_column": "diag_1_157"
                },
                {
                  "mean": 0.00011218422689769819,
                  "sd": 0.010591165450435569,
                  "min": 0,
                  "max": 1,
                  "median": 0,
                  "length": 98053,
                  "miss.val": 0,
                  "_deepnote_index_column": "diag_1_158"
                },
                {
                  "mean": 0.000010198566081608925,
                  "sd": 0.003193519388012062,
                  "min": 0,
                  "max": 1,
                  "median": 0,
                  "length": 98053,
                  "miss.val": 0,
                  "_deepnote_index_column": "diag_1_160"
                },
                {
                  "mean": 0.00010198566081608926,
                  "sd": 0.010098331533135014,
                  "min": 0,
                  "max": 1,
                  "median": 0,
                  "length": 98053,
                  "miss.val": 0,
                  "_deepnote_index_column": "diag_1_161"
                },
                {
                  "mean": 0.00427319918819414,
                  "sd": 0.06523022575164712,
                  "min": 0,
                  "max": 1,
                  "median": 0,
                  "length": 98053,
                  "miss.val": 0,
                  "_deepnote_index_column": "diag_1_162"
                },
                {
                  "mean": 0.0000815885286528714,
                  "sd": 0.009032314431609508,
                  "min": 0,
                  "max": 1,
                  "median": 0,
                  "length": 98053,
                  "miss.val": 0,
                  "_deepnote_index_column": "diag_1_163"
                },
                {
                  "mean": 0.00003059569824482678,
                  "sd": 0.005531281422415735,
                  "min": 0,
                  "max": 1,
                  "median": 0,
                  "length": 98053,
                  "miss.val": 0,
                  "_deepnote_index_column": "diag_1_164"
                },
                {
                  "mean": 0.00002039713216321785,
                  "sd": 0.004516295399948508,
                  "min": 0,
                  "max": 1,
                  "median": 0,
                  "length": 98053,
                  "miss.val": 0,
                  "_deepnote_index_column": "diag_1_170"
                },
                {
                  "mean": 0.00012238279297930712,
                  "sd": 0.011062055117394295,
                  "min": 0,
                  "max": 1,
                  "median": 0,
                  "length": 98053,
                  "miss.val": 0,
                  "_deepnote_index_column": "diag_1_171"
                },
                {
                  "mean": 0.0000407942643264357,
                  "sd": 0.006386941066324707,
                  "min": 0,
                  "max": 1,
                  "median": 0,
                  "length": 98053,
                  "miss.val": 0,
                  "_deepnote_index_column": "diag_1_172"
                },
                {
                  "mean": 0.00003059569824482678,
                  "sd": 0.005531281422415735,
                  "min": 0,
                  "max": 1,
                  "median": 0,
                  "length": 98053,
                  "miss.val": 0,
                  "_deepnote_index_column": "diag_1_173"
                },
                {
                  "mean": 0.0014481963835884675,
                  "sd": 0.038027803763967,
                  "min": 0,
                  "max": 1,
                  "median": 0,
                  "length": 98053,
                  "miss.val": 0,
                  "_deepnote_index_column": "diag_1_174"
                },
                {
                  "mean": 0.00005099283040804463,
                  "sd": 0.007140780781667142,
                  "min": 0,
                  "max": 1,
                  "median": 0,
                  "length": 98053,
                  "miss.val": 0,
                  "_deepnote_index_column": "diag_1_175"
                },
                {
                  "mean": 0.00003059569824482678,
                  "sd": 0.005531281422415734,
                  "min": 0,
                  "max": 1,
                  "median": 0,
                  "length": 98053,
                  "miss.val": 0,
                  "_deepnote_index_column": "diag_1_179"
                }
              ],
              "rows_bottom": [
                {
                  "mean": 0.013982234097885838,
                  "sd": 0.117417510763264,
                  "min": 0,
                  "max": 1,
                  "median": 0,
                  "length": 98053,
                  "miss.val": 0,
                  "_deepnote_index_column": "repaglinide_Steady"
                },
                {
                  "mean": 0.001091246570732155,
                  "sd": 0.033016160721274286,
                  "min": 0,
                  "max": 1,
                  "median": 0,
                  "length": 98053,
                  "miss.val": 0,
                  "_deepnote_index_column": "repaglinide_Up"
                },
                {
                  "mean": 0.00011218422689769819,
                  "sd": 0.01059116545043557,
                  "min": 0,
                  "max": 1,
                  "median": 0,
                  "length": 98053,
                  "miss.val": 0,
                  "_deepnote_index_column": "nateglinide_Down"
                },
                {
                  "mean": 0.9929527908376082,
                  "sd": 0.08365176251028093,
                  "min": 0,
                  "max": 1,
                  "median": 1,
                  "length": 98053,
                  "miss.val": 0,
                  "_deepnote_index_column": "nateglinide_No"
                },
                {
                  "mean": 0.006700457915617064,
                  "sd": 0.08158204249230946,
                  "min": 0,
                  "max": 1,
                  "median": 0,
                  "length": 98053,
                  "miss.val": 0,
                  "_deepnote_index_column": "nateglinide_Steady"
                },
                {
                  "mean": 0.0002345670198770053,
                  "sd": 0.015313862670818674,
                  "min": 0,
                  "max": 1,
                  "median": 0,
                  "length": 98053,
                  "miss.val": 0,
                  "_deepnote_index_column": "nateglinide_Up"
                },
                {
                  "mean": 0.000010198566081608925,
                  "sd": 0.0031935193880120623,
                  "min": 0,
                  "max": 1,
                  "median": 0,
                  "length": 98053,
                  "miss.val": 0,
                  "_deepnote_index_column": "chlorpropamide_Down"
                },
                {
                  "mean": 0.9991535190152264,
                  "sd": 0.029082178054413467,
                  "min": 0,
                  "max": 1,
                  "median": 1,
                  "length": 98053,
                  "miss.val": 0,
                  "_deepnote_index_column": "chlorpropamide_No"
                },
                {
                  "mean": 0.0007750910222022783,
                  "sd": 0.027829806950106426,
                  "min": 0,
                  "max": 1,
                  "median": 0,
                  "length": 98053,
                  "miss.val": 0,
                  "_deepnote_index_column": "chlorpropamide_Steady"
                },
                {
                  "mean": 0.00006119139648965356,
                  "sd": 0.007822293534208926,
                  "min": 0,
                  "max": 1,
                  "median": 0,
                  "length": 98053,
                  "miss.val": 0,
                  "_deepnote_index_column": "chlorpropamide_Up"
                },
                {
                  "mean": 0.0018765361590160424,
                  "sd": 0.04327856135917272,
                  "min": 0,
                  "max": 1,
                  "median": 0,
                  "length": 98053,
                  "miss.val": 0,
                  "_deepnote_index_column": "glimepiride_Down"
                },
                {
                  "mean": 0.9491397509510163,
                  "sd": 0.21971339613459584,
                  "min": 0,
                  "max": 1,
                  "median": 1,
                  "length": 98053,
                  "miss.val": 0,
                  "_deepnote_index_column": "glimepiride_No"
                },
                {
                  "mean": 0.04577116457426086,
                  "sd": 0.20898949855572946,
                  "min": 0,
                  "max": 1,
                  "median": 0,
                  "length": 98053,
                  "miss.val": 0,
                  "_deepnote_index_column": "glimepiride_Steady"
                },
                {
                  "mean": 0.003212548315706812,
                  "sd": 0.05658851921981574,
                  "min": 0,
                  "max": 1,
                  "median": 0,
                  "length": 98053,
                  "miss.val": 0,
                  "_deepnote_index_column": "glimepiride_Up"
                },
                {
                  "mean": 0.9999898014339184,
                  "sd": 0.003193519388012062,
                  "min": 0,
                  "max": 1,
                  "median": 1,
                  "length": 98053,
                  "miss.val": 0,
                  "_deepnote_index_column": "acetohexamide_No"
                },
                {
                  "mean": 0.000010198566081608925,
                  "sd": 0.003193519388012062,
                  "min": 0,
                  "max": 1,
                  "median": 0,
                  "length": 98053,
                  "miss.val": 0,
                  "_deepnote_index_column": "acetohexamide_Steady"
                },
                {
                  "mean": 0.005517424250150429,
                  "sd": 0.07407454515362455,
                  "min": 0,
                  "max": 1,
                  "median": 0,
                  "length": 98053,
                  "miss.val": 0,
                  "_deepnote_index_column": "glipizide_Down"
                },
                {
                  "mean": 0.874720814253516,
                  "sd": 0.3310368997248207,
                  "min": 0,
                  "max": 1,
                  "median": 1,
                  "length": 98053,
                  "miss.val": 0,
                  "_deepnote_index_column": "glipizide_No"
                },
                {
                  "mean": 0.1120924398029637,
                  "sd": 0.3154817582561826,
                  "min": 0,
                  "max": 1,
                  "median": 0,
                  "length": 98053,
                  "miss.val": 0,
                  "_deepnote_index_column": "glipizide_Steady"
                },
                {
                  "mean": 0.0076693216933699125,
                  "sd": 0.0872386429006371,
                  "min": 0,
                  "max": 1,
                  "median": 0,
                  "length": 98053,
                  "miss.val": 0,
                  "_deepnote_index_column": "glipizide_Up"
                },
                {
                  "mean": 0.005486828551905602,
                  "sd": 0.07387001364334488,
                  "min": 0,
                  "max": 1,
                  "median": 0,
                  "length": 98053,
                  "miss.val": 0,
                  "_deepnote_index_column": "glyburide_Down"
                },
                {
                  "mean": 0.8953525134366108,
                  "sd": 0.3061002216561207,
                  "min": 0,
                  "max": 1,
                  "median": 1,
                  "length": 98053,
                  "miss.val": 0,
                  "_deepnote_index_column": "glyburide_No"
                },
                {
                  "mean": 0.09109359224093093,
                  "sd": 0.28774362564281153,
                  "min": 0,
                  "max": 1,
                  "median": 0,
                  "length": 98053,
                  "miss.val": 0,
                  "_deepnote_index_column": "glyburide_Steady"
                },
                {
                  "mean": 0.00806706577055266,
                  "sd": 0.08945428905337177,
                  "min": 0,
                  "max": 1,
                  "median": 0,
                  "length": 98053,
                  "miss.val": 0,
                  "_deepnote_index_column": "glyburide_Up"
                },
                {
                  "mean": 0.9997756315462046,
                  "sd": 0.014977329546309788,
                  "min": 0,
                  "max": 1,
                  "median": 1,
                  "length": 98053,
                  "miss.val": 0,
                  "_deepnote_index_column": "tolbutamide_No"
                },
                {
                  "mean": 0.00022436845379539638,
                  "sd": 0.014977329546309788,
                  "min": 0,
                  "max": 1,
                  "median": 0,
                  "length": 98053,
                  "miss.val": 0,
                  "_deepnote_index_column": "tolbutamide_Steady"
                },
                {
                  "mean": 0.0011728350993850264,
                  "sd": 0.03422676590833889,
                  "min": 0,
                  "max": 1,
                  "median": 0,
                  "length": 98053,
                  "miss.val": 0,
                  "_deepnote_index_column": "pioglitazone_Down"
                },
                {
                  "mean": 0.9276105779527398,
                  "sd": 0.25913293587538544,
                  "min": 0,
                  "max": 1,
                  "median": 1,
                  "length": 98053,
                  "miss.val": 0,
                  "_deepnote_index_column": "pioglitazone_No"
                },
                {
                  "mean": 0.0689015124473499,
                  "sd": 0.25328787637046063,
                  "min": 0,
                  "max": 1,
                  "median": 0,
                  "length": 98053,
                  "miss.val": 0,
                  "_deepnote_index_column": "pioglitazone_Steady"
                },
                {
                  "mean": 0.002315074500525226,
                  "sd": 0.048059738727991755,
                  "min": 0,
                  "max": 1,
                  "median": 0,
                  "length": 98053,
                  "miss.val": 0,
                  "_deepnote_index_column": "pioglitazone_Up"
                },
                {
                  "mean": 0.0008566795508551497,
                  "sd": 0.029256698045227337,
                  "min": 0,
                  "max": 1,
                  "median": 0,
                  "length": 98053,
                  "miss.val": 0,
                  "_deepnote_index_column": "rosiglitazone_Down"
                },
                {
                  "mean": 0.9371156415407994,
                  "sd": 0.24275608525255657,
                  "min": 0,
                  "max": 1,
                  "median": 1,
                  "length": 98053,
                  "miss.val": 0,
                  "_deepnote_index_column": "rosiglitazone_No"
                },
                {
                  "mean": 0.06025312841014553,
                  "sd": 0.23795643803658734,
                  "min": 0,
                  "max": 1,
                  "median": 0,
                  "length": 98053,
                  "miss.val": 0,
                  "_deepnote_index_column": "rosiglitazone_Steady"
                },
                {
                  "mean": 0.001774550498199953,
                  "sd": 0.04208823510992678,
                  "min": 0,
                  "max": 1,
                  "median": 0,
                  "length": 98053,
                  "miss.val": 0,
                  "_deepnote_index_column": "rosiglitazone_Up"
                },
                {
                  "mean": 0.00003059569824482678,
                  "sd": 0.005531281422415735,
                  "min": 0,
                  "max": 1,
                  "median": 0,
                  "length": 98053,
                  "miss.val": 0,
                  "_deepnote_index_column": "acarbose_Down"
                },
                {
                  "mean": 0.9969506287415989,
                  "sd": 0.055137134474208455,
                  "min": 0,
                  "max": 1,
                  "median": 1,
                  "length": 98053,
                  "miss.val": 0,
                  "_deepnote_index_column": "acarbose_No"
                },
                {
                  "mean": 0.0029167898993401526,
                  "sd": 0.0539287668747796,
                  "min": 0,
                  "max": 1,
                  "median": 0,
                  "length": 98053,
                  "miss.val": 0,
                  "_deepnote_index_column": "acarbose_Steady"
                },
                {
                  "mean": 0.00010198566081608926,
                  "sd": 0.010098331533135014,
                  "min": 0,
                  "max": 1,
                  "median": 0,
                  "length": 98053,
                  "miss.val": 0,
                  "_deepnote_index_column": "acarbose_Up"
                },
                {
                  "mean": 0.0000407942643264357,
                  "sd": 0.006386941066324708,
                  "min": 0,
                  "max": 1,
                  "median": 0,
                  "length": 98053,
                  "miss.val": 0,
                  "_deepnote_index_column": "miglitol_Down"
                },
                {
                  "mean": 0.9996226530549804,
                  "sd": 0.01942185370368703,
                  "min": 0,
                  "max": 1,
                  "median": 1,
                  "length": 98053,
                  "miss.val": 0,
                  "_deepnote_index_column": "miglitol_No"
                },
                {
                  "mean": 0.0003161555485298767,
                  "sd": 0.01777804313038268,
                  "min": 0,
                  "max": 1,
                  "median": 0,
                  "length": 98053,
                  "miss.val": 0,
                  "_deepnote_index_column": "miglitol_Steady"
                },
                {
                  "mean": 0.00002039713216321785,
                  "sd": 0.004516295399948509,
                  "min": 0,
                  "max": 1,
                  "median": 0,
                  "length": 98053,
                  "miss.val": 0,
                  "_deepnote_index_column": "miglitol_Up"
                },
                {
                  "mean": 0.9999694043017552,
                  "sd": 0.005531281422415736,
                  "min": 0,
                  "max": 1,
                  "median": 1,
                  "length": 98053,
                  "miss.val": 0,
                  "_deepnote_index_column": "troglitazone_No"
                },
                {
                  "mean": 0.00003059569824482678,
                  "sd": 0.005531281422415736,
                  "min": 0,
                  "max": 1,
                  "median": 0,
                  "length": 98053,
                  "miss.val": 0,
                  "_deepnote_index_column": "troglitazone_Steady"
                },
                {
                  "mean": 0.9996226530549804,
                  "sd": 0.01942185370368703,
                  "min": 0,
                  "max": 1,
                  "median": 1,
                  "length": 98053,
                  "miss.val": 0,
                  "_deepnote_index_column": "tolazamide_No"
                },
                {
                  "mean": 0.0003671483789379213,
                  "sd": 0.01915769620951844,
                  "min": 0,
                  "max": 1,
                  "median": 0,
                  "length": 98053,
                  "miss.val": 0,
                  "_deepnote_index_column": "tolazamide_Steady"
                },
                {
                  "mean": 0.000010198566081608925,
                  "sd": 0.003193519388012062,
                  "min": 0,
                  "max": 1,
                  "median": 0,
                  "length": 98053,
                  "miss.val": 0,
                  "_deepnote_index_column": "tolazamide_Up"
                },
                {
                  "mean": 1,
                  "sd": 0,
                  "min": 1,
                  "max": 1,
                  "median": 1,
                  "length": 98053,
                  "miss.val": 0,
                  "_deepnote_index_column": "examide_No"
                },
                {
                  "mean": 1,
                  "sd": 0,
                  "min": 1,
                  "max": 1,
                  "median": 1,
                  "length": 98053,
                  "miss.val": 0,
                  "_deepnote_index_column": "citoglipton_No"
                },
                {
                  "mean": 0.1207816181044945,
                  "sd": 0.3258749788863811,
                  "min": 0,
                  "max": 1,
                  "median": 0,
                  "length": 98053,
                  "miss.val": 0,
                  "_deepnote_index_column": "insulin_Down"
                },
                {
                  "mean": 0.4685527214873589,
                  "sd": 0.49901263336301166,
                  "min": 0,
                  "max": 1,
                  "median": 0,
                  "length": 98053,
                  "miss.val": 0,
                  "_deepnote_index_column": "insulin_No"
                },
                {
                  "mean": 0.2995114886846909,
                  "sd": 0.45804639127056845,
                  "min": 0,
                  "max": 1,
                  "median": 0,
                  "length": 98053,
                  "miss.val": 0,
                  "_deepnote_index_column": "insulin_Steady"
                },
                {
                  "mean": 0.11115417172345568,
                  "sd": 0.3143245606845535,
                  "min": 0,
                  "max": 1,
                  "median": 0,
                  "length": 98053,
                  "miss.val": 0,
                  "_deepnote_index_column": "insulin_Up"
                },
                {
                  "mean": 0.00003059569824482678,
                  "sd": 0.005531281422415735,
                  "min": 0,
                  "max": 1,
                  "median": 0,
                  "length": 98053,
                  "miss.val": 0,
                  "_deepnote_index_column": "glyburide-metformin_Down"
                },
                {
                  "mean": 0.9931771592914036,
                  "sd": 0.08231864103836449,
                  "min": 0,
                  "max": 1,
                  "median": 1,
                  "length": 98053,
                  "miss.val": 0,
                  "_deepnote_index_column": "glyburide-metformin_No"
                },
                {
                  "mean": 0.006731053613861891,
                  "sd": 0.08176683139777648,
                  "min": 0,
                  "max": 1,
                  "median": 0,
                  "length": 98053,
                  "miss.val": 0,
                  "_deepnote_index_column": "glyburide-metformin_Steady"
                },
                {
                  "mean": 0.00006119139648965356,
                  "sd": 0.007822293534208926,
                  "min": 0,
                  "max": 1,
                  "median": 0,
                  "length": 98053,
                  "miss.val": 0,
                  "_deepnote_index_column": "glyburide-metformin_Up"
                },
                {
                  "mean": 0.9998674186409391,
                  "sd": 0.01151369329183372,
                  "min": 0,
                  "max": 1,
                  "median": 1,
                  "length": 98053,
                  "miss.val": 0,
                  "_deepnote_index_column": "glipizide-metformin_No"
                },
                {
                  "mean": 0.00013258135906091603,
                  "sd": 0.01151369329183372,
                  "min": 0,
                  "max": 1,
                  "median": 0,
                  "length": 98053,
                  "miss.val": 0,
                  "_deepnote_index_column": "glipizide-metformin_Steady"
                },
                {
                  "mean": 0.9999898014339184,
                  "sd": 0.003193519388012062,
                  "min": 0,
                  "max": 1,
                  "median": 1,
                  "length": 98053,
                  "miss.val": 0,
                  "_deepnote_index_column": "glimepiride-pioglitazone_No"
                },
                {
                  "mean": 0.000010198566081608925,
                  "sd": 0.0031935193880120614,
                  "min": 0,
                  "max": 1,
                  "median": 0,
                  "length": 98053,
                  "miss.val": 0,
                  "_deepnote_index_column": "glimepiride-pioglitazone_Steady"
                },
                {
                  "mean": 1,
                  "sd": 0,
                  "min": 1,
                  "max": 1,
                  "median": 1,
                  "length": 98053,
                  "miss.val": 0,
                  "_deepnote_index_column": "metformin-rosiglitazone_No"
                },
                {
                  "mean": 0.9999898014339184,
                  "sd": 0.0031935193880120605,
                  "min": 0,
                  "max": 1,
                  "median": 1,
                  "length": 98053,
                  "miss.val": 0,
                  "_deepnote_index_column": "metformin-pioglitazone_No"
                },
                {
                  "mean": 0.000010198566081608925,
                  "sd": 0.0031935193880120605,
                  "min": 0,
                  "max": 1,
                  "median": 0,
                  "length": 98053,
                  "miss.val": 0,
                  "_deepnote_index_column": "metformin-pioglitazone_Steady"
                },
                {
                  "mean": 0.46178087360917053,
                  "sd": 0.4985397006741101,
                  "min": 0,
                  "max": 1,
                  "median": 0,
                  "length": 98053,
                  "miss.val": 0,
                  "_deepnote_index_column": "change_Ch"
                },
                {
                  "mean": 0.5382191263908295,
                  "sd": 0.4985397006741101,
                  "min": 0,
                  "max": 1,
                  "median": 1,
                  "length": 98053,
                  "miss.val": 0,
                  "_deepnote_index_column": "change_No"
                },
                {
                  "mean": 0.23152784718468583,
                  "sd": 0.4218109976490209,
                  "min": 0,
                  "max": 1,
                  "median": 0,
                  "length": 98053,
                  "miss.val": 0,
                  "_deepnote_index_column": "diabetesMed_No"
                },
                {
                  "mean": 0.7684721528153141,
                  "sd": 0.4218109976490209,
                  "min": 0,
                  "max": 1,
                  "median": 1,
                  "length": 98053,
                  "miss.val": 0,
                  "_deepnote_index_column": "diabetesMed_Yes"
                },
                {
                  "mean": 0.11285733225908437,
                  "sd": 0.3164199360200857,
                  "min": 0,
                  "max": 1,
                  "median": 0,
                  "length": 98053,
                  "miss.val": 0,
                  "_deepnote_index_column": "readmitted_<30"
                },
                {
                  "mean": 0.3533701161616677,
                  "sd": 0.4780188359870153,
                  "min": 0,
                  "max": 1,
                  "median": 0,
                  "length": 98053,
                  "miss.val": 0,
                  "_deepnote_index_column": "readmitted_>30"
                },
                {
                  "mean": 0.533772551579248,
                  "sd": 0.49886065468715596,
                  "min": 0,
                  "max": 1,
                  "median": 1,
                  "length": 98053,
                  "miss.val": 0,
                  "_deepnote_index_column": "readmitted_NO"
                }
              ]
            },
            "text/plain": "                                  mean            sd    min        max  \\\nencounter_id              1.658294e+08  1.024322e+08  12522  443867222   \npatient_nbr               5.484792e+07  3.866175e+07    135  189502619   \nadmission_type_id         2.025813e+00  1.450117e+00      1          8   \ndischarge_disposition_id  3.753368e+00  5.309392e+00      1         28   \nadmission_source_id       5.776692e+00  4.071640e+00      1         25   \n...                                ...           ...    ...        ...   \ndiabetesMed_No            2.315278e-01  4.218110e-01      0          1   \ndiabetesMed_Yes           7.684722e-01  4.218110e-01      0          1   \nreadmitted_<30            1.128573e-01  3.164199e-01      0          1   \nreadmitted_>30            3.533701e-01  4.780188e-01      0          1   \nreadmitted_NO             5.337726e-01  4.988607e-01      0          1   \n\n                               median  length  miss.val  \nencounter_id              153301920.0   98053         0  \npatient_nbr                46877904.0   98053         0  \nadmission_type_id                 1.0   98053         0  \ndischarge_disposition_id          1.0   98053         0  \nadmission_source_id               7.0   98053         0  \n...                               ...     ...       ...  \ndiabetesMed_No                    0.0   98053         0  \ndiabetesMed_Yes                   1.0   98053         0  \nreadmitted_<30                    0.0   98053         0  \nreadmitted_>30                    0.0   98053         0  \nreadmitted_NO                     1.0   98053         0  \n\n[2355 rows x 7 columns]",
            "text/html": "<div>\n<style scoped>\n    .dataframe tbody tr th:only-of-type {\n        vertical-align: middle;\n    }\n\n    .dataframe tbody tr th {\n        vertical-align: top;\n    }\n\n    .dataframe thead th {\n        text-align: right;\n    }\n</style>\n<table border=\"1\" class=\"dataframe\">\n  <thead>\n    <tr style=\"text-align: right;\">\n      <th></th>\n      <th>mean</th>\n      <th>sd</th>\n      <th>min</th>\n      <th>max</th>\n      <th>median</th>\n      <th>length</th>\n      <th>miss.val</th>\n    </tr>\n  </thead>\n  <tbody>\n    <tr>\n      <th>encounter_id</th>\n      <td>1.658294e+08</td>\n      <td>1.024322e+08</td>\n      <td>12522</td>\n      <td>443867222</td>\n      <td>153301920.0</td>\n      <td>98053</td>\n      <td>0</td>\n    </tr>\n    <tr>\n      <th>patient_nbr</th>\n      <td>5.484792e+07</td>\n      <td>3.866175e+07</td>\n      <td>135</td>\n      <td>189502619</td>\n      <td>46877904.0</td>\n      <td>98053</td>\n      <td>0</td>\n    </tr>\n    <tr>\n      <th>admission_type_id</th>\n      <td>2.025813e+00</td>\n      <td>1.450117e+00</td>\n      <td>1</td>\n      <td>8</td>\n      <td>1.0</td>\n      <td>98053</td>\n      <td>0</td>\n    </tr>\n    <tr>\n      <th>discharge_disposition_id</th>\n      <td>3.753368e+00</td>\n      <td>5.309392e+00</td>\n      <td>1</td>\n      <td>28</td>\n      <td>1.0</td>\n      <td>98053</td>\n      <td>0</td>\n    </tr>\n    <tr>\n      <th>admission_source_id</th>\n      <td>5.776692e+00</td>\n      <td>4.071640e+00</td>\n      <td>1</td>\n      <td>25</td>\n      <td>7.0</td>\n      <td>98053</td>\n      <td>0</td>\n    </tr>\n    <tr>\n      <th>...</th>\n      <td>...</td>\n      <td>...</td>\n      <td>...</td>\n      <td>...</td>\n      <td>...</td>\n      <td>...</td>\n      <td>...</td>\n    </tr>\n    <tr>\n      <th>diabetesMed_No</th>\n      <td>2.315278e-01</td>\n      <td>4.218110e-01</td>\n      <td>0</td>\n      <td>1</td>\n      <td>0.0</td>\n      <td>98053</td>\n      <td>0</td>\n    </tr>\n    <tr>\n      <th>diabetesMed_Yes</th>\n      <td>7.684722e-01</td>\n      <td>4.218110e-01</td>\n      <td>0</td>\n      <td>1</td>\n      <td>1.0</td>\n      <td>98053</td>\n      <td>0</td>\n    </tr>\n    <tr>\n      <th>readmitted_&lt;30</th>\n      <td>1.128573e-01</td>\n      <td>3.164199e-01</td>\n      <td>0</td>\n      <td>1</td>\n      <td>0.0</td>\n      <td>98053</td>\n      <td>0</td>\n    </tr>\n    <tr>\n      <th>readmitted_&gt;30</th>\n      <td>3.533701e-01</td>\n      <td>4.780188e-01</td>\n      <td>0</td>\n      <td>1</td>\n      <td>0.0</td>\n      <td>98053</td>\n      <td>0</td>\n    </tr>\n    <tr>\n      <th>readmitted_NO</th>\n      <td>5.337726e-01</td>\n      <td>4.988607e-01</td>\n      <td>0</td>\n      <td>1</td>\n      <td>1.0</td>\n      <td>98053</td>\n      <td>0</td>\n    </tr>\n  </tbody>\n</table>\n<p>2355 rows × 7 columns</p>\n</div>"
          },
          "metadata": {}
        }
      ],
      "execution_count": null
    },
    {
      "cell_type": "code",
      "metadata": {
        "cell_id": "00006-cada1761-9b63-41fa-ac49-8aa516250462",
        "deepnote_to_be_reexecuted": false,
        "source_hash": "d1a94732",
        "execution_millis": 54,
        "deepnote_cell_type": "code"
      },
      "source": "diabetic['encounter_bin'] = pd.cut(diabetic.encounter_id, range(0, 500000000), labels=False)\ndiabetic\n",
      "outputs": [
        {
          "output_type": "execute_result",
          "execution_count": 21,
          "data": {
            "application/vnd.deepnote.dataframe.v2+json": {
              "row_count": 67,
              "column_count": 2,
              "columns": [
                {
                  "name": "admission_type_id",
                  "dtype": "object",
                  "stats": {
                    "unique_count": 32,
                    "nan_count": 2,
                    "categories": [
                      {
                        "name": "1",
                        "count": 3
                      },
                      {
                        "name": "31 others",
                        "count": 62
                      },
                      {
                        "name": "Missing",
                        "count": 2
                      }
                    ]
                  }
                },
                {
                  "name": "description",
                  "dtype": "object",
                  "stats": {
                    "unique_count": 58,
                    "nan_count": 5,
                    "categories": [
                      {
                        "name": "Not Available",
                        "count": 2
                      },
                      {
                        "name": "57 others",
                        "count": 60
                      },
                      {
                        "name": "Missing",
                        "count": 5
                      }
                    ]
                  }
                },
                {
                  "name": "_deepnote_index_column",
                  "dtype": "int64"
                }
              ],
              "rows_top": [
                {
                  "admission_type_id": "1",
                  "description": "Emergency",
                  "_deepnote_index_column": 0
                },
                {
                  "admission_type_id": "2",
                  "description": "Urgent",
                  "_deepnote_index_column": 1
                },
                {
                  "admission_type_id": "3",
                  "description": "Elective",
                  "_deepnote_index_column": 2
                },
                {
                  "admission_type_id": "4",
                  "description": "Newborn",
                  "_deepnote_index_column": 3
                },
                {
                  "admission_type_id": "5",
                  "description": "Not Available",
                  "_deepnote_index_column": 4
                },
                {
                  "admission_type_id": "6",
                  "description": "nan",
                  "_deepnote_index_column": 5
                },
                {
                  "admission_type_id": "7",
                  "description": "Trauma Center",
                  "_deepnote_index_column": 6
                },
                {
                  "admission_type_id": "8",
                  "description": "Not Mapped",
                  "_deepnote_index_column": 7
                },
                {
                  "admission_type_id": "nan",
                  "description": "nan",
                  "_deepnote_index_column": 8
                },
                {
                  "admission_type_id": "discharge_disposition_id",
                  "description": "description",
                  "_deepnote_index_column": 9
                },
                {
                  "admission_type_id": "1",
                  "description": "Discharged to home",
                  "_deepnote_index_column": 10
                },
                {
                  "admission_type_id": "2",
                  "description": "Discharged/transferred to another short term hospital",
                  "_deepnote_index_column": 11
                },
                {
                  "admission_type_id": "3",
                  "description": "Discharged/transferred to SNF",
                  "_deepnote_index_column": 12
                },
                {
                  "admission_type_id": "4",
                  "description": "Discharged/transferred to ICF",
                  "_deepnote_index_column": 13
                },
                {
                  "admission_type_id": "5",
                  "description": "Discharged/transferred to another type of inpatient care institution",
                  "_deepnote_index_column": 14
                },
                {
                  "admission_type_id": "6",
                  "description": "Discharged/transferred to home with home health service",
                  "_deepnote_index_column": 15
                },
                {
                  "admission_type_id": "7",
                  "description": "Left AMA",
                  "_deepnote_index_column": 16
                },
                {
                  "admission_type_id": "8",
                  "description": "Discharged/transferred to home under care of Home IV provider",
                  "_deepnote_index_column": 17
                },
                {
                  "admission_type_id": "9",
                  "description": "Admitted as an inpatient to this hospital",
                  "_deepnote_index_column": 18
                },
                {
                  "admission_type_id": "10",
                  "description": "Neonate discharged to another hospital for neonatal aftercare",
                  "_deepnote_index_column": 19
                },
                {
                  "admission_type_id": "11",
                  "description": "Expired",
                  "_deepnote_index_column": 20
                },
                {
                  "admission_type_id": "12",
                  "description": "Still patient or expected to return for outpatient services",
                  "_deepnote_index_column": 21
                },
                {
                  "admission_type_id": "13",
                  "description": "Hospice / home",
                  "_deepnote_index_column": 22
                },
                {
                  "admission_type_id": "14",
                  "description": "Hospice / medical facility",
                  "_deepnote_index_column": 23
                },
                {
                  "admission_type_id": "15",
                  "description": "Discharged/transferred within this institution to Medicare approved swing bed",
                  "_deepnote_index_column": 24
                },
                {
                  "admission_type_id": "16",
                  "description": "Discharged/transferred/referred another institution for outpatient services",
                  "_deepnote_index_column": 25
                },
                {
                  "admission_type_id": "17",
                  "description": "Discharged/transferred/referred to this institution for outpatient services",
                  "_deepnote_index_column": 26
                },
                {
                  "admission_type_id": "18",
                  "description": "nan",
                  "_deepnote_index_column": 27
                },
                {
                  "admission_type_id": "19",
                  "description": "Expired at home. Medicaid only, hospice.",
                  "_deepnote_index_column": 28
                },
                {
                  "admission_type_id": "20",
                  "description": "Expired in a medical facility. Medicaid only, hospice.",
                  "_deepnote_index_column": 29
                },
                {
                  "admission_type_id": "21",
                  "description": "Expired, place unknown. Medicaid only, hospice.",
                  "_deepnote_index_column": 30
                },
                {
                  "admission_type_id": "22",
                  "description": "Discharged/transferred to another rehab fac including rehab units of a hospital .",
                  "_deepnote_index_column": 31
                },
                {
                  "admission_type_id": "23",
                  "description": "Discharged/transferred to a long term care hospital.",
                  "_deepnote_index_column": 32
                },
                {
                  "admission_type_id": "24",
                  "description": "Discharged/transferred to a nursing facility certified under Medicaid but not certified under Medicare.",
                  "_deepnote_index_column": 33
                },
                {
                  "admission_type_id": "25",
                  "description": "Not Mapped",
                  "_deepnote_index_column": 34
                },
                {
                  "admission_type_id": "26",
                  "description": "Unknown/Invalid",
                  "_deepnote_index_column": 35
                },
                {
                  "admission_type_id": "30",
                  "description": "Discharged/transferred to another Type of Health Care Institution not Defined Elsewhere",
                  "_deepnote_index_column": 36
                },
                {
                  "admission_type_id": "27",
                  "description": "Discharged/transferred to a federal health care facility.",
                  "_deepnote_index_column": 37
                },
                {
                  "admission_type_id": "28",
                  "description": "Discharged/transferred/referred to a psychiatric hospital of psychiatric distinct part unit of a hospital",
                  "_deepnote_index_column": 38
                },
                {
                  "admission_type_id": "29",
                  "description": "Discharged/transferred to a Critical Access Hospital (CAH).",
                  "_deepnote_index_column": 39
                },
                {
                  "admission_type_id": "nan",
                  "description": "nan",
                  "_deepnote_index_column": 40
                },
                {
                  "admission_type_id": "admission_source_id",
                  "description": "description",
                  "_deepnote_index_column": 41
                },
                {
                  "admission_type_id": "1",
                  "description": " Physician Referral",
                  "_deepnote_index_column": 42
                },
                {
                  "admission_type_id": "2",
                  "description": "Clinic Referral",
                  "_deepnote_index_column": 43
                },
                {
                  "admission_type_id": "3",
                  "description": "HMO Referral",
                  "_deepnote_index_column": 44
                },
                {
                  "admission_type_id": "4",
                  "description": "Transfer from a hospital",
                  "_deepnote_index_column": 45
                },
                {
                  "admission_type_id": "5",
                  "description": " Transfer from a Skilled Nursing Facility (SNF)",
                  "_deepnote_index_column": 46
                },
                {
                  "admission_type_id": "6",
                  "description": " Transfer from another health care facility",
                  "_deepnote_index_column": 47
                },
                {
                  "admission_type_id": "7",
                  "description": " Emergency Room",
                  "_deepnote_index_column": 48
                },
                {
                  "admission_type_id": "8",
                  "description": " Court/Law Enforcement",
                  "_deepnote_index_column": 49
                },
                {
                  "admission_type_id": "9",
                  "description": " Not Available",
                  "_deepnote_index_column": 50
                },
                {
                  "admission_type_id": "10",
                  "description": " Transfer from critial access hospital",
                  "_deepnote_index_column": 51
                },
                {
                  "admission_type_id": "11",
                  "description": "Normal Delivery",
                  "_deepnote_index_column": 52
                },
                {
                  "admission_type_id": "12",
                  "description": " Premature Delivery",
                  "_deepnote_index_column": 53
                },
                {
                  "admission_type_id": "13",
                  "description": " Sick Baby",
                  "_deepnote_index_column": 54
                },
                {
                  "admission_type_id": "14",
                  "description": " Extramural Birth",
                  "_deepnote_index_column": 55
                },
                {
                  "admission_type_id": "15",
                  "description": "Not Available",
                  "_deepnote_index_column": 56
                },
                {
                  "admission_type_id": "17",
                  "description": "nan",
                  "_deepnote_index_column": 57
                },
                {
                  "admission_type_id": "18",
                  "description": " Transfer From Another Home Health Agency",
                  "_deepnote_index_column": 58
                },
                {
                  "admission_type_id": "19",
                  "description": "Readmission to Same Home Health Agency",
                  "_deepnote_index_column": 59
                },
                {
                  "admission_type_id": "20",
                  "description": " Not Mapped",
                  "_deepnote_index_column": 60
                },
                {
                  "admission_type_id": "21",
                  "description": "Unknown/Invalid",
                  "_deepnote_index_column": 61
                },
                {
                  "admission_type_id": "22",
                  "description": " Transfer from hospital inpt/same fac reslt in a sep claim",
                  "_deepnote_index_column": 62
                },
                {
                  "admission_type_id": "23",
                  "description": " Born inside this hospital",
                  "_deepnote_index_column": 63
                },
                {
                  "admission_type_id": "24",
                  "description": " Born outside this hospital",
                  "_deepnote_index_column": 64
                },
                {
                  "admission_type_id": "25",
                  "description": " Transfer from Ambulatory Surgery Center",
                  "_deepnote_index_column": 65
                },
                {
                  "admission_type_id": "26",
                  "description": "Transfer from Hospice",
                  "_deepnote_index_column": 66
                }
              ],
              "rows_bottom": null
            },
            "text/plain": "   admission_type_id                                        description\n0                  1                                          Emergency\n1                  2                                             Urgent\n2                  3                                           Elective\n3                  4                                            Newborn\n4                  5                                      Not Available\n..               ...                                                ...\n62                22   Transfer from hospital inpt/same fac reslt in...\n63                23                          Born inside this hospital\n64                24                         Born outside this hospital\n65                25            Transfer from Ambulatory Surgery Center\n66                26                              Transfer from Hospice\n\n[67 rows x 2 columns]",
            "text/html": "<div>\n<style scoped>\n    .dataframe tbody tr th:only-of-type {\n        vertical-align: middle;\n    }\n\n    .dataframe tbody tr th {\n        vertical-align: top;\n    }\n\n    .dataframe thead th {\n        text-align: right;\n    }\n</style>\n<table border=\"1\" class=\"dataframe\">\n  <thead>\n    <tr style=\"text-align: right;\">\n      <th></th>\n      <th>admission_type_id</th>\n      <th>description</th>\n    </tr>\n  </thead>\n  <tbody>\n    <tr>\n      <th>0</th>\n      <td>1</td>\n      <td>Emergency</td>\n    </tr>\n    <tr>\n      <th>1</th>\n      <td>2</td>\n      <td>Urgent</td>\n    </tr>\n    <tr>\n      <th>2</th>\n      <td>3</td>\n      <td>Elective</td>\n    </tr>\n    <tr>\n      <th>3</th>\n      <td>4</td>\n      <td>Newborn</td>\n    </tr>\n    <tr>\n      <th>4</th>\n      <td>5</td>\n      <td>Not Available</td>\n    </tr>\n    <tr>\n      <th>...</th>\n      <td>...</td>\n      <td>...</td>\n    </tr>\n    <tr>\n      <th>62</th>\n      <td>22</td>\n      <td>Transfer from hospital inpt/same fac reslt in...</td>\n    </tr>\n    <tr>\n      <th>63</th>\n      <td>23</td>\n      <td>Born inside this hospital</td>\n    </tr>\n    <tr>\n      <th>64</th>\n      <td>24</td>\n      <td>Born outside this hospital</td>\n    </tr>\n    <tr>\n      <th>65</th>\n      <td>25</td>\n      <td>Transfer from Ambulatory Surgery Center</td>\n    </tr>\n    <tr>\n      <th>66</th>\n      <td>26</td>\n      <td>Transfer from Hospice</td>\n    </tr>\n  </tbody>\n</table>\n<p>67 rows × 2 columns</p>\n</div>"
          },
          "metadata": {}
        },
        {
          "output_type": "error",
          "ename": "KernelInterrupted",
          "evalue": "Execution interrupted by the Jupyter kernel.",
          "traceback": [
            "\u001b[0;31m---------------------------------------------------------------------------\u001b[0m",
            "\u001b[0;31mKernelInterrupted\u001b[0m: Execution interrupted by the Jupyter kernel."
          ]
        }
      ],
      "execution_count": null
    },
    {
      "cell_type": "code",
      "metadata": {
        "cell_id": "00007-095410cb-3ff2-4f03-b008-770518790c98",
        "deepnote_to_be_reexecuted": false,
        "source_hash": "d8fd7ee4",
        "execution_millis": 536,
        "execution_start": 1619292729056,
        "deepnote_cell_type": "code"
      },
      "source": "",
      "outputs": [],
      "execution_count": null
    },
    {
      "cell_type": "code",
      "source": "",
      "metadata": {
        "tags": [],
        "cell_id": "00008-2406d00f-53bd-4445-a304-3820b0d03b3d",
        "deepnote_to_be_reexecuted": false,
        "source_hash": "d68ace47",
        "execution_start": 1619292332827,
        "execution_millis": 36,
        "deepnote_cell_type": "code"
      },
      "outputs": [
        {
          "output_type": "execute_result",
          "execution_count": 12,
          "data": {
            "text/plain": "(26755, 49)"
          },
          "metadata": {}
        }
      ],
      "execution_count": null
    },
    {
      "cell_type": "code",
      "metadata": {
        "cell_id": "00008-70a4cc91-a74e-458f-8def-c26c6697e5a5",
        "deepnote_to_be_reexecuted": true,
        "source_hash": "d68ace47",
        "deepnote_cell_type": "code"
      },
      "source": "diabetic.shape",
      "execution_count": null,
      "outputs": []
    },
    {
      "cell_type": "code",
      "source": "",
      "metadata": {
        "tags": [],
        "cell_id": "00009-749d9406-5b14-4ca7-99ec-2b97e1532677",
        "deepnote_cell_type": "code"
      },
      "outputs": [],
      "execution_count": null
    },
    {
      "cell_type": "markdown",
      "source": "<a style='text-decoration:none;line-height:16px;display:flex;color:#5B5B62;padding:10px;justify-content:end;' href='https://deepnote.com?utm_source=created-in-deepnote-cell&projectId=52e9ae2e-8d42-48c9-9988-588f5a262306' target=\"_blank\">\n<img alt='Created in deepnote.com' style='display:inline;max-height:16px;margin:0px;margin-right:7.5px;' src='data:image/svg+xml;base64,PD94bWwgdmVyc2lvbj0iMS4wIiBlbmNvZGluZz0iVVRGLTgiPz4KPHN2ZyB3aWR0aD0iODBweCIgaGVpZ2h0PSI4MHB4IiB2aWV3Qm94PSIwIDAgODAgODAiIHZlcnNpb249IjEuMSIgeG1sbnM9Imh0dHA6Ly93d3cudzMub3JnLzIwMDAvc3ZnIiB4bWxuczp4bGluaz0iaHR0cDovL3d3dy53My5vcmcvMTk5OS94bGluayI+CiAgICA8IS0tIEdlbmVyYXRvcjogU2tldGNoIDU0LjEgKDc2NDkwKSAtIGh0dHBzOi8vc2tldGNoYXBwLmNvbSAtLT4KICAgIDx0aXRsZT5Hcm91cCAzPC90aXRsZT4KICAgIDxkZXNjPkNyZWF0ZWQgd2l0aCBTa2V0Y2guPC9kZXNjPgogICAgPGcgaWQ9IkxhbmRpbmciIHN0cm9rZT0ibm9uZSIgc3Ryb2tlLXdpZHRoPSIxIiBmaWxsPSJub25lIiBmaWxsLXJ1bGU9ImV2ZW5vZGQiPgogICAgICAgIDxnIGlkPSJBcnRib2FyZCIgdHJhbnNmb3JtPSJ0cmFuc2xhdGUoLTEyMzUuMDAwMDAwLCAtNzkuMDAwMDAwKSI+CiAgICAgICAgICAgIDxnIGlkPSJHcm91cC0zIiB0cmFuc2Zvcm09InRyYW5zbGF0ZSgxMjM1LjAwMDAwMCwgNzkuMDAwMDAwKSI+CiAgICAgICAgICAgICAgICA8cG9seWdvbiBpZD0iUGF0aC0yMCIgZmlsbD0iIzAyNjVCNCIgcG9pbnRzPSIyLjM3NjIzNzYyIDgwIDM4LjA0NzY2NjcgODAgNTcuODIxNzgyMiA3My44MDU3NTkyIDU3LjgyMTc4MjIgMzIuNzU5MjczOSAzOS4xNDAyMjc4IDMxLjY4MzE2ODMiPjwvcG9seWdvbj4KICAgICAgICAgICAgICAgIDxwYXRoIGQ9Ik0zNS4wMDc3MTgsODAgQzQyLjkwNjIwMDcsNzYuNDU0OTM1OCA0Ny41NjQ5MTY3LDcxLjU0MjI2NzEgNDguOTgzODY2LDY1LjI2MTk5MzkgQzUxLjExMjI4OTksNTUuODQxNTg0MiA0MS42NzcxNzk1LDQ5LjIxMjIyODQgMjUuNjIzOTg0Niw0OS4yMTIyMjg0IEMyNS40ODQ5Mjg5LDQ5LjEyNjg0NDggMjkuODI2MTI5Niw0My4yODM4MjQ4IDM4LjY0NzU4NjksMzEuNjgzMTY4MyBMNzIuODcxMjg3MSwzMi41NTQ0MjUgTDY1LjI4MDk3Myw2Ny42NzYzNDIxIEw1MS4xMTIyODk5LDc3LjM3NjE0NCBMMzUuMDA3NzE4LDgwIFoiIGlkPSJQYXRoLTIyIiBmaWxsPSIjMDAyODY4Ij48L3BhdGg+CiAgICAgICAgICAgICAgICA8cGF0aCBkPSJNMCwzNy43MzA0NDA1IEwyNy4xMTQ1MzcsMC4yNTcxMTE0MzYgQzYyLjM3MTUxMjMsLTEuOTkwNzE3MDEgODAsMTAuNTAwMzkyNyA4MCwzNy43MzA0NDA1IEM4MCw2NC45NjA0ODgyIDY0Ljc3NjUwMzgsNzkuMDUwMzQxNCAzNC4zMjk1MTEzLDgwIEM0Ny4wNTUzNDg5LDc3LjU2NzA4MDggNTMuNDE4MjY3Nyw3MC4zMTM2MTAzIDUzLjQxODI2NzcsNTguMjM5NTg4NSBDNTMuNDE4MjY3Nyw0MC4xMjg1NTU3IDM2LjMwMzk1NDQsMzcuNzMwNDQwNSAyNS4yMjc0MTcsMzcuNzMwNDQwNSBDMTcuODQzMDU4NiwzNy43MzA0NDA1IDkuNDMzOTE5NjYsMzcuNzMwNDQwNSAwLDM3LjczMDQ0MDUgWiIgaWQ9IlBhdGgtMTkiIGZpbGw9IiMzNzkzRUYiPjwvcGF0aD4KICAgICAgICAgICAgPC9nPgogICAgICAgIDwvZz4KICAgIDwvZz4KPC9zdmc+' > </img>\nCreated in <span style='font-weight:600;margin-left:4px;'>Deepnote</span></a>",
      "metadata": {
        "tags": [],
        "created_in_deepnote_cell": true,
        "deepnote_cell_type": "markdown"
      }
    }
  ],
  "nbformat": 4,
  "nbformat_minor": 4,
  "metadata": {
    "kernelspec": {
      "display_name": "Python 3",
      "language": "python",
      "name": "python3"
    },
    "language_info": {
      "codemirror_mode": {
        "name": "ipython",
        "version": 3
      },
      "file_extension": ".py",
      "mimetype": "text/x-python",
      "name": "python",
      "nbconvert_exporter": "python",
      "pygments_lexer": "ipython3",
      "version": "3.8.6"
    },
    "deepnote_notebook_id": "bc54f128-ca63-4bcc-af01-0744f0e91670",
    "deepnote": {},
    "deepnote_execution_queue": []
  }
}