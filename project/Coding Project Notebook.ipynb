{
 "cells": [
  {
   "cell_type": "markdown",
   "metadata": {
    "cell_id": "00000-b198ce3c-d601-46df-b857-276857622616",
    "deepnote_cell_type": "markdown"
   },
   "source": [
    "## Wiki Project\n",
    "\n",
    "This project will be working with a diabetic dataset to evaluate predicting/explaining factors for diabetic patients' readmissions. A journal article related to this dataset is also attached to give the background about this dataset. For additional information about this dataset, see:\n",
    "\n",
    "https://archive.ics.uci.edu/ml/datasets/diabetes+130-us+hospitals+for+years+1999-2008\n"
   ]
  },
  {
   "cell_type": "markdown",
   "metadata": {
    "cell_id": "00001-ce1dc6f4-fc09-4684-aa1b-78d4edbf9e20",
    "deepnote_cell_type": "markdown"
   },
   "source": [
    "1. Preprocess your data.\n",
    "    1. Handle missing variables*\n",
    "    1. Code your categorical (e.g., using the get_dummies() or bag of words)*\n",
    "    1. Bin your numerical variables*\n",
    "    1. Conduct correlation analysis*\n",
    "    1. Combine variables\n",
    "    1. Apply data reduction techniques for numerical variables (e.g., PCA, SVD)\n",
    "    1. Balance your classes"
   ]
  },
  {
   "cell_type": "code",
   "execution_count": 1,
   "metadata": {
    "cell_id": "00002-53d27fd4-77e4-4739-aadd-d50382d9545c",
    "deepnote_cell_type": "code",
    "deepnote_to_be_reexecuted": false,
    "execution_millis": 2,
    "execution_start": 1619292307660,
    "source_hash": "bdee9125"
   },
   "outputs": [],
   "source": [
    "import warnings\n",
    "# Load/Review/Visualize\n",
    "from zipfile import ZipFile\n",
    "import pandas as pd\n",
    "import numpy as np\n",
    "import seaborn as sns\n",
    "import matplotlib.pyplot as plt\n",
    "import pandas_profiling\n",
    "# for K-Mean\n",
    "from sklearn.cluster import KMeans\n",
    "from pandas.plotting import parallel_coordinates\n",
    "from scipy.cluster.hierarchy import dendrogram, linkage, fcluster\n",
    "# Model/Prediction\n",
    "from sklearn.linear_model import LogisticRegression\n",
    "from sklearn.metrics import accuracy_score, precision_score, recall_score, roc_curve, auc\n",
    "from sklearn.model_selection import train_test_split, cross_val_score \n",
    "from sklearn.tree import DecisionTreeClassifier,DecisionTreeRegressor\n",
    "import statsmodels.api as sm \n",
    "from keras_visualizer import visualizer \n",
    "from keras.models import Sequential\n",
    "from keras.layers import Dense\n",
    "\n",
    "# DMBA Imports\n",
    "from dmba import regressionSummary, exhaustive_search\n",
    "from dmba import backward_elimination, forward_selection, stepwise_selection\n",
    "from dmba import adjusted_r2_score, AIC_score, BIC_score\n",
    "from dmba import plotDecisionTree, classificationSummary, regressionSummary, gainsChart, liftChart"
   ]
  },
  {
   "cell_type": "code",
   "execution_count": 2,
   "metadata": {
    "cell_id": "00003-62ee2333-beec-4b45-8a4f-10e093c34430",
    "deepnote_cell_type": "code",
    "deepnote_to_be_reexecuted": false,
    "execution_millis": 9,
    "execution_start": 1619292308892,
    "source_hash": "cc5718a5"
   },
   "outputs": [],
   "source": [
    "# Inputs\n",
    "datafile=\"dataset_diabetes.zip\""
   ]
  },
  {
   "cell_type": "code",
   "execution_count": 3,
   "metadata": {
    "cell_id": "00004-723a78f6-d3a8-4dd5-a1f9-74adb96decd2",
    "deepnote_cell_type": "code",
    "deepnote_to_be_reexecuted": false,
    "execution_millis": 2364,
    "execution_start": 1619292751838,
    "scrolled": true,
    "source_hash": "7fa792d"
   },
   "outputs": [
    {
     "name": "stdout",
     "output_type": "stream",
     "text": [
      "Reading:  dataset_diabetes/diabetic_data.csv\n",
      "Reading:  dataset_diabetes/IDs_mapping.csv\n"
     ]
    },
    {
     "data": {
      "text/html": [
       "<div>\n",
       "<style scoped>\n",
       "    .dataframe tbody tr th:only-of-type {\n",
       "        vertical-align: middle;\n",
       "    }\n",
       "\n",
       "    .dataframe tbody tr th {\n",
       "        vertical-align: top;\n",
       "    }\n",
       "\n",
       "    .dataframe thead th {\n",
       "        text-align: right;\n",
       "    }\n",
       "</style>\n",
       "<table border=\"1\" class=\"dataframe\">\n",
       "  <thead>\n",
       "    <tr style=\"text-align: right;\">\n",
       "      <th></th>\n",
       "      <th>race</th>\n",
       "      <th>gender</th>\n",
       "      <th>age</th>\n",
       "      <th>admission_type_id</th>\n",
       "      <th>discharge_disposition_id</th>\n",
       "      <th>admission_source_id</th>\n",
       "      <th>time_in_hospital</th>\n",
       "      <th>num_lab_procedures</th>\n",
       "      <th>num_procedures</th>\n",
       "      <th>num_medications</th>\n",
       "      <th>...</th>\n",
       "      <th>citoglipton</th>\n",
       "      <th>insulin</th>\n",
       "      <th>glyburide-metformin</th>\n",
       "      <th>glipizide-metformin</th>\n",
       "      <th>glimepiride-pioglitazone</th>\n",
       "      <th>metformin-rosiglitazone</th>\n",
       "      <th>metformin-pioglitazone</th>\n",
       "      <th>change</th>\n",
       "      <th>diabetesMed</th>\n",
       "      <th>readmitted</th>\n",
       "    </tr>\n",
       "  </thead>\n",
       "  <tbody>\n",
       "    <tr>\n",
       "      <th>1</th>\n",
       "      <td>Caucasian</td>\n",
       "      <td>Female</td>\n",
       "      <td>[10-20)</td>\n",
       "      <td>1</td>\n",
       "      <td>1</td>\n",
       "      <td>7</td>\n",
       "      <td>3</td>\n",
       "      <td>59</td>\n",
       "      <td>0</td>\n",
       "      <td>18</td>\n",
       "      <td>...</td>\n",
       "      <td>No</td>\n",
       "      <td>Up</td>\n",
       "      <td>No</td>\n",
       "      <td>No</td>\n",
       "      <td>No</td>\n",
       "      <td>No</td>\n",
       "      <td>No</td>\n",
       "      <td>Ch</td>\n",
       "      <td>Yes</td>\n",
       "      <td>&gt;30</td>\n",
       "    </tr>\n",
       "    <tr>\n",
       "      <th>2</th>\n",
       "      <td>AfricanAmerican</td>\n",
       "      <td>Female</td>\n",
       "      <td>[20-30)</td>\n",
       "      <td>1</td>\n",
       "      <td>1</td>\n",
       "      <td>7</td>\n",
       "      <td>2</td>\n",
       "      <td>11</td>\n",
       "      <td>5</td>\n",
       "      <td>13</td>\n",
       "      <td>...</td>\n",
       "      <td>No</td>\n",
       "      <td>No</td>\n",
       "      <td>No</td>\n",
       "      <td>No</td>\n",
       "      <td>No</td>\n",
       "      <td>No</td>\n",
       "      <td>No</td>\n",
       "      <td>No</td>\n",
       "      <td>Yes</td>\n",
       "      <td>NO</td>\n",
       "    </tr>\n",
       "    <tr>\n",
       "      <th>3</th>\n",
       "      <td>Caucasian</td>\n",
       "      <td>Male</td>\n",
       "      <td>[30-40)</td>\n",
       "      <td>1</td>\n",
       "      <td>1</td>\n",
       "      <td>7</td>\n",
       "      <td>2</td>\n",
       "      <td>44</td>\n",
       "      <td>1</td>\n",
       "      <td>16</td>\n",
       "      <td>...</td>\n",
       "      <td>No</td>\n",
       "      <td>Up</td>\n",
       "      <td>No</td>\n",
       "      <td>No</td>\n",
       "      <td>No</td>\n",
       "      <td>No</td>\n",
       "      <td>No</td>\n",
       "      <td>Ch</td>\n",
       "      <td>Yes</td>\n",
       "      <td>NO</td>\n",
       "    </tr>\n",
       "    <tr>\n",
       "      <th>4</th>\n",
       "      <td>Caucasian</td>\n",
       "      <td>Male</td>\n",
       "      <td>[40-50)</td>\n",
       "      <td>1</td>\n",
       "      <td>1</td>\n",
       "      <td>7</td>\n",
       "      <td>1</td>\n",
       "      <td>51</td>\n",
       "      <td>0</td>\n",
       "      <td>8</td>\n",
       "      <td>...</td>\n",
       "      <td>No</td>\n",
       "      <td>Steady</td>\n",
       "      <td>No</td>\n",
       "      <td>No</td>\n",
       "      <td>No</td>\n",
       "      <td>No</td>\n",
       "      <td>No</td>\n",
       "      <td>Ch</td>\n",
       "      <td>Yes</td>\n",
       "      <td>NO</td>\n",
       "    </tr>\n",
       "    <tr>\n",
       "      <th>5</th>\n",
       "      <td>Caucasian</td>\n",
       "      <td>Male</td>\n",
       "      <td>[50-60)</td>\n",
       "      <td>2</td>\n",
       "      <td>1</td>\n",
       "      <td>2</td>\n",
       "      <td>3</td>\n",
       "      <td>31</td>\n",
       "      <td>6</td>\n",
       "      <td>16</td>\n",
       "      <td>...</td>\n",
       "      <td>No</td>\n",
       "      <td>Steady</td>\n",
       "      <td>No</td>\n",
       "      <td>No</td>\n",
       "      <td>No</td>\n",
       "      <td>No</td>\n",
       "      <td>No</td>\n",
       "      <td>No</td>\n",
       "      <td>Yes</td>\n",
       "      <td>&gt;30</td>\n",
       "    </tr>\n",
       "    <tr>\n",
       "      <th>6</th>\n",
       "      <td>Caucasian</td>\n",
       "      <td>Male</td>\n",
       "      <td>[60-70)</td>\n",
       "      <td>3</td>\n",
       "      <td>1</td>\n",
       "      <td>2</td>\n",
       "      <td>4</td>\n",
       "      <td>70</td>\n",
       "      <td>1</td>\n",
       "      <td>21</td>\n",
       "      <td>...</td>\n",
       "      <td>No</td>\n",
       "      <td>Steady</td>\n",
       "      <td>No</td>\n",
       "      <td>No</td>\n",
       "      <td>No</td>\n",
       "      <td>No</td>\n",
       "      <td>No</td>\n",
       "      <td>Ch</td>\n",
       "      <td>Yes</td>\n",
       "      <td>NO</td>\n",
       "    </tr>\n",
       "    <tr>\n",
       "      <th>7</th>\n",
       "      <td>Caucasian</td>\n",
       "      <td>Male</td>\n",
       "      <td>[70-80)</td>\n",
       "      <td>1</td>\n",
       "      <td>1</td>\n",
       "      <td>7</td>\n",
       "      <td>5</td>\n",
       "      <td>73</td>\n",
       "      <td>0</td>\n",
       "      <td>12</td>\n",
       "      <td>...</td>\n",
       "      <td>No</td>\n",
       "      <td>No</td>\n",
       "      <td>No</td>\n",
       "      <td>No</td>\n",
       "      <td>No</td>\n",
       "      <td>No</td>\n",
       "      <td>No</td>\n",
       "      <td>No</td>\n",
       "      <td>Yes</td>\n",
       "      <td>&gt;30</td>\n",
       "    </tr>\n",
       "    <tr>\n",
       "      <th>8</th>\n",
       "      <td>Caucasian</td>\n",
       "      <td>Female</td>\n",
       "      <td>[80-90)</td>\n",
       "      <td>2</td>\n",
       "      <td>1</td>\n",
       "      <td>4</td>\n",
       "      <td>13</td>\n",
       "      <td>68</td>\n",
       "      <td>2</td>\n",
       "      <td>28</td>\n",
       "      <td>...</td>\n",
       "      <td>No</td>\n",
       "      <td>Steady</td>\n",
       "      <td>No</td>\n",
       "      <td>No</td>\n",
       "      <td>No</td>\n",
       "      <td>No</td>\n",
       "      <td>No</td>\n",
       "      <td>Ch</td>\n",
       "      <td>Yes</td>\n",
       "      <td>NO</td>\n",
       "    </tr>\n",
       "    <tr>\n",
       "      <th>9</th>\n",
       "      <td>Caucasian</td>\n",
       "      <td>Female</td>\n",
       "      <td>[90-100)</td>\n",
       "      <td>3</td>\n",
       "      <td>3</td>\n",
       "      <td>4</td>\n",
       "      <td>12</td>\n",
       "      <td>33</td>\n",
       "      <td>3</td>\n",
       "      <td>18</td>\n",
       "      <td>...</td>\n",
       "      <td>No</td>\n",
       "      <td>Steady</td>\n",
       "      <td>No</td>\n",
       "      <td>No</td>\n",
       "      <td>No</td>\n",
       "      <td>No</td>\n",
       "      <td>No</td>\n",
       "      <td>Ch</td>\n",
       "      <td>Yes</td>\n",
       "      <td>NO</td>\n",
       "    </tr>\n",
       "    <tr>\n",
       "      <th>10</th>\n",
       "      <td>AfricanAmerican</td>\n",
       "      <td>Female</td>\n",
       "      <td>[40-50)</td>\n",
       "      <td>1</td>\n",
       "      <td>1</td>\n",
       "      <td>7</td>\n",
       "      <td>9</td>\n",
       "      <td>47</td>\n",
       "      <td>2</td>\n",
       "      <td>17</td>\n",
       "      <td>...</td>\n",
       "      <td>No</td>\n",
       "      <td>Steady</td>\n",
       "      <td>No</td>\n",
       "      <td>No</td>\n",
       "      <td>No</td>\n",
       "      <td>No</td>\n",
       "      <td>No</td>\n",
       "      <td>No</td>\n",
       "      <td>Yes</td>\n",
       "      <td>&gt;30</td>\n",
       "    </tr>\n",
       "    <tr>\n",
       "      <th>11</th>\n",
       "      <td>AfricanAmerican</td>\n",
       "      <td>Male</td>\n",
       "      <td>[60-70)</td>\n",
       "      <td>2</td>\n",
       "      <td>1</td>\n",
       "      <td>4</td>\n",
       "      <td>7</td>\n",
       "      <td>62</td>\n",
       "      <td>0</td>\n",
       "      <td>11</td>\n",
       "      <td>...</td>\n",
       "      <td>No</td>\n",
       "      <td>Steady</td>\n",
       "      <td>No</td>\n",
       "      <td>No</td>\n",
       "      <td>No</td>\n",
       "      <td>No</td>\n",
       "      <td>No</td>\n",
       "      <td>Ch</td>\n",
       "      <td>Yes</td>\n",
       "      <td>&lt;30</td>\n",
       "    </tr>\n",
       "    <tr>\n",
       "      <th>12</th>\n",
       "      <td>Caucasian</td>\n",
       "      <td>Female</td>\n",
       "      <td>[40-50)</td>\n",
       "      <td>1</td>\n",
       "      <td>3</td>\n",
       "      <td>7</td>\n",
       "      <td>7</td>\n",
       "      <td>60</td>\n",
       "      <td>0</td>\n",
       "      <td>15</td>\n",
       "      <td>...</td>\n",
       "      <td>No</td>\n",
       "      <td>Down</td>\n",
       "      <td>No</td>\n",
       "      <td>No</td>\n",
       "      <td>No</td>\n",
       "      <td>No</td>\n",
       "      <td>No</td>\n",
       "      <td>Ch</td>\n",
       "      <td>Yes</td>\n",
       "      <td>&lt;30</td>\n",
       "    </tr>\n",
       "    <tr>\n",
       "      <th>13</th>\n",
       "      <td>Caucasian</td>\n",
       "      <td>Male</td>\n",
       "      <td>[80-90)</td>\n",
       "      <td>1</td>\n",
       "      <td>6</td>\n",
       "      <td>7</td>\n",
       "      <td>10</td>\n",
       "      <td>55</td>\n",
       "      <td>1</td>\n",
       "      <td>31</td>\n",
       "      <td>...</td>\n",
       "      <td>No</td>\n",
       "      <td>Steady</td>\n",
       "      <td>No</td>\n",
       "      <td>No</td>\n",
       "      <td>No</td>\n",
       "      <td>No</td>\n",
       "      <td>No</td>\n",
       "      <td>No</td>\n",
       "      <td>Yes</td>\n",
       "      <td>NO</td>\n",
       "    </tr>\n",
       "    <tr>\n",
       "      <th>14</th>\n",
       "      <td>AfricanAmerican</td>\n",
       "      <td>Female</td>\n",
       "      <td>[60-70)</td>\n",
       "      <td>3</td>\n",
       "      <td>1</td>\n",
       "      <td>2</td>\n",
       "      <td>1</td>\n",
       "      <td>49</td>\n",
       "      <td>5</td>\n",
       "      <td>2</td>\n",
       "      <td>...</td>\n",
       "      <td>No</td>\n",
       "      <td>Steady</td>\n",
       "      <td>No</td>\n",
       "      <td>No</td>\n",
       "      <td>No</td>\n",
       "      <td>No</td>\n",
       "      <td>No</td>\n",
       "      <td>No</td>\n",
       "      <td>Yes</td>\n",
       "      <td>&gt;30</td>\n",
       "    </tr>\n",
       "    <tr>\n",
       "      <th>15</th>\n",
       "      <td>AfricanAmerican</td>\n",
       "      <td>Male</td>\n",
       "      <td>[60-70)</td>\n",
       "      <td>1</td>\n",
       "      <td>3</td>\n",
       "      <td>7</td>\n",
       "      <td>12</td>\n",
       "      <td>75</td>\n",
       "      <td>5</td>\n",
       "      <td>13</td>\n",
       "      <td>...</td>\n",
       "      <td>No</td>\n",
       "      <td>Up</td>\n",
       "      <td>No</td>\n",
       "      <td>No</td>\n",
       "      <td>No</td>\n",
       "      <td>No</td>\n",
       "      <td>No</td>\n",
       "      <td>Ch</td>\n",
       "      <td>Yes</td>\n",
       "      <td>NO</td>\n",
       "    </tr>\n",
       "    <tr>\n",
       "      <th>16</th>\n",
       "      <td>AfricanAmerican</td>\n",
       "      <td>Male</td>\n",
       "      <td>[50-60)</td>\n",
       "      <td>1</td>\n",
       "      <td>1</td>\n",
       "      <td>7</td>\n",
       "      <td>4</td>\n",
       "      <td>45</td>\n",
       "      <td>4</td>\n",
       "      <td>17</td>\n",
       "      <td>...</td>\n",
       "      <td>No</td>\n",
       "      <td>Steady</td>\n",
       "      <td>No</td>\n",
       "      <td>No</td>\n",
       "      <td>No</td>\n",
       "      <td>No</td>\n",
       "      <td>No</td>\n",
       "      <td>Ch</td>\n",
       "      <td>Yes</td>\n",
       "      <td>&lt;30</td>\n",
       "    </tr>\n",
       "    <tr>\n",
       "      <th>17</th>\n",
       "      <td>Caucasian</td>\n",
       "      <td>Female</td>\n",
       "      <td>[50-60)</td>\n",
       "      <td>1</td>\n",
       "      <td>1</td>\n",
       "      <td>7</td>\n",
       "      <td>3</td>\n",
       "      <td>29</td>\n",
       "      <td>0</td>\n",
       "      <td>11</td>\n",
       "      <td>...</td>\n",
       "      <td>No</td>\n",
       "      <td>No</td>\n",
       "      <td>No</td>\n",
       "      <td>No</td>\n",
       "      <td>No</td>\n",
       "      <td>No</td>\n",
       "      <td>No</td>\n",
       "      <td>No</td>\n",
       "      <td>Yes</td>\n",
       "      <td>NO</td>\n",
       "    </tr>\n",
       "    <tr>\n",
       "      <th>18</th>\n",
       "      <td>AfricanAmerican</td>\n",
       "      <td>Male</td>\n",
       "      <td>[70-80)</td>\n",
       "      <td>1</td>\n",
       "      <td>1</td>\n",
       "      <td>7</td>\n",
       "      <td>5</td>\n",
       "      <td>35</td>\n",
       "      <td>5</td>\n",
       "      <td>23</td>\n",
       "      <td>...</td>\n",
       "      <td>No</td>\n",
       "      <td>Steady</td>\n",
       "      <td>No</td>\n",
       "      <td>No</td>\n",
       "      <td>No</td>\n",
       "      <td>No</td>\n",
       "      <td>No</td>\n",
       "      <td>No</td>\n",
       "      <td>Yes</td>\n",
       "      <td>&gt;30</td>\n",
       "    </tr>\n",
       "    <tr>\n",
       "      <th>22</th>\n",
       "      <td>AfricanAmerican</td>\n",
       "      <td>Female</td>\n",
       "      <td>[70-80)</td>\n",
       "      <td>2</td>\n",
       "      <td>1</td>\n",
       "      <td>4</td>\n",
       "      <td>2</td>\n",
       "      <td>47</td>\n",
       "      <td>0</td>\n",
       "      <td>12</td>\n",
       "      <td>...</td>\n",
       "      <td>No</td>\n",
       "      <td>No</td>\n",
       "      <td>No</td>\n",
       "      <td>No</td>\n",
       "      <td>No</td>\n",
       "      <td>No</td>\n",
       "      <td>No</td>\n",
       "      <td>No</td>\n",
       "      <td>No</td>\n",
       "      <td>NO</td>\n",
       "    </tr>\n",
       "    <tr>\n",
       "      <th>23</th>\n",
       "      <td>Caucasian</td>\n",
       "      <td>Female</td>\n",
       "      <td>[80-90)</td>\n",
       "      <td>2</td>\n",
       "      <td>6</td>\n",
       "      <td>1</td>\n",
       "      <td>11</td>\n",
       "      <td>42</td>\n",
       "      <td>2</td>\n",
       "      <td>19</td>\n",
       "      <td>...</td>\n",
       "      <td>No</td>\n",
       "      <td>No</td>\n",
       "      <td>No</td>\n",
       "      <td>No</td>\n",
       "      <td>No</td>\n",
       "      <td>No</td>\n",
       "      <td>No</td>\n",
       "      <td>No</td>\n",
       "      <td>No</td>\n",
       "      <td>&gt;30</td>\n",
       "    </tr>\n",
       "  </tbody>\n",
       "</table>\n",
       "<p>20 rows × 45 columns</p>\n",
       "</div>"
      ],
      "text/plain": [
       "               race  gender       age  admission_type_id  \\\n",
       "1         Caucasian  Female   [10-20)                  1   \n",
       "2   AfricanAmerican  Female   [20-30)                  1   \n",
       "3         Caucasian    Male   [30-40)                  1   \n",
       "4         Caucasian    Male   [40-50)                  1   \n",
       "5         Caucasian    Male   [50-60)                  2   \n",
       "6         Caucasian    Male   [60-70)                  3   \n",
       "7         Caucasian    Male   [70-80)                  1   \n",
       "8         Caucasian  Female   [80-90)                  2   \n",
       "9         Caucasian  Female  [90-100)                  3   \n",
       "10  AfricanAmerican  Female   [40-50)                  1   \n",
       "11  AfricanAmerican    Male   [60-70)                  2   \n",
       "12        Caucasian  Female   [40-50)                  1   \n",
       "13        Caucasian    Male   [80-90)                  1   \n",
       "14  AfricanAmerican  Female   [60-70)                  3   \n",
       "15  AfricanAmerican    Male   [60-70)                  1   \n",
       "16  AfricanAmerican    Male   [50-60)                  1   \n",
       "17        Caucasian  Female   [50-60)                  1   \n",
       "18  AfricanAmerican    Male   [70-80)                  1   \n",
       "22  AfricanAmerican  Female   [70-80)                  2   \n",
       "23        Caucasian  Female   [80-90)                  2   \n",
       "\n",
       "    discharge_disposition_id  admission_source_id  time_in_hospital  \\\n",
       "1                          1                    7                 3   \n",
       "2                          1                    7                 2   \n",
       "3                          1                    7                 2   \n",
       "4                          1                    7                 1   \n",
       "5                          1                    2                 3   \n",
       "6                          1                    2                 4   \n",
       "7                          1                    7                 5   \n",
       "8                          1                    4                13   \n",
       "9                          3                    4                12   \n",
       "10                         1                    7                 9   \n",
       "11                         1                    4                 7   \n",
       "12                         3                    7                 7   \n",
       "13                         6                    7                10   \n",
       "14                         1                    2                 1   \n",
       "15                         3                    7                12   \n",
       "16                         1                    7                 4   \n",
       "17                         1                    7                 3   \n",
       "18                         1                    7                 5   \n",
       "22                         1                    4                 2   \n",
       "23                         6                    1                11   \n",
       "\n",
       "    num_lab_procedures  num_procedures  num_medications  ...  citoglipton  \\\n",
       "1                   59               0               18  ...           No   \n",
       "2                   11               5               13  ...           No   \n",
       "3                   44               1               16  ...           No   \n",
       "4                   51               0                8  ...           No   \n",
       "5                   31               6               16  ...           No   \n",
       "6                   70               1               21  ...           No   \n",
       "7                   73               0               12  ...           No   \n",
       "8                   68               2               28  ...           No   \n",
       "9                   33               3               18  ...           No   \n",
       "10                  47               2               17  ...           No   \n",
       "11                  62               0               11  ...           No   \n",
       "12                  60               0               15  ...           No   \n",
       "13                  55               1               31  ...           No   \n",
       "14                  49               5                2  ...           No   \n",
       "15                  75               5               13  ...           No   \n",
       "16                  45               4               17  ...           No   \n",
       "17                  29               0               11  ...           No   \n",
       "18                  35               5               23  ...           No   \n",
       "22                  47               0               12  ...           No   \n",
       "23                  42               2               19  ...           No   \n",
       "\n",
       "    insulin  glyburide-metformin glipizide-metformin glimepiride-pioglitazone  \\\n",
       "1        Up                   No                  No                       No   \n",
       "2        No                   No                  No                       No   \n",
       "3        Up                   No                  No                       No   \n",
       "4    Steady                   No                  No                       No   \n",
       "5    Steady                   No                  No                       No   \n",
       "6    Steady                   No                  No                       No   \n",
       "7        No                   No                  No                       No   \n",
       "8    Steady                   No                  No                       No   \n",
       "9    Steady                   No                  No                       No   \n",
       "10   Steady                   No                  No                       No   \n",
       "11   Steady                   No                  No                       No   \n",
       "12     Down                   No                  No                       No   \n",
       "13   Steady                   No                  No                       No   \n",
       "14   Steady                   No                  No                       No   \n",
       "15       Up                   No                  No                       No   \n",
       "16   Steady                   No                  No                       No   \n",
       "17       No                   No                  No                       No   \n",
       "18   Steady                   No                  No                       No   \n",
       "22       No                   No                  No                       No   \n",
       "23       No                   No                  No                       No   \n",
       "\n",
       "   metformin-rosiglitazone  metformin-pioglitazone change diabetesMed  \\\n",
       "1                       No                      No     Ch         Yes   \n",
       "2                       No                      No     No         Yes   \n",
       "3                       No                      No     Ch         Yes   \n",
       "4                       No                      No     Ch         Yes   \n",
       "5                       No                      No     No         Yes   \n",
       "6                       No                      No     Ch         Yes   \n",
       "7                       No                      No     No         Yes   \n",
       "8                       No                      No     Ch         Yes   \n",
       "9                       No                      No     Ch         Yes   \n",
       "10                      No                      No     No         Yes   \n",
       "11                      No                      No     Ch         Yes   \n",
       "12                      No                      No     Ch         Yes   \n",
       "13                      No                      No     No         Yes   \n",
       "14                      No                      No     No         Yes   \n",
       "15                      No                      No     Ch         Yes   \n",
       "16                      No                      No     Ch         Yes   \n",
       "17                      No                      No     No         Yes   \n",
       "18                      No                      No     No         Yes   \n",
       "22                      No                      No     No          No   \n",
       "23                      No                      No     No          No   \n",
       "\n",
       "   readmitted  \n",
       "1         >30  \n",
       "2          NO  \n",
       "3          NO  \n",
       "4          NO  \n",
       "5         >30  \n",
       "6          NO  \n",
       "7         >30  \n",
       "8          NO  \n",
       "9          NO  \n",
       "10        >30  \n",
       "11        <30  \n",
       "12        <30  \n",
       "13         NO  \n",
       "14        >30  \n",
       "15         NO  \n",
       "16        <30  \n",
       "17         NO  \n",
       "18        >30  \n",
       "22         NO  \n",
       "23        >30  \n",
       "\n",
       "[20 rows x 45 columns]"
      ]
     },
     "execution_count": 3,
     "metadata": {},
     "output_type": "execute_result"
    }
   ],
   "source": [
    "mapping=[]\n",
    "diabetic=[]\n",
    "\n",
    "with ZipFile(datafile) as rawData:\n",
    "        for info in rawData.infolist():\n",
    "            print(\"Reading: \", info.filename)\n",
    "            with rawData.open(info.filename) as f:\n",
    "                if 'IDs_mapping' in info.filename:\n",
    "                    mapping = pd.read_csv(f)\n",
    "                else:\n",
    "                    diabetic = pd.read_csv(f)\n",
    "\n",
    "# Removing Colums with too many unknow values or lack of relevance based on description\n",
    "dropped_Cols=['weight', 'medical_specialty', 'payer_code', 'encounter_id', 'patient_nbr']\n",
    "diabetic.drop(columns=dropped_Cols, inplace=True)\n",
    "# Drop remaining rows with unknown values\n",
    "diabetic.drop(index=(diabetic[diabetic.isin(['?']).any(axis=1)].index), inplace=True)\n",
    "# Let's check what's left\n",
    "diabetic.shape\n",
    "diabetic.head(20)\n",
    "\n",
    "#diabetic = pd.get_dummies(diabetic, prefix_sep='_', drop_first=False)\n",
    "\n"
   ]
  },
  {
   "cell_type": "code",
   "execution_count": 4,
   "metadata": {},
   "outputs": [],
   "source": [
    "# The profile is completely optionional and not required to run the models\n",
    "# It was used to review the dataset.\n",
    "profile1 = pandas_profiling.ProfileReport(diabetic)"
   ]
  },
  {
   "cell_type": "code",
   "execution_count": 5,
   "metadata": {},
   "outputs": [
    {
     "data": {
      "application/vnd.jupyter.widget-view+json": {
       "model_id": "674d3567dc774f308d46e645750e8f2f",
       "version_major": 2,
       "version_minor": 0
      },
      "text/plain": [
       "Summarize dataset:   0%|          | 0/59 [00:00<?, ?it/s]"
      ]
     },
     "metadata": {},
     "output_type": "display_data"
    },
    {
     "data": {
      "application/vnd.jupyter.widget-view+json": {
       "model_id": "2558ee21a8b54bd4862843fc3f273101",
       "version_major": 2,
       "version_minor": 0
      },
      "text/plain": [
       "Generate report structure:   0%|          | 0/1 [00:00<?, ?it/s]"
      ]
     },
     "metadata": {},
     "output_type": "display_data"
    },
    {
     "data": {
      "application/vnd.jupyter.widget-view+json": {
       "model_id": "bde578b39d66467096901583b5158ea5",
       "version_major": 2,
       "version_minor": 0
      },
      "text/plain": [
       "Render HTML:   0%|          | 0/1 [00:00<?, ?it/s]"
      ]
     },
     "metadata": {},
     "output_type": "display_data"
    },
    {
     "data": {
      "application/vnd.jupyter.widget-view+json": {
       "model_id": "197cb565c7714c68bd96a6ccefb18eb7",
       "version_major": 2,
       "version_minor": 0
      },
      "text/plain": [
       "Export report to file:   0%|          | 0/1 [00:00<?, ?it/s]"
      ]
     },
     "metadata": {},
     "output_type": "display_data"
    }
   ],
   "source": [
    "profile1.to_file('profile1.html')"
   ]
  },
  {
   "cell_type": "code",
   "execution_count": 6,
   "metadata": {},
   "outputs": [
    {
     "data": {
      "application/vnd.jupyter.widget-view+json": {
       "model_id": "",
       "version_major": 2,
       "version_minor": 0
      },
      "text/plain": [
       "Render widgets:   0%|          | 0/1 [00:00<?, ?it/s]"
      ]
     },
     "metadata": {},
     "output_type": "display_data"
    },
    {
     "data": {
      "application/vnd.jupyter.widget-view+json": {
       "model_id": "787028e23a79482e88963455865d3c21",
       "version_major": 2,
       "version_minor": 0
      },
      "text/plain": [
       "VBox(children=(Tab(children=(Tab(children=(GridBox(children=(VBox(children=(GridspecLayout(children=(HTML(valu…"
      ]
     },
     "metadata": {},
     "output_type": "display_data"
    }
   ],
   "source": [
    "profile1.to_widgets()"
   ]
  },
  {
   "cell_type": "markdown",
   "metadata": {},
   "source": [
    "## Profiling results\n",
    "\n",
    "Based the profile results, we can make additional cleanup steps:\n"
   ]
  },
  {
   "cell_type": "markdown",
   "metadata": {},
   "source": [
    "## Categorical Data\n",
    "\n",
    "### Gender\n",
    "\n",
    "We normalize this feature by creating a single \"isFemale\" binary feature and we remove the one patient of unknown gender. We can than drop the gender."
   ]
  },
  {
   "cell_type": "code",
   "execution_count": 7,
   "metadata": {},
   "outputs": [],
   "source": [
    "diabetic[\"isFemale\"] = False\n",
    "diabetic.loc[diabetic.gender == \"Female\", \"isFemale\"] = True\n",
    "diabetic = diabetic[diabetic.gender != \"Unknown/Invalid\"]\n",
    "diabetic.drop(columns=['gender'], inplace=True)"
   ]
  },
  {
   "cell_type": "markdown",
   "metadata": {},
   "source": [
    "### Race\n",
    "\n",
    "With race, I will simply create categorical binary features, and we can drop the gender.\n"
   ]
  },
  {
   "cell_type": "code",
   "execution_count": 8,
   "metadata": {},
   "outputs": [],
   "source": [
    "diabetic = pd.get_dummies(data = diabetic, columns = [\"race\"], prefix = \"race\", drop_first=False)"
   ]
  },
  {
   "cell_type": "markdown",
   "metadata": {},
   "source": [
    "### Diagnostic\n",
    "\n",
    "There are three independant diagnostics and each can be over 700 different values. For this purpose, I will simplify the diagnostic into a few relevant categories.\n",
    "\n",
    "A few of the diagnostics start with E and with V. Those will be other. For numeric icd9 codes, I followed information from the paper going with the data:\n",
    "\n",
    "> The following abbreviations are used for particular icd9 codes: “circulatory” for icd9: 390–459, 785, “digestive” for icd9: 520–579, 787, “genitourinary” for icd9: 580–629, 788, “diabetes” for icd9: 250.xx, “injury” for icd9: 800–999, “musculoskeletal” for icd9: 710–739, “neoplasms” for icd9: 140–239, “respiratory’’ for icd9: 460–519, 786, and “other” for otherwise.\n",
    "\n",
    "From: https://www.hindawi.com/journals/bmri/2014/781670/#results-and-discussion\n"
   ]
  },
  {
   "cell_type": "code",
   "execution_count": 9,
   "metadata": {},
   "outputs": [],
   "source": [
    "def fix_diag(diabetic, icd9) :\n",
    "    if diabetic[icd9][0] == \"E\" :\n",
    "        return \"Other\"\n",
    "    elif diabetic[icd9][0] == \"V\" :\n",
    "        return \"Other\"\n",
    "    else :\n",
    "        num = float(diabetic[icd9])\n",
    "        \n",
    "        if np.trunc(num) == 250 :\n",
    "            return \"diabetes\"\n",
    "        elif num <= 139 :\n",
    "            return \"other\"\n",
    "        elif num <= 279 :\n",
    "            return \"neoplasms\"\n",
    "        elif num <= 389 :\n",
    "            return \"other\"\n",
    "        elif num <= 459 :\n",
    "            return \"circulatory\"\n",
    "        elif num <= 519 :\n",
    "            return \"respiratory\"\n",
    "        elif num <= 579 :\n",
    "            return \"digestive\"\n",
    "        elif num <= 629 :\n",
    "            return \"genitourinary\"\n",
    "        elif num <= 679 :\n",
    "            return \"other\"\n",
    "        elif num <= 709 :\n",
    "            return \"neoplasms\"\n",
    "        elif num <= 739 :\n",
    "            return \"musculoskeletal\"\n",
    "        elif num <= 759 :\n",
    "            return \"other\"\n",
    "        elif num in [780, 781, 782, 783, 784] : \n",
    "            return \"neoplasms\"\n",
    "        elif num == 785 :\n",
    "            return \"circulatory\"\n",
    "        elif num == 786 :\n",
    "            return \"respiratory\"\n",
    "        elif num == 787 :\n",
    "            return \"digestive\"\n",
    "        elif num == 788 :\n",
    "            return \"genitourinary\"\n",
    "        elif num == 789 :\n",
    "            return \"digestive\"\n",
    "        elif num in np.arange(790, 800) :\n",
    "            return \"neoplasms\"\n",
    "        elif num >= 800 :\n",
    "            return \"injury\"\n",
    "        else :\n",
    "            return num\n",
    "\n",
    "diabetic[\"diag1_norm\"] = diabetic.apply(fix_diag, axis=1, icd9=\"diag_1\")\n",
    "diabetic[\"diag2_norm\"] = diabetic.apply(fix_diag, axis=1, icd9=\"diag_2\")\n",
    "diabetic[\"diag3_norm\"] = diabetic.apply(fix_diag, axis=1, icd9=\"diag_3\")"
   ]
  },
  {
   "cell_type": "markdown",
   "metadata": {},
   "source": [
    "Armed with a \"textual\" diagnosis instead of a code, we can now create binary variables, once for each diagnosis.\n",
    "- diabetes_diagnosis\n",
    "- other_diagnosis\n",
    "- etc."
   ]
  },
  {
   "cell_type": "code",
   "execution_count": 10,
   "metadata": {},
   "outputs": [],
   "source": [
    "def diagnose (diabetic, diag) :\n",
    "    if (diabetic[\"diag1_norm\"] == diag) | (diabetic[\"diag2_norm\"] == diag) | (diabetic[\"diag3_norm\"] == diag) :\n",
    "        return True\n",
    "    else :\n",
    "        return False\n",
    "\n",
    "for val in ['diabetes', 'other', 'circulatory', 'neoplasms', 'respiratory', 'injury', 'musculoskeletal', 'digestive', 'genitourinary'] :\n",
    "    name = val + \"_diagnosis\"\n",
    "    diabetic[name] = diabetic.apply(diagnose, axis = 1, diag=val)\n",
    "\n",
    "dropped_Cols=['diag1_norm', 'diag2_norm', 'diag3_norm', 'diag_1', 'diag_2', 'diag_3']\n",
    "diabetic.drop(columns=dropped_Cols, inplace=True)\n"
   ]
  },
  {
   "cell_type": "markdown",
   "metadata": {},
   "source": [
    "### Drugs\n",
    "\n",
    "- We'll remove drugs rarely present like `examide`, `citoglipton` and `metformin-rosiglitazone`\n",
    "- For other \"common\" drugs found more often, we can create a binary variable where No is FALSE and Down, Steady or Up means the drug was \"present\" so TRUE."
   ]
  },
  {
   "cell_type": "code",
   "execution_count": 11,
   "metadata": {},
   "outputs": [],
   "source": [
    "common_drugs = ['metformin', 'repaglinide', 'glimepiride', 'glipizide',\n",
    "                'glyburide', 'pioglitazone', 'rosiglitazone', 'insulin']\n",
    "rare_drugs = [\"nateglinide\", \"chlorpropamide\", \"acetohexamide\", \"tolbutamide\",\n",
    "             \"acarbose\", \"miglitol\", \"troglitazone\", \"tolazamide\", \"examide\",\n",
    "             \"citoglipton\", \"glyburide-metformin\", \"glipizide-metformin\",\n",
    "             \"glimepiride-pioglitazone\", \"metformin-rosiglitazone\", \"metformin-pioglitazone\"]\n",
    "\n",
    "drugs = common_drugs + rare_drugs"
   ]
  },
  {
   "cell_type": "code",
   "execution_count": 12,
   "metadata": {},
   "outputs": [],
   "source": [
    "for drug in common_drugs :\n",
    "    name = \"take_\" + drug\n",
    "    diabetic[name] = diabetic[drug].isin([\"Down\", \"Steady\", \"Up\"])"
   ]
  },
  {
   "cell_type": "code",
   "execution_count": 13,
   "metadata": {},
   "outputs": [],
   "source": [
    "diabetic.drop(columns=drugs, inplace=True)"
   ]
  },
  {
   "cell_type": "markdown",
   "metadata": {},
   "source": [
    "### Readmissions (our outcome)\n",
    "\n",
    "The current variable `readmitted` is `NO`, `>30` if readmitted after 30 days, or `<30` if readmitted under 30 days.\n",
    "I will create a single dummy \"readmitted\" which means the patient was readmitted under 30 days, the outcome we are looking to predict."
   ]
  },
  {
   "cell_type": "code",
   "execution_count": 14,
   "metadata": {},
   "outputs": [],
   "source": [
    "diabetic = pd.get_dummies(data = diabetic, columns = [\"readmitted\"], prefix = \"readmit\", drop_first=False)\n",
    "# I didn't use drop_first to be sure I was dropping readmit_NO\n",
    "diabetic = diabetic.drop([\"readmit_NO\"], axis = 1)"
   ]
  },
  {
   "cell_type": "markdown",
   "metadata": {},
   "source": [
    "After consideration, I will drop readmit_>30 and entirely focus on patients readmitted under 30 days for this study."
   ]
  },
  {
   "cell_type": "code",
   "execution_count": 15,
   "metadata": {},
   "outputs": [],
   "source": [
    "diabetic = diabetic.drop([\"readmit_>30\"], axis = 1)\n",
    "diabetic.rename(columns = {'readmit_<30': 'readmitted'}, inplace = True)"
   ]
  },
  {
   "cell_type": "markdown",
   "metadata": {},
   "source": [
    "### A1C and GluSerum tests\n",
    "\n",
    "According to the paper, `A1C` of `>7` or `>8` would be considered abnormal. Same for `>200` or `>300` for the GluSerum test. I will combine these two to reduce the number of categorical variables. "
   ]
  },
  {
   "cell_type": "code",
   "execution_count": 16,
   "metadata": {},
   "outputs": [],
   "source": [
    "diabetic[\"A1C\"] = diabetic[\"A1Cresult\"]\n",
    "diabetic.loc[diabetic.A1Cresult.isin([\">7\", \">8\"]), \"A1C\"] = \"Abnorm\"\n",
    "\n",
    "diabetic = pd.get_dummies(data = diabetic, columns = [\"A1C\"], prefix = \"A1C\", drop_first=False)\n",
    "diabetic = diabetic.drop([\"A1Cresult\", \"A1C_None\"], axis = 1)"
   ]
  },
  {
   "cell_type": "code",
   "execution_count": 17,
   "metadata": {},
   "outputs": [],
   "source": [
    "diabetic[\"glu_serum\"] = diabetic[\"max_glu_serum\"]\n",
    "diabetic.loc[diabetic.max_glu_serum.isin([\">200\", \">300\"]), \"glu_serum\"] = \"Abnorm\"\n",
    "\n",
    "diabetic = pd.get_dummies(data = diabetic, columns = [\"glu_serum\"], prefix = \"glu_serum\", drop_first=False)\n",
    "diabetic = diabetic.drop([\"max_glu_serum\", \"glu_serum_None\"], axis = 1)"
   ]
  },
  {
   "cell_type": "markdown",
   "metadata": {},
   "source": [
    "### Change and diabetesMed\n",
    "\n",
    "These two features simply need to converted:\n",
    "- for `Change`, from `Ch` to `True` and `No` to `False`\n",
    "- for `diabetesMed`, from `Yes` to `True` and `No` to `False`."
   ]
  },
  {
   "cell_type": "code",
   "execution_count": 18,
   "metadata": {},
   "outputs": [],
   "source": [
    "diabetic.loc[diabetic.change == \"Ch\", \"change\"] = True\n",
    "diabetic.loc[diabetic.change == \"No\", \"change\"] = False\n",
    "\n",
    "diabetic.loc[diabetic.diabetesMed == \"Yes\", \"diabetesMed\"] = True\n",
    "diabetic.loc[diabetic.diabetesMed == \"No\", \"diabetesMed\"] = False"
   ]
  },
  {
   "cell_type": "markdown",
   "metadata": {},
   "source": [
    "## Unmapped Data\n",
    "\n",
    "After, I elected to remove columns I was not clear would yield useful information for this model\n",
    "- admission_type_id\n",
    "- discharge_disposition_id\t\n",
    "- admission_source_id\n",
    "\n",
    "I could no easily find a mapping for these IDs and give the information meaning."
   ]
  },
  {
   "cell_type": "code",
   "execution_count": 19,
   "metadata": {},
   "outputs": [],
   "source": [
    "diabetic.drop(columns=['admission_type_id', 'discharge_disposition_id', 'admission_source_id'], inplace=True)"
   ]
  },
  {
   "cell_type": "markdown",
   "metadata": {},
   "source": [
    "## Quantitative Variables\n",
    "\n",
    "### Age\n",
    "\n",
    "Age should be quantitative, we will return it to a numerical value by simply taking the first digit for the decade:\n",
    "- 10-20 == 10\n",
    "- 20-30 == 20\n",
    "etc."
   ]
  },
  {
   "cell_type": "code",
   "execution_count": 20,
   "metadata": {},
   "outputs": [],
   "source": [
    "def cutage (df) :\n",
    "    return int(df.age[-4::].replace('-', '').replace(')', ''))\n",
    "\n",
    "diabetic[\"decade\"] = diabetic.apply(cutage, axis = 1)\n",
    "#var_quanti.append(\"age_num\")\n",
    "diabetic = diabetic.drop(\"age\", axis = 1)"
   ]
  },
  {
   "cell_type": "code",
   "execution_count": 21,
   "metadata": {},
   "outputs": [],
   "source": [
    "quant_values = ['decade', 'time_in_hospital', 'num_lab_procedures', 'num_procedures', \n",
    "                'num_medications', 'number_outpatient', 'number_emergency', \n",
    "                'number_inpatient','number_diagnoses' ]"
   ]
  },
  {
   "cell_type": "code",
   "execution_count": 22,
   "metadata": {},
   "outputs": [
    {
     "data": {
      "text/html": [
       "<div>\n",
       "<style scoped>\n",
       "    .dataframe tbody tr th:only-of-type {\n",
       "        vertical-align: middle;\n",
       "    }\n",
       "\n",
       "    .dataframe tbody tr th {\n",
       "        vertical-align: top;\n",
       "    }\n",
       "\n",
       "    .dataframe thead th {\n",
       "        text-align: right;\n",
       "    }\n",
       "</style>\n",
       "<table border=\"1\" class=\"dataframe\">\n",
       "  <thead>\n",
       "    <tr style=\"text-align: right;\">\n",
       "      <th></th>\n",
       "      <th>time_in_hospital</th>\n",
       "      <th>num_lab_procedures</th>\n",
       "      <th>num_procedures</th>\n",
       "      <th>num_medications</th>\n",
       "      <th>number_outpatient</th>\n",
       "      <th>number_emergency</th>\n",
       "      <th>number_inpatient</th>\n",
       "      <th>number_diagnoses</th>\n",
       "      <th>change</th>\n",
       "      <th>diabetesMed</th>\n",
       "      <th>...</th>\n",
       "      <th>take_glyburide</th>\n",
       "      <th>take_pioglitazone</th>\n",
       "      <th>take_rosiglitazone</th>\n",
       "      <th>take_insulin</th>\n",
       "      <th>readmitted</th>\n",
       "      <th>A1C_Abnorm</th>\n",
       "      <th>A1C_Norm</th>\n",
       "      <th>glu_serum_Abnorm</th>\n",
       "      <th>glu_serum_Norm</th>\n",
       "      <th>decade</th>\n",
       "    </tr>\n",
       "  </thead>\n",
       "  <tbody>\n",
       "    <tr>\n",
       "      <th>1</th>\n",
       "      <td>3</td>\n",
       "      <td>59</td>\n",
       "      <td>0</td>\n",
       "      <td>18</td>\n",
       "      <td>0</td>\n",
       "      <td>0</td>\n",
       "      <td>0</td>\n",
       "      <td>9</td>\n",
       "      <td>True</td>\n",
       "      <td>True</td>\n",
       "      <td>...</td>\n",
       "      <td>False</td>\n",
       "      <td>False</td>\n",
       "      <td>False</td>\n",
       "      <td>True</td>\n",
       "      <td>0</td>\n",
       "      <td>0</td>\n",
       "      <td>0</td>\n",
       "      <td>0</td>\n",
       "      <td>0</td>\n",
       "      <td>20</td>\n",
       "    </tr>\n",
       "    <tr>\n",
       "      <th>2</th>\n",
       "      <td>2</td>\n",
       "      <td>11</td>\n",
       "      <td>5</td>\n",
       "      <td>13</td>\n",
       "      <td>2</td>\n",
       "      <td>0</td>\n",
       "      <td>1</td>\n",
       "      <td>6</td>\n",
       "      <td>False</td>\n",
       "      <td>True</td>\n",
       "      <td>...</td>\n",
       "      <td>False</td>\n",
       "      <td>False</td>\n",
       "      <td>False</td>\n",
       "      <td>False</td>\n",
       "      <td>0</td>\n",
       "      <td>0</td>\n",
       "      <td>0</td>\n",
       "      <td>0</td>\n",
       "      <td>0</td>\n",
       "      <td>30</td>\n",
       "    </tr>\n",
       "    <tr>\n",
       "      <th>3</th>\n",
       "      <td>2</td>\n",
       "      <td>44</td>\n",
       "      <td>1</td>\n",
       "      <td>16</td>\n",
       "      <td>0</td>\n",
       "      <td>0</td>\n",
       "      <td>0</td>\n",
       "      <td>7</td>\n",
       "      <td>True</td>\n",
       "      <td>True</td>\n",
       "      <td>...</td>\n",
       "      <td>False</td>\n",
       "      <td>False</td>\n",
       "      <td>False</td>\n",
       "      <td>True</td>\n",
       "      <td>0</td>\n",
       "      <td>0</td>\n",
       "      <td>0</td>\n",
       "      <td>0</td>\n",
       "      <td>0</td>\n",
       "      <td>40</td>\n",
       "    </tr>\n",
       "    <tr>\n",
       "      <th>4</th>\n",
       "      <td>1</td>\n",
       "      <td>51</td>\n",
       "      <td>0</td>\n",
       "      <td>8</td>\n",
       "      <td>0</td>\n",
       "      <td>0</td>\n",
       "      <td>0</td>\n",
       "      <td>5</td>\n",
       "      <td>True</td>\n",
       "      <td>True</td>\n",
       "      <td>...</td>\n",
       "      <td>False</td>\n",
       "      <td>False</td>\n",
       "      <td>False</td>\n",
       "      <td>True</td>\n",
       "      <td>0</td>\n",
       "      <td>0</td>\n",
       "      <td>0</td>\n",
       "      <td>0</td>\n",
       "      <td>0</td>\n",
       "      <td>50</td>\n",
       "    </tr>\n",
       "    <tr>\n",
       "      <th>5</th>\n",
       "      <td>3</td>\n",
       "      <td>31</td>\n",
       "      <td>6</td>\n",
       "      <td>16</td>\n",
       "      <td>0</td>\n",
       "      <td>0</td>\n",
       "      <td>0</td>\n",
       "      <td>9</td>\n",
       "      <td>False</td>\n",
       "      <td>True</td>\n",
       "      <td>...</td>\n",
       "      <td>False</td>\n",
       "      <td>False</td>\n",
       "      <td>False</td>\n",
       "      <td>True</td>\n",
       "      <td>0</td>\n",
       "      <td>0</td>\n",
       "      <td>0</td>\n",
       "      <td>0</td>\n",
       "      <td>0</td>\n",
       "      <td>60</td>\n",
       "    </tr>\n",
       "    <tr>\n",
       "      <th>...</th>\n",
       "      <td>...</td>\n",
       "      <td>...</td>\n",
       "      <td>...</td>\n",
       "      <td>...</td>\n",
       "      <td>...</td>\n",
       "      <td>...</td>\n",
       "      <td>...</td>\n",
       "      <td>...</td>\n",
       "      <td>...</td>\n",
       "      <td>...</td>\n",
       "      <td>...</td>\n",
       "      <td>...</td>\n",
       "      <td>...</td>\n",
       "      <td>...</td>\n",
       "      <td>...</td>\n",
       "      <td>...</td>\n",
       "      <td>...</td>\n",
       "      <td>...</td>\n",
       "      <td>...</td>\n",
       "      <td>...</td>\n",
       "      <td>...</td>\n",
       "    </tr>\n",
       "    <tr>\n",
       "      <th>101761</th>\n",
       "      <td>3</td>\n",
       "      <td>51</td>\n",
       "      <td>0</td>\n",
       "      <td>16</td>\n",
       "      <td>0</td>\n",
       "      <td>0</td>\n",
       "      <td>0</td>\n",
       "      <td>9</td>\n",
       "      <td>True</td>\n",
       "      <td>True</td>\n",
       "      <td>...</td>\n",
       "      <td>False</td>\n",
       "      <td>False</td>\n",
       "      <td>False</td>\n",
       "      <td>True</td>\n",
       "      <td>0</td>\n",
       "      <td>1</td>\n",
       "      <td>0</td>\n",
       "      <td>0</td>\n",
       "      <td>0</td>\n",
       "      <td>80</td>\n",
       "    </tr>\n",
       "    <tr>\n",
       "      <th>101762</th>\n",
       "      <td>5</td>\n",
       "      <td>33</td>\n",
       "      <td>3</td>\n",
       "      <td>18</td>\n",
       "      <td>0</td>\n",
       "      <td>0</td>\n",
       "      <td>1</td>\n",
       "      <td>9</td>\n",
       "      <td>False</td>\n",
       "      <td>True</td>\n",
       "      <td>...</td>\n",
       "      <td>False</td>\n",
       "      <td>False</td>\n",
       "      <td>False</td>\n",
       "      <td>True</td>\n",
       "      <td>0</td>\n",
       "      <td>0</td>\n",
       "      <td>0</td>\n",
       "      <td>0</td>\n",
       "      <td>0</td>\n",
       "      <td>90</td>\n",
       "    </tr>\n",
       "    <tr>\n",
       "      <th>101763</th>\n",
       "      <td>1</td>\n",
       "      <td>53</td>\n",
       "      <td>0</td>\n",
       "      <td>9</td>\n",
       "      <td>1</td>\n",
       "      <td>0</td>\n",
       "      <td>0</td>\n",
       "      <td>13</td>\n",
       "      <td>True</td>\n",
       "      <td>True</td>\n",
       "      <td>...</td>\n",
       "      <td>False</td>\n",
       "      <td>False</td>\n",
       "      <td>False</td>\n",
       "      <td>True</td>\n",
       "      <td>0</td>\n",
       "      <td>0</td>\n",
       "      <td>0</td>\n",
       "      <td>0</td>\n",
       "      <td>0</td>\n",
       "      <td>80</td>\n",
       "    </tr>\n",
       "    <tr>\n",
       "      <th>101764</th>\n",
       "      <td>10</td>\n",
       "      <td>45</td>\n",
       "      <td>2</td>\n",
       "      <td>21</td>\n",
       "      <td>0</td>\n",
       "      <td>0</td>\n",
       "      <td>1</td>\n",
       "      <td>9</td>\n",
       "      <td>True</td>\n",
       "      <td>True</td>\n",
       "      <td>...</td>\n",
       "      <td>False</td>\n",
       "      <td>True</td>\n",
       "      <td>False</td>\n",
       "      <td>True</td>\n",
       "      <td>0</td>\n",
       "      <td>0</td>\n",
       "      <td>0</td>\n",
       "      <td>0</td>\n",
       "      <td>0</td>\n",
       "      <td>90</td>\n",
       "    </tr>\n",
       "    <tr>\n",
       "      <th>101765</th>\n",
       "      <td>6</td>\n",
       "      <td>13</td>\n",
       "      <td>3</td>\n",
       "      <td>3</td>\n",
       "      <td>0</td>\n",
       "      <td>0</td>\n",
       "      <td>0</td>\n",
       "      <td>9</td>\n",
       "      <td>False</td>\n",
       "      <td>False</td>\n",
       "      <td>...</td>\n",
       "      <td>False</td>\n",
       "      <td>False</td>\n",
       "      <td>False</td>\n",
       "      <td>False</td>\n",
       "      <td>0</td>\n",
       "      <td>0</td>\n",
       "      <td>0</td>\n",
       "      <td>0</td>\n",
       "      <td>0</td>\n",
       "      <td>80</td>\n",
       "    </tr>\n",
       "  </tbody>\n",
       "</table>\n",
       "<p>98052 rows × 39 columns</p>\n",
       "</div>"
      ],
      "text/plain": [
       "        time_in_hospital  num_lab_procedures  num_procedures  num_medications  \\\n",
       "1                      3                  59               0               18   \n",
       "2                      2                  11               5               13   \n",
       "3                      2                  44               1               16   \n",
       "4                      1                  51               0                8   \n",
       "5                      3                  31               6               16   \n",
       "...                  ...                 ...             ...              ...   \n",
       "101761                 3                  51               0               16   \n",
       "101762                 5                  33               3               18   \n",
       "101763                 1                  53               0                9   \n",
       "101764                10                  45               2               21   \n",
       "101765                 6                  13               3                3   \n",
       "\n",
       "        number_outpatient  number_emergency  number_inpatient  \\\n",
       "1                       0                 0                 0   \n",
       "2                       2                 0                 1   \n",
       "3                       0                 0                 0   \n",
       "4                       0                 0                 0   \n",
       "5                       0                 0                 0   \n",
       "...                   ...               ...               ...   \n",
       "101761                  0                 0                 0   \n",
       "101762                  0                 0                 1   \n",
       "101763                  1                 0                 0   \n",
       "101764                  0                 0                 1   \n",
       "101765                  0                 0                 0   \n",
       "\n",
       "        number_diagnoses change diabetesMed  ...  take_glyburide  \\\n",
       "1                      9   True        True  ...           False   \n",
       "2                      6  False        True  ...           False   \n",
       "3                      7   True        True  ...           False   \n",
       "4                      5   True        True  ...           False   \n",
       "5                      9  False        True  ...           False   \n",
       "...                  ...    ...         ...  ...             ...   \n",
       "101761                 9   True        True  ...           False   \n",
       "101762                 9  False        True  ...           False   \n",
       "101763                13   True        True  ...           False   \n",
       "101764                 9   True        True  ...           False   \n",
       "101765                 9  False       False  ...           False   \n",
       "\n",
       "        take_pioglitazone  take_rosiglitazone  take_insulin  readmitted  \\\n",
       "1                   False               False          True           0   \n",
       "2                   False               False         False           0   \n",
       "3                   False               False          True           0   \n",
       "4                   False               False          True           0   \n",
       "5                   False               False          True           0   \n",
       "...                   ...                 ...           ...         ...   \n",
       "101761              False               False          True           0   \n",
       "101762              False               False          True           0   \n",
       "101763              False               False          True           0   \n",
       "101764               True               False          True           0   \n",
       "101765              False               False         False           0   \n",
       "\n",
       "        A1C_Abnorm  A1C_Norm  glu_serum_Abnorm  glu_serum_Norm  decade  \n",
       "1                0         0                 0               0      20  \n",
       "2                0         0                 0               0      30  \n",
       "3                0         0                 0               0      40  \n",
       "4                0         0                 0               0      50  \n",
       "5                0         0                 0               0      60  \n",
       "...            ...       ...               ...             ...     ...  \n",
       "101761           1         0                 0               0      80  \n",
       "101762           0         0                 0               0      90  \n",
       "101763           0         0                 0               0      80  \n",
       "101764           0         0                 0               0      90  \n",
       "101765           0         0                 0               0      80  \n",
       "\n",
       "[98052 rows x 39 columns]"
      ]
     },
     "execution_count": 22,
     "metadata": {},
     "output_type": "execute_result"
    }
   ],
   "source": [
    "diabetic"
   ]
  },
  {
   "cell_type": "markdown",
   "metadata": {},
   "source": [
    "## Re-profiling for a quick verification\n"
   ]
  },
  {
   "cell_type": "code",
   "execution_count": 23,
   "metadata": {},
   "outputs": [
    {
     "data": {
      "application/vnd.jupyter.widget-view+json": {
       "model_id": "56d2254191cf495caec7e678068ba826",
       "version_major": 2,
       "version_minor": 0
      },
      "text/plain": [
       "Summarize dataset:   0%|          | 0/53 [00:00<?, ?it/s]"
      ]
     },
     "metadata": {},
     "output_type": "display_data"
    },
    {
     "data": {
      "application/vnd.jupyter.widget-view+json": {
       "model_id": "9c77ead287904b528347799604f5348f",
       "version_major": 2,
       "version_minor": 0
      },
      "text/plain": [
       "Generate report structure:   0%|          | 0/1 [00:00<?, ?it/s]"
      ]
     },
     "metadata": {},
     "output_type": "display_data"
    },
    {
     "data": {
      "application/vnd.jupyter.widget-view+json": {
       "model_id": "7d067555413f4756b861ec3dfbef2082",
       "version_major": 2,
       "version_minor": 0
      },
      "text/plain": [
       "Render HTML:   0%|          | 0/1 [00:00<?, ?it/s]"
      ]
     },
     "metadata": {},
     "output_type": "display_data"
    },
    {
     "data": {
      "application/vnd.jupyter.widget-view+json": {
       "model_id": "a6751f7bf7ab462f8af3f6b3a4669d8f",
       "version_major": 2,
       "version_minor": 0
      },
      "text/plain": [
       "Export report to file:   0%|          | 0/1 [00:00<?, ?it/s]"
      ]
     },
     "metadata": {},
     "output_type": "display_data"
    }
   ],
   "source": [
    "# The profile is completely optionional and not required to run the models\n",
    "# It was used to review the dataset.\n",
    "profile2 = pandas_profiling.ProfileReport(diabetic)\n",
    "profile2.to_file('profile2.html')"
   ]
  },
  {
   "cell_type": "code",
   "execution_count": 24,
   "metadata": {},
   "outputs": [
    {
     "data": {
      "application/vnd.jupyter.widget-view+json": {
       "model_id": "",
       "version_major": 2,
       "version_minor": 0
      },
      "text/plain": [
       "Render widgets:   0%|          | 0/1 [00:00<?, ?it/s]"
      ]
     },
     "metadata": {},
     "output_type": "display_data"
    },
    {
     "data": {
      "application/vnd.jupyter.widget-view+json": {
       "model_id": "fdd895e0458a4189afb8a730d1fef677",
       "version_major": 2,
       "version_minor": 0
      },
      "text/plain": [
       "VBox(children=(Tab(children=(Tab(children=(GridBox(children=(VBox(children=(GridspecLayout(children=(HTML(valu…"
      ]
     },
     "metadata": {},
     "output_type": "display_data"
    }
   ],
   "source": [
    "profile2.to_widgets()"
   ]
  },
  {
   "cell_type": "markdown",
   "metadata": {},
   "source": [
    "## Correlations\n",
    "\n",
    "Reviewing correlations is a useful exercise. Some of this was done twice already, using the pandas-profiling function. Clear correlation maps were produced, before AND after the data was cleaned up and organized.\n",
    "\n",
    "Following the organization, we have dropped the number of warnings to only 6 obvious ones. And the correlation maps makes more sense (see below).\n",
    "\n",
    "We have definite stronger correlations between: time_in_hospital, num_lab_procedures, num_procedures and number of medications. This cluster of correlations makes sense.\n",
    "\n",
    "From a \"readmission\" perspective, we do notice some correlations with the num_emergency and num_inpatiet, also expected.\n"
   ]
  },
  {
   "cell_type": "code",
   "execution_count": 25,
   "metadata": {
    "cell_id": "00007-095410cb-3ff2-4f03-b008-770518790c98",
    "deepnote_cell_type": "code",
    "deepnote_to_be_reexecuted": false,
    "execution_millis": 536,
    "execution_start": 1619292729056,
    "source_hash": "d8fd7ee4"
   },
   "outputs": [
    {
     "data": {
      "text/plain": [
       "<AxesSubplot:>"
      ]
     },
     "execution_count": 25,
     "metadata": {},
     "output_type": "execute_result"
    },
    {
     "data": {
      "image/png": "[encoded data removed]",
      "text/plain": [
       "<Figure size 432x288 with 2 Axes>"
      ]
     },
     "metadata": {
      "needs_background": "light"
     },
     "output_type": "display_data"
    }
   ],
   "source": [
    "corr = diabetic.corr()\n",
    "sns.heatmap(corr, xticklabels=corr.columns, yticklabels=corr.columns)"
   ]
  },
  {
   "cell_type": "markdown",
   "metadata": {
    "cell_id": "00008-70a4cc91-a74e-458f-8def-c26c6697e5a5",
    "deepnote_cell_type": "code",
    "deepnote_to_be_reexecuted": true,
    "source_hash": "d68ace47"
   },
   "source": [
    "# 2. Visualize your dataset.\n",
    "\n",
    "We will consider the following visualization technique:\n",
    "- Basic charts (e.g., bar, line, ad scatter plots)*\n",
    "- Heatmaps*\n",
    "- Multidimensional visualization\n",
    "- Network\n",
    "- Treemaps"
   ]
  },
  {
   "cell_type": "markdown",
   "metadata": {
    "cell_id": "00009-749d9406-5b14-4ca7-99ec-2b97e1532677",
    "deepnote_cell_type": "code",
    "tags": []
   },
   "source": [
    "## Quant Data\n",
    "\n",
    "First, let quickly vizualize the quantitative data:"
   ]
  },
  {
   "cell_type": "code",
   "execution_count": 26,
   "metadata": {},
   "outputs": [
    {
     "data": {
      "image/png": "[encoded data removed]",
      "text/plain": [
       "<Figure size 1440x1440 with 9 Axes>"
      ]
     },
     "metadata": {
      "needs_background": "light"
     },
     "output_type": "display_data"
    }
   ],
   "source": [
    "# We will be using the list of quant_values\n",
    "# We need to count how many rows we need\n",
    "rowsTot = -(-(len(quant_values)) // 3)\n",
    "\n",
    "# Where we start\n",
    "rowNum=0\n",
    "colNum=0\n",
    "fig, axs = plt.subplots(rowsTot, 3, figsize = (20, 20))\n",
    "\n",
    "for feature in quant_values:\n",
    "    sns.countplot(data = diabetic, y = feature, ax = axs[rowNum, colNum])\n",
    "    axs[rowNum, colNum].set_title(feature + str(rowNum) + str(colNum))\n",
    "    # Col numbers flips between 1 and 2, Rows increase by one\n",
    "    if colNum < 2: \n",
    "        colNum += 1\n",
    "    else:\n",
    "        colNum = 0\n",
    "        rowNum += 1\n",
    "\n",
    "plt.show()"
   ]
  },
  {
   "cell_type": "markdown",
   "metadata": {},
   "source": [
    "### Distribution of all readmission\n",
    "\n",
    "Next we look at the distribution of our outcome, patients readmitted under 30 days."
   ]
  },
  {
   "cell_type": "code",
   "execution_count": 27,
   "metadata": {},
   "outputs": [
    {
     "data": {
      "text/plain": [
       "Text(0.5, 1.0, 'Distribution of Readmission')"
      ]
     },
     "execution_count": 27,
     "metadata": {},
     "output_type": "execute_result"
    },
    {
     "data": {
      "image/png": "[encoded data removed]",
      "text/plain": [
       "<Figure size 432x288 with 1 Axes>"
      ]
     },
     "metadata": {
      "needs_background": "light"
     },
     "output_type": "display_data"
    }
   ],
   "source": [
    "sns.countplot(data = diabetic, y = 'readmitted').set_title('Distribution of Readmission')"
   ]
  },
  {
   "cell_type": "markdown",
   "metadata": {},
   "source": [
    "### Time in Hospital\n",
    "\n",
    "We can look at some of our features and compare them for the patients readmitted, versus those not. In this case, we look at time in hospital."
   ]
  },
  {
   "cell_type": "code",
   "execution_count": 28,
   "metadata": {},
   "outputs": [
    {
     "data": {
      "text/plain": [
       "Text(0.5, 1.0, 'Time in Hospital compared to readmission')"
      ]
     },
     "execution_count": 28,
     "metadata": {},
     "output_type": "execute_result"
    },
    {
     "data": {
      "image/png": "[encoded data removed]",
      "text/plain": [
       "<Figure size 936x504 with 1 Axes>"
      ]
     },
     "metadata": {
      "needs_background": "light"
     },
     "output_type": "display_data"
    }
   ],
   "source": [
    "fig = plt.figure(figsize=(13,7),)\n",
    "ax=sns.kdeplot(diabetic.loc[(diabetic['readmitted'] == 0),'time_in_hospital'] , color='b',shade=True,label='Not Readmitted')\n",
    "ax=sns.kdeplot(diabetic.loc[(diabetic['readmitted'] == 1),'time_in_hospital'] , color='r',shade=True, label='Readmitted')\n",
    "ax.set(xlabel='Time in Hospital', ylabel='Frequency')\n",
    "plt.legend()\n",
    "plt.title('Time in Hospital compared to readmission')"
   ]
  },
  {
   "cell_type": "markdown",
   "metadata": {},
   "source": [
    "# 3. K-mean\n",
    "\n",
    "Next we look to apply clustering algorithms:\n",
    "- first apply K-mean to evaluate the clusters\n",
    "- next apply at least one of the hierarchical clustering"
   ]
  },
  {
   "cell_type": "markdown",
   "metadata": {},
   "source": [
    "## Cluster Sizes\n",
    "\n",
    "First we evaluate different cluster sizes to see how we want to cluster the data."
   ]
  },
  {
   "cell_type": "code",
   "execution_count": 29,
   "metadata": {},
   "outputs": [
    {
     "data": {
      "image/png": "[encoded data removed]",
      "text/plain": [
       "<Figure size 432x288 with 1 Axes>"
      ]
     },
     "metadata": {
      "needs_background": "light"
     },
     "output_type": "display_data"
    }
   ],
   "source": [
    "# k-means clustering\n",
    "inertia = []\n",
    "for n_clusters in range(1, 10):\n",
    "    kmeans = KMeans(n_clusters=n_clusters, random_state=1).fit(diabetic)\n",
    "    inertia.append(kmeans.inertia_ / n_clusters)\n",
    "inertias = pd.DataFrame({'n_clusters': range(1, 10), 'inertia': inertia})\n",
    "ax = inertias.plot(x='n_clusters', y='inertia')\n",
    "plt.xlabel('Number of clusters(k)')\n",
    "plt.ylabel('Average Within-Cluster Squared Distances')\n",
    "plt.ylim((0, 1.1 * inertias.inertia.max()))\n",
    "ax.legend().set_visible(False)\n",
    "plt.show()"
   ]
  },
  {
   "cell_type": "markdown",
   "metadata": {},
   "source": [
    "From reviewing the plot above, we can see that anything 4 clusters and above will have similar results. So we stick with `n=4` for the next steps."
   ]
  },
  {
   "cell_type": "code",
   "execution_count": 30,
   "metadata": {},
   "outputs": [],
   "source": [
    "kmeans = KMeans(n_clusters=4, random_state=0).fit(diabetic)"
   ]
  },
  {
   "cell_type": "code",
   "execution_count": 31,
   "metadata": {},
   "outputs": [
    {
     "data": {
      "text/html": [
       "<div>\n",
       "<style scoped>\n",
       "    .dataframe tbody tr th:only-of-type {\n",
       "        vertical-align: middle;\n",
       "    }\n",
       "\n",
       "    .dataframe tbody tr th {\n",
       "        vertical-align: top;\n",
       "    }\n",
       "\n",
       "    .dataframe thead th {\n",
       "        text-align: right;\n",
       "    }\n",
       "</style>\n",
       "<table border=\"1\" class=\"dataframe\">\n",
       "  <thead>\n",
       "    <tr style=\"text-align: right;\">\n",
       "      <th></th>\n",
       "      <th>time_in_hospital</th>\n",
       "      <th>num_lab_procedures</th>\n",
       "      <th>num_procedures</th>\n",
       "      <th>num_medications</th>\n",
       "      <th>number_outpatient</th>\n",
       "      <th>number_emergency</th>\n",
       "      <th>number_inpatient</th>\n",
       "      <th>number_diagnoses</th>\n",
       "      <th>change</th>\n",
       "      <th>diabetesMed</th>\n",
       "      <th>...</th>\n",
       "      <th>take_pioglitazone</th>\n",
       "      <th>take_rosiglitazone</th>\n",
       "      <th>take_insulin</th>\n",
       "      <th>readmitted</th>\n",
       "      <th>A1C_Abnorm</th>\n",
       "      <th>A1C_Norm</th>\n",
       "      <th>glu_serum_Abnorm</th>\n",
       "      <th>glu_serum_Norm</th>\n",
       "      <th>decade</th>\n",
       "      <th>cluster</th>\n",
       "    </tr>\n",
       "  </thead>\n",
       "  <tbody>\n",
       "    <tr>\n",
       "      <th>0</th>\n",
       "      <td>6.058254</td>\n",
       "      <td>65.792252</td>\n",
       "      <td>1.614653</td>\n",
       "      <td>20.305242</td>\n",
       "      <td>0.431758</td>\n",
       "      <td>0.169009</td>\n",
       "      <td>0.666694</td>\n",
       "      <td>8.145073</td>\n",
       "      <td>0.514991</td>\n",
       "      <td>0.799258</td>\n",
       "      <td>...</td>\n",
       "      <td>0.073433</td>\n",
       "      <td>0.064092</td>\n",
       "      <td>0.595847</td>\n",
       "      <td>0.123097</td>\n",
       "      <td>0.181352</td>\n",
       "      <td>0.083316</td>\n",
       "      <td>0.016805</td>\n",
       "      <td>0.008965</td>\n",
       "      <td>76.819148</td>\n",
       "      <td>Cluster 1</td>\n",
       "    </tr>\n",
       "    <tr>\n",
       "      <th>1</th>\n",
       "      <td>3.271962</td>\n",
       "      <td>12.222082</td>\n",
       "      <td>1.278891</td>\n",
       "      <td>13.482763</td>\n",
       "      <td>0.460772</td>\n",
       "      <td>0.203299</td>\n",
       "      <td>0.522735</td>\n",
       "      <td>7.274482</td>\n",
       "      <td>0.428416</td>\n",
       "      <td>0.760451</td>\n",
       "      <td>...</td>\n",
       "      <td>0.077712</td>\n",
       "      <td>0.066716</td>\n",
       "      <td>0.477036</td>\n",
       "      <td>0.100905</td>\n",
       "      <td>0.026286</td>\n",
       "      <td>0.012198</td>\n",
       "      <td>0.077483</td>\n",
       "      <td>0.094147</td>\n",
       "      <td>71.169969</td>\n",
       "      <td>Cluster 2</td>\n",
       "    </tr>\n",
       "    <tr>\n",
       "      <th>2</th>\n",
       "      <td>3.961168</td>\n",
       "      <td>46.098162</td>\n",
       "      <td>1.300627</td>\n",
       "      <td>15.242401</td>\n",
       "      <td>0.308844</td>\n",
       "      <td>0.327531</td>\n",
       "      <td>0.755611</td>\n",
       "      <td>6.967662</td>\n",
       "      <td>0.480253</td>\n",
       "      <td>0.769747</td>\n",
       "      <td>...</td>\n",
       "      <td>0.064101</td>\n",
       "      <td>0.060523</td>\n",
       "      <td>0.578327</td>\n",
       "      <td>0.105407</td>\n",
       "      <td>0.170613</td>\n",
       "      <td>0.058137</td>\n",
       "      <td>0.017450</td>\n",
       "      <td>0.008835</td>\n",
       "      <td>51.368616</td>\n",
       "      <td>Cluster 3</td>\n",
       "    </tr>\n",
       "    <tr>\n",
       "      <th>3</th>\n",
       "      <td>4.165190</td>\n",
       "      <td>41.095252</td>\n",
       "      <td>1.234686</td>\n",
       "      <td>15.104789</td>\n",
       "      <td>0.338916</td>\n",
       "      <td>0.142319</td>\n",
       "      <td>0.624231</td>\n",
       "      <td>7.550172</td>\n",
       "      <td>0.429047</td>\n",
       "      <td>0.750007</td>\n",
       "      <td>...</td>\n",
       "      <td>0.074412</td>\n",
       "      <td>0.061637</td>\n",
       "      <td>0.482736</td>\n",
       "      <td>0.116740</td>\n",
       "      <td>0.078562</td>\n",
       "      <td>0.039060</td>\n",
       "      <td>0.015453</td>\n",
       "      <td>0.013923</td>\n",
       "      <td>80.636388</td>\n",
       "      <td>Cluster 4</td>\n",
       "    </tr>\n",
       "  </tbody>\n",
       "</table>\n",
       "<p>4 rows × 40 columns</p>\n",
       "</div>"
      ],
      "text/plain": [
       "   time_in_hospital  num_lab_procedures  num_procedures  num_medications  \\\n",
       "0          6.058254           65.792252        1.614653        20.305242   \n",
       "1          3.271962           12.222082        1.278891        13.482763   \n",
       "2          3.961168           46.098162        1.300627        15.242401   \n",
       "3          4.165190           41.095252        1.234686        15.104789   \n",
       "\n",
       "   number_outpatient  number_emergency  number_inpatient  number_diagnoses  \\\n",
       "0           0.431758          0.169009          0.666694          8.145073   \n",
       "1           0.460772          0.203299          0.522735          7.274482   \n",
       "2           0.308844          0.327531          0.755611          6.967662   \n",
       "3           0.338916          0.142319          0.624231          7.550172   \n",
       "\n",
       "     change  diabetesMed  ...  take_pioglitazone  take_rosiglitazone  \\\n",
       "0  0.514991     0.799258  ...           0.073433            0.064092   \n",
       "1  0.428416     0.760451  ...           0.077712            0.066716   \n",
       "2  0.480253     0.769747  ...           0.064101            0.060523   \n",
       "3  0.429047     0.750007  ...           0.074412            0.061637   \n",
       "\n",
       "   take_insulin  readmitted  A1C_Abnorm  A1C_Norm  glu_serum_Abnorm  \\\n",
       "0      0.595847    0.123097    0.181352  0.083316          0.016805   \n",
       "1      0.477036    0.100905    0.026286  0.012198          0.077483   \n",
       "2      0.578327    0.105407    0.170613  0.058137          0.017450   \n",
       "3      0.482736    0.116740    0.078562  0.039060          0.015453   \n",
       "\n",
       "   glu_serum_Norm     decade    cluster  \n",
       "0        0.008965  76.819148  Cluster 1  \n",
       "1        0.094147  71.169969  Cluster 2  \n",
       "2        0.008835  51.368616  Cluster 3  \n",
       "3        0.013923  80.636388  Cluster 4  \n",
       "\n",
       "[4 rows x 40 columns]"
      ]
     },
     "execution_count": 31,
     "metadata": {},
     "output_type": "execute_result"
    },
    {
     "data": {
      "image/png": "[encoded data removed]",
      "text/plain": [
       "<Figure size 720x432 with 1 Axes>"
      ]
     },
     "metadata": {
      "needs_background": "light"
     },
     "output_type": "display_data"
    }
   ],
   "source": [
    "#Plot of centroid\n",
    "centroids = pd.DataFrame(kmeans.cluster_centers_, columns=diabetic.columns)\n",
    "centroids['cluster'] = ['Cluster {}'.format(i+1) for i in centroids.index]\n",
    "\n",
    "fig = plt.figure(figsize=(10,6))\n",
    "fig.subplots_adjust(right=3)\n",
    "ax = parallel_coordinates(centroids, class_column='cluster', colormap='Dark2', linewidth=5)\n",
    "plt.legend(loc='center left', bbox_to_anchor=(0.95, 0.5))\n",
    "plt.xlim(-0.5,7.5)\n",
    "centroids"
   ]
  },
  {
   "cell_type": "markdown",
   "metadata": {},
   "source": [
    "### Hiarchical Clustering\n",
    "\n",
    "From here we start linking clusters, starting from 4."
   ]
  },
  {
   "cell_type": "code",
   "execution_count": null,
   "metadata": {},
   "outputs": [],
   "source": [
    "Z = linkage(diabetic, method='average')\n",
    "\n",
    "fig = plt.figure(figsize=(10, 6))\n",
    "fig.subplots_adjust(bottom=0.23)\n",
    "plt.title('Hierarchical Clustering Dendrogram (Average linkage)')\n",
    "plt.xlabel('Patients')\n",
    "dendrogram(Z, labels=list(diabetic.index), color_threshold=3.9)\n",
    "plt.axhline(y=3.6, color='black', linewidth=0.5, linestyle='dashed')\n",
    "plt.show()"
   ]
  },
  {
   "cell_type": "code",
   "execution_count": null,
   "metadata": {},
   "outputs": [],
   "source": [
    "memb = fcluster(linkage(diabetic, 'average'), 4, criterion='maxclust')\n",
    "memb = pd.Series(memb, index=diabetic.index)\n",
    "#for key, item in memb.groupby(memb):\n",
    "#    print(key, ': ', ', '.join(item.index))"
   ]
  },
  {
   "cell_type": "code",
   "execution_count": null,
   "metadata": {},
   "outputs": [],
   "source": [
    "diabetic.index = ['{}: {}'.format(cluster, state) for cluster, state in zip(memb, diabetic.index)]\n",
    "sns.clustermap(diabetic, method='ward', col_cluster=False,  cmap=\"mako_r\")\n",
    "plt.show()"
   ]
  },
  {
   "cell_type": "markdown",
   "metadata": {},
   "source": [
    "# 4. Predict\n",
    "\n",
    "Predict the outcome of interest following standard steps. We have a discrete outcome variable (Readmitted Yes/No) so we use the following steps:\n",
    "- Partition your data into 60% training and 40% validation. Use seed = 1.*\n",
    "- Create models and run prediction using the following methods:\n",
    "    - Logistic regression (with at least one variable selection or shrinkage technique).\n",
    "    - Classification trees\n",
    "    - Artificial neural networks (e.g., ANN, CNN, or RNN)\n",
    "    \n",
    "### SkLearn Logistic Regression"
   ]
  },
  {
   "cell_type": "code",
   "execution_count": 32,
   "metadata": {},
   "outputs": [],
   "source": [
    "# We first partition our data and prepare our input variables\n",
    "X = diabetic.drop(['readmitted'],axis=1)\n",
    "y = diabetic[\"readmitted\"]\n",
    "X_train, X_test, y_train, y_test = train_test_split(X, y, test_size=0.4, random_state=1)"
   ]
  },
  {
   "cell_type": "markdown",
   "metadata": {},
   "source": [
    "Armed with our input variables, we can run our logistic regression model, us it to run predictions on our data and review the accuracy of our model."
   ]
  },
  {
   "cell_type": "code",
   "execution_count": 33,
   "metadata": {},
   "outputs": [
    {
     "name": "stdout",
     "output_type": "stream",
     "text": [
      "Accuracy is 0.88\n",
      "Precision is 0.45\n",
      "Recall is 0.01\n",
      "Confusion Matrix (Accuracy 0.8844)\n",
      "\n",
      "       Prediction\n",
      "Actual     0     1\n",
      "     0 34627    75\n",
      "     1  4457    62\n"
     ]
    }
   ],
   "source": [
    "logit = LogisticRegression(fit_intercept=True, penalty='l2', max_iter=1000)\n",
    "logit.fit(X_train, y_train)\n",
    "logit_pred = logit.predict(X_test)\n",
    "pd.crosstab(pd.Series(y_test, name = 'Actual'), pd.Series(logit_pred, name = 'Predict'), margins = True)\n",
    "print(\"Accuracy is {0:.2f}\".format(accuracy_score(y_test, logit_pred)))\n",
    "print(\"Precision is {0:.2f}\".format(precision_score(y_test, logit_pred)))\n",
    "print(\"Recall is {0:.2f}\".format(recall_score(y_test, logit_pred)))\n",
    "\n",
    "accuracy_logit = accuracy_score(y_test, logit_pred)\n",
    "precision_logit = precision_score(y_test, logit_pred)\n",
    "recall_logit = recall_score(y_test, logit_pred)\n",
    "summary_logit = classificationSummary(y_test, logit.predict(X_test))\n",
    "\n",
    "logit_proba = logit.predict_proba(X_test)\n",
    "logit_result = pd.DataFrame({'actual': y_test, \n",
    "                                'p(0)': [p[0] for p in logit_proba],\n",
    "                                'p(1)': [p[1] for p in logit_proba],\n",
    "                                'predicted': logit.predict(X_test),\n",
    "                               })\n",
    "logit_result = logit_result.sort_values(by=['p(1)'], ascending=False)"
   ]
  },
  {
   "cell_type": "markdown",
   "metadata": {},
   "source": [
    "### StatsModel Logistic Regression, with variable selection\n",
    "\n",
    "As a second test, I will build a LogisticRegression model, using an approach discovered online. We are going to create a model with all variables, and then remove the variable with the highest p-value. By iterations, we are goind to remove all non-relevant features, until all of our variables have a p-value < 0.05. Function below automates this process."
   ]
  },
  {
   "cell_type": "code",
   "execution_count": 34,
   "metadata": {},
   "outputs": [],
   "source": [
    "def reduction_variable_logit(X_train, y_train, showVarToDel=False) :\n",
    "    final_model = False\n",
    "    var_to_del = []\n",
    "\n",
    "    while (final_model == False) :\n",
    "        with warnings.catch_warnings():\n",
    "            warnings.simplefilter(\"ignore\")\n",
    "            log_reg = sm.Logit(y_train, \n",
    "                               X_train.drop(var_to_del, axis = 1).astype(float)).fit(maxiter = 100, disp = False)\n",
    "        max_pvalue = max(log_reg.pvalues)\n",
    "        if max_pvalue < 0.05 :\n",
    "            final_model = True\n",
    "        else :\n",
    "            varToDel = log_reg.pvalues.index[log_reg.pvalues == max(log_reg.pvalues)].values[0]\n",
    "            if showVarToDel :\n",
    "                print(varToDel + \", p-value = \" + str(max(log_reg.pvalues)))\n",
    "            var_to_del.append(varToDel)\n",
    "    \n",
    "    return log_reg, var_to_del\n",
    "\n",
    "log_reg, var_to_del = reduction_variable_logit(X_train, y_train, False)"
   ]
  },
  {
   "cell_type": "code",
   "execution_count": 35,
   "metadata": {},
   "outputs": [
    {
     "data": {
      "text/plain": [
       "['isFemale',\n",
       " 'take_repaglinide',\n",
       " 'injury_diagnosis',\n",
       " 'take_insulin',\n",
       " 'num_lab_procedures',\n",
       " 'glu_serum_Norm',\n",
       " 'other_diagnosis',\n",
       " 'take_glyburide',\n",
       " 'number_outpatient',\n",
       " 'genitourinary_diagnosis',\n",
       " 'musculoskeletal_diagnosis',\n",
       " 'take_glipizide',\n",
       " 'take_pioglitazone',\n",
       " 'take_glimepiride',\n",
       " 'A1C_Norm',\n",
       " 'glu_serum_Abnorm',\n",
       " 'change',\n",
       " 'take_rosiglitazone',\n",
       " 'circulatory_diagnosis',\n",
       " 'digestive_diagnosis',\n",
       " 'neoplasms_diagnosis']"
      ]
     },
     "execution_count": 35,
     "metadata": {},
     "output_type": "execute_result"
    }
   ],
   "source": [
    "var_to_del"
   ]
  },
  {
   "cell_type": "markdown",
   "metadata": {},
   "source": [
    "We finalize by re-running the SKLearn approach with the reduced variable scope as a verificaton that we've improved the model. This is not really a valid step in any ML analysis workflow but I use it to verify my work and my process."
   ]
  },
  {
   "cell_type": "code",
   "execution_count": 36,
   "metadata": {},
   "outputs": [
    {
     "name": "stdout",
     "output_type": "stream",
     "text": [
      "Accuracy is 0.88\n",
      "Precision is 0.47\n",
      "Recall is 0.01\n"
     ]
    }
   ],
   "source": [
    "newlogit = LogisticRegression(fit_intercept=True, penalty='l2', max_iter=1000)\n",
    "newlogit.fit(X_train.drop(var_to_del, axis = 1), y_train)\n",
    "newlogit_pred = newlogit.predict(X_test.drop(var_to_del, axis = 1))\n",
    "pd.crosstab(pd.Series(y_test, name = 'Actual'), pd.Series(newlogit_pred, name = 'Predict'), margins = True)\n",
    "print(\"Accuracy is {0:.2f}\".format(accuracy_score(y_test, newlogit_pred)))\n",
    "print(\"Precision is {0:.2f}\".format(precision_score(y_test, newlogit_pred)))\n",
    "print(\"Recall is {0:.2f}\".format(recall_score(y_test, newlogit_pred)))\n",
    "\n",
    "accuracy_newlogit = accuracy_score(y_test, newlogit_pred)\n",
    "precision_newlogit = precision_score(y_test, newlogit_pred)\n",
    "recall_newlogit = recall_score(y_test, newlogit_pred)\n",
    "\n",
    "newlogit_proba = newlogit.predict_proba(X_test.drop(var_to_del, axis = 1))\n",
    "newlogit_result = pd.DataFrame({'actual': y_test, \n",
    "                                'p(0)': [p[0] for p in newlogit_proba],\n",
    "                                'p(1)': [p[1] for p in newlogit_proba],\n",
    "                                'predicted': newlogit.predict(X_test.drop(var_to_del, axis = 1)),\n",
    "                               })\n",
    "newlogit_result = newlogit_result.sort_values(by=['p(1)'], ascending=False)"
   ]
  },
  {
   "cell_type": "markdown",
   "metadata": {},
   "source": [
    "### Classification Tree\n",
    "\n",
    "As specific, we then build and test a *Classification Tree* model and compare results."
   ]
  },
  {
   "cell_type": "code",
   "execution_count": 37,
   "metadata": {},
   "outputs": [
    {
     "name": "stdout",
     "output_type": "stream",
     "text": [
      "Accuracy is 0.82\n",
      "Precision is 0.14\n",
      "Recall is 0.11\n"
     ]
    }
   ],
   "source": [
    "#full tree\n",
    "fullClassTree = DecisionTreeClassifier(max_depth=28, criterion = \"entropy\", min_samples_split=10)\n",
    "fullClassTree.fit(X_train, y_train)\n",
    "\n",
    "fullClassTree_pred = fullClassTree.predict(X_test)\n",
    "pd.crosstab(pd.Series(y_test, name = 'Actual'), pd.Series(fullClassTree_pred, name = 'Predict'), margins = True)\n",
    "\n",
    "print(\"Accuracy is {0:.2f}\".format(accuracy_score(y_test, fullClassTree_pred)))\n",
    "print(\"Precision is {0:.2f}\".format(precision_score(y_test, fullClassTree_pred)))\n",
    "print(\"Recall is {0:.2f}\".format(recall_score(y_test, fullClassTree_pred)))\n",
    "\n",
    "accuracy_fulltree = accuracy_score(y_test, fullClassTree_pred)\n",
    "precision_fulltree = precision_score(y_test, fullClassTree_pred)\n",
    "recall_fulltree = recall_score(y_test, fullClassTree_pred)\n",
    "\n",
    "fullClassTree_proba = fullClassTree.predict_proba(X_test)\n",
    "fullClassTree_result = pd.DataFrame({'actual': y_test, \n",
    "                                'p(0)': [p[0] for p in fullClassTree_proba],\n",
    "                                'p(1)': [p[1] for p in fullClassTree_proba],\n",
    "                                'predicted': fullClassTree.predict(X_test),\n",
    "                               })\n",
    "fullClassTree_result = fullClassTree_result.sort_values(by=['p(1)'], ascending=False)"
   ]
  },
  {
   "cell_type": "markdown",
   "metadata": {},
   "source": [
    "### ANN\n",
    "\n",
    "Our third model will use artificial neural networks."
   ]
  },
  {
   "cell_type": "code",
   "execution_count": 38,
   "metadata": {},
   "outputs": [],
   "source": [
    "# create model\n",
    "annmodel = Sequential()\n",
    "annmodel.add(Dense(12, input_dim=38, activation='relu'))\n",
    "annmodel.add(Dense(8, activation='relu'))\n",
    "annmodel.add(Dense(1, activation='sigmoid'))"
   ]
  },
  {
   "cell_type": "code",
   "execution_count": 39,
   "metadata": {},
   "outputs": [],
   "source": [
    "# Compile model\n",
    "annmodel.compile(loss='binary_crossentropy', optimizer='adam', metrics=['accuracy'])"
   ]
  },
  {
   "cell_type": "code",
   "execution_count": 40,
   "metadata": {},
   "outputs": [
    {
     "name": "stdout",
     "output_type": "stream",
     "text": [
      "Neural Network Model Summary: \n",
      "Model: \"sequential\"\n",
      "_________________________________________________________________\n",
      "Layer (type)                 Output Shape              Param #   \n",
      "=================================================================\n",
      "dense (Dense)                (None, 12)                468       \n",
      "_________________________________________________________________\n",
      "dense_1 (Dense)              (None, 8)                 104       \n",
      "_________________________________________________________________\n",
      "dense_2 (Dense)              (None, 1)                 9         \n",
      "=================================================================\n",
      "Total params: 581\n",
      "Trainable params: 581\n",
      "Non-trainable params: 0\n",
      "_________________________________________________________________\n",
      "None\n"
     ]
    }
   ],
   "source": [
    "#print model summary\n",
    "print('Neural Network Model Summary: ')\n",
    "print(annmodel.summary())"
   ]
  },
  {
   "cell_type": "code",
   "execution_count": 41,
   "metadata": {},
   "outputs": [],
   "source": [
    "# Fix int to np.int so they fit in Tensor\n",
    "X_ann=np.asarray(X).astype(np.int)\n",
    "y_ann=np.asarray(y).astype(np.int)\n",
    "X_train_ann=np.asarray(X_test).astype(np.int)\n",
    "y_train_ann=np.asarray(y_test).astype(np.int)\n",
    "X_test_ann=np.asarray(X_test).astype(np.int)\n",
    "y_test_ann=np.asarray(y_test).astype(np.int)"
   ]
  },
  {
   "cell_type": "code",
   "execution_count": 42,
   "metadata": {},
   "outputs": [],
   "source": [
    "# Fit the model; set verbose to 1 or 2 to see the training metrics in each epoch\n",
    "history = annmodel.fit(X_ann, y_ann, validation_split=0.40, epochs=100, batch_size=2000, verbose=0)"
   ]
  },
  {
   "cell_type": "code",
   "execution_count": 43,
   "metadata": {},
   "outputs": [
    {
     "data": {
      "image/png": "[encoded data removed]",
      "text/plain": [
       "<Figure size 432x288 with 1 Axes>"
      ]
     },
     "metadata": {
      "needs_background": "light"
     },
     "output_type": "display_data"
    }
   ],
   "source": [
    "# summarize history for accuracy\n",
    "plt.plot(history.history['accuracy'])\n",
    "plt.plot(history.history['val_accuracy'])\n",
    "plt.title('model accuracy')\n",
    "plt.ylabel('accuracy')\n",
    "plt.xlabel('epoch')\n",
    "plt.legend(['train', 'test'], loc='upper left')\n",
    "plt.show()"
   ]
  },
  {
   "cell_type": "code",
   "execution_count": 44,
   "metadata": {},
   "outputs": [
    {
     "data": {
      "image/png": "[encoded data removed]",
      "text/plain": [
       "<Figure size 432x288 with 1 Axes>"
      ]
     },
     "metadata": {
      "needs_background": "light"
     },
     "output_type": "display_data"
    }
   ],
   "source": [
    "# summarize history for loss\n",
    "plt.plot(history.history['loss'])\n",
    "plt.plot(history.history['val_loss'])\n",
    "plt.title('model loss')\n",
    "plt.ylabel('loss')\n",
    "plt.xlabel('epoch')\n",
    "plt.legend(['train', 'test'], loc='upper left')\n",
    "plt.show()"
   ]
  },
  {
   "cell_type": "markdown",
   "metadata": {},
   "source": [
    "# 5. Performance Review\n",
    "\n",
    "Next we judge the performance of various supervised techniques that we applied to the dataset. We look to:\n",
    "- Print the confusion matrix and the accuracy rate for each technique\n",
    "- Plot Gains and Lift charts for binary data\n",
    "- Plot the ROC (combine all measures in one graph)\n",
    "\n",
    "### Confusion Matrix and the Accuracy Rate "
   ]
  },
  {
   "cell_type": "code",
   "execution_count": 45,
   "metadata": {},
   "outputs": [
    {
     "name": "stdout",
     "output_type": "stream",
     "text": [
      "Confusion Matrix and acccuracy for Logistic Regression:\n",
      "Confusion Matrix (Accuracy 0.8844)\n",
      "\n",
      "       Prediction\n",
      "Actual     0     1\n",
      "     0 34627    75\n",
      "     1  4457    62\n",
      "-----------------------------------------------------------\n",
      "Confusion Matrix and acccuracy for LogReg reduced:\n",
      "Confusion Matrix (Accuracy 0.8846)\n",
      "\n",
      "       Prediction\n",
      "Actual     0     1\n",
      "     0 34631    71\n",
      "     1  4457    62\n",
      "\n",
      "-----------------------------------------------------------\n",
      "Confusion Matrix and acccuracy for LogReg reduced:\n",
      "Confusion Matrix (Accuracy 0.8227)\n",
      "\n",
      "       Prediction\n",
      "Actual     0     1\n",
      "     0 31781  2921\n",
      "     1  4031   488\n",
      "\n",
      "-----------------------------------------------------------\n",
      "Acccuracy for ANN model:\n"
     ]
    },
    {
     "data": {
      "text/plain": [
       "0.8918691277503967"
      ]
     },
     "execution_count": 45,
     "metadata": {},
     "output_type": "execute_result"
    }
   ],
   "source": [
    "print(\"Confusion Matrix and acccuracy for Logistic Regression:\")\n",
    "classificationSummary(logit_result.actual, logit_result.predicted)\n",
    "\n",
    "print(\"-----------------------------------------------------------\")\n",
    "print(\"Confusion Matrix and acccuracy for LogReg reduced:\")\n",
    "classificationSummary(newlogit_result.actual, newlogit_result.predicted)\n",
    "print(\"\")\n",
    "print(\"-----------------------------------------------------------\")\n",
    "print(\"Confusion Matrix and acccuracy for LogReg reduced:\")\n",
    "classificationSummary(fullClassTree_result.actual, fullClassTree_result.predicted)\n",
    "print(\"\")\n",
    "print(\"-----------------------------------------------------------\")\n",
    "print(\"Acccuracy for ANN model:\")\n",
    "\n",
    "history.history['val_accuracy'][-1]"
   ]
  },
  {
   "cell_type": "markdown",
   "metadata": {},
   "source": [
    "### Gains and Lift charts"
   ]
  },
  {
   "cell_type": "code",
   "execution_count": 46,
   "metadata": {},
   "outputs": [
    {
     "data": {
      "image/png": "[encoded data removed]",
      "text/plain": [
       "<Figure size 360x360 with 1 Axes>"
      ]
     },
     "metadata": {
      "needs_background": "light"
     },
     "output_type": "display_data"
    }
   ],
   "source": [
    "ax = gainsChart(logit_result.actual, label='Full model', color='C1', figsize=[5, 5])\n",
    "ax = gainsChart(newlogit_result.actual, label='Reduced model', color='C0', ax=ax)\n",
    "ax = gainsChart(fullClassTree_result.actual, label='Classification model', color='C2', ax=ax)\n",
    "ax.legend()\n",
    "plt.show()"
   ]
  },
  {
   "cell_type": "code",
   "execution_count": 47,
   "metadata": {},
   "outputs": [
    {
     "data": {
      "image/png": "[encoded data removed]",
      "text/plain": [
       "<Figure size 720x720 with 3 Axes>"
      ]
     },
     "metadata": {
      "needs_background": "light"
     },
     "output_type": "display_data"
    }
   ],
   "source": [
    "\n",
    "fig, axs = plt.subplots(1, 3, figsize = (10, 10))\n",
    "\n",
    "liftChart(logit_result['p(1)'], title='Full Model', labelBars=False, ax=axs[0])\n",
    "liftChart(newlogit_result['p(1)'], title='Reduced model', labelBars=False, ax=axs[1])\n",
    "liftChart(fullClassTree_result['p(1)'], title='Classification model', labelBars=False, ax=axs[2])\n",
    "ax.legend()\n",
    "plt.tight_layout()\n",
    "plt.show()\n"
   ]
  },
  {
   "cell_type": "markdown",
   "metadata": {},
   "source": [
    "### ROC Curves & AUC"
   ]
  },
  {
   "cell_type": "code",
   "execution_count": 48,
   "metadata": {},
   "outputs": [
    {
     "data": {
      "image/png": "[encoded data removed]",
      "text/plain": [
       "<Figure size 504x504 with 1 Axes>"
      ]
     },
     "metadata": {
      "needs_background": "light"
     },
     "output_type": "display_data"
    }
   ],
   "source": [
    "pred_y1 = logit.predict_proba(X_test)[:,1]  #Logistic Regression\n",
    "pred_y2 = newlogit.predict_proba(X_test.drop(var_to_del, axis=1))[:,1] # Log Reg w/ Reduced variables\n",
    "pred_y3 = fullClassTree.predict_proba(X_test)[:,1] # Classification Regression\n",
    "pred_y4 = annmodel.predict(X_test_ann) # keras ANN\n",
    "\n",
    "fpr1, tpr1, threshold1 = roc_curve(y_test,pred_y1)\n",
    "fpr2, tpr2, threshold2 = roc_curve(y_test,pred_y2)\n",
    "fpr3, tpr3, threshold3 = roc_curve(y_test,pred_y3)\n",
    "fpr4, tpr4, threshold4 = roc_curve(y_test,pred_y4)\n",
    "\n",
    "roc_auc1 = auc(fpr1, tpr1)\n",
    "roc_auc2 = auc(fpr2, tpr2)\n",
    "roc_auc3 = auc(fpr3, tpr3)\n",
    "roc_auc4 = auc(fpr4, tpr4)\n",
    "\n",
    "plt.figure(figsize=(7,7))\n",
    "plt.title('Receiver Operating Characteristic')\n",
    "plt.plot(fpr1, tpr1, 'b', label = 'AUC Sklearn Logit= %0.2f' % roc_auc1)\n",
    "plt.plot(fpr2, tpr2, 'y', label = 'AUC Sklearn Log Red= %0.2f' % roc_auc2)\n",
    "plt.plot(fpr3, tpr3, 'r', label = 'AUC Classification= %0.2f' % roc_auc3)\n",
    "plt.plot(fpr4, tpr4, 'g', label = 'AUC Keras-ANN= %0.2f' % roc_auc4)\n",
    "plt.legend(loc = 'lower right')\n",
    "plt.plot([0, 1], [0, 1],'r--')\n",
    "plt.xlim([0, 1])\n",
    "plt.ylim([0, 1])\n",
    "plt.ylabel('True Positive Rate')\n",
    "plt.xlabel('False Positive Rate')\n",
    "plt.show()"
   ]
  }
 ],
 "metadata": {
  "deepnote": {},
  "deepnote_execution_queue": [],
  "deepnote_notebook_id": "bc54f128-ca63-4bcc-af01-0744f0e91670",
  "kernelspec": {
   "display_name": "Python 3",
   "language": "python",
   "name": "python3"
  },
  "language_info": {
   "codemirror_mode": {
    "name": "ipython",
    "version": 3
   },
   "file_extension": ".py",
   "mimetype": "text/x-python",
   "name": "python",
   "nbconvert_exporter": "python",
   "pygments_lexer": "ipython3",
   "version": "3.8.6"
  }
 },
 "nbformat": 4,
 "nbformat_minor": 4
}
